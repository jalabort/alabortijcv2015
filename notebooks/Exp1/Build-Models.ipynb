{
 "metadata": {
  "name": "",
  "signature": "sha256:e39434ac1c6207909f8b0660f2b6e2fde44b51842e43b6dd08bb9d87f8450eff"
 },
 "nbformat": 3,
 "nbformat_minor": 0,
 "worksheets": [
  {
   "cells": [
    {
     "cell_type": "code",
     "collapsed": false,
     "input": [
      "%matplotlib inline\n",
      "%pylab inline"
     ],
     "language": "python",
     "metadata": {},
     "outputs": []
    },
    {
     "cell_type": "heading",
     "level": 1,
     "metadata": {},
     "source": [
      "Load training data"
     ]
    },
    {
     "cell_type": "code",
     "collapsed": false,
     "input": [
      "import menpo.io as mio\n",
      "from menpo.landmark import labeller, ibug_face_49\n",
      "from menpofast.utils import convert_from_menpo\n",
      "\n",
      "path = '/data/'\n",
      "group = 'ibug_face_49'\n",
      "\n",
      "training_images = []\n",
      "for i in mio.import_images(path + 'PhD/DataBases/faces/lfpw/trainset/',\n",
      "                           verbose=True, max_images=None):\n",
      "    \n",
      "    # convert the image from menpo Image to menpofast Image (channels at front)\n",
      "    i = convert_from_menpo(i)\n",
      "    \n",
      "    labeller(i, 'PTS', eval(group))\n",
      "    i.crop_to_landmarks_proportion_inplace(0.5, group='PTS')\n",
      "    i = i.rescale_landmarks_to_diagonal_range(150, group=group)\n",
      "    \n",
      "    if i.n_channels == 3:\n",
      "        i = i.as_greyscale(mode='average')\n",
      "    training_images.append(i)"
     ],
     "language": "python",
     "metadata": {},
     "outputs": []
    },
    {
     "cell_type": "code",
     "collapsed": false,
     "input": [
      "for i in mio.import_images(path + 'PhD/DataBases/faces/helen/trainset/',\n",
      "                           verbose=True, max_images=None):\n",
      "    \n",
      "    # convert the image from menpo Image to menpofast Image (channels at front)\n",
      "    i = convert_from_menpo(i)\n",
      "    \n",
      "    labeller(i, 'PTS', eval(group))\n",
      "    i.crop_to_landmarks_proportion_inplace(0.5, group='PTS')\n",
      "    i = i.rescale_landmarks_to_diagonal_range(150, group=group)\n",
      "    \n",
      "    if i.n_channels == 3:\n",
      "        i = i.as_greyscale(mode='average')\n",
      "    training_images.append(i)"
     ],
     "language": "python",
     "metadata": {},
     "outputs": []
    },
    {
     "cell_type": "code",
     "collapsed": false,
     "input": [
      "for i in mio.import_images(path + 'PhD/DataBases/faces/ibug/',\n",
      "                           verbose=True, max_images=None):\n",
      "    \n",
      "    # convert the image from menpo Image to menpofast Image (channels at front)\n",
      "    i = convert_from_menpo(i)\n",
      "    \n",
      "    labeller(i, 'PTS', eval(group))\n",
      "    i.crop_to_landmarks_proportion_inplace(0.5, group='PTS')\n",
      "    i = i.rescale_landmarks_to_diagonal_range(150, group=group)\n",
      "    \n",
      "    if i.n_channels == 3:\n",
      "        i = i.as_greyscale(mode='average')\n",
      "    training_images.append(i)"
     ],
     "language": "python",
     "metadata": {},
     "outputs": []
    },
    {
     "cell_type": "code",
     "collapsed": false,
     "input": [
      "from menpo.visualize import visualize_images\n",
      "\n",
      "visualize_images(training_images)"
     ],
     "language": "python",
     "metadata": {},
     "outputs": []
    },
    {
     "cell_type": "heading",
     "level": 1,
     "metadata": {},
     "source": [
      "Active Appearance Models"
     ]
    },
    {
     "cell_type": "heading",
     "level": 2,
     "metadata": {},
     "source": [
      "Global PWA"
     ]
    },
    {
     "cell_type": "code",
     "collapsed": false,
     "input": [
      "from menpofit.transform import DifferentiablePiecewiseAffine\n",
      "from menpofast.feature import no_op\n",
      "from alabortijcv2015.aam import GlobalAAMBuilder\n",
      "from alabortijcv2015.utils import pickle_dump\n",
      "    \n",
      "aam = GlobalAAMBuilder(transform=DifferentiablePiecewiseAffine,\n",
      "                       features=no_op,\n",
      "                       diagonal=120,\n",
      "                       normalize_parts=False,\n",
      "                       scales=(1, .5),\n",
      "                       max_shape_components=25,\n",
      "                       max_appearance_components=250).build(training_images,\n",
      "                                                            group=group,\n",
      "                                                            verbose=True)\n",
      "    \n",
      "pickle_dump(aam, path + 'PhD/Models/ijcv2015/global_pwa_exp1_fast_int')"
     ],
     "language": "python",
     "metadata": {},
     "outputs": []
    },
    {
     "cell_type": "heading",
     "level": 2,
     "metadata": {},
     "source": [
      "Global TPS"
     ]
    },
    {
     "cell_type": "code",
     "collapsed": false,
     "input": [
      "from menpofit.transform import DifferentiableThinPlateSplines\n",
      "from menpofast.feature import no_op\n",
      "from alabortijcv2015.aam import GlobalAAMBuilder\n",
      "from alabortijcv2015.utils import pickle_dump\n",
      "    \n",
      "aam = GlobalAAMBuilder(transform=DifferentiableThinPlateSplines,\n",
      "                       features=no_op,\n",
      "                       diagonal=120,\n",
      "                       normalize_parts=False,\n",
      "                       scales=(1, .5),\n",
      "                       max_shape_components=25,\n",
      "                       max_appearance_components=250).build(training_images,\n",
      "                                                            group=group,\n",
      "                                                            verbose=True)\n",
      "    \n",
      "pickle_dump(aam, path + 'PhD/Models/ijcv2015/global_TPS_exp1_fast_int')"
     ],
     "language": "python",
     "metadata": {},
     "outputs": []
    },
    {
     "cell_type": "heading",
     "level": 2,
     "metadata": {},
     "source": [
      "Patch"
     ]
    },
    {
     "cell_type": "code",
     "collapsed": false,
     "input": [
      "from menpofast.feature import no_op\n",
      "from alabortijcv2015.aam import PatchAAMBuilder\n",
      "from alabortijcv2015.utils import pickle_dump\n",
      "    \n",
      "aam = PatchAAMBuilder(features=no_op,\n",
      "                      diagonal=120,\n",
      "                      normalize_parts=False,\n",
      "                      scales=(1, .5),\n",
      "                      max_shape_components=25,\n",
      "                      max_appearance_components=250).build(training_images,\n",
      "                                                           group=group,\n",
      "                                                           verbose=True)\n",
      "    \n",
      "pickle_dump(aam, path + 'PhD/Models/ijcv2015/patch_exp1_fast_int')"
     ],
     "language": "python",
     "metadata": {},
     "outputs": []
    },
    {
     "cell_type": "heading",
     "level": 2,
     "metadata": {},
     "source": [
      "Linear PWA"
     ]
    },
    {
     "cell_type": "code",
     "collapsed": false,
     "input": [
      "from menpofit.transform import DifferentiablePiecewiseAffine\n",
      "from menpofast.feature import no_op\n",
      "from alabortijcv2015.aam import LinearAAMBuilder\n",
      "from alabortijcv2015.utils import pickle_dump\n",
      "    \n",
      "aam = LinearAAMBuilder(transform=DifferentiablePiecewiseAffine,\n",
      "                       features=no_op,\n",
      "                       diagonal=120,\n",
      "                       normalize_parts=False,\n",
      "                       scales=(1, .5),\n",
      "                       max_shape_components=25,\n",
      "                       max_appearance_components=250).build(training_images,\n",
      "                                                            group=group,\n",
      "                                                            verbose=True)\n",
      "    \n",
      "pickle_dump(aam, path + 'PhD/Models/ijcv2015/linear_PWA_exp1_fast_int')"
     ],
     "language": "python",
     "metadata": {},
     "outputs": []
    },
    {
     "cell_type": "heading",
     "level": 2,
     "metadata": {},
     "source": [
      "Linear TPS"
     ]
    },
    {
     "cell_type": "code",
     "collapsed": false,
     "input": [
      "from menpofit.transform import DifferentiableThinPlateSplines\n",
      "from menpofast.feature import no_op\n",
      "from alabortijcv2015.aam import LinearAAMBuilder\n",
      "from alabortijcv2015.utils import pickle_dump\n",
      "    \n",
      "aam = LinearAAMBuilder(transform=DifferentiableThinPlateSplines,\n",
      "                       features=no_op,\n",
      "                       diagonal=120,\n",
      "                       normalize_parts=False,\n",
      "                       scales=(1, .5),\n",
      "                       max_shape_components=25,\n",
      "                       max_appearance_components=250).build(training_images,\n",
      "                                                            group=group,\n",
      "                                                            verbose=True)\n",
      "    \n",
      "pickle_dump(aam, path + 'PhD/Models/ijcv2015/linear_TPS_exp1_fast_int')"
     ],
     "language": "python",
     "metadata": {},
     "outputs": []
    },
    {
     "cell_type": "heading",
     "level": 2,
     "metadata": {},
     "source": [
      "Linear Patch"
     ]
    },
    {
     "cell_type": "code",
     "collapsed": false,
     "input": [
      "from menpofast.feature import no_op\n",
      "from alabortijcv2015.aam import LinearPatchAAMBuilder\n",
      "from alabortijcv2015.utils import pickle_dump\n",
      "    \n",
      "aam = LinearPatchAAMBuilder(features=no_op,\n",
      "                            diagonal=120,\n",
      "                            normalize_parts=False,\n",
      "                            scales=(1, .5),\n",
      "                            max_shape_components=25,\n",
      "                            max_appearance_components=250).build(training_images,\n",
      "                                                                 group=group,\n",
      "                                                                 verbose=True)\n",
      "    \n",
      "pickle_dump(aam, path + 'PhD/Models/ijcv2015/linear_patch__exp1_fast_int')"
     ],
     "language": "python",
     "metadata": {},
     "outputs": []
    },
    {
     "cell_type": "heading",
     "level": 2,
     "metadata": {},
     "source": [
      "Parts"
     ]
    },
    {
     "cell_type": "code",
     "collapsed": false,
     "input": [
      "from menpofast.feature import no_op\n",
      "from alabortijcv2015.aam import PartsAAMBuilder\n",
      "from alabortijcv2015.utils import pickle_dump\n",
      "    \n",
      "aam = PartsAAMBuilder(parts_shape=(17, 17),\n",
      "                     features=no_op,\n",
      "                     diagonal=120,\n",
      "                     normalize_parts=False,\n",
      "                     scales=(1, .5),\n",
      "                     max_shape_components=25,\n",
      "                     max_appearance_components=250).build(training_images,\n",
      "                                                          group=group,\n",
      "                                                          verbose=True)\n",
      "    \n",
      "pickle_dump(aam, path + 'PhD/Models/ijcv2015/parts_exp1_fast_int')"
     ],
     "language": "python",
     "metadata": {},
     "outputs": []
    }
   ],
   "metadata": {}
  }
 ]
}