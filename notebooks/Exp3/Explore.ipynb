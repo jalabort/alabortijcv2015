{
 "metadata": {
  "name": "",
  "signature": "sha256:3a48c2aba4276c559e05a0808c098217ccf74fcd62702a8b54b6792ad0dd4598"
 },
 "nbformat": 3,
 "nbformat_minor": 0,
 "worksheets": [
  {
   "cells": [
    {
     "cell_type": "code",
     "collapsed": false,
     "input": [
      "%matplotlib inline\n",
      "%pylab inline"
     ],
     "language": "python",
     "metadata": {},
     "outputs": []
    },
    {
     "cell_type": "heading",
     "level": 1,
     "metadata": {},
     "source": [
      "Load Results"
     ]
    },
    {
     "cell_type": "code",
     "collapsed": false,
     "input": [
      "from alabortijcv2015.utils import pickle_load\n",
      "\n",
      "path = '/data/'\n",
      "db = 'lfpw'\n",
      "aam_type = 'PartsAAM'\n",
      "noise_std = [None, 0, 0.02, 0.04, 0.06]\n",
      "\n",
      "sicn, sfcn, ssc, sbc = [], [], [], []\n",
      "aicn, afcn, asc, abc = [], [], [], []\n",
      "bicn, bfcn, bsc, bbc = [], [], [], []\n",
      "\n",
      "for n in noise_std:\n",
      "    sicn.append(pickle_load(path + 'PhD/Results/ijcv2015/exp3_int_' + aam_type + '_SICN_' + db + '_' + str(n)))\n",
      "    sfcn.append(pickle_load(path + 'PhD/Results/ijcv2015/exp3_int_' + aam_type + '_SFCN_' + db + '_' + str(n)))\n",
      "    ssc.append(pickle_load(path + 'PhD/Results/ijcv2015/exp3_int_' + aam_type + '_SSC_' + db + '_' + str(n)))\n",
      "    sbc.append(pickle_load(path + 'PhD/Results/ijcv2015/exp3_int_' + aam_type + '_SBC_' + db + '_' + str(n)))\n",
      "    \n",
      "    aicn.append(pickle_load(path + 'PhD/Results/ijcv2015/exp3_int_' + aam_type + '_AICN_' + db + '_' + str(n)))\n",
      "    afcn.append(pickle_load(path + 'PhD/Results/ijcv2015/exp3_int_' + aam_type + '_AFCN_' + db + '_' + str(n)))\n",
      "    asc.append(pickle_load(path + 'PhD/Results/ijcv2015/exp3_int_' + aam_type + '_ASC_' + db + '_' + str(n)))\n",
      "    abc.append(pickle_load(path + 'PhD/Results/ijcv2015/exp3_int_' + aam_type + '_ABC_' + db + '_' + str(n)))\n",
      "    \n",
      "    bicn.append(pickle_load(path + 'PhD/Results/ijcv2015/exp3_int_' + aam_type + '_BICN_' + db + '_' + str(n)))\n",
      "    bfcn.append(pickle_load(path + 'PhD/Results/ijcv2015/exp3_int_' + aam_type + '_BFCN_' + db + '_' + str(n)))\n",
      "    bsc.append(pickle_load(path + 'PhD/Results/ijcv2015/exp3_int_' + aam_type + '_BSC_' + db + '_' + str(n)))\n",
      "    bbc.append(pickle_load(path + 'PhD/Results/ijcv2015/exp3_int_' + aam_type + '_BBC_' + db + '_' + str(n)))\n",
      "                            \n",
      "    \n",
      "results = [sicn, sfcn, ssc, sbc,\n",
      "           aicn, afcn, asc, abc,\n",
      "           bicn, bfcn, bsc, bbc]"
     ],
     "language": "python",
     "metadata": {},
     "outputs": []
    },
    {
     "cell_type": "heading",
     "level": 1,
     "metadata": {},
     "source": [
      "Graph 1"
     ]
    },
    {
     "cell_type": "code",
     "collapsed": false,
     "input": [
      "all_errors = []\n",
      "\n",
      "for fitter_results in results:\n",
      "    mean_errors = []\n",
      "    for frs in fitter_results:\n",
      "        errors = [fr.final_error() for fr in frs]\n",
      "        mean_error = np.median(errors)\n",
      "        mean_errors.append(mean_error)\n",
      "    all_errors.append(mean_errors)\n",
      "    \n",
      "all_errors = np.asarray(all_errors)\n",
      "x_values = [-0.01] + noise_std[1:]"
     ],
     "language": "python",
     "metadata": {},
     "outputs": []
    },
    {
     "cell_type": "code",
     "collapsed": false,
     "input": [
      "plot(x_values, all_errors[:, n].T, linewidth=1, marker='o', ms=5)\n",
      "\n",
      "legend_entries = ['SICN', 'SFCN', 'SSC', 'SBC', \n",
      "                  'AICN', 'AFCN', 'ASC', 'ABC', \n",
      "                  'BICN', 'BFCN', 'BSC', 'BBC']\n",
      "legend(legend_entries, bbox_to_anchor=(1.3, 1.025))\n",
      "xlabel('Initialization')\n",
      "ylabel('Mean Normalized Point-to-Point Error')"
     ],
     "language": "python",
     "metadata": {},
     "outputs": []
    },
    {
     "cell_type": "heading",
     "level": 1,
     "metadata": {},
     "source": [
      "Graph 2"
     ]
    },
    {
     "cell_type": "code",
     "collapsed": false,
     "input": [
      "all_errors = []\n",
      "\n",
      "for fitter_results in results:\n",
      "    mean_errors = []\n",
      "    for frs in fitter_results:\n",
      "        errors = [fr.errors() for fr in frs]\n",
      "        mean_errors.append(np.mean(errors, axis=0))\n",
      "    all_errors.append(mean_errors)\n",
      "    \n",
      "all_errors = np.asarray(all_errors)\n",
      "x_values = xrange(0, fr.n_iters + 2)"
     ],
     "language": "python",
     "metadata": {},
     "outputs": []
    },
    {
     "cell_type": "code",
     "collapsed": false,
     "input": [
      "n = 4\n",
      "\n",
      "plot(x_values, all_errors[:, n].T, linewidth=1, marker='o', ms=5)\n",
      "\n",
      "legend_entries = ['SICN', 'SFCN', 'SSC', 'SBC', \n",
      "                  'AICN', 'AFCN', 'ASC', 'ABC', \n",
      "                  'BICN', 'BFCN', 'BSC', 'BBC']\n",
      "legend(legend_entries, bbox_to_anchor=(1.3, 1.025))\n",
      "xlabel('Iteration')\n",
      "ylabel('Mean Normalized Point-to-Point Error')"
     ],
     "language": "python",
     "metadata": {},
     "outputs": []
    },
    {
     "cell_type": "heading",
     "level": 1,
     "metadata": {},
     "source": [
      "Graph 3"
     ]
    },
    {
     "cell_type": "code",
     "collapsed": false,
     "input": [
      "all_costs = []\n",
      "\n",
      "for fitter_results in results:\n",
      "    mean_costs = []\n",
      "    for frs in fitter_results:\n",
      "        costs = [fr.costs() for fr in frs]\n",
      "        mean_costs.append(np.mean(costs, axis=0))\n",
      "    all_costs.append(mean_costs)\n",
      "    \n",
      "all_costs = np.asarray(all_costs)\n",
      "x_values = xrange(0, fr.n_iters + 2)"
     ],
     "language": "python",
     "metadata": {},
     "outputs": []
    },
    {
     "cell_type": "code",
     "collapsed": false,
     "input": [
      "n = 4\n",
      "\n",
      "plot(x_values, all_costs[:, n].T, linewidth=2, marker='o', ms=10)\n",
      "\n",
      "legend_entries = ['SICN', 'SFCN', 'SSC', 'SBC', \n",
      "                  'AICN', 'AFCN', 'ASC', 'ABC', \n",
      "                  'BICN', 'BFCN', 'BSC', 'BBC']\n",
      "legend(legend_entries, bbox_to_anchor=(1.3, 1.025))\n",
      "xlabel('Iteration')\n",
      "ylabel('Mean Normalized Point-to-Point Error')"
     ],
     "language": "python",
     "metadata": {},
     "outputs": []
    },
    {
     "cell_type": "heading",
     "level": 1,
     "metadata": {},
     "source": [
      "Explore Results"
     ]
    },
    {
     "cell_type": "heading",
     "level": 3,
     "metadata": {},
     "source": [
      "CED per Algorithm"
     ]
    },
    {
     "cell_type": "code",
     "collapsed": false,
     "input": [
      "j = 0\n",
      "\n",
      "errors = [[fr.initial_error() for fr in results[j][0]]]\n",
      "for fitter_results in results[j]:\n",
      "    errors.append([fr.final_error() for fr in fitter_results])"
     ],
     "language": "python",
     "metadata": {},
     "outputs": []
    },
    {
     "cell_type": "code",
     "collapsed": false,
     "input": [
      "from menpofit.visualize import plot_ced\n",
      "\n",
      "legend_entries = ['proj',\n",
      "                  'gt',\n",
      "                  '0.00',\n",
      "                  '0.02',\n",
      "                  '0.04',\n",
      "                  '0.06']\n",
      "\n",
      "plot_ced(errors[1:], legend_entries=legend_entries[1:])"
     ],
     "language": "python",
     "metadata": {},
     "outputs": []
    },
    {
     "cell_type": "heading",
     "level": 3,
     "metadata": {},
     "source": [
      "Statistics per Algorithm"
     ]
    },
    {
     "cell_type": "code",
     "collapsed": false,
     "input": [
      "from __future__ import division\n",
      "\n",
      "print '\\t', 'Mean \\t', 'STD \\t', 'Median \\t', 'Convergence \\t'\n",
      "\n",
      "for err, method in zip(errors, legend_entries):\n",
      "    print method, '\\t', \n",
      "    print np.round(np.mean(err), decimals=4), '\\t', \n",
      "    print np.round(np.std(err), decimals=4), '\\t', \n",
      "    print np.round(np.median(err), decimals=4), '\\t',\n",
      "    \n",
      "    c = 0\n",
      "    for e, ini_e in zip(err, errors[0]):\n",
      "        if e < ini_e:\n",
      "            c+=1\n",
      "        \n",
      "    print np.round(c / len(err), decimals=4)"
     ],
     "language": "python",
     "metadata": {},
     "outputs": []
    }
   ],
   "metadata": {}
  }
 ]
}