{
 "metadata": {
  "name": "",
  "signature": "sha256:b24b80f79bbf72eab4e01a828d609c783fd023878560697b16f89b02721eb264"
 },
 "nbformat": 3,
 "nbformat_minor": 0,
 "worksheets": [
  {
   "cells": [
    {
     "cell_type": "code",
     "collapsed": false,
     "input": [
      "%matplotlib inline\n",
      "%pylab inline"
     ],
     "language": "python",
     "metadata": {},
     "outputs": []
    },
    {
     "cell_type": "code",
     "collapsed": false,
     "input": [
      "repeat = 3"
     ],
     "language": "python",
     "metadata": {},
     "outputs": []
    },
    {
     "cell_type": "heading",
     "level": 1,
     "metadata": {},
     "source": [
      "Load test data"
     ]
    },
    {
     "cell_type": "code",
     "collapsed": false,
     "input": [
      "import menpo.io as mio\n",
      "from menpo.landmark import labeller, ibug_face_49\n",
      "from menpofast.utils import convert_from_menpo\n",
      "\n",
      "path = '/Users/joan/'\n",
      "group = 'ibug_face_49'\n",
      "\n",
      "test_images = []\n",
      "for i in mio.import_images(path + 'PhD/DataBases/faces/lfpw/testset', \n",
      "                           verbose=True, max_images=None):\n",
      "    \n",
      "    # convert the image from menpo Image to menpofast Image (channels at front)\n",
      "    i = convert_from_menpo(i)\n",
      "    \n",
      "    labeller(i, 'PTS', eval(group))\n",
      "    i.crop_to_landmarks_proportion_inplace(0.5, group='PTS')\n",
      "    i = i.rescale_landmarks_to_diagonal_range(150, group=group)\n",
      "    \n",
      "    if i.n_channels == 3:\n",
      "        i = i.as_greyscale(mode='average')\n",
      "    test_images.append(i)"
     ],
     "language": "python",
     "metadata": {},
     "outputs": []
    },
    {
     "cell_type": "code",
     "collapsed": false,
     "input": [
      "#for i in mio.import_images(path + 'PhD/DataBases/faces/helen/testset', verbose=True, \n",
      "#                           max_images=None):\n",
      "    \n",
      "#    # convert the image from menpo Image to menpofast Image (channels at front)\n",
      "#    i = convert_from_menpo(i)\n",
      "    \n",
      "#    labeller(i, 'PTS', eval(group))\n",
      "#    i.crop_to_landmarks_proportion_inplace(0.5, group='PTS')\n",
      "#    i = i.rescale_landmarks_to_diagonal_range(150, group=group)\n",
      "    \n",
      "#    if i.n_channels == 3:\n",
      "#        i = i.as_greyscale(mode='average')\n",
      "#    test_images.append(i)"
     ],
     "language": "python",
     "metadata": {},
     "outputs": []
    },
    {
     "cell_type": "code",
     "collapsed": false,
     "input": [
      "#for i in mio.import_images(path + 'PhD/DataBases/faces/afw/testset', verbose=True, \n",
      "#                           max_images=None):\n",
      "    \n",
      "#    # convert the image from menpo Image to menpofast Image (channels at front)\n",
      "#    i = convert_from_menpo(i)\n",
      "    \n",
      "#    labeller(i, 'PTS', eval(group))\n",
      "#    i.crop_to_landmarks_proportion_inplace(0.5, group='PTS')\n",
      "#    i = i.rescale_landmarks_to_diagonal_range(150, group=group)\n",
      "    \n",
      "#    if i.n_channels == 3:\n",
      "#        i = i.as_greyscale(mode='average')\n",
      "#    test_images.append(i)"
     ],
     "language": "python",
     "metadata": {},
     "outputs": []
    },
    {
     "cell_type": "code",
     "collapsed": false,
     "input": [
      "from menpo.visualize import visualize_images\n",
      "\n",
      "visualize_images(test_images)"
     ],
     "language": "python",
     "metadata": {},
     "outputs": []
    },
    {
     "cell_type": "heading",
     "level": 1,
     "metadata": {},
     "source": [
      "Fitting Parameters"
     ]
    },
    {
     "cell_type": "code",
     "collapsed": false,
     "input": [
      "from alabortijcv2015.aam.algorithm import FastSIC_GN\n",
      "\n",
      "sampling_step = 1\n",
      "\n",
      "sampling_mask = np.require(np.zeros((17, 17)), dtype=np.bool)\n",
      "sampling_mask[::sampling_step, ::sampling_step] = True\n",
      "\n",
      "n_shape = [3, 12]\n",
      "n_appearance = [25, 50]\n",
      "\n",
      "noise_std = [None, 0, 0.02, 0.04, 0.06]\n",
      "max_iters = 20\n",
      "prior = False"
     ],
     "language": "python",
     "metadata": {},
     "outputs": []
    },
    {
     "cell_type": "heading",
     "level": 1,
     "metadata": {},
     "source": [
      "Parts Active Appearance Models"
     ]
    },
    {
     "cell_type": "code",
     "collapsed": false,
     "input": [
      "from alabortijcv2015.utils import pickle_load\n",
      "\n",
      "aam = pickle_load(path + 'PhD/Models/ijcv2015/exp1_parts_int')"
     ],
     "language": "python",
     "metadata": {},
     "outputs": []
    },
    {
     "cell_type": "heading",
     "level": 2,
     "metadata": {},
     "source": [
      "Simultaneous Inverse Compositional (SIC)"
     ]
    },
    {
     "cell_type": "code",
     "collapsed": false,
     "input": [
      "from alabortijcv2015.aam import PartsAAMFitter\n",
      "from alabortijcv2015.aam.algorithm import FastSIC_N\n",
      "\n",
      "fitter = PartsAAMFitter(aam, algorithm_cls=FastSIC_N, n_shape=n_shape,\n",
      "                        n_appearance=n_appearance, sampling_mask= sampling_mask)"
     ],
     "language": "python",
     "metadata": {},
     "outputs": []
    },
    {
     "cell_type": "code",
     "collapsed": false,
     "input": [
      "from alabortcvpr2015.utils import pickle_dump\n",
      "from alabortcvpr2015.result import SerializableResult\n",
      "\n",
      "for n in noise_std:\n",
      "    \n",
      "    fitter_results = []\n",
      "    \n",
      "    for seed in xrange(repeat):\n",
      "\n",
      "        np.random.seed(seed=seed)\n",
      "\n",
      "        for j, i in enumerate(test_images):\n",
      "\n",
      "            gt_s = i.landmarks[group].lms\n",
      "\n",
      "            if n is not None:\n",
      "                s = fitter.perturb_shape(gt_s, noise_std=n)\n",
      "            else:\n",
      "                s = gt_s\n",
      "\n",
      "            fr = fitter.fit(i, s, gt_shape=gt_s, max_iters=max_iters, prior=prior)\n",
      "\n",
      "            fitter_results.append(fr)\n",
      "            fr.downscale = 0.5\n",
      "\n",
      "            #print 'Image: ', j\n",
      "            #print fr\n",
      "        \n",
      "        if n is None or 0:\n",
      "            break\n",
      "    \n",
      "    print n\n",
      "\n",
      "    results = [SerializableResult('none', fr.shapes(), fr.n_iters, 'FastSIC', fr.gt_shape) \n",
      "               for fr in fitter_results]\n",
      "\n",
      "    pickle_dump(results, path + 'PhD/Results/ijcv2015/exp3_parts_int_sic_newton' + str(n))"
     ],
     "language": "python",
     "metadata": {},
     "outputs": []
    },
    {
     "cell_type": "code",
     "collapsed": false,
     "input": [
      "from menpofit.visualize import visualize_fitting_results\n",
      "    \n",
      "visualize_fitting_results(fitter_results)"
     ],
     "language": "python",
     "metadata": {},
     "outputs": []
    },
    {
     "cell_type": "heading",
     "level": 2,
     "metadata": {},
     "source": [
      "Simultaneous Forward Algorithm (SFC)"
     ]
    },
    {
     "cell_type": "code",
     "collapsed": false,
     "input": [
      "from alabortijcv2015.aam import PartsAAMFitter\n",
      "from alabortijcv2015.aam.algorithm import PFC_N\n",
      "\n",
      "fitter = PartsAAMFitter(aam, algorithm_cls=PFC_N, n_shape=n_shape,\n",
      "                        n_appearance=n_appearance, sampling_mask=sampling_mask)"
     ],
     "language": "python",
     "metadata": {},
     "outputs": []
    },
    {
     "cell_type": "code",
     "collapsed": false,
     "input": [
      "from alabortcvpr2015.utils import pickle_dump\n",
      "from alabortcvpr2015.result import SerializableResult\n",
      "    \n",
      "for n in noise_std:\n",
      "    \n",
      "    fitter_results = []\n",
      "    \n",
      "    for seed in xrange(repeat):\n",
      "\n",
      "        np.random.seed(seed=seed)\n",
      "\n",
      "        for j, i in enumerate(test_images):\n",
      "\n",
      "            gt_s = i.landmarks[group].lms\n",
      "\n",
      "            if n is not None:\n",
      "                s = fitter.perturb_shape(gt_s, noise_std=n)\n",
      "            else:\n",
      "                s = gt_s\n",
      "\n",
      "            fr = fitter.fit(i, s, gt_shape=gt_s, max_iters=max_iters, prior=prior)\n",
      "\n",
      "            fitter_results.append(fr)\n",
      "            fr.downscale = 0.5\n",
      "\n",
      "            #print 'Image: ', j\n",
      "            #print fr\n",
      "            \n",
      "        if n is None or 0:\n",
      "            break\n",
      "            \n",
      "    print n\n",
      "\n",
      "    results = [SerializableResult('none', fr.shapes(), fr.n_iters, 'FastSIC', fr.gt_shape) \n",
      "               for fr in fitter_results]\n",
      "\n",
      "    pickle_dump(results, path + 'PhD/Results/ijcv2015/exp3_parts_int_sfc_newton' + str(n))"
     ],
     "language": "python",
     "metadata": {},
     "outputs": []
    },
    {
     "cell_type": "code",
     "collapsed": false,
     "input": [
      "from menpofit.visualize import visualize_fitting_results\n",
      "    \n",
      "visualize_fitting_results(fitter_results)"
     ],
     "language": "python",
     "metadata": {},
     "outputs": []
    },
    {
     "cell_type": "heading",
     "level": 2,
     "metadata": {},
     "source": [
      "Alternating Inverse Compositional (AIC)"
     ]
    },
    {
     "cell_type": "code",
     "collapsed": false,
     "input": [
      "from alabortijcv2015.aam import PartsAAMFitter\n",
      "from alabortijcv2015.aam.algorithm import AIC_N\n",
      "\n",
      "fitter = PartsAAMFitter(aam, algorithm_cls=AIC_N, n_shape=n_shape,\n",
      "                        n_appearance=n_appearance, sampling_mask= sampling_mask)"
     ],
     "language": "python",
     "metadata": {},
     "outputs": []
    },
    {
     "cell_type": "code",
     "collapsed": false,
     "input": [
      "from alabortcvpr2015.utils import pickle_dump\n",
      "from alabortcvpr2015.result import SerializableResult\n",
      "    \n",
      "for n in noise_std:\n",
      "    \n",
      "    fitter_results = []\n",
      "    \n",
      "    for seed in xrange(repeat):\n",
      "\n",
      "        np.random.seed(seed=seed)\n",
      "\n",
      "        for j, i in enumerate(test_images):\n",
      "\n",
      "            gt_s = i.landmarks[group].lms\n",
      "\n",
      "            if n is not None:\n",
      "                s = fitter.perturb_shape(gt_s, noise_std=n)\n",
      "            else:\n",
      "                s = gt_s\n",
      "\n",
      "            fr = fitter.fit(i, s, gt_shape=gt_s, max_iters=max_iters, prior=prior)\n",
      "\n",
      "            fitter_results.append(fr)\n",
      "            fr.downscale = 0.5\n",
      "\n",
      "            #print 'Image: ', j\n",
      "            #print fr\n",
      "        \n",
      "        if n is None or 0:\n",
      "            break\n",
      "            \n",
      "    print n\n",
      "\n",
      "    results = [SerializableResult('none', fr.shapes(), fr.n_iters, 'FastSIC', fr.gt_shape) \n",
      "               for fr in fitter_results]\n",
      "\n",
      "    pickle_dump(results, path + 'PhD/Results/ijcv2015/exp3_parts_int_aic_newton' + str(n))"
     ],
     "language": "python",
     "metadata": {},
     "outputs": []
    },
    {
     "cell_type": "code",
     "collapsed": false,
     "input": [
      "from menpofit.visualize import visualize_fitting_results\n",
      "    \n",
      "visualize_fitting_results(fitter_results)"
     ],
     "language": "python",
     "metadata": {},
     "outputs": []
    },
    {
     "cell_type": "heading",
     "level": 2,
     "metadata": {},
     "source": [
      "Project-out Inverse Compositional (PIC)"
     ]
    },
    {
     "cell_type": "code",
     "collapsed": false,
     "input": [
      "from alabortijcv2015.aam import PartsAAMFitter\n",
      "from alabortijcv2015.aam.algorithm import PIC_N\n",
      "\n",
      "fitter = PartsAAMFitter(aam, algorithm_cls=PIC_N, n_shape=n_shape,\n",
      "                        n_appearance=n_appearance, sampling_mask= sampling_mask)"
     ],
     "language": "python",
     "metadata": {},
     "outputs": []
    },
    {
     "cell_type": "code",
     "collapsed": false,
     "input": [
      "from alabortcvpr2015.utils import pickle_dump\n",
      "from alabortcvpr2015.result import SerializableResult\n",
      "    \n",
      "for n in noise_std:\n",
      "    \n",
      "    fitter_results = []\n",
      "    \n",
      "    for seed in xrange(repeat):\n",
      "\n",
      "        np.random.seed(seed=seed)\n",
      "\n",
      "        for j, i in enumerate(test_images):\n",
      "\n",
      "            gt_s = i.landmarks[group].lms\n",
      "\n",
      "            if n is not None:\n",
      "                s = fitter.perturb_shape(gt_s, noise_std=n)\n",
      "            else:\n",
      "                s = gt_s\n",
      "\n",
      "            fr = fitter.fit(i, s, gt_shape=gt_s, max_iters=max_iters, prior=prior)\n",
      "\n",
      "            fitter_results.append(fr)\n",
      "            fr.downscale = 0.5\n",
      "\n",
      "            #print 'Image: ', j\n",
      "            #print fr\n",
      "            \n",
      "        if n is None or 0:\n",
      "            break\n",
      "            \n",
      "    print n\n",
      "\n",
      "    results = [SerializableResult('none', fr.shapes(), fr.n_iters, 'FastSIC', fr.gt_shape) \n",
      "               for fr in fitter_results]\n",
      "\n",
      "    pickle_dump(results, path + 'PhD/Results/ijcv2015/exp3_parts_int_pic_newton' + str(n))"
     ],
     "language": "python",
     "metadata": {},
     "outputs": []
    },
    {
     "cell_type": "code",
     "collapsed": false,
     "input": [
      "from menpofit.visualize import visualize_fitting_results\n",
      "    \n",
      "visualize_fitting_results(fitter_results)"
     ],
     "language": "python",
     "metadata": {},
     "outputs": []
    },
    {
     "cell_type": "heading",
     "level": 2,
     "metadata": {},
     "source": [
      "Bayesian Inverse Compositional (BIC)"
     ]
    },
    {
     "cell_type": "code",
     "collapsed": false,
     "input": [
      "from alabortijcv2015.aam import PartsAAMFitter\n",
      "from alabortijcv2015.aam.algorithm import BIC_N\n",
      "\n",
      "fitter = PartsAAMFitter(aam, algorithm_cls=BIC_N, n_shape=n_shape,\n",
      "                         n_appearance=n_appearance, sampling_mask=sampling_mask)"
     ],
     "language": "python",
     "metadata": {},
     "outputs": []
    },
    {
     "cell_type": "code",
     "collapsed": false,
     "input": [
      "from alabortcvpr2015.utils import pickle_dump\n",
      "from alabortcvpr2015.result import SerializableResult\n",
      "    \n",
      "for n in noise_std:\n",
      "    \n",
      "    fitter_results = []\n",
      "    \n",
      "    for seed in xrange(repeat):\n",
      "\n",
      "        np.random.seed(seed=seed)\n",
      "\n",
      "        for j, i in enumerate(test_images):\n",
      "\n",
      "            gt_s = i.landmarks[group].lms\n",
      "\n",
      "            if n is not None:\n",
      "                s = fitter.perturb_shape(gt_s, noise_std=n)\n",
      "            else:\n",
      "                s = gt_s\n",
      "\n",
      "            fr = fitter.fit(i, s, gt_shape=gt_s, max_iters=max_iters, prior=prior)\n",
      "\n",
      "            fitter_results.append(fr)\n",
      "            fr.downscale = 0.5\n",
      "\n",
      "            #print 'Image: ', j\n",
      "            #print fr\n",
      "            \n",
      "        if n is None or 0:\n",
      "            break\n",
      "            \n",
      "    print n\n",
      "\n",
      "    results = [SerializableResult('none', fr.shapes(), fr.n_iters, 'FastSIC', fr.gt_shape) \n",
      "               for fr in fitter_results]\n",
      "    \n",
      "    pickle_dump(results, path + 'PhD/Results/ijcv2015/exp3_parts_int_bic_newton' + str(n))"
     ],
     "language": "python",
     "metadata": {},
     "outputs": []
    },
    {
     "cell_type": "code",
     "collapsed": false,
     "input": [
      "from menpofit.visualize import visualize_fitting_results\n",
      "    \n",
      "visualize_fitting_results(fitter_results)"
     ],
     "language": "python",
     "metadata": {},
     "outputs": []
    },
    {
     "cell_type": "heading",
     "level": 2,
     "metadata": {},
     "source": [
      "Bayesian Forward Compositional (BFC)"
     ]
    },
    {
     "cell_type": "code",
     "collapsed": false,
     "input": [
      "from alabortijcv2015.aam import PartsAAMFitter\n",
      "from alabortijcv2015.aam.algorithm import BFC_GN\n",
      "\n",
      "fitter = PartsAAMFitter(aam, algorithm_cls=BFC_N, n_shape=n_shape,\n",
      "                        n_appearance=n_appearance, sampling_mask=sampling_mask)"
     ],
     "language": "python",
     "metadata": {},
     "outputs": []
    },
    {
     "cell_type": "code",
     "collapsed": false,
     "input": [
      "from alabortcvpr2015.utils import pickle_dump\n",
      "from alabortcvpr2015.result import SerializableResult\n",
      "    \n",
      "for n in noise_std:\n",
      "    \n",
      "    fitter_results = []\n",
      "    \n",
      "    for seed in xrange(repeat):\n",
      "\n",
      "        np.random.seed(seed=seed)\n",
      "\n",
      "        for j, i in enumerate(test_images):\n",
      "\n",
      "            gt_s = i.landmarks[group].lms\n",
      "\n",
      "            if n is not None:\n",
      "                s = fitter.perturb_shape(gt_s, noise_std=n)\n",
      "            else:\n",
      "                s = gt_s\n",
      "\n",
      "            fr = fitter.fit(i, s, gt_shape=gt_s, max_iters=max_iters, prior=prior)\n",
      "\n",
      "            fitter_results.append(fr)\n",
      "            fr.downscale = 0.5\n",
      "\n",
      "            #print 'Image: ', j\n",
      "            #print fr\n",
      "            \n",
      "        if n is None or 0:\n",
      "            break\n",
      "            \n",
      "    print n\n",
      "\n",
      "    results = [SerializableResult('none', fr.shapes(), fr.n_iters, 'FastSIC', fr.gt_shape) \n",
      "               for fr in fitter_results]\n",
      "\n",
      "    pickle_dump(results, path + 'PhD/Results/ijcv2015/exp3_parts_int_bfc_newton' + str(n))"
     ],
     "language": "python",
     "metadata": {},
     "outputs": []
    },
    {
     "cell_type": "code",
     "collapsed": false,
     "input": [
      "from menpofit.visualize import visualize_fitting_results\n",
      "    \n",
      "visualize_fitting_results(fitter_results)"
     ],
     "language": "python",
     "metadata": {},
     "outputs": []
    }
   ],
   "metadata": {}
  }
 ]
}