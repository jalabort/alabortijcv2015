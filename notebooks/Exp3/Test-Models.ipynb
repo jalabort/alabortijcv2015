{
 "metadata": {
  "name": "",
  "signature": "sha256:521387d76995f0d06954a050d785cad4b3f5e2f9354f64b88a58d68863f8007b"
 },
 "nbformat": 3,
 "nbformat_minor": 0,
 "worksheets": [
  {
   "cells": [
    {
     "cell_type": "code",
     "collapsed": false,
     "input": [
      "%matplotlib inline\n",
      "%pylab inline"
     ],
     "language": "python",
     "metadata": {},
     "outputs": [
      {
       "output_type": "stream",
       "stream": "stdout",
       "text": [
        "Populating the interactive namespace from numpy and matplotlib\n"
       ]
      }
     ],
     "prompt_number": 1
    },
    {
     "cell_type": "code",
     "collapsed": false,
     "input": [
      "repeat = 3"
     ],
     "language": "python",
     "metadata": {},
     "outputs": [],
     "prompt_number": 2
    },
    {
     "cell_type": "heading",
     "level": 1,
     "metadata": {},
     "source": [
      "Load test data"
     ]
    },
    {
     "cell_type": "code",
     "collapsed": false,
     "input": [
      "import menpo.io as mio\n",
      "from menpo.landmark import labeller, ibug_face_49\n",
      "from menpofast.utils import convert_from_menpo\n",
      "\n",
      "path = '/data/'\n",
      "group = 'ibug_face_49'\n",
      "db = 'lfpw'\n",
      "\n",
      "test_images = []\n",
      "for i in mio.import_images(path + 'PhD/DataBases/faces/' + db + '/testset/', \n",
      "                           verbose=True, max_images=None):\n",
      "    \n",
      "    # convert the image from menpo Image to menpofast Image (channels at front)\n",
      "    i = convert_from_menpo(i)\n",
      "    \n",
      "    labeller(i, 'PTS', eval(group))\n",
      "    i.crop_to_landmarks_proportion_inplace(0.5, group='PTS')\n",
      "    i = i.rescale_landmarks_to_diagonal_range(150, group=group)\n",
      "    \n",
      "    if i.n_channels == 3:\n",
      "        i = i.as_greyscale(mode='average')\n",
      "    test_images.append(i)"
     ],
     "language": "python",
     "metadata": {},
     "outputs": [
      {
       "output_type": "stream",
       "stream": "stdout",
       "text": [
        "\r",
        "- Loading 224 assets: [                    ] 0%"
       ]
      },
      {
       "output_type": "stream",
       "stream": "stdout",
       "text": [
        "\r",
        "- Loading 224 assets: [                    ] 0%"
       ]
      },
      {
       "output_type": "stream",
       "stream": "stdout",
       "text": [
        "\r",
        "- Loading 224 assets: [                    ] 1%"
       ]
      },
      {
       "output_type": "stream",
       "stream": "stdout",
       "text": [
        "\r",
        "- Loading 224 assets: [                    ] 1%"
       ]
      },
      {
       "output_type": "stream",
       "stream": "stdout",
       "text": [
        "\r",
        "- Loading 224 assets: [                    ] 2%"
       ]
      },
      {
       "output_type": "stream",
       "stream": "stdout",
       "text": [
        "\r",
        "- Loading 224 assets: [                    ] 2%"
       ]
      },
      {
       "output_type": "stream",
       "stream": "stdout",
       "text": [
        "\r",
        "- Loading 224 assets: [                    ] 3%"
       ]
      },
      {
       "output_type": "stream",
       "stream": "stdout",
       "text": [
        "\r",
        "- Loading 224 assets: [                    ] 3%"
       ]
      },
      {
       "output_type": "stream",
       "stream": "stdout",
       "text": [
        "\r",
        "- Loading 224 assets: [                    ] 4%"
       ]
      },
      {
       "output_type": "stream",
       "stream": "stdout",
       "text": [
        "\r",
        "- Loading 224 assets: [                    ] 4%"
       ]
      },
      {
       "output_type": "stream",
       "stream": "stdout",
       "text": [
        "\r",
        "- Loading 224 assets: [                    ] 4%"
       ]
      },
      {
       "output_type": "stream",
       "stream": "stdout",
       "text": [
        "\r",
        "- Loading 224 assets: [=                   ] 5%"
       ]
      },
      {
       "output_type": "stream",
       "stream": "stdout",
       "text": [
        "\r",
        "- Loading 224 assets: [=                   ] 5%"
       ]
      },
      {
       "output_type": "stream",
       "stream": "stdout",
       "text": [
        "\r",
        "- Loading 224 assets: [=                   ] 6%"
       ]
      },
      {
       "output_type": "stream",
       "stream": "stdout",
       "text": [
        "\r",
        "- Loading 224 assets: [=                   ] 6%"
       ]
      },
      {
       "output_type": "stream",
       "stream": "stdout",
       "text": [
        "\r",
        "- Loading 224 assets: [=                   ] 7%"
       ]
      },
      {
       "output_type": "stream",
       "stream": "stdout",
       "text": [
        "\r",
        "- Loading 224 assets: [=                   ] 7%"
       ]
      },
      {
       "output_type": "stream",
       "stream": "stdout",
       "text": [
        "\r",
        "- Loading 224 assets: [=                   ] 8%"
       ]
      },
      {
       "output_type": "stream",
       "stream": "stdout",
       "text": [
        "\r",
        "- Loading 224 assets: [=                   ] 8%"
       ]
      },
      {
       "output_type": "stream",
       "stream": "stdout",
       "text": [
        "\r",
        "- Loading 224 assets: [=                   ] 8%"
       ]
      },
      {
       "output_type": "stream",
       "stream": "stdout",
       "text": [
        "\r",
        "- Loading 224 assets: [=                   ] 9%"
       ]
      },
      {
       "output_type": "stream",
       "stream": "stdout",
       "text": [
        "\r",
        "- Loading 224 assets: [=                   ] 9%"
       ]
      },
      {
       "output_type": "stream",
       "stream": "stdout",
       "text": [
        "\r",
        "- Loading 224 assets: [==                  ] 10%"
       ]
      },
      {
       "output_type": "stream",
       "stream": "stdout",
       "text": [
        "\r",
        "- Loading 224 assets: [==                  ] 10%"
       ]
      },
      {
       "output_type": "stream",
       "stream": "stdout",
       "text": [
        "\r",
        "- Loading 224 assets: [==                  ] 11%"
       ]
      },
      {
       "output_type": "stream",
       "stream": "stdout",
       "text": [
        "\r",
        "- Loading 224 assets: [==                  ] 11%"
       ]
      },
      {
       "output_type": "stream",
       "stream": "stdout",
       "text": [
        "\r",
        "- Loading 224 assets: [==                  ] 12%"
       ]
      },
      {
       "output_type": "stream",
       "stream": "stdout",
       "text": [
        "\r",
        "- Loading 224 assets: [==                  ] 12%"
       ]
      },
      {
       "output_type": "stream",
       "stream": "stdout",
       "text": [
        "\r",
        "- Loading 224 assets: [==                  ] 12%"
       ]
      },
      {
       "output_type": "stream",
       "stream": "stdout",
       "text": [
        "\r",
        "- Loading 224 assets: [==                  ] 13%"
       ]
      },
      {
       "output_type": "stream",
       "stream": "stdout",
       "text": [
        "\r",
        "- Loading 224 assets: [==                  ] 13%"
       ]
      },
      {
       "output_type": "stream",
       "stream": "stdout",
       "text": [
        "\r",
        "- Loading 224 assets: [==                  ] 14%"
       ]
      },
      {
       "output_type": "stream",
       "stream": "stdout",
       "text": [
        "\r",
        "- Loading 224 assets: [==                  ] 14%"
       ]
      },
      {
       "output_type": "stream",
       "stream": "stdout",
       "text": [
        "\r",
        "- Loading 224 assets: [===                 ] 15%"
       ]
      },
      {
       "output_type": "stream",
       "stream": "stdout",
       "text": [
        "\r",
        "- Loading 224 assets: [===                 ] 15%"
       ]
      },
      {
       "output_type": "stream",
       "stream": "stdout",
       "text": [
        "\r",
        "- Loading 224 assets: [===                 ] 16%"
       ]
      },
      {
       "output_type": "stream",
       "stream": "stdout",
       "text": [
        "\r",
        "- Loading 224 assets: [===                 ] 16%"
       ]
      },
      {
       "output_type": "stream",
       "stream": "stdout",
       "text": [
        "\r",
        "- Loading 224 assets: [===                 ] 16%"
       ]
      },
      {
       "output_type": "stream",
       "stream": "stdout",
       "text": [
        "\r",
        "- Loading 224 assets: [===                 ] 17%"
       ]
      },
      {
       "output_type": "stream",
       "stream": "stdout",
       "text": [
        "\r",
        "- Loading 224 assets: [===                 ] 17%"
       ]
      },
      {
       "output_type": "stream",
       "stream": "stdout",
       "text": [
        "\r",
        "- Loading 224 assets: [===                 ] 18%"
       ]
      },
      {
       "output_type": "stream",
       "stream": "stdout",
       "text": [
        "\r",
        "- Loading 224 assets: [===                 ] 18%"
       ]
      },
      {
       "output_type": "stream",
       "stream": "stdout",
       "text": [
        "\r",
        "- Loading 224 assets: [===                 ] 19%"
       ]
      },
      {
       "output_type": "stream",
       "stream": "stdout",
       "text": [
        "\r",
        "- Loading 224 assets: [===                 ] 19%"
       ]
      },
      {
       "output_type": "stream",
       "stream": "stdout",
       "text": [
        "\r",
        "- Loading 224 assets: [====                ] 20%"
       ]
      },
      {
       "output_type": "stream",
       "stream": "stdout",
       "text": [
        "\r",
        "- Loading 224 assets: [====                ] 20%"
       ]
      },
      {
       "output_type": "stream",
       "stream": "stdout",
       "text": [
        "\r",
        "- Loading 224 assets: [====                ] 20%"
       ]
      },
      {
       "output_type": "stream",
       "stream": "stdout",
       "text": [
        "\r",
        "- Loading 224 assets: [====                ] 21%"
       ]
      },
      {
       "output_type": "stream",
       "stream": "stdout",
       "text": [
        "\r",
        "- Loading 224 assets: [====                ] 21%"
       ]
      },
      {
       "output_type": "stream",
       "stream": "stdout",
       "text": [
        "\r",
        "- Loading 224 assets: [====                ] 22%"
       ]
      },
      {
       "output_type": "stream",
       "stream": "stdout",
       "text": [
        "\r",
        "- Loading 224 assets: [====                ] 22%"
       ]
      },
      {
       "output_type": "stream",
       "stream": "stdout",
       "text": [
        "\r",
        "- Loading 224 assets: [====                ] 23%"
       ]
      },
      {
       "output_type": "stream",
       "stream": "stdout",
       "text": [
        "\r",
        "- Loading 224 assets: [====                ] 23%"
       ]
      },
      {
       "output_type": "stream",
       "stream": "stdout",
       "text": [
        "\r",
        "- Loading 224 assets: [====                ] 24%"
       ]
      },
      {
       "output_type": "stream",
       "stream": "stdout",
       "text": [
        "\r",
        "- Loading 224 assets: [====                ] 24%"
       ]
      },
      {
       "output_type": "stream",
       "stream": "stdout",
       "text": [
        "\r",
        "- Loading 224 assets: [=====               ] 25%"
       ]
      },
      {
       "output_type": "stream",
       "stream": "stdout",
       "text": [
        "\r",
        "- Loading 224 assets: [=====               ] 25%"
       ]
      },
      {
       "output_type": "stream",
       "stream": "stdout",
       "text": [
        "\r",
        "- Loading 224 assets: [=====               ] 25%"
       ]
      },
      {
       "output_type": "stream",
       "stream": "stdout",
       "text": [
        "\r",
        "- Loading 224 assets: [=====               ] 26%"
       ]
      },
      {
       "output_type": "stream",
       "stream": "stdout",
       "text": [
        "\r",
        "- Loading 224 assets: [=====               ] 26%"
       ]
      },
      {
       "output_type": "stream",
       "stream": "stdout",
       "text": [
        "\r",
        "- Loading 224 assets: [=====               ] 27%"
       ]
      },
      {
       "output_type": "stream",
       "stream": "stdout",
       "text": [
        "\r",
        "- Loading 224 assets: [=====               ] 27%"
       ]
      },
      {
       "output_type": "stream",
       "stream": "stdout",
       "text": [
        "\r",
        "- Loading 224 assets: [=====               ] 28%"
       ]
      },
      {
       "output_type": "stream",
       "stream": "stdout",
       "text": [
        "\r",
        "- Loading 224 assets: [=====               ] 28%"
       ]
      },
      {
       "output_type": "stream",
       "stream": "stdout",
       "text": [
        "\r",
        "- Loading 224 assets: [=====               ] 29%"
       ]
      },
      {
       "output_type": "stream",
       "stream": "stdout",
       "text": [
        "\r",
        "- Loading 224 assets: [=====               ] 29%"
       ]
      },
      {
       "output_type": "stream",
       "stream": "stdout",
       "text": [
        "\r",
        "- Loading 224 assets: [=====               ] 29%"
       ]
      },
      {
       "output_type": "stream",
       "stream": "stdout",
       "text": [
        "\r",
        "- Loading 224 assets: [======              ] 30%"
       ]
      },
      {
       "output_type": "stream",
       "stream": "stdout",
       "text": [
        "\r",
        "- Loading 224 assets: [======              ] 30%"
       ]
      },
      {
       "output_type": "stream",
       "stream": "stdout",
       "text": [
        "\r",
        "- Loading 224 assets: [======              ] 31%"
       ]
      },
      {
       "output_type": "stream",
       "stream": "stdout",
       "text": [
        "\r",
        "- Loading 224 assets: [======              ] 31%"
       ]
      },
      {
       "output_type": "stream",
       "stream": "stdout",
       "text": [
        "\r",
        "- Loading 224 assets: [======              ] 32%"
       ]
      },
      {
       "output_type": "stream",
       "stream": "stdout",
       "text": [
        "\r",
        "- Loading 224 assets: [======              ] 32%"
       ]
      },
      {
       "output_type": "stream",
       "stream": "stdout",
       "text": [
        "\r",
        "- Loading 224 assets: [======              ] 33%"
       ]
      },
      {
       "output_type": "stream",
       "stream": "stdout",
       "text": [
        "\r",
        "- Loading 224 assets: [======              ] 33%"
       ]
      },
      {
       "output_type": "stream",
       "stream": "stdout",
       "text": [
        "\r",
        "- Loading 224 assets: [======              ] 33%"
       ]
      },
      {
       "output_type": "stream",
       "stream": "stdout",
       "text": [
        "\r",
        "- Loading 224 assets: [======              ] 34%"
       ]
      },
      {
       "output_type": "stream",
       "stream": "stdout",
       "text": [
        "\r",
        "- Loading 224 assets: [======              ] 34%"
       ]
      },
      {
       "output_type": "stream",
       "stream": "stdout",
       "text": [
        "\r",
        "- Loading 224 assets: [=======             ] 35%"
       ]
      },
      {
       "output_type": "stream",
       "stream": "stdout",
       "text": [
        "\r",
        "- Loading 224 assets: [=======             ] 35%"
       ]
      },
      {
       "output_type": "stream",
       "stream": "stdout",
       "text": [
        "\r",
        "- Loading 224 assets: [=======             ] 36%"
       ]
      },
      {
       "output_type": "stream",
       "stream": "stdout",
       "text": [
        "\r",
        "- Loading 224 assets: [=======             ] 36%"
       ]
      },
      {
       "output_type": "stream",
       "stream": "stdout",
       "text": [
        "\r",
        "- Loading 224 assets: [=======             ] 37%"
       ]
      },
      {
       "output_type": "stream",
       "stream": "stdout",
       "text": [
        "\r",
        "- Loading 224 assets: [=======             ] 37%"
       ]
      },
      {
       "output_type": "stream",
       "stream": "stdout",
       "text": [
        "\r",
        "- Loading 224 assets: [=======             ] 37%"
       ]
      },
      {
       "output_type": "stream",
       "stream": "stdout",
       "text": [
        "\r",
        "- Loading 224 assets: [=======             ] 38%"
       ]
      },
      {
       "output_type": "stream",
       "stream": "stdout",
       "text": [
        "\r",
        "- Loading 224 assets: [=======             ] 38%"
       ]
      },
      {
       "output_type": "stream",
       "stream": "stdout",
       "text": [
        "\r",
        "- Loading 224 assets: [=======             ] 39%"
       ]
      },
      {
       "output_type": "stream",
       "stream": "stdout",
       "text": [
        "\r",
        "- Loading 224 assets: [=======             ] 39%"
       ]
      },
      {
       "output_type": "stream",
       "stream": "stdout",
       "text": [
        "\r",
        "- Loading 224 assets: [========            ] 40%"
       ]
      },
      {
       "output_type": "stream",
       "stream": "stdout",
       "text": [
        "\r",
        "- Loading 224 assets: [========            ] 40%"
       ]
      },
      {
       "output_type": "stream",
       "stream": "stdout",
       "text": [
        "\r",
        "- Loading 224 assets: [========            ] 41%"
       ]
      },
      {
       "output_type": "stream",
       "stream": "stdout",
       "text": [
        "\r",
        "- Loading 224 assets: [========            ] 41%"
       ]
      },
      {
       "output_type": "stream",
       "stream": "stdout",
       "text": [
        "\r",
        "- Loading 224 assets: [========            ] 41%"
       ]
      },
      {
       "output_type": "stream",
       "stream": "stdout",
       "text": [
        "\r",
        "- Loading 224 assets: [========            ] 42%"
       ]
      },
      {
       "output_type": "stream",
       "stream": "stdout",
       "text": [
        "\r",
        "- Loading 224 assets: [========            ] 42%"
       ]
      },
      {
       "output_type": "stream",
       "stream": "stdout",
       "text": [
        "\r",
        "- Loading 224 assets: [========            ] 43%"
       ]
      },
      {
       "output_type": "stream",
       "stream": "stdout",
       "text": [
        "\r",
        "- Loading 224 assets: [========            ] 43%"
       ]
      },
      {
       "output_type": "stream",
       "stream": "stdout",
       "text": [
        "\r",
        "- Loading 224 assets: [========            ] 44%"
       ]
      },
      {
       "output_type": "stream",
       "stream": "stdout",
       "text": [
        "\r",
        "- Loading 224 assets: [========            ] 44%"
       ]
      },
      {
       "output_type": "stream",
       "stream": "stdout",
       "text": [
        "\r",
        "- Loading 224 assets: [=========           ] 45%"
       ]
      },
      {
       "output_type": "stream",
       "stream": "stdout",
       "text": [
        "\r",
        "- Loading 224 assets: [=========           ] 45%"
       ]
      },
      {
       "output_type": "stream",
       "stream": "stdout",
       "text": [
        "\r",
        "- Loading 224 assets: [=========           ] 45%"
       ]
      },
      {
       "output_type": "stream",
       "stream": "stdout",
       "text": [
        "\r",
        "- Loading 224 assets: [=========           ] 46%"
       ]
      },
      {
       "output_type": "stream",
       "stream": "stdout",
       "text": [
        "\r",
        "- Loading 224 assets: [=========           ] 46%"
       ]
      },
      {
       "output_type": "stream",
       "stream": "stdout",
       "text": [
        "\r",
        "- Loading 224 assets: [=========           ] 47%"
       ]
      },
      {
       "output_type": "stream",
       "stream": "stdout",
       "text": [
        "\r",
        "- Loading 224 assets: [=========           ] 47%"
       ]
      },
      {
       "output_type": "stream",
       "stream": "stdout",
       "text": [
        "\r",
        "- Loading 224 assets: [=========           ] 48%"
       ]
      },
      {
       "output_type": "stream",
       "stream": "stdout",
       "text": [
        "\r",
        "- Loading 224 assets: [=========           ] 48%"
       ]
      },
      {
       "output_type": "stream",
       "stream": "stdout",
       "text": [
        "\r",
        "- Loading 224 assets: [=========           ] 49%"
       ]
      },
      {
       "output_type": "stream",
       "stream": "stdout",
       "text": [
        "\r",
        "- Loading 224 assets: [=========           ] 49%"
       ]
      },
      {
       "output_type": "stream",
       "stream": "stdout",
       "text": [
        "\r",
        "- Loading 224 assets: [==========          ] 50%"
       ]
      },
      {
       "output_type": "stream",
       "stream": "stdout",
       "text": [
        "\r",
        "- Loading 224 assets: [==========          ] 50%"
       ]
      },
      {
       "output_type": "stream",
       "stream": "stdout",
       "text": [
        "\r",
        "- Loading 224 assets: [==========          ] 50%"
       ]
      },
      {
       "output_type": "stream",
       "stream": "stdout",
       "text": [
        "\r",
        "- Loading 224 assets: [==========          ] 51%"
       ]
      },
      {
       "output_type": "stream",
       "stream": "stdout",
       "text": [
        "\r",
        "- Loading 224 assets: [==========          ] 51%"
       ]
      },
      {
       "output_type": "stream",
       "stream": "stdout",
       "text": [
        "\r",
        "- Loading 224 assets: [==========          ] 52%"
       ]
      },
      {
       "output_type": "stream",
       "stream": "stdout",
       "text": [
        "\r",
        "- Loading 224 assets: [==========          ] 52%"
       ]
      },
      {
       "output_type": "stream",
       "stream": "stdout",
       "text": [
        "\r",
        "- Loading 224 assets: [==========          ] 53%"
       ]
      },
      {
       "output_type": "stream",
       "stream": "stdout",
       "text": [
        "\r",
        "- Loading 224 assets: [==========          ] 53%"
       ]
      },
      {
       "output_type": "stream",
       "stream": "stdout",
       "text": [
        "\r",
        "- Loading 224 assets: [==========          ] 54%"
       ]
      },
      {
       "output_type": "stream",
       "stream": "stdout",
       "text": [
        "\r",
        "- Loading 224 assets: [==========          ] 54%"
       ]
      },
      {
       "output_type": "stream",
       "stream": "stdout",
       "text": [
        "\r",
        "- Loading 224 assets: [==========          ] 54%"
       ]
      },
      {
       "output_type": "stream",
       "stream": "stdout",
       "text": [
        "\r",
        "- Loading 224 assets: [===========         ] 55%"
       ]
      },
      {
       "output_type": "stream",
       "stream": "stdout",
       "text": [
        "\r",
        "- Loading 224 assets: [===========         ] 55%"
       ]
      },
      {
       "output_type": "stream",
       "stream": "stdout",
       "text": [
        "\r",
        "- Loading 224 assets: [===========         ] 56%"
       ]
      },
      {
       "output_type": "stream",
       "stream": "stdout",
       "text": [
        "\r",
        "- Loading 224 assets: [===========         ] 56%"
       ]
      },
      {
       "output_type": "stream",
       "stream": "stdout",
       "text": [
        "\r",
        "- Loading 224 assets: [===========         ] 57%"
       ]
      },
      {
       "output_type": "stream",
       "stream": "stdout",
       "text": [
        "\r",
        "- Loading 224 assets: [===========         ] 57%"
       ]
      },
      {
       "output_type": "stream",
       "stream": "stdout",
       "text": [
        "\r",
        "- Loading 224 assets: [===========         ] 58%"
       ]
      },
      {
       "output_type": "stream",
       "stream": "stdout",
       "text": [
        "\r",
        "- Loading 224 assets: [===========         ] 58%"
       ]
      },
      {
       "output_type": "stream",
       "stream": "stdout",
       "text": [
        "\r",
        "- Loading 224 assets: [===========         ] 58%"
       ]
      },
      {
       "output_type": "stream",
       "stream": "stdout",
       "text": [
        "\r",
        "- Loading 224 assets: [===========         ] 59%"
       ]
      },
      {
       "output_type": "stream",
       "stream": "stdout",
       "text": [
        "\r",
        "- Loading 224 assets: [===========         ] 59%"
       ]
      },
      {
       "output_type": "stream",
       "stream": "stdout",
       "text": [
        "\r",
        "- Loading 224 assets: [============        ] 60%"
       ]
      },
      {
       "output_type": "stream",
       "stream": "stdout",
       "text": [
        "\r",
        "- Loading 224 assets: [============        ] 60%"
       ]
      },
      {
       "output_type": "stream",
       "stream": "stdout",
       "text": [
        "\r",
        "- Loading 224 assets: [============        ] 61%"
       ]
      },
      {
       "output_type": "stream",
       "stream": "stdout",
       "text": [
        "\r",
        "- Loading 224 assets: [============        ] 61%"
       ]
      },
      {
       "output_type": "stream",
       "stream": "stdout",
       "text": [
        "\r",
        "- Loading 224 assets: [============        ] 62%"
       ]
      },
      {
       "output_type": "stream",
       "stream": "stdout",
       "text": [
        "\r",
        "- Loading 224 assets: [============        ] 62%"
       ]
      },
      {
       "output_type": "stream",
       "stream": "stdout",
       "text": [
        "\r",
        "- Loading 224 assets: [============        ] 62%"
       ]
      },
      {
       "output_type": "stream",
       "stream": "stdout",
       "text": [
        "\r",
        "- Loading 224 assets: [============        ] 63%"
       ]
      },
      {
       "output_type": "stream",
       "stream": "stdout",
       "text": [
        "\r",
        "- Loading 224 assets: [============        ] 63%"
       ]
      },
      {
       "output_type": "stream",
       "stream": "stdout",
       "text": [
        "\r",
        "- Loading 224 assets: [============        ] 64%"
       ]
      },
      {
       "output_type": "stream",
       "stream": "stdout",
       "text": [
        "\r",
        "- Loading 224 assets: [============        ] 64%"
       ]
      },
      {
       "output_type": "stream",
       "stream": "stdout",
       "text": [
        "\r",
        "- Loading 224 assets: [=============       ] 65%"
       ]
      },
      {
       "output_type": "stream",
       "stream": "stdout",
       "text": [
        "\r",
        "- Loading 224 assets: [=============       ] 65%"
       ]
      },
      {
       "output_type": "stream",
       "stream": "stdout",
       "text": [
        "\r",
        "- Loading 224 assets: [=============       ] 66%"
       ]
      },
      {
       "output_type": "stream",
       "stream": "stdout",
       "text": [
        "\r",
        "- Loading 224 assets: [=============       ] 66%"
       ]
      },
      {
       "output_type": "stream",
       "stream": "stdout",
       "text": [
        "\r",
        "- Loading 224 assets: [=============       ] 66%"
       ]
      },
      {
       "output_type": "stream",
       "stream": "stdout",
       "text": [
        "\r",
        "- Loading 224 assets: [=============       ] 67%"
       ]
      },
      {
       "output_type": "stream",
       "stream": "stdout",
       "text": [
        "\r",
        "- Loading 224 assets: [=============       ] 67%"
       ]
      },
      {
       "output_type": "stream",
       "stream": "stdout",
       "text": [
        "\r",
        "- Loading 224 assets: [=============       ] 68%"
       ]
      },
      {
       "output_type": "stream",
       "stream": "stdout",
       "text": [
        "\r",
        "- Loading 224 assets: [=============       ] 68%"
       ]
      },
      {
       "output_type": "stream",
       "stream": "stdout",
       "text": [
        "\r",
        "- Loading 224 assets: [=============       ] 69%"
       ]
      },
      {
       "output_type": "stream",
       "stream": "stdout",
       "text": [
        "\r",
        "- Loading 224 assets: [=============       ] 69%"
       ]
      },
      {
       "output_type": "stream",
       "stream": "stdout",
       "text": [
        "\r",
        "- Loading 224 assets: [==============      ] 70%"
       ]
      },
      {
       "output_type": "stream",
       "stream": "stdout",
       "text": [
        "\r",
        "- Loading 224 assets: [==============      ] 70%"
       ]
      },
      {
       "output_type": "stream",
       "stream": "stdout",
       "text": [
        "\r",
        "- Loading 224 assets: [==============      ] 70%"
       ]
      },
      {
       "output_type": "stream",
       "stream": "stdout",
       "text": [
        "\r",
        "- Loading 224 assets: [==============      ] 71%"
       ]
      },
      {
       "output_type": "stream",
       "stream": "stdout",
       "text": [
        "\r",
        "- Loading 224 assets: [==============      ] 71%"
       ]
      },
      {
       "output_type": "stream",
       "stream": "stdout",
       "text": [
        "\r",
        "- Loading 224 assets: [==============      ] 72%"
       ]
      },
      {
       "output_type": "stream",
       "stream": "stdout",
       "text": [
        "\r",
        "- Loading 224 assets: [==============      ] 72%"
       ]
      },
      {
       "output_type": "stream",
       "stream": "stdout",
       "text": [
        "\r",
        "- Loading 224 assets: [==============      ] 73%"
       ]
      },
      {
       "output_type": "stream",
       "stream": "stdout",
       "text": [
        "\r",
        "- Loading 224 assets: [==============      ] 73%"
       ]
      },
      {
       "output_type": "stream",
       "stream": "stdout",
       "text": [
        "\r",
        "- Loading 224 assets: [==============      ] 74%"
       ]
      },
      {
       "output_type": "stream",
       "stream": "stdout",
       "text": [
        "\r",
        "- Loading 224 assets: [==============      ] 74%"
       ]
      },
      {
       "output_type": "stream",
       "stream": "stdout",
       "text": [
        "\r",
        "- Loading 224 assets: [===============     ] 75%"
       ]
      },
      {
       "output_type": "stream",
       "stream": "stdout",
       "text": [
        "\r",
        "- Loading 224 assets: [===============     ] 75%"
       ]
      },
      {
       "output_type": "stream",
       "stream": "stdout",
       "text": [
        "\r",
        "- Loading 224 assets: [===============     ] 75%"
       ]
      },
      {
       "output_type": "stream",
       "stream": "stdout",
       "text": [
        "\r",
        "- Loading 224 assets: [===============     ] 76%"
       ]
      },
      {
       "output_type": "stream",
       "stream": "stdout",
       "text": [
        "\r",
        "- Loading 224 assets: [===============     ] 76%"
       ]
      },
      {
       "output_type": "stream",
       "stream": "stdout",
       "text": [
        "\r",
        "- Loading 224 assets: [===============     ] 77%"
       ]
      },
      {
       "output_type": "stream",
       "stream": "stdout",
       "text": [
        "\r",
        "- Loading 224 assets: [===============     ] 77%"
       ]
      },
      {
       "output_type": "stream",
       "stream": "stdout",
       "text": [
        "\r",
        "- Loading 224 assets: [===============     ] 78%"
       ]
      },
      {
       "output_type": "stream",
       "stream": "stdout",
       "text": [
        "\r",
        "- Loading 224 assets: [===============     ] 78%"
       ]
      },
      {
       "output_type": "stream",
       "stream": "stdout",
       "text": [
        "\r",
        "- Loading 224 assets: [===============     ] 79%"
       ]
      },
      {
       "output_type": "stream",
       "stream": "stdout",
       "text": [
        "\r",
        "- Loading 224 assets: [===============     ] 79%"
       ]
      },
      {
       "output_type": "stream",
       "stream": "stdout",
       "text": [
        "\r",
        "- Loading 224 assets: [===============     ] 79%"
       ]
      },
      {
       "output_type": "stream",
       "stream": "stdout",
       "text": [
        "\r",
        "- Loading 224 assets: [================    ] 80%"
       ]
      },
      {
       "output_type": "stream",
       "stream": "stdout",
       "text": [
        "\r",
        "- Loading 224 assets: [================    ] 80%"
       ]
      },
      {
       "output_type": "stream",
       "stream": "stdout",
       "text": [
        "\r",
        "- Loading 224 assets: [================    ] 81%"
       ]
      },
      {
       "output_type": "stream",
       "stream": "stdout",
       "text": [
        "\r",
        "- Loading 224 assets: [================    ] 81%"
       ]
      },
      {
       "output_type": "stream",
       "stream": "stdout",
       "text": [
        "\r",
        "- Loading 224 assets: [================    ] 82%"
       ]
      },
      {
       "output_type": "stream",
       "stream": "stdout",
       "text": [
        "\r",
        "- Loading 224 assets: [================    ] 82%"
       ]
      },
      {
       "output_type": "stream",
       "stream": "stdout",
       "text": [
        "\r",
        "- Loading 224 assets: [================    ] 83%"
       ]
      },
      {
       "output_type": "stream",
       "stream": "stdout",
       "text": [
        "\r",
        "- Loading 224 assets: [================    ] 83%"
       ]
      },
      {
       "output_type": "stream",
       "stream": "stdout",
       "text": [
        "\r",
        "- Loading 224 assets: [================    ] 83%"
       ]
      },
      {
       "output_type": "stream",
       "stream": "stdout",
       "text": [
        "\r",
        "- Loading 224 assets: [================    ] 84%"
       ]
      },
      {
       "output_type": "stream",
       "stream": "stdout",
       "text": [
        "\r",
        "- Loading 224 assets: [================    ] 84%"
       ]
      },
      {
       "output_type": "stream",
       "stream": "stdout",
       "text": [
        "\r",
        "- Loading 224 assets: [=================   ] 85%"
       ]
      },
      {
       "output_type": "stream",
       "stream": "stdout",
       "text": [
        "\r",
        "- Loading 224 assets: [=================   ] 85%"
       ]
      },
      {
       "output_type": "stream",
       "stream": "stdout",
       "text": [
        "\r",
        "- Loading 224 assets: [=================   ] 86%"
       ]
      },
      {
       "output_type": "stream",
       "stream": "stdout",
       "text": [
        "\r",
        "- Loading 224 assets: [=================   ] 86%"
       ]
      },
      {
       "output_type": "stream",
       "stream": "stdout",
       "text": [
        "\r",
        "- Loading 224 assets: [=================   ] 87%"
       ]
      },
      {
       "output_type": "stream",
       "stream": "stdout",
       "text": [
        "\r",
        "- Loading 224 assets: [=================   ] 87%"
       ]
      },
      {
       "output_type": "stream",
       "stream": "stdout",
       "text": [
        "\r",
        "- Loading 224 assets: [=================   ] 87%"
       ]
      },
      {
       "output_type": "stream",
       "stream": "stdout",
       "text": [
        "\r",
        "- Loading 224 assets: [=================   ] 88%"
       ]
      },
      {
       "output_type": "stream",
       "stream": "stdout",
       "text": [
        "\r",
        "- Loading 224 assets: [=================   ] 88%"
       ]
      },
      {
       "output_type": "stream",
       "stream": "stdout",
       "text": [
        "\r",
        "- Loading 224 assets: [=================   ] 89%"
       ]
      },
      {
       "output_type": "stream",
       "stream": "stdout",
       "text": [
        "\r",
        "- Loading 224 assets: [=================   ] 89%"
       ]
      },
      {
       "output_type": "stream",
       "stream": "stdout",
       "text": [
        "\r",
        "- Loading 224 assets: [==================  ] 90%"
       ]
      },
      {
       "output_type": "stream",
       "stream": "stdout",
       "text": [
        "\r",
        "- Loading 224 assets: [==================  ] 90%"
       ]
      },
      {
       "output_type": "stream",
       "stream": "stdout",
       "text": [
        "\r",
        "- Loading 224 assets: [==================  ] 91%"
       ]
      },
      {
       "output_type": "stream",
       "stream": "stdout",
       "text": [
        "\r",
        "- Loading 224 assets: [==================  ] 91%"
       ]
      },
      {
       "output_type": "stream",
       "stream": "stdout",
       "text": [
        "\r",
        "- Loading 224 assets: [==================  ] 91%"
       ]
      },
      {
       "output_type": "stream",
       "stream": "stdout",
       "text": [
        "\r",
        "- Loading 224 assets: [==================  ] 92%"
       ]
      },
      {
       "output_type": "stream",
       "stream": "stdout",
       "text": [
        "\r",
        "- Loading 224 assets: [==================  ] 92%"
       ]
      },
      {
       "output_type": "stream",
       "stream": "stdout",
       "text": [
        "\r",
        "- Loading 224 assets: [==================  ] 93%"
       ]
      },
      {
       "output_type": "stream",
       "stream": "stdout",
       "text": [
        "\r",
        "- Loading 224 assets: [==================  ] 93%"
       ]
      },
      {
       "output_type": "stream",
       "stream": "stdout",
       "text": [
        "\r",
        "- Loading 224 assets: [==================  ] 94%"
       ]
      },
      {
       "output_type": "stream",
       "stream": "stdout",
       "text": [
        "\r",
        "- Loading 224 assets: [==================  ] 94%"
       ]
      },
      {
       "output_type": "stream",
       "stream": "stdout",
       "text": [
        "\r",
        "- Loading 224 assets: [=================== ] 95%"
       ]
      },
      {
       "output_type": "stream",
       "stream": "stdout",
       "text": [
        "\r",
        "- Loading 224 assets: [=================== ] 95%"
       ]
      },
      {
       "output_type": "stream",
       "stream": "stdout",
       "text": [
        "\r",
        "- Loading 224 assets: [=================== ] 95%"
       ]
      },
      {
       "output_type": "stream",
       "stream": "stdout",
       "text": [
        "\r",
        "- Loading 224 assets: [=================== ] 96%"
       ]
      },
      {
       "output_type": "stream",
       "stream": "stdout",
       "text": [
        "\r",
        "- Loading 224 assets: [=================== ] 96%"
       ]
      },
      {
       "output_type": "stream",
       "stream": "stdout",
       "text": [
        "\r",
        "- Loading 224 assets: [=================== ] 97%"
       ]
      },
      {
       "output_type": "stream",
       "stream": "stdout",
       "text": [
        "\r",
        "- Loading 224 assets: [=================== ] 97%"
       ]
      },
      {
       "output_type": "stream",
       "stream": "stdout",
       "text": [
        "\r",
        "- Loading 224 assets: [=================== ] 98%"
       ]
      },
      {
       "output_type": "stream",
       "stream": "stdout",
       "text": [
        "\r",
        "- Loading 224 assets: [=================== ] 98%"
       ]
      },
      {
       "output_type": "stream",
       "stream": "stdout",
       "text": [
        "\r",
        "- Loading 224 assets: [=================== ] 99%"
       ]
      },
      {
       "output_type": "stream",
       "stream": "stdout",
       "text": [
        "\r",
        "- Loading 224 assets: [=================== ] 99%"
       ]
      },
      {
       "output_type": "stream",
       "stream": "stdout",
       "text": [
        "\r",
        "- Loading 224 assets: [====================] 100%"
       ]
      }
     ],
     "prompt_number": 3
    },
    {
     "cell_type": "code",
     "collapsed": false,
     "input": [
      "from menpo.visualize import visualize_images\n",
      "\n",
      "visualize_images(test_images)"
     ],
     "language": "python",
     "metadata": {},
     "outputs": [
      {
       "metadata": {},
       "output_type": "display_data",
       "png": "[encoded data removed]",
       "text": [
        "<matplotlib.figure.Figure at 0x7fa38e89e050>"
       ]
      }
     ],
     "prompt_number": 4
    },
    {
     "cell_type": "heading",
     "level": 1,
     "metadata": {},
     "source": [
      "Active Appearance Models"
     ]
    },
    {
     "cell_type": "code",
     "collapsed": false,
     "input": [
      "from alabortijcv2015.utils import pickle_load\n",
      "\n",
      "aam_type = 'PartsAAM'\n",
      "\n",
      "aam = pickle_load(path + 'PhD/Models/ijcv2015/exp1_int_' + aam_type)"
     ],
     "language": "python",
     "metadata": {},
     "outputs": [],
     "prompt_number": 5
    },
    {
     "cell_type": "heading",
     "level": 2,
     "metadata": {},
     "source": [
      "Fitting Parameters"
     ]
    },
    {
     "cell_type": "code",
     "collapsed": false,
     "input": [
      "sampling_step = 1\n",
      "\n",
      "sampling_mask = np.require(np.zeros((17, 17)), dtype=np.bool)\n",
      "sampling_mask[::sampling_step, ::sampling_step] = True\n",
      "\n",
      "n_shape = [3, 12]\n",
      "n_appearance = [50, 100]\n",
      "\n",
      "noise_std = [None, 0, 0.02, 0.04, 0.06]\n",
      "max_iters = 20\n",
      "prior = False"
     ],
     "language": "python",
     "metadata": {},
     "outputs": [],
     "prompt_number": 6
    },
    {
     "cell_type": "heading",
     "level": 2,
     "metadata": {},
     "source": [
      "Simultaneous Algorithms"
     ]
    },
    {
     "cell_type": "heading",
     "level": 3,
     "metadata": {},
     "source": [
      "Simultaneous Inverse Compositional Newton (SICN)"
     ]
    },
    {
     "cell_type": "code",
     "collapsed": false,
     "input": [
      "from alabortijcv2015.aam import PartsAAMFitter\n",
      "from alabortijcv2015.aam.algorithm import SICN\n",
      "\n",
      "fitter = PartsAAMFitter(aam, algorithm_cls=SICN, n_shape=n_shape,\n",
      "                        n_appearance=n_appearance, sampling_mask= sampling_mask)"
     ],
     "language": "python",
     "metadata": {},
     "outputs": []
    },
    {
     "cell_type": "code",
     "collapsed": false,
     "input": [
      "from alabortijcv2015.utils import pickle_dump\n",
      "from alabortijcv2015.aam import SerializableAAMFitterResult\n",
      "\n",
      "for n in noise_std:\n",
      "    \n",
      "    fitter_results = []\n",
      "    \n",
      "    for seed in xrange(repeat):\n",
      "\n",
      "        np.random.seed(seed=seed)\n",
      "\n",
      "        for j, i in enumerate(test_images):\n",
      "\n",
      "            gt_s = i.landmarks[group].lms\n",
      "\n",
      "            if n is not None:\n",
      "                s = fitter.perturb_shape(gt_s, noise_std=n)\n",
      "            else:\n",
      "                s = gt_s\n",
      "\n",
      "            fr = fitter.fit(i, s, gt_shape=gt_s, max_iters=max_iters, prior=prior)\n",
      "\n",
      "            fitter_results.append(fr)\n",
      "            fr.downscale = 0.5\n",
      "\n",
      "            #print 'Image: ', j\n",
      "            #print fr\n",
      "        \n",
      "        if n is None or 0:\n",
      "            break\n",
      "    \n",
      "    print n\n",
      "\n",
      "    alg_type = fitter._algorithms[0].__class__.__name__\n",
      "    results = [SerializableAAMFitterResult('none', fr.shapes(), fr.costs(), fr.n_iters, alg_type, fr.gt_shape) \n",
      "               for fr in fitter_results]\n",
      "\n",
      "    pickle_dump(results, path + 'PhD/Results/ijcv2015/exp3_int_' + aam_type + '_' + alg_type + '_' + db + '_' + str(n))"
     ],
     "language": "python",
     "metadata": {},
     "outputs": []
    },
    {
     "cell_type": "code",
     "collapsed": false,
     "input": [
      "#from menpofit.visualize import visualize_fitting_results\n",
      "    \n",
      "#visualize_fitting_results(fitter_results)"
     ],
     "language": "python",
     "metadata": {},
     "outputs": []
    },
    {
     "cell_type": "heading",
     "level": 3,
     "metadata": {},
     "source": [
      "Simultaneous Forward Compositional Newton (SFCN)"
     ]
    },
    {
     "cell_type": "code",
     "collapsed": false,
     "input": [
      "from alabortijcv2015.aam import PartsAAMFitter\n",
      "from alabortijcv2015.aam.algorithm import SFCN\n",
      "\n",
      "fitter = PartsAAMFitter(aam, algorithm_cls=SFCN, n_shape=n_shape,\n",
      "                        n_appearance=n_appearance, sampling_mask= sampling_mask)"
     ],
     "language": "python",
     "metadata": {},
     "outputs": []
    },
    {
     "cell_type": "code",
     "collapsed": false,
     "input": [
      "from alabortijcv2015.utils import pickle_dump\n",
      "from alabortijcv2015.aam import SerializableAAMFitterResult\n",
      "\n",
      "for n in noise_std:\n",
      "    \n",
      "    fitter_results = []\n",
      "    \n",
      "    for seed in xrange(repeat):\n",
      "\n",
      "        np.random.seed(seed=seed)\n",
      "\n",
      "        for j, i in enumerate(test_images):\n",
      "\n",
      "            gt_s = i.landmarks[group].lms\n",
      "\n",
      "            if n is not None:\n",
      "                s = fitter.perturb_shape(gt_s, noise_std=n)\n",
      "            else:\n",
      "                s = gt_s\n",
      "\n",
      "            fr = fitter.fit(i, s, gt_shape=gt_s, max_iters=max_iters, prior=prior)\n",
      "\n",
      "            fitter_results.append(fr)\n",
      "            fr.downscale = 0.5\n",
      "\n",
      "            #print 'Image: ', j\n",
      "            #print fr\n",
      "        \n",
      "        if n is None or 0:\n",
      "            break\n",
      "    \n",
      "    print n\n",
      "\n",
      "    alg_type = fitter._algorithms[0].__class__.__name__\n",
      "    results = [SerializableAAMFitterResult('none', fr.shapes(), fr.costs(), fr.n_iters, alg_type, fr.gt_shape) \n",
      "               for fr in fitter_results]\n",
      "\n",
      "    pickle_dump(results, path + 'PhD/Results/ijcv2015/exp3_int_' + aam_type + '_' + alg_type + '_' + db + '_' + str(n))"
     ],
     "language": "python",
     "metadata": {},
     "outputs": []
    },
    {
     "cell_type": "code",
     "collapsed": false,
     "input": [
      "#from menpofit.visualize import visualize_fitting_results\n",
      "    \n",
      "#visualize_fitting_results(fitter_results)"
     ],
     "language": "python",
     "metadata": {},
     "outputs": []
    },
    {
     "cell_type": "heading",
     "level": 3,
     "metadata": {},
     "source": [
      "Simultaneous Symmetric Compositional (SSC)"
     ]
    },
    {
     "cell_type": "code",
     "collapsed": false,
     "input": [
      "from alabortijcv2015.aam import PartsAAMFitter\n",
      "from alabortijcv2015.aam.algorithm import SSC\n",
      "\n",
      "fitter = PartsAAMFitter(aam, algorithm_cls=SSC, n_shape=n_shape,\n",
      "                        n_appearance=n_appearance, sampling_mask= sampling_mask)"
     ],
     "language": "python",
     "metadata": {},
     "outputs": []
    },
    {
     "cell_type": "code",
     "collapsed": false,
     "input": [
      "from alabortijcv2015.utils import pickle_dump\n",
      "from alabortijcv2015.aam import SerializableAAMFitterResult\n",
      "\n",
      "for n in noise_std:\n",
      "    \n",
      "    fitter_results = []\n",
      "    \n",
      "    for seed in xrange(repeat):\n",
      "\n",
      "        np.random.seed(seed=seed)\n",
      "\n",
      "        for j, i in enumerate(test_images):\n",
      "\n",
      "            gt_s = i.landmarks[group].lms\n",
      "\n",
      "            if n is not None:\n",
      "                s = fitter.perturb_shape(gt_s, noise_std=n)\n",
      "            else:\n",
      "                s = gt_s\n",
      "\n",
      "            fr = fitter.fit(i, s, gt_shape=gt_s, max_iters=max_iters, prior=prior)\n",
      "\n",
      "            fitter_results.append(fr)\n",
      "            fr.downscale = 0.5\n",
      "\n",
      "            #print 'Image: ', j\n",
      "            #print fr\n",
      "        \n",
      "        if n is None or 0:\n",
      "            break\n",
      "    \n",
      "    print n\n",
      "\n",
      "    alg_type = fitter._algorithms[0].__class__.__name__\n",
      "    results = [SerializableAAMFitterResult('none', fr.shapes(), fr.costs(), fr.n_iters, alg_type, fr.gt_shape) \n",
      "               for fr in fitter_results]\n",
      "\n",
      "    pickle_dump(results, path + 'PhD/Results/ijcv2015/exp3_int_' + aam_type + '_' + alg_type + '_' + db + '_' + str(n))"
     ],
     "language": "python",
     "metadata": {},
     "outputs": []
    },
    {
     "cell_type": "code",
     "collapsed": false,
     "input": [
      "#from menpofit.visualize import visualize_fitting_results\n",
      "    \n",
      "#visualize_fitting_results(fitter_results)"
     ],
     "language": "python",
     "metadata": {},
     "outputs": []
    },
    {
     "cell_type": "heading",
     "level": 3,
     "metadata": {},
     "source": [
      "Simultaneous Bidirectional Algorithm (SBC)"
     ]
    },
    {
     "cell_type": "code",
     "collapsed": false,
     "input": [
      "from alabortijcv2015.aam import PartsAAMFitter\n",
      "from alabortijcv2015.aam.algorithm import SBC\n",
      "\n",
      "fitter = PartsAAMFitter(aam, algorithm_cls=SBC, n_shape=n_shape,\n",
      "                        n_appearance=n_appearance, sampling_mask=sampling_mask)"
     ],
     "language": "python",
     "metadata": {},
     "outputs": []
    },
    {
     "cell_type": "code",
     "collapsed": false,
     "input": [
      "from alabortijcv2015.utils import pickle_dump\n",
      "from alabortijcv2015.aam import SerializableAAMFitterResult\n",
      "    \n",
      "for n in noise_std:\n",
      "    \n",
      "    fitter_results = []\n",
      "    \n",
      "    for seed in xrange(repeat):\n",
      "\n",
      "        np.random.seed(seed=seed)\n",
      "\n",
      "        for j, i in enumerate(test_images):\n",
      "\n",
      "            gt_s = i.landmarks[group].lms\n",
      "\n",
      "            if n is not None:\n",
      "                s = fitter.perturb_shape(gt_s, noise_std=n)\n",
      "            else:\n",
      "                s = gt_s\n",
      "\n",
      "            fr = fitter.fit(i, s, gt_shape=gt_s, max_iters=max_iters, prior=prior)\n",
      "\n",
      "            fitter_results.append(fr)\n",
      "            fr.downscale = 0.5\n",
      "\n",
      "            print 'Image: ', j\n",
      "            print fr\n",
      "            \n",
      "        if n is None or 0:\n",
      "            break\n",
      "            \n",
      "    print n\n",
      "\n",
      "    alg_type = fitter._algorithms[0].__class__.__name__\n",
      "    results = [SerializableAAMFitterResult('none', fr.shapes(), fr.costs(), fr.n_iters, alg_type, fr.gt_shape) \n",
      "               for fr in fitter_results]\n",
      "    \n",
      "    pickle_dump(results, path + 'PhD/Results/ijcv2015/exp3_int_' + aam_type + '_' + alg_type + '_' + db + '_' + str(n))"
     ],
     "language": "python",
     "metadata": {},
     "outputs": []
    },
    {
     "cell_type": "code",
     "collapsed": false,
     "input": [
      "#from menpofit.visualize import visualize_fitting_results\n",
      "    \n",
      "#visualize_fitting_results(fitter_results)"
     ],
     "language": "python",
     "metadata": {},
     "outputs": []
    },
    {
     "cell_type": "heading",
     "level": 2,
     "metadata": {},
     "source": [
      "Alternating Algorithms"
     ]
    },
    {
     "cell_type": "heading",
     "level": 3,
     "metadata": {},
     "source": [
      "Alternating Inverse Compositional Newton (AICN)"
     ]
    },
    {
     "cell_type": "code",
     "collapsed": false,
     "input": [
      "from alabortijcv2015.aam import PartsAAMFitter\n",
      "from alabortijcv2015.aam.algorithm import AICN\n",
      "\n",
      "fitter = PartsAAMFitter(aam, algorithm_cls=AICN, n_shape=n_shape,\n",
      "                        n_appearance=n_appearance, sampling_mask=sampling_mask)"
     ],
     "language": "python",
     "metadata": {},
     "outputs": []
    },
    {
     "cell_type": "code",
     "collapsed": false,
     "input": [
      "from alabortijcv2015.utils import pickle_dump\n",
      "from alabortijcv2015.aam import SerializableAAMFitterResult\n",
      "    \n",
      "for n in noise_std:\n",
      "    \n",
      "    fitter_results = []\n",
      "    \n",
      "    for seed in xrange(repeat):\n",
      "\n",
      "        np.random.seed(seed=seed)\n",
      "\n",
      "        for j, i in enumerate(test_images):\n",
      "\n",
      "            gt_s = i.landmarks[group].lms\n",
      "\n",
      "            if n is not None:\n",
      "                s = fitter.perturb_shape(gt_s, noise_std=n)\n",
      "            else:\n",
      "                s = gt_s\n",
      "\n",
      "            fr = fitter.fit(i, s, gt_shape=gt_s, max_iters=max_iters, prior=prior)\n",
      "\n",
      "            fitter_results.append(fr)\n",
      "            fr.downscale = 0.5\n",
      "\n",
      "            #print 'Image: ', j\n",
      "            #print fr\n",
      "        \n",
      "        if n is None or 0:\n",
      "            break\n",
      "            \n",
      "    print n\n",
      "\n",
      "    alg_type = fitter._algorithms[0].__class__.__name__\n",
      "    results = [SerializableAAMFitterResult('none', fr.shapes(), fr.costs(), fr.n_iters, alg_type, fr.gt_shape) \n",
      "               for fr in fitter_results]\n",
      "\n",
      "    pickle_dump(results, path + 'PhD/Results/ijcv2015/exp3_int_' + aam_type + '_' + alg_type + '_' + db + '_' + str(n))"
     ],
     "language": "python",
     "metadata": {},
     "outputs": []
    },
    {
     "cell_type": "code",
     "collapsed": false,
     "input": [
      "#from menpofit.visualize import visualize_fitting_results\n",
      "    \n",
      "#visualize_fitting_results(fitter_results)"
     ],
     "language": "python",
     "metadata": {},
     "outputs": []
    },
    {
     "cell_type": "heading",
     "level": 3,
     "metadata": {},
     "source": [
      "Alternating Forward Compositional Newton (AFCN)"
     ]
    },
    {
     "cell_type": "code",
     "collapsed": false,
     "input": [
      "from alabortijcv2015.aam import PartsAAMFitter\n",
      "from alabortijcv2015.aam.algorithm import AFCN\n",
      "\n",
      "fitter = PartsAAMFitter(aam, algorithm_cls=AFCN, n_shape=n_shape,\n",
      "                        n_appearance=n_appearance, sampling_mask=sampling_mask)"
     ],
     "language": "python",
     "metadata": {},
     "outputs": []
    },
    {
     "cell_type": "code",
     "collapsed": false,
     "input": [
      "from alabortijcv2015.utils import pickle_dump\n",
      "from alabortijcv2015.aam import SerializableAAMFitterResult\n",
      "    \n",
      "for n in noise_std:\n",
      "    \n",
      "    fitter_results = []\n",
      "    \n",
      "    for seed in xrange(repeat):\n",
      "\n",
      "        np.random.seed(seed=seed)\n",
      "\n",
      "        for j, i in enumerate(test_images):\n",
      "\n",
      "            gt_s = i.landmarks[group].lms\n",
      "\n",
      "            if n is not None:\n",
      "                s = fitter.perturb_shape(gt_s, noise_std=n)\n",
      "            else:\n",
      "                s = gt_s\n",
      "\n",
      "            fr = fitter.fit(i, s, gt_shape=gt_s, max_iters=max_iters, prior=prior)\n",
      "\n",
      "            fitter_results.append(fr)\n",
      "            fr.downscale = 0.5\n",
      "\n",
      "            #print 'Image: ', j\n",
      "            #print fr\n",
      "        \n",
      "        if n is None or 0:\n",
      "            break\n",
      "            \n",
      "    print n\n",
      "\n",
      "    alg_type = fitter._algorithms[0].__class__.__name__\n",
      "    results = [SerializableAAMFitterResult('none', fr.shapes(), fr.costs(), fr.n_iters, alg_type, fr.gt_shape) \n",
      "               for fr in fitter_results]\n",
      "\n",
      "    pickle_dump(results, path + 'PhD/Results/ijcv2015/exp3_int_' + aam_type + '_' + alg_type + '_' + db + '_' + str(n))"
     ],
     "language": "python",
     "metadata": {},
     "outputs": []
    },
    {
     "cell_type": "code",
     "collapsed": false,
     "input": [
      "#from menpofit.visualize import visualize_fitting_results\n",
      "    \n",
      "#visualize_fitting_results(fitter_results)"
     ],
     "language": "python",
     "metadata": {},
     "outputs": []
    },
    {
     "cell_type": "heading",
     "level": 3,
     "metadata": {},
     "source": [
      "Alternating Symmetric Compositional (ASC)"
     ]
    },
    {
     "cell_type": "code",
     "collapsed": false,
     "input": [
      "from alabortijcv2015.aam import PartsAAMFitter\n",
      "from alabortijcv2015.aam.algorithm import ASC\n",
      "\n",
      "fitter = PartsAAMFitter(aam, algorithm_cls=ASC, n_shape=n_shape,\n",
      "                        n_appearance=n_appearance, sampling_mask=sampling_mask)"
     ],
     "language": "python",
     "metadata": {},
     "outputs": []
    },
    {
     "cell_type": "code",
     "collapsed": false,
     "input": [
      "from alabortijcv2015.utils import pickle_dump\n",
      "from alabortijcv2015.aam import SerializableAAMFitterResult\n",
      "    \n",
      "for n in noise_std:\n",
      "    \n",
      "    fitter_results = []\n",
      "    \n",
      "    for seed in xrange(repeat):\n",
      "\n",
      "        np.random.seed(seed=seed)\n",
      "\n",
      "        for j, i in enumerate(test_images):\n",
      "\n",
      "            gt_s = i.landmarks[group].lms\n",
      "\n",
      "            if n is not None:\n",
      "                s = fitter.perturb_shape(gt_s, noise_std=n)\n",
      "            else:\n",
      "                s = gt_s\n",
      "\n",
      "            fr = fitter.fit(i, s, gt_shape=gt_s, max_iters=max_iters, prior=prior)\n",
      "\n",
      "            fitter_results.append(fr)\n",
      "            fr.downscale = 0.5\n",
      "\n",
      "            #print 'Image: ', j\n",
      "            #print fr\n",
      "        \n",
      "        if n is None or 0:\n",
      "            break\n",
      "            \n",
      "    print n\n",
      "\n",
      "    alg_type = fitter._algorithms[0].__class__.__name__\n",
      "    results = [SerializableAAMFitterResult('none', fr.shapes(), fr.costs(), fr.n_iters, alg_type, fr.gt_shape) \n",
      "               for fr in fitter_results]\n",
      "\n",
      "    pickle_dump(results, path + 'PhD/Results/ijcv2015/exp3_int_' + aam_type + '_' + alg_type + '_' + db + '_' + str(n))"
     ],
     "language": "python",
     "metadata": {},
     "outputs": []
    },
    {
     "cell_type": "code",
     "collapsed": false,
     "input": [
      "#from menpofit.visualize import visualize_fitting_results\n",
      "    \n",
      "#visualize_fitting_results(fitter_results)"
     ],
     "language": "python",
     "metadata": {},
     "outputs": []
    },
    {
     "cell_type": "heading",
     "level": 3,
     "metadata": {},
     "source": [
      "Alternating Bidirectional Compositional (ABC)"
     ]
    },
    {
     "cell_type": "code",
     "collapsed": false,
     "input": [
      "from alabortijcv2015.aam import PartsAAMFitter\n",
      "from alabortijcv2015.aam.algorithm import ABC\n",
      "\n",
      "fitter = PartsAAMFitter(aam, algorithm_cls=ABC, n_shape=n_shape,\n",
      "                        n_appearance=n_appearance, sampling_mask=sampling_mask)"
     ],
     "language": "python",
     "metadata": {},
     "outputs": []
    },
    {
     "cell_type": "code",
     "collapsed": false,
     "input": [
      "from alabortijcv2015.utils import pickle_dump\n",
      "from alabortijcv2015.aam import SerializableAAMFitterResult\n",
      "    \n",
      "for n in noise_std:\n",
      "    \n",
      "    fitter_results = []\n",
      "    \n",
      "    for seed in xrange(repeat):\n",
      "\n",
      "        np.random.seed(seed=seed)\n",
      "\n",
      "        for j, i in enumerate(test_images):\n",
      "\n",
      "            gt_s = i.landmarks[group].lms\n",
      "\n",
      "            if n is not None:\n",
      "                s = fitter.perturb_shape(gt_s, noise_std=n)\n",
      "            else:\n",
      "                s = gt_s\n",
      "\n",
      "            fr = fitter.fit(i, s, gt_shape=gt_s, max_iters=max_iters, prior=prior)\n",
      "\n",
      "            fitter_results.append(fr)\n",
      "            fr.downscale = 0.5\n",
      "\n",
      "            #print 'Image: ', j\n",
      "            #print fr\n",
      "        \n",
      "        if n is None or 0:\n",
      "            break\n",
      "            \n",
      "    print n\n",
      "\n",
      "    alg_type = fitter._algorithms[0].__class__.__name__\n",
      "    results = [SerializableAAMFitterResult('none', fr.shapes(), fr.costs(), fr.n_iters, alg_type, fr.gt_shape) \n",
      "               for fr in fitter_results]\n",
      "\n",
      "    pickle_dump(results, path + 'PhD/Results/ijcv2015/exp3_int_' + aam_type + '_' + alg_type + '_' + db + '_' + str(n))"
     ],
     "language": "python",
     "metadata": {},
     "outputs": []
    },
    {
     "cell_type": "code",
     "collapsed": false,
     "input": [
      "#from menpofit.visualize import visualize_fitting_results\n",
      "    \n",
      "#visualize_fitting_results(fitter_results)"
     ],
     "language": "python",
     "metadata": {},
     "outputs": []
    },
    {
     "cell_type": "heading",
     "level": 2,
     "metadata": {},
     "source": [
      "Bayesian Algorithms"
     ]
    },
    {
     "cell_type": "heading",
     "level": 3,
     "metadata": {},
     "source": [
      "Bayesian Inverse Compositional Newton (BICN)"
     ]
    },
    {
     "cell_type": "code",
     "collapsed": false,
     "input": [
      "from alabortijcv2015.aam import PartsAAMFitter\n",
      "from alabortijcv2015.aam.algorithm import BICN\n",
      "\n",
      "fitter = PartsAAMFitter(aam, algorithm_cls=BICN, n_shape=n_shape,\n",
      "                        n_appearance=n_appearance, sampling_mask=sampling_mask)"
     ],
     "language": "python",
     "metadata": {},
     "outputs": []
    },
    {
     "cell_type": "code",
     "collapsed": false,
     "input": [
      "from alabortijcv2015.utils import pickle_dump\n",
      "from alabortijcv2015.aam import SerializableAAMFitterResult\n",
      "    \n",
      "for n in noise_std:\n",
      "    \n",
      "    fitter_results = []\n",
      "    \n",
      "    for seed in xrange(repeat):\n",
      "\n",
      "        np.random.seed(seed=seed)\n",
      "\n",
      "        for j, i in enumerate(test_images):\n",
      "\n",
      "            gt_s = i.landmarks[group].lms\n",
      "\n",
      "            if n is not None:\n",
      "                s = fitter.perturb_shape(gt_s, noise_std=n)\n",
      "            else:\n",
      "                s = gt_s\n",
      "\n",
      "            fr = fitter.fit(i, s, gt_shape=gt_s, max_iters=max_iters, prior=prior)\n",
      "\n",
      "            fitter_results.append(fr)\n",
      "            fr.downscale = 0.5\n",
      "\n",
      "            #print 'Image: ', j\n",
      "            #print fr\n",
      "        \n",
      "        if n is None or 0:\n",
      "            break\n",
      "            \n",
      "    print n\n",
      "\n",
      "    alg_type = fitter._algorithms[0].__class__.__name__\n",
      "    results = [SerializableAAMFitterResult('none', fr.shapes(), fr.costs(), fr.n_iters, alg_type, fr.gt_shape) \n",
      "               for fr in fitter_results]\n",
      "\n",
      "    pickle_dump(results, path + 'PhD/Results/ijcv2015/exp3_int_' + aam_type + '_' + alg_type + '_' + db + '_' + str(n))"
     ],
     "language": "python",
     "metadata": {},
     "outputs": []
    },
    {
     "cell_type": "code",
     "collapsed": false,
     "input": [
      "#from menpofit.visualize import visualize_fitting_results\n",
      "    \n",
      "#visualize_fitting_results(fitter_results)"
     ],
     "language": "python",
     "metadata": {},
     "outputs": []
    },
    {
     "cell_type": "heading",
     "level": 3,
     "metadata": {},
     "source": [
      "Bayesian Forward Compositional Newton (BFCN)"
     ]
    },
    {
     "cell_type": "code",
     "collapsed": false,
     "input": [
      "from alabortijcv2015.aam import PartsAAMFitter\n",
      "from alabortijcv2015.aam.algorithm import BFCN\n",
      "\n",
      "fitter = PartsAAMFitter(aam, algorithm_cls=BFCN, n_shape=n_shape,\n",
      "                        n_appearance=n_appearance, sampling_mask=sampling_mask)"
     ],
     "language": "python",
     "metadata": {},
     "outputs": []
    },
    {
     "cell_type": "code",
     "collapsed": false,
     "input": [
      "from alabortijcv2015.utils import pickle_dump\n",
      "from alabortijcv2015.aam import SerializableAAMFitterResult\n",
      "    \n",
      "for n in [None]:\n",
      "    \n",
      "    fitter_results = []\n",
      "    \n",
      "    for seed in xrange(repeat):\n",
      "\n",
      "        np.random.seed(seed=seed)\n",
      "\n",
      "        for j, i in enumerate(test_images):\n",
      "\n",
      "            gt_s = i.landmarks[group].lms\n",
      "\n",
      "            if n is not None:\n",
      "                s = fitter.perturb_shape(gt_s, noise_std=n)\n",
      "            else:\n",
      "                s = gt_s\n",
      "\n",
      "            fr = fitter.fit(i, s, gt_shape=gt_s, max_iters=max_iters, prior=prior)\n",
      "\n",
      "            fitter_results.append(fr)\n",
      "            fr.downscale = 0.5\n",
      "\n",
      "            #print 'Image: ', j\n",
      "            #print fr\n",
      "        \n",
      "        if n is None or 0:\n",
      "            break\n",
      "            \n",
      "    print n\n",
      "\n",
      "    alg_type = fitter._algorithms[0].__class__.__name__\n",
      "    results = [SerializableAAMFitterResult('none', fr.shapes(), fr.costs(), fr.n_iters, alg_type, fr.gt_shape) \n",
      "               for fr in fitter_results]\n",
      "\n",
      "    pickle_dump(results, path + 'PhD/Results/ijcv2015/exp3_int_' + aam_type + '_' + alg_type + '_' + db + '_' + str(n))"
     ],
     "language": "python",
     "metadata": {},
     "outputs": []
    },
    {
     "cell_type": "code",
     "collapsed": false,
     "input": [
      "#from menpofit.visualize import visualize_fitting_results\n",
      "    \n",
      "#visualize_fitting_results(fitter_results)"
     ],
     "language": "python",
     "metadata": {},
     "outputs": []
    },
    {
     "cell_type": "heading",
     "level": 3,
     "metadata": {},
     "source": [
      "Bayesian Symmetric Compositional (BSC)"
     ]
    },
    {
     "cell_type": "code",
     "collapsed": false,
     "input": [
      "from alabortijcv2015.aam import PartsAAMFitter\n",
      "from alabortijcv2015.aam.algorithm import BSC\n",
      "\n",
      "fitter = PartsAAMFitter(aam, algorithm_cls=BSC, n_shape=n_shape,\n",
      "                        n_appearance=n_appearance, sampling_mask=sampling_mask)"
     ],
     "language": "python",
     "metadata": {},
     "outputs": []
    },
    {
     "cell_type": "code",
     "collapsed": false,
     "input": [
      "from alabortijcv2015.utils import pickle_dump\n",
      "from alabortijcv2015.aam import SerializableAAMFitterResult\n",
      "    \n",
      "for n in noise_std:\n",
      "    \n",
      "    fitter_results = []\n",
      "    \n",
      "    for seed in xrange(repeat):\n",
      "\n",
      "        np.random.seed(seed=seed)\n",
      "\n",
      "        for j, i in enumerate(test_images):\n",
      "\n",
      "            gt_s = i.landmarks[group].lms\n",
      "\n",
      "            if n is not None:\n",
      "                s = fitter.perturb_shape(gt_s, noise_std=n)\n",
      "            else:\n",
      "                s = gt_s\n",
      "\n",
      "            fr = fitter.fit(i, s, gt_shape=gt_s, max_iters=max_iters, prior=prior)\n",
      "\n",
      "            fitter_results.append(fr)\n",
      "            fr.downscale = 0.5\n",
      "\n",
      "            #print 'Image: ', j\n",
      "            #print fr\n",
      "        \n",
      "        if n is None or 0:\n",
      "            break\n",
      "            \n",
      "    print n\n",
      "\n",
      "    alg_type = fitter._algorithms[0].__class__.__name__\n",
      "    results = [SerializableAAMFitterResult('none', fr.shapes(), fr.costs(), fr.n_iters, alg_type, fr.gt_shape) \n",
      "               for fr in fitter_results]\n",
      "\n",
      "    pickle_dump(results, path + 'PhD/Results/ijcv2015/exp3_int_' + aam_type + '_' + alg_type + '_' + db + '_' + str(n))"
     ],
     "language": "python",
     "metadata": {},
     "outputs": []
    },
    {
     "cell_type": "code",
     "collapsed": false,
     "input": [
      "#from menpofit.visualize import visualize_fitting_results\n",
      "    \n",
      "#visualize_fitting_results(fitter_results)"
     ],
     "language": "python",
     "metadata": {},
     "outputs": []
    },
    {
     "cell_type": "heading",
     "level": 3,
     "metadata": {},
     "source": [
      "Bayesian Bidirectional Compositional (BBC)"
     ]
    },
    {
     "cell_type": "code",
     "collapsed": false,
     "input": [
      "from alabortijcv2015.aam import PartsAAMFitter\n",
      "from alabortijcv2015.aam.algorithm import BBC\n",
      "\n",
      "fitter = PartsAAMFitter(aam, algorithm_cls=BBC, n_shape=n_shape,\n",
      "                        n_appearance=n_appearance, sampling_mask= sampling_mask)"
     ],
     "language": "python",
     "metadata": {},
     "outputs": []
    },
    {
     "cell_type": "code",
     "collapsed": false,
     "input": [
      "from alabortijcv2015.utils import pickle_dump\n",
      "from alabortijcv2015.aam import SerializableAAMFitterResult\n",
      "    \n",
      "for n in noise_std:\n",
      "    \n",
      "    fitter_results = []\n",
      "    \n",
      "    for seed in xrange(repeat):\n",
      "\n",
      "        np.random.seed(seed=seed)\n",
      "\n",
      "        for j, i in enumerate(test_images):\n",
      "\n",
      "            gt_s = i.landmarks[group].lms\n",
      "\n",
      "            if n is not None:\n",
      "                s = fitter.perturb_shape(gt_s, noise_std=n)\n",
      "            else:\n",
      "                s = gt_s\n",
      "\n",
      "            fr = fitter.fit(i, s, gt_shape=gt_s, max_iters=max_iters, prior=prior)\n",
      "\n",
      "            fitter_results.append(fr)\n",
      "            fr.downscale = 0.5\n",
      "\n",
      "            #print 'Image: ', j\n",
      "            #print fr\n",
      "            \n",
      "        if n is None or 0:\n",
      "            break\n",
      "            \n",
      "    print n\n",
      "\n",
      "    alg_type = fitter._algorithms[0].__class__.__name__\n",
      "    results = [SerializableAAMFitterResult('none', fr.shapes(), fr.costs(), fr.n_iters, alg_type, fr.gt_shape) \n",
      "               for fr in fitter_results]\n",
      "\n",
      "    pickle_dump(results, path + 'PhD/Results/ijcv2015/exp3_int_' + aam_type + '_' + alg_type + '_' + db + '_' + str(n))"
     ],
     "language": "python",
     "metadata": {},
     "outputs": []
    },
    {
     "cell_type": "code",
     "collapsed": false,
     "input": [
      "#from menpofit.visualize import visualize_fitting_results\n",
      "    \n",
      "#visualize_fitting_results(fitter_results)"
     ],
     "language": "python",
     "metadata": {},
     "outputs": []
    }
   ],
   "metadata": {}
  }
 ]
}