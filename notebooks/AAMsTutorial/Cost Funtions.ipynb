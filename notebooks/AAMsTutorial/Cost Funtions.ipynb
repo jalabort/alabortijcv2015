{
 "metadata": {
  "name": "",
  "signature": "sha256:44bebf2c5ac086fa35e7ff58215dbdcb295142d52a048d7d88afddce5228fd56"
 },
 "nbformat": 3,
 "nbformat_minor": 0,
 "worksheets": [
  {
   "cells": [
    {
     "cell_type": "code",
     "collapsed": false,
     "input": [
      "%matplotlib inline"
     ],
     "language": "python",
     "metadata": {},
     "outputs": [],
     "prompt_number": 1
    },
    {
     "cell_type": "markdown",
     "metadata": {},
     "source": [
      "Define functions:"
     ]
    },
    {
     "cell_type": "code",
     "collapsed": false,
     "input": [
      "import numpy as np\n",
      "from menpo.image import Image\n",
      "from alabortijcv2015.aam import GlobalAAM, PartsAAM\n",
      "from alabortijcv2015.aam.algorithm import Simultaneous, Alternating, ProjectOut, Bayesian \n",
      "\n",
      "\n",
      "# Cost functions --------------------------------------------------\n",
      "\n",
      "# ssd\n",
      "ssd_cost = lambda i, r: np.sum((i.pixels - r.pixels) ** 2)\n",
      "\n",
      "def ssd_cost2(i, r):\n",
      "    r = i.as_vector() - r.as_vector()\n",
      "    return r.T.dot(r)\n",
      "\n",
      "# project out\n",
      "def projected_ssd_cost(i, t, am): \n",
      "    r = i.as_vector() - t.as_vector()\n",
      "    A = am.components.T\n",
      "    return r.dot(r - A.dot(A.T.dot(r)))\n",
      "\n",
      "# bayesian\n",
      "def bayesian_ssd_cost(i, t, am):\n",
      "    r = i.as_vector() - t.as_vector()\n",
      "    A = am.components.T\n",
      "    l = am.eigenvalues\n",
      "    s2 = am.noise_variance()\n",
      "    a = 1/s2 - 1/l\n",
      "    return r.dot(1/s2 * r - A.dot((a[..., None] * A).T.dot(r)))\n",
      "\n",
      "\n",
      "def evaluate2d_cost_around_minima(fitter, img, gt_shape, p_index, deltas, level=-1):\n",
      "    \n",
      "    # extract algorithm\n",
      "    algorithm = fitter._algorithms[level]\n",
      "    \n",
      "    # set up warping function flag\n",
      "    if isinstance(fitter.dm, GlobalAAM):\n",
      "        is_global_warp = True\n",
      "    else:\n",
      "        is_global_warp = False\n",
      "        # extract patch shape\n",
      "        patch_shape = aam.patch_shape\n",
      "    \n",
      "    # set up cost funtion flag\n",
      "    if (isinstance(algorithm, Simultaneous) or \n",
      "        isinstance(algorithm, Alternating)):\n",
      "        is_ssd = True\n",
      "        # wire up cost funtion\n",
      "        compute_cost = ssd_cost2\n",
      "    else:\n",
      "        is_ssd = False\n",
      "        if isinstance(algorithm, ProjectOut) :\n",
      "            # wire up cost funtion\n",
      "            compute_cost = projected_ssd_cost\n",
      "        else:\n",
      "            # wire up cost funtion\n",
      "            compute_cost = bayesian_ssd_cost\n",
      "        \n",
      "    # extract transform, appearance model and reference frame\n",
      "    transform = algorithm.transform\n",
      "    appearance_model = algorithm.appearance_model\n",
      "    reference_frame = appearance_model.mean()\n",
      "    \n",
      "    # apply features to image\n",
      "    images, _, gt_shapes = fitter._prepare_image(img, gt_shape, gt_shape)\n",
      "    i = images[level]\n",
      "    gt_s = gt_shapes[level]\n",
      "    \n",
      "    # compute minima\n",
      "    transform.set_target(gt_s)\n",
      "    p_min = transform.as_vector().copy()\n",
      "    \n",
      "    # initialize cost matrix \n",
      "    n = len(deltas)\n",
      "    cost = np.zeros((n,))\n",
      "    \n",
      "    # fill out cost matrix\n",
      "    i_p = 0\n",
      "    for delta_p in deltas:   \n",
      "        \n",
      "        # perturb shape parameters\n",
      "        p = p_min.copy()\n",
      "        p[p_index] += delta_p\n",
      "        transform.from_vector_inplace(p)\n",
      "\n",
      "        # warp image\n",
      "        if is_global_warp:\n",
      "            warped_img = i.warp_to_mask(reference_frame.mask, transform)\n",
      "        else:\n",
      "            shape = transform.target\n",
      "            warped_img = Image(i.extract_patches(shape, patch_shape, as_single_array=True))\n",
      "\n",
      "        # compute cost   \n",
      "        if is_ssd:\n",
      "            # reconstruct image\n",
      "            rec_img = appearance_model.reconstruct(warped_img)\n",
      "            # compute cost\n",
      "            cost[i_p] = compute_cost(warped_img, rec_img) / warped_img.n_parameters\n",
      "            #cost[i_p] = compute_cost(warped_img, appearance_model.mean(), appearance_model) / warped_img.n_parameters\n",
      "        else:\n",
      "            # compute cost\n",
      "            cost[i_p] = (compute_cost(warped_img, appearance_model.mean(), appearance_model)  / \n",
      "                         warped_img.n_parameters)\n",
      "\n",
      "        # increment p index\n",
      "        i_p += 1\n",
      "        \n",
      "    return cost, p_min\n",
      "\n",
      "\n",
      "def evaluate2d_ls_approx_around_minima(linearizations, deltas):\n",
      "    # initialize cost matrix \n",
      "    n = len(deltas)\n",
      "    cost = np.zeros((n,))\n",
      "    \n",
      "    # fill out cost matrix\n",
      "    i_p = 0\n",
      "    for delta_p in deltas:   \n",
      "        # compute cost\n",
      "        cost[i_p] = linearizations(delta_p)\n",
      "        # increment p index\n",
      "        i_p += 1\n",
      "        \n",
      "    return cost\n",
      "    \n",
      "\n",
      "# def evaluate3d_cost_around_minima(fitter, img, gt_shape, p_indices, deltas, level=-1):\n",
      "    \n",
      "#     # extract aam and algorithm\n",
      "#     aam = fitter.dm\n",
      "#     algorithm = fitter._algorithms[level]\n",
      "    \n",
      "#     # set up warping function flag\n",
      "#     if isinstance(fitter.dm, GlobalAAM):\n",
      "#         is_global_warp = True\n",
      "#     else:\n",
      "#         is_global_warp = False\n",
      "#         # extract patch shape\n",
      "#         patch_shape = aam.patch_shape\n",
      "    \n",
      "#     # set up cost funtion flag\n",
      "#     if (isinstance(algorithm, Simultaneous) or \n",
      "#         isinstance(algorithm, Alternating)):\n",
      "#         is_ssd = True\n",
      "#         # wire up cost funtion\n",
      "#         compute_cost = ssd_cost\n",
      "#     else:\n",
      "#         is_ssd = False\n",
      "#         if isinstance(algorithm, ProjectOut) :\n",
      "#             # wire up cost funtion\n",
      "#             compute_cost = projected_ssd_cost\n",
      "#         else:\n",
      "#             # wire up cost funtion\n",
      "#             compute_cost = bayesian_ssd_cost\n",
      "        \n",
      "#     # extract transform, appearance model and reference frame\n",
      "#     transform = algorithm.transform\n",
      "#     appearance_model = algorithm.appearance_model\n",
      "#     reference_frame = appearance_model.mean()\n",
      "    \n",
      "#     # apply features to image\n",
      "#     images, _, gt_shapes = fitter._prepare_image(img, gt_shape, gt_shape)\n",
      "#     img = images[level]\n",
      "#     gt_shape = gt_shapes[level]\n",
      "    \n",
      "#     # compute minima\n",
      "#     transform.set_target(images[0].landmarks['gt_shape'].lms)\n",
      "#     p_min = transform.as_vector().copy()\n",
      "#     p_min = np.array([ -17.36616676,  -27.1311431,  -486.7136609,  -544.86126114,  -16.73542306])\n",
      "    \n",
      "    \n",
      "#     # initialize cost matrix \n",
      "#     n = len(deltas)\n",
      "#     cost = np.zeros((n, n))\n",
      "    \n",
      "#     # fill out cost matrix\n",
      "#     i_p0 = 0\n",
      "#     for delta_p0 in deltas:\n",
      "#         i_p1 = 0\n",
      "#         for delta_p1 in deltas:\n",
      "            \n",
      "#             # perturb shape parameters\n",
      "#             p = p_min.copy()\n",
      "#             p[p_indices] += np.array([delta_p0, delta_p1])\n",
      "#             transform.from_vector_inplace(p)\n",
      "            \n",
      "#             # warp image\n",
      "#             if is_global_warp:\n",
      "#                 #t = transform_cls(reference_frame.landmarks['source'].lms, shape)\n",
      "#                 warped_img = img.warp_to_mask(reference_frame.mask, transform)\n",
      "#             else:\n",
      "#                 shape = transform.target\n",
      "#                 warped_img = Image(img.extract_patches(shape, patch_shape, as_single_array=True))\n",
      "              \n",
      "#             # compute cost   \n",
      "#             if is_ssd:\n",
      "#                 # reconstruct image\n",
      "#                 rec_img = appearance_model.reconstruct(warped_img)\n",
      "#                 # compute cost\n",
      "#                 cost[i_p0, i_p1] = compute_cost(warped_img, rec_img)\n",
      "#             else:\n",
      "#                 # compute cost\n",
      "#                 cost[i_p0, i_p1] = compute_cost(warped_img, appearance_model.mean(), appearance_model)\n",
      "            \n",
      "#             # increment p1 index\n",
      "#             i_p1 += 1\n",
      "#         # increment p0 index\n",
      "#         i_p0 +=1\n",
      "        \n",
      "#     return cost, p_min"
     ],
     "language": "python",
     "metadata": {},
     "outputs": [],
     "prompt_number": 2
    },
    {
     "cell_type": "code",
     "collapsed": false,
     "input": [
      "from __future__ import division\n",
      "import matplotlib.pyplot as plt\n",
      "from matplotlib import cm\n",
      "from mpl_toolkits.mplot3d import axes3d\n",
      "\n",
      "\n",
      "def plot2d_cost_function(cost, deltas, p_min, margin=0):\n",
      "    \n",
      "    # minus cost\n",
      "    cost = -cost\n",
      "    \n",
      "    # compute true parameter values\n",
      "    p = deltas + p_min\n",
      "    \n",
      "    # compute figure limits\n",
      "    xlim_max = np.max(p)\n",
      "    xlim_min = np.min(p)\n",
      "    ylim_max = 0\n",
      "    ylim_min = np.min(cost)\n",
      "    \n",
      "    # grab figure\n",
      "    fig = plt.figure()\n",
      "    plt.gcf().set_size_inches(np.asanyarray((12, 12)))\n",
      "    \n",
      "    # plot cost function\n",
      "    plt.plot(p, cost)\n",
      "\n",
      "    # plot expected minima\n",
      "    index = np.hstack(np.where(p == p_min))\n",
      "    plt.plot([p_min, p_min], \n",
      "             [ylim_min, cost[index]],\n",
      "              'bo--')\n",
      "    \n",
      "    # plot cost funtion minima\n",
      "    cost_minima = np.max(cost)\n",
      "    index = np.hstack(np.where(cost == cost_minima)) \n",
      "    plt.plot([p[index], p[index]],\n",
      "             [ylim_min, cost_minima],\n",
      "             'r*--')\n",
      "    \n",
      "    # set figure x,y,z labels and limits\n",
      "    ax = plt.gca()\n",
      "    ax.set_xlabel('p')\n",
      "    ax.set_xlim(xlim_min, xlim_max)\n",
      "    ax.set_ylabel('Cost')\n",
      "    ax.set_ylim(ylim_min, ylim_max)\n",
      "    \n",
      "    return fig\n",
      "\n",
      "\n",
      "def draw2d_optimization_path(fig, fr, p_index, level=-1, step=1):\n",
      "    \n",
      "    # grab figure axes\n",
      "    ax = fig.gca()\n",
      "    \n",
      "    # recover optimal parameters per iteration\n",
      "    p_iter = np.asarray(fr.algorithm_results[level].shape_params)[:-2]\n",
      "    \n",
      "    # recover optimal cost per iteration\n",
      "    cost_iter = fr.costs()\n",
      "\n",
      "    # draw optimization path\n",
      "    start = p_iter[0][p_index]\n",
      "    for j, p in enumerate(p_iter[1:]):\n",
      "        p = p[p_index]\n",
      "        # draw optimization step\n",
      "        ax.plot([start, p], \n",
      "                 [-cost_iter[j], -cost_iter[j+1]], \n",
      "                  'kx-', markersize=10)\n",
      "        #l\n",
      "        \n",
      "        start = p\n",
      "        \n",
      "    return fig\n",
      "\n",
      "\n",
      "def draw2d_linearized_cost_function(fig, cost, deltas, p_current, margin=0):\n",
      "    \n",
      "    # grab figure axes\n",
      "    ax = fig.gca()\n",
      "    ylim_min = ax.get_ylim()[0]\n",
      "    \n",
      "    # minus cost\n",
      "    cost = -cost\n",
      "    \n",
      "    # compute true parameter values\n",
      "    p = deltas + p_current\n",
      "    \n",
      "    # plot cost function\n",
      "    ax.plot(p, cost, 'y--')\n",
      "\n",
      "    # plot cost funtion minima\n",
      "    cost_minima = np.max(cost)\n",
      "    index = np.hstack(np.where(cost == cost_minima)) \n",
      "    ax.plot([p[index], p[index]],\n",
      "             [ylim_min, cost_minima],\n",
      "             'ys--')\n",
      "    \n",
      "    return fig\n",
      "\n",
      "\n",
      "# def plot3d_cost_function(cost, deltas, p_min, p_indices, margin=0):\n",
      "    \n",
      "#     cost = -cost\n",
      "#     # grab selected parameters\n",
      "#     p_min = p_min[p_indices]\n",
      "    \n",
      "#     # compute true parameter values\n",
      "#     p0 = deltas - p_min[0]\n",
      "#     p1 = deltas - p_min[1]\n",
      "    \n",
      "#     # build parameter grid\n",
      "#     P0, P1 = np.meshgrid(p0, p1)\n",
      "\n",
      "#     # compute figure limits\n",
      "#     xlim_max = np.max(P0)\n",
      "#     xlim_min = np.min(P0)\n",
      "#     ylim_max = np.max(P1)\n",
      "#     ylim_min = np.min(P1)\n",
      "#     zlim_max = np.max(cost)\n",
      "#     zlim_min = np.min(cost) - margin\n",
      "\n",
      "#     # initialize 3D ploting\n",
      "#     fig = plt.figure()\n",
      "#     ax = fig.add_subplot(111, projection='3d')\n",
      "\n",
      "#     # plot cost function\n",
      "#     ax.plot_surface(P0, P1, cost, rstride=1, cstride=1, alpha=0.5, cmap=cm.jet)\n",
      "#     # plot 2d cost function contour\n",
      "#     cset = ax.contourf(P0, P1, cost, zdir='z', offset=zlim_min, alpha=0.5, cmap=cm.jet)\n",
      "\n",
      "#     # plot projection minima\n",
      "#     center = np.asarray(cost.shape) / 2\n",
      "#     ax.plot3D([p_min[0], p_min[0]], \n",
      "#               [p_min[1], p_min[1]],\n",
      "#               [zlim_min, cost[center[0], center[1]]],\n",
      "#               'bo--')\n",
      "    \n",
      "#     # plot cost funtion minima\n",
      "#     cost_minima = np.max(cost)\n",
      "#     indices = np.hstack(np.where(cost == cost_minima))\n",
      "#     p_min_cost = np.array([deltas[indices[1]], deltas[indices[0]]])\n",
      "#     p_min_cost = p_min_cost - p_min\n",
      "#     ax.plot3D([p_min_cost[0], p_min_cost[0]], \n",
      "#               [p_min_cost[1], p_min_cost[1]],\n",
      "#               [zlim_min, cost_minima],\n",
      "#               'r*--')\n",
      "    \n",
      "#     # set figure x,y,z labels and limits\n",
      "#     ax.set_xlabel('p0')\n",
      "#     ax.set_xlim(xlim_min, xlim_max)\n",
      "#     ax.set_ylabel('p1')\n",
      "#     ax.set_ylim(ylim_min, ylim_max)\n",
      "#     ax.set_zlabel('Cost')\n",
      "#     ax.set_zlim(zlim_min, zlim_max)\n",
      "    \n",
      "#     return fig\n",
      "\n",
      "\n",
      "# def draw_3doptimization_path(fig, fr, p_indices, level=-1, step=1):\n",
      "    \n",
      "#     # grab figure axes\n",
      "#     ax = fig.axes[0]\n",
      "#     zlim_min = ax.get_zlim()[0]\n",
      "    \n",
      "#     # extract fitter level transform\n",
      "#     transform = fr.fitter._algorithms[level].transform\n",
      "    \n",
      "#     # recover optimal parameters per iteration\n",
      "#     #shapes= fr.shapes()\n",
      "#     #p_iter = [shape_to_parameters(transform, s) for s in shapes]\n",
      "#     p_iter = np.asarray(fr.algorithm_results[level].shape_parameters)\n",
      "    \n",
      "#     # recover optimal cost per iteration\n",
      "#     cost_iter = fr.costs()\n",
      "\n",
      "#     # draw optimization path\n",
      "#     start = p_iter[0][p_indices]\n",
      "#     for j, p in enumerate(p_iter[1:]):\n",
      "#         p = p[p_indices]\n",
      "#         # draw optimization step\n",
      "#         ax.plot3D([start[0], p[0]], \n",
      "#                   [start[1], p[1]], \n",
      "#                   [zlim_min, zlim_min], \n",
      "#                   'kx-', markersize=10)\n",
      "#         ax.plot3D([start[0], p[0]], \n",
      "#                   [start[1], p[1]], \n",
      "#                   [-cost_iter[j], -cost_iter[j+1]], \n",
      "#                   'kx-', markersize=10)\n",
      "#         start = p\n",
      "    \n",
      "#     return fig"
     ],
     "language": "python",
     "metadata": {},
     "outputs": [],
     "prompt_number": 3
    },
    {
     "cell_type": "markdown",
     "metadata": {},
     "source": [
      "Load test images:"
     ]
    },
    {
     "cell_type": "code",
     "collapsed": false,
     "input": [
      "import menpo.io as mio\n",
      "from menpo.landmark import labeller, ibug_face_68\n",
      "\n",
      "test_images = []\n",
      "for i in mio.import_images('/data/PhD/DataBases/faces/afw',\n",
      "                           max_images=10, verbose=True):\n",
      "    \n",
      "    i.crop_to_landmarks_proportion_inplace(0.5)\n",
      "    i = i.rescale_landmarks_to_diagonal_range(200)\n",
      "    labeller(i, 'PTS', ibug_face_68)\n",
      "    \n",
      "    if i.n_channels == 3:\n",
      "        i = i.as_greyscale(mode='luminosity')\n",
      "    \n",
      "    test_images.append(i)"
     ],
     "language": "python",
     "metadata": {},
     "outputs": [
      {
       "output_type": "stream",
       "stream": "stdout",
       "text": [
        "\r",
        "- Loading 10 assets: [==                  ] 10%"
       ]
      },
      {
       "output_type": "stream",
       "stream": "stdout",
       "text": [
        "\r",
        "- Loading 10 assets: [====                ] 20%"
       ]
      },
      {
       "output_type": "stream",
       "stream": "stdout",
       "text": [
        "\r",
        "- Loading 10 assets: [======              ] 30%"
       ]
      },
      {
       "output_type": "stream",
       "stream": "stdout",
       "text": [
        "\r",
        "- Loading 10 assets: [========            ] 40%"
       ]
      },
      {
       "output_type": "stream",
       "stream": "stdout",
       "text": [
        "\r",
        "- Loading 10 assets: [==========          ] 50%"
       ]
      },
      {
       "output_type": "stream",
       "stream": "stdout",
       "text": [
        "\r",
        "- Loading 10 assets: [============        ] 60%"
       ]
      },
      {
       "output_type": "stream",
       "stream": "stdout",
       "text": [
        "\r",
        "- Loading 10 assets: [==============      ] 70%"
       ]
      },
      {
       "output_type": "stream",
       "stream": "stdout",
       "text": [
        "\r",
        "- Loading 10 assets: [================    ] 80%"
       ]
      },
      {
       "output_type": "stream",
       "stream": "stdout",
       "text": [
        "\r",
        "- Loading 10 assets: [==================  ] 90%"
       ]
      },
      {
       "output_type": "stream",
       "stream": "stdout",
       "text": [
        "\r",
        "- Loading 10 assets: [====================] 100%"
       ]
      }
     ],
     "prompt_number": 4
    },
    {
     "cell_type": "code",
     "collapsed": false,
     "input": [
      "from alabortijcv2015.utils import pickle_load\n",
      "\n",
      "aam = pickle_load('/data/PhD/Models/gaam_int.menpo')"
     ],
     "language": "python",
     "metadata": {},
     "outputs": [],
     "prompt_number": 5
    },
    {
     "cell_type": "code",
     "collapsed": false,
     "input": [
      "from alabortijcv2015.aam import CombinedGlobalAAMFitter\n",
      "from alabortijcv2015.aam.algorithm import AIC, SIC, BIC\n",
      "\n",
      "fitter = CombinedGlobalAAMFitter(aam, n_combined=3)"
     ],
     "language": "python",
     "metadata": {},
     "outputs": [],
     "prompt_number": 6
    },
    {
     "cell_type": "code",
     "collapsed": false,
     "input": [
      "from alabortijcv2015.aam import StandardAAMFitter\n",
      "from alabortijcv2015.aam.algorithm import AIC, SIC, BIC\n",
      "\n",
      "fitter = StandardAAMFitter(aam, algorithm_cls=AIC, n_shape=12, n_appearance=10)"
     ],
     "language": "python",
     "metadata": {},
     "outputs": [],
     "prompt_number": 7
    },
    {
     "cell_type": "code",
     "collapsed": false,
     "input": [
      "s = fitter.perturb_shape(gt_shape)\n",
      "fr = fitter.fit(img, s, gt_shape=gt_shape, max_iters=50)\n",
      "fr.downscale = 0"
     ],
     "language": "python",
     "metadata": {},
     "outputs": [
      {
       "output_type": "stream",
       "stream": "stdout",
       "text": [
        "50\n",
        "[  7.15469079e+00  -1.35457726e+00   2.20436024e+00  -8.10113587e+00\n",
        "   6.11467892e-03  -2.90397916e-03   4.53801492e-03]\n",
        "hello\n",
        "[  6.91851402e+00   4.50666777e-01   7.22755834e-01  -5.25258259e+00\n",
        "   4.25602057e-03  -3.16715140e-03   3.95437921e-04]\n",
        "hello\n",
        "[  6.79293530e+00   8.67750345e-01  -1.96332280e+00  -2.24544443e+00\n",
        "   2.54668539e-03  -8.79581099e-03  -1.64699959e-03]"
       ]
      },
      {
       "output_type": "stream",
       "stream": "stdout",
       "text": [
        "\n",
        "hello\n",
        "[  7.18341793e+00   1.49630211e+00  -4.76596556e+00  -1.10410920e-01\n",
        "   1.24652954e-03  -1.51740203e-02  -1.50005144e-03]\n",
        "hello\n",
        "[  7.34761176e+00   2.66217364e+00  -6.77396827e+00   6.60349975e-01\n",
        "   8.66324177e-05  -1.75952078e-02  -1.17455567e-03]\n",
        "hello\n",
        "[  4.16318825e+00   2.74947194e+00  -6.05121252e+00   1.28012661e+00\n",
        "  -1.04007979e-03  -1.64227886e-02   8.69271865e-04]"
       ]
      },
      {
       "output_type": "stream",
       "stream": "stdout",
       "text": [
        "\n",
        "hello\n",
        "[ -1.95183136e-01   1.78820591e+00  -3.58408750e+00   1.77758623e+00\n",
        "  -1.58646700e-03  -1.53139090e-02   3.99394887e-03]\n",
        "hello\n",
        "[ -1.41947543e+00   1.42017120e+00  -2.51497685e+00   1.03071702e+00\n",
        "  -1.53101456e-03  -1.49094580e-02   4.58010019e-03]\n",
        "hello\n",
        "[ -1.33192756e+00   9.34122312e-01  -1.84288697e+00   4.08746891e-01\n",
        "  -1.40615024e-03  -1.48038150e-02   4.62991070e-03]"
       ]
      },
      {
       "output_type": "stream",
       "stream": "stdout",
       "text": [
        "\n",
        "hello\n",
        "[-0.92035612  0.46684356 -1.17010783  0.14886022 -0.00118439 -0.0148797\n",
        "  0.00500877]\n",
        "hello\n",
        "[-0.58513317  0.22125625 -0.6877149   0.04659478 -0.00103988 -0.01505005\n",
        "  0.00536083]\n",
        "hello\n",
        "[-0.31767027  0.129658   -0.36659464  0.00275675 -0.00094082 -0.01523553\n",
        "  0.00565321]"
       ]
      },
      {
       "output_type": "stream",
       "stream": "stdout",
       "text": [
        "\n",
        "hello\n",
        "[-0.15085722  0.06258379 -0.17454852 -0.00094065 -0.00088241 -0.0153378\n",
        "  0.00583675]\n",
        "hello\n",
        "[-0.06712412  0.02274106 -0.07881122  0.00087656 -0.00085321 -0.01538705\n",
        "  0.00592814]\n",
        "hello\n",
        "[-0.02930038  0.0077547  -0.03503788  0.00158124 -0.00083985 -0.01540966\n",
        "  0.0059706 ]"
       ]
      },
      {
       "output_type": "stream",
       "stream": "stdout",
       "text": [
        "\n",
        "hello\n",
        "[-0.01285036  0.00244187 -0.01560711  0.00130089 -0.00083391 -0.01541966\n",
        "  0.00598927]\n",
        "hello\n",
        "[-0.00562135  0.00069949 -0.00700309  0.00086496 -0.00083128 -0.01542406\n",
        "  0.00599749]\n",
        "hello\n",
        "[-0.00246711  0.0001601  -0.00316143  0.00053339 -0.00083013 -0.01542594\n",
        "  0.00600111]"
       ]
      },
      {
       "output_type": "stream",
       "stream": "stdout",
       "text": [
        "\n",
        "hello\n",
        "[ -1.09129341e-03   4.66455849e-06  -1.44023673e-03   3.14807554e-04\n",
        "  -8.29636665e-04  -1.54266931e-02   6.00268418e-03]\n",
        "hello\n",
        "[ -4.89631196e-04  -3.36922514e-05  -6.68395460e-04   1.83613211e-04\n",
        "  -8.29423911e-04  -1.54269652e-02   6.00335666e-03]\n",
        "hello\n",
        "[ -2.27715270e-04  -3.89695111e-05  -3.21338778e-04   1.10631757e-04\n",
        "  -8.29336468e-04  -1.54270255e-02   6.00362890e-03]"
       ]
      },
      {
       "output_type": "stream",
       "stream": "stdout",
       "text": [
        "\n",
        "hello\n",
        "[ -1.14130492e-04  -3.63104068e-05  -1.65182043e-04   7.14224392e-05\n",
        "  -8.29304551e-04  -1.54269945e-02   6.00372347e-03]\n",
        "hello\n",
        "[ -6.46961742e-05  -3.31605606e-05  -9.48523515e-05   5.07907691e-05\n",
        "  -8.29297307e-04  -1.54269236e-02   6.00373882e-03]\n",
        "hello\n",
        "[ -4.31452148e-05  -3.09678834e-05  -6.31175278e-05   4.01633286e-05\n",
        "  -8.29301049e-04  -1.54268355e-02   6.00371888e-03]"
       ]
      },
      {
       "output_type": "stream",
       "stream": "stdout",
       "text": [
        "\n",
        "hello\n",
        "[ -3.37356619e-05  -2.96647287e-05  -4.87716807e-05   3.47814361e-05\n",
        "  -8.29309698e-04  -1.54267398e-02   6.00368318e-03]\n",
        "hello\n",
        "[ -2.96206844e-05  -2.89460226e-05  -4.22756776e-05   3.20923575e-05\n",
        "  -8.29320544e-04  -1.54266408e-02   6.00364043e-03]\n",
        "hello\n",
        "[ -2.78180625e-05  -2.85662507e-05  -3.93295989e-05   3.07631404e-05\n",
        "  -8.29332376e-04  -1.54265404e-02   6.00359452e-03]"
       ]
      },
      {
       "output_type": "stream",
       "stream": "stdout",
       "text": [
        "\n",
        "hello\n",
        "[ -2.70269662e-05  -2.83709773e-05  -3.79915114e-05   3.01118215e-05\n",
        "  -8.29344651e-04  -1.54264394e-02   6.00354720e-03]\n",
        "hello\n",
        "[ -2.66791005e-05  -2.82724139e-05  -3.73828842e-05   2.97949457e-05\n",
        "  -8.29357127e-04  -1.54263382e-02   6.00349923e-03]\n",
        "hello"
       ]
      },
      {
       "output_type": "stream",
       "stream": "stdout",
       "text": [
        "\n",
        "[ -2.65257891e-05  -2.82232975e-05  -3.71056379e-05   2.96416749e-05\n",
        "  -8.29369692e-04  -1.54262368e-02   6.00345098e-03]\n",
        "hello\n",
        "[ -2.64580300e-05  -2.81990225e-05  -3.69791301e-05   2.95678791e-05\n",
        "  -8.29382298e-04  -1.54261353e-02   6.00340259e-03]"
       ]
      },
      {
       "output_type": "stream",
       "stream": "stdout",
       "text": [
        "\n",
        "hello\n",
        "[ -2.64279601e-05  -2.81870655e-05  -3.69212749e-05   2.95324633e-05\n",
        "  -8.29394922e-04  -1.54260339e-02   6.00335415e-03]\n",
        "hello\n",
        "[ -2.64145248e-05  -2.81811552e-05  -3.68947228e-05   2.95154900e-05\n",
        "  -8.29407555e-04  -1.54259324e-02   6.00330568e-03]"
       ]
      },
      {
       "output_type": "stream",
       "stream": "stdout",
       "text": [
        "\n",
        "hello\n",
        "[ -2.64084452e-05  -2.81781899e-05  -3.68824599e-05   2.95073417e-05\n",
        "  -8.29420191e-04  -1.54258309e-02   6.00325720e-03]\n",
        "hello\n",
        "[ -2.64056244e-05  -2.81766492e-05  -3.68767260e-05   2.95034008e-05\n",
        "  -8.29432829e-04  -1.54257295e-02   6.00320872e-03]"
       ]
      },
      {
       "output_type": "stream",
       "stream": "stdout",
       "text": [
        "\n",
        "hello\n",
        "[ -2.64042502e-05  -2.81757941e-05  -3.68739782e-05   2.95014592e-05\n",
        "  -8.29445467e-04  -1.54256280e-02   6.00316023e-03]\n",
        "hello\n",
        "[ -2.64035194e-05  -2.81752672e-05  -3.68725973e-05   2.95004658e-05\n",
        "  -8.29458106e-04  -1.54255265e-02   6.00311174e-03]"
       ]
      },
      {
       "output_type": "stream",
       "stream": "stdout",
       "text": [
        "\n",
        "hello\n",
        "[ -2.64030750e-05  -2.81748974e-05  -3.68718428e-05   2.94999202e-05\n",
        "  -8.29470744e-04  -1.54254251e-02   6.00306325e-03]\n",
        "hello\n",
        "[ -2.64027586e-05  -2.81746021e-05  -3.68713755e-05   2.94995859e-05\n",
        "  -8.29483383e-04  -1.54253236e-02   6.00301476e-03]"
       ]
      },
      {
       "output_type": "stream",
       "stream": "stdout",
       "text": [
        "\n",
        "hello\n",
        "[ -2.64024994e-05  -2.81743420e-05  -3.68710404e-05   2.94993512e-05\n",
        "  -8.29496021e-04  -1.54252221e-02   6.00296627e-03]\n",
        "hello\n",
        "[ -2.64022660e-05  -2.81740987e-05  -3.68707650e-05   2.94991634e-05\n",
        "  -8.29508659e-04  -1.54251207e-02   6.00291779e-03]"
       ]
      },
      {
       "output_type": "stream",
       "stream": "stdout",
       "text": [
        "\n",
        "hello\n",
        "[ -2.64020439e-05  -2.81738633e-05  -3.68705179e-05   2.94989978e-05\n",
        "  -8.29521298e-04  -1.54250192e-02   6.00286930e-03]\n",
        "hello\n",
        "[ -2.64018270e-05  -2.81736315e-05  -3.68702837e-05   2.94988421e-05\n",
        "  -8.29533936e-04  -1.54249177e-02   6.00282081e-03]"
       ]
      },
      {
       "output_type": "stream",
       "stream": "stdout",
       "text": [
        "\n",
        "hello\n",
        "[ -2.64016125e-05  -2.81734016e-05  -3.68700551e-05   2.94986913e-05\n",
        "  -8.29546573e-04  -1.54248163e-02   6.00277232e-03]\n",
        "hello\n",
        "[ -2.64013991e-05  -2.81731725e-05  -3.68698294e-05   2.94985431e-05\n",
        "  -8.29559211e-04  -1.54247148e-02   6.00272383e-03]"
       ]
      },
      {
       "output_type": "stream",
       "stream": "stdout",
       "text": [
        "\n",
        "hello\n",
        "[ -2.64011862e-05  -2.81729438e-05  -3.68696047e-05   2.94983957e-05\n",
        "  -8.29571849e-04  -1.54246133e-02   6.00267535e-03]\n",
        "hello\n",
        "[ -2.64009734e-05  -2.81727152e-05  -3.68693809e-05   2.94982486e-05\n",
        "  -8.29584486e-04  -1.54245119e-02   6.00262686e-03]"
       ]
      },
      {
       "output_type": "stream",
       "stream": "stdout",
       "text": [
        "\n",
        "hello\n",
        "[ -2.64007607e-05  -2.81724867e-05  -3.68691571e-05   2.94981021e-05\n",
        "  -8.29597123e-04  -1.54244104e-02   6.00257837e-03]\n",
        "hello\n",
        "[ -2.64005481e-05  -2.81722583e-05  -3.68689336e-05   2.94979554e-05\n",
        "  -8.29609761e-04  -1.54243090e-02   6.00252989e-03]"
       ]
      },
      {
       "output_type": "stream",
       "stream": "stdout",
       "text": [
        "\n",
        "hello\n",
        "[ -2.64003355e-05  -2.81720299e-05  -3.68687101e-05   2.94978089e-05\n",
        "  -8.29622398e-04  -1.54242075e-02   6.00248140e-03]\n",
        "hello\n"
       ]
      }
     ],
     "prompt_number": 8
    },
    {
     "cell_type": "code",
     "collapsed": false,
     "input": [
      "%debug"
     ],
     "language": "python",
     "metadata": {},
     "outputs": [
      {
       "output_type": "stream",
       "stream": "stdout",
       "text": [
        "> \u001b[1;32m/data/pythondev/src/alabortijcv2015/alabortijcv2015/aam/algorithm.py\u001b[0m(2419)\u001b[0;36mrun\u001b[1;34m()\u001b[0m\n",
        "\u001b[1;32m   2418 \u001b[1;33m            j = np.hstack((j[:, :4], j[:, 4:].dot(self.C_s) - self._U.dot(\n",
        "\u001b[0m\u001b[1;32m-> 2419 \u001b[1;33m                self.C_a)))\n",
        "\u001b[0m\u001b[1;32m   2420 \u001b[1;33m            \u001b[1;32mif\u001b[0m \u001b[0mfixed_p\u001b[0m\u001b[1;33m:\u001b[0m\u001b[1;33m\u001b[0m\u001b[0m\n",
        "\u001b[0m\n"
       ]
      },
      {
       "name": "stdout",
       "output_type": "stream",
       "stream": "stdout",
       "text": [
        "ipdb> self._U.dot(self.C_a)\n"
       ]
      },
      {
       "output_type": "stream",
       "stream": "stdout",
       "text": [
        "*** ValueError: shapes (3656,10) and (113,12) not aligned: 10 (dim 1) != 113 (dim 0)\n"
       ]
      },
      {
       "name": "stdout",
       "output_type": "stream",
       "stream": "stdout",
       "text": [
        "ipdb> self._U.shape\n"
       ]
      },
      {
       "output_type": "stream",
       "stream": "stdout",
       "text": [
        "(3656, 10)\n"
       ]
      },
      {
       "name": "stdout",
       "output_type": "stream",
       "stream": "stdout",
       "text": [
        "ipdb> exit\n"
       ]
      }
     ],
     "prompt_number": 11
    },
    {
     "cell_type": "code",
     "collapsed": false,
     "input": [
      "img = test_images[3]\n",
      "gt_shape = img.landmarks['ibug_face_68'].lms.copy()"
     ],
     "language": "python",
     "metadata": {},
     "outputs": [],
     "prompt_number": 7
    },
    {
     "cell_type": "code",
     "collapsed": false,
     "input": [
      "level = 0\n",
      "p_index = 5\n",
      "\n",
      "s = img.landmarks['ibug_face_66'].lms.copy()\n",
      "fitter._algorithms[level].transform.set_target(s)\n",
      "p_min = fitter._algorithms[level].transform.as_vector()\n",
      "\n",
      "p_ini = p_min.copy()\n",
      "p_ini[p_index] += -100\n",
      "\n",
      "s = fitter._algorithms[level].transform.from_vector(p_ini).target\n",
      "\n",
      "fr = fitter.fit(img, s, gt_shape=gt_shape, max_iters=20, fixed_p=p_index)\n",
      "fr.downscale = 0"
     ],
     "language": "python",
     "metadata": {},
     "outputs": [
      {
       "ename": "NameError",
       "evalue": "name 'img' is not defined",
       "output_type": "pyerr",
       "traceback": [
        "\u001b[1;31m---------------------------------------------------------------------------\u001b[0m\n\u001b[1;31mNameError\u001b[0m                                 Traceback (most recent call last)",
        "\u001b[1;32m<ipython-input-8-fbdbd2c903f3>\u001b[0m in \u001b[0;36m<module>\u001b[1;34m()\u001b[0m\n\u001b[0;32m      2\u001b[0m \u001b[0mp_index\u001b[0m \u001b[1;33m=\u001b[0m \u001b[1;36m5\u001b[0m\u001b[1;33m\u001b[0m\u001b[0m\n\u001b[0;32m      3\u001b[0m \u001b[1;33m\u001b[0m\u001b[0m\n\u001b[1;32m----> 4\u001b[1;33m \u001b[0ms\u001b[0m \u001b[1;33m=\u001b[0m \u001b[0mimg\u001b[0m\u001b[1;33m.\u001b[0m\u001b[0mlandmarks\u001b[0m\u001b[1;33m[\u001b[0m\u001b[1;34m'ibug_face_66'\u001b[0m\u001b[1;33m]\u001b[0m\u001b[1;33m.\u001b[0m\u001b[0mlms\u001b[0m\u001b[1;33m.\u001b[0m\u001b[0mcopy\u001b[0m\u001b[1;33m(\u001b[0m\u001b[1;33m)\u001b[0m\u001b[1;33m\u001b[0m\u001b[0m\n\u001b[0m\u001b[0;32m      5\u001b[0m \u001b[0mfitter\u001b[0m\u001b[1;33m.\u001b[0m\u001b[0m_algorithms\u001b[0m\u001b[1;33m[\u001b[0m\u001b[0mlevel\u001b[0m\u001b[1;33m]\u001b[0m\u001b[1;33m.\u001b[0m\u001b[0mtransform\u001b[0m\u001b[1;33m.\u001b[0m\u001b[0mset_target\u001b[0m\u001b[1;33m(\u001b[0m\u001b[0ms\u001b[0m\u001b[1;33m)\u001b[0m\u001b[1;33m\u001b[0m\u001b[0m\n\u001b[0;32m      6\u001b[0m \u001b[0mp_min\u001b[0m \u001b[1;33m=\u001b[0m \u001b[0mfitter\u001b[0m\u001b[1;33m.\u001b[0m\u001b[0m_algorithms\u001b[0m\u001b[1;33m[\u001b[0m\u001b[0mlevel\u001b[0m\u001b[1;33m]\u001b[0m\u001b[1;33m.\u001b[0m\u001b[0mtransform\u001b[0m\u001b[1;33m.\u001b[0m\u001b[0mas_vector\u001b[0m\u001b[1;33m(\u001b[0m\u001b[1;33m)\u001b[0m\u001b[1;33m\u001b[0m\u001b[0m\n",
        "\u001b[1;31mNameError\u001b[0m: name 'img' is not defined"
       ]
      }
     ],
     "prompt_number": 8
    },
    {
     "cell_type": "code",
     "collapsed": false,
     "input": [
      "# extract transform, appearance model and reference frame\n",
      "transform = fitter._algorithms[0].transform\n",
      "appearance_model = fitter._algorithms[0].appearance_model\n",
      "reference_frame = appearance_model.mean()\n",
      "\n",
      "# apply features to image\n",
      "images_, s_, gt_shapes_ = fitter._prepare_image(img, s, gt_shape)\n",
      "img_ = images_[level]\n",
      "s_ = s_[level]\n",
      "gt_shape_ = gt_shapes_[level]\n",
      "\n",
      "# perturb shape parameters\n",
      "transform.set_target(gt_shape_)\n",
      "p_min = transform.as_vector().copy()\n",
      "print transform.as_vector()\n",
      "print p_min\n",
      "p = fr.algorithm_results[level].shape_params[0]\n",
      "transform.from_vector_inplace(p)\n",
      "\n",
      "warped_img = img_.warp_to_mask(reference_frame.mask, transform)\n",
      "\n",
      "\n",
      "# reconstruct image\n",
      "rec_img = appearance_model.reconstruct(warped_img)\n",
      "# compute cost\n",
      "print ssd_cost(warped_img, rec_img)"
     ],
     "language": "python",
     "metadata": {},
     "outputs": [
      {
       "output_type": "stream",
       "stream": "stdout",
       "text": [
        "[ -25.13671948  -16.33697114 -488.71062073 -407.87018681   58.21958811\n",
        "  -12.88251621   -2.43880823    8.77862193   -9.2010121     6.58051673\n",
        "   -4.08971151   -6.00574191  -10.29816246    0.84705107   -2.60080831\n",
        "   -5.82449429]\n",
        "[ -25.13671948  -16.33697114 -488.71062073 -407.87018681   58.21958811\n",
        "  -12.88251621   -2.43880823    8.77862193   -9.2010121     6.58051673\n",
        "   -4.08971151   -6.00574191  -10.29816246    0.84705107   -2.60080831\n",
        "   -5.82449429]\n",
        "21.0416189011\n"
       ]
      }
     ],
     "prompt_number": 34
    },
    {
     "cell_type": "code",
     "collapsed": false,
     "input": [
      "warped_img.view_landmarks()"
     ],
     "language": "python",
     "metadata": {},
     "outputs": [
      {
       "ename": "NameError",
       "evalue": "name 'warped_img' is not defined",
       "output_type": "pyerr",
       "traceback": [
        "\u001b[1;31m---------------------------------------------------------------------------\u001b[0m\n\u001b[1;31mNameError\u001b[0m                                 Traceback (most recent call last)",
        "\u001b[1;32m<ipython-input-9-4636b6c785a5>\u001b[0m in \u001b[0;36m<module>\u001b[1;34m()\u001b[0m\n\u001b[1;32m----> 1\u001b[1;33m \u001b[0mwarped_img\u001b[0m\u001b[1;33m.\u001b[0m\u001b[0mview_landmarks\u001b[0m\u001b[1;33m(\u001b[0m\u001b[1;33m)\u001b[0m\u001b[1;33m\u001b[0m\u001b[0m\n\u001b[0m",
        "\u001b[1;31mNameError\u001b[0m: name 'warped_img' is not defined"
       ]
      }
     ],
     "prompt_number": 9
    },
    {
     "cell_type": "code",
     "collapsed": false,
     "input": [
      "from menpofit.visualize import visualize_fitting_results\n",
      "\n",
      "visualize_fitting_results([fr])"
     ],
     "language": "python",
     "metadata": {},
     "outputs": [
      {
       "metadata": {},
       "output_type": "display_data",
       "png": "[encoded data removed]",
       "text": [
        "<matplotlib.figure.Figure at 0x7f0da12129d0>"
       ]
      }
     ],
     "prompt_number": 9
    },
    {
     "cell_type": "code",
     "collapsed": false,
     "input": [
      "deltas = np.arange(-120, 120, 1)\n",
      "\n",
      "cost2d, p_min2d = evaluate2d_cost_around_minima(fitter, img, gt_shape, p_index, deltas)"
     ],
     "language": "python",
     "metadata": {},
     "outputs": [],
     "prompt_number": 37
    },
    {
     "cell_type": "code",
     "collapsed": false,
     "input": [
      "print 'Expected minima for p:', p_min2d[p_index]\n",
      "print 'Starting value for p:', fr.algorithm_results[level].shape_params[0][p_index]\n",
      "print 'Final value for p:', fr.algorithm_results[level].shape_params[-1][p_index]"
     ],
     "language": "python",
     "metadata": {},
     "outputs": [
      {
       "output_type": "stream",
       "stream": "stdout",
       "text": [
        "Expected minima for p: -12.8833797396\n",
        "Starting value for p: -112.875119682\n",
        "Final value for p: -18.0621769358\n"
       ]
      }
     ],
     "prompt_number": 38
    },
    {
     "cell_type": "code",
     "collapsed": false,
     "input": [
      "fig = plot2d_cost_function(cost2d, deltas, p_min2d[p_index])"
     ],
     "language": "python",
     "metadata": {},
     "outputs": [
      {
       "metadata": {},
       "output_type": "display_data",
       "png": "[encoded data removed]",
       "text": [
        "<matplotlib.figure.Figure at 0x7fb336e797d0>"
       ]
      }
     ],
     "prompt_number": 39
    },
    {
     "cell_type": "code",
     "collapsed": false,
     "input": [
      "draw2d_optimization_path(fig, fr, p_index)"
     ],
     "language": "python",
     "metadata": {},
     "outputs": [
      {
       "metadata": {},
       "output_type": "pyout",
       "png": "[encoded data removed]",
       "prompt_number": 43,
       "text": [
        "<matplotlib.figure.Figure at 0x7fb336e797d0>"
       ]
      }
     ],
     "prompt_number": 43
    },
    {
     "cell_type": "code",
     "collapsed": false,
     "input": [
      "lin = fr.algorithm_results[0].linearized_costs"
     ],
     "language": "python",
     "metadata": {},
     "outputs": [],
     "prompt_number": 41
    },
    {
     "cell_type": "code",
     "collapsed": false,
     "input": [
      "for n_iter in xrange(fr.n_iters):\n",
      "\n",
      "    lin_cost = evaluate2d_ls_approx_around_minima(lin(n_iter), deltas)\n",
      "    p_current = fr.algorithm_results[level].shape_params[n_iter][p_index]\n",
      "\n",
      "    fig = draw2d_linearized_cost_function(fig, lin_cost, deltas, p_current)"
     ],
     "language": "python",
     "metadata": {},
     "outputs": [],
     "prompt_number": 42
    },
    {
     "cell_type": "code",
     "collapsed": false,
     "input": [
      "fitter._algorithms[0].transform.pdm.model.noise_variance()"
     ],
     "language": "python",
     "metadata": {},
     "outputs": [
      {
       "metadata": {},
       "output_type": "pyout",
       "prompt_number": 109,
       "text": [
        "0.6647505739930708"
       ]
      }
     ],
     "prompt_number": 109
    },
    {
     "cell_type": "code",
     "collapsed": false,
     "input": [
      "import scipy\n",
      "\n",
      "scipy.linalg.expm(scipy.linalg.logm(np.diag(np.asarray([1,2,3,4,5,6,7,8,9])) + scipy.linalg.logm(np.diag(np.asarray([1,2,3,4,5,6,7,8,9])))))"
     ],
     "language": "python",
     "metadata": {},
     "outputs": [],
     "prompt_number": 18
    },
    {
     "cell_type": "code",
     "collapsed": false,
     "input": [
      "scipy.linalg.logm(np.diag(np.asarray([1,2,3,4,5,6,7,8,9])))"
     ],
     "language": "python",
     "metadata": {},
     "outputs": [
      {
       "metadata": {},
       "output_type": "pyout",
       "prompt_number": 23,
       "text": [
        "array([[ 0.        ,  0.        ,  0.        ,  0.        ,  0.        ,\n",
        "         0.        ,  0.        ,  0.        ,  0.        ],\n",
        "       [ 0.        ,  0.69314718,  0.        ,  0.        ,  0.        ,\n",
        "         0.        ,  0.        ,  0.        ,  0.        ],\n",
        "       [ 0.        ,  0.        ,  1.09861229,  0.        ,  0.        ,\n",
        "         0.        ,  0.        ,  0.        ,  0.        ],\n",
        "       [ 0.        ,  0.        ,  0.        ,  1.38629436,  0.        ,\n",
        "         0.        ,  0.        ,  0.        ,  0.        ],\n",
        "       [ 0.        ,  0.        ,  0.        ,  0.        ,  1.60943791,\n",
        "         0.        ,  0.        ,  0.        ,  0.        ],\n",
        "       [ 0.        ,  0.        ,  0.        ,  0.        ,  0.        ,\n",
        "         1.79175947,  0.        ,  0.        ,  0.        ],\n",
        "       [ 0.        ,  0.        ,  0.        ,  0.        ,  0.        ,\n",
        "         0.        ,  1.94591015,  0.        ,  0.        ],\n",
        "       [ 0.        ,  0.        ,  0.        ,  0.        ,  0.        ,\n",
        "         0.        ,  0.        ,  2.07944154,  0.        ],\n",
        "       [ 0.        ,  0.        ,  0.        ,  0.        ,  0.        ,\n",
        "         0.        ,  0.        ,  0.        ,  2.19722458]])"
       ]
      }
     ],
     "prompt_number": 23
    },
    {
     "cell_type": "code",
     "collapsed": false,
     "input": [
      "np.log(9)"
     ],
     "language": "python",
     "metadata": {},
     "outputs": [
      {
       "metadata": {},
       "output_type": "pyout",
       "prompt_number": 26,
       "text": [
        "2.1972245773362196"
       ]
      }
     ],
     "prompt_number": 26
    },
    {
     "cell_type": "code",
     "collapsed": false,
     "input": [
      "ind = np.where(lin_cost == np.min(lin_cost))[0]"
     ],
     "language": "python",
     "metadata": {},
     "outputs": [],
     "prompt_number": 103
    },
    {
     "cell_type": "code",
     "collapsed": false,
     "input": [
      "print lin(iteration)(0)\n",
      "print deltas[ind] + p_current"
     ],
     "language": "python",
     "metadata": {},
     "outputs": [
      {
       "output_type": "stream",
       "stream": "stdout",
       "text": [
        "0.00360973555496\n",
        "[-10.86286516]\n"
       ]
      }
     ],
     "prompt_number": 104
    },
    {
     "cell_type": "code",
     "collapsed": false,
     "input": [
      "fr.algorithm_results[level].shape_parameters[1][p_index] - fr.algorithm_results[level].shape_parameters[0][p_index]"
     ],
     "language": "python",
     "metadata": {},
     "outputs": [
      {
       "metadata": {},
       "output_type": "pyout",
       "prompt_number": 110,
       "text": [
        "-11.291356212366047"
       ]
      }
     ],
     "prompt_number": 110
    },
    {
     "cell_type": "code",
     "collapsed": false,
     "input": [
      "a = np.random.randn(10, 10)"
     ],
     "language": "python",
     "metadata": {},
     "outputs": [],
     "prompt_number": 108
    },
    {
     "cell_type": "code",
     "collapsed": false,
     "input": [
      "pinv_a = np.linalg.pinv(a)"
     ],
     "language": "python",
     "metadata": {},
     "outputs": [],
     "prompt_number": 46
    },
    {
     "cell_type": "code",
     "collapsed": false,
     "input": [
      "b = np.linalg.pinv(pinv_a)"
     ],
     "language": "python",
     "metadata": {},
     "outputs": [],
     "prompt_number": 47
    },
    {
     "cell_type": "code",
     "collapsed": false,
     "input": [
      "b"
     ],
     "language": "python",
     "metadata": {},
     "outputs": [
      {
       "metadata": {},
       "output_type": "pyout",
       "prompt_number": 49,
       "text": [
        "array([[ 0.19488379, -0.69920679, -0.57147963,  1.2614911 ,  0.50278799,\n",
        "        -1.14882642, -1.29229977, -0.94550661, -0.95999542,  0.84467973],\n",
        "       [ 2.03625174,  0.77378639,  1.53634569,  0.27807213, -1.65786231,\n",
        "        -0.32592855,  1.12050135,  0.27749561, -1.10921917,  1.54220679],\n",
        "       [ 0.75661962,  1.08432439,  2.50156697,  1.16269038,  1.83107133,\n",
        "        -0.06066161,  0.55378024,  1.78762075,  0.56365578, -1.45654189],\n",
        "       [-0.30587583,  0.45533445,  1.56123923,  0.74358886,  2.03235446,\n",
        "        -0.57999039, -1.18595607, -0.49371531,  1.63881226,  0.33284109],\n",
        "       [-0.72659813, -0.6747298 , -0.47727139,  0.88634128,  0.36253619,\n",
        "         0.73589194, -0.58827385,  1.44937695, -0.68509479,  0.0382378 ],\n",
        "       [ 0.34286811, -1.70685603, -0.28553037, -1.38995091, -0.04239335,\n",
        "         1.29713666,  1.19485041,  0.00645352,  0.57257923, -0.58076192],\n",
        "       [ 1.14124467, -0.40878189,  0.44189185,  1.582544  , -0.31054513,\n",
        "        -0.81708099,  0.48418078,  0.33691956, -0.08824314,  2.51021429],\n",
        "       [ 1.85583075, -0.6875404 ,  0.30709599, -0.58321578, -1.05325556,\n",
        "        -0.46802014, -0.50927447, -0.28585032, -0.32498433, -2.08305323],\n",
        "       [-1.7685565 , -0.75102029, -1.75823792,  0.55302149,  1.43409884,\n",
        "        -2.0434951 , -1.05820738, -0.76519655, -1.26346115, -1.38157792],\n",
        "       [-2.2940144 ,  0.12530589, -0.81469354, -0.02065425, -0.85182654,\n",
        "         1.64825997,  0.35402957,  0.38394889, -0.13830014, -1.67422469]])"
       ]
      }
     ],
     "prompt_number": 49
    },
    {
     "cell_type": "code",
     "collapsed": false,
     "input": [
      "a"
     ],
     "language": "python",
     "metadata": {},
     "outputs": [
      {
       "metadata": {},
       "output_type": "pyout",
       "prompt_number": 50,
       "text": [
        "array([[ 0.19488379, -0.69920679, -0.57147963,  1.2614911 ,  0.50278799,\n",
        "        -1.14882642, -1.29229977, -0.94550661, -0.95999542,  0.84467973],\n",
        "       [ 2.03625174,  0.77378639,  1.53634569,  0.27807213, -1.65786231,\n",
        "        -0.32592855,  1.12050135,  0.27749561, -1.10921917,  1.54220679],\n",
        "       [ 0.75661962,  1.08432439,  2.50156697,  1.16269038,  1.83107133,\n",
        "        -0.06066161,  0.55378024,  1.78762075,  0.56365578, -1.45654189],\n",
        "       [-0.30587583,  0.45533445,  1.56123923,  0.74358886,  2.03235446,\n",
        "        -0.57999039, -1.18595607, -0.49371531,  1.63881226,  0.33284109],\n",
        "       [-0.72659813, -0.6747298 , -0.47727139,  0.88634128,  0.36253619,\n",
        "         0.73589194, -0.58827385,  1.44937695, -0.68509479,  0.0382378 ],\n",
        "       [ 0.34286811, -1.70685603, -0.28553037, -1.38995091, -0.04239335,\n",
        "         1.29713666,  1.19485041,  0.00645352,  0.57257923, -0.58076192],\n",
        "       [ 1.14124467, -0.40878189,  0.44189185,  1.582544  , -0.31054513,\n",
        "        -0.81708099,  0.48418078,  0.33691956, -0.08824314,  2.51021429],\n",
        "       [ 1.85583075, -0.6875404 ,  0.30709599, -0.58321578, -1.05325556,\n",
        "        -0.46802014, -0.50927447, -0.28585032, -0.32498433, -2.08305323],\n",
        "       [-1.7685565 , -0.75102029, -1.75823792,  0.55302149,  1.43409884,\n",
        "        -2.0434951 , -1.05820738, -0.76519655, -1.26346115, -1.38157792],\n",
        "       [-2.2940144 ,  0.12530589, -0.81469354, -0.02065425, -0.85182654,\n",
        "         1.64825997,  0.35402957,  0.38394889, -0.13830014, -1.67422469]])"
       ]
      }
     ],
     "prompt_number": 50
    },
    {
     "cell_type": "code",
     "collapsed": false,
     "input": [],
     "language": "python",
     "metadata": {},
     "outputs": []
    },
    {
     "cell_type": "code",
     "collapsed": false,
     "input": [],
     "language": "python",
     "metadata": {},
     "outputs": []
    },
    {
     "cell_type": "code",
     "collapsed": false,
     "input": [],
     "language": "python",
     "metadata": {},
     "outputs": []
    },
    {
     "cell_type": "code",
     "collapsed": false,
     "input": [],
     "language": "python",
     "metadata": {},
     "outputs": []
    },
    {
     "cell_type": "code",
     "collapsed": false,
     "input": [],
     "language": "python",
     "metadata": {},
     "outputs": []
    },
    {
     "cell_type": "code",
     "collapsed": false,
     "input": [],
     "language": "python",
     "metadata": {},
     "outputs": []
    },
    {
     "cell_type": "code",
     "collapsed": false,
     "input": [],
     "language": "python",
     "metadata": {},
     "outputs": []
    },
    {
     "cell_type": "code",
     "collapsed": false,
     "input": [],
     "language": "python",
     "metadata": {},
     "outputs": []
    },
    {
     "cell_type": "code",
     "collapsed": false,
     "input": [],
     "language": "python",
     "metadata": {},
     "outputs": []
    },
    {
     "cell_type": "code",
     "collapsed": false,
     "input": [],
     "language": "python",
     "metadata": {},
     "outputs": []
    },
    {
     "cell_type": "code",
     "collapsed": false,
     "input": [],
     "language": "python",
     "metadata": {},
     "outputs": []
    },
    {
     "cell_type": "code",
     "collapsed": false,
     "input": [],
     "language": "python",
     "metadata": {},
     "outputs": []
    },
    {
     "cell_type": "code",
     "collapsed": false,
     "input": [],
     "language": "python",
     "metadata": {},
     "outputs": []
    },
    {
     "cell_type": "code",
     "collapsed": false,
     "input": [],
     "language": "python",
     "metadata": {},
     "outputs": []
    },
    {
     "cell_type": "code",
     "collapsed": false,
     "input": [],
     "language": "python",
     "metadata": {},
     "outputs": []
    },
    {
     "cell_type": "code",
     "collapsed": false,
     "input": [],
     "language": "python",
     "metadata": {},
     "outputs": []
    },
    {
     "cell_type": "code",
     "collapsed": false,
     "input": [],
     "language": "python",
     "metadata": {},
     "outputs": []
    },
    {
     "cell_type": "code",
     "collapsed": false,
     "input": [],
     "language": "python",
     "metadata": {},
     "outputs": []
    },
    {
     "cell_type": "code",
     "collapsed": false,
     "input": [],
     "language": "python",
     "metadata": {},
     "outputs": []
    },
    {
     "cell_type": "code",
     "collapsed": false,
     "input": [
      "fr.costs()"
     ],
     "language": "python",
     "metadata": {},
     "outputs": [
      {
       "metadata": {},
       "output_type": "pyout",
       "prompt_number": 379,
       "text": [
        "[1.7915619007272929,\n",
        " 1.7179302379753949,\n",
        " 1.6101718470075277,\n",
        " 1.4939862309747214,\n",
        " 1.3519599567834018,\n",
        " 1.148525109798161,\n",
        " 0.94648079144203157,\n",
        " 0.79734109446345591,\n",
        " 0.72595592171309153,\n",
        " 0.70978749523895512,\n",
        " 0.70632648961778732,\n",
        " 0.70689855509241106,\n",
        " 0.70792271359532344,\n",
        " 0.70871154909635892,\n",
        " 0.70915925448571504,\n",
        " 0.70940561144966563,\n",
        " 0.7095355282691691,\n",
        " 0.70960346843123823,\n",
        " 0.70963893946175749,\n",
        " 0.70965743066554254,\n",
        " 0.70966704988001972,\n",
        " 0.70967204584977372,\n",
        " 0.70967463846621914,\n",
        " 0.70967598330613768,\n",
        " 0.70967668074505208,\n",
        " 0.70967704239776852]"
       ]
      }
     ],
     "prompt_number": 379
    },
    {
     "cell_type": "code",
     "collapsed": false,
     "input": [
      "import matplotlib.pyplot as plt\n",
      "\n",
      "n = cost.shape[1] / 2\n",
      "\n",
      "fig = plt.figure()\n",
      "plt.plot(deltas, cost[:, n])\n",
      "plt.show()"
     ],
     "language": "python",
     "metadata": {},
     "outputs": [
      {
       "ename": "NameError",
       "evalue": "name 'cost' is not defined",
       "output_type": "pyerr",
       "traceback": [
        "\u001b[1;31m---------------------------------------------------------------------------\u001b[0m\n\u001b[1;31mNameError\u001b[0m                                 Traceback (most recent call last)",
        "\u001b[1;32m<ipython-input-380-893efecd9cf6>\u001b[0m in \u001b[0;36m<module>\u001b[1;34m()\u001b[0m\n\u001b[0;32m      1\u001b[0m \u001b[1;32mimport\u001b[0m \u001b[0mmatplotlib\u001b[0m\u001b[1;33m.\u001b[0m\u001b[0mpyplot\u001b[0m \u001b[1;32mas\u001b[0m \u001b[0mplt\u001b[0m\u001b[1;33m\u001b[0m\u001b[0m\n\u001b[0;32m      2\u001b[0m \u001b[1;33m\u001b[0m\u001b[0m\n\u001b[1;32m----> 3\u001b[1;33m \u001b[0mn\u001b[0m \u001b[1;33m=\u001b[0m \u001b[0mcost\u001b[0m\u001b[1;33m.\u001b[0m\u001b[0mshape\u001b[0m\u001b[1;33m[\u001b[0m\u001b[1;36m1\u001b[0m\u001b[1;33m]\u001b[0m \u001b[1;33m/\u001b[0m \u001b[1;36m2\u001b[0m\u001b[1;33m\u001b[0m\u001b[0m\n\u001b[0m\u001b[0;32m      4\u001b[0m \u001b[1;33m\u001b[0m\u001b[0m\n\u001b[0;32m      5\u001b[0m \u001b[0mfig\u001b[0m \u001b[1;33m=\u001b[0m \u001b[0mplt\u001b[0m\u001b[1;33m.\u001b[0m\u001b[0mfigure\u001b[0m\u001b[1;33m(\u001b[0m\u001b[1;33m)\u001b[0m\u001b[1;33m\u001b[0m\u001b[0m\n",
        "\u001b[1;31mNameError\u001b[0m: name 'cost' is not defined"
       ]
      }
     ],
     "prompt_number": 380
    },
    {
     "cell_type": "code",
     "collapsed": false,
     "input": [
      "np.min(cost)"
     ],
     "language": "python",
     "metadata": {},
     "outputs": [
      {
       "metadata": {},
       "output_type": "pyout",
       "prompt_number": 16,
       "text": [
        "52.432056213307099"
       ]
      }
     ],
     "prompt_number": 16
    },
    {
     "cell_type": "code",
     "collapsed": false,
     "input": [
      "%matplotlib inline"
     ],
     "language": "python",
     "metadata": {},
     "outputs": [],
     "prompt_number": 63
    },
    {
     "cell_type": "code",
     "collapsed": false,
     "input": [
      "plot_cost_function2(-cost, deltas, p_min[0:2])"
     ],
     "language": "python",
     "metadata": {},
     "outputs": [
      {
       "output_type": "stream",
       "stream": "stdout",
       "text": [
        "[ 55.  55.]\n",
        "[ 2 44]\n",
        "[ -6 -48]\n",
        "[ -6 -48]\n"
       ]
      }
     ],
     "prompt_number": 25
    },
    {
     "cell_type": "code",
     "collapsed": false,
     "input": [
      "from __future__ import division\n",
      "from matplotlib import cm\n",
      "\n",
      "\n",
      "def plot_cost_function2(cost, deltas, p_min, margin=0, x_contour=False, y_contour=False):\n",
      "\n",
      "    # compute tr=ue parameter values\n",
      "    p0 = deltas #+ p_min[0]\n",
      "    p1 = deltas #+ p_min[1]\n",
      "    \n",
      "    # build parameter grid\n",
      "    P0, P1 = np.meshgrid(p0, p1)\n",
      "\n",
      "    # compute figure limits\n",
      "    xlim_max = np.max(P0) + margin\n",
      "    xlim_min = np.min(P0) - margin\n",
      "    ylim_max = np.max(P1) + margin\n",
      "    ylim_min = np.min(P1) - margin\n",
      "    zlim_max = np.max(cost) + margin\n",
      "    zlim_min = np.min(cost) - margin\n",
      "\n",
      "    # initialize 3D ploting\n",
      "    fig = plt.figure()\n",
      "    ax = fig.add_subplot(111, projection='3d')\n",
      "\n",
      "    # plot cost function\n",
      "    ax.plot_surface(P0, P1, cost, rstride=1, cstride=1, alpha=0.5, cmap=cm.jet)\n",
      "    # plot 2d cost function contour\n",
      "    cset = ax.contourf(P0, P1, cost, zdir='z', offset=zlim_min, alpha=0.5, cmap=cm.jet)\n",
      "\n",
      "    if x_contour:\n",
      "        cset = ax.contourf(P0, P1, cost, zdir='x', offset=xlim_min, alpha=0.25, cmap=cm.jet)\n",
      "    if y_contour:\n",
      "        cset = ax.contourf(P0, P1, cost, zdir='y', offset=ylim_min, alpha=0.25, cmap=cm.jet)\n",
      "\n",
      "    # plot projection minima\n",
      "    #ax.scatter3D(p_min[0], p_min[1], zlim_min, marker='*', c='blue', s=100)\n",
      "    center = np.asarray(cost.shape) / 2\n",
      "    print center\n",
      "    ax.plot3D([0, 0], \n",
      "              [0, 0],\n",
      "              [zlim_min, cost[center[0], center[1]]],\n",
      "              'bo--')\n",
      "    \n",
      "    # plot cost funtion minima\n",
      "    cost_minima = np.max(cost)\n",
      "    indices = np.hstack(np.where(cost == cost_minima))\n",
      "    print indices\n",
      "    p_min_cost = np.array([deltas[indices[1]], deltas[indices[0]]])\n",
      "    print p_min_cost\n",
      "    p_min_cost = p_min_cost# + p_min\n",
      "    print p_min_cost\n",
      "    ax.plot3D([p_min_cost[0], p_min_cost[0]], \n",
      "              [p_min_cost[1], p_min_cost[1]],\n",
      "              [zlim_min, cost_minima],\n",
      "              'r*--')\n",
      "\n",
      "\n",
      "\n",
      "    # p = np.asarray(fr.algorithm_results[level].shape_parameters)\n",
      "\n",
      "    # start = ini - p_min[4:6]\n",
      "    # seq = p[:, 4:6] - p_min[4:6]\n",
      "\n",
      "\n",
      "    # ax.scatter3D(start[0], start[1], [-125], marker='o', c='blue', s=50)\n",
      "\n",
      "    # for j, s in enumerate(seq):\n",
      "    #     ax.plot3D([start[0], s[0]], [start[1], s[1]], [-125, -125], 'bo-')\n",
      "    #     start = s\n",
      "    \n",
      "    ax.set_xlabel('p0')\n",
      "    ax.set_xlim(xlim_min, xlim_max)\n",
      "    ax.set_ylabel('p1')\n",
      "    ax.set_ylim(ylim_min, ylim_max)\n",
      "    ax.set_zlabel('Cost')\n",
      "    ax.set_zlim(zlim_min, zlim_max)\n",
      "\n",
      "    plt.show()"
     ],
     "language": "python",
     "metadata": {},
     "outputs": [],
     "prompt_number": 18
    },
    {
     "cell_type": "code",
     "collapsed": false,
     "input": [
      "from __future__ import division\n",
      "import matplotlib.pyplot as plt\n",
      "from matplotlib import cm\n",
      "from mpl_toolkits.mplot3d import axes3d\n",
      "\n",
      "\n",
      "def plot_cost_funtion(cost, deltas, p_min, p_iter, margin=0, x_contour=False, y_contour=False):\n",
      "\n",
      "    # compute true parameter values\n",
      "    p0 = deltas + p_min[0]\n",
      "    p1 = deltas + p_min[1]\n",
      "    \n",
      "    # build parameter grid\n",
      "    P0, P1 = np.meshgrid(p0, p1)\n",
      "\n",
      "    # compute figure limits\n",
      "    xlim_max = np.max(P0) + margin\n",
      "    xlim_min = np.min(P0) - margin\n",
      "    ylim_max = np.max(P1) + margin\n",
      "    ylim_min = np.min(P1) - margin\n",
      "    zlim_max = np.max(cost) + margin\n",
      "    zlim_min = np.min(cost) - margin\n",
      "\n",
      "    # initialize 3D ploting\n",
      "    fig = plt.figure()\n",
      "    ax = fig.add_subplot(111, projection='3d')\n",
      "\n",
      "    # plot cost function\n",
      "    ax.plot_surface(P0, P1, cost, rstride=1, cstride=1, alpha=0.5, cmap=cm.jet)\n",
      "    # plot 2d cost function contour\n",
      "    cset = ax.contourf(P0, P1, cost, zdir='z', offset=zlim_min, alpha=0.5, cmap=cm.jet)\n",
      "\n",
      "    if x_contour:\n",
      "        cset = ax.contourf(P0, P1, cost, zdir='x', offset=xlim_min, alpha=0.25, cmap=cm.jet)\n",
      "    if y_contour:\n",
      "        cset = ax.contourf(P0, P1, cost, zdir='y', offset=ylim_min, alpha=0.25, cmap=cm.jet)\n",
      "\n",
      "    # plot projection minima\n",
      "    center = np.asarray(cost.shape) / 2\n",
      "    print center\n",
      "    ax.plot3D([0, 0], \n",
      "              [0, 0],\n",
      "              [zlim_min, cost[center[0], center[1]]],\n",
      "              'b*--', markersize=10)\n",
      "    \n",
      "    # plot cost funtion minima\n",
      "    cost_minima = np.max(cost)\n",
      "    indices = np.hstack(np.where(cost == cost_minima))\n",
      "    print indices\n",
      "    p_min_cost = np.array([deltas[indices[1]], deltas[indices[0]]])\n",
      "    print p_min_cost\n",
      "    p_min_cost = p_min_cost + p_min\n",
      "    print p_min_cost\n",
      "    ax.plot3D([p_min_cost[0], p_min_cost[0]], \n",
      "              [p_min_cost[1], p_min_cost[1]],\n",
      "              [zlim_min, cost_minima],\n",
      "              'go--', markersize=10)\n",
      "\n",
      "    # draw optimization path\n",
      "    start = p_iter[0]\n",
      "    for j, s in enumerate(p_iter[1:, :]):\n",
      "        # draw optimization step\n",
      "        ax.plot3D([start[0], s[0]], \n",
      "                  [start[1], s[1]], \n",
      "                  [zlim_min, zlim_min], \n",
      "                  'bx-', markersize=10)\n",
      "        start = s\n",
      "    \n",
      "    ax.set_xlabel('p0')\n",
      "    ax.set_xlim(xlim_min, xlim_max)\n",
      "    ax.set_ylabel('p1')\n",
      "    ax.set_ylim(ylim_min, ylim_max)\n",
      "    ax.set_zlabel('Cost')\n",
      "    ax.set_zlim(zlim_min, zlim_max)\n",
      "\n",
      "    plt.show()"
     ],
     "language": "python",
     "metadata": {},
     "outputs": [],
     "prompt_number": 63
    },
    {
     "cell_type": "code",
     "collapsed": false,
     "input": [
      "%matplotlib qt"
     ],
     "language": "python",
     "metadata": {},
     "outputs": [],
     "prompt_number": 64
    },
    {
     "cell_type": "code",
     "collapsed": false,
     "input": [
      "# inputs\n",
      "margin = None\n",
      "p_min_ = p_min[4:6]\n",
      "p_initial = p_perturbed[4:6]\n",
      "p_iter = np.asarray(fr.algorithm_results[-1].shape_parameters)[::, 4:6]\n",
      "\n",
      "plot_cost_funtion(-cost, delta_ps, p_min_, p_iter)"
     ],
     "language": "python",
     "metadata": {},
     "outputs": [
      {
       "output_type": "stream",
       "stream": "stdout",
       "text": [
        "[ 10.  10.]\n",
        "[10 10]\n",
        "[0 0]\n",
        "[ 0.71686173 -4.69266986]\n"
       ]
      }
     ],
     "prompt_number": 65
    },
    {
     "cell_type": "code",
     "collapsed": false,
     "input": [],
     "language": "python",
     "metadata": {},
     "outputs": [
      {
       "metadata": {},
       "output_type": "pyout",
       "prompt_number": 202,
       "text": [
        "array([], dtype=float64)"
       ]
      }
     ],
     "prompt_number": 202
    },
    {
     "cell_type": "code",
     "collapsed": false,
     "input": [
      "p_perturbed[4:6]"
     ],
     "language": "python",
     "metadata": {},
     "outputs": [
      {
       "metadata": {},
       "output_type": "pyout",
       "prompt_number": 194,
       "text": [
        "array([ 80.,  80.])"
       ]
      }
     ],
     "prompt_number": 194
    },
    {
     "cell_type": "code",
     "collapsed": false,
     "input": [
      "np.asarray(fr.algorithm_results[-1].shape_parameters)[::2, 4:6]"
     ],
     "language": "python",
     "metadata": {},
     "outputs": [
      {
       "metadata": {},
       "output_type": "pyout",
       "prompt_number": 197,
       "text": [
        "array([[ 80.00609422,  79.9965716 ],\n",
        "       [ 61.96681688,  53.33109526],\n",
        "       [ 44.06905362,  22.82361346],\n",
        "       [ 24.00908563,   3.02358483],\n",
        "       [  9.28366875,  -0.57021484],\n",
        "       [  3.21951664,  -1.25597626],\n",
        "       [  1.24203099,  -1.5791988 ],\n",
        "       [  0.64073387,  -1.72366019],\n",
        "       [  0.45573356,  -1.77833606],\n",
        "       [  0.40097129,  -1.79476348],\n",
        "       [  0.38463993,  -1.79962748]])"
       ]
      }
     ],
     "prompt_number": 197
    },
    {
     "cell_type": "code",
     "collapsed": false,
     "input": [],
     "language": "python",
     "metadata": {},
     "outputs": []
    }
   ],
   "metadata": {}
  }
 ]
}