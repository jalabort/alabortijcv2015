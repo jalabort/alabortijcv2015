{
 "metadata": {
  "name": "",
  "signature": "sha256:65e995c8979168cee07b7b4e39d2d329a3b0553890a60b83e0549b6e8a73c2b6"
 },
 "nbformat": 3,
 "nbformat_minor": 0,
 "worksheets": [
  {
   "cells": [
    {
     "cell_type": "code",
     "collapsed": false,
     "input": [
      "%matplotlib inline\n",
      "%pylab inline"
     ],
     "language": "python",
     "metadata": {},
     "outputs": [
      {
       "output_type": "stream",
       "stream": "stdout",
       "text": [
        "Populating the interactive namespace from numpy and matplotlib\n"
       ]
      }
     ],
     "prompt_number": 1
    },
    {
     "cell_type": "code",
     "collapsed": false,
     "input": [
      "repeat = 1"
     ],
     "language": "python",
     "metadata": {},
     "outputs": [],
     "prompt_number": 2
    },
    {
     "cell_type": "heading",
     "level": 1,
     "metadata": {},
     "source": [
      "Load test data"
     ]
    },
    {
     "cell_type": "code",
     "collapsed": false,
     "input": [
      "import menpo.io as mio\n",
      "from menpo.landmark import labeller, streetscene_car_view_2\n",
      "from menpofast.utils import convert_from_menpo\n",
      "\n",
      "group = 'streetscene_car_view_2'\n",
      "\n",
      "test_images = []\n",
      "for i in mio.import_images('/data/PhD/DataBases/cars/cmu_car_data1/view2/', verbose=True, \n",
      "                           max_images=None):\n",
      "    \n",
      "    # convert the image from menpo Image to menpofast Image (channels at front)\n",
      "    i = convert_from_menpo(i)\n",
      "    \n",
      "    labeller(i, 'PTS', eval(group))\n",
      "    i.crop_to_landmarks_proportion_inplace(1, group=group)\n",
      "    i = i.rescale_landmarks_to_diagonal_range(200, group=group)\n",
      "    \n",
      "    if i.n_channels == 3:\n",
      "        i = i.as_greyscale(mode='average')\n",
      "    test_images.append(i)"
     ],
     "language": "python",
     "metadata": {},
     "outputs": [
      {
       "output_type": "stream",
       "stream": "stdout",
       "text": [
        "\r",
        "- Loading 601 assets: [                    ] 0%"
       ]
      },
      {
       "output_type": "stream",
       "stream": "stdout",
       "text": [
        "\r",
        "- Loading 601 assets: [                    ] 0%"
       ]
      },
      {
       "output_type": "stream",
       "stream": "stdout",
       "text": [
        "\r",
        "- Loading 601 assets: [                    ] 0%"
       ]
      },
      {
       "output_type": "stream",
       "stream": "stdout",
       "text": [
        "\r",
        "- Loading 601 assets: [                    ] 0%"
       ]
      },
      {
       "output_type": "stream",
       "stream": "stdout",
       "text": [
        "\r",
        "- Loading 601 assets: [                    ] 0%"
       ]
      },
      {
       "output_type": "stream",
       "stream": "stdout",
       "text": [
        "\r",
        "- Loading 601 assets: [                    ] 0%"
       ]
      },
      {
       "output_type": "stream",
       "stream": "stdout",
       "text": [
        "\r",
        "- Loading 601 assets: [                    ] 1%"
       ]
      },
      {
       "output_type": "stream",
       "stream": "stdout",
       "text": [
        "\r",
        "- Loading 601 assets: [                    ] 1%"
       ]
      },
      {
       "output_type": "stream",
       "stream": "stdout",
       "text": [
        "\r",
        "- Loading 601 assets: [                    ] 1%"
       ]
      },
      {
       "output_type": "stream",
       "stream": "stdout",
       "text": [
        "\r",
        "- Loading 601 assets: [                    ] 1%"
       ]
      },
      {
       "output_type": "stream",
       "stream": "stdout",
       "text": [
        "\r",
        "- Loading 601 assets: [                    ] 1%"
       ]
      },
      {
       "output_type": "stream",
       "stream": "stdout",
       "text": [
        "\r",
        "- Loading 601 assets: [                    ] 1%"
       ]
      },
      {
       "output_type": "stream",
       "stream": "stdout",
       "text": [
        "\r",
        "- Loading 601 assets: [                    ] 2%"
       ]
      },
      {
       "output_type": "stream",
       "stream": "stdout",
       "text": [
        "\r",
        "- Loading 601 assets: [                    ] 2%"
       ]
      },
      {
       "output_type": "stream",
       "stream": "stdout",
       "text": [
        "\r",
        "- Loading 601 assets: [                    ] 2%"
       ]
      },
      {
       "output_type": "stream",
       "stream": "stdout",
       "text": [
        "\r",
        "- Loading 601 assets: [                    ] 2%"
       ]
      },
      {
       "output_type": "stream",
       "stream": "stdout",
       "text": [
        "\r",
        "- Loading 601 assets: [                    ] 2%"
       ]
      },
      {
       "output_type": "stream",
       "stream": "stdout",
       "text": [
        "\r",
        "- Loading 601 assets: [                    ] 2%"
       ]
      },
      {
       "output_type": "stream",
       "stream": "stdout",
       "text": [
        "\r",
        "- Loading 601 assets: [                    ] 3%"
       ]
      },
      {
       "output_type": "stream",
       "stream": "stdout",
       "text": [
        "\r",
        "- Loading 601 assets: [                    ] 3%"
       ]
      },
      {
       "output_type": "stream",
       "stream": "stdout",
       "text": [
        "\r",
        "- Loading 601 assets: [                    ] 3%"
       ]
      },
      {
       "output_type": "stream",
       "stream": "stdout",
       "text": [
        "\r",
        "- Loading 601 assets: [                    ] 3%"
       ]
      },
      {
       "output_type": "stream",
       "stream": "stdout",
       "text": [
        "\r",
        "- Loading 601 assets: [                    ] 3%"
       ]
      },
      {
       "output_type": "stream",
       "stream": "stdout",
       "text": [
        "\r",
        "- Loading 601 assets: [                    ] 3%"
       ]
      },
      {
       "output_type": "stream",
       "stream": "stdout",
       "text": [
        "\r",
        "- Loading 601 assets: [                    ] 4%"
       ]
      },
      {
       "output_type": "stream",
       "stream": "stdout",
       "text": [
        "\r",
        "- Loading 601 assets: [                    ] 4%"
       ]
      },
      {
       "output_type": "stream",
       "stream": "stdout",
       "text": [
        "\r",
        "- Loading 601 assets: [                    ] 4%"
       ]
      },
      {
       "output_type": "stream",
       "stream": "stdout",
       "text": [
        "\r",
        "- Loading 601 assets: [                    ] 4%"
       ]
      },
      {
       "output_type": "stream",
       "stream": "stdout",
       "text": [
        "\r",
        "- Loading 601 assets: [                    ] 4%"
       ]
      },
      {
       "output_type": "stream",
       "stream": "stdout",
       "text": [
        "\r",
        "- Loading 601 assets: [                    ] 4%"
       ]
      },
      {
       "output_type": "stream",
       "stream": "stdout",
       "text": [
        "\r",
        "- Loading 601 assets: [=                   ] 5%"
       ]
      },
      {
       "output_type": "stream",
       "stream": "stdout",
       "text": [
        "\r",
        "- Loading 601 assets: [=                   ] 5%"
       ]
      },
      {
       "output_type": "stream",
       "stream": "stdout",
       "text": [
        "\r",
        "- Loading 601 assets: [=                   ] 5%"
       ]
      },
      {
       "output_type": "stream",
       "stream": "stdout",
       "text": [
        "\r",
        "- Loading 601 assets: [=                   ] 5%"
       ]
      },
      {
       "output_type": "stream",
       "stream": "stdout",
       "text": [
        "\r",
        "- Loading 601 assets: [=                   ] 5%"
       ]
      },
      {
       "output_type": "stream",
       "stream": "stdout",
       "text": [
        "\r",
        "- Loading 601 assets: [=                   ] 5%"
       ]
      },
      {
       "output_type": "stream",
       "stream": "stdout",
       "text": [
        "\r",
        "- Loading 601 assets: [=                   ] 6%"
       ]
      },
      {
       "output_type": "stream",
       "stream": "stdout",
       "text": [
        "\r",
        "- Loading 601 assets: [=                   ] 6%"
       ]
      },
      {
       "output_type": "stream",
       "stream": "stdout",
       "text": [
        "\r",
        "- Loading 601 assets: [=                   ] 6%"
       ]
      },
      {
       "output_type": "stream",
       "stream": "stdout",
       "text": [
        "\r",
        "- Loading 601 assets: [=                   ] 6%"
       ]
      },
      {
       "output_type": "stream",
       "stream": "stdout",
       "text": [
        "\r",
        "- Loading 601 assets: [=                   ] 6%"
       ]
      },
      {
       "output_type": "stream",
       "stream": "stdout",
       "text": [
        "\r",
        "- Loading 601 assets: [=                   ] 6%"
       ]
      },
      {
       "output_type": "stream",
       "stream": "stdout",
       "text": [
        "\r",
        "- Loading 601 assets: [=                   ] 7%"
       ]
      },
      {
       "output_type": "stream",
       "stream": "stdout",
       "text": [
        "\r",
        "- Loading 601 assets: [=                   ] 7%"
       ]
      },
      {
       "output_type": "stream",
       "stream": "stdout",
       "text": [
        "\r",
        "- Loading 601 assets: [=                   ] 7%"
       ]
      },
      {
       "output_type": "stream",
       "stream": "stdout",
       "text": [
        "\r",
        "- Loading 601 assets: [=                   ] 7%"
       ]
      },
      {
       "output_type": "stream",
       "stream": "stdout",
       "text": [
        "\r",
        "- Loading 601 assets: [=                   ] 7%"
       ]
      },
      {
       "output_type": "stream",
       "stream": "stdout",
       "text": [
        "\r",
        "- Loading 601 assets: [=                   ] 7%"
       ]
      },
      {
       "output_type": "stream",
       "stream": "stdout",
       "text": [
        "\r",
        "- Loading 601 assets: [=                   ] 8%"
       ]
      },
      {
       "output_type": "stream",
       "stream": "stdout",
       "text": [
        "\r",
        "- Loading 601 assets: [=                   ] 8%"
       ]
      },
      {
       "output_type": "stream",
       "stream": "stdout",
       "text": [
        "\r",
        "- Loading 601 assets: [=                   ] 8%"
       ]
      },
      {
       "output_type": "stream",
       "stream": "stdout",
       "text": [
        "\r",
        "- Loading 601 assets: [=                   ] 8%"
       ]
      },
      {
       "output_type": "stream",
       "stream": "stdout",
       "text": [
        "\r",
        "- Loading 601 assets: [=                   ] 8%"
       ]
      },
      {
       "output_type": "stream",
       "stream": "stdout",
       "text": [
        "\r",
        "- Loading 601 assets: [=                   ] 8%"
       ]
      },
      {
       "output_type": "stream",
       "stream": "stdout",
       "text": [
        "\r",
        "- Loading 601 assets: [=                   ] 9%"
       ]
      },
      {
       "output_type": "stream",
       "stream": "stdout",
       "text": [
        "\r",
        "- Loading 601 assets: [=                   ] 9%"
       ]
      },
      {
       "output_type": "stream",
       "stream": "stdout",
       "text": [
        "\r",
        "- Loading 601 assets: [=                   ] 9%"
       ]
      },
      {
       "output_type": "stream",
       "stream": "stdout",
       "text": [
        "\r",
        "- Loading 601 assets: [=                   ] 9%"
       ]
      },
      {
       "output_type": "stream",
       "stream": "stdout",
       "text": [
        "\r",
        "- Loading 601 assets: [=                   ] 9%"
       ]
      },
      {
       "output_type": "stream",
       "stream": "stdout",
       "text": [
        "\r",
        "- Loading 601 assets: [=                   ] 9%"
       ]
      },
      {
       "output_type": "stream",
       "stream": "stdout",
       "text": [
        "\r",
        "- Loading 601 assets: [==                  ] 10%"
       ]
      },
      {
       "output_type": "stream",
       "stream": "stdout",
       "text": [
        "\r",
        "- Loading 601 assets: [==                  ] 10%"
       ]
      },
      {
       "output_type": "stream",
       "stream": "stdout",
       "text": [
        "\r",
        "- Loading 601 assets: [==                  ] 10%"
       ]
      },
      {
       "output_type": "stream",
       "stream": "stdout",
       "text": [
        "\r",
        "- Loading 601 assets: [==                  ] 10%"
       ]
      },
      {
       "output_type": "stream",
       "stream": "stdout",
       "text": [
        "\r",
        "- Loading 601 assets: [==                  ] 10%"
       ]
      },
      {
       "output_type": "stream",
       "stream": "stdout",
       "text": [
        "\r",
        "- Loading 601 assets: [==                  ] 10%"
       ]
      },
      {
       "output_type": "stream",
       "stream": "stdout",
       "text": [
        "\r",
        "- Loading 601 assets: [==                  ] 11%"
       ]
      },
      {
       "output_type": "stream",
       "stream": "stdout",
       "text": [
        "\r",
        "- Loading 601 assets: [==                  ] 11%"
       ]
      },
      {
       "output_type": "stream",
       "stream": "stdout",
       "text": [
        "\r",
        "- Loading 601 assets: [==                  ] 11%"
       ]
      },
      {
       "output_type": "stream",
       "stream": "stdout",
       "text": [
        "\r",
        "- Loading 601 assets: [==                  ] 11%"
       ]
      },
      {
       "output_type": "stream",
       "stream": "stdout",
       "text": [
        "\r",
        "- Loading 601 assets: [==                  ] 11%"
       ]
      },
      {
       "output_type": "stream",
       "stream": "stdout",
       "text": [
        "\r",
        "- Loading 601 assets: [==                  ] 11%"
       ]
      },
      {
       "output_type": "stream",
       "stream": "stdout",
       "text": [
        "\r",
        "- Loading 601 assets: [==                  ] 12%"
       ]
      },
      {
       "output_type": "stream",
       "stream": "stdout",
       "text": [
        "\r",
        "- Loading 601 assets: [==                  ] 12%"
       ]
      },
      {
       "output_type": "stream",
       "stream": "stdout",
       "text": [
        "\r",
        "- Loading 601 assets: [==                  ] 12%"
       ]
      },
      {
       "output_type": "stream",
       "stream": "stdout",
       "text": [
        "\r",
        "- Loading 601 assets: [==                  ] 12%"
       ]
      },
      {
       "output_type": "stream",
       "stream": "stdout",
       "text": [
        "\r",
        "- Loading 601 assets: [==                  ] 12%"
       ]
      },
      {
       "output_type": "stream",
       "stream": "stdout",
       "text": [
        "\r",
        "- Loading 601 assets: [==                  ] 12%"
       ]
      },
      {
       "output_type": "stream",
       "stream": "stdout",
       "text": [
        "\r",
        "- Loading 601 assets: [==                  ] 13%"
       ]
      },
      {
       "output_type": "stream",
       "stream": "stdout",
       "text": [
        "\r",
        "- Loading 601 assets: [==                  ] 13%"
       ]
      },
      {
       "output_type": "stream",
       "stream": "stdout",
       "text": [
        "\r",
        "- Loading 601 assets: [==                  ] 13%"
       ]
      },
      {
       "output_type": "stream",
       "stream": "stdout",
       "text": [
        "\r",
        "- Loading 601 assets: [==                  ] 13%"
       ]
      },
      {
       "output_type": "stream",
       "stream": "stdout",
       "text": [
        "\r",
        "- Loading 601 assets: [==                  ] 13%"
       ]
      },
      {
       "output_type": "stream",
       "stream": "stdout",
       "text": [
        "\r",
        "- Loading 601 assets: [==                  ] 13%"
       ]
      },
      {
       "output_type": "stream",
       "stream": "stdout",
       "text": [
        "\r",
        "- Loading 601 assets: [==                  ] 14%"
       ]
      },
      {
       "output_type": "stream",
       "stream": "stdout",
       "text": [
        "\r",
        "- Loading 601 assets: [==                  ] 14%"
       ]
      },
      {
       "output_type": "stream",
       "stream": "stdout",
       "text": [
        "\r",
        "- Loading 601 assets: [==                  ] 14%"
       ]
      },
      {
       "output_type": "stream",
       "stream": "stdout",
       "text": [
        "\r",
        "- Loading 601 assets: [==                  ] 14%"
       ]
      },
      {
       "output_type": "stream",
       "stream": "stdout",
       "text": [
        "\r",
        "- Loading 601 assets: [==                  ] 14%"
       ]
      },
      {
       "output_type": "stream",
       "stream": "stdout",
       "text": [
        "\r",
        "- Loading 601 assets: [==                  ] 14%"
       ]
      },
      {
       "output_type": "stream",
       "stream": "stdout",
       "text": [
        "\r",
        "- Loading 601 assets: [===                 ] 15%"
       ]
      },
      {
       "output_type": "stream",
       "stream": "stdout",
       "text": [
        "\r",
        "- Loading 601 assets: [===                 ] 15%"
       ]
      },
      {
       "output_type": "stream",
       "stream": "stdout",
       "text": [
        "\r",
        "- Loading 601 assets: [===                 ] 15%"
       ]
      },
      {
       "output_type": "stream",
       "stream": "stdout",
       "text": [
        "\r",
        "- Loading 601 assets: [===                 ] 15%"
       ]
      },
      {
       "output_type": "stream",
       "stream": "stdout",
       "text": [
        "\r",
        "- Loading 601 assets: [===                 ] 15%"
       ]
      },
      {
       "output_type": "stream",
       "stream": "stdout",
       "text": [
        "\r",
        "- Loading 601 assets: [===                 ] 15%"
       ]
      },
      {
       "output_type": "stream",
       "stream": "stdout",
       "text": [
        "\r",
        "- Loading 601 assets: [===                 ] 16%"
       ]
      },
      {
       "output_type": "stream",
       "stream": "stdout",
       "text": [
        "\r",
        "- Loading 601 assets: [===                 ] 16%"
       ]
      },
      {
       "output_type": "stream",
       "stream": "stdout",
       "text": [
        "\r",
        "- Loading 601 assets: [===                 ] 16%"
       ]
      },
      {
       "output_type": "stream",
       "stream": "stdout",
       "text": [
        "\r",
        "- Loading 601 assets: [===                 ] 16%"
       ]
      },
      {
       "output_type": "stream",
       "stream": "stdout",
       "text": [
        "\r",
        "- Loading 601 assets: [===                 ] 16%"
       ]
      },
      {
       "output_type": "stream",
       "stream": "stdout",
       "text": [
        "\r",
        "- Loading 601 assets: [===                 ] 16%"
       ]
      },
      {
       "output_type": "stream",
       "stream": "stdout",
       "text": [
        "\r",
        "- Loading 601 assets: [===                 ] 17%"
       ]
      },
      {
       "output_type": "stream",
       "stream": "stdout",
       "text": [
        "\r",
        "- Loading 601 assets: [===                 ] 17%"
       ]
      },
      {
       "output_type": "stream",
       "stream": "stdout",
       "text": [
        "\r",
        "- Loading 601 assets: [===                 ] 17%"
       ]
      },
      {
       "output_type": "stream",
       "stream": "stdout",
       "text": [
        "\r",
        "- Loading 601 assets: [===                 ] 17%"
       ]
      },
      {
       "output_type": "stream",
       "stream": "stdout",
       "text": [
        "\r",
        "- Loading 601 assets: [===                 ] 17%"
       ]
      },
      {
       "output_type": "stream",
       "stream": "stdout",
       "text": [
        "\r",
        "- Loading 601 assets: [===                 ] 17%"
       ]
      },
      {
       "output_type": "stream",
       "stream": "stdout",
       "text": [
        "\r",
        "- Loading 601 assets: [===                 ] 18%"
       ]
      },
      {
       "output_type": "stream",
       "stream": "stdout",
       "text": [
        "\r",
        "- Loading 601 assets: [===                 ] 18%"
       ]
      },
      {
       "output_type": "stream",
       "stream": "stdout",
       "text": [
        "\r",
        "- Loading 601 assets: [===                 ] 18%"
       ]
      },
      {
       "output_type": "stream",
       "stream": "stdout",
       "text": [
        "\r",
        "- Loading 601 assets: [===                 ] 18%"
       ]
      },
      {
       "output_type": "stream",
       "stream": "stdout",
       "text": [
        "\r",
        "- Loading 601 assets: [===                 ] 18%"
       ]
      },
      {
       "output_type": "stream",
       "stream": "stdout",
       "text": [
        "\r",
        "- Loading 601 assets: [===                 ] 18%"
       ]
      },
      {
       "output_type": "stream",
       "stream": "stdout",
       "text": [
        "\r",
        "- Loading 601 assets: [===                 ] 19%"
       ]
      },
      {
       "output_type": "stream",
       "stream": "stdout",
       "text": [
        "\r",
        "- Loading 601 assets: [===                 ] 19%"
       ]
      },
      {
       "output_type": "stream",
       "stream": "stdout",
       "text": [
        "\r",
        "- Loading 601 assets: [===                 ] 19%"
       ]
      },
      {
       "output_type": "stream",
       "stream": "stdout",
       "text": [
        "\r",
        "- Loading 601 assets: [===                 ] 19%"
       ]
      },
      {
       "output_type": "stream",
       "stream": "stdout",
       "text": [
        "\r",
        "- Loading 601 assets: [===                 ] 19%"
       ]
      },
      {
       "output_type": "stream",
       "stream": "stdout",
       "text": [
        "\r",
        "- Loading 601 assets: [===                 ] 19%"
       ]
      },
      {
       "output_type": "stream",
       "stream": "stdout",
       "text": [
        "\r",
        "- Loading 601 assets: [====                ] 20%"
       ]
      },
      {
       "output_type": "stream",
       "stream": "stdout",
       "text": [
        "\r",
        "- Loading 601 assets: [====                ] 20%"
       ]
      },
      {
       "output_type": "stream",
       "stream": "stdout",
       "text": [
        "\r",
        "- Loading 601 assets: [====                ] 20%"
       ]
      },
      {
       "output_type": "stream",
       "stream": "stdout",
       "text": [
        "\r",
        "- Loading 601 assets: [====                ] 20%"
       ]
      },
      {
       "output_type": "stream",
       "stream": "stdout",
       "text": [
        "\r",
        "- Loading 601 assets: [====                ] 20%"
       ]
      },
      {
       "output_type": "stream",
       "stream": "stdout",
       "text": [
        "\r",
        "- Loading 601 assets: [====                ] 20%"
       ]
      },
      {
       "output_type": "stream",
       "stream": "stdout",
       "text": [
        "\r",
        "- Loading 601 assets: [====                ] 21%"
       ]
      },
      {
       "output_type": "stream",
       "stream": "stdout",
       "text": [
        "\r",
        "- Loading 601 assets: [====                ] 21%"
       ]
      },
      {
       "output_type": "stream",
       "stream": "stdout",
       "text": [
        "\r",
        "- Loading 601 assets: [====                ] 21%"
       ]
      },
      {
       "output_type": "stream",
       "stream": "stdout",
       "text": [
        "\r",
        "- Loading 601 assets: [====                ] 21%"
       ]
      },
      {
       "output_type": "stream",
       "stream": "stdout",
       "text": [
        "\r",
        "- Loading 601 assets: [====                ] 21%"
       ]
      },
      {
       "output_type": "stream",
       "stream": "stdout",
       "text": [
        "\r",
        "- Loading 601 assets: [====                ] 21%"
       ]
      },
      {
       "output_type": "stream",
       "stream": "stdout",
       "text": [
        "\r",
        "- Loading 601 assets: [====                ] 22%"
       ]
      },
      {
       "output_type": "stream",
       "stream": "stdout",
       "text": [
        "\r",
        "- Loading 601 assets: [====                ] 22%"
       ]
      },
      {
       "output_type": "stream",
       "stream": "stdout",
       "text": [
        "\r",
        "- Loading 601 assets: [====                ] 22%"
       ]
      },
      {
       "output_type": "stream",
       "stream": "stdout",
       "text": [
        "\r",
        "- Loading 601 assets: [====                ] 22%"
       ]
      },
      {
       "output_type": "stream",
       "stream": "stdout",
       "text": [
        "\r",
        "- Loading 601 assets: [====                ] 22%"
       ]
      },
      {
       "output_type": "stream",
       "stream": "stdout",
       "text": [
        "\r",
        "- Loading 601 assets: [====                ] 22%"
       ]
      },
      {
       "output_type": "stream",
       "stream": "stdout",
       "text": [
        "\r",
        "- Loading 601 assets: [====                ] 23%"
       ]
      },
      {
       "output_type": "stream",
       "stream": "stdout",
       "text": [
        "\r",
        "- Loading 601 assets: [====                ] 23%"
       ]
      },
      {
       "output_type": "stream",
       "stream": "stdout",
       "text": [
        "\r",
        "- Loading 601 assets: [====                ] 23%"
       ]
      },
      {
       "output_type": "stream",
       "stream": "stdout",
       "text": [
        "\r",
        "- Loading 601 assets: [====                ] 23%"
       ]
      },
      {
       "output_type": "stream",
       "stream": "stdout",
       "text": [
        "\r",
        "- Loading 601 assets: [====                ] 23%"
       ]
      },
      {
       "output_type": "stream",
       "stream": "stdout",
       "text": [
        "\r",
        "- Loading 601 assets: [====                ] 23%"
       ]
      },
      {
       "output_type": "stream",
       "stream": "stdout",
       "text": [
        "\r",
        "- Loading 601 assets: [====                ] 24%"
       ]
      },
      {
       "output_type": "stream",
       "stream": "stdout",
       "text": [
        "\r",
        "- Loading 601 assets: [====                ] 24%"
       ]
      },
      {
       "output_type": "stream",
       "stream": "stdout",
       "text": [
        "\r",
        "- Loading 601 assets: [====                ] 24%"
       ]
      },
      {
       "output_type": "stream",
       "stream": "stdout",
       "text": [
        "\r",
        "- Loading 601 assets: [====                ] 24%"
       ]
      },
      {
       "output_type": "stream",
       "stream": "stdout",
       "text": [
        "\r",
        "- Loading 601 assets: [====                ] 24%"
       ]
      },
      {
       "output_type": "stream",
       "stream": "stdout",
       "text": [
        "\r",
        "- Loading 601 assets: [====                ] 24%"
       ]
      },
      {
       "output_type": "stream",
       "stream": "stdout",
       "text": [
        "\r",
        "- Loading 601 assets: [=====               ] 25%"
       ]
      },
      {
       "output_type": "stream",
       "stream": "stdout",
       "text": [
        "\r",
        "- Loading 601 assets: [=====               ] 25%"
       ]
      },
      {
       "output_type": "stream",
       "stream": "stdout",
       "text": [
        "\r",
        "- Loading 601 assets: [=====               ] 25%"
       ]
      },
      {
       "output_type": "stream",
       "stream": "stdout",
       "text": [
        "\r",
        "- Loading 601 assets: [=====               ] 25%"
       ]
      },
      {
       "output_type": "stream",
       "stream": "stdout",
       "text": [
        "\r",
        "- Loading 601 assets: [=====               ] 25%"
       ]
      },
      {
       "output_type": "stream",
       "stream": "stdout",
       "text": [
        "\r",
        "- Loading 601 assets: [=====               ] 25%"
       ]
      },
      {
       "output_type": "stream",
       "stream": "stdout",
       "text": [
        "\r",
        "- Loading 601 assets: [=====               ] 26%"
       ]
      },
      {
       "output_type": "stream",
       "stream": "stdout",
       "text": [
        "\r",
        "- Loading 601 assets: [=====               ] 26%"
       ]
      },
      {
       "output_type": "stream",
       "stream": "stdout",
       "text": [
        "\r",
        "- Loading 601 assets: [=====               ] 26%"
       ]
      },
      {
       "output_type": "stream",
       "stream": "stdout",
       "text": [
        "\r",
        "- Loading 601 assets: [=====               ] 26%"
       ]
      },
      {
       "output_type": "stream",
       "stream": "stdout",
       "text": [
        "\r",
        "- Loading 601 assets: [=====               ] 26%"
       ]
      },
      {
       "output_type": "stream",
       "stream": "stdout",
       "text": [
        "\r",
        "- Loading 601 assets: [=====               ] 26%"
       ]
      },
      {
       "output_type": "stream",
       "stream": "stdout",
       "text": [
        "\r",
        "- Loading 601 assets: [=====               ] 27%"
       ]
      },
      {
       "output_type": "stream",
       "stream": "stdout",
       "text": [
        "\r",
        "- Loading 601 assets: [=====               ] 27%"
       ]
      },
      {
       "output_type": "stream",
       "stream": "stdout",
       "text": [
        "\r",
        "- Loading 601 assets: [=====               ] 27%"
       ]
      },
      {
       "output_type": "stream",
       "stream": "stdout",
       "text": [
        "\r",
        "- Loading 601 assets: [=====               ] 27%"
       ]
      },
      {
       "output_type": "stream",
       "stream": "stdout",
       "text": [
        "\r",
        "- Loading 601 assets: [=====               ] 27%"
       ]
      },
      {
       "output_type": "stream",
       "stream": "stdout",
       "text": [
        "\r",
        "- Loading 601 assets: [=====               ] 27%"
       ]
      },
      {
       "output_type": "stream",
       "stream": "stdout",
       "text": [
        "\r",
        "- Loading 601 assets: [=====               ] 28%"
       ]
      },
      {
       "output_type": "stream",
       "stream": "stdout",
       "text": [
        "\r",
        "- Loading 601 assets: [=====               ] 28%"
       ]
      },
      {
       "output_type": "stream",
       "stream": "stdout",
       "text": [
        "\r",
        "- Loading 601 assets: [=====               ] 28%"
       ]
      },
      {
       "output_type": "stream",
       "stream": "stdout",
       "text": [
        "\r",
        "- Loading 601 assets: [=====               ] 28%"
       ]
      },
      {
       "output_type": "stream",
       "stream": "stdout",
       "text": [
        "\r",
        "- Loading 601 assets: [=====               ] 28%"
       ]
      },
      {
       "output_type": "stream",
       "stream": "stdout",
       "text": [
        "\r",
        "- Loading 601 assets: [=====               ] 28%"
       ]
      },
      {
       "output_type": "stream",
       "stream": "stdout",
       "text": [
        "\r",
        "- Loading 601 assets: [=====               ] 29%"
       ]
      },
      {
       "output_type": "stream",
       "stream": "stdout",
       "text": [
        "\r",
        "- Loading 601 assets: [=====               ] 29%"
       ]
      },
      {
       "output_type": "stream",
       "stream": "stdout",
       "text": [
        "\r",
        "- Loading 601 assets: [=====               ] 29%"
       ]
      },
      {
       "output_type": "stream",
       "stream": "stdout",
       "text": [
        "\r",
        "- Loading 601 assets: [=====               ] 29%"
       ]
      },
      {
       "output_type": "stream",
       "stream": "stdout",
       "text": [
        "\r",
        "- Loading 601 assets: [=====               ] 29%"
       ]
      },
      {
       "output_type": "stream",
       "stream": "stdout",
       "text": [
        "\r",
        "- Loading 601 assets: [=====               ] 29%"
       ]
      },
      {
       "output_type": "stream",
       "stream": "stdout",
       "text": [
        "\r",
        "- Loading 601 assets: [======              ] 30%"
       ]
      },
      {
       "output_type": "stream",
       "stream": "stdout",
       "text": [
        "\r",
        "- Loading 601 assets: [======              ] 30%"
       ]
      },
      {
       "output_type": "stream",
       "stream": "stdout",
       "text": [
        "\r",
        "- Loading 601 assets: [======              ] 30%"
       ]
      },
      {
       "output_type": "stream",
       "stream": "stdout",
       "text": [
        "\r",
        "- Loading 601 assets: [======              ] 30%"
       ]
      },
      {
       "output_type": "stream",
       "stream": "stdout",
       "text": [
        "\r",
        "- Loading 601 assets: [======              ] 30%"
       ]
      },
      {
       "output_type": "stream",
       "stream": "stdout",
       "text": [
        "\r",
        "- Loading 601 assets: [======              ] 30%"
       ]
      },
      {
       "output_type": "stream",
       "stream": "stdout",
       "text": [
        "\r",
        "- Loading 601 assets: [======              ] 31%"
       ]
      },
      {
       "output_type": "stream",
       "stream": "stdout",
       "text": [
        "\r",
        "- Loading 601 assets: [======              ] 31%"
       ]
      },
      {
       "output_type": "stream",
       "stream": "stdout",
       "text": [
        "\r",
        "- Loading 601 assets: [======              ] 31%"
       ]
      },
      {
       "output_type": "stream",
       "stream": "stdout",
       "text": [
        "\r",
        "- Loading 601 assets: [======              ] 31%"
       ]
      },
      {
       "output_type": "stream",
       "stream": "stdout",
       "text": [
        "\r",
        "- Loading 601 assets: [======              ] 31%"
       ]
      },
      {
       "output_type": "stream",
       "stream": "stdout",
       "text": [
        "\r",
        "- Loading 601 assets: [======              ] 31%"
       ]
      },
      {
       "output_type": "stream",
       "stream": "stdout",
       "text": [
        "\r",
        "- Loading 601 assets: [======              ] 32%"
       ]
      },
      {
       "output_type": "stream",
       "stream": "stdout",
       "text": [
        "\r",
        "- Loading 601 assets: [======              ] 32%"
       ]
      },
      {
       "output_type": "stream",
       "stream": "stdout",
       "text": [
        "\r",
        "- Loading 601 assets: [======              ] 32%"
       ]
      },
      {
       "output_type": "stream",
       "stream": "stdout",
       "text": [
        "\r",
        "- Loading 601 assets: [======              ] 32%"
       ]
      },
      {
       "output_type": "stream",
       "stream": "stdout",
       "text": [
        "\r",
        "- Loading 601 assets: [======              ] 32%"
       ]
      },
      {
       "output_type": "stream",
       "stream": "stdout",
       "text": [
        "\r",
        "- Loading 601 assets: [======              ] 32%"
       ]
      },
      {
       "output_type": "stream",
       "stream": "stdout",
       "text": [
        "\r",
        "- Loading 601 assets: [======              ] 33%"
       ]
      },
      {
       "output_type": "stream",
       "stream": "stdout",
       "text": [
        "\r",
        "- Loading 601 assets: [======              ] 33%"
       ]
      },
      {
       "output_type": "stream",
       "stream": "stdout",
       "text": [
        "\r",
        "- Loading 601 assets: [======              ] 33%"
       ]
      },
      {
       "output_type": "stream",
       "stream": "stdout",
       "text": [
        "\r",
        "- Loading 601 assets: [======              ] 33%"
       ]
      },
      {
       "output_type": "stream",
       "stream": "stdout",
       "text": [
        "\r",
        "- Loading 601 assets: [======              ] 33%"
       ]
      },
      {
       "output_type": "stream",
       "stream": "stdout",
       "text": [
        "\r",
        "- Loading 601 assets: [======              ] 33%"
       ]
      },
      {
       "output_type": "stream",
       "stream": "stdout",
       "text": [
        "\r",
        "- Loading 601 assets: [======              ] 34%"
       ]
      },
      {
       "output_type": "stream",
       "stream": "stdout",
       "text": [
        "\r",
        "- Loading 601 assets: [======              ] 34%"
       ]
      },
      {
       "output_type": "stream",
       "stream": "stdout",
       "text": [
        "\r",
        "- Loading 601 assets: [======              ] 34%"
       ]
      },
      {
       "output_type": "stream",
       "stream": "stdout",
       "text": [
        "\r",
        "- Loading 601 assets: [======              ] 34%"
       ]
      },
      {
       "output_type": "stream",
       "stream": "stdout",
       "text": [
        "\r",
        "- Loading 601 assets: [======              ] 34%"
       ]
      },
      {
       "output_type": "stream",
       "stream": "stdout",
       "text": [
        "\r",
        "- Loading 601 assets: [======              ] 34%"
       ]
      },
      {
       "output_type": "stream",
       "stream": "stdout",
       "text": [
        "\r",
        "- Loading 601 assets: [=======             ] 35%"
       ]
      },
      {
       "output_type": "stream",
       "stream": "stdout",
       "text": [
        "\r",
        "- Loading 601 assets: [=======             ] 35%"
       ]
      },
      {
       "output_type": "stream",
       "stream": "stdout",
       "text": [
        "\r",
        "- Loading 601 assets: [=======             ] 35%"
       ]
      },
      {
       "output_type": "stream",
       "stream": "stdout",
       "text": [
        "\r",
        "- Loading 601 assets: [=======             ] 35%"
       ]
      },
      {
       "output_type": "stream",
       "stream": "stdout",
       "text": [
        "\r",
        "- Loading 601 assets: [=======             ] 35%"
       ]
      },
      {
       "output_type": "stream",
       "stream": "stdout",
       "text": [
        "\r",
        "- Loading 601 assets: [=======             ] 35%"
       ]
      },
      {
       "output_type": "stream",
       "stream": "stdout",
       "text": [
        "\r",
        "- Loading 601 assets: [=======             ] 36%"
       ]
      },
      {
       "output_type": "stream",
       "stream": "stdout",
       "text": [
        "\r",
        "- Loading 601 assets: [=======             ] 36%"
       ]
      },
      {
       "output_type": "stream",
       "stream": "stdout",
       "text": [
        "\r",
        "- Loading 601 assets: [=======             ] 36%"
       ]
      },
      {
       "output_type": "stream",
       "stream": "stdout",
       "text": [
        "\r",
        "- Loading 601 assets: [=======             ] 36%"
       ]
      },
      {
       "output_type": "stream",
       "stream": "stdout",
       "text": [
        "\r",
        "- Loading 601 assets: [=======             ] 36%"
       ]
      },
      {
       "output_type": "stream",
       "stream": "stdout",
       "text": [
        "\r",
        "- Loading 601 assets: [=======             ] 36%"
       ]
      },
      {
       "output_type": "stream",
       "stream": "stdout",
       "text": [
        "\r",
        "- Loading 601 assets: [=======             ] 37%"
       ]
      },
      {
       "output_type": "stream",
       "stream": "stdout",
       "text": [
        "\r",
        "- Loading 601 assets: [=======             ] 37%"
       ]
      },
      {
       "output_type": "stream",
       "stream": "stdout",
       "text": [
        "\r",
        "- Loading 601 assets: [=======             ] 37%"
       ]
      },
      {
       "output_type": "stream",
       "stream": "stdout",
       "text": [
        "\r",
        "- Loading 601 assets: [=======             ] 37%"
       ]
      },
      {
       "output_type": "stream",
       "stream": "stdout",
       "text": [
        "\r",
        "- Loading 601 assets: [=======             ] 37%"
       ]
      },
      {
       "output_type": "stream",
       "stream": "stdout",
       "text": [
        "\r",
        "- Loading 601 assets: [=======             ] 37%"
       ]
      },
      {
       "output_type": "stream",
       "stream": "stdout",
       "text": [
        "\r",
        "- Loading 601 assets: [=======             ] 38%"
       ]
      },
      {
       "output_type": "stream",
       "stream": "stdout",
       "text": [
        "\r",
        "- Loading 601 assets: [=======             ] 38%"
       ]
      },
      {
       "output_type": "stream",
       "stream": "stdout",
       "text": [
        "\r",
        "- Loading 601 assets: [=======             ] 38%"
       ]
      },
      {
       "output_type": "stream",
       "stream": "stdout",
       "text": [
        "\r",
        "- Loading 601 assets: [=======             ] 38%"
       ]
      },
      {
       "output_type": "stream",
       "stream": "stdout",
       "text": [
        "\r",
        "- Loading 601 assets: [=======             ] 38%"
       ]
      },
      {
       "output_type": "stream",
       "stream": "stdout",
       "text": [
        "\r",
        "- Loading 601 assets: [=======             ] 38%"
       ]
      },
      {
       "output_type": "stream",
       "stream": "stdout",
       "text": [
        "\r",
        "- Loading 601 assets: [=======             ] 39%"
       ]
      },
      {
       "output_type": "stream",
       "stream": "stdout",
       "text": [
        "\r",
        "- Loading 601 assets: [=======             ] 39%"
       ]
      },
      {
       "output_type": "stream",
       "stream": "stdout",
       "text": [
        "\r",
        "- Loading 601 assets: [=======             ] 39%"
       ]
      },
      {
       "output_type": "stream",
       "stream": "stdout",
       "text": [
        "\r",
        "- Loading 601 assets: [=======             ] 39%"
       ]
      },
      {
       "output_type": "stream",
       "stream": "stdout",
       "text": [
        "\r",
        "- Loading 601 assets: [=======             ] 39%"
       ]
      },
      {
       "output_type": "stream",
       "stream": "stdout",
       "text": [
        "\r",
        "- Loading 601 assets: [=======             ] 39%"
       ]
      },
      {
       "output_type": "stream",
       "stream": "stdout",
       "text": [
        "\r",
        "- Loading 601 assets: [========            ] 40%"
       ]
      },
      {
       "output_type": "stream",
       "stream": "stdout",
       "text": [
        "\r",
        "- Loading 601 assets: [========            ] 40%"
       ]
      },
      {
       "output_type": "stream",
       "stream": "stdout",
       "text": [
        "\r",
        "- Loading 601 assets: [========            ] 40%"
       ]
      },
      {
       "output_type": "stream",
       "stream": "stdout",
       "text": [
        "\r",
        "- Loading 601 assets: [========            ] 40%"
       ]
      },
      {
       "output_type": "stream",
       "stream": "stdout",
       "text": [
        "\r",
        "- Loading 601 assets: [========            ] 40%"
       ]
      },
      {
       "output_type": "stream",
       "stream": "stdout",
       "text": [
        "\r",
        "- Loading 601 assets: [========            ] 40%"
       ]
      },
      {
       "output_type": "stream",
       "stream": "stdout",
       "text": [
        "\r",
        "- Loading 601 assets: [========            ] 41%"
       ]
      },
      {
       "output_type": "stream",
       "stream": "stdout",
       "text": [
        "\r",
        "- Loading 601 assets: [========            ] 41%"
       ]
      },
      {
       "output_type": "stream",
       "stream": "stdout",
       "text": [
        "\r",
        "- Loading 601 assets: [========            ] 41%"
       ]
      },
      {
       "output_type": "stream",
       "stream": "stdout",
       "text": [
        "\r",
        "- Loading 601 assets: [========            ] 41%"
       ]
      },
      {
       "output_type": "stream",
       "stream": "stdout",
       "text": [
        "\r",
        "- Loading 601 assets: [========            ] 41%"
       ]
      },
      {
       "output_type": "stream",
       "stream": "stdout",
       "text": [
        "\r",
        "- Loading 601 assets: [========            ] 41%"
       ]
      },
      {
       "output_type": "stream",
       "stream": "stdout",
       "text": [
        "\r",
        "- Loading 601 assets: [========            ] 42%"
       ]
      },
      {
       "output_type": "stream",
       "stream": "stdout",
       "text": [
        "\r",
        "- Loading 601 assets: [========            ] 42%"
       ]
      },
      {
       "output_type": "stream",
       "stream": "stdout",
       "text": [
        "\r",
        "- Loading 601 assets: [========            ] 42%"
       ]
      },
      {
       "output_type": "stream",
       "stream": "stdout",
       "text": [
        "\r",
        "- Loading 601 assets: [========            ] 42%"
       ]
      },
      {
       "output_type": "stream",
       "stream": "stdout",
       "text": [
        "\r",
        "- Loading 601 assets: [========            ] 42%"
       ]
      },
      {
       "output_type": "stream",
       "stream": "stdout",
       "text": [
        "\r",
        "- Loading 601 assets: [========            ] 42%"
       ]
      },
      {
       "output_type": "stream",
       "stream": "stdout",
       "text": [
        "\r",
        "- Loading 601 assets: [========            ] 43%"
       ]
      },
      {
       "output_type": "stream",
       "stream": "stdout",
       "text": [
        "\r",
        "- Loading 601 assets: [========            ] 43%"
       ]
      },
      {
       "output_type": "stream",
       "stream": "stdout",
       "text": [
        "\r",
        "- Loading 601 assets: [========            ] 43%"
       ]
      },
      {
       "output_type": "stream",
       "stream": "stdout",
       "text": [
        "\r",
        "- Loading 601 assets: [========            ] 43%"
       ]
      },
      {
       "output_type": "stream",
       "stream": "stdout",
       "text": [
        "\r",
        "- Loading 601 assets: [========            ] 43%"
       ]
      },
      {
       "output_type": "stream",
       "stream": "stdout",
       "text": [
        "\r",
        "- Loading 601 assets: [========            ] 43%"
       ]
      },
      {
       "output_type": "stream",
       "stream": "stdout",
       "text": [
        "\r",
        "- Loading 601 assets: [========            ] 44%"
       ]
      },
      {
       "output_type": "stream",
       "stream": "stdout",
       "text": [
        "\r",
        "- Loading 601 assets: [========            ] 44%"
       ]
      },
      {
       "output_type": "stream",
       "stream": "stdout",
       "text": [
        "\r",
        "- Loading 601 assets: [========            ] 44%"
       ]
      },
      {
       "output_type": "stream",
       "stream": "stdout",
       "text": [
        "\r",
        "- Loading 601 assets: [========            ] 44%"
       ]
      },
      {
       "output_type": "stream",
       "stream": "stdout",
       "text": [
        "\r",
        "- Loading 601 assets: [========            ] 44%"
       ]
      },
      {
       "output_type": "stream",
       "stream": "stdout",
       "text": [
        "\r",
        "- Loading 601 assets: [========            ] 44%"
       ]
      },
      {
       "output_type": "stream",
       "stream": "stdout",
       "text": [
        "\r",
        "- Loading 601 assets: [=========           ] 45%"
       ]
      },
      {
       "output_type": "stream",
       "stream": "stdout",
       "text": [
        "\r",
        "- Loading 601 assets: [=========           ] 45%"
       ]
      },
      {
       "output_type": "stream",
       "stream": "stdout",
       "text": [
        "\r",
        "- Loading 601 assets: [=========           ] 45%"
       ]
      },
      {
       "output_type": "stream",
       "stream": "stdout",
       "text": [
        "\r",
        "- Loading 601 assets: [=========           ] 45%"
       ]
      },
      {
       "output_type": "stream",
       "stream": "stdout",
       "text": [
        "\r",
        "- Loading 601 assets: [=========           ] 45%"
       ]
      },
      {
       "output_type": "stream",
       "stream": "stdout",
       "text": [
        "\r",
        "- Loading 601 assets: [=========           ] 45%"
       ]
      },
      {
       "output_type": "stream",
       "stream": "stdout",
       "text": [
        "\r",
        "- Loading 601 assets: [=========           ] 46%"
       ]
      },
      {
       "output_type": "stream",
       "stream": "stdout",
       "text": [
        "\r",
        "- Loading 601 assets: [=========           ] 46%"
       ]
      },
      {
       "output_type": "stream",
       "stream": "stdout",
       "text": [
        "\r",
        "- Loading 601 assets: [=========           ] 46%"
       ]
      },
      {
       "output_type": "stream",
       "stream": "stdout",
       "text": [
        "\r",
        "- Loading 601 assets: [=========           ] 46%"
       ]
      },
      {
       "output_type": "stream",
       "stream": "stdout",
       "text": [
        "\r",
        "- Loading 601 assets: [=========           ] 46%"
       ]
      },
      {
       "output_type": "stream",
       "stream": "stdout",
       "text": [
        "\r",
        "- Loading 601 assets: [=========           ] 46%"
       ]
      },
      {
       "output_type": "stream",
       "stream": "stdout",
       "text": [
        "\r",
        "- Loading 601 assets: [=========           ] 47%"
       ]
      },
      {
       "output_type": "stream",
       "stream": "stdout",
       "text": [
        "\r",
        "- Loading 601 assets: [=========           ] 47%"
       ]
      },
      {
       "output_type": "stream",
       "stream": "stdout",
       "text": [
        "\r",
        "- Loading 601 assets: [=========           ] 47%"
       ]
      },
      {
       "output_type": "stream",
       "stream": "stdout",
       "text": [
        "\r",
        "- Loading 601 assets: [=========           ] 47%"
       ]
      },
      {
       "output_type": "stream",
       "stream": "stdout",
       "text": [
        "\r",
        "- Loading 601 assets: [=========           ] 47%"
       ]
      },
      {
       "output_type": "stream",
       "stream": "stdout",
       "text": [
        "\r",
        "- Loading 601 assets: [=========           ] 47%"
       ]
      },
      {
       "output_type": "stream",
       "stream": "stdout",
       "text": [
        "\r",
        "- Loading 601 assets: [=========           ] 48%"
       ]
      },
      {
       "output_type": "stream",
       "stream": "stdout",
       "text": [
        "\r",
        "- Loading 601 assets: [=========           ] 48%"
       ]
      },
      {
       "output_type": "stream",
       "stream": "stdout",
       "text": [
        "\r",
        "- Loading 601 assets: [=========           ] 48%"
       ]
      },
      {
       "output_type": "stream",
       "stream": "stdout",
       "text": [
        "\r",
        "- Loading 601 assets: [=========           ] 48%"
       ]
      },
      {
       "output_type": "stream",
       "stream": "stdout",
       "text": [
        "\r",
        "- Loading 601 assets: [=========           ] 48%"
       ]
      },
      {
       "output_type": "stream",
       "stream": "stdout",
       "text": [
        "\r",
        "- Loading 601 assets: [=========           ] 48%"
       ]
      },
      {
       "output_type": "stream",
       "stream": "stdout",
       "text": [
        "\r",
        "- Loading 601 assets: [=========           ] 49%"
       ]
      },
      {
       "output_type": "stream",
       "stream": "stdout",
       "text": [
        "\r",
        "- Loading 601 assets: [=========           ] 49%"
       ]
      },
      {
       "output_type": "stream",
       "stream": "stdout",
       "text": [
        "\r",
        "- Loading 601 assets: [=========           ] 49%"
       ]
      },
      {
       "output_type": "stream",
       "stream": "stdout",
       "text": [
        "\r",
        "- Loading 601 assets: [=========           ] 49%"
       ]
      },
      {
       "output_type": "stream",
       "stream": "stdout",
       "text": [
        "\r",
        "- Loading 601 assets: [=========           ] 49%"
       ]
      },
      {
       "output_type": "stream",
       "stream": "stdout",
       "text": [
        "\r",
        "- Loading 601 assets: [=========           ] 49%"
       ]
      },
      {
       "output_type": "stream",
       "stream": "stdout",
       "text": [
        "\r",
        "- Loading 601 assets: [==========          ] 50%"
       ]
      },
      {
       "output_type": "stream",
       "stream": "stdout",
       "text": [
        "\r",
        "- Loading 601 assets: [==========          ] 50%"
       ]
      },
      {
       "output_type": "stream",
       "stream": "stdout",
       "text": [
        "\r",
        "- Loading 601 assets: [==========          ] 50%"
       ]
      },
      {
       "output_type": "stream",
       "stream": "stdout",
       "text": [
        "\r",
        "- Loading 601 assets: [==========          ] 50%"
       ]
      },
      {
       "output_type": "stream",
       "stream": "stdout",
       "text": [
        "\r",
        "- Loading 601 assets: [==========          ] 50%"
       ]
      },
      {
       "output_type": "stream",
       "stream": "stdout",
       "text": [
        "\r",
        "- Loading 601 assets: [==========          ] 50%"
       ]
      },
      {
       "output_type": "stream",
       "stream": "stdout",
       "text": [
        "\r",
        "- Loading 601 assets: [==========          ] 51%"
       ]
      },
      {
       "output_type": "stream",
       "stream": "stdout",
       "text": [
        "\r",
        "- Loading 601 assets: [==========          ] 51%"
       ]
      },
      {
       "output_type": "stream",
       "stream": "stdout",
       "text": [
        "\r",
        "- Loading 601 assets: [==========          ] 51%"
       ]
      },
      {
       "output_type": "stream",
       "stream": "stdout",
       "text": [
        "\r",
        "- Loading 601 assets: [==========          ] 51%"
       ]
      },
      {
       "output_type": "stream",
       "stream": "stdout",
       "text": [
        "\r",
        "- Loading 601 assets: [==========          ] 51%"
       ]
      },
      {
       "output_type": "stream",
       "stream": "stdout",
       "text": [
        "\r",
        "- Loading 601 assets: [==========          ] 51%"
       ]
      },
      {
       "output_type": "stream",
       "stream": "stdout",
       "text": [
        "\r",
        "- Loading 601 assets: [==========          ] 52%"
       ]
      },
      {
       "output_type": "stream",
       "stream": "stdout",
       "text": [
        "\r",
        "- Loading 601 assets: [==========          ] 52%"
       ]
      },
      {
       "output_type": "stream",
       "stream": "stdout",
       "text": [
        "\r",
        "- Loading 601 assets: [==========          ] 52%"
       ]
      },
      {
       "output_type": "stream",
       "stream": "stdout",
       "text": [
        "\r",
        "- Loading 601 assets: [==========          ] 52%"
       ]
      },
      {
       "output_type": "stream",
       "stream": "stdout",
       "text": [
        "\r",
        "- Loading 601 assets: [==========          ] 52%"
       ]
      },
      {
       "output_type": "stream",
       "stream": "stdout",
       "text": [
        "\r",
        "- Loading 601 assets: [==========          ] 52%"
       ]
      },
      {
       "output_type": "stream",
       "stream": "stdout",
       "text": [
        "\r",
        "- Loading 601 assets: [==========          ] 53%"
       ]
      },
      {
       "output_type": "stream",
       "stream": "stdout",
       "text": [
        "\r",
        "- Loading 601 assets: [==========          ] 53%"
       ]
      },
      {
       "output_type": "stream",
       "stream": "stdout",
       "text": [
        "\r",
        "- Loading 601 assets: [==========          ] 53%"
       ]
      },
      {
       "output_type": "stream",
       "stream": "stdout",
       "text": [
        "\r",
        "- Loading 601 assets: [==========          ] 53%"
       ]
      },
      {
       "output_type": "stream",
       "stream": "stdout",
       "text": [
        "\r",
        "- Loading 601 assets: [==========          ] 53%"
       ]
      },
      {
       "output_type": "stream",
       "stream": "stdout",
       "text": [
        "\r",
        "- Loading 601 assets: [==========          ] 53%"
       ]
      },
      {
       "output_type": "stream",
       "stream": "stdout",
       "text": [
        "\r",
        "- Loading 601 assets: [==========          ] 54%"
       ]
      },
      {
       "output_type": "stream",
       "stream": "stdout",
       "text": [
        "\r",
        "- Loading 601 assets: [==========          ] 54%"
       ]
      },
      {
       "output_type": "stream",
       "stream": "stdout",
       "text": [
        "\r",
        "- Loading 601 assets: [==========          ] 54%"
       ]
      },
      {
       "output_type": "stream",
       "stream": "stdout",
       "text": [
        "\r",
        "- Loading 601 assets: [==========          ] 54%"
       ]
      },
      {
       "output_type": "stream",
       "stream": "stdout",
       "text": [
        "\r",
        "- Loading 601 assets: [==========          ] 54%"
       ]
      },
      {
       "output_type": "stream",
       "stream": "stdout",
       "text": [
        "\r",
        "- Loading 601 assets: [==========          ] 54%"
       ]
      },
      {
       "output_type": "stream",
       "stream": "stdout",
       "text": [
        "\r",
        "- Loading 601 assets: [===========         ] 55%"
       ]
      },
      {
       "output_type": "stream",
       "stream": "stdout",
       "text": [
        "\r",
        "- Loading 601 assets: [===========         ] 55%"
       ]
      },
      {
       "output_type": "stream",
       "stream": "stdout",
       "text": [
        "\r",
        "- Loading 601 assets: [===========         ] 55%"
       ]
      },
      {
       "output_type": "stream",
       "stream": "stdout",
       "text": [
        "\r",
        "- Loading 601 assets: [===========         ] 55%"
       ]
      },
      {
       "output_type": "stream",
       "stream": "stdout",
       "text": [
        "\r",
        "- Loading 601 assets: [===========         ] 55%"
       ]
      },
      {
       "output_type": "stream",
       "stream": "stdout",
       "text": [
        "\r",
        "- Loading 601 assets: [===========         ] 55%"
       ]
      },
      {
       "output_type": "stream",
       "stream": "stdout",
       "text": [
        "\r",
        "- Loading 601 assets: [===========         ] 56%"
       ]
      },
      {
       "output_type": "stream",
       "stream": "stdout",
       "text": [
        "\r",
        "- Loading 601 assets: [===========         ] 56%"
       ]
      },
      {
       "output_type": "stream",
       "stream": "stdout",
       "text": [
        "\r",
        "- Loading 601 assets: [===========         ] 56%"
       ]
      },
      {
       "output_type": "stream",
       "stream": "stdout",
       "text": [
        "\r",
        "- Loading 601 assets: [===========         ] 56%"
       ]
      },
      {
       "output_type": "stream",
       "stream": "stdout",
       "text": [
        "\r",
        "- Loading 601 assets: [===========         ] 56%"
       ]
      },
      {
       "output_type": "stream",
       "stream": "stdout",
       "text": [
        "\r",
        "- Loading 601 assets: [===========         ] 56%"
       ]
      },
      {
       "output_type": "stream",
       "stream": "stdout",
       "text": [
        "\r",
        "- Loading 601 assets: [===========         ] 57%"
       ]
      },
      {
       "output_type": "stream",
       "stream": "stdout",
       "text": [
        "\r",
        "- Loading 601 assets: [===========         ] 57%"
       ]
      },
      {
       "output_type": "stream",
       "stream": "stdout",
       "text": [
        "\r",
        "- Loading 601 assets: [===========         ] 57%"
       ]
      },
      {
       "output_type": "stream",
       "stream": "stdout",
       "text": [
        "\r",
        "- Loading 601 assets: [===========         ] 57%"
       ]
      },
      {
       "output_type": "stream",
       "stream": "stdout",
       "text": [
        "\r",
        "- Loading 601 assets: [===========         ] 57%"
       ]
      },
      {
       "output_type": "stream",
       "stream": "stdout",
       "text": [
        "\r",
        "- Loading 601 assets: [===========         ] 57%"
       ]
      },
      {
       "output_type": "stream",
       "stream": "stdout",
       "text": [
        "\r",
        "- Loading 601 assets: [===========         ] 58%"
       ]
      },
      {
       "output_type": "stream",
       "stream": "stdout",
       "text": [
        "\r",
        "- Loading 601 assets: [===========         ] 58%"
       ]
      },
      {
       "output_type": "stream",
       "stream": "stdout",
       "text": [
        "\r",
        "- Loading 601 assets: [===========         ] 58%"
       ]
      },
      {
       "output_type": "stream",
       "stream": "stdout",
       "text": [
        "\r",
        "- Loading 601 assets: [===========         ] 58%"
       ]
      },
      {
       "output_type": "stream",
       "stream": "stdout",
       "text": [
        "\r",
        "- Loading 601 assets: [===========         ] 58%"
       ]
      },
      {
       "output_type": "stream",
       "stream": "stdout",
       "text": [
        "\r",
        "- Loading 601 assets: [===========         ] 58%"
       ]
      },
      {
       "output_type": "stream",
       "stream": "stdout",
       "text": [
        "\r",
        "- Loading 601 assets: [===========         ] 59%"
       ]
      },
      {
       "output_type": "stream",
       "stream": "stdout",
       "text": [
        "\r",
        "- Loading 601 assets: [===========         ] 59%"
       ]
      },
      {
       "output_type": "stream",
       "stream": "stdout",
       "text": [
        "\r",
        "- Loading 601 assets: [===========         ] 59%"
       ]
      },
      {
       "output_type": "stream",
       "stream": "stdout",
       "text": [
        "\r",
        "- Loading 601 assets: [===========         ] 59%"
       ]
      },
      {
       "output_type": "stream",
       "stream": "stdout",
       "text": [
        "\r",
        "- Loading 601 assets: [===========         ] 59%"
       ]
      },
      {
       "output_type": "stream",
       "stream": "stdout",
       "text": [
        "\r",
        "- Loading 601 assets: [===========         ] 59%"
       ]
      },
      {
       "output_type": "stream",
       "stream": "stdout",
       "text": [
        "\r",
        "- Loading 601 assets: [============        ] 60%"
       ]
      },
      {
       "output_type": "stream",
       "stream": "stdout",
       "text": [
        "\r",
        "- Loading 601 assets: [============        ] 60%"
       ]
      },
      {
       "output_type": "stream",
       "stream": "stdout",
       "text": [
        "\r",
        "- Loading 601 assets: [============        ] 60%"
       ]
      },
      {
       "output_type": "stream",
       "stream": "stdout",
       "text": [
        "\r",
        "- Loading 601 assets: [============        ] 60%"
       ]
      },
      {
       "output_type": "stream",
       "stream": "stdout",
       "text": [
        "\r",
        "- Loading 601 assets: [============        ] 60%"
       ]
      },
      {
       "output_type": "stream",
       "stream": "stdout",
       "text": [
        "\r",
        "- Loading 601 assets: [============        ] 60%"
       ]
      },
      {
       "output_type": "stream",
       "stream": "stdout",
       "text": [
        "\r",
        "- Loading 601 assets: [============        ] 61%"
       ]
      },
      {
       "output_type": "stream",
       "stream": "stdout",
       "text": [
        "\r",
        "- Loading 601 assets: [============        ] 61%"
       ]
      },
      {
       "output_type": "stream",
       "stream": "stdout",
       "text": [
        "\r",
        "- Loading 601 assets: [============        ] 61%"
       ]
      },
      {
       "output_type": "stream",
       "stream": "stdout",
       "text": [
        "\r",
        "- Loading 601 assets: [============        ] 61%"
       ]
      },
      {
       "output_type": "stream",
       "stream": "stdout",
       "text": [
        "\r",
        "- Loading 601 assets: [============        ] 61%"
       ]
      },
      {
       "output_type": "stream",
       "stream": "stdout",
       "text": [
        "\r",
        "- Loading 601 assets: [============        ] 61%"
       ]
      },
      {
       "output_type": "stream",
       "stream": "stdout",
       "text": [
        "\r",
        "- Loading 601 assets: [============        ] 62%"
       ]
      },
      {
       "output_type": "stream",
       "stream": "stdout",
       "text": [
        "\r",
        "- Loading 601 assets: [============        ] 62%"
       ]
      },
      {
       "output_type": "stream",
       "stream": "stdout",
       "text": [
        "\r",
        "- Loading 601 assets: [============        ] 62%"
       ]
      },
      {
       "output_type": "stream",
       "stream": "stdout",
       "text": [
        "\r",
        "- Loading 601 assets: [============        ] 62%"
       ]
      },
      {
       "output_type": "stream",
       "stream": "stdout",
       "text": [
        "\r",
        "- Loading 601 assets: [============        ] 62%"
       ]
      },
      {
       "output_type": "stream",
       "stream": "stdout",
       "text": [
        "\r",
        "- Loading 601 assets: [============        ] 62%"
       ]
      },
      {
       "output_type": "stream",
       "stream": "stdout",
       "text": [
        "\r",
        "- Loading 601 assets: [============        ] 63%"
       ]
      },
      {
       "output_type": "stream",
       "stream": "stdout",
       "text": [
        "\r",
        "- Loading 601 assets: [============        ] 63%"
       ]
      },
      {
       "output_type": "stream",
       "stream": "stdout",
       "text": [
        "\r",
        "- Loading 601 assets: [============        ] 63%"
       ]
      },
      {
       "output_type": "stream",
       "stream": "stdout",
       "text": [
        "\r",
        "- Loading 601 assets: [============        ] 63%"
       ]
      },
      {
       "output_type": "stream",
       "stream": "stdout",
       "text": [
        "\r",
        "- Loading 601 assets: [============        ] 63%"
       ]
      },
      {
       "output_type": "stream",
       "stream": "stdout",
       "text": [
        "\r",
        "- Loading 601 assets: [============        ] 63%"
       ]
      },
      {
       "output_type": "stream",
       "stream": "stdout",
       "text": [
        "\r",
        "- Loading 601 assets: [============        ] 64%"
       ]
      },
      {
       "output_type": "stream",
       "stream": "stdout",
       "text": [
        "\r",
        "- Loading 601 assets: [============        ] 64%"
       ]
      },
      {
       "output_type": "stream",
       "stream": "stdout",
       "text": [
        "\r",
        "- Loading 601 assets: [============        ] 64%"
       ]
      },
      {
       "output_type": "stream",
       "stream": "stdout",
       "text": [
        "\r",
        "- Loading 601 assets: [============        ] 64%"
       ]
      },
      {
       "output_type": "stream",
       "stream": "stdout",
       "text": [
        "\r",
        "- Loading 601 assets: [============        ] 64%"
       ]
      },
      {
       "output_type": "stream",
       "stream": "stdout",
       "text": [
        "\r",
        "- Loading 601 assets: [============        ] 64%"
       ]
      },
      {
       "output_type": "stream",
       "stream": "stdout",
       "text": [
        "\r",
        "- Loading 601 assets: [=============       ] 65%"
       ]
      },
      {
       "output_type": "stream",
       "stream": "stdout",
       "text": [
        "\r",
        "- Loading 601 assets: [=============       ] 65%"
       ]
      },
      {
       "output_type": "stream",
       "stream": "stdout",
       "text": [
        "\r",
        "- Loading 601 assets: [=============       ] 65%"
       ]
      },
      {
       "output_type": "stream",
       "stream": "stdout",
       "text": [
        "\r",
        "- Loading 601 assets: [=============       ] 65%"
       ]
      },
      {
       "output_type": "stream",
       "stream": "stdout",
       "text": [
        "\r",
        "- Loading 601 assets: [=============       ] 65%"
       ]
      },
      {
       "output_type": "stream",
       "stream": "stdout",
       "text": [
        "\r",
        "- Loading 601 assets: [=============       ] 65%"
       ]
      },
      {
       "output_type": "stream",
       "stream": "stdout",
       "text": [
        "\r",
        "- Loading 601 assets: [=============       ] 66%"
       ]
      },
      {
       "output_type": "stream",
       "stream": "stdout",
       "text": [
        "\r",
        "- Loading 601 assets: [=============       ] 66%"
       ]
      },
      {
       "output_type": "stream",
       "stream": "stdout",
       "text": [
        "\r",
        "- Loading 601 assets: [=============       ] 66%"
       ]
      },
      {
       "output_type": "stream",
       "stream": "stdout",
       "text": [
        "\r",
        "- Loading 601 assets: [=============       ] 66%"
       ]
      },
      {
       "output_type": "stream",
       "stream": "stdout",
       "text": [
        "\r",
        "- Loading 601 assets: [=============       ] 66%"
       ]
      },
      {
       "output_type": "stream",
       "stream": "stdout",
       "text": [
        "\r",
        "- Loading 601 assets: [=============       ] 66%"
       ]
      },
      {
       "output_type": "stream",
       "stream": "stdout",
       "text": [
        "\r",
        "- Loading 601 assets: [=============       ] 67%"
       ]
      },
      {
       "output_type": "stream",
       "stream": "stdout",
       "text": [
        "\r",
        "- Loading 601 assets: [=============       ] 67%"
       ]
      },
      {
       "output_type": "stream",
       "stream": "stdout",
       "text": [
        "\r",
        "- Loading 601 assets: [=============       ] 67%"
       ]
      },
      {
       "output_type": "stream",
       "stream": "stdout",
       "text": [
        "\r",
        "- Loading 601 assets: [=============       ] 67%"
       ]
      },
      {
       "output_type": "stream",
       "stream": "stdout",
       "text": [
        "\r",
        "- Loading 601 assets: [=============       ] 67%"
       ]
      },
      {
       "output_type": "stream",
       "stream": "stdout",
       "text": [
        "\r",
        "- Loading 601 assets: [=============       ] 67%"
       ]
      },
      {
       "output_type": "stream",
       "stream": "stdout",
       "text": [
        "\r",
        "- Loading 601 assets: [=============       ] 68%"
       ]
      },
      {
       "output_type": "stream",
       "stream": "stdout",
       "text": [
        "\r",
        "- Loading 601 assets: [=============       ] 68%"
       ]
      },
      {
       "output_type": "stream",
       "stream": "stdout",
       "text": [
        "\r",
        "- Loading 601 assets: [=============       ] 68%"
       ]
      },
      {
       "output_type": "stream",
       "stream": "stdout",
       "text": [
        "\r",
        "- Loading 601 assets: [=============       ] 68%"
       ]
      },
      {
       "output_type": "stream",
       "stream": "stdout",
       "text": [
        "\r",
        "- Loading 601 assets: [=============       ] 68%"
       ]
      },
      {
       "output_type": "stream",
       "stream": "stdout",
       "text": [
        "\r",
        "- Loading 601 assets: [=============       ] 68%"
       ]
      },
      {
       "output_type": "stream",
       "stream": "stdout",
       "text": [
        "\r",
        "- Loading 601 assets: [=============       ] 69%"
       ]
      },
      {
       "output_type": "stream",
       "stream": "stdout",
       "text": [
        "\r",
        "- Loading 601 assets: [=============       ] 69%"
       ]
      },
      {
       "output_type": "stream",
       "stream": "stdout",
       "text": [
        "\r",
        "- Loading 601 assets: [=============       ] 69%"
       ]
      },
      {
       "output_type": "stream",
       "stream": "stdout",
       "text": [
        "\r",
        "- Loading 601 assets: [=============       ] 69%"
       ]
      },
      {
       "output_type": "stream",
       "stream": "stdout",
       "text": [
        "\r",
        "- Loading 601 assets: [=============       ] 69%"
       ]
      },
      {
       "output_type": "stream",
       "stream": "stdout",
       "text": [
        "\r",
        "- Loading 601 assets: [=============       ] 69%"
       ]
      },
      {
       "output_type": "stream",
       "stream": "stdout",
       "text": [
        "\r",
        "- Loading 601 assets: [==============      ] 70%"
       ]
      },
      {
       "output_type": "stream",
       "stream": "stdout",
       "text": [
        "\r",
        "- Loading 601 assets: [==============      ] 70%"
       ]
      },
      {
       "output_type": "stream",
       "stream": "stdout",
       "text": [
        "\r",
        "- Loading 601 assets: [==============      ] 70%"
       ]
      },
      {
       "output_type": "stream",
       "stream": "stdout",
       "text": [
        "\r",
        "- Loading 601 assets: [==============      ] 70%"
       ]
      },
      {
       "output_type": "stream",
       "stream": "stdout",
       "text": [
        "\r",
        "- Loading 601 assets: [==============      ] 70%"
       ]
      },
      {
       "output_type": "stream",
       "stream": "stdout",
       "text": [
        "\r",
        "- Loading 601 assets: [==============      ] 70%"
       ]
      },
      {
       "output_type": "stream",
       "stream": "stdout",
       "text": [
        "\r",
        "- Loading 601 assets: [==============      ] 71%"
       ]
      },
      {
       "output_type": "stream",
       "stream": "stdout",
       "text": [
        "\r",
        "- Loading 601 assets: [==============      ] 71%"
       ]
      },
      {
       "output_type": "stream",
       "stream": "stdout",
       "text": [
        "\r",
        "- Loading 601 assets: [==============      ] 71%"
       ]
      },
      {
       "output_type": "stream",
       "stream": "stdout",
       "text": [
        "\r",
        "- Loading 601 assets: [==============      ] 71%"
       ]
      },
      {
       "output_type": "stream",
       "stream": "stdout",
       "text": [
        "\r",
        "- Loading 601 assets: [==============      ] 71%"
       ]
      },
      {
       "output_type": "stream",
       "stream": "stdout",
       "text": [
        "\r",
        "- Loading 601 assets: [==============      ] 71%"
       ]
      },
      {
       "output_type": "stream",
       "stream": "stdout",
       "text": [
        "\r",
        "- Loading 601 assets: [==============      ] 72%"
       ]
      },
      {
       "output_type": "stream",
       "stream": "stdout",
       "text": [
        "\r",
        "- Loading 601 assets: [==============      ] 72%"
       ]
      },
      {
       "output_type": "stream",
       "stream": "stdout",
       "text": [
        "\r",
        "- Loading 601 assets: [==============      ] 72%"
       ]
      },
      {
       "output_type": "stream",
       "stream": "stdout",
       "text": [
        "\r",
        "- Loading 601 assets: [==============      ] 72%"
       ]
      },
      {
       "output_type": "stream",
       "stream": "stdout",
       "text": [
        "\r",
        "- Loading 601 assets: [==============      ] 72%"
       ]
      },
      {
       "output_type": "stream",
       "stream": "stdout",
       "text": [
        "\r",
        "- Loading 601 assets: [==============      ] 72%"
       ]
      },
      {
       "output_type": "stream",
       "stream": "stdout",
       "text": [
        "\r",
        "- Loading 601 assets: [==============      ] 73%"
       ]
      },
      {
       "output_type": "stream",
       "stream": "stdout",
       "text": [
        "\r",
        "- Loading 601 assets: [==============      ] 73%"
       ]
      },
      {
       "output_type": "stream",
       "stream": "stdout",
       "text": [
        "\r",
        "- Loading 601 assets: [==============      ] 73%"
       ]
      },
      {
       "output_type": "stream",
       "stream": "stdout",
       "text": [
        "\r",
        "- Loading 601 assets: [==============      ] 73%"
       ]
      },
      {
       "output_type": "stream",
       "stream": "stdout",
       "text": [
        "\r",
        "- Loading 601 assets: [==============      ] 73%"
       ]
      },
      {
       "output_type": "stream",
       "stream": "stdout",
       "text": [
        "\r",
        "- Loading 601 assets: [==============      ] 73%"
       ]
      },
      {
       "output_type": "stream",
       "stream": "stdout",
       "text": [
        "\r",
        "- Loading 601 assets: [==============      ] 74%"
       ]
      },
      {
       "output_type": "stream",
       "stream": "stdout",
       "text": [
        "\r",
        "- Loading 601 assets: [==============      ] 74%"
       ]
      },
      {
       "output_type": "stream",
       "stream": "stdout",
       "text": [
        "\r",
        "- Loading 601 assets: [==============      ] 74%"
       ]
      },
      {
       "output_type": "stream",
       "stream": "stdout",
       "text": [
        "\r",
        "- Loading 601 assets: [==============      ] 74%"
       ]
      },
      {
       "output_type": "stream",
       "stream": "stdout",
       "text": [
        "\r",
        "- Loading 601 assets: [==============      ] 74%"
       ]
      },
      {
       "output_type": "stream",
       "stream": "stdout",
       "text": [
        "\r",
        "- Loading 601 assets: [==============      ] 74%"
       ]
      },
      {
       "output_type": "stream",
       "stream": "stdout",
       "text": [
        "\r",
        "- Loading 601 assets: [===============     ] 75%"
       ]
      },
      {
       "output_type": "stream",
       "stream": "stdout",
       "text": [
        "\r",
        "- Loading 601 assets: [===============     ] 75%"
       ]
      },
      {
       "output_type": "stream",
       "stream": "stdout",
       "text": [
        "\r",
        "- Loading 601 assets: [===============     ] 75%"
       ]
      },
      {
       "output_type": "stream",
       "stream": "stdout",
       "text": [
        "\r",
        "- Loading 601 assets: [===============     ] 75%"
       ]
      },
      {
       "output_type": "stream",
       "stream": "stdout",
       "text": [
        "\r",
        "- Loading 601 assets: [===============     ] 75%"
       ]
      },
      {
       "output_type": "stream",
       "stream": "stdout",
       "text": [
        "\r",
        "- Loading 601 assets: [===============     ] 75%"
       ]
      },
      {
       "output_type": "stream",
       "stream": "stdout",
       "text": [
        "\r",
        "- Loading 601 assets: [===============     ] 76%"
       ]
      },
      {
       "output_type": "stream",
       "stream": "stdout",
       "text": [
        "\r",
        "- Loading 601 assets: [===============     ] 76%"
       ]
      },
      {
       "output_type": "stream",
       "stream": "stdout",
       "text": [
        "\r",
        "- Loading 601 assets: [===============     ] 76%"
       ]
      },
      {
       "output_type": "stream",
       "stream": "stdout",
       "text": [
        "\r",
        "- Loading 601 assets: [===============     ] 76%"
       ]
      },
      {
       "output_type": "stream",
       "stream": "stdout",
       "text": [
        "\r",
        "- Loading 601 assets: [===============     ] 76%"
       ]
      },
      {
       "output_type": "stream",
       "stream": "stdout",
       "text": [
        "\r",
        "- Loading 601 assets: [===============     ] 76%"
       ]
      },
      {
       "output_type": "stream",
       "stream": "stdout",
       "text": [
        "\r",
        "- Loading 601 assets: [===============     ] 77%"
       ]
      },
      {
       "output_type": "stream",
       "stream": "stdout",
       "text": [
        "\r",
        "- Loading 601 assets: [===============     ] 77%"
       ]
      },
      {
       "output_type": "stream",
       "stream": "stdout",
       "text": [
        "\r",
        "- Loading 601 assets: [===============     ] 77%"
       ]
      },
      {
       "output_type": "stream",
       "stream": "stdout",
       "text": [
        "\r",
        "- Loading 601 assets: [===============     ] 77%"
       ]
      },
      {
       "output_type": "stream",
       "stream": "stdout",
       "text": [
        "\r",
        "- Loading 601 assets: [===============     ] 77%"
       ]
      },
      {
       "output_type": "stream",
       "stream": "stdout",
       "text": [
        "\r",
        "- Loading 601 assets: [===============     ] 77%"
       ]
      },
      {
       "output_type": "stream",
       "stream": "stdout",
       "text": [
        "\r",
        "- Loading 601 assets: [===============     ] 78%"
       ]
      },
      {
       "output_type": "stream",
       "stream": "stdout",
       "text": [
        "\r",
        "- Loading 601 assets: [===============     ] 78%"
       ]
      },
      {
       "output_type": "stream",
       "stream": "stdout",
       "text": [
        "\r",
        "- Loading 601 assets: [===============     ] 78%"
       ]
      },
      {
       "output_type": "stream",
       "stream": "stdout",
       "text": [
        "\r",
        "- Loading 601 assets: [===============     ] 78%"
       ]
      },
      {
       "output_type": "stream",
       "stream": "stdout",
       "text": [
        "\r",
        "- Loading 601 assets: [===============     ] 78%"
       ]
      },
      {
       "output_type": "stream",
       "stream": "stdout",
       "text": [
        "\r",
        "- Loading 601 assets: [===============     ] 78%"
       ]
      },
      {
       "output_type": "stream",
       "stream": "stdout",
       "text": [
        "\r",
        "- Loading 601 assets: [===============     ] 79%"
       ]
      },
      {
       "output_type": "stream",
       "stream": "stdout",
       "text": [
        "\r",
        "- Loading 601 assets: [===============     ] 79%"
       ]
      },
      {
       "output_type": "stream",
       "stream": "stdout",
       "text": [
        "\r",
        "- Loading 601 assets: [===============     ] 79%"
       ]
      },
      {
       "output_type": "stream",
       "stream": "stdout",
       "text": [
        "\r",
        "- Loading 601 assets: [===============     ] 79%"
       ]
      },
      {
       "output_type": "stream",
       "stream": "stdout",
       "text": [
        "\r",
        "- Loading 601 assets: [===============     ] 79%"
       ]
      },
      {
       "output_type": "stream",
       "stream": "stdout",
       "text": [
        "\r",
        "- Loading 601 assets: [===============     ] 79%"
       ]
      },
      {
       "output_type": "stream",
       "stream": "stdout",
       "text": [
        "\r",
        "- Loading 601 assets: [================    ] 80%"
       ]
      },
      {
       "output_type": "stream",
       "stream": "stdout",
       "text": [
        "\r",
        "- Loading 601 assets: [================    ] 80%"
       ]
      },
      {
       "output_type": "stream",
       "stream": "stdout",
       "text": [
        "\r",
        "- Loading 601 assets: [================    ] 80%"
       ]
      },
      {
       "output_type": "stream",
       "stream": "stdout",
       "text": [
        "\r",
        "- Loading 601 assets: [================    ] 80%"
       ]
      },
      {
       "output_type": "stream",
       "stream": "stdout",
       "text": [
        "\r",
        "- Loading 601 assets: [================    ] 80%"
       ]
      },
      {
       "output_type": "stream",
       "stream": "stdout",
       "text": [
        "\r",
        "- Loading 601 assets: [================    ] 80%"
       ]
      },
      {
       "output_type": "stream",
       "stream": "stdout",
       "text": [
        "\r",
        "- Loading 601 assets: [================    ] 81%"
       ]
      },
      {
       "output_type": "stream",
       "stream": "stdout",
       "text": [
        "\r",
        "- Loading 601 assets: [================    ] 81%"
       ]
      },
      {
       "output_type": "stream",
       "stream": "stdout",
       "text": [
        "\r",
        "- Loading 601 assets: [================    ] 81%"
       ]
      },
      {
       "output_type": "stream",
       "stream": "stdout",
       "text": [
        "\r",
        "- Loading 601 assets: [================    ] 81%"
       ]
      },
      {
       "output_type": "stream",
       "stream": "stdout",
       "text": [
        "\r",
        "- Loading 601 assets: [================    ] 81%"
       ]
      },
      {
       "output_type": "stream",
       "stream": "stdout",
       "text": [
        "\r",
        "- Loading 601 assets: [================    ] 81%"
       ]
      },
      {
       "output_type": "stream",
       "stream": "stdout",
       "text": [
        "\r",
        "- Loading 601 assets: [================    ] 82%"
       ]
      },
      {
       "output_type": "stream",
       "stream": "stdout",
       "text": [
        "\r",
        "- Loading 601 assets: [================    ] 82%"
       ]
      },
      {
       "output_type": "stream",
       "stream": "stdout",
       "text": [
        "\r",
        "- Loading 601 assets: [================    ] 82%"
       ]
      },
      {
       "output_type": "stream",
       "stream": "stdout",
       "text": [
        "\r",
        "- Loading 601 assets: [================    ] 82%"
       ]
      },
      {
       "output_type": "stream",
       "stream": "stdout",
       "text": [
        "\r",
        "- Loading 601 assets: [================    ] 82%"
       ]
      },
      {
       "output_type": "stream",
       "stream": "stdout",
       "text": [
        "\r",
        "- Loading 601 assets: [================    ] 82%"
       ]
      },
      {
       "output_type": "stream",
       "stream": "stdout",
       "text": [
        "\r",
        "- Loading 601 assets: [================    ] 83%"
       ]
      },
      {
       "output_type": "stream",
       "stream": "stdout",
       "text": [
        "\r",
        "- Loading 601 assets: [================    ] 83%"
       ]
      },
      {
       "output_type": "stream",
       "stream": "stdout",
       "text": [
        "\r",
        "- Loading 601 assets: [================    ] 83%"
       ]
      },
      {
       "output_type": "stream",
       "stream": "stdout",
       "text": [
        "\r",
        "- Loading 601 assets: [================    ] 83%"
       ]
      },
      {
       "output_type": "stream",
       "stream": "stdout",
       "text": [
        "\r",
        "- Loading 601 assets: [================    ] 83%"
       ]
      },
      {
       "output_type": "stream",
       "stream": "stdout",
       "text": [
        "\r",
        "- Loading 601 assets: [================    ] 83%"
       ]
      },
      {
       "output_type": "stream",
       "stream": "stdout",
       "text": [
        "\r",
        "- Loading 601 assets: [================    ] 84%"
       ]
      },
      {
       "output_type": "stream",
       "stream": "stdout",
       "text": [
        "\r",
        "- Loading 601 assets: [================    ] 84%"
       ]
      },
      {
       "output_type": "stream",
       "stream": "stdout",
       "text": [
        "\r",
        "- Loading 601 assets: [================    ] 84%"
       ]
      },
      {
       "output_type": "stream",
       "stream": "stdout",
       "text": [
        "\r",
        "- Loading 601 assets: [================    ] 84%"
       ]
      },
      {
       "output_type": "stream",
       "stream": "stdout",
       "text": [
        "\r",
        "- Loading 601 assets: [================    ] 84%"
       ]
      },
      {
       "output_type": "stream",
       "stream": "stdout",
       "text": [
        "\r",
        "- Loading 601 assets: [================    ] 84%"
       ]
      },
      {
       "output_type": "stream",
       "stream": "stdout",
       "text": [
        "\r",
        "- Loading 601 assets: [=================   ] 85%"
       ]
      },
      {
       "output_type": "stream",
       "stream": "stdout",
       "text": [
        "\r",
        "- Loading 601 assets: [=================   ] 85%"
       ]
      },
      {
       "output_type": "stream",
       "stream": "stdout",
       "text": [
        "\r",
        "- Loading 601 assets: [=================   ] 85%"
       ]
      },
      {
       "output_type": "stream",
       "stream": "stdout",
       "text": [
        "\r",
        "- Loading 601 assets: [=================   ] 85%"
       ]
      },
      {
       "output_type": "stream",
       "stream": "stdout",
       "text": [
        "\r",
        "- Loading 601 assets: [=================   ] 85%"
       ]
      },
      {
       "output_type": "stream",
       "stream": "stdout",
       "text": [
        "\r",
        "- Loading 601 assets: [=================   ] 85%"
       ]
      },
      {
       "output_type": "stream",
       "stream": "stdout",
       "text": [
        "\r",
        "- Loading 601 assets: [=================   ] 86%"
       ]
      },
      {
       "output_type": "stream",
       "stream": "stdout",
       "text": [
        "\r",
        "- Loading 601 assets: [=================   ] 86%"
       ]
      },
      {
       "output_type": "stream",
       "stream": "stdout",
       "text": [
        "\r",
        "- Loading 601 assets: [=================   ] 86%"
       ]
      },
      {
       "output_type": "stream",
       "stream": "stdout",
       "text": [
        "\r",
        "- Loading 601 assets: [=================   ] 86%"
       ]
      },
      {
       "output_type": "stream",
       "stream": "stdout",
       "text": [
        "\r",
        "- Loading 601 assets: [=================   ] 86%"
       ]
      },
      {
       "output_type": "stream",
       "stream": "stdout",
       "text": [
        "\r",
        "- Loading 601 assets: [=================   ] 86%"
       ]
      },
      {
       "output_type": "stream",
       "stream": "stdout",
       "text": [
        "\r",
        "- Loading 601 assets: [=================   ] 87%"
       ]
      },
      {
       "output_type": "stream",
       "stream": "stdout",
       "text": [
        "\r",
        "- Loading 601 assets: [=================   ] 87%"
       ]
      },
      {
       "output_type": "stream",
       "stream": "stdout",
       "text": [
        "\r",
        "- Loading 601 assets: [=================   ] 87%"
       ]
      },
      {
       "output_type": "stream",
       "stream": "stdout",
       "text": [
        "\r",
        "- Loading 601 assets: [=================   ] 87%"
       ]
      },
      {
       "output_type": "stream",
       "stream": "stdout",
       "text": [
        "\r",
        "- Loading 601 assets: [=================   ] 87%"
       ]
      },
      {
       "output_type": "stream",
       "stream": "stdout",
       "text": [
        "\r",
        "- Loading 601 assets: [=================   ] 87%"
       ]
      },
      {
       "output_type": "stream",
       "stream": "stdout",
       "text": [
        "\r",
        "- Loading 601 assets: [=================   ] 88%"
       ]
      },
      {
       "output_type": "stream",
       "stream": "stdout",
       "text": [
        "\r",
        "- Loading 601 assets: [=================   ] 88%"
       ]
      },
      {
       "output_type": "stream",
       "stream": "stdout",
       "text": [
        "\r",
        "- Loading 601 assets: [=================   ] 88%"
       ]
      },
      {
       "output_type": "stream",
       "stream": "stdout",
       "text": [
        "\r",
        "- Loading 601 assets: [=================   ] 88%"
       ]
      },
      {
       "output_type": "stream",
       "stream": "stdout",
       "text": [
        "\r",
        "- Loading 601 assets: [=================   ] 88%"
       ]
      },
      {
       "output_type": "stream",
       "stream": "stdout",
       "text": [
        "\r",
        "- Loading 601 assets: [=================   ] 88%"
       ]
      },
      {
       "output_type": "stream",
       "stream": "stdout",
       "text": [
        "\r",
        "- Loading 601 assets: [=================   ] 89%"
       ]
      },
      {
       "output_type": "stream",
       "stream": "stdout",
       "text": [
        "\r",
        "- Loading 601 assets: [=================   ] 89%"
       ]
      },
      {
       "output_type": "stream",
       "stream": "stdout",
       "text": [
        "\r",
        "- Loading 601 assets: [=================   ] 89%"
       ]
      },
      {
       "output_type": "stream",
       "stream": "stdout",
       "text": [
        "\r",
        "- Loading 601 assets: [=================   ] 89%"
       ]
      },
      {
       "output_type": "stream",
       "stream": "stdout",
       "text": [
        "\r",
        "- Loading 601 assets: [=================   ] 89%"
       ]
      },
      {
       "output_type": "stream",
       "stream": "stdout",
       "text": [
        "\r",
        "- Loading 601 assets: [=================   ] 89%"
       ]
      },
      {
       "output_type": "stream",
       "stream": "stdout",
       "text": [
        "\r",
        "- Loading 601 assets: [==================  ] 90%"
       ]
      },
      {
       "output_type": "stream",
       "stream": "stdout",
       "text": [
        "\r",
        "- Loading 601 assets: [==================  ] 90%"
       ]
      },
      {
       "output_type": "stream",
       "stream": "stdout",
       "text": [
        "\r",
        "- Loading 601 assets: [==================  ] 90%"
       ]
      },
      {
       "output_type": "stream",
       "stream": "stdout",
       "text": [
        "\r",
        "- Loading 601 assets: [==================  ] 90%"
       ]
      },
      {
       "output_type": "stream",
       "stream": "stdout",
       "text": [
        "\r",
        "- Loading 601 assets: [==================  ] 90%"
       ]
      },
      {
       "output_type": "stream",
       "stream": "stdout",
       "text": [
        "\r",
        "- Loading 601 assets: [==================  ] 90%"
       ]
      },
      {
       "output_type": "stream",
       "stream": "stdout",
       "text": [
        "\r",
        "- Loading 601 assets: [==================  ] 91%"
       ]
      },
      {
       "output_type": "stream",
       "stream": "stdout",
       "text": [
        "\r",
        "- Loading 601 assets: [==================  ] 91%"
       ]
      },
      {
       "output_type": "stream",
       "stream": "stdout",
       "text": [
        "\r",
        "- Loading 601 assets: [==================  ] 91%"
       ]
      },
      {
       "output_type": "stream",
       "stream": "stdout",
       "text": [
        "\r",
        "- Loading 601 assets: [==================  ] 91%"
       ]
      },
      {
       "output_type": "stream",
       "stream": "stdout",
       "text": [
        "\r",
        "- Loading 601 assets: [==================  ] 91%"
       ]
      },
      {
       "output_type": "stream",
       "stream": "stdout",
       "text": [
        "\r",
        "- Loading 601 assets: [==================  ] 91%"
       ]
      },
      {
       "output_type": "stream",
       "stream": "stdout",
       "text": [
        "\r",
        "- Loading 601 assets: [==================  ] 92%"
       ]
      },
      {
       "output_type": "stream",
       "stream": "stdout",
       "text": [
        "\r",
        "- Loading 601 assets: [==================  ] 92%"
       ]
      },
      {
       "output_type": "stream",
       "stream": "stdout",
       "text": [
        "\r",
        "- Loading 601 assets: [==================  ] 92%"
       ]
      },
      {
       "output_type": "stream",
       "stream": "stdout",
       "text": [
        "\r",
        "- Loading 601 assets: [==================  ] 92%"
       ]
      },
      {
       "output_type": "stream",
       "stream": "stdout",
       "text": [
        "\r",
        "- Loading 601 assets: [==================  ] 92%"
       ]
      },
      {
       "output_type": "stream",
       "stream": "stdout",
       "text": [
        "\r",
        "- Loading 601 assets: [==================  ] 92%"
       ]
      },
      {
       "output_type": "stream",
       "stream": "stdout",
       "text": [
        "\r",
        "- Loading 601 assets: [==================  ] 93%"
       ]
      },
      {
       "output_type": "stream",
       "stream": "stdout",
       "text": [
        "\r",
        "- Loading 601 assets: [==================  ] 93%"
       ]
      },
      {
       "output_type": "stream",
       "stream": "stdout",
       "text": [
        "\r",
        "- Loading 601 assets: [==================  ] 93%"
       ]
      },
      {
       "output_type": "stream",
       "stream": "stdout",
       "text": [
        "\r",
        "- Loading 601 assets: [==================  ] 93%"
       ]
      },
      {
       "output_type": "stream",
       "stream": "stdout",
       "text": [
        "\r",
        "- Loading 601 assets: [==================  ] 93%"
       ]
      },
      {
       "output_type": "stream",
       "stream": "stdout",
       "text": [
        "\r",
        "- Loading 601 assets: [==================  ] 93%"
       ]
      },
      {
       "output_type": "stream",
       "stream": "stdout",
       "text": [
        "\r",
        "- Loading 601 assets: [==================  ] 94%"
       ]
      },
      {
       "output_type": "stream",
       "stream": "stdout",
       "text": [
        "\r",
        "- Loading 601 assets: [==================  ] 94%"
       ]
      },
      {
       "output_type": "stream",
       "stream": "stdout",
       "text": [
        "\r",
        "- Loading 601 assets: [==================  ] 94%"
       ]
      },
      {
       "output_type": "stream",
       "stream": "stdout",
       "text": [
        "\r",
        "- Loading 601 assets: [==================  ] 94%"
       ]
      },
      {
       "output_type": "stream",
       "stream": "stdout",
       "text": [
        "\r",
        "- Loading 601 assets: [==================  ] 94%"
       ]
      },
      {
       "output_type": "stream",
       "stream": "stdout",
       "text": [
        "\r",
        "- Loading 601 assets: [==================  ] 94%"
       ]
      },
      {
       "output_type": "stream",
       "stream": "stdout",
       "text": [
        "\r",
        "- Loading 601 assets: [=================== ] 95%"
       ]
      },
      {
       "output_type": "stream",
       "stream": "stdout",
       "text": [
        "\r",
        "- Loading 601 assets: [=================== ] 95%"
       ]
      },
      {
       "output_type": "stream",
       "stream": "stdout",
       "text": [
        "\r",
        "- Loading 601 assets: [=================== ] 95%"
       ]
      },
      {
       "output_type": "stream",
       "stream": "stdout",
       "text": [
        "\r",
        "- Loading 601 assets: [=================== ] 95%"
       ]
      },
      {
       "output_type": "stream",
       "stream": "stdout",
       "text": [
        "\r",
        "- Loading 601 assets: [=================== ] 95%"
       ]
      },
      {
       "output_type": "stream",
       "stream": "stdout",
       "text": [
        "\r",
        "- Loading 601 assets: [=================== ] 95%"
       ]
      },
      {
       "output_type": "stream",
       "stream": "stdout",
       "text": [
        "\r",
        "- Loading 601 assets: [=================== ] 96%"
       ]
      },
      {
       "output_type": "stream",
       "stream": "stdout",
       "text": [
        "\r",
        "- Loading 601 assets: [=================== ] 96%"
       ]
      },
      {
       "output_type": "stream",
       "stream": "stdout",
       "text": [
        "\r",
        "- Loading 601 assets: [=================== ] 96%"
       ]
      },
      {
       "output_type": "stream",
       "stream": "stdout",
       "text": [
        "\r",
        "- Loading 601 assets: [=================== ] 96%"
       ]
      },
      {
       "output_type": "stream",
       "stream": "stdout",
       "text": [
        "\r",
        "- Loading 601 assets: [=================== ] 96%"
       ]
      },
      {
       "output_type": "stream",
       "stream": "stdout",
       "text": [
        "\r",
        "- Loading 601 assets: [=================== ] 96%"
       ]
      },
      {
       "output_type": "stream",
       "stream": "stdout",
       "text": [
        "\r",
        "- Loading 601 assets: [=================== ] 97%"
       ]
      },
      {
       "output_type": "stream",
       "stream": "stdout",
       "text": [
        "\r",
        "- Loading 601 assets: [=================== ] 97%"
       ]
      },
      {
       "output_type": "stream",
       "stream": "stdout",
       "text": [
        "\r",
        "- Loading 601 assets: [=================== ] 97%"
       ]
      },
      {
       "output_type": "stream",
       "stream": "stdout",
       "text": [
        "\r",
        "- Loading 601 assets: [=================== ] 97%"
       ]
      },
      {
       "output_type": "stream",
       "stream": "stdout",
       "text": [
        "\r",
        "- Loading 601 assets: [=================== ] 97%"
       ]
      },
      {
       "output_type": "stream",
       "stream": "stdout",
       "text": [
        "\r",
        "- Loading 601 assets: [=================== ] 97%"
       ]
      },
      {
       "output_type": "stream",
       "stream": "stdout",
       "text": [
        "\r",
        "- Loading 601 assets: [=================== ] 98%"
       ]
      },
      {
       "output_type": "stream",
       "stream": "stdout",
       "text": [
        "\r",
        "- Loading 601 assets: [=================== ] 98%"
       ]
      },
      {
       "output_type": "stream",
       "stream": "stdout",
       "text": [
        "\r",
        "- Loading 601 assets: [=================== ] 98%"
       ]
      },
      {
       "output_type": "stream",
       "stream": "stdout",
       "text": [
        "\r",
        "- Loading 601 assets: [=================== ] 98%"
       ]
      },
      {
       "output_type": "stream",
       "stream": "stdout",
       "text": [
        "\r",
        "- Loading 601 assets: [=================== ] 98%"
       ]
      },
      {
       "output_type": "stream",
       "stream": "stdout",
       "text": [
        "\r",
        "- Loading 601 assets: [=================== ] 98%"
       ]
      },
      {
       "output_type": "stream",
       "stream": "stdout",
       "text": [
        "\r",
        "- Loading 601 assets: [=================== ] 99%"
       ]
      },
      {
       "output_type": "stream",
       "stream": "stdout",
       "text": [
        "\r",
        "- Loading 601 assets: [=================== ] 99%"
       ]
      },
      {
       "output_type": "stream",
       "stream": "stdout",
       "text": [
        "\r",
        "- Loading 601 assets: [=================== ] 99%"
       ]
      },
      {
       "output_type": "stream",
       "stream": "stdout",
       "text": [
        "\r",
        "- Loading 601 assets: [=================== ] 99%"
       ]
      },
      {
       "output_type": "stream",
       "stream": "stdout",
       "text": [
        "\r",
        "- Loading 601 assets: [=================== ] 99%"
       ]
      },
      {
       "output_type": "stream",
       "stream": "stdout",
       "text": [
        "\r",
        "- Loading 601 assets: [=================== ] 99%"
       ]
      },
      {
       "output_type": "stream",
       "stream": "stdout",
       "text": [
        "\r",
        "- Loading 601 assets: [====================] 100%"
       ]
      }
     ],
     "prompt_number": 3
    },
    {
     "cell_type": "code",
     "collapsed": false,
     "input": [
      "test_images = test_images[1::2]"
     ],
     "language": "python",
     "metadata": {},
     "outputs": [],
     "prompt_number": 4
    },
    {
     "cell_type": "code",
     "collapsed": false,
     "input": [
      "from menpo.visualize import visualize_images\n",
      "\n",
      "visualize_images(test_images)"
     ],
     "language": "python",
     "metadata": {},
     "outputs": [
      {
       "metadata": {},
       "output_type": "display_data",
       "png": "[encoded data removed]",
       "text": [
        "<matplotlib.figure.Figure at 0x7f65e23aac10>"
       ]
      }
     ],
     "prompt_number": 5
    },
    {
     "cell_type": "heading",
     "level": 1,
     "metadata": {},
     "source": [
      "AAMs"
     ]
    },
    {
     "cell_type": "heading",
     "level": 3,
     "metadata": {},
     "source": [
      "Load"
     ]
    },
    {
     "cell_type": "code",
     "collapsed": false,
     "input": [
      "from alabortcvpr2015.utils import pickle_load\n",
      "\n",
      "aam = pickle_load('/data/PhD/Models/aam_view2_fast_dsift')"
     ],
     "language": "python",
     "metadata": {},
     "outputs": [],
     "prompt_number": 6
    },
    {
     "cell_type": "heading",
     "level": 2,
     "metadata": {},
     "source": [
      "AIC"
     ]
    },
    {
     "cell_type": "heading",
     "level": 3,
     "metadata": {},
     "source": [
      "Test"
     ]
    },
    {
     "cell_type": "code",
     "collapsed": false,
     "input": [
      "sampling_mask = np.require(np.zeros(aam.parts_shape), dtype=np.bool)\n",
      "sampling_mask[::2, ::2] = True\n",
      "\n",
      "imshow(sampling_mask)"
     ],
     "language": "python",
     "metadata": {},
     "outputs": [
      {
       "metadata": {},
       "output_type": "pyout",
       "prompt_number": 7,
       "text": [
        "<matplotlib.image.AxesImage at 0x7f65cd9e7d50>"
       ]
      },
      {
       "metadata": {},
       "output_type": "display_data",
       "png": "[encoded data removed]",
       "text": [
        "<matplotlib.figure.Figure at 0x7f65cda5ca90>"
       ]
      }
     ],
     "prompt_number": 7
    },
    {
     "cell_type": "code",
     "collapsed": false,
     "input": [
      "from alabortcvpr2015.aam import PartsAAMFitter, AIC\n",
      "                  \n",
      "fitter = PartsAAMFitter(aam, algorithm_cls=AIC, n_shape=[3, 12],\n",
      "                        n_appearance=[25, 50], sampling_mask=sampling_mask)"
     ],
     "language": "python",
     "metadata": {},
     "outputs": [],
     "prompt_number": 8
    },
    {
     "cell_type": "code",
     "collapsed": false,
     "input": [
      "fitter_results = []\n",
      "\n",
      "for seed in xrange(repeat):\n",
      "    \n",
      "    np.random.seed(seed=seed)\n",
      "\n",
      "    for j, i in enumerate(test_images):\n",
      "    \n",
      "\n",
      "        gt_s = i.landmarks[group].lms\n",
      "        s = fitter.perturb_shape(gt_s, noise_std=0.05)\n",
      "\n",
      "        fr = fitter.fit(i, s, gt_shape=gt_s, max_iters=20, prior=False)\n",
      "\n",
      "        fitter_results.append(fr)\n",
      "        fr.downscale = 0.5\n",
      "\n",
      "        print 'Image: ', j\n",
      "        print fr"
     ],
     "language": "python",
     "metadata": {},
     "outputs": [
      {
       "output_type": "stream",
       "stream": "stdout",
       "text": [
        "Image:  0\n",
        "Initial error: 0.2150\n",
        "Final error: 0.1595\n",
        "Image: "
       ]
      },
      {
       "output_type": "stream",
       "stream": "stdout",
       "text": [
        " 1\n",
        "Initial error: 0.1111\n",
        "Final error: 0.0616\n",
        "Image: "
       ]
      },
      {
       "output_type": "stream",
       "stream": "stdout",
       "text": [
        " 2\n",
        "Initial error: 0.1132\n",
        "Final error: 0.0361\n",
        "Image: "
       ]
      },
      {
       "output_type": "stream",
       "stream": "stdout",
       "text": [
        " 3\n",
        "Initial error: 0.0753\n",
        "Final error: 0.0340\n",
        "Image: "
       ]
      },
      {
       "output_type": "stream",
       "stream": "stdout",
       "text": [
        " 4\n",
        "Initial error: 0.1230\n",
        "Final error: 0.0493\n",
        "Image: "
       ]
      },
      {
       "output_type": "stream",
       "stream": "stdout",
       "text": [
        " 5\n",
        "Initial error: 0.1530\n",
        "Final error: 0.1618\n",
        "Image: "
       ]
      },
      {
       "output_type": "stream",
       "stream": "stdout",
       "text": [
        " 6\n",
        "Initial error: 0.0712\n",
        "Final error: 0.0519\n",
        "Image: "
       ]
      },
      {
       "output_type": "stream",
       "stream": "stdout",
       "text": [
        " 7\n",
        "Initial error: 0.1216\n",
        "Final error: 0.0535\n",
        "Image: "
       ]
      },
      {
       "output_type": "stream",
       "stream": "stdout",
       "text": [
        " 8\n",
        "Initial error: 0.0673\n",
        "Final error: 0.0749\n",
        "Image: "
       ]
      },
      {
       "output_type": "stream",
       "stream": "stdout",
       "text": [
        " 9\n",
        "Initial error: 0.0886\n",
        "Final error: 0.0222\n",
        "Image: "
       ]
      },
      {
       "output_type": "stream",
       "stream": "stdout",
       "text": [
        " 10\n",
        "Initial error: 0.1387\n",
        "Final error: 0.0640\n",
        "Image: "
       ]
      },
      {
       "output_type": "stream",
       "stream": "stdout",
       "text": [
        " 11\n",
        "Initial error: 0.0734\n",
        "Final error: 0.0419\n",
        "Image: "
       ]
      },
      {
       "output_type": "stream",
       "stream": "stdout",
       "text": [
        " 12\n",
        "Initial error: 0.1346\n",
        "Final error: 0.0464\n",
        "Image: "
       ]
      },
      {
       "output_type": "stream",
       "stream": "stdout",
       "text": [
        " 13\n",
        "Initial error: 0.0686\n",
        "Final error: 0.0494\n",
        "Image: "
       ]
      },
      {
       "output_type": "stream",
       "stream": "stdout",
       "text": [
        " 14\n",
        "Initial error: 0.0627\n",
        "Final error: 0.0482\n",
        "Image: "
       ]
      },
      {
       "output_type": "stream",
       "stream": "stdout",
       "text": [
        " 15\n",
        "Initial error: 0.1695\n",
        "Final error: 0.0858\n",
        "Image: "
       ]
      },
      {
       "output_type": "stream",
       "stream": "stdout",
       "text": [
        " 16\n",
        "Initial error: 0.0838\n",
        "Final error: 0.0415\n",
        "Image: "
       ]
      },
      {
       "output_type": "stream",
       "stream": "stdout",
       "text": [
        " 17\n",
        "Initial error: 0.1249\n",
        "Final error: 0.0448\n",
        "Image: "
       ]
      },
      {
       "output_type": "stream",
       "stream": "stdout",
       "text": [
        " 18\n",
        "Initial error: 0.0722\n",
        "Final error: 0.0280\n",
        "Image: "
       ]
      },
      {
       "output_type": "stream",
       "stream": "stdout",
       "text": [
        " 19\n",
        "Initial error: 0.0696\n",
        "Final error: 0.0213\n",
        "Image: "
       ]
      },
      {
       "output_type": "stream",
       "stream": "stdout",
       "text": [
        " 20\n",
        "Initial error: 0.1649\n",
        "Final error: 0.0267\n",
        "Image: "
       ]
      },
      {
       "output_type": "stream",
       "stream": "stdout",
       "text": [
        " 21\n",
        "Initial error: 0.0586\n",
        "Final error: 0.0212\n",
        "Image: "
       ]
      },
      {
       "output_type": "stream",
       "stream": "stdout",
       "text": [
        " 22\n",
        "Initial error: 0.1049\n",
        "Final error: 0.0351\n",
        "Image: "
       ]
      },
      {
       "output_type": "stream",
       "stream": "stdout",
       "text": [
        " 23\n",
        "Initial error: 0.0952\n",
        "Final error: 0.0441\n",
        "Image: "
       ]
      },
      {
       "output_type": "stream",
       "stream": "stdout",
       "text": [
        " 24\n",
        "Initial error: 0.0327\n",
        "Final error: 0.0193\n",
        "Image: "
       ]
      },
      {
       "output_type": "stream",
       "stream": "stdout",
       "text": [
        " 25\n",
        "Initial error: 0.1242\n",
        "Final error: 0.0171\n",
        "Image: "
       ]
      },
      {
       "output_type": "stream",
       "stream": "stdout",
       "text": [
        " 26\n",
        "Initial error: 0.1158\n",
        "Final error: 0.0784\n",
        "Image: "
       ]
      },
      {
       "output_type": "stream",
       "stream": "stdout",
       "text": [
        " 27\n",
        "Initial error: 0.1415\n",
        "Final error: 0.0894\n",
        "Image: "
       ]
      },
      {
       "output_type": "stream",
       "stream": "stdout",
       "text": [
        " 28\n",
        "Initial error: 0.0781\n",
        "Final error: 0.0205\n",
        "Image: "
       ]
      },
      {
       "output_type": "stream",
       "stream": "stdout",
       "text": [
        " 29\n",
        "Initial error: 0.1035\n",
        "Final error: 0.0203\n",
        "Image: "
       ]
      },
      {
       "output_type": "stream",
       "stream": "stdout",
       "text": [
        " 30\n",
        "Initial error: 0.1093\n",
        "Final error: 0.0235\n",
        "Image: "
       ]
      },
      {
       "output_type": "stream",
       "stream": "stdout",
       "text": [
        " 31\n",
        "Initial error: 0.1281\n",
        "Final error: 0.0393\n",
        "Image: "
       ]
      },
      {
       "output_type": "stream",
       "stream": "stdout",
       "text": [
        " 32\n",
        "Initial error: 0.0626\n",
        "Final error: 0.0235\n",
        "Image: "
       ]
      },
      {
       "output_type": "stream",
       "stream": "stdout",
       "text": [
        " 33\n",
        "Initial error: 0.0652\n",
        "Final error: 0.0265\n",
        "Image: "
       ]
      },
      {
       "output_type": "stream",
       "stream": "stdout",
       "text": [
        " 34\n",
        "Initial error: 0.0772\n",
        "Final error: 0.0167\n",
        "Image: "
       ]
      },
      {
       "output_type": "stream",
       "stream": "stdout",
       "text": [
        " 35\n",
        "Initial error: 0.0602\n",
        "Final error: 0.0232\n",
        "Image: "
       ]
      },
      {
       "output_type": "stream",
       "stream": "stdout",
       "text": [
        " 36\n",
        "Initial error: 0.1791\n",
        "Final error: 0.0824\n",
        "Image: "
       ]
      },
      {
       "output_type": "stream",
       "stream": "stdout",
       "text": [
        " 37\n",
        "Initial error: 0.1008\n",
        "Final error: 0.0159\n",
        "Image: "
       ]
      },
      {
       "output_type": "stream",
       "stream": "stdout",
       "text": [
        " 38\n",
        "Initial error: 0.1012\n",
        "Final error: 0.0430\n",
        "Image: "
       ]
      },
      {
       "output_type": "stream",
       "stream": "stdout",
       "text": [
        " 39\n",
        "Initial error: 0.0393\n",
        "Final error: 0.0255\n",
        "Image: "
       ]
      },
      {
       "output_type": "stream",
       "stream": "stdout",
       "text": [
        " 40\n",
        "Initial error: 0.0657\n",
        "Final error: 0.0256\n",
        "Image: "
       ]
      },
      {
       "output_type": "stream",
       "stream": "stdout",
       "text": [
        " 41\n",
        "Initial error: 0.1770\n",
        "Final error: 0.0880\n",
        "Image: "
       ]
      },
      {
       "output_type": "stream",
       "stream": "stdout",
       "text": [
        " 42\n",
        "Initial error: 0.1079\n",
        "Final error: 0.0273\n",
        "Image: "
       ]
      },
      {
       "output_type": "stream",
       "stream": "stdout",
       "text": [
        " 43\n",
        "Initial error: 0.0831\n",
        "Final error: 0.0302\n",
        "Image: "
       ]
      },
      {
       "output_type": "stream",
       "stream": "stdout",
       "text": [
        " 44\n",
        "Initial error: 0.0710\n",
        "Final error: 0.0285\n",
        "Image: "
       ]
      },
      {
       "output_type": "stream",
       "stream": "stdout",
       "text": [
        " 45\n",
        "Initial error: 0.2012\n",
        "Final error: 0.0173\n",
        "Image: "
       ]
      },
      {
       "output_type": "stream",
       "stream": "stdout",
       "text": [
        " 46\n",
        "Initial error: 0.0693\n",
        "Final error: 0.0285\n",
        "Image: "
       ]
      },
      {
       "output_type": "stream",
       "stream": "stdout",
       "text": [
        " 47\n",
        "Initial error: 0.0962\n",
        "Final error: 0.0140\n",
        "Image: "
       ]
      },
      {
       "output_type": "stream",
       "stream": "stdout",
       "text": [
        " 48\n",
        "Initial error: 0.0747\n",
        "Final error: 0.0437\n",
        "Image: "
       ]
      },
      {
       "output_type": "stream",
       "stream": "stdout",
       "text": [
        " 49\n",
        "Initial error: 0.1306\n",
        "Final error: 0.0557\n",
        "Image: "
       ]
      },
      {
       "output_type": "stream",
       "stream": "stdout",
       "text": [
        " 50\n",
        "Initial error: 0.0657\n",
        "Final error: 0.0255\n",
        "Image: "
       ]
      },
      {
       "output_type": "stream",
       "stream": "stdout",
       "text": [
        " 51\n",
        "Initial error: 0.0596\n",
        "Final error: 0.0488\n",
        "Image: "
       ]
      },
      {
       "output_type": "stream",
       "stream": "stdout",
       "text": [
        " 52\n",
        "Initial error: 0.0520\n",
        "Final error: 0.0438\n",
        "Image: "
       ]
      },
      {
       "output_type": "stream",
       "stream": "stdout",
       "text": [
        " 53\n",
        "Initial error: 0.0687\n",
        "Final error: 0.0642\n",
        "Image: "
       ]
      },
      {
       "output_type": "stream",
       "stream": "stdout",
       "text": [
        " 54\n",
        "Initial error: 0.0747\n",
        "Final error: 0.0310\n",
        "Image: "
       ]
      },
      {
       "output_type": "stream",
       "stream": "stdout",
       "text": [
        " 55\n",
        "Initial error: 0.0618\n",
        "Final error: 0.0667\n",
        "Image: "
       ]
      },
      {
       "output_type": "stream",
       "stream": "stdout",
       "text": [
        " 56\n",
        "Initial error: 0.0749\n",
        "Final error: 0.0323\n",
        "Image: "
       ]
      },
      {
       "output_type": "stream",
       "stream": "stdout",
       "text": [
        " 57\n",
        "Initial error: 0.0949\n",
        "Final error: 0.1226\n",
        "Image: "
       ]
      },
      {
       "output_type": "stream",
       "stream": "stdout",
       "text": [
        " 58\n",
        "Initial error: 0.1009\n",
        "Final error: 0.0500\n",
        "Image: "
       ]
      },
      {
       "output_type": "stream",
       "stream": "stdout",
       "text": [
        " 59\n",
        "Initial error: 0.0952\n",
        "Final error: 0.0185\n",
        "Image: "
       ]
      },
      {
       "output_type": "stream",
       "stream": "stdout",
       "text": [
        " 60\n",
        "Initial error: 0.0622\n",
        "Final error: 0.0252\n",
        "Image: "
       ]
      },
      {
       "output_type": "stream",
       "stream": "stdout",
       "text": [
        " 61\n",
        "Initial error: 0.0695\n",
        "Final error: 0.0297\n",
        "Image: "
       ]
      },
      {
       "output_type": "stream",
       "stream": "stdout",
       "text": [
        " 62\n",
        "Initial error: 0.0814\n",
        "Final error: 0.0251\n",
        "Image: "
       ]
      },
      {
       "output_type": "stream",
       "stream": "stdout",
       "text": [
        " 63\n",
        "Initial error: 0.1081\n",
        "Final error: 0.0277\n",
        "Image: "
       ]
      },
      {
       "output_type": "stream",
       "stream": "stdout",
       "text": [
        " 64\n",
        "Initial error: 0.0733\n",
        "Final error: 0.0204\n",
        "Image: "
       ]
      },
      {
       "output_type": "stream",
       "stream": "stdout",
       "text": [
        " 65\n",
        "Initial error: 0.0857\n",
        "Final error: 0.0271\n",
        "Image: "
       ]
      },
      {
       "output_type": "stream",
       "stream": "stdout",
       "text": [
        " 66\n",
        "Initial error: 0.1494\n",
        "Final error: 0.0447\n",
        "Image: "
       ]
      },
      {
       "output_type": "stream",
       "stream": "stdout",
       "text": [
        " 67\n",
        "Initial error: 0.2296\n",
        "Final error: 0.2315\n",
        "Image: "
       ]
      },
      {
       "output_type": "stream",
       "stream": "stdout",
       "text": [
        " 68\n",
        "Initial error: 0.0444\n",
        "Final error: 0.0286\n",
        "Image: "
       ]
      },
      {
       "output_type": "stream",
       "stream": "stdout",
       "text": [
        " 69\n",
        "Initial error: 0.1729\n",
        "Final error: 0.0919\n",
        "Image: "
       ]
      },
      {
       "output_type": "stream",
       "stream": "stdout",
       "text": [
        " 70\n",
        "Initial error: 0.1263\n",
        "Final error: 0.0400\n",
        "Image: "
       ]
      },
      {
       "output_type": "stream",
       "stream": "stdout",
       "text": [
        " 71\n",
        "Initial error: 0.1020\n",
        "Final error: 0.0360\n",
        "Image: "
       ]
      },
      {
       "output_type": "stream",
       "stream": "stdout",
       "text": [
        " 72\n",
        "Initial error: 0.0462\n",
        "Final error: 0.0255\n",
        "Image: "
       ]
      },
      {
       "output_type": "stream",
       "stream": "stdout",
       "text": [
        " 73\n",
        "Initial error: 0.1514\n",
        "Final error: 0.0694\n",
        "Image: "
       ]
      },
      {
       "output_type": "stream",
       "stream": "stdout",
       "text": [
        " 74\n",
        "Initial error: 0.1395\n",
        "Final error: 0.0592\n",
        "Image: "
       ]
      },
      {
       "output_type": "stream",
       "stream": "stdout",
       "text": [
        " 75\n",
        "Initial error: 0.1072\n",
        "Final error: 0.0325\n",
        "Image: "
       ]
      },
      {
       "output_type": "stream",
       "stream": "stdout",
       "text": [
        " 76\n",
        "Initial error: 0.1034\n",
        "Final error: 0.0184\n",
        "Image: "
       ]
      },
      {
       "output_type": "stream",
       "stream": "stdout",
       "text": [
        " 77\n",
        "Initial error: 0.1012\n",
        "Final error: 0.0220\n",
        "Image: "
       ]
      },
      {
       "output_type": "stream",
       "stream": "stdout",
       "text": [
        " 78\n",
        "Initial error: 0.0719\n",
        "Final error: 0.0387\n",
        "Image: "
       ]
      },
      {
       "output_type": "stream",
       "stream": "stdout",
       "text": [
        " 79\n",
        "Initial error: 0.0680\n",
        "Final error: 0.0310\n",
        "Image: "
       ]
      },
      {
       "output_type": "stream",
       "stream": "stdout",
       "text": [
        " 80\n",
        "Initial error: 0.1081\n",
        "Final error: 0.0545\n",
        "Image: "
       ]
      },
      {
       "output_type": "stream",
       "stream": "stdout",
       "text": [
        " 81\n",
        "Initial error: 0.1445\n",
        "Final error: 0.0297\n",
        "Image: "
       ]
      },
      {
       "output_type": "stream",
       "stream": "stdout",
       "text": [
        " 82\n",
        "Initial error: 0.1225\n",
        "Final error: 0.0216\n",
        "Image: "
       ]
      },
      {
       "output_type": "stream",
       "stream": "stdout",
       "text": [
        " 83\n",
        "Initial error: 0.0897\n",
        "Final error: 0.0399\n",
        "Image: "
       ]
      },
      {
       "output_type": "stream",
       "stream": "stdout",
       "text": [
        " 84\n",
        "Initial error: 0.1381\n",
        "Final error: 0.0812\n",
        "Image: "
       ]
      },
      {
       "output_type": "stream",
       "stream": "stdout",
       "text": [
        " 85\n",
        "Initial error: 0.0897\n",
        "Final error: 0.0504\n",
        "Image: "
       ]
      },
      {
       "output_type": "stream",
       "stream": "stdout",
       "text": [
        " 86\n",
        "Initial error: 0.0602\n",
        "Final error: 0.0422\n",
        "Image: "
       ]
      },
      {
       "output_type": "stream",
       "stream": "stdout",
       "text": [
        " 87\n",
        "Initial error: 0.1315\n",
        "Final error: 0.0951\n",
        "Image: "
       ]
      },
      {
       "output_type": "stream",
       "stream": "stdout",
       "text": [
        " 88\n",
        "Initial error: 0.1540\n",
        "Final error: 0.1228\n",
        "Image: "
       ]
      },
      {
       "output_type": "stream",
       "stream": "stdout",
       "text": [
        " 89\n",
        "Initial error: 0.1217\n",
        "Final error: 0.0832\n",
        "Image: "
       ]
      },
      {
       "output_type": "stream",
       "stream": "stdout",
       "text": [
        " 90\n",
        "Initial error: 0.0675\n",
        "Final error: 0.0249\n",
        "Image: "
       ]
      },
      {
       "output_type": "stream",
       "stream": "stdout",
       "text": [
        " 91\n",
        "Initial error: 0.0526\n",
        "Final error: 0.0284\n",
        "Image: "
       ]
      },
      {
       "output_type": "stream",
       "stream": "stdout",
       "text": [
        " 92\n",
        "Initial error: 0.1046\n",
        "Final error: 0.0707\n",
        "Image: "
       ]
      },
      {
       "output_type": "stream",
       "stream": "stdout",
       "text": [
        " 93\n",
        "Initial error: 0.0821\n",
        "Final error: 0.0270\n",
        "Image: "
       ]
      },
      {
       "output_type": "stream",
       "stream": "stdout",
       "text": [
        " 94\n",
        "Initial error: 0.0918\n",
        "Final error: 0.0316\n",
        "Image: "
       ]
      },
      {
       "output_type": "stream",
       "stream": "stdout",
       "text": [
        " 95\n",
        "Initial error: 0.1946\n",
        "Final error: 0.1001\n",
        "Image: "
       ]
      },
      {
       "output_type": "stream",
       "stream": "stdout",
       "text": [
        " 96\n",
        "Initial error: 0.1329\n",
        "Final error: 0.0199\n",
        "Image: "
       ]
      },
      {
       "output_type": "stream",
       "stream": "stdout",
       "text": [
        " 97\n",
        "Initial error: 0.0904\n",
        "Final error: 0.0134\n",
        "Image: "
       ]
      },
      {
       "output_type": "stream",
       "stream": "stdout",
       "text": [
        " 98\n",
        "Initial error: 0.0960\n",
        "Final error: 0.0435\n",
        "Image: "
       ]
      },
      {
       "output_type": "stream",
       "stream": "stdout",
       "text": [
        " 99\n",
        "Initial error: 0.1175\n",
        "Final error: 0.0424\n",
        "Image: "
       ]
      },
      {
       "output_type": "stream",
       "stream": "stdout",
       "text": [
        " 100\n",
        "Initial error: 0.0700\n",
        "Final error: 0.0748\n",
        "Image: "
       ]
      },
      {
       "output_type": "stream",
       "stream": "stdout",
       "text": [
        " 101\n",
        "Initial error: 0.0720\n",
        "Final error: 0.0370\n",
        "Image: "
       ]
      },
      {
       "output_type": "stream",
       "stream": "stdout",
       "text": [
        " 102\n",
        "Initial error: 0.1297\n",
        "Final error: 0.0482\n",
        "Image: "
       ]
      },
      {
       "output_type": "stream",
       "stream": "stdout",
       "text": [
        " 103\n",
        "Initial error: 0.0678\n",
        "Final error: 0.0231\n",
        "Image: "
       ]
      },
      {
       "output_type": "stream",
       "stream": "stdout",
       "text": [
        " 104\n",
        "Initial error: 0.1517\n",
        "Final error: 0.0303\n",
        "Image: "
       ]
      },
      {
       "output_type": "stream",
       "stream": "stdout",
       "text": [
        " 105\n",
        "Initial error: 0.0818\n",
        "Final error: 0.0291\n",
        "Image: "
       ]
      },
      {
       "output_type": "stream",
       "stream": "stdout",
       "text": [
        " 106\n",
        "Initial error: 0.2185\n",
        "Final error: 0.1436\n",
        "Image: "
       ]
      },
      {
       "output_type": "stream",
       "stream": "stdout",
       "text": [
        " 107\n",
        "Initial error: 0.2199\n",
        "Final error: 0.2138\n",
        "Image: "
       ]
      },
      {
       "output_type": "stream",
       "stream": "stdout",
       "text": [
        " 108\n",
        "Initial error: 0.1165\n",
        "Final error: 0.0635\n",
        "Image: "
       ]
      },
      {
       "output_type": "stream",
       "stream": "stdout",
       "text": [
        " 109\n",
        "Initial error: 0.0541\n",
        "Final error: 0.0284\n",
        "Image: "
       ]
      },
      {
       "output_type": "stream",
       "stream": "stdout",
       "text": [
        " 110\n",
        "Initial error: 0.0377\n",
        "Final error: 0.0163\n",
        "Image: "
       ]
      },
      {
       "output_type": "stream",
       "stream": "stdout",
       "text": [
        " 111\n",
        "Initial error: 0.0872\n",
        "Final error: 0.0841\n",
        "Image: "
       ]
      },
      {
       "output_type": "stream",
       "stream": "stdout",
       "text": [
        " 112\n",
        "Initial error: 0.0849\n",
        "Final error: 0.0726\n",
        "Image: "
       ]
      },
      {
       "output_type": "stream",
       "stream": "stdout",
       "text": [
        " 113\n",
        "Initial error: 0.1696\n",
        "Final error: 0.0756\n",
        "Image: "
       ]
      },
      {
       "output_type": "stream",
       "stream": "stdout",
       "text": [
        " 114\n",
        "Initial error: 0.0481\n",
        "Final error: 0.0326\n",
        "Image: "
       ]
      },
      {
       "output_type": "stream",
       "stream": "stdout",
       "text": [
        " 115\n",
        "Initial error: 0.0574\n",
        "Final error: 0.0918\n",
        "Image: "
       ]
      },
      {
       "output_type": "stream",
       "stream": "stdout",
       "text": [
        " 116\n",
        "Initial error: 0.1058\n",
        "Final error: 0.0333\n",
        "Image: "
       ]
      },
      {
       "output_type": "stream",
       "stream": "stdout",
       "text": [
        " 117\n",
        "Initial error: 0.2305\n",
        "Final error: 0.1206\n",
        "Image: "
       ]
      },
      {
       "output_type": "stream",
       "stream": "stdout",
       "text": [
        " 118\n",
        "Initial error: 0.1270\n",
        "Final error: 0.0865\n",
        "Image: "
       ]
      },
      {
       "output_type": "stream",
       "stream": "stdout",
       "text": [
        " 119\n",
        "Initial error: 0.0845\n",
        "Final error: 0.0244\n",
        "Image: "
       ]
      },
      {
       "output_type": "stream",
       "stream": "stdout",
       "text": [
        " 120\n",
        "Initial error: 0.1349\n",
        "Final error: 0.0355\n",
        "Image: "
       ]
      },
      {
       "output_type": "stream",
       "stream": "stdout",
       "text": [
        " 121\n",
        "Initial error: 0.1400\n",
        "Final error: 0.0366\n",
        "Image: "
       ]
      },
      {
       "output_type": "stream",
       "stream": "stdout",
       "text": [
        " 122\n",
        "Initial error: 0.0698\n",
        "Final error: 0.0275\n",
        "Image: "
       ]
      },
      {
       "output_type": "stream",
       "stream": "stdout",
       "text": [
        " 123\n",
        "Initial error: 0.1075\n",
        "Final error: 0.0190\n",
        "Image: "
       ]
      },
      {
       "output_type": "stream",
       "stream": "stdout",
       "text": [
        " 124\n",
        "Initial error: 0.0696\n",
        "Final error: 0.0401\n",
        "Image: "
       ]
      },
      {
       "output_type": "stream",
       "stream": "stdout",
       "text": [
        " 125\n",
        "Initial error: 0.0589\n",
        "Final error: 0.0176\n",
        "Image: "
       ]
      },
      {
       "output_type": "stream",
       "stream": "stdout",
       "text": [
        " 126\n",
        "Initial error: 0.1560\n",
        "Final error: 0.0250\n",
        "Image: "
       ]
      },
      {
       "output_type": "stream",
       "stream": "stdout",
       "text": [
        " 127\n",
        "Initial error: 0.1202\n",
        "Final error: 0.0869\n",
        "Image: "
       ]
      },
      {
       "output_type": "stream",
       "stream": "stdout",
       "text": [
        " 128\n",
        "Initial error: 0.0718\n",
        "Final error: 0.0227\n",
        "Image: "
       ]
      },
      {
       "output_type": "stream",
       "stream": "stdout",
       "text": [
        " 129\n",
        "Initial error: 0.1647\n",
        "Final error: 0.0506\n",
        "Image: "
       ]
      },
      {
       "output_type": "stream",
       "stream": "stdout",
       "text": [
        " 130\n",
        "Initial error: 0.1025\n",
        "Final error: 0.0295\n",
        "Image: "
       ]
      },
      {
       "output_type": "stream",
       "stream": "stdout",
       "text": [
        " 131\n",
        "Initial error: 0.1238\n",
        "Final error: 0.0294\n",
        "Image: "
       ]
      },
      {
       "output_type": "stream",
       "stream": "stdout",
       "text": [
        " 132\n",
        "Initial error: 0.1154\n",
        "Final error: 0.0271\n",
        "Image: "
       ]
      },
      {
       "output_type": "stream",
       "stream": "stdout",
       "text": [
        " 133\n",
        "Initial error: 0.0626\n",
        "Final error: 0.0223\n",
        "Image: "
       ]
      },
      {
       "output_type": "stream",
       "stream": "stdout",
       "text": [
        " 134\n",
        "Initial error: 0.0601\n",
        "Final error: 0.0329\n",
        "Image: "
       ]
      },
      {
       "output_type": "stream",
       "stream": "stdout",
       "text": [
        " 135\n",
        "Initial error: 0.1225\n",
        "Final error: 0.0588\n",
        "Image: "
       ]
      },
      {
       "output_type": "stream",
       "stream": "stdout",
       "text": [
        " 136\n",
        "Initial error: 0.2236\n",
        "Final error: 0.0222\n",
        "Image: "
       ]
      },
      {
       "output_type": "stream",
       "stream": "stdout",
       "text": [
        " 137\n",
        "Initial error: 0.0460\n",
        "Final error: 0.0334\n",
        "Image: "
       ]
      },
      {
       "output_type": "stream",
       "stream": "stdout",
       "text": [
        " 138\n",
        "Initial error: 0.1241\n",
        "Final error: 0.0267\n",
        "Image: "
       ]
      },
      {
       "output_type": "stream",
       "stream": "stdout",
       "text": [
        " 139\n",
        "Initial error: 0.1711\n",
        "Final error: 0.0850\n",
        "Image: "
       ]
      },
      {
       "output_type": "stream",
       "stream": "stdout",
       "text": [
        " 140\n",
        "Initial error: 0.1014\n",
        "Final error: 0.0295\n",
        "Image: "
       ]
      },
      {
       "output_type": "stream",
       "stream": "stdout",
       "text": [
        " 141\n",
        "Initial error: 0.0403\n",
        "Final error: 0.0201\n",
        "Image: "
       ]
      },
      {
       "output_type": "stream",
       "stream": "stdout",
       "text": [
        " 142\n",
        "Initial error: 0.1498\n",
        "Final error: 0.0802\n",
        "Image: "
       ]
      },
      {
       "output_type": "stream",
       "stream": "stdout",
       "text": [
        " 143\n",
        "Initial error: 0.0636\n",
        "Final error: 0.0309\n",
        "Image: "
       ]
      },
      {
       "output_type": "stream",
       "stream": "stdout",
       "text": [
        " 144\n",
        "Initial error: 0.0743\n",
        "Final error: 0.0354\n",
        "Image: "
       ]
      },
      {
       "output_type": "stream",
       "stream": "stdout",
       "text": [
        " 145\n",
        "Initial error: 0.0981\n",
        "Final error: 0.0384\n",
        "Image: "
       ]
      },
      {
       "output_type": "stream",
       "stream": "stdout",
       "text": [
        " 146\n",
        "Initial error: 0.0580\n",
        "Final error: 0.0292\n",
        "Image: "
       ]
      },
      {
       "output_type": "stream",
       "stream": "stdout",
       "text": [
        " 147\n",
        "Initial error: 0.0632\n",
        "Final error: 0.0234\n",
        "Image: "
       ]
      },
      {
       "output_type": "stream",
       "stream": "stdout",
       "text": [
        " 148\n",
        "Initial error: 0.1212\n",
        "Final error: 0.0465\n",
        "Image: "
       ]
      },
      {
       "output_type": "stream",
       "stream": "stdout",
       "text": [
        " 149\n",
        "Initial error: 0.1185\n",
        "Final error: 0.0213\n",
        "Image: "
       ]
      },
      {
       "output_type": "stream",
       "stream": "stdout",
       "text": [
        " 150\n",
        "Initial error: 0.1447\n",
        "Final error: 0.0506\n",
        "Image: "
       ]
      },
      {
       "output_type": "stream",
       "stream": "stdout",
       "text": [
        " 151\n",
        "Initial error: 0.2345\n",
        "Final error: 0.2104\n",
        "Image: "
       ]
      },
      {
       "output_type": "stream",
       "stream": "stdout",
       "text": [
        " 152\n",
        "Initial error: 0.1839\n",
        "Final error: 0.1960\n",
        "Image: "
       ]
      },
      {
       "output_type": "stream",
       "stream": "stdout",
       "text": [
        " 153\n",
        "Initial error: 0.0566\n",
        "Final error: 0.0224\n",
        "Image: "
       ]
      },
      {
       "output_type": "stream",
       "stream": "stdout",
       "text": [
        " 154\n",
        "Initial error: 0.1238\n",
        "Final error: 0.0223\n",
        "Image: "
       ]
      },
      {
       "output_type": "stream",
       "stream": "stdout",
       "text": [
        " 155\n",
        "Initial error: 0.0962\n",
        "Final error: 0.0270\n",
        "Image: "
       ]
      },
      {
       "output_type": "stream",
       "stream": "stdout",
       "text": [
        " 156\n",
        "Initial error: 0.1162\n",
        "Final error: 0.0263\n",
        "Image: "
       ]
      },
      {
       "output_type": "stream",
       "stream": "stdout",
       "text": [
        " 157\n",
        "Initial error: 0.0565\n",
        "Final error: 0.0193\n",
        "Image: "
       ]
      },
      {
       "output_type": "stream",
       "stream": "stdout",
       "text": [
        " 158\n",
        "Initial error: 0.0731\n",
        "Final error: 0.0308\n",
        "Image: "
       ]
      },
      {
       "output_type": "stream",
       "stream": "stdout",
       "text": [
        " 159\n",
        "Initial error: 0.0745\n",
        "Final error: 0.0220\n",
        "Image: "
       ]
      },
      {
       "output_type": "stream",
       "stream": "stdout",
       "text": [
        " 160\n",
        "Initial error: 0.0921\n",
        "Final error: 0.0216\n",
        "Image: "
       ]
      },
      {
       "output_type": "stream",
       "stream": "stdout",
       "text": [
        " 161\n",
        "Initial error: 0.0629\n",
        "Final error: 0.0137\n",
        "Image: "
       ]
      },
      {
       "output_type": "stream",
       "stream": "stdout",
       "text": [
        " 162\n",
        "Initial error: 0.2044\n",
        "Final error: 0.0973\n",
        "Image: "
       ]
      },
      {
       "output_type": "stream",
       "stream": "stdout",
       "text": [
        " 163\n",
        "Initial error: 0.0504\n",
        "Final error: 0.0184\n",
        "Image: "
       ]
      },
      {
       "output_type": "stream",
       "stream": "stdout",
       "text": [
        " 164\n",
        "Initial error: 0.0878\n",
        "Final error: 0.0141\n",
        "Image: "
       ]
      },
      {
       "output_type": "stream",
       "stream": "stdout",
       "text": [
        " 165\n",
        "Initial error: 0.0663\n",
        "Final error: 0.0697\n",
        "Image: "
       ]
      },
      {
       "output_type": "stream",
       "stream": "stdout",
       "text": [
        " 166\n",
        "Initial error: 0.0666\n",
        "Final error: 0.0100\n",
        "Image: "
       ]
      },
      {
       "output_type": "stream",
       "stream": "stdout",
       "text": [
        " 167\n",
        "Initial error: 0.2180\n",
        "Final error: 0.2099\n",
        "Image: "
       ]
      },
      {
       "output_type": "stream",
       "stream": "stdout",
       "text": [
        " 168\n",
        "Initial error: 0.1454\n",
        "Final error: 0.0696\n",
        "Image: "
       ]
      },
      {
       "output_type": "stream",
       "stream": "stdout",
       "text": [
        " 169\n",
        "Initial error: 0.0599\n",
        "Final error: 0.0260\n",
        "Image: "
       ]
      },
      {
       "output_type": "stream",
       "stream": "stdout",
       "text": [
        " 170\n",
        "Initial error: 0.0459\n",
        "Final error: 0.0431\n",
        "Image: "
       ]
      },
      {
       "output_type": "stream",
       "stream": "stdout",
       "text": [
        " 171\n",
        "Initial error: 0.2132\n",
        "Final error: 0.1222\n",
        "Image: "
       ]
      },
      {
       "output_type": "stream",
       "stream": "stdout",
       "text": [
        " 172\n",
        "Initial error: 0.0784\n",
        "Final error: 0.0626\n",
        "Image: "
       ]
      },
      {
       "output_type": "stream",
       "stream": "stdout",
       "text": [
        " 173\n",
        "Initial error: 0.0700\n",
        "Final error: 0.0247\n",
        "Image: "
       ]
      },
      {
       "output_type": "stream",
       "stream": "stdout",
       "text": [
        " 174\n",
        "Initial error: 0.0819\n",
        "Final error: 0.0280\n",
        "Image: "
       ]
      },
      {
       "output_type": "stream",
       "stream": "stdout",
       "text": [
        " 175\n",
        "Initial error: 0.1036\n",
        "Final error: 0.0327\n",
        "Image: "
       ]
      },
      {
       "output_type": "stream",
       "stream": "stdout",
       "text": [
        " 176\n",
        "Initial error: 0.1116\n",
        "Final error: 0.0135\n",
        "Image: "
       ]
      },
      {
       "output_type": "stream",
       "stream": "stdout",
       "text": [
        " 177\n",
        "Initial error: 0.1417\n",
        "Final error: 0.0363\n",
        "Image: "
       ]
      },
      {
       "output_type": "stream",
       "stream": "stdout",
       "text": [
        " 178\n",
        "Initial error: 0.0456\n",
        "Final error: 0.0124\n",
        "Image: "
       ]
      },
      {
       "output_type": "stream",
       "stream": "stdout",
       "text": [
        " 179\n",
        "Initial error: 0.0772\n",
        "Final error: 0.0284\n",
        "Image: "
       ]
      },
      {
       "output_type": "stream",
       "stream": "stdout",
       "text": [
        " 180\n",
        "Initial error: 0.0747\n",
        "Final error: 0.0672\n",
        "Image: "
       ]
      },
      {
       "output_type": "stream",
       "stream": "stdout",
       "text": [
        " 181\n",
        "Initial error: 0.1061\n",
        "Final error: 0.0191\n",
        "Image: "
       ]
      },
      {
       "output_type": "stream",
       "stream": "stdout",
       "text": [
        " 182\n",
        "Initial error: 0.0753\n",
        "Final error: 0.0214\n",
        "Image: "
       ]
      },
      {
       "output_type": "stream",
       "stream": "stdout",
       "text": [
        " 183\n",
        "Initial error: 0.1988\n",
        "Final error: 0.0633\n",
        "Image: "
       ]
      },
      {
       "output_type": "stream",
       "stream": "stdout",
       "text": [
        " 184\n",
        "Initial error: 0.0781\n",
        "Final error: 0.0159\n",
        "Image: "
       ]
      },
      {
       "output_type": "stream",
       "stream": "stdout",
       "text": [
        " 185\n",
        "Initial error: 0.0754\n",
        "Final error: 0.0168\n",
        "Image: "
       ]
      },
      {
       "output_type": "stream",
       "stream": "stdout",
       "text": [
        " 186\n",
        "Initial error: 0.0484\n",
        "Final error: 0.0152\n",
        "Image: "
       ]
      },
      {
       "output_type": "stream",
       "stream": "stdout",
       "text": [
        " 187\n",
        "Initial error: 0.2011\n",
        "Final error: 0.0519\n",
        "Image: "
       ]
      },
      {
       "output_type": "stream",
       "stream": "stdout",
       "text": [
        " 188\n",
        "Initial error: 0.0845\n",
        "Final error: 0.0314\n",
        "Image: "
       ]
      },
      {
       "output_type": "stream",
       "stream": "stdout",
       "text": [
        " 189\n",
        "Initial error: 0.1223\n",
        "Final error: 0.0337\n",
        "Image: "
       ]
      },
      {
       "output_type": "stream",
       "stream": "stdout",
       "text": [
        " 190\n",
        "Initial error: 0.0309\n",
        "Final error: 0.0147\n",
        "Image: "
       ]
      },
      {
       "output_type": "stream",
       "stream": "stdout",
       "text": [
        " 191\n",
        "Initial error: 0.0659\n",
        "Final error: 0.0466\n",
        "Image: "
       ]
      },
      {
       "output_type": "stream",
       "stream": "stdout",
       "text": [
        " 192\n",
        "Initial error: 0.0906\n",
        "Final error: 0.0203\n",
        "Image: "
       ]
      },
      {
       "output_type": "stream",
       "stream": "stdout",
       "text": [
        " 193\n",
        "Initial error: 0.1799\n",
        "Final error: 0.0729\n",
        "Image: "
       ]
      },
      {
       "output_type": "stream",
       "stream": "stdout",
       "text": [
        " 194\n",
        "Initial error: 0.0626\n",
        "Final error: 0.0185\n",
        "Image: "
       ]
      },
      {
       "output_type": "stream",
       "stream": "stdout",
       "text": [
        " 195\n",
        "Initial error: 0.0848\n",
        "Final error: 0.0381\n",
        "Image: "
       ]
      },
      {
       "output_type": "stream",
       "stream": "stdout",
       "text": [
        " 196\n",
        "Initial error: 0.0585\n",
        "Final error: 0.0599\n",
        "Image: "
       ]
      },
      {
       "output_type": "stream",
       "stream": "stdout",
       "text": [
        " 197\n",
        "Initial error: 0.0775\n",
        "Final error: 0.0328\n",
        "Image: "
       ]
      },
      {
       "output_type": "stream",
       "stream": "stdout",
       "text": [
        " 198\n",
        "Initial error: 0.1216\n",
        "Final error: 0.0467\n",
        "Image: "
       ]
      },
      {
       "output_type": "stream",
       "stream": "stdout",
       "text": [
        " 199\n",
        "Initial error: 0.0804\n",
        "Final error: 0.0185\n",
        "Image: "
       ]
      },
      {
       "output_type": "stream",
       "stream": "stdout",
       "text": [
        " 200\n",
        "Initial error: 0.1145\n",
        "Final error: 0.0572\n",
        "Image: "
       ]
      },
      {
       "output_type": "stream",
       "stream": "stdout",
       "text": [
        " 201\n",
        "Initial error: 0.0703\n",
        "Final error: 0.0203\n",
        "Image: "
       ]
      },
      {
       "output_type": "stream",
       "stream": "stdout",
       "text": [
        " 202\n",
        "Initial error: 0.0662\n",
        "Final error: 0.0244\n",
        "Image: "
       ]
      },
      {
       "output_type": "stream",
       "stream": "stdout",
       "text": [
        " 203\n",
        "Initial error: 0.1589\n",
        "Final error: 0.0174\n",
        "Image: "
       ]
      },
      {
       "output_type": "stream",
       "stream": "stdout",
       "text": [
        " 204\n",
        "Initial error: 0.0747\n",
        "Final error: 0.0338\n",
        "Image: "
       ]
      },
      {
       "output_type": "stream",
       "stream": "stdout",
       "text": [
        " 205\n",
        "Initial error: 0.0771\n",
        "Final error: 0.0573\n",
        "Image: "
       ]
      },
      {
       "output_type": "stream",
       "stream": "stdout",
       "text": [
        " 206\n",
        "Initial error: 0.1474\n",
        "Final error: 0.0379\n",
        "Image: "
       ]
      },
      {
       "output_type": "stream",
       "stream": "stdout",
       "text": [
        " 207\n",
        "Initial error: 0.1515\n",
        "Final error: 0.0148\n",
        "Image: "
       ]
      },
      {
       "output_type": "stream",
       "stream": "stdout",
       "text": [
        " 208\n",
        "Initial error: 0.0691\n",
        "Final error: 0.0459\n",
        "Image: "
       ]
      },
      {
       "output_type": "stream",
       "stream": "stdout",
       "text": [
        " 209\n",
        "Initial error: 0.0659\n",
        "Final error: 0.0309\n",
        "Image: "
       ]
      },
      {
       "output_type": "stream",
       "stream": "stdout",
       "text": [
        " 210\n",
        "Initial error: 0.1637\n",
        "Final error: 0.0303\n",
        "Image: "
       ]
      },
      {
       "output_type": "stream",
       "stream": "stdout",
       "text": [
        " 211\n",
        "Initial error: 0.0519\n",
        "Final error: 0.0167\n",
        "Image: "
       ]
      },
      {
       "output_type": "stream",
       "stream": "stdout",
       "text": [
        " 212\n",
        "Initial error: 0.1537\n",
        "Final error: 0.0130\n",
        "Image: "
       ]
      },
      {
       "output_type": "stream",
       "stream": "stdout",
       "text": [
        " 213\n",
        "Initial error: 0.0673\n",
        "Final error: 0.0329\n",
        "Image: "
       ]
      },
      {
       "output_type": "stream",
       "stream": "stdout",
       "text": [
        " 214\n",
        "Initial error: 0.0858\n",
        "Final error: 0.0211\n",
        "Image: "
       ]
      },
      {
       "output_type": "stream",
       "stream": "stdout",
       "text": [
        " 215\n",
        "Initial error: 0.0809\n",
        "Final error: 0.0148\n",
        "Image: "
       ]
      },
      {
       "output_type": "stream",
       "stream": "stdout",
       "text": [
        " 216\n",
        "Initial error: 0.0364\n",
        "Final error: 0.0120\n",
        "Image: "
       ]
      },
      {
       "output_type": "stream",
       "stream": "stdout",
       "text": [
        " 217\n",
        "Initial error: 0.1003\n",
        "Final error: 0.0184\n",
        "Image: "
       ]
      },
      {
       "output_type": "stream",
       "stream": "stdout",
       "text": [
        " 218\n",
        "Initial error: 0.1113\n",
        "Final error: 0.0253\n",
        "Image: "
       ]
      },
      {
       "output_type": "stream",
       "stream": "stdout",
       "text": [
        " 219\n",
        "Initial error: 0.1608\n",
        "Final error: 0.0239\n",
        "Image: "
       ]
      },
      {
       "output_type": "stream",
       "stream": "stdout",
       "text": [
        " 220\n",
        "Initial error: 0.0538\n",
        "Final error: 0.0175\n",
        "Image: "
       ]
      },
      {
       "output_type": "stream",
       "stream": "stdout",
       "text": [
        " 221\n",
        "Initial error: 0.0767\n",
        "Final error: 0.0189\n",
        "Image: "
       ]
      },
      {
       "output_type": "stream",
       "stream": "stdout",
       "text": [
        " 222\n",
        "Initial error: 0.0568\n",
        "Final error: 0.0273\n",
        "Image: "
       ]
      },
      {
       "output_type": "stream",
       "stream": "stdout",
       "text": [
        " 223\n",
        "Initial error: 0.1695\n",
        "Final error: 0.0485\n",
        "Image: "
       ]
      },
      {
       "output_type": "stream",
       "stream": "stdout",
       "text": [
        " 224\n",
        "Initial error: 0.0764\n",
        "Final error: 0.0170\n",
        "Image: "
       ]
      },
      {
       "output_type": "stream",
       "stream": "stdout",
       "text": [
        " 225\n",
        "Initial error: 0.0624\n",
        "Final error: 0.0148\n",
        "Image: "
       ]
      },
      {
       "output_type": "stream",
       "stream": "stdout",
       "text": [
        " 226\n",
        "Initial error: 0.1381\n",
        "Final error: 0.0653\n",
        "Image: "
       ]
      },
      {
       "output_type": "stream",
       "stream": "stdout",
       "text": [
        " 227\n",
        "Initial error: 0.1833\n",
        "Final error: 0.1221\n",
        "Image: "
       ]
      },
      {
       "output_type": "stream",
       "stream": "stdout",
       "text": [
        " 228\n",
        "Initial error: 0.1414\n",
        "Final error: 0.0278\n",
        "Image: "
       ]
      },
      {
       "output_type": "stream",
       "stream": "stdout",
       "text": [
        " 229\n",
        "Initial error: 0.0612\n",
        "Final error: 0.0613\n",
        "Image: "
       ]
      },
      {
       "output_type": "stream",
       "stream": "stdout",
       "text": [
        " 230\n",
        "Initial error: 0.0970\n",
        "Final error: 0.0496\n",
        "Image: "
       ]
      },
      {
       "output_type": "stream",
       "stream": "stdout",
       "text": [
        " 231\n",
        "Initial error: 0.0642\n",
        "Final error: 0.0203\n",
        "Image: "
       ]
      },
      {
       "output_type": "stream",
       "stream": "stdout",
       "text": [
        " 232\n",
        "Initial error: 0.0738\n",
        "Final error: 0.0187\n",
        "Image: "
       ]
      },
      {
       "output_type": "stream",
       "stream": "stdout",
       "text": [
        " 233\n",
        "Initial error: 0.0717\n",
        "Final error: 0.0345\n",
        "Image: "
       ]
      },
      {
       "output_type": "stream",
       "stream": "stdout",
       "text": [
        " 234\n",
        "Initial error: 0.0989\n",
        "Final error: 0.0756\n",
        "Image: "
       ]
      },
      {
       "output_type": "stream",
       "stream": "stdout",
       "text": [
        " 235\n",
        "Initial error: 0.2169\n",
        "Final error: 0.1394\n",
        "Image: "
       ]
      },
      {
       "output_type": "stream",
       "stream": "stdout",
       "text": [
        " 236\n",
        "Initial error: 0.1096\n",
        "Final error: 0.0238\n",
        "Image: "
       ]
      },
      {
       "output_type": "stream",
       "stream": "stdout",
       "text": [
        " 237\n",
        "Initial error: 0.0414\n",
        "Final error: 0.0257\n",
        "Image: "
       ]
      },
      {
       "output_type": "stream",
       "stream": "stdout",
       "text": [
        " 238\n",
        "Initial error: 0.1418\n",
        "Final error: 0.1058\n",
        "Image: "
       ]
      },
      {
       "output_type": "stream",
       "stream": "stdout",
       "text": [
        " 239\n",
        "Initial error: 0.1019\n",
        "Final error: 0.0215\n",
        "Image: "
       ]
      },
      {
       "output_type": "stream",
       "stream": "stdout",
       "text": [
        " 240\n",
        "Initial error: 0.0512\n",
        "Final error: 0.0184\n",
        "Image: "
       ]
      },
      {
       "output_type": "stream",
       "stream": "stdout",
       "text": [
        " 241\n",
        "Initial error: 0.1140\n",
        "Final error: 0.0376\n",
        "Image: "
       ]
      },
      {
       "output_type": "stream",
       "stream": "stdout",
       "text": [
        " 242\n",
        "Initial error: 0.0920\n",
        "Final error: 0.0198\n",
        "Image: "
       ]
      },
      {
       "output_type": "stream",
       "stream": "stdout",
       "text": [
        " 243\n",
        "Initial error: 0.1229\n",
        "Final error: 0.0239\n",
        "Image: "
       ]
      },
      {
       "output_type": "stream",
       "stream": "stdout",
       "text": [
        " 244\n",
        "Initial error: 0.0796\n",
        "Final error: 0.0285\n",
        "Image: "
       ]
      },
      {
       "output_type": "stream",
       "stream": "stdout",
       "text": [
        " 245\n",
        "Initial error: 0.1057\n",
        "Final error: 0.0362\n",
        "Image: "
       ]
      },
      {
       "output_type": "stream",
       "stream": "stdout",
       "text": [
        " 246\n",
        "Initial error: 0.0849\n",
        "Final error: 0.0261\n",
        "Image: "
       ]
      },
      {
       "output_type": "stream",
       "stream": "stdout",
       "text": [
        " 247\n",
        "Initial error: 0.1368\n",
        "Final error: 0.0894\n",
        "Image: "
       ]
      },
      {
       "output_type": "stream",
       "stream": "stdout",
       "text": [
        " 248\n",
        "Initial error: 0.0483\n",
        "Final error: 0.0164\n",
        "Image: "
       ]
      },
      {
       "output_type": "stream",
       "stream": "stdout",
       "text": [
        " 249\n",
        "Initial error: 0.0612\n",
        "Final error: 0.0332\n",
        "Image: "
       ]
      },
      {
       "output_type": "stream",
       "stream": "stdout",
       "text": [
        " 250\n",
        "Initial error: 0.0377\n",
        "Final error: 0.0311\n",
        "Image: "
       ]
      },
      {
       "output_type": "stream",
       "stream": "stdout",
       "text": [
        " 251\n",
        "Initial error: 0.1496\n",
        "Final error: 0.0313\n",
        "Image: "
       ]
      },
      {
       "output_type": "stream",
       "stream": "stdout",
       "text": [
        " 252\n",
        "Initial error: 0.1343\n",
        "Final error: 0.1183\n",
        "Image: "
       ]
      },
      {
       "output_type": "stream",
       "stream": "stdout",
       "text": [
        " 253\n",
        "Initial error: 0.0831\n",
        "Final error: 0.0180\n",
        "Image: "
       ]
      },
      {
       "output_type": "stream",
       "stream": "stdout",
       "text": [
        " 254\n",
        "Initial error: 0.0842\n",
        "Final error: 0.0308\n",
        "Image: "
       ]
      },
      {
       "output_type": "stream",
       "stream": "stdout",
       "text": [
        " 255\n",
        "Initial error: 0.0841\n",
        "Final error: 0.0326\n",
        "Image: "
       ]
      },
      {
       "output_type": "stream",
       "stream": "stdout",
       "text": [
        " 256\n",
        "Initial error: 0.0550\n",
        "Final error: 0.0177\n",
        "Image: "
       ]
      },
      {
       "output_type": "stream",
       "stream": "stdout",
       "text": [
        " 257\n",
        "Initial error: 0.0751\n",
        "Final error: 0.0390\n",
        "Image: "
       ]
      },
      {
       "output_type": "stream",
       "stream": "stdout",
       "text": [
        " 258\n",
        "Initial error: 0.0722\n",
        "Final error: 0.0287\n",
        "Image: "
       ]
      },
      {
       "output_type": "stream",
       "stream": "stdout",
       "text": [
        " 259\n",
        "Initial error: 0.1634\n",
        "Final error: 0.1024\n",
        "Image: "
       ]
      },
      {
       "output_type": "stream",
       "stream": "stdout",
       "text": [
        " 260\n",
        "Initial error: 0.1382\n",
        "Final error: 0.1150\n",
        "Image: "
       ]
      },
      {
       "output_type": "stream",
       "stream": "stdout",
       "text": [
        " 261\n",
        "Initial error: 0.1271\n",
        "Final error: 0.0965\n",
        "Image: "
       ]
      },
      {
       "output_type": "stream",
       "stream": "stdout",
       "text": [
        " 262\n",
        "Initial error: 0.0837\n",
        "Final error: 0.0209\n",
        "Image: "
       ]
      },
      {
       "output_type": "stream",
       "stream": "stdout",
       "text": [
        " 263\n",
        "Initial error: 0.0645\n",
        "Final error: 0.0432\n",
        "Image: "
       ]
      },
      {
       "output_type": "stream",
       "stream": "stdout",
       "text": [
        " 264\n",
        "Initial error: 0.1128\n",
        "Final error: 0.0367\n",
        "Image: "
       ]
      },
      {
       "output_type": "stream",
       "stream": "stdout",
       "text": [
        " 265\n",
        "Initial error: 0.0411\n",
        "Final error: 0.0254\n",
        "Image: "
       ]
      },
      {
       "output_type": "stream",
       "stream": "stdout",
       "text": [
        " 266\n",
        "Initial error: 0.0662\n",
        "Final error: 0.0297\n",
        "Image: "
       ]
      },
      {
       "output_type": "stream",
       "stream": "stdout",
       "text": [
        " 267\n",
        "Initial error: 0.1248\n",
        "Final error: 0.1016\n",
        "Image: "
       ]
      },
      {
       "output_type": "stream",
       "stream": "stdout",
       "text": [
        " 268\n",
        "Initial error: 0.0953\n",
        "Final error: 0.0241\n",
        "Image: "
       ]
      },
      {
       "output_type": "stream",
       "stream": "stdout",
       "text": [
        " 269\n",
        "Initial error: 0.0821\n",
        "Final error: 0.0370\n",
        "Image: "
       ]
      },
      {
       "output_type": "stream",
       "stream": "stdout",
       "text": [
        " 270\n",
        "Initial error: 0.0998\n",
        "Final error: 0.0727\n",
        "Image: "
       ]
      },
      {
       "output_type": "stream",
       "stream": "stdout",
       "text": [
        " 271\n",
        "Initial error: 0.1047\n",
        "Final error: 0.0493\n",
        "Image: "
       ]
      },
      {
       "output_type": "stream",
       "stream": "stdout",
       "text": [
        " 272\n",
        "Initial error: 0.1224\n",
        "Final error: 0.0653\n",
        "Image: "
       ]
      },
      {
       "output_type": "stream",
       "stream": "stdout",
       "text": [
        " 273\n",
        "Initial error: 0.0776\n",
        "Final error: 0.0307\n",
        "Image: "
       ]
      },
      {
       "output_type": "stream",
       "stream": "stdout",
       "text": [
        " 274\n",
        "Initial error: 0.0674\n",
        "Final error: 0.0209\n",
        "Image: "
       ]
      },
      {
       "output_type": "stream",
       "stream": "stdout",
       "text": [
        " 275\n",
        "Initial error: 0.1111\n",
        "Final error: 0.0621\n",
        "Image: "
       ]
      },
      {
       "output_type": "stream",
       "stream": "stdout",
       "text": [
        " 276\n",
        "Initial error: 0.1016\n",
        "Final error: 0.0256\n",
        "Image: "
       ]
      },
      {
       "output_type": "stream",
       "stream": "stdout",
       "text": [
        " 277\n",
        "Initial error: 0.1334\n",
        "Final error: 0.0390\n",
        "Image: "
       ]
      },
      {
       "output_type": "stream",
       "stream": "stdout",
       "text": [
        " 278\n",
        "Initial error: 0.1724\n",
        "Final error: 0.0139\n",
        "Image: "
       ]
      },
      {
       "output_type": "stream",
       "stream": "stdout",
       "text": [
        " 279\n",
        "Initial error: 0.1657\n",
        "Final error: 0.0992\n",
        "Image: "
       ]
      },
      {
       "output_type": "stream",
       "stream": "stdout",
       "text": [
        " 280\n",
        "Initial error: 0.0631\n",
        "Final error: 0.0169\n",
        "Image: "
       ]
      },
      {
       "output_type": "stream",
       "stream": "stdout",
       "text": [
        " 281\n",
        "Initial error: 0.0472\n",
        "Final error: 0.0426\n",
        "Image: "
       ]
      },
      {
       "output_type": "stream",
       "stream": "stdout",
       "text": [
        " 282\n",
        "Initial error: 0.0740\n",
        "Final error: 0.0211\n",
        "Image: "
       ]
      },
      {
       "output_type": "stream",
       "stream": "stdout",
       "text": [
        " 283\n",
        "Initial error: 0.0451\n",
        "Final error: 0.0233\n",
        "Image: "
       ]
      },
      {
       "output_type": "stream",
       "stream": "stdout",
       "text": [
        " 284\n",
        "Initial error: 0.0501\n",
        "Final error: 0.0261\n",
        "Image: "
       ]
      },
      {
       "output_type": "stream",
       "stream": "stdout",
       "text": [
        " 285\n",
        "Initial error: 0.1470\n",
        "Final error: 0.0208\n",
        "Image: "
       ]
      },
      {
       "output_type": "stream",
       "stream": "stdout",
       "text": [
        " 286\n",
        "Initial error: 0.0516\n",
        "Final error: 0.0368\n",
        "Image: "
       ]
      },
      {
       "output_type": "stream",
       "stream": "stdout",
       "text": [
        " 287\n",
        "Initial error: 0.1006\n",
        "Final error: 0.0210\n",
        "Image: "
       ]
      },
      {
       "output_type": "stream",
       "stream": "stdout",
       "text": [
        " 288\n",
        "Initial error: 0.1071\n",
        "Final error: 0.0547\n",
        "Image: "
       ]
      },
      {
       "output_type": "stream",
       "stream": "stdout",
       "text": [
        " 289\n",
        "Initial error: 0.1619\n",
        "Final error: 0.1566\n",
        "Image: "
       ]
      },
      {
       "output_type": "stream",
       "stream": "stdout",
       "text": [
        " 290\n",
        "Initial error: 0.0811\n",
        "Final error: 0.0286\n",
        "Image: "
       ]
      },
      {
       "output_type": "stream",
       "stream": "stdout",
       "text": [
        " 291\n",
        "Initial error: 0.1012\n",
        "Final error: 0.0881\n",
        "Image: "
       ]
      },
      {
       "output_type": "stream",
       "stream": "stdout",
       "text": [
        " 292\n",
        "Initial error: 0.0940\n",
        "Final error: 0.0281\n",
        "Image: "
       ]
      },
      {
       "output_type": "stream",
       "stream": "stdout",
       "text": [
        " 293\n",
        "Initial error: 0.1131\n",
        "Final error: 0.0463\n",
        "Image: "
       ]
      },
      {
       "output_type": "stream",
       "stream": "stdout",
       "text": [
        " 294\n",
        "Initial error: 0.0876\n",
        "Final error: 0.0503\n",
        "Image: "
       ]
      },
      {
       "output_type": "stream",
       "stream": "stdout",
       "text": [
        " 295\n",
        "Initial error: 0.0459\n",
        "Final error: 0.0254\n",
        "Image: "
       ]
      },
      {
       "output_type": "stream",
       "stream": "stdout",
       "text": [
        " 296\n",
        "Initial error: 0.0867\n",
        "Final error: 0.0526\n",
        "Image: "
       ]
      },
      {
       "output_type": "stream",
       "stream": "stdout",
       "text": [
        " 297\n",
        "Initial error: 0.1342\n",
        "Final error: 0.0860\n",
        "Image: "
       ]
      },
      {
       "output_type": "stream",
       "stream": "stdout",
       "text": [
        " 298\n",
        "Initial error: 0.0758\n",
        "Final error: 0.0215\n",
        "Image: "
       ]
      },
      {
       "output_type": "stream",
       "stream": "stdout",
       "text": [
        " 299\n",
        "Initial error: 0.0713\n",
        "Final error: 0.0406\n"
       ]
      }
     ],
     "prompt_number": 9
    },
    {
     "cell_type": "heading",
     "level": 3,
     "metadata": {},
     "source": [
      "Visualize Results"
     ]
    },
    {
     "cell_type": "code",
     "collapsed": false,
     "input": [
      "from menpofit.visualize import visualize_fitting_results\n",
      "    \n",
      "visualize_fitting_results(fitter_results)"
     ],
     "language": "python",
     "metadata": {},
     "outputs": [
      {
       "metadata": {},
       "output_type": "display_data",
       "png": "[encoded data removed]",
       "text": [
        "<matplotlib.figure.Figure at 0x7f65c9519b50>"
       ]
      }
     ],
     "prompt_number": 10
    },
    {
     "cell_type": "heading",
     "level": 3,
     "metadata": {},
     "source": [
      "Save Results"
     ]
    },
    {
     "cell_type": "code",
     "collapsed": false,
     "input": [
      "from alabortcvpr2015.utils import pickle_dump\n",
      "from alabortcvpr2015.result import SerializableResult\n",
      "\n",
      "results = [SerializableResult('none', fr.final_shape, fr.n_iters, 'AIC', fr.gt_shape) \n",
      "           for fr in fitter_results]\n",
      "\n",
      "pickle_dump(results, '/data/PhD/Results/aam_aic_view2_fast_dsift')"
     ],
     "language": "python",
     "metadata": {},
     "outputs": [],
     "prompt_number": 11
    },
    {
     "cell_type": "heading",
     "level": 3,
     "metadata": {},
     "source": [
      "Timing"
     ]
    },
    {
     "cell_type": "heading",
     "level": 4,
     "metadata": {},
     "source": [
      "Total"
     ]
    },
    {
     "cell_type": "code",
     "collapsed": false,
     "input": [
      "%timeit fitter.fit(i, s, gt_shape=gt_s, max_iters=20)"
     ],
     "language": "python",
     "metadata": {},
     "outputs": [
      {
       "output_type": "stream",
       "stream": "stdout",
       "text": [
        "10 loops, best of 3: 77 ms per loop\n"
       ]
      }
     ],
     "prompt_number": 12
    },
    {
     "cell_type": "heading",
     "level": 4,
     "metadata": {},
     "source": [
      "Per line"
     ]
    },
    {
     "cell_type": "code",
     "collapsed": false,
     "input": [
      "#import line_profiler\n",
      "#import IPython\n",
      "\n",
      "#ip = IPython.get_ipython()\n",
      "#ip.define_magic('lprun', line_profiler.magic_lprun)"
     ],
     "language": "python",
     "metadata": {},
     "outputs": []
    },
    {
     "cell_type": "code",
     "collapsed": false,
     "input": [
      "#from alabortcvpr2015.aam import AIC\n",
      "\n",
      "#%lprun -f AIC.run fitter.fit(i, s, gt_shape=gt_s, max_iters=20)"
     ],
     "language": "python",
     "metadata": {},
     "outputs": []
    },
    {
     "cell_type": "heading",
     "level": 2,
     "metadata": {},
     "source": [
      "PIC"
     ]
    },
    {
     "cell_type": "heading",
     "level": 3,
     "metadata": {},
     "source": [
      "Test"
     ]
    },
    {
     "cell_type": "code",
     "collapsed": false,
     "input": [
      "sampling_mask = np.require(np.zeros(aam.parts_shape), dtype=np.bool)\n",
      "sampling_mask[::2, ::2] = True\n",
      "\n",
      "\n",
      "imshow(sampling_mask)"
     ],
     "language": "python",
     "metadata": {},
     "outputs": [
      {
       "metadata": {},
       "output_type": "pyout",
       "prompt_number": 13,
       "text": [
        "<matplotlib.image.AxesImage at 0x7f65cbb60110>"
       ]
      },
      {
       "metadata": {},
       "output_type": "display_data",
       "png": "[encoded data removed]",
       "text": [
        "<matplotlib.figure.Figure at 0x7f65cbd07a90>"
       ]
      }
     ],
     "prompt_number": 13
    },
    {
     "cell_type": "code",
     "collapsed": false,
     "input": [
      "from alabortcvpr2015.aam import PartsAAMFitter, PIC\n",
      "                  \n",
      "fitter = PartsAAMFitter(aam, algorithm_cls=PIC, n_shape=[3, 12],\n",
      "                        n_appearance=[25, 50], sampling_mask=sampling_mask)"
     ],
     "language": "python",
     "metadata": {},
     "outputs": [],
     "prompt_number": 14
    },
    {
     "cell_type": "code",
     "collapsed": false,
     "input": [
      "fitter_results = []\n",
      "\n",
      "for j, i in enumerate(test_images):\n",
      "    \n",
      "    for seed in xrange(5):\n",
      "    \n",
      "        np.random.seed(seed=seed)\n",
      "\n",
      "        gt_s = i.landmarks[group].lms\n",
      "        s = fitter.perturb_shape(gt_s, noise_std=0.05)\n",
      "\n",
      "        fr = fitter.fit(i, s, gt_shape=gt_s, max_iters=20, prior=False)\n",
      "\n",
      "        fitter_results.append(fr)\n",
      "        fr.downscale = 0.5\n",
      "\n",
      "        print 'Image: ', j\n",
      "        print fr"
     ],
     "language": "python",
     "metadata": {},
     "outputs": [
      {
       "output_type": "stream",
       "stream": "stdout",
       "text": [
        "Image:  0\n",
        "Initial error: 0.2150\n",
        "Final error: 0.0615\n",
        "Image:  0\n",
        "Initial error: 0.0676\n",
        "Final error: 0.0740\n",
        "Image: "
       ]
      },
      {
       "output_type": "stream",
       "stream": "stdout",
       "text": [
        " 0\n",
        "Initial error: 0.1292\n",
        "Final error: 0.0606\n",
        "Image:  0\n",
        "Initial error: 0.1092\n",
        "Final error: 0.1624\n",
        "Image: "
       ]
      },
      {
       "output_type": "stream",
       "stream": "stdout",
       "text": [
        " 0\n",
        "Initial error: 0.0703\n",
        "Final error: 0.0595\n",
        "Image:  1\n",
        "Initial error: 0.2201\n",
        "Final error: 0.1227\n",
        "Image: "
       ]
      },
      {
       "output_type": "stream",
       "stream": "stdout",
       "text": [
        " 1\n",
        "Initial error: 0.0944\n",
        "Final error: 0.0328\n",
        "Image:  1\n",
        "Initial error: 0.1370\n",
        "Final error: 0.0642\n",
        "Image: "
       ]
      },
      {
       "output_type": "stream",
       "stream": "stdout",
       "text": [
        " 1\n",
        "Initial error: 0.1249\n",
        "Final error: 0.0342\n",
        "Image:  1\n",
        "Initial error: 0.0940\n",
        "Final error: 0.0614\n",
        "Image: "
       ]
      },
      {
       "output_type": "stream",
       "stream": "stdout",
       "text": [
        " 2\n",
        "Initial error: 0.2123\n",
        "Final error: 0.0472\n",
        "Image:  2\n",
        "Initial error: 0.0880\n",
        "Final error: 0.0477\n",
        "Image: "
       ]
      },
      {
       "output_type": "stream",
       "stream": "stdout",
       "text": [
        " 2\n",
        "Initial error: 0.1382\n",
        "Final error: 0.0377\n",
        "Image:  2\n",
        "Initial error: 0.1216\n",
        "Final error: 0.1350\n",
        "Image: "
       ]
      },
      {
       "output_type": "stream",
       "stream": "stdout",
       "text": [
        " 2\n",
        "Initial error: 0.0916\n",
        "Final error: 0.0701\n",
        "Image:  3\n",
        "Initial error: 0.2327\n",
        "Final error: 0.0386\n",
        "Image: "
       ]
      },
      {
       "output_type": "stream",
       "stream": "stdout",
       "text": [
        " 3\n",
        "Initial error: 0.0870\n",
        "Final error: 0.0404\n",
        "Image:  3\n",
        "Initial error: 0.1365\n",
        "Final error: 0.0372\n",
        "Image: "
       ]
      },
      {
       "output_type": "stream",
       "stream": "stdout",
       "text": [
        " 3\n",
        "Initial error: 0.1231\n",
        "Final error: 0.0958\n",
        "Image:  3\n",
        "Initial error: 0.0821\n",
        "Final error: 0.0359\n",
        "Image: "
       ]
      },
      {
       "output_type": "stream",
       "stream": "stdout",
       "text": [
        " 4\n",
        "Initial error: 0.2335\n",
        "Final error: 0.2446\n",
        "Image:  4\n",
        "Initial error: 0.1236\n",
        "Final error: 0.0760\n",
        "Image: "
       ]
      },
      {
       "output_type": "stream",
       "stream": "stdout",
       "text": [
        " 4\n",
        "Initial error: 0.1582\n",
        "Final error: 0.1221\n",
        "Image:  4\n",
        "Initial error: 0.1418\n",
        "Final error: 0.0779\n",
        "Image: "
       ]
      },
      {
       "output_type": "stream",
       "stream": "stdout",
       "text": [
        " 4\n",
        "Initial error: 0.1168\n",
        "Final error: 0.0520\n",
        "Image:  5\n",
        "Initial error: 0.2177\n",
        "Final error: 0.0727\n",
        "Image: "
       ]
      },
      {
       "output_type": "stream",
       "stream": "stdout",
       "text": [
        " 5\n",
        "Initial error: 0.0800\n",
        "Final error: 0.0719\n",
        "Image:  5\n",
        "Initial error: 0.1308\n",
        "Final error: 0.0725\n",
        "Image: "
       ]
      },
      {
       "output_type": "stream",
       "stream": "stdout",
       "text": [
        " 5\n",
        "Initial error: 0.1090\n",
        "Final error: 0.1286\n",
        "Image:  5\n",
        "Initial error: 0.0821\n",
        "Final error: 0.0714\n",
        "Image: "
       ]
      },
      {
       "output_type": "stream",
       "stream": "stdout",
       "text": [
        " 6\n",
        "Initial error: 0.2268\n",
        "Final error: 0.0805\n",
        "Image:  6\n",
        "Initial error: 0.0777\n",
        "Final error: 0.0757\n",
        "Image: "
       ]
      },
      {
       "output_type": "stream",
       "stream": "stdout",
       "text": [
        " 6\n",
        "Initial error: 0.1270\n",
        "Final error: 0.0733\n",
        "Image:  6\n",
        "Initial error: 0.1155\n",
        "Final error: 0.0550\n",
        "Image: "
       ]
      },
      {
       "output_type": "stream",
       "stream": "stdout",
       "text": [
        " 6\n",
        "Initial error: 0.0659\n",
        "Final error: 0.0613\n",
        "Image:  7\n",
        "Initial error: 0.2252\n",
        "Final error: 0.1480\n",
        "Image: "
       ]
      },
      {
       "output_type": "stream",
       "stream": "stdout",
       "text": [
        " 7\n",
        "Initial error: 0.1108\n",
        "Final error: 0.0856\n",
        "Image:  7\n",
        "Initial error: 0.1540\n",
        "Final error: 0.1032\n",
        "Image: "
       ]
      },
      {
       "output_type": "stream",
       "stream": "stdout",
       "text": [
        " 7\n",
        "Initial error: 0.1279\n",
        "Final error: 0.1334\n",
        "Image:  7\n",
        "Initial error: 0.1149\n",
        "Final error: 0.0917\n",
        "Image: "
       ]
      },
      {
       "output_type": "stream",
       "stream": "stdout",
       "text": [
        " 8\n",
        "Initial error: 0.2210\n",
        "Final error: 0.1106\n",
        "Image:  8\n",
        "Initial error: 0.0664\n",
        "Final error: 0.1088\n",
        "Image: "
       ]
      },
      {
       "output_type": "stream",
       "stream": "stdout",
       "text": [
        " 8\n",
        "Initial error: 0.1300\n",
        "Final error: 0.0967\n",
        "Image:  8\n",
        "Initial error: 0.1075\n",
        "Final error: 0.1786\n",
        "Image: "
       ]
      },
      {
       "output_type": "stream",
       "stream": "stdout",
       "text": [
        " 8\n",
        "Initial error: 0.0753\n",
        "Final error: 0.0999\n",
        "Image:  9\n",
        "Initial error: 0.2317\n",
        "Final error: 0.3131\n",
        "Image: "
       ]
      },
      {
       "output_type": "stream",
       "stream": "stdout",
       "text": [
        " 9\n",
        "Initial error: 0.0943\n",
        "Final error: 0.0277\n",
        "Image:  9\n",
        "Initial error: 0.1426\n",
        "Final error: 0.0243\n",
        "Image: "
       ]
      },
      {
       "output_type": "stream",
       "stream": "stdout",
       "text": [
        " 9\n",
        "Initial error: 0.1200\n",
        "Final error: 0.0223\n",
        "Image:  9\n",
        "Initial error: 0.0923\n",
        "Final error: 0.0232\n",
        "Image: "
       ]
      },
      {
       "output_type": "stream",
       "stream": "stdout",
       "text": [
        " 10\n",
        "Initial error: 0.2151\n",
        "Final error: 0.0525\n",
        "Image:  10\n",
        "Initial error: 0.0741\n",
        "Final error: 0.0488\n",
        "Image: "
       ]
      },
      {
       "output_type": "stream",
       "stream": "stdout",
       "text": [
        " 10\n",
        "Initial error: 0.1357\n",
        "Final error: 0.0496\n",
        "Image:  10\n",
        "Initial error: 0.1060\n",
        "Final error: 0.1156\n",
        "Image: "
       ]
      },
      {
       "output_type": "stream",
       "stream": "stdout",
       "text": [
        " 10\n",
        "Initial error: 0.0883\n",
        "Final error: 0.0495\n",
        "Image:  11\n",
        "Initial error: 0.2176\n",
        "Final error: 0.2201\n",
        "Image: "
       ]
      },
      {
       "output_type": "stream",
       "stream": "stdout",
       "text": [
        " 11\n",
        "Initial error: 0.0672\n",
        "Final error: 0.0421\n",
        "Image:  11\n",
        "Initial error: 0.1274\n",
        "Final error: 0.0878\n",
        "Image: "
       ]
      },
      {
       "output_type": "stream",
       "stream": "stdout",
       "text": [
        " 11\n",
        "Initial error: 0.1037\n",
        "Final error: 0.0462\n",
        "Image:  11\n",
        "Initial error: 0.0670\n",
        "Final error: 0.0978\n",
        "Image: "
       ]
      },
      {
       "output_type": "stream",
       "stream": "stdout",
       "text": [
        " 12\n",
        "Initial error: 0.2355\n",
        "Final error: 0.2452\n",
        "Image:  12\n",
        "Initial error: 0.1346\n",
        "Final error: 0.1154\n",
        "Image: "
       ]
      },
      {
       "output_type": "stream",
       "stream": "stdout",
       "text": [
        " 12\n",
        "Initial error: 0.1563\n",
        "Final error: 0.0901\n",
        "Image:  12\n",
        "Initial error: 0.1552\n",
        "Final error: 0.0995\n",
        "Image: "
       ]
      },
      {
       "output_type": "stream",
       "stream": "stdout",
       "text": [
        " 12\n",
        "Initial error: 0.1306\n",
        "Final error: 0.0792\n",
        "Image:  13\n",
        "Initial error: 0.2146\n",
        "Final error: 0.2300\n",
        "Image: "
       ]
      },
      {
       "output_type": "stream",
       "stream": "stdout",
       "text": [
        " 13\n",
        "Initial error: 0.0864\n",
        "Final error: 0.0664\n",
        "Image:  13\n",
        "Initial error: 0.1287\n",
        "Final error: 0.0632\n",
        "Image: "
       ]
      },
      {
       "output_type": "stream",
       "stream": "stdout",
       "text": [
        " 13\n",
        "Initial error: 0.1230\n",
        "Final error: 0.1151\n",
        "Image:  13\n",
        "Initial error: 0.0730\n",
        "Final error: 0.0492\n",
        "Image: "
       ]
      },
      {
       "output_type": "stream",
       "stream": "stdout",
       "text": [
        " 14\n",
        "Initial error: 0.2178\n",
        "Final error: 0.2450\n",
        "Image:  14\n",
        "Initial error: 0.0705\n",
        "Final error: 0.1021\n",
        "Image: "
       ]
      },
      {
       "output_type": "stream",
       "stream": "stdout",
       "text": [
        " 14\n",
        "Initial error: 0.1305\n",
        "Final error: 0.1301\n",
        "Image:  14\n",
        "Initial error: 0.1069\n",
        "Final error: 0.0804\n",
        "Image: "
       ]
      },
      {
       "output_type": "stream",
       "stream": "stdout",
       "text": [
        " 14\n",
        "Initial error: 0.0708\n",
        "Final error: 0.1055\n",
        "Image:  15\n",
        "Initial error: 0.2272\n",
        "Final error: 0.1011\n",
        "Image:  15\n",
        "Initial error: 0.0617\n",
        "Final error: 0.0278\n",
        "Image: "
       ]
      },
      {
       "output_type": "stream",
       "stream": "stdout",
       "text": [
        " 15\n",
        "Initial error: 0.1268\n",
        "Final error: 0.0318\n",
        "Image:  15\n",
        "Initial error: 0.1097\n",
        "Final error: 0.0262\n",
        "Image:  15\n",
        "Initial error: 0.0653\n",
        "Final error: 0.0190"
       ]
      },
      {
       "output_type": "stream",
       "stream": "stdout",
       "text": [
        "\n",
        "Image:  16\n",
        "Initial error: 0.2114\n",
        "Final error: 0.1175\n",
        "Image: "
       ]
      },
      {
       "output_type": "stream",
       "stream": "stdout",
       "text": [
        " 16\n",
        "Initial error: 0.0775\n",
        "Final error: 0.0420\n",
        "Image:  16\n",
        "Initial error: 0.1367\n",
        "Final error: 0.0708\n",
        "Image: "
       ]
      },
      {
       "output_type": "stream",
       "stream": "stdout",
       "text": [
        " 16\n",
        "Initial error: 0.1125\n",
        "Final error: 0.1322\n",
        "Image:  16\n",
        "Initial error: 0.0828\n",
        "Final error: 0.0675\n",
        "Image: "
       ]
      },
      {
       "output_type": "stream",
       "stream": "stdout",
       "text": [
        " 17\n",
        "Initial error: 0.2427\n",
        "Final error: 0.1242\n",
        "Image:  17\n",
        "Initial error: 0.1358\n",
        "Final error: 0.0683\n",
        "Image: "
       ]
      },
      {
       "output_type": "stream",
       "stream": "stdout",
       "text": [
        " 17\n",
        "Initial error: 0.1689\n",
        "Final error: 0.1310\n",
        "Image:  17\n",
        "Initial error: 0.1414\n",
        "Final error: 0.0766\n",
        "Image: "
       ]
      },
      {
       "output_type": "stream",
       "stream": "stdout",
       "text": [
        " 17\n",
        "Initial error: 0.1401\n",
        "Final error: 0.0883\n",
        "Image:  18\n",
        "Initial error: 0.2136\n",
        "Final error: 0.1629\n",
        "Image: "
       ]
      },
      {
       "output_type": "stream",
       "stream": "stdout",
       "text": [
        " 18\n",
        "Initial error: 0.0713\n",
        "Final error: 0.0423\n",
        "Image:  18\n",
        "Initial error: 0.1273\n",
        "Final error: 0.0984\n",
        "Image: "
       ]
      },
      {
       "output_type": "stream",
       "stream": "stdout",
       "text": [
        " 18\n",
        "Initial error: 0.1089\n",
        "Final error: 0.0405\n",
        "Image:  18\n",
        "Initial error: 0.0720\n",
        "Final error: 0.0349\n",
        "Image: "
       ]
      },
      {
       "output_type": "stream",
       "stream": "stdout",
       "text": [
        " 19\n",
        "Initial error: 0.2241\n",
        "Final error: 0.0388\n",
        "Image:  19\n",
        "Initial error: 0.0660\n",
        "Final error: 0.0242\n",
        "Image: "
       ]
      },
      {
       "output_type": "stream",
       "stream": "stdout",
       "text": [
        " 19\n",
        "Initial error: 0.1297\n",
        "Final error: 0.0442\n",
        "Image:  19\n",
        "Initial error: 0.1103\n",
        "Final error: 0.0720\n",
        "Image: "
       ]
      },
      {
       "output_type": "stream",
       "stream": "stdout",
       "text": [
        " 19\n",
        "Initial error: 0.0730\n",
        "Final error: 0.0312\n",
        "Image:  20\n",
        "Initial error: 0.2208\n",
        "Final error: 0.1720\n",
        "Image:  20\n",
        "Initial error: 0.0585\n",
        "Final error: 0.0290\n",
        "Image: "
       ]
      },
      {
       "output_type": "stream",
       "stream": "stdout",
       "text": [
        " 20\n",
        "Initial error: 0.1240\n",
        "Final error: 0.0298\n",
        "Image:  20\n",
        "Initial error: 0.1067\n",
        "Final error: 0.0257\n",
        "Image: "
       ]
      },
      {
       "output_type": "stream",
       "stream": "stdout",
       "text": [
        " 20\n",
        "Initial error: 0.0605\n",
        "Final error: 0.0293\n",
        "Image:  21\n",
        "Initial error: 0.2281\n",
        "Final error: 0.2435\n",
        "Image: "
       ]
      },
      {
       "output_type": "stream",
       "stream": "stdout",
       "text": [
        " 21\n",
        "Initial error: 0.0632\n",
        "Final error: 0.0254\n",
        "Image:  21\n",
        "Initial error: 0.1252\n",
        "Final error: 0.0271\n",
        "Image:  21\n",
        "Initial error: 0.1121\n",
        "Final error: 0.0291"
       ]
      },
      {
       "output_type": "stream",
       "stream": "stdout",
       "text": [
        "\n",
        "Image:  21\n",
        "Initial error: 0.0577\n",
        "Final error: 0.0279\n",
        "Image:  22\n",
        "Initial error: 0.2363\n",
        "Final error: 0.1933\n",
        "Image: "
       ]
      },
      {
       "output_type": "stream",
       "stream": "stdout",
       "text": [
        " 22\n",
        "Initial error: 0.0871\n",
        "Final error: 0.0264\n",
        "Image:  22\n",
        "Initial error: 0.1452\n",
        "Final error: 0.0210\n",
        "Image: "
       ]
      },
      {
       "output_type": "stream",
       "stream": "stdout",
       "text": [
        " 22\n",
        "Initial error: 0.1231\n",
        "Final error: 0.0704\n",
        "Image:  22\n",
        "Initial error: 0.0951\n",
        "Final error: 0.0298\n",
        "Image: "
       ]
      },
      {
       "output_type": "stream",
       "stream": "stdout",
       "text": [
        " 23\n",
        "Initial error: 0.2172\n",
        "Final error: 0.1133\n",
        "Image:  23\n",
        "Initial error: 0.1039\n",
        "Final error: 0.0439\n",
        "Image: "
       ]
      },
      {
       "output_type": "stream",
       "stream": "stdout",
       "text": [
        " 23\n",
        "Initial error: 0.1477\n",
        "Final error: 0.0384\n",
        "Image:  23\n",
        "Initial error: 0.1252\n",
        "Final error: 0.0816\n",
        "Image: "
       ]
      },
      {
       "output_type": "stream",
       "stream": "stdout",
       "text": [
        " 23\n",
        "Initial error: 0.1058\n",
        "Final error: 0.0423\n",
        "Image:  24\n",
        "Initial error: 0.2240\n",
        "Final error: 0.0954\n",
        "Image: "
       ]
      },
      {
       "output_type": "stream",
       "stream": "stdout",
       "text": [
        " 24\n",
        "Initial error: 0.0552\n",
        "Final error: 0.0232\n",
        "Image:  24\n",
        "Initial error: 0.1245\n",
        "Final error: 0.0212\n",
        "Image: "
       ]
      },
      {
       "output_type": "stream",
       "stream": "stdout",
       "text": [
        " 24\n",
        "Initial error: 0.1061\n",
        "Final error: 0.0193\n",
        "Image:  24\n",
        "Initial error: 0.0573\n",
        "Final error: 0.0128\n",
        "Image: "
       ]
      },
      {
       "output_type": "stream",
       "stream": "stdout",
       "text": [
        " 25\n",
        "Initial error: 0.2174\n",
        "Final error: 0.0328\n",
        "Image:  25\n",
        "Initial error: 0.0582\n",
        "Final error: 0.0352\n",
        "Image: "
       ]
      },
      {
       "output_type": "stream",
       "stream": "stdout",
       "text": [
        " 25\n",
        "Initial error: 0.1267\n",
        "Final error: 0.0396\n",
        "Image:  25\n",
        "Initial error: 0.1074\n",
        "Final error: 0.0370\n",
        "Image: "
       ]
      },
      {
       "output_type": "stream",
       "stream": "stdout",
       "text": [
        " 25\n",
        "Initial error: 0.0650\n",
        "Final error: 0.0392\n",
        "Image:  26\n",
        "Initial error: 0.2272\n",
        "Final error: 0.1373\n",
        "Image: "
       ]
      },
      {
       "output_type": "stream",
       "stream": "stdout",
       "text": [
        " 26\n",
        "Initial error: 0.0750\n",
        "Final error: 0.0215\n",
        "Image:  26\n",
        "Initial error: 0.1382\n",
        "Final error: 0.0301\n",
        "Image: "
       ]
      },
      {
       "output_type": "stream",
       "stream": "stdout",
       "text": [
        " 26\n",
        "Initial error: 0.1078\n",
        "Final error: 0.0527\n",
        "Image:  26\n",
        "Initial error: 0.0859\n",
        "Final error: 0.0277\n",
        "Image: "
       ]
      },
      {
       "output_type": "stream",
       "stream": "stdout",
       "text": [
        " 27\n",
        "Initial error: 0.2096\n",
        "Final error: 0.0829\n",
        "Image:  27\n",
        "Initial error: 0.0976\n",
        "Final error: 0.0669\n",
        "Image: "
       ]
      },
      {
       "output_type": "stream",
       "stream": "stdout",
       "text": [
        " 27\n",
        "Initial error: 0.1484\n",
        "Final error: 0.0608\n",
        "Image:  27\n",
        "Initial error: 0.1288\n",
        "Final error: 0.1259\n",
        "Image: "
       ]
      },
      {
       "output_type": "stream",
       "stream": "stdout",
       "text": [
        " 27\n",
        "Initial error: 0.0995\n",
        "Final error: 0.0561\n",
        "Image:  28\n",
        "Initial error: 0.2114\n",
        "Final error: 0.0365\n",
        "Image: "
       ]
      },
      {
       "output_type": "stream",
       "stream": "stdout",
       "text": [
        " 28\n",
        "Initial error: 0.0855\n",
        "Final error: 0.0330\n",
        "Image:  28\n",
        "Initial error: 0.1358\n",
        "Final error: 0.0351\n",
        "Image: "
       ]
      },
      {
       "output_type": "stream",
       "stream": "stdout",
       "text": [
        " 28\n",
        "Initial error: 0.1208\n",
        "Final error: 0.1709\n",
        "Image: "
       ]
      },
      {
       "output_type": "stream",
       "stream": "stdout",
       "text": [
        " 28\n",
        "Initial error: 0.0860\n",
        "Final error: 0.0307\n",
        "Image:  29\n",
        "Initial error: 0.2209\n",
        "Final error: 0.1377\n",
        "Image: "
       ]
      },
      {
       "output_type": "stream",
       "stream": "stdout",
       "text": [
        " 29\n",
        "Initial error: 0.0762\n",
        "Final error: 0.0361\n",
        "Image:  29\n",
        "Initial error: 0.1297\n",
        "Final error: 0.0417\n",
        "Image: "
       ]
      },
      {
       "output_type": "stream",
       "stream": "stdout",
       "text": [
        " 29\n",
        "Initial error: 0.1142\n",
        "Final error: 0.0288\n",
        "Image:  29\n",
        "Initial error: 0.0761\n",
        "Final error: 0.0241\n",
        "Image: "
       ]
      },
      {
       "output_type": "stream",
       "stream": "stdout",
       "text": [
        " 30\n",
        "Initial error: 0.2238\n",
        "Final error: 0.0360\n",
        "Image:  30\n",
        "Initial error: 0.0701\n",
        "Final error: 0.0324\n",
        "Image: "
       ]
      },
      {
       "output_type": "stream",
       "stream": "stdout",
       "text": [
        " 30\n",
        "Initial error: 0.1275\n",
        "Final error: 0.0225\n",
        "Image:  30\n",
        "Initial error: 0.1139\n",
        "Final error: 0.0289\n",
        "Image: "
       ]
      },
      {
       "output_type": "stream",
       "stream": "stdout",
       "text": [
        " 30\n",
        "Initial error: 0.0731\n",
        "Final error: 0.0323\n",
        "Image:  31\n",
        "Initial error: 0.2126\n",
        "Final error: 0.0558\n",
        "Image: "
       ]
      },
      {
       "output_type": "stream",
       "stream": "stdout",
       "text": [
        " 31\n",
        "Initial error: 0.0959\n",
        "Final error: 0.0627\n",
        "Image:  31\n",
        "Initial error: 0.1419\n",
        "Final error: 0.0547\n",
        "Image: "
       ]
      },
      {
       "output_type": "stream",
       "stream": "stdout",
       "text": [
        " 31\n",
        "Initial error: 0.1214\n",
        "Final error: 0.0534\n",
        "Image:  31\n",
        "Initial error: 0.1002\n",
        "Final error: 0.0412\n",
        "Image: "
       ]
      },
      {
       "output_type": "stream",
       "stream": "stdout",
       "text": [
        " 32\n",
        "Initial error: 0.2275\n",
        "Final error: 0.2089\n",
        "Image:  32\n",
        "Initial error: 0.0666\n",
        "Final error: 0.0296\n",
        "Image: "
       ]
      },
      {
       "output_type": "stream",
       "stream": "stdout",
       "text": [
        " 32\n",
        "Initial error: 0.1259\n",
        "Final error: 0.0384\n",
        "Image:  32\n",
        "Initial error: 0.1133\n",
        "Final error: 0.1694\n",
        "Image: "
       ]
      },
      {
       "output_type": "stream",
       "stream": "stdout",
       "text": [
        " 32\n",
        "Initial error: 0.0621\n",
        "Final error: 0.0214\n",
        "Image:  33\n",
        "Initial error: 0.2225\n",
        "Final error: 0.1626\n",
        "Image: "
       ]
      },
      {
       "output_type": "stream",
       "stream": "stdout",
       "text": [
        " 33\n",
        "Initial error: 0.0630\n",
        "Final error: 0.0217\n",
        "Image:  33\n",
        "Initial error: 0.1289\n",
        "Final error: 0.0902\n",
        "Image: "
       ]
      },
      {
       "output_type": "stream",
       "stream": "stdout",
       "text": [
        " 33\n",
        "Initial error: 0.1033\n",
        "Final error: 0.0332\n",
        "Image:  33\n",
        "Initial error: 0.0698\n",
        "Final error: 0.0224\n",
        "Image: "
       ]
      },
      {
       "output_type": "stream",
       "stream": "stdout",
       "text": [
        " 34\n",
        "Initial error: 0.2225\n",
        "Final error: 0.0236\n",
        "Image:  34\n",
        "Initial error: 0.0556\n",
        "Final error: 0.0194\n",
        "Image: "
       ]
      },
      {
       "output_type": "stream",
       "stream": "stdout",
       "text": [
        " 34\n",
        "Initial error: 0.1241\n",
        "Final error: 0.0227\n",
        "Image:  34\n",
        "Initial error: 0.1028\n",
        "Final error: 0.0189\n",
        "Image: "
       ]
      },
      {
       "output_type": "stream",
       "stream": "stdout",
       "text": [
        " 34\n",
        "Initial error: 0.0597\n",
        "Final error: 0.0246\n",
        "Image:  35\n",
        "Initial error: 0.2284\n",
        "Final error: 0.1464\n",
        "Image: "
       ]
      },
      {
       "output_type": "stream",
       "stream": "stdout",
       "text": [
        " 35\n",
        "Initial error: 0.0662\n",
        "Final error: 0.0164\n",
        "Image:  35\n",
        "Initial error: 0.1273\n",
        "Final error: 0.0218\n",
        "Image:  35\n",
        "Initial error: 0.1126\n",
        "Final error: 0.0284"
       ]
      },
      {
       "output_type": "stream",
       "stream": "stdout",
       "text": [
        "\n",
        "Image:  35\n",
        "Initial error: 0.0648\n",
        "Final error: 0.0210\n",
        "Image: "
       ]
      },
      {
       "output_type": "stream",
       "stream": "stdout",
       "text": [
        " 36\n",
        "Initial error: 0.2333\n",
        "Final error: 0.1456\n",
        "Image:  36\n",
        "Initial error: 0.1355\n",
        "Final error: 0.0315\n",
        "Image: "
       ]
      },
      {
       "output_type": "stream",
       "stream": "stdout",
       "text": [
        " 36\n",
        "Initial error: 0.1629\n",
        "Final error: 0.0250\n",
        "Image:  36\n",
        "Initial error: 0.1471\n",
        "Final error: 0.0270\n",
        "Image: "
       ]
      },
      {
       "output_type": "stream",
       "stream": "stdout",
       "text": [
        " 36\n",
        "Initial error: 0.1320\n",
        "Final error: 0.0309\n",
        "Image:  37\n",
        "Initial error: 0.2313\n",
        "Final error: 0.0450\n",
        "Image: "
       ]
      },
      {
       "output_type": "stream",
       "stream": "stdout",
       "text": [
        " 37\n",
        "Initial error: 0.0667\n",
        "Final error: 0.0214\n",
        "Image:  37\n",
        "Initial error: 0.1281\n",
        "Final error: 0.0212\n",
        "Image: "
       ]
      },
      {
       "output_type": "stream",
       "stream": "stdout",
       "text": [
        " 37\n",
        "Initial error: 0.1139\n",
        "Final error: 0.0214\n",
        "Image:  37\n",
        "Initial error: 0.0647\n",
        "Final error: 0.0232\n",
        "Image: "
       ]
      },
      {
       "output_type": "stream",
       "stream": "stdout",
       "text": [
        " 38\n",
        "Initial error: 0.2298\n",
        "Final error: 0.1097\n",
        "Image:  38\n",
        "Initial error: 0.0815\n",
        "Final error: 0.0355\n",
        "Image: "
       ]
      },
      {
       "output_type": "stream",
       "stream": "stdout",
       "text": [
        " 38\n",
        "Initial error: 0.1343\n",
        "Final error: 0.0307\n",
        "Image:  38\n",
        "Initial error: 0.1217\n",
        "Final error: 0.0712\n",
        "Image: "
       ]
      },
      {
       "output_type": "stream",
       "stream": "stdout",
       "text": [
        " 38\n",
        "Initial error: 0.0761\n",
        "Final error: 0.0330\n",
        "Image:  39\n",
        "Initial error: 0.2219\n",
        "Final error: 0.0835\n",
        "Image: "
       ]
      },
      {
       "output_type": "stream",
       "stream": "stdout",
       "text": [
        " 39\n",
        "Initial error: 0.0502\n",
        "Final error: 0.0309\n",
        "Image:  39\n",
        "Initial error: 0.1274\n",
        "Final error: 0.0369\n",
        "Image: "
       ]
      },
      {
       "output_type": "stream",
       "stream": "stdout",
       "text": [
        " 39\n",
        "Initial error: 0.1007\n",
        "Final error: 0.0456\n",
        "Image:  39\n",
        "Initial error: 0.0617\n",
        "Final error: 0.0310\n",
        "Image: "
       ]
      },
      {
       "output_type": "stream",
       "stream": "stdout",
       "text": [
        " 40\n",
        "Initial error: 0.2168\n",
        "Final error: 0.1890\n",
        "Image:  40\n",
        "Initial error: 0.0752\n",
        "Final error: 0.0275\n",
        "Image: "
       ]
      },
      {
       "output_type": "stream",
       "stream": "stdout",
       "text": [
        " 40\n",
        "Initial error: 0.1303\n",
        "Final error: 0.0861\n",
        "Image:  40\n",
        "Initial error: 0.1124\n",
        "Final error: 0.0237\n",
        "Image: "
       ]
      },
      {
       "output_type": "stream",
       "stream": "stdout",
       "text": [
        " 40\n",
        "Initial error: 0.0739\n",
        "Final error: 0.0247\n",
        "Image:  41\n",
        "Initial error: 0.2277\n",
        "Final error: 0.2570\n",
        "Image: "
       ]
      },
      {
       "output_type": "stream",
       "stream": "stdout",
       "text": [
        " 41\n",
        "Initial error: 0.0672\n",
        "Final error: 0.0261\n",
        "Image:  41\n",
        "Initial error: 0.1277\n",
        "Final error: 0.0321\n",
        "Image: "
       ]
      },
      {
       "output_type": "stream",
       "stream": "stdout",
       "text": [
        " 41\n",
        "Initial error: 0.1139\n",
        "Final error: 0.0301\n",
        "Image:  41\n",
        "Initial error: 0.0667\n",
        "Final error: 0.0319\n",
        "Image: "
       ]
      },
      {
       "output_type": "stream",
       "stream": "stdout",
       "text": [
        " 42\n",
        "Initial error: 0.2304\n",
        "Final error: 0.2507\n",
        "Image:  42\n",
        "Initial error: 0.0964\n",
        "Final error: 0.0315\n",
        "Image: "
       ]
      },
      {
       "output_type": "stream",
       "stream": "stdout",
       "text": [
        " 42\n",
        "Initial error: 0.1450\n",
        "Final error: 0.0348\n",
        "Image:  42\n",
        "Initial error: 0.1217\n",
        "Final error: 0.0622\n",
        "Image: "
       ]
      },
      {
       "output_type": "stream",
       "stream": "stdout",
       "text": [
        " 42\n",
        "Initial error: 0.0974\n",
        "Final error: 0.0355\n",
        "Image:  43\n",
        "Initial error: 0.2173\n",
        "Final error: 0.0382\n",
        "Image: "
       ]
      },
      {
       "output_type": "stream",
       "stream": "stdout",
       "text": [
        " 43\n",
        "Initial error: 0.0748\n",
        "Final error: 0.0407\n",
        "Image:  43\n",
        "Initial error: 0.1293\n",
        "Final error: 0.0477\n",
        "Image: "
       ]
      },
      {
       "output_type": "stream",
       "stream": "stdout",
       "text": [
        " 43\n",
        "Initial error: 0.1092\n",
        "Final error: 0.0441\n",
        "Image:  43\n",
        "Initial error: 0.0725\n",
        "Final error: 0.0424\n",
        "Image: "
       ]
      },
      {
       "output_type": "stream",
       "stream": "stdout",
       "text": [
        " 44\n",
        "Initial error: 0.2152\n",
        "Final error: 0.1080\n",
        "Image:  44\n",
        "Initial error: 0.0727\n",
        "Final error: 0.0365\n",
        "Image: "
       ]
      },
      {
       "output_type": "stream",
       "stream": "stdout",
       "text": [
        " 44\n",
        "Initial error: 0.1292\n",
        "Final error: 0.0572\n",
        "Image:  44\n",
        "Initial error: 0.1083\n",
        "Final error: 0.0424\n",
        "Image: "
       ]
      },
      {
       "output_type": "stream",
       "stream": "stdout",
       "text": [
        " 44\n",
        "Initial error: 0.0726\n",
        "Final error: 0.0377\n",
        "Image:  45\n",
        "Initial error: 0.2291\n",
        "Final error: 0.0307\n",
        "Image:  45\n",
        "Initial error: 0.0695\n",
        "Final error: 0.0296\n",
        "Image: "
       ]
      },
      {
       "output_type": "stream",
       "stream": "stdout",
       "text": [
        " 45\n",
        "Initial error: 0.1279\n",
        "Final error: 0.0298\n",
        "Image:  45\n",
        "Initial error: 0.1136\n",
        "Final error: 0.0261\n",
        "Image:  45\n",
        "Initial error: 0.0658\n",
        "Final error: 0.0289"
       ]
      },
      {
       "output_type": "stream",
       "stream": "stdout",
       "text": [
        "\n",
        "Image:  46\n",
        "Initial error: 0.2341\n",
        "Final error: 0.2573\n",
        "Image:  46\n",
        "Initial error: 0.0821\n",
        "Final error: 0.0388\n",
        "Image: "
       ]
      },
      {
       "output_type": "stream",
       "stream": "stdout",
       "text": [
        " 46\n",
        "Initial error: 0.1400\n",
        "Final error: 0.0241\n",
        "Image:  46\n",
        "Initial error: 0.1193\n",
        "Final error: 0.0433\n",
        "Image:  46\n",
        "Initial error: 0.0892\n",
        "Final error: 0.0474\n",
        "Image: "
       ]
      },
      {
       "output_type": "stream",
       "stream": "stdout",
       "text": [
        " 47\n",
        "Initial error: 0.2182\n",
        "Final error: 0.0320\n",
        "Image:  47\n",
        "Initial error: 0.1036\n",
        "Final error: 0.1019\n",
        "Image: "
       ]
      },
      {
       "output_type": "stream",
       "stream": "stdout",
       "text": [
        " 47\n",
        "Initial error: 0.1400\n",
        "Final error: 0.0409\n",
        "Image:  47\n",
        "Initial error: 0.1325\n",
        "Final error: 0.1219\n",
        "Image: "
       ]
      },
      {
       "output_type": "stream",
       "stream": "stdout",
       "text": [
        " 47\n",
        "Initial error: 0.0987\n",
        "Final error: 0.0213\n",
        "Image:  48\n",
        "Initial error: 0.2219\n",
        "Final error: 0.1037\n",
        "Image: "
       ]
      },
      {
       "output_type": "stream",
       "stream": "stdout",
       "text": [
        " 48\n",
        "Initial error: 0.0861\n",
        "Final error: 0.0869\n",
        "Image:  48\n",
        "Initial error: 0.1291\n",
        "Final error: 0.0831\n",
        "Image: "
       ]
      },
      {
       "output_type": "stream",
       "stream": "stdout",
       "text": [
        " 48\n",
        "Initial error: 0.1177\n",
        "Final error: 0.0986\n",
        "Image:  48\n",
        "Initial error: 0.0796\n",
        "Final error: 0.0911\n",
        "Image: "
       ]
      },
      {
       "output_type": "stream",
       "stream": "stdout",
       "text": [
        " 49\n",
        "Initial error: 0.2220\n",
        "Final error: 0.2610\n",
        "Image:  49\n",
        "Initial error: 0.0638\n",
        "Final error: 0.0579\n",
        "Image: "
       ]
      },
      {
       "output_type": "stream",
       "stream": "stdout",
       "text": [
        " 49\n",
        "Initial error: 0.1260\n",
        "Final error: 0.0805\n",
        "Image:  49\n",
        "Initial error: 0.1088\n",
        "Final error: 0.0597\n",
        "Image: "
       ]
      },
      {
       "output_type": "stream",
       "stream": "stdout",
       "text": [
        " 49\n",
        "Initial error: 0.0611\n",
        "Final error: 0.0499\n",
        "Image:  50\n",
        "Initial error: 0.2218\n",
        "Final error: 0.0305\n",
        "Image: "
       ]
      },
      {
       "output_type": "stream",
       "stream": "stdout",
       "text": [
        " 50\n",
        "Initial error: 0.0759\n",
        "Final error: 0.0280\n",
        "Image:  50\n",
        "Initial error: 0.1291\n",
        "Final error: 0.0312\n",
        "Image: "
       ]
      },
      {
       "output_type": "stream",
       "stream": "stdout",
       "text": [
        " 50\n",
        "Initial error: 0.1144\n",
        "Final error: 0.0249\n",
        "Image:  50\n",
        "Initial error: 0.0735\n",
        "Final error: 0.0279\n",
        "Image:  51\n",
        "Initial error: 0.2277\n",
        "Final error: 0.2403"
       ]
      },
      {
       "output_type": "stream",
       "stream": "stdout",
       "text": [
        "\n",
        "Image:  51\n",
        "Initial error: 0.0623\n",
        "Final error: 0.0398\n",
        "Image:  51\n",
        "Initial error: 0.1241\n",
        "Final error: 0.0566\n",
        "Image: "
       ]
      },
      {
       "output_type": "stream",
       "stream": "stdout",
       "text": [
        " 51\n",
        "Initial error: 0.1133\n",
        "Final error: 0.0363\n",
        "Image:  51\n",
        "Initial error: 0.0614\n",
        "Final error: 0.0558\n",
        "Image:  52\n",
        "Initial error: 0.2231\n",
        "Final error: 0.1240\n",
        "Image: "
       ]
      },
      {
       "output_type": "stream",
       "stream": "stdout",
       "text": [
        " 52\n",
        "Initial error: 0.0599\n",
        "Final error: 0.0384\n",
        "Image:  52\n",
        "Initial error: 0.1271\n",
        "Final error: 0.0560\n",
        "Image:  52\n",
        "Initial error: 0.1030\n",
        "Final error: 0.0575"
       ]
      },
      {
       "output_type": "stream",
       "stream": "stdout",
       "text": [
        "\n",
        "Image:  52\n",
        "Initial error: 0.0710\n",
        "Final error: 0.0517\n",
        "Image:  53\n",
        "Initial error: 0.2267\n",
        "Final error: 0.1343"
       ]
      },
      {
       "output_type": "stream",
       "stream": "stdout",
       "text": [
        "\n",
        "Image:  53\n",
        "Initial error: 0.0837\n",
        "Final error: 0.0744\n",
        "Image: "
       ]
      },
      {
       "output_type": "stream",
       "stream": "stdout",
       "text": [
        " 53\n",
        "Initial error: 0.1385\n",
        "Final error: 0.0541\n",
        "Image:  53\n",
        "Initial error: 0.1173\n",
        "Final error: 0.0697\n",
        "Image: "
       ]
      },
      {
       "output_type": "stream",
       "stream": "stdout",
       "text": [
        " 53\n",
        "Initial error: 0.0846\n",
        "Final error: 0.0728\n",
        "Image:  54\n",
        "Initial error: 0.2273\n",
        "Final error: 0.1537\n",
        "Image:  54\n",
        "Initial error: 0.0797\n",
        "Final error: 0.0435"
       ]
      },
      {
       "output_type": "stream",
       "stream": "stdout",
       "text": [
        "\n",
        "Image:  54\n",
        "Initial error: 0.1336\n",
        "Final error: 0.0347\n",
        "Image:  54\n",
        "Initial error: 0.1215\n",
        "Final error: 0.0532"
       ]
      },
      {
       "output_type": "stream",
       "stream": "stdout",
       "text": [
        "\n",
        "Image:  54\n",
        "Initial error: 0.0776\n",
        "Final error: 0.0468\n",
        "Image:  55\n",
        "Initial error: 0.2301\n",
        "Final error: 0.2376\n",
        "Image: "
       ]
      },
      {
       "output_type": "stream",
       "stream": "stdout",
       "text": [
        " 55\n",
        "Initial error: 0.0710\n",
        "Final error: 0.0604\n",
        "Image:  55\n",
        "Initial error: 0.1338\n",
        "Final error: 0.0506\n",
        "Image:  55\n",
        "Initial error: 0.1102\n",
        "Final error: 0.0557"
       ]
      },
      {
       "output_type": "stream",
       "stream": "stdout",
       "text": [
        "\n",
        "Image:  55\n",
        "Initial error: 0.0780\n",
        "Final error: 0.0650\n",
        "Image:  56\n",
        "Initial error: 0.2238\n",
        "Final error: 0.1102"
       ]
      },
      {
       "output_type": "stream",
       "stream": "stdout",
       "text": [
        "\n",
        "Image:  56\n",
        "Initial error: 0.0830\n",
        "Final error: 0.0256\n",
        "Image: "
       ]
      },
      {
       "output_type": "stream",
       "stream": "stdout",
       "text": [
        " 56\n",
        "Initial error: 0.1337\n",
        "Final error: 0.0230\n",
        "Image:  56\n",
        "Initial error: 0.1233\n",
        "Final error: 0.0261\n",
        "Image: "
       ]
      },
      {
       "output_type": "stream",
       "stream": "stdout",
       "text": [
        " 56\n",
        "Initial error: 0.0775\n",
        "Final error: 0.0396\n",
        "Image:  57\n",
        "Initial error: 0.2376\n",
        "Final error: 0.2975\n",
        "Image:  57\n",
        "Initial error: 0.0905\n",
        "Final error: 0.0854"
       ]
      },
      {
       "output_type": "stream",
       "stream": "stdout",
       "text": [
        "\n",
        "Image:  57\n",
        "Initial error: 0.1439\n",
        "Final error: 0.0820\n",
        "Image:  57\n",
        "Initial error: 0.1254\n",
        "Final error: 0.1181"
       ]
      },
      {
       "output_type": "stream",
       "stream": "stdout",
       "text": [
        "\n",
        "Image:  57\n",
        "Initial error: 0.0952\n",
        "Final error: 0.0861\n",
        "Image:  58\n",
        "Initial error: 0.2283\n",
        "Final error: 0.2523"
       ]
      },
      {
       "output_type": "stream",
       "stream": "stdout",
       "text": [
        "\n",
        "Image:  58\n",
        "Initial error: 0.0978\n",
        "Final error: 0.0711\n",
        "Image: "
       ]
      },
      {
       "output_type": "stream",
       "stream": "stdout",
       "text": [
        " 58\n",
        "Initial error: 0.1464\n",
        "Final error: 0.0577\n",
        "Image:  58\n",
        "Initial error: 0.1206\n",
        "Final error: 0.0940\n",
        "Image: "
       ]
      },
      {
       "output_type": "stream",
       "stream": "stdout",
       "text": [
        " 58\n",
        "Initial error: 0.0970\n",
        "Final error: 0.0594\n",
        "Image:  59\n",
        "Initial error: 0.2238\n",
        "Final error: 0.0162\n",
        "Image: "
       ]
      },
      {
       "output_type": "stream",
       "stream": "stdout",
       "text": [
        " 59\n",
        "Initial error: 0.0599\n",
        "Final error: 0.0229\n",
        "Image:  59\n",
        "Initial error: 0.1257\n",
        "Final error: 0.0220\n",
        "Image: "
       ]
      },
      {
       "output_type": "stream",
       "stream": "stdout",
       "text": [
        " 59\n",
        "Initial error: 0.1063\n",
        "Final error: 0.0269\n",
        "Image:  59\n",
        "Initial error: 0.0639\n",
        "Final error: 0.0193\n",
        "Image: "
       ]
      },
      {
       "output_type": "stream",
       "stream": "stdout",
       "text": [
        " 60\n",
        "Initial error: 0.2238\n",
        "Final error: 0.0357\n",
        "Image:  60\n",
        "Initial error: 0.0489\n",
        "Final error: 0.0378\n",
        "Image: "
       ]
      },
      {
       "output_type": "stream",
       "stream": "stdout",
       "text": [
        " 60\n",
        "Initial error: 0.1243\n",
        "Final error: 0.0393\n",
        "Image:  60\n",
        "Initial error: 0.1036\n",
        "Final error: 0.0382\n",
        "Image: "
       ]
      },
      {
       "output_type": "stream",
       "stream": "stdout",
       "text": [
        " 60\n",
        "Initial error: 0.0602\n",
        "Final error: 0.0380\n",
        "Image:  61\n",
        "Initial error: 0.2254\n",
        "Final error: 0.2724\n",
        "Image: "
       ]
      },
      {
       "output_type": "stream",
       "stream": "stdout",
       "text": [
        " 61\n",
        "Initial error: 0.0555\n",
        "Final error: 0.0311\n",
        "Image:  61\n",
        "Initial error: 0.1243\n",
        "Final error: 0.0287\n",
        "Image: "
       ]
      },
      {
       "output_type": "stream",
       "stream": "stdout",
       "text": [
        " 61\n",
        "Initial error: 0.1042\n",
        "Final error: 0.0339\n",
        "Image:  61\n",
        "Initial error: 0.0601\n",
        "Final error: 0.0251\n",
        "Image: "
       ]
      },
      {
       "output_type": "stream",
       "stream": "stdout",
       "text": [
        " 62\n",
        "Initial error: 0.2237\n",
        "Final error: 0.0364\n",
        "Image:  62\n",
        "Initial error: 0.0542\n",
        "Final error: 0.0359\n",
        "Image: "
       ]
      },
      {
       "output_type": "stream",
       "stream": "stdout",
       "text": [
        " 62\n",
        "Initial error: 0.1240\n",
        "Final error: 0.0351\n",
        "Image:  62\n",
        "Initial error: 0.1065\n",
        "Final error: 0.0339\n",
        "Image: "
       ]
      },
      {
       "output_type": "stream",
       "stream": "stdout",
       "text": [
        " 62\n",
        "Initial error: 0.0574\n",
        "Final error: 0.0349\n",
        "Image:  63\n",
        "Initial error: 0.2321\n",
        "Final error: 0.2126\n",
        "Image:  63\n",
        "Initial error: 0.1018\n",
        "Final error: 0.0421"
       ]
      },
      {
       "output_type": "stream",
       "stream": "stdout",
       "text": [
        "\n",
        "Image:  63\n",
        "Initial error: 0.1457\n",
        "Final error: 0.0422\n",
        "Image:  63\n",
        "Initial error: 0.1251\n",
        "Final error: 0.0340\n"
       ]
      },
      {
       "output_type": "stream",
       "stream": "stdout",
       "text": [
        "Image:  63\n",
        "Initial error: 0.1066\n",
        "Final error: 0.0318\n",
        "Image:  64\n",
        "Initial error: 0.2298\n",
        "Final error: 0.1263\n",
        "Image: "
       ]
      },
      {
       "output_type": "stream",
       "stream": "stdout",
       "text": [
        " 64\n",
        "Initial error: 0.0743\n",
        "Final error: 0.0315\n",
        "Image:  64\n",
        "Initial error: 0.1309\n",
        "Final error: 0.0259\n",
        "Image: "
       ]
      },
      {
       "output_type": "stream",
       "stream": "stdout",
       "text": [
        " 64\n",
        "Initial error: 0.1179\n",
        "Final error: 0.0351\n",
        "Image:  64\n",
        "Initial error: 0.0696\n",
        "Final error: 0.0258\n",
        "Image: "
       ]
      },
      {
       "output_type": "stream",
       "stream": "stdout",
       "text": [
        " 65\n",
        "Initial error: 0.2214\n",
        "Final error: 0.0278\n",
        "Image:  65\n",
        "Initial error: 0.0768\n",
        "Final error: 0.0301\n",
        "Image: "
       ]
      },
      {
       "output_type": "stream",
       "stream": "stdout",
       "text": [
        " 65\n",
        "Initial error: 0.1291\n",
        "Final error: 0.0291\n",
        "Image:  65\n",
        "Initial error: 0.1142\n",
        "Final error: 0.0287\n",
        "Image: "
       ]
      },
      {
       "output_type": "stream",
       "stream": "stdout",
       "text": [
        " 65\n",
        "Initial error: 0.0738\n",
        "Final error: 0.0292\n",
        "Image:  66\n",
        "Initial error: 0.2386\n",
        "Final error: 0.2736\n",
        "Image: "
       ]
      },
      {
       "output_type": "stream",
       "stream": "stdout",
       "text": [
        " 66\n",
        "Initial error: 0.1492\n",
        "Final error: 0.1251\n",
        "Image:  66\n",
        "Initial error: 0.1682\n",
        "Final error: 0.0821\n",
        "Image: "
       ]
      },
      {
       "output_type": "stream",
       "stream": "stdout",
       "text": [
        " 66\n",
        "Initial error: 0.1614\n",
        "Final error: 0.0980\n",
        "Image:  66\n",
        "Initial error: 0.1493\n",
        "Final error: 0.1118\n",
        "Image: "
       ]
      },
      {
       "output_type": "stream",
       "stream": "stdout",
       "text": [
        " 67\n",
        "Initial error: 0.2198\n",
        "Final error: 0.1220\n",
        "Image:  67\n",
        "Initial error: 0.0607\n",
        "Final error: 0.0649\n",
        "Image: "
       ]
      },
      {
       "output_type": "stream",
       "stream": "stdout",
       "text": [
        " 67\n",
        "Initial error: 0.1262\n",
        "Final error: 0.1142\n",
        "Image:  67\n",
        "Initial error: 0.1039\n",
        "Final error: 0.0540\n",
        "Image: "
       ]
      },
      {
       "output_type": "stream",
       "stream": "stdout",
       "text": [
        " 67\n",
        "Initial error: 0.0642\n",
        "Final error: 0.0591\n",
        "Image:  68\n",
        "Initial error: 0.2236\n",
        "Final error: 0.1063\n",
        "Image: "
       ]
      },
      {
       "output_type": "stream",
       "stream": "stdout",
       "text": [
        " 68\n",
        "Initial error: 0.0607\n",
        "Final error: 0.0311\n",
        "Image:  68\n",
        "Initial error: 0.1243\n",
        "Final error: 0.0364\n",
        "Image: "
       ]
      },
      {
       "output_type": "stream",
       "stream": "stdout",
       "text": [
        " 68\n",
        "Initial error: 0.1049\n",
        "Final error: 0.0335\n",
        "Image:  68\n",
        "Initial error: 0.0605\n",
        "Final error: 0.0287\n",
        "Image: "
       ]
      },
      {
       "output_type": "stream",
       "stream": "stdout",
       "text": [
        " 69\n",
        "Initial error: 0.2181\n",
        "Final error: 0.2043\n",
        "Image:  69\n",
        "Initial error: 0.0916\n",
        "Final error: 0.0388\n",
        "Image: "
       ]
      },
      {
       "output_type": "stream",
       "stream": "stdout",
       "text": [
        " 69\n",
        "Initial error: 0.1355\n",
        "Final error: 0.1351\n",
        "Image:  69\n",
        "Initial error: 0.1180\n",
        "Final error: 0.0343\n",
        "Image: "
       ]
      },
      {
       "output_type": "stream",
       "stream": "stdout",
       "text": [
        " 69\n",
        "Initial error: 0.0877\n",
        "Final error: 0.0336\n",
        "Image:  70\n",
        "Initial error: 0.2195\n",
        "Final error: 0.0892\n",
        "Image: "
       ]
      },
      {
       "output_type": "stream",
       "stream": "stdout",
       "text": [
        " 70\n",
        "Initial error: 0.1058\n",
        "Final error: 0.0429\n",
        "Image:  70\n",
        "Initial error: 0.1416\n",
        "Final error: 0.2059\n",
        "Image: "
       ]
      },
      {
       "output_type": "stream",
       "stream": "stdout",
       "text": [
        " 70\n",
        "Initial error: 0.1334\n",
        "Final error: 0.0409\n",
        "Image:  70\n",
        "Initial error: 0.1076\n",
        "Final error: 0.0336\n",
        "Image: "
       ]
      },
      {
       "output_type": "stream",
       "stream": "stdout",
       "text": [
        " 71\n",
        "Initial error: 0.2293\n",
        "Final error: 0.2795\n",
        "Image:  71\n",
        "Initial error: 0.0578\n",
        "Final error: 0.0905\n",
        "Image:  71\n",
        "Initial error: 0.1266\n",
        "Final error: 0.0821"
       ]
      },
      {
       "output_type": "stream",
       "stream": "stdout",
       "text": [
        "\n",
        "Image:  71\n",
        "Initial error: 0.1080\n",
        "Final error: 0.0894\n",
        "Image:  71\n",
        "Initial error: 0.0621\n",
        "Final error: 0.0770\n",
        "Image: "
       ]
      },
      {
       "output_type": "stream",
       "stream": "stdout",
       "text": [
        " 72\n",
        "Initial error: 0.2244\n",
        "Final error: 0.1077\n",
        "Image:  72\n",
        "Initial error: 0.0590\n",
        "Final error: 0.0269\n",
        "Image: "
       ]
      },
      {
       "output_type": "stream",
       "stream": "stdout",
       "text": [
        " 72\n",
        "Initial error: 0.1253\n",
        "Final error: 0.0255\n",
        "Image:  72\n",
        "Initial error: 0.1090\n",
        "Final error: 0.0355\n",
        "Image: "
       ]
      },
      {
       "output_type": "stream",
       "stream": "stdout",
       "text": [
        " 72\n",
        "Initial error: 0.0630\n",
        "Final error: 0.0260\n",
        "Image:  73\n",
        "Initial error: 0.2222\n",
        "Final error: 0.2019\n",
        "Image: "
       ]
      },
      {
       "output_type": "stream",
       "stream": "stdout",
       "text": [
        " 73\n",
        "Initial error: 0.0874\n",
        "Final error: 0.0321\n",
        "Image:  73\n",
        "Initial error: 0.1299\n",
        "Final error: 0.0341\n",
        "Image: "
       ]
      },
      {
       "output_type": "stream",
       "stream": "stdout",
       "text": [
        " 73\n",
        "Initial error: 0.1229\n",
        "Final error: 0.0930\n",
        "Image:  73\n",
        "Initial error: 0.0781\n",
        "Final error: 0.0317\n",
        "Image: "
       ]
      },
      {
       "output_type": "stream",
       "stream": "stdout",
       "text": [
        " 74\n",
        "Initial error: 0.2310\n",
        "Final error: 0.2539\n",
        "Image:  74\n",
        "Initial error: 0.1403\n",
        "Final error: 0.1054\n",
        "Image: "
       ]
      },
      {
       "output_type": "stream",
       "stream": "stdout",
       "text": [
        " 74\n",
        "Initial error: 0.1740\n",
        "Final error: 0.1569\n",
        "Image:  74\n",
        "Initial error: 0.1558\n",
        "Final error: 0.1484\n",
        "Image: "
       ]
      },
      {
       "output_type": "stream",
       "stream": "stdout",
       "text": [
        " 74\n",
        "Initial error: 0.1461\n",
        "Final error: 0.0950\n",
        "Image:  75\n",
        "Initial error: 0.2190\n",
        "Final error: 0.0265\n",
        "Image: "
       ]
      },
      {
       "output_type": "stream",
       "stream": "stdout",
       "text": [
        " 75\n",
        "Initial error: 0.0635\n",
        "Final error: 0.0307\n",
        "Image:  75\n",
        "Initial error: 0.1249\n",
        "Final error: 0.0348\n",
        "Image: "
       ]
      },
      {
       "output_type": "stream",
       "stream": "stdout",
       "text": [
        " 75\n",
        "Initial error: 0.1058\n",
        "Final error: 0.0319\n",
        "Image:  75\n",
        "Initial error: 0.0611\n",
        "Final error: 0.0328\n",
        "Image: "
       ]
      },
      {
       "output_type": "stream",
       "stream": "stdout",
       "text": [
        " 76\n",
        "Initial error: 0.2282\n",
        "Final error: 0.1019\n",
        "Image:  76\n",
        "Initial error: 0.0605\n",
        "Final error: 0.0186\n",
        "Image: "
       ]
      },
      {
       "output_type": "stream",
       "stream": "stdout",
       "text": [
        " 76\n",
        "Initial error: 0.1269\n",
        "Final error: 0.0273\n",
        "Image:  76\n",
        "Initial error: 0.1096\n",
        "Final error: 0.0266\n",
        "Image: "
       ]
      },
      {
       "output_type": "stream",
       "stream": "stdout",
       "text": [
        " 76\n",
        "Initial error: 0.0626\n",
        "Final error: 0.0230\n",
        "Image:  77\n",
        "Initial error: 0.2286\n",
        "Final error: 0.0266\n",
        "Image: "
       ]
      },
      {
       "output_type": "stream",
       "stream": "stdout",
       "text": [
        " 77\n",
        "Initial error: 0.0574\n",
        "Final error: 0.0271\n",
        "Image:  77\n",
        "Initial error: 0.1259\n",
        "Final error: 0.0263\n",
        "Image: "
       ]
      },
      {
       "output_type": "stream",
       "stream": "stdout",
       "text": [
        " 77\n",
        "Initial error: 0.1097\n",
        "Final error: 0.1455\n",
        "Image:  77\n",
        "Initial error: 0.0608\n",
        "Final error: 0.0276\n",
        "Image: "
       ]
      },
      {
       "output_type": "stream",
       "stream": "stdout",
       "text": [
        " 78\n",
        "Initial error: 0.2231\n",
        "Final error: 0.1195\n",
        "Image:  78\n",
        "Initial error: 0.0738\n",
        "Final error: 0.0309\n",
        "Image: "
       ]
      },
      {
       "output_type": "stream",
       "stream": "stdout",
       "text": [
        " 78\n",
        "Initial error: 0.1315\n",
        "Final error: 0.0344\n",
        "Image:  78\n",
        "Initial error: 0.1095\n",
        "Final error: 0.0321\n",
        "Image: "
       ]
      },
      {
       "output_type": "stream",
       "stream": "stdout",
       "text": [
        " 78\n",
        "Initial error: 0.0757\n",
        "Final error: 0.0314\n",
        "Image:  79\n",
        "Initial error: 0.2306\n",
        "Final error: 0.2156\n",
        "Image:  79\n",
        "Initial error: 0.0813\n",
        "Final error: 0.0415"
       ]
      },
      {
       "output_type": "stream",
       "stream": "stdout",
       "text": [
        "\n",
        "Image:  79\n",
        "Initial error: 0.1398\n",
        "Final error: 0.0239\n",
        "Image:  79\n",
        "Initial error: 0.1135\n",
        "Final error: 0.0833"
       ]
      },
      {
       "output_type": "stream",
       "stream": "stdout",
       "text": [
        "\n",
        "Image:  79\n",
        "Initial error: 0.0888\n",
        "Final error: 0.0393\n",
        "Image:  80\n",
        "Initial error: 0.2315\n",
        "Final error: 0.2346\n",
        "Image: "
       ]
      },
      {
       "output_type": "stream",
       "stream": "stdout",
       "text": [
        " 80\n",
        "Initial error: 0.0796\n",
        "Final error: 0.0225\n",
        "Image:  80\n",
        "Initial error: 0.1377\n",
        "Final error: 0.0211\n",
        "Image:  80\n",
        "Initial error: 0.1160\n",
        "Final error: 0.0204"
       ]
      },
      {
       "output_type": "stream",
       "stream": "stdout",
       "text": [
        "\n",
        "Image:  80\n",
        "Initial error: 0.0854\n",
        "Final error: 0.0208\n",
        "Image:  81\n",
        "Initial error: 0.2273\n",
        "Final error: 0.3394"
       ]
      },
      {
       "output_type": "stream",
       "stream": "stdout",
       "text": [
        "\n",
        "Image:  81\n",
        "Initial error: 0.0625\n",
        "Final error: 0.0404\n",
        "Image:  81\n",
        "Initial error: 0.1304\n",
        "Final error: 0.0315"
       ]
      },
      {
       "output_type": "stream",
       "stream": "stdout",
       "text": [
        "\n",
        "Image:  81\n",
        "Initial error: 0.1121\n",
        "Final error: 0.1548\n",
        "Image:  81\n",
        "Initial error: 0.0680\n",
        "Final error: 0.0495\n",
        "Image: "
       ]
      },
      {
       "output_type": "stream",
       "stream": "stdout",
       "text": [
        " 82\n",
        "Initial error: 0.2229\n",
        "Final error: 0.1321\n",
        "Image:  82\n",
        "Initial error: 0.0533\n",
        "Final error: 0.0364\n",
        "Image: "
       ]
      },
      {
       "output_type": "stream",
       "stream": "stdout",
       "text": [
        " 82\n",
        "Initial error: 0.1241\n",
        "Final error: 0.0263\n",
        "Image:  82\n",
        "Initial error: 0.1048\n",
        "Final error: 0.0218\n",
        "Image: "
       ]
      },
      {
       "output_type": "stream",
       "stream": "stdout",
       "text": [
        " 82\n",
        "Initial error: 0.0573\n",
        "Final error: 0.0333\n",
        "Image:  83\n",
        "Initial error: 0.2178\n",
        "Final error: 0.2501\n",
        "Image: "
       ]
      },
      {
       "output_type": "stream",
       "stream": "stdout",
       "text": [
        " 83\n",
        "Initial error: 0.0593\n",
        "Final error: 0.0892\n",
        "Image:  83\n",
        "Initial error: 0.1273\n",
        "Final error: 0.0850\n",
        "Image: "
       ]
      },
      {
       "output_type": "stream",
       "stream": "stdout",
       "text": [
        " 83\n",
        "Initial error: 0.1024\n",
        "Final error: 0.0858\n",
        "Image:  83\n",
        "Initial error: 0.0649\n",
        "Final error: 0.0919\n",
        "Image: "
       ]
      },
      {
       "output_type": "stream",
       "stream": "stdout",
       "text": [
        " 84\n",
        "Initial error: 0.2171\n",
        "Final error: 0.0670\n",
        "Image:  84\n",
        "Initial error: 0.1394\n",
        "Final error: 0.0732\n",
        "Image: "
       ]
      },
      {
       "output_type": "stream",
       "stream": "stdout",
       "text": [
        " 84\n",
        "Initial error: 0.1456\n",
        "Final error: 0.0687\n",
        "Image:  84\n",
        "Initial error: 0.1739\n",
        "Final error: 0.0882\n",
        "Image: "
       ]
      },
      {
       "output_type": "stream",
       "stream": "stdout",
       "text": [
        " 84\n",
        "Initial error: 0.1171\n",
        "Final error: 0.0707\n",
        "Image:  85\n",
        "Initial error: 0.2291\n",
        "Final error: 0.2027\n",
        "Image: "
       ]
      },
      {
       "output_type": "stream",
       "stream": "stdout",
       "text": [
        " 85\n",
        "Initial error: 0.0864\n",
        "Final error: 0.0479\n",
        "Image:  85\n",
        "Initial error: 0.1409\n",
        "Final error: 0.0308\n",
        "Image: "
       ]
      },
      {
       "output_type": "stream",
       "stream": "stdout",
       "text": [
        " 85\n",
        "Initial error: 0.1104\n",
        "Final error: 0.0794\n",
        "Image:  85\n",
        "Initial error: 0.0911\n",
        "Final error: 0.0431\n",
        "Image: "
       ]
      },
      {
       "output_type": "stream",
       "stream": "stdout",
       "text": [
        " 86\n",
        "Initial error: 0.2309\n",
        "Final error: 0.1713\n",
        "Image:  86\n",
        "Initial error: 0.0762\n",
        "Final error: 0.0553\n",
        "Image:  86\n",
        "Initial error: 0.1333\n",
        "Final error: 0.0312"
       ]
      },
      {
       "output_type": "stream",
       "stream": "stdout",
       "text": [
        "\n",
        "Image:  86\n",
        "Initial error: 0.1194\n",
        "Final error: 0.0630\n",
        "Image:  86\n",
        "Initial error: 0.0749\n",
        "Final error: 0.0416\n",
        "Image: "
       ]
      },
      {
       "output_type": "stream",
       "stream": "stdout",
       "text": [
        " 87\n",
        "Initial error: 0.2323\n",
        "Final error: 0.1731\n",
        "Image:  87\n",
        "Initial error: 0.1240\n",
        "Final error: 0.0488\n",
        "Image:  87\n",
        "Initial error: 0.1563\n",
        "Final error: 0.0705"
       ]
      },
      {
       "output_type": "stream",
       "stream": "stdout",
       "text": [
        "\n",
        "Image:  87\n",
        "Initial error: 0.1359\n",
        "Final error: 0.0589\n",
        "Image: "
       ]
      },
      {
       "output_type": "stream",
       "stream": "stdout",
       "text": [
        " 87\n",
        "Initial error: 0.1219\n",
        "Final error: 0.0767\n",
        "Image:  88\n",
        "Initial error: 0.2304\n",
        "Final error: 0.1937\n",
        "Image: "
       ]
      },
      {
       "output_type": "stream",
       "stream": "stdout",
       "text": [
        " 88\n",
        "Initial error: 0.1697\n",
        "Final error: 0.1879\n",
        "Image:  88\n",
        "Initial error: 0.1640\n",
        "Final error: 0.0987\n",
        "Image: "
       ]
      },
      {
       "output_type": "stream",
       "stream": "stdout",
       "text": [
        " 88\n",
        "Initial error: 0.1997\n",
        "Final error: 0.2163\n",
        "Image:  88\n",
        "Initial error: 0.1402\n",
        "Final error: 0.1168\n",
        "Image: "
       ]
      },
      {
       "output_type": "stream",
       "stream": "stdout",
       "text": [
        " 89\n",
        "Initial error: 0.2213\n",
        "Final error: 0.1786\n",
        "Image:  89\n",
        "Initial error: 0.1324\n",
        "Final error: 0.1264\n",
        "Image: "
       ]
      },
      {
       "output_type": "stream",
       "stream": "stdout",
       "text": [
        " 89\n",
        "Initial error: 0.1464\n",
        "Final error: 0.1522\n",
        "Image:  89\n",
        "Initial error: 0.1677\n",
        "Final error: 0.1030\n",
        "Image: "
       ]
      },
      {
       "output_type": "stream",
       "stream": "stdout",
       "text": [
        " 89\n",
        "Initial error: 0.1071\n",
        "Final error: 0.1414\n",
        "Image:  90\n",
        "Initial error: 0.2164\n",
        "Final error: 0.0422\n",
        "Image: "
       ]
      },
      {
       "output_type": "stream",
       "stream": "stdout",
       "text": [
        " 90\n",
        "Initial error: 0.0789\n",
        "Final error: 0.0348\n",
        "Image:  90\n",
        "Initial error: 0.1297\n",
        "Final error: 0.0400\n",
        "Image: "
       ]
      },
      {
       "output_type": "stream",
       "stream": "stdout",
       "text": [
        " 90\n",
        "Initial error: 0.1172\n",
        "Final error: 0.0948\n",
        "Image:  90\n",
        "Initial error: 0.0750\n",
        "Final error: 0.0387\n",
        "Image: "
       ]
      },
      {
       "output_type": "stream",
       "stream": "stdout",
       "text": [
        " 91\n",
        "Initial error: 0.2246\n",
        "Final error: 0.1951\n",
        "Image:  91\n",
        "Initial error: 0.0584\n",
        "Final error: 0.0775\n",
        "Image: "
       ]
      },
      {
       "output_type": "stream",
       "stream": "stdout",
       "text": [
        " 91\n",
        "Initial error: 0.1246\n",
        "Final error: 0.0552\n",
        "Image:  91\n",
        "Initial error: 0.1070\n",
        "Final error: 0.0509\n",
        "Image: "
       ]
      },
      {
       "output_type": "stream",
       "stream": "stdout",
       "text": [
        " 91\n",
        "Initial error: 0.0586\n",
        "Final error: 0.0529\n",
        "Image:  92\n",
        "Initial error: 0.2151\n",
        "Final error: 0.1348\n",
        "Image: "
       ]
      },
      {
       "output_type": "stream",
       "stream": "stdout",
       "text": [
        " 92\n",
        "Initial error: 0.0904\n",
        "Final error: 0.0743\n",
        "Image:  92\n",
        "Initial error: 0.1377\n",
        "Final error: 0.0643\n",
        "Image: "
       ]
      },
      {
       "output_type": "stream",
       "stream": "stdout",
       "text": [
        " 92\n",
        "Initial error: 0.1160\n",
        "Final error: 0.0762\n",
        "Image:  92\n",
        "Initial error: 0.0963\n",
        "Final error: 0.0606\n",
        "Image: "
       ]
      },
      {
       "output_type": "stream",
       "stream": "stdout",
       "text": [
        " 93\n",
        "Initial error: 0.2256\n",
        "Final error: 0.2225\n",
        "Image:  93\n",
        "Initial error: 0.0706\n",
        "Final error: 0.0325\n",
        "Image: "
       ]
      },
      {
       "output_type": "stream",
       "stream": "stdout",
       "text": [
        " 93\n",
        "Initial error: 0.1388\n",
        "Final error: 0.0698\n",
        "Image:  93\n",
        "Initial error: 0.1048\n",
        "Final error: 0.0959\n",
        "Image: "
       ]
      },
      {
       "output_type": "stream",
       "stream": "stdout",
       "text": [
        " 93\n",
        "Initial error: 0.0875\n",
        "Final error: 0.0347\n",
        "Image:  94\n",
        "Initial error: 0.2257\n",
        "Final error: 0.2542\n",
        "Image: "
       ]
      },
      {
       "output_type": "stream",
       "stream": "stdout",
       "text": [
        " 94\n",
        "Initial error: 0.0762\n",
        "Final error: 0.0314\n",
        "Image:  94\n",
        "Initial error: 0.1288\n",
        "Final error: 0.0296\n",
        "Image: "
       ]
      },
      {
       "output_type": "stream",
       "stream": "stdout",
       "text": [
        " 94\n",
        "Initial error: 0.1178\n",
        "Final error: 0.0454\n",
        "Image:  94\n",
        "Initial error: 0.0726\n",
        "Final error: 0.0400\n",
        "Image: "
       ]
      },
      {
       "output_type": "stream",
       "stream": "stdout",
       "text": [
        " 95\n",
        "Initial error: 0.2234\n",
        "Final error: 0.0820\n",
        "Image:  95\n",
        "Initial error: 0.1334\n",
        "Final error: 0.0768\n",
        "Image: "
       ]
      },
      {
       "output_type": "stream",
       "stream": "stdout",
       "text": [
        " 95\n",
        "Initial error: 0.1434\n",
        "Final error: 0.0734\n",
        "Image:  95\n",
        "Initial error: 0.1691\n",
        "Final error: 0.0950\n",
        "Image: "
       ]
      },
      {
       "output_type": "stream",
       "stream": "stdout",
       "text": [
        " 95\n",
        "Initial error: 0.1091\n",
        "Final error: 0.0879\n",
        "Image:  96\n",
        "Initial error: 0.2226\n",
        "Final error: 0.0258\n",
        "Image: "
       ]
      },
      {
       "output_type": "stream",
       "stream": "stdout",
       "text": [
        " 96\n",
        "Initial error: 0.0735\n",
        "Final error: 0.0515\n",
        "Image:  96\n",
        "Initial error: 0.1266\n",
        "Final error: 0.0219\n",
        "Image: "
       ]
      },
      {
       "output_type": "stream",
       "stream": "stdout",
       "text": [
        " 96\n",
        "Initial error: 0.1165\n",
        "Final error: 0.0263\n",
        "Image:  96\n",
        "Initial error: 0.0665\n",
        "Final error: 0.0213\n",
        "Image: "
       ]
      },
      {
       "output_type": "stream",
       "stream": "stdout",
       "text": [
        " 97\n",
        "Initial error: 0.2243\n",
        "Final error: 0.2161\n",
        "Image:  97\n",
        "Initial error: 0.0830\n",
        "Final error: 0.0341\n",
        "Image: "
       ]
      },
      {
       "output_type": "stream",
       "stream": "stdout",
       "text": [
        " 97\n",
        "Initial error: 0.1435\n",
        "Final error: 0.0334\n",
        "Image:  97\n",
        "Initial error: 0.1024\n",
        "Final error: 0.0592\n",
        "Image: "
       ]
      },
      {
       "output_type": "stream",
       "stream": "stdout",
       "text": [
        " 97\n",
        "Initial error: 0.0918\n",
        "Final error: 0.0328\n",
        "Image:  98\n",
        "Initial error: 0.2274\n",
        "Final error: 0.3319\n",
        "Image: "
       ]
      },
      {
       "output_type": "stream",
       "stream": "stdout",
       "text": [
        " 98\n",
        "Initial error: 0.0859\n",
        "Final error: 0.0995\n",
        "Image:  98\n",
        "Initial error: 0.1411\n",
        "Final error: 0.0675\n",
        "Image: "
       ]
      },
      {
       "output_type": "stream",
       "stream": "stdout",
       "text": [
        " 98\n",
        "Initial error: 0.1150\n",
        "Final error: 0.1029\n",
        "Image:  98\n",
        "Initial error: 0.0902\n",
        "Final error: 0.0717\n",
        "Image: "
       ]
      },
      {
       "output_type": "stream",
       "stream": "stdout",
       "text": [
        " 99\n",
        "Initial error: 0.2336\n",
        "Final error: 0.2121\n",
        "Image:  99\n",
        "Initial error: 0.0874\n",
        "Final error: 0.0889\n",
        "Image: "
       ]
      },
      {
       "output_type": "stream",
       "stream": "stdout",
       "text": [
        " 99\n",
        "Initial error: 0.1424\n",
        "Final error: 0.0843\n",
        "Image:  99\n",
        "Initial error: 0.1236\n",
        "Final error: 0.0881\n",
        "Image: "
       ]
      },
      {
       "output_type": "stream",
       "stream": "stdout",
       "text": [
        " 99\n",
        "Initial error: 0.0909\n",
        "Final error: 0.0873\n",
        "Image:  100\n",
        "Initial error: 0.2299\n",
        "Final error: 0.0679\n",
        "Image: "
       ]
      },
      {
       "output_type": "stream",
       "stream": "stdout",
       "text": [
        " 100\n",
        "Initial error: 0.0814\n",
        "Final error: 0.0747\n",
        "Image:  100\n",
        "Initial error: 0.1396\n",
        "Final error: 0.0698\n",
        "Image: "
       ]
      },
      {
       "output_type": "stream",
       "stream": "stdout",
       "text": [
        " 100\n",
        "Initial error: 0.1146\n",
        "Final error: 0.0706\n",
        "Image:  100\n",
        "Initial error: 0.0887\n",
        "Final error: 0.0763\n",
        "Image: "
       ]
      },
      {
       "output_type": "stream",
       "stream": "stdout",
       "text": [
        " 101\n",
        "Initial error: 0.2281\n",
        "Final error: 0.1542\n",
        "Image:  101\n",
        "Initial error: 0.0581\n",
        "Final error: 0.0637\n",
        "Image:  101\n",
        "Initial error: 0.1249\n",
        "Final error: 0.1194"
       ]
      },
      {
       "output_type": "stream",
       "stream": "stdout",
       "text": [
        "\n",
        "Image:  101\n",
        "Initial error: 0.1133\n",
        "Final error: 0.0609\n",
        "Image:  101\n",
        "Initial error: 0.0605\n",
        "Final error: 0.0400\n",
        "Image: "
       ]
      },
      {
       "output_type": "stream",
       "stream": "stdout",
       "text": [
        " 102\n",
        "Initial error: 0.2309\n",
        "Final error: 0.2108\n",
        "Image:  102\n",
        "Initial error: 0.1235\n",
        "Final error: 0.0594\n",
        "Image: "
       ]
      },
      {
       "output_type": "stream",
       "stream": "stdout",
       "text": [
        " 102\n",
        "Initial error: 0.1558\n",
        "Final error: 0.0592\n",
        "Image:  102\n",
        "Initial error: 0.1322\n",
        "Final error: 0.0632\n",
        "Image: "
       ]
      },
      {
       "output_type": "stream",
       "stream": "stdout",
       "text": [
        " 102\n",
        "Initial error: 0.1231\n",
        "Final error: 0.0583\n",
        "Image:  103\n",
        "Initial error: 0.2278\n",
        "Final error: 0.0578\n",
        "Image: "
       ]
      },
      {
       "output_type": "stream",
       "stream": "stdout",
       "text": [
        " 103\n",
        "Initial error: 0.0733\n",
        "Final error: 0.0318\n",
        "Image:  103\n",
        "Initial error: 0.1286\n",
        "Final error: 0.0320\n",
        "Image: "
       ]
      },
      {
       "output_type": "stream",
       "stream": "stdout",
       "text": [
        " 103\n",
        "Initial error: 0.1040\n",
        "Final error: 0.0526\n",
        "Image:  103\n",
        "Initial error: 0.0744\n",
        "Final error: 0.0306\n",
        "Image: "
       ]
      },
      {
       "output_type": "stream",
       "stream": "stdout",
       "text": [
        " 104\n",
        "Initial error: 0.2354\n",
        "Final error: 0.1767\n",
        "Image:  104\n",
        "Initial error: 0.0744\n",
        "Final error: 0.0454\n",
        "Image: "
       ]
      },
      {
       "output_type": "stream",
       "stream": "stdout",
       "text": [
        " 104\n",
        "Initial error: 0.1322\n",
        "Final error: 0.0341\n",
        "Image:  104\n",
        "Initial error: 0.1214\n",
        "Final error: 0.0407\n",
        "Image:  104\n",
        "Initial error: 0.0718\n",
        "Final error: 0.0509"
       ]
      },
      {
       "output_type": "stream",
       "stream": "stdout",
       "text": [
        "\n",
        "Image:  105\n",
        "Initial error: 0.2247\n",
        "Final error: 0.1006\n",
        "Image: "
       ]
      },
      {
       "output_type": "stream",
       "stream": "stdout",
       "text": [
        " 105\n",
        "Initial error: 0.0737\n",
        "Final error: 0.0772\n",
        "Image:  105\n",
        "Initial error: 0.1378\n",
        "Final error: 0.0364\n",
        "Image: "
       ]
      },
      {
       "output_type": "stream",
       "stream": "stdout",
       "text": [
        " 105\n",
        "Initial error: 0.1057\n",
        "Final error: 0.0730\n",
        "Image:  105\n",
        "Initial error: 0.0843\n",
        "Final error: 0.0327\n",
        "Image: "
       ]
      },
      {
       "output_type": "stream",
       "stream": "stdout",
       "text": [
        " 106\n",
        "Initial error: 0.2304\n",
        "Final error: 0.0300\n",
        "Image:  106\n",
        "Initial error: 0.1157\n",
        "Final error: 0.0337\n",
        "Image: "
       ]
      },
      {
       "output_type": "stream",
       "stream": "stdout",
       "text": [
        " 106\n",
        "Initial error: 0.1520\n",
        "Final error: 0.0354\n",
        "Image:  106\n",
        "Initial error: 0.1333\n",
        "Final error: 0.0275\n",
        "Image: "
       ]
      },
      {
       "output_type": "stream",
       "stream": "stdout",
       "text": [
        " 106\n",
        "Initial error: 0.1137\n",
        "Final error: 0.0252\n",
        "Image:  107\n",
        "Initial error: 0.2226\n",
        "Final error: 0.2673\n",
        "Image: "
       ]
      },
      {
       "output_type": "stream",
       "stream": "stdout",
       "text": [
        " 107\n",
        "Initial error: 0.1763\n",
        "Final error: 0.0937\n",
        "Image:  107\n",
        "Initial error: 0.1709\n",
        "Final error: 0.0904\n",
        "Image: "
       ]
      },
      {
       "output_type": "stream",
       "stream": "stdout",
       "text": [
        " 107\n",
        "Initial error: 0.2105\n",
        "Final error: 0.1686\n",
        "Image:  107\n",
        "Initial error: 0.1457\n",
        "Final error: 0.0776\n",
        "Image: "
       ]
      },
      {
       "output_type": "stream",
       "stream": "stdout",
       "text": [
        " 108\n",
        "Initial error: 0.2228\n",
        "Final error: 0.1273\n",
        "Image:  108\n",
        "Initial error: 0.1176\n",
        "Final error: 0.0336\n",
        "Image: "
       ]
      },
      {
       "output_type": "stream",
       "stream": "stdout",
       "text": [
        " 108\n",
        "Initial error: 0.1610\n",
        "Final error: 0.0925\n",
        "Image:  108\n",
        "Initial error: 0.1309\n",
        "Final error: 0.0289\n",
        "Image: "
       ]
      },
      {
       "output_type": "stream",
       "stream": "stdout",
       "text": [
        " 108\n",
        "Initial error: 0.1186\n",
        "Final error: 0.0299\n",
        "Image:  109\n",
        "Initial error: 0.2302\n",
        "Final error: 0.3422\n",
        "Image:  109\n",
        "Initial error: 0.0716\n",
        "Final error: 0.0505"
       ]
      },
      {
       "output_type": "stream",
       "stream": "stdout",
       "text": [
        "\n",
        "Image:  109\n",
        "Initial error: 0.1285\n",
        "Final error: 0.0542\n",
        "Image:  109\n",
        "Initial error: 0.1189\n",
        "Final error: 0.0486"
       ]
      },
      {
       "output_type": "stream",
       "stream": "stdout",
       "text": [
        "\n",
        "Image:  109\n",
        "Initial error: 0.0666\n",
        "Final error: 0.0647\n",
        "Image:  110\n",
        "Initial error: 0.2248\n",
        "Final error: 0.0275"
       ]
      },
      {
       "output_type": "stream",
       "stream": "stdout",
       "text": [
        "\n",
        "Image:  110\n",
        "Initial error: 0.0581\n",
        "Final error: 0.0297\n",
        "Image: "
       ]
      },
      {
       "output_type": "stream",
       "stream": "stdout",
       "text": [
        " 110\n",
        "Initial error: 0.1254\n",
        "Final error: 0.0333\n",
        "Image:  110\n",
        "Initial error: 0.1092\n",
        "Final error: 0.0338\n",
        "Image: "
       ]
      },
      {
       "output_type": "stream",
       "stream": "stdout",
       "text": [
        " 110\n",
        "Initial error: 0.0618\n",
        "Final error: 0.0327\n",
        "Image:  111\n",
        "Initial error: 0.2396\n",
        "Final error: 0.1081\n",
        "Image: "
       ]
      },
      {
       "output_type": "stream",
       "stream": "stdout",
       "text": [
        " 111\n",
        "Initial error: 0.0859\n",
        "Final error: 0.0802\n",
        "Image:  111\n",
        "Initial error: 0.1451\n",
        "Final error: 0.0736\n",
        "Image:  111\n",
        "Initial error: 0.1221\n",
        "Final error: 0.0720"
       ]
      },
      {
       "output_type": "stream",
       "stream": "stdout",
       "text": [
        "\n",
        "Image:  111\n",
        "Initial error: 0.0953\n",
        "Final error: 0.0704\n",
        "Image:  112\n",
        "Initial error: 0.2219\n",
        "Final error: 0.1006"
       ]
      },
      {
       "output_type": "stream",
       "stream": "stdout",
       "text": [
        "\n",
        "Image:  112\n",
        "Initial error: 0.0901\n",
        "Final error: 0.0557\n",
        "Image: "
       ]
      },
      {
       "output_type": "stream",
       "stream": "stdout",
       "text": [
        " 112\n",
        "Initial error: 0.1323\n",
        "Final error: 0.0391\n",
        "Image:  112\n",
        "Initial error: 0.1297\n",
        "Final error: 0.0429\n",
        "Image: "
       ]
      },
      {
       "output_type": "stream",
       "stream": "stdout",
       "text": [
        " 112\n",
        "Initial error: 0.0765\n",
        "Final error: 0.0468\n",
        "Image:  113\n",
        "Initial error: 0.2278\n",
        "Final error: 0.0532\n",
        "Image: "
       ]
      },
      {
       "output_type": "stream",
       "stream": "stdout",
       "text": [
        " 113\n",
        "Initial error: 0.0687\n",
        "Final error: 0.0191\n",
        "Image:  113\n",
        "Initial error: 0.1265\n",
        "Final error: 0.0163\n",
        "Image: "
       ]
      },
      {
       "output_type": "stream",
       "stream": "stdout",
       "text": [
        " 113\n",
        "Initial error: 0.1130\n",
        "Final error: 0.0223\n",
        "Image:  113\n",
        "Initial error: 0.0625\n",
        "Final error: 0.0239\n",
        "Image: "
       ]
      },
      {
       "output_type": "stream",
       "stream": "stdout",
       "text": [
        " 114\n",
        "Initial error: 0.2193\n",
        "Final error: 0.1031\n",
        "Image:  114\n",
        "Initial error: 0.0572\n",
        "Final error: 0.0614\n",
        "Image: "
       ]
      },
      {
       "output_type": "stream",
       "stream": "stdout",
       "text": [
        " 114\n",
        "Initial error: 0.1236\n",
        "Final error: 0.0578\n",
        "Image:  114\n",
        "Initial error: 0.0999\n",
        "Final error: 0.0489\n",
        "Image: "
       ]
      },
      {
       "output_type": "stream",
       "stream": "stdout",
       "text": [
        " 114\n",
        "Initial error: 0.0602\n",
        "Final error: 0.0481\n",
        "Image:  115\n",
        "Initial error: 0.2337\n",
        "Final error: 0.1226\n",
        "Image:  115\n",
        "Initial error: 0.0632\n",
        "Final error: 0.0669\n",
        "Image: "
       ]
      },
      {
       "output_type": "stream",
       "stream": "stdout",
       "text": [
        " 115\n",
        "Initial error: 0.1297\n",
        "Final error: 0.1177\n",
        "Image:  115\n",
        "Initial error: 0.1066\n",
        "Final error: 0.0786\n",
        "Image:  115\n",
        "Initial error: 0.0675\n",
        "Final error: 0.0776"
       ]
      },
      {
       "output_type": "stream",
       "stream": "stdout",
       "text": [
        "\n",
        "Image:  116\n",
        "Initial error: 0.2089\n",
        "Final error: 0.0722\n",
        "Image: "
       ]
      },
      {
       "output_type": "stream",
       "stream": "stdout",
       "text": [
        " 116\n",
        "Initial error: 0.0840\n",
        "Final error: 0.0878\n",
        "Image:  116\n",
        "Initial error: 0.1414\n",
        "Final error: 0.0989\n",
        "Image: "
       ]
      },
      {
       "output_type": "stream",
       "stream": "stdout",
       "text": [
        " 116\n",
        "Initial error: 0.1197\n",
        "Final error: 0.1182\n",
        "Image:  116\n",
        "Initial error: 0.0927\n",
        "Final error: 0.0678\n",
        "Image: "
       ]
      },
      {
       "output_type": "stream",
       "stream": "stdout",
       "text": [
        " 117\n",
        "Initial error: 0.2521\n",
        "Final error: 0.3316\n",
        "Image:  117\n",
        "Initial error: 0.1731\n",
        "Final error: 0.0681\n",
        "Image:  117\n",
        "Initial error: 0.1850\n",
        "Final error: 0.1610"
       ]
      },
      {
       "output_type": "stream",
       "stream": "stdout",
       "text": [
        "\n",
        "Image:  117\n",
        "Initial error: 0.1814\n",
        "Final error: 0.1125\n",
        "Image:  117\n",
        "Initial error: 0.1650\n",
        "Final error: 0.1488\n",
        "Image: "
       ]
      },
      {
       "output_type": "stream",
       "stream": "stdout",
       "text": [
        " 118\n",
        "Initial error: 0.2238\n",
        "Final error: 0.0668\n",
        "Image:  118\n",
        "Initial error: 0.1485\n",
        "Final error: 0.0857\n",
        "Image: "
       ]
      },
      {
       "output_type": "stream",
       "stream": "stdout",
       "text": [
        " 118\n",
        "Initial error: 0.1551\n",
        "Final error: 0.0894\n",
        "Image:  118\n",
        "Initial error: 0.1842\n",
        "Final error: 0.0832\n",
        "Image: "
       ]
      },
      {
       "output_type": "stream",
       "stream": "stdout",
       "text": [
        " 118\n",
        "Initial error: 0.1221\n",
        "Final error: 0.0736\n",
        "Image:  119\n",
        "Initial error: 0.2281\n",
        "Final error: 0.0326\n",
        "Image: "
       ]
      },
      {
       "output_type": "stream",
       "stream": "stdout",
       "text": [
        " 119\n",
        "Initial error: 0.0623\n",
        "Final error: 0.0357\n",
        "Image:  119\n",
        "Initial error: 0.1263\n",
        "Final error: 0.0328\n",
        "Image: "
       ]
      },
      {
       "output_type": "stream",
       "stream": "stdout",
       "text": [
        " 119\n",
        "Initial error: 0.1129\n",
        "Final error: 0.0290\n",
        "Image:  119\n",
        "Initial error: 0.0595\n",
        "Final error: 0.0335\n",
        "Image: "
       ]
      },
      {
       "output_type": "stream",
       "stream": "stdout",
       "text": [
        " 120\n",
        "Initial error: 0.2409\n",
        "Final error: 0.1275\n",
        "Image:  120\n",
        "Initial error: 0.1379\n",
        "Final error: 0.0521\n",
        "Image: "
       ]
      },
      {
       "output_type": "stream",
       "stream": "stdout",
       "text": [
        " 120\n",
        "Initial error: 0.1679\n",
        "Final error: 0.0974\n",
        "Image:  120\n",
        "Initial error: 0.1497\n",
        "Final error: 0.0671\n",
        "Image: "
       ]
      },
      {
       "output_type": "stream",
       "stream": "stdout",
       "text": [
        " 120\n",
        "Initial error: 0.1412\n",
        "Final error: 0.0776\n",
        "Image:  121\n",
        "Initial error: 0.2400\n",
        "Final error: 0.0599\n",
        "Image: "
       ]
      },
      {
       "output_type": "stream",
       "stream": "stdout",
       "text": [
        " 121\n",
        "Initial error: 0.1223\n",
        "Final error: 0.0458\n",
        "Image:  121\n",
        "Initial error: 0.1601\n",
        "Final error: 0.0507\n",
        "Image: "
       ]
      },
      {
       "output_type": "stream",
       "stream": "stdout",
       "text": [
        " 121\n",
        "Initial error: 0.1314\n",
        "Final error: 0.0390\n",
        "Image:  121\n",
        "Initial error: 0.1269\n",
        "Final error: 0.0468\n",
        "Image: "
       ]
      },
      {
       "output_type": "stream",
       "stream": "stdout",
       "text": [
        " 122\n",
        "Initial error: 0.2282\n",
        "Final error: 0.1483\n",
        "Image:  122\n",
        "Initial error: 0.0759\n",
        "Final error: 0.0524\n",
        "Image: "
       ]
      },
      {
       "output_type": "stream",
       "stream": "stdout",
       "text": [
        " 122\n",
        "Initial error: 0.1281\n",
        "Final error: 0.0989\n",
        "Image:  122\n",
        "Initial error: 0.1210\n",
        "Final error: 0.0427\n",
        "Image: "
       ]
      },
      {
       "output_type": "stream",
       "stream": "stdout",
       "text": [
        " 122\n",
        "Initial error: 0.0663\n",
        "Final error: 0.0785\n",
        "Image:  123\n",
        "Initial error: 0.2260\n",
        "Final error: 0.0310\n",
        "Image: "
       ]
      },
      {
       "output_type": "stream",
       "stream": "stdout",
       "text": [
        " 123\n",
        "Initial error: 0.0749\n",
        "Final error: 0.0659\n",
        "Image:  123\n",
        "Initial error: 0.1410\n",
        "Final error: 0.0224\n",
        "Image: "
       ]
      },
      {
       "output_type": "stream",
       "stream": "stdout",
       "text": [
        " 123\n",
        "Initial error: 0.1068\n",
        "Final error: 0.0701\n",
        "Image:  123\n",
        "Initial error: 0.0865\n",
        "Final error: 0.0204\n",
        "Image: "
       ]
      },
      {
       "output_type": "stream",
       "stream": "stdout",
       "text": [
        " 124\n",
        "Initial error: 0.2249\n",
        "Final error: 0.0812\n",
        "Image:  124\n",
        "Initial error: 0.0663\n",
        "Final error: 0.0375\n",
        "Image: "
       ]
      },
      {
       "output_type": "stream",
       "stream": "stdout",
       "text": [
        " 124\n",
        "Initial error: 0.1303\n",
        "Final error: 0.0337\n",
        "Image:  124\n",
        "Initial error: 0.1096\n",
        "Final error: 0.0369\n",
        "Image: "
       ]
      },
      {
       "output_type": "stream",
       "stream": "stdout",
       "text": [
        " 124\n",
        "Initial error: 0.0724\n",
        "Final error: 0.0370\n",
        "Image:  125\n",
        "Initial error: 0.2265\n",
        "Final error: 0.0297\n",
        "Image: "
       ]
      },
      {
       "output_type": "stream",
       "stream": "stdout",
       "text": [
        " 125\n",
        "Initial error: 0.0698\n",
        "Final error: 0.0213\n",
        "Image:  125\n",
        "Initial error: 0.1270\n",
        "Final error: 0.0240\n",
        "Image: "
       ]
      },
      {
       "output_type": "stream",
       "stream": "stdout",
       "text": [
        " 125\n",
        "Initial error: 0.1156\n",
        "Final error: 0.0297\n",
        "Image:  125\n",
        "Initial error: 0.0673\n",
        "Final error: 0.0249\n",
        "Image: "
       ]
      },
      {
       "output_type": "stream",
       "stream": "stdout",
       "text": [
        " 126\n",
        "Initial error: 0.2303\n",
        "Final error: 0.1547\n",
        "Image:  126\n",
        "Initial error: 0.0737\n",
        "Final error: 0.0193\n",
        "Image: "
       ]
      },
      {
       "output_type": "stream",
       "stream": "stdout",
       "text": [
        " 126\n",
        "Initial error: 0.1291\n",
        "Final error: 0.0253\n",
        "Image:  126\n",
        "Initial error: 0.1179\n",
        "Final error: 0.0636\n",
        "Image: "
       ]
      },
      {
       "output_type": "stream",
       "stream": "stdout",
       "text": [
        " 126\n",
        "Initial error: 0.0692\n",
        "Final error: 0.0206\n",
        "Image:  127\n",
        "Initial error: 0.2161\n",
        "Final error: 0.1052\n",
        "Image: "
       ]
      },
      {
       "output_type": "stream",
       "stream": "stdout",
       "text": [
        " 127\n",
        "Initial error: 0.1551\n",
        "Final error: 0.0983\n",
        "Image:  127\n",
        "Initial error: 0.1496\n",
        "Final error: 0.1050\n",
        "Image: "
       ]
      },
      {
       "output_type": "stream",
       "stream": "stdout",
       "text": [
        " 127\n",
        "Initial error: 0.1903\n",
        "Final error: 0.0796\n",
        "Image:  127\n",
        "Initial error: 0.1166\n",
        "Final error: 0.1074\n",
        "Image: "
       ]
      },
      {
       "output_type": "stream",
       "stream": "stdout",
       "text": [
        " 128\n",
        "Initial error: 0.2248\n",
        "Final error: 0.0687\n",
        "Image:  128\n",
        "Initial error: 0.0602\n",
        "Final error: 0.0262\n",
        "Image: "
       ]
      },
      {
       "output_type": "stream",
       "stream": "stdout",
       "text": [
        " 128\n",
        "Initial error: 0.1240\n",
        "Final error: 0.0267\n",
        "Image:  128\n",
        "Initial error: 0.1057\n",
        "Final error: 0.0261\n",
        "Image: "
       ]
      },
      {
       "output_type": "stream",
       "stream": "stdout",
       "text": [
        " 128\n",
        "Initial error: 0.0581\n",
        "Final error: 0.0296\n",
        "Image:  129\n",
        "Initial error: 0.2379\n",
        "Final error: 0.1804\n",
        "Image:  129\n",
        "Initial error: 0.1141\n",
        "Final error: 0.1088"
       ]
      },
      {
       "output_type": "stream",
       "stream": "stdout",
       "text": [
        "\n",
        "Image:  129\n",
        "Initial error: 0.1562\n",
        "Final error: 0.1204\n",
        "Image:  129\n",
        "Initial error: 0.1254\n",
        "Final error: 0.0887"
       ]
      },
      {
       "output_type": "stream",
       "stream": "stdout",
       "text": [
        "\n",
        "Image:  129\n",
        "Initial error: 0.1203\n",
        "Final error: 0.0907\n",
        "Image:  130\n",
        "Initial error: 0.2219\n",
        "Final error: 0.0640"
       ]
      },
      {
       "output_type": "stream",
       "stream": "stdout",
       "text": [
        "\n",
        "Image:  130\n",
        "Initial error: 0.0682\n",
        "Final error: 0.0338\n",
        "Image: "
       ]
      },
      {
       "output_type": "stream",
       "stream": "stdout",
       "text": [
        " 130\n",
        "Initial error: 0.1313\n",
        "Final error: 0.0237\n",
        "Image:  130\n",
        "Initial error: 0.1051\n",
        "Final error: 0.0317\n",
        "Image: "
       ]
      },
      {
       "output_type": "stream",
       "stream": "stdout",
       "text": [
        " 130\n",
        "Initial error: 0.0745\n",
        "Final error: 0.0278\n",
        "Image:  131\n",
        "Initial error: 0.2303\n",
        "Final error: 0.0558\n",
        "Image: "
       ]
      },
      {
       "output_type": "stream",
       "stream": "stdout",
       "text": [
        " 131\n",
        "Initial error: 0.0869\n",
        "Final error: 0.0407\n",
        "Image:  131\n",
        "Initial error: 0.1391\n",
        "Final error: 0.0423\n",
        "Image: "
       ]
      },
      {
       "output_type": "stream",
       "stream": "stdout",
       "text": [
        " 131\n",
        "Initial error: 0.1241\n",
        "Final error: 0.0417\n",
        "Image:  131\n",
        "Initial error: 0.0963\n",
        "Final error: 0.0379\n",
        "Image: "
       ]
      },
      {
       "output_type": "stream",
       "stream": "stdout",
       "text": [
        " 132\n",
        "Initial error: 0.2272\n",
        "Final error: 0.0662\n",
        "Image:  132\n",
        "Initial error: 0.0558\n",
        "Final error: 0.0264\n",
        "Image: "
       ]
      },
      {
       "output_type": "stream",
       "stream": "stdout",
       "text": [
        " 132\n",
        "Initial error: 0.1250\n",
        "Final error: 0.0265\n",
        "Image:  132\n",
        "Initial error: 0.1073\n",
        "Final error: 0.0310\n",
        "Image: "
       ]
      },
      {
       "output_type": "stream",
       "stream": "stdout",
       "text": [
        " 132\n",
        "Initial error: 0.0588\n",
        "Final error: 0.0288\n",
        "Image:  133\n",
        "Initial error: 0.2299\n",
        "Final error: 0.1657\n",
        "Image: "
       ]
      },
      {
       "output_type": "stream",
       "stream": "stdout",
       "text": [
        " 133\n",
        "Initial error: 0.0802\n",
        "Final error: 0.0337\n",
        "Image:  133\n",
        "Initial error: 0.1307\n",
        "Final error: 0.0841\n",
        "Image: "
       ]
      },
      {
       "output_type": "stream",
       "stream": "stdout",
       "text": [
        " 133\n",
        "Initial error: 0.1237\n",
        "Final error: 0.0278\n",
        "Image:  133\n",
        "Initial error: 0.0728\n",
        "Final error: 0.0286\n",
        "Image: "
       ]
      },
      {
       "output_type": "stream",
       "stream": "stdout",
       "text": [
        " 134\n",
        "Initial error: 0.2230\n",
        "Final error: 0.2148\n",
        "Image:  134\n",
        "Initial error: 0.0676\n",
        "Final error: 0.0299\n",
        "Image: "
       ]
      },
      {
       "output_type": "stream",
       "stream": "stdout",
       "text": [
        " 134\n",
        "Initial error: 0.1285\n",
        "Final error: 0.0586\n",
        "Image:  134\n",
        "Initial error: 0.1011\n",
        "Final error: 0.0701\n",
        "Image: "
       ]
      },
      {
       "output_type": "stream",
       "stream": "stdout",
       "text": [
        " 134\n",
        "Initial error: 0.0771\n",
        "Final error: 0.0257\n",
        "Image:  135\n",
        "Initial error: 0.2293\n",
        "Final error: 0.1883\n",
        "Image:  135\n",
        "Initial error: 0.0611\n",
        "Final error: 0.0276"
       ]
      },
      {
       "output_type": "stream",
       "stream": "stdout",
       "text": [
        "\n",
        "Image:  135\n",
        "Initial error: 0.1279\n",
        "Final error: 0.0354\n",
        "Image:  135\n",
        "Initial error: 0.1083\n",
        "Final error: 0.0285"
       ]
      },
      {
       "output_type": "stream",
       "stream": "stdout",
       "text": [
        "\n",
        "Image:  135\n",
        "Initial error: 0.0640\n",
        "Final error: 0.0258\n",
        "Image:  136\n",
        "Initial error: 0.2280\n",
        "Final error: 0.0240"
       ]
      },
      {
       "output_type": "stream",
       "stream": "stdout",
       "text": [
        "\n",
        "Image:  136\n",
        "Initial error: 0.0637\n",
        "Final error: 0.0270\n",
        "Image: "
       ]
      },
      {
       "output_type": "stream",
       "stream": "stdout",
       "text": [
        " 136\n",
        "Initial error: 0.1273\n",
        "Final error: 0.0275\n",
        "Image:  136\n",
        "Initial error: 0.1088\n",
        "Final error: 0.0243\n",
        "Image: "
       ]
      },
      {
       "output_type": "stream",
       "stream": "stdout",
       "text": [
        " 136\n",
        "Initial error: 0.0642\n",
        "Final error: 0.0201\n",
        "Image:  137\n",
        "Initial error: 0.2206\n",
        "Final error: 0.0660\n",
        "Image: "
       ]
      },
      {
       "output_type": "stream",
       "stream": "stdout",
       "text": [
        " 137\n",
        "Initial error: 0.0600\n",
        "Final error: 0.0638\n",
        "Image:  137\n",
        "Initial error: 0.1252\n",
        "Final error: 0.0675\n",
        "Image: "
       ]
      },
      {
       "output_type": "stream",
       "stream": "stdout",
       "text": [
        " 137\n",
        "Initial error: 0.1080\n",
        "Final error: 0.0604\n",
        "Image:  137\n",
        "Initial error: 0.0609\n",
        "Final error: 0.0608\n",
        "Image: "
       ]
      },
      {
       "output_type": "stream",
       "stream": "stdout",
       "text": [
        " 138\n",
        "Initial error: 0.2261\n",
        "Final error: 0.0192\n",
        "Image:  138\n",
        "Initial error: 0.0636\n",
        "Final error: 0.0270\n",
        "Image: "
       ]
      },
      {
       "output_type": "stream",
       "stream": "stdout",
       "text": [
        " 138\n",
        "Initial error: 0.1254\n",
        "Final error: 0.0228\n",
        "Image:  138\n",
        "Initial error: 0.1108\n",
        "Final error: 0.0252\n",
        "Image: "
       ]
      },
      {
       "output_type": "stream",
       "stream": "stdout",
       "text": [
        " 138\n",
        "Initial error: 0.0590\n",
        "Final error: 0.0237\n",
        "Image:  139\n",
        "Initial error: 0.2339\n",
        "Final error: 0.2211\n",
        "Image: "
       ]
      },
      {
       "output_type": "stream",
       "stream": "stdout",
       "text": [
        " 139\n",
        "Initial error: 0.0850\n",
        "Final error: 0.0829\n",
        "Image:  139\n",
        "Initial error: 0.1411\n",
        "Final error: 0.0704\n",
        "Image: "
       ]
      },
      {
       "output_type": "stream",
       "stream": "stdout",
       "text": [
        " 139\n",
        "Initial error: 0.1187\n",
        "Final error: 0.0792\n",
        "Image:  139\n",
        "Initial error: 0.0901\n",
        "Final error: 0.0747\n",
        "Image: "
       ]
      },
      {
       "output_type": "stream",
       "stream": "stdout",
       "text": [
        " 140\n",
        "Initial error: 0.2279\n",
        "Final error: 0.0311\n",
        "Image:  140\n",
        "Initial error: 0.0615\n",
        "Final error: 0.0333\n",
        "Image: "
       ]
      },
      {
       "output_type": "stream",
       "stream": "stdout",
       "text": [
        " 140\n",
        "Initial error: 0.1253\n",
        "Final error: 0.0361\n",
        "Image:  140\n",
        "Initial error: 0.1116\n",
        "Final error: 0.0364\n",
        "Image: "
       ]
      },
      {
       "output_type": "stream",
       "stream": "stdout",
       "text": [
        " 140\n",
        "Initial error: 0.0583\n",
        "Final error: 0.0292\n",
        "Image:  141\n",
        "Initial error: 0.2234\n",
        "Final error: 0.0197\n",
        "Image: "
       ]
      },
      {
       "output_type": "stream",
       "stream": "stdout",
       "text": [
        " 141\n",
        "Initial error: 0.0545\n",
        "Final error: 0.0251\n",
        "Image:  141\n",
        "Initial error: 0.1247\n",
        "Final error: 0.0223\n",
        "Image: "
       ]
      },
      {
       "output_type": "stream",
       "stream": "stdout",
       "text": [
        " 141\n",
        "Initial error: 0.1075\n",
        "Final error: 0.0224\n",
        "Image:  141\n",
        "Initial error: 0.0588\n",
        "Final error: 0.0153\n",
        "Image: "
       ]
      },
      {
       "output_type": "stream",
       "stream": "stdout",
       "text": [
        " 142\n",
        "Initial error: 0.2316\n",
        "Final error: 0.1876\n",
        "Image:  142\n",
        "Initial error: 0.0852\n",
        "Final error: 0.0760\n",
        "Image: "
       ]
      },
      {
       "output_type": "stream",
       "stream": "stdout",
       "text": [
        " 142\n",
        "Initial error: 0.1469\n",
        "Final error: 0.0678\n",
        "Image:  142\n",
        "Initial error: 0.1087\n",
        "Final error: 0.0787\n",
        "Image: "
       ]
      },
      {
       "output_type": "stream",
       "stream": "stdout",
       "text": [
        " 142\n",
        "Initial error: 0.0967\n",
        "Final error: 0.0172\n",
        "Image:  143\n",
        "Initial error: 0.2241\n",
        "Final error: 0.0263\n",
        "Image: "
       ]
      },
      {
       "output_type": "stream",
       "stream": "stdout",
       "text": [
        " 143\n",
        "Initial error: 0.0688\n",
        "Final error: 0.0227\n",
        "Image:  143\n",
        "Initial error: 0.1281\n",
        "Final error: 0.0298\n",
        "Image: "
       ]
      },
      {
       "output_type": "stream",
       "stream": "stdout",
       "text": [
        " 143\n",
        "Initial error: 0.1134\n",
        "Final error: 0.0444\n",
        "Image:  143\n",
        "Initial error: 0.0737\n",
        "Final error: 0.0241\n",
        "Image: "
       ]
      },
      {
       "output_type": "stream",
       "stream": "stdout",
       "text": [
        " 144\n",
        "Initial error: 0.2283\n",
        "Final error: 0.0510\n",
        "Image:  144\n",
        "Initial error: 0.0655\n",
        "Final error: 0.0514\n",
        "Image: "
       ]
      },
      {
       "output_type": "stream",
       "stream": "stdout",
       "text": [
        " 144\n",
        "Initial error: 0.1290\n",
        "Final error: 0.0481\n",
        "Image:  144\n",
        "Initial error: 0.1095\n",
        "Final error: 0.0521\n",
        "Image: "
       ]
      },
      {
       "output_type": "stream",
       "stream": "stdout",
       "text": [
        " 144\n",
        "Initial error: 0.0678\n",
        "Final error: 0.0526\n",
        "Image:  145\n",
        "Initial error: 0.2176\n",
        "Final error: 0.0820\n",
        "Image: "
       ]
      },
      {
       "output_type": "stream",
       "stream": "stdout",
       "text": [
        " 145\n",
        "Initial error: 0.0730\n",
        "Final error: 0.0413\n",
        "Image:  145\n",
        "Initial error: 0.1289\n",
        "Final error: 0.0558\n",
        "Image: "
       ]
      },
      {
       "output_type": "stream",
       "stream": "stdout",
       "text": [
        " 145\n",
        "Initial error: 0.1060\n",
        "Final error: 0.0552\n",
        "Image:  145\n",
        "Initial error: 0.0792\n",
        "Final error: 0.0585\n",
        "Image: "
       ]
      },
      {
       "output_type": "stream",
       "stream": "stdout",
       "text": [
        " 146\n",
        "Initial error: 0.2181\n",
        "Final error: 0.0752\n",
        "Image:  146\n",
        "Initial error: 0.0739\n",
        "Final error: 0.0327\n",
        "Image: "
       ]
      },
      {
       "output_type": "stream",
       "stream": "stdout",
       "text": [
        " 146\n",
        "Initial error: 0.1293\n",
        "Final error: 0.0318\n",
        "Image:  146\n",
        "Initial error: 0.1151\n",
        "Final error: 0.0655\n",
        "Image: "
       ]
      },
      {
       "output_type": "stream",
       "stream": "stdout",
       "text": [
        " 146\n",
        "Initial error: 0.0713\n",
        "Final error: 0.0338\n",
        "Image:  147\n",
        "Initial error: 0.2244\n",
        "Final error: 0.0246\n",
        "Image: "
       ]
      },
      {
       "output_type": "stream",
       "stream": "stdout",
       "text": [
        " 147\n",
        "Initial error: 0.0803\n",
        "Final error: 0.0709\n",
        "Image:  147\n",
        "Initial error: 0.1359\n",
        "Final error: 0.0228\n",
        "Image: "
       ]
      },
      {
       "output_type": "stream",
       "stream": "stdout",
       "text": [
        " 147\n",
        "Initial error: 0.1071\n",
        "Final error: 0.0660\n",
        "Image:  147\n",
        "Initial error: 0.0846\n",
        "Final error: 0.0212\n",
        "Image: "
       ]
      },
      {
       "output_type": "stream",
       "stream": "stdout",
       "text": [
        " 148\n",
        "Initial error: 0.2395\n",
        "Final error: 0.0545\n",
        "Image:  148\n",
        "Initial error: 0.1313\n",
        "Final error: 0.0483\n",
        "Image: "
       ]
      },
      {
       "output_type": "stream",
       "stream": "stdout",
       "text": [
        " 148\n",
        "Initial error: 0.1644\n",
        "Final error: 0.0524\n",
        "Image:  148\n",
        "Initial error: 0.1376\n",
        "Final error: 0.1144\n",
        "Image: "
       ]
      },
      {
       "output_type": "stream",
       "stream": "stdout",
       "text": [
        " 148\n",
        "Initial error: 0.1336\n",
        "Final error: 0.0485\n",
        "Image:  149\n",
        "Initial error: 0.2332\n",
        "Final error: 0.1798\n",
        "Image: "
       ]
      },
      {
       "output_type": "stream",
       "stream": "stdout",
       "text": [
        " 149\n",
        "Initial error: 0.1154\n",
        "Final error: 0.0456\n",
        "Image:  149\n",
        "Initial error: 0.1590\n",
        "Final error: 0.0630\n",
        "Image: "
       ]
      },
      {
       "output_type": "stream",
       "stream": "stdout",
       "text": [
        " 149\n",
        "Initial error: 0.1233\n",
        "Final error: 0.0545\n",
        "Image:  149\n",
        "Initial error: 0.1215\n",
        "Final error: 0.0451\n",
        "Image: "
       ]
      },
      {
       "output_type": "stream",
       "stream": "stdout",
       "text": [
        " 150\n",
        "Initial error: 0.2319\n",
        "Final error: 0.0721\n",
        "Image:  150\n",
        "Initial error: 0.1262\n",
        "Final error: 0.0524\n",
        "Image: "
       ]
      },
      {
       "output_type": "stream",
       "stream": "stdout",
       "text": [
        " 150\n",
        "Initial error: 0.1564\n",
        "Final error: 0.0434\n",
        "Image:  150\n",
        "Initial error: 0.1382\n",
        "Final error: 0.0427\n",
        "Image: "
       ]
      },
      {
       "output_type": "stream",
       "stream": "stdout",
       "text": [
        " 150\n",
        "Initial error: 0.1252\n",
        "Final error: 0.0548\n",
        "Image:  151\n",
        "Initial error: 0.2228\n",
        "Final error: 0.1542\n",
        "Image: "
       ]
      },
      {
       "output_type": "stream",
       "stream": "stdout",
       "text": [
        " 151\n",
        "Initial error: 0.1691\n",
        "Final error: 0.0917\n",
        "Image:  151\n",
        "Initial error: 0.1606\n",
        "Final error: 0.0947\n",
        "Image: "
       ]
      },
      {
       "output_type": "stream",
       "stream": "stdout",
       "text": [
        " 151\n",
        "Initial error: 0.2055\n",
        "Final error: 0.1561\n",
        "Image:  151\n",
        "Initial error: 0.1277\n",
        "Final error: 0.0977\n",
        "Image: "
       ]
      },
      {
       "output_type": "stream",
       "stream": "stdout",
       "text": [
        " 152\n",
        "Initial error: 0.2134\n",
        "Final error: 0.1241\n",
        "Image:  152\n",
        "Initial error: 0.1504\n",
        "Final error: 0.0650\n",
        "Image: "
       ]
      },
      {
       "output_type": "stream",
       "stream": "stdout",
       "text": [
        " 152\n",
        "Initial error: 0.1517\n",
        "Final error: 0.1279\n",
        "Image:  152\n",
        "Initial error: 0.1843\n",
        "Final error: 0.1797\n",
        "Image: "
       ]
      },
      {
       "output_type": "stream",
       "stream": "stdout",
       "text": [
        " 152\n",
        "Initial error: 0.1203\n",
        "Final error: 0.0376\n",
        "Image:  153\n",
        "Initial error: 0.2291\n",
        "Final error: 0.0284\n",
        "Image: "
       ]
      },
      {
       "output_type": "stream",
       "stream": "stdout",
       "text": [
        " 153\n",
        "Initial error: 0.0712\n",
        "Final error: 0.0267\n",
        "Image:  153\n",
        "Initial error: 0.1268\n",
        "Final error: 0.0249\n",
        "Image: "
       ]
      },
      {
       "output_type": "stream",
       "stream": "stdout",
       "text": [
        " 153\n",
        "Initial error: 0.1176\n",
        "Final error: 0.0287\n",
        "Image:  153\n",
        "Initial error: 0.0633\n",
        "Final error: 0.0295\n",
        "Image: "
       ]
      },
      {
       "output_type": "stream",
       "stream": "stdout",
       "text": [
        " 154\n",
        "Initial error: 0.2262\n",
        "Final error: 0.0258\n",
        "Image:  154\n",
        "Initial error: 0.0700\n",
        "Final error: 0.0170\n",
        "Image: "
       ]
      },
      {
       "output_type": "stream",
       "stream": "stdout",
       "text": [
        " 154\n",
        "Initial error: 0.1260\n",
        "Final error: 0.0228\n",
        "Image:  154\n",
        "Initial error: 0.1126\n",
        "Final error: 0.0198\n",
        "Image: "
       ]
      },
      {
       "output_type": "stream",
       "stream": "stdout",
       "text": [
        " 154\n",
        "Initial error: 0.0655\n",
        "Final error: 0.0225\n",
        "Image:  155\n",
        "Initial error: 0.2299\n",
        "Final error: 0.0476\n",
        "Image: "
       ]
      },
      {
       "output_type": "stream",
       "stream": "stdout",
       "text": [
        " 155\n",
        "Initial error: 0.1068\n",
        "Final error: 0.0359\n",
        "Image:  155\n",
        "Initial error: 0.1519\n",
        "Final error: 0.1290\n",
        "Image: "
       ]
      },
      {
       "output_type": "stream",
       "stream": "stdout",
       "text": [
        " 155\n",
        "Initial error: 0.1280\n",
        "Final error: 0.1004\n",
        "Image:  155\n",
        "Initial error: 0.1060\n",
        "Final error: 0.0322\n",
        "Image: "
       ]
      },
      {
       "output_type": "stream",
       "stream": "stdout",
       "text": [
        " 156\n",
        "Initial error: 0.2257\n",
        "Final error: 0.0968\n",
        "Image:  156\n",
        "Initial error: 0.0655\n",
        "Final error: 0.0192\n",
        "Image: "
       ]
      },
      {
       "output_type": "stream",
       "stream": "stdout",
       "text": [
        " 156\n",
        "Initial error: 0.1267\n",
        "Final error: 0.0228\n",
        "Image:  156\n",
        "Initial error: 0.1115\n",
        "Final error: 0.0249\n",
        "Image: "
       ]
      },
      {
       "output_type": "stream",
       "stream": "stdout",
       "text": [
        " 156\n",
        "Initial error: 0.0624\n",
        "Final error: 0.0279\n",
        "Image:  157\n",
        "Initial error: 0.2171\n",
        "Final error: 0.0540\n",
        "Image: "
       ]
      },
      {
       "output_type": "stream",
       "stream": "stdout",
       "text": [
        " 157\n",
        "Initial error: 0.0661\n",
        "Final error: 0.0304\n",
        "Image:  157\n",
        "Initial error: 0.1262\n",
        "Final error: 0.0225\n",
        "Image: "
       ]
      },
      {
       "output_type": "stream",
       "stream": "stdout",
       "text": [
        " 157\n",
        "Initial error: 0.1050\n",
        "Final error: 0.0193\n",
        "Image:  157\n",
        "Initial error: 0.0710\n",
        "Final error: 0.0224\n",
        "Image: "
       ]
      },
      {
       "output_type": "stream",
       "stream": "stdout",
       "text": [
        " 158\n",
        "Initial error: 0.2277\n",
        "Final error: 0.1250\n",
        "Image:  158\n",
        "Initial error: 0.0712\n",
        "Final error: 0.0656\n",
        "Image: "
       ]
      },
      {
       "output_type": "stream",
       "stream": "stdout",
       "text": [
        " 158\n",
        "Initial error: 0.1383\n",
        "Final error: 0.0454\n",
        "Image:  158\n",
        "Initial error: 0.1054\n",
        "Final error: 0.0703\n",
        "Image: "
       ]
      },
      {
       "output_type": "stream",
       "stream": "stdout",
       "text": [
        " 158\n",
        "Initial error: 0.0858\n",
        "Final error: 0.0511\n",
        "Image:  159\n",
        "Initial error: 0.2282\n",
        "Final error: 0.0263\n",
        "Image: "
       ]
      },
      {
       "output_type": "stream",
       "stream": "stdout",
       "text": [
        " 159\n",
        "Initial error: 0.0594\n",
        "Final error: 0.0204\n",
        "Image:  159\n",
        "Initial error: 0.1250\n",
        "Final error: 0.0164\n",
        "Image: "
       ]
      },
      {
       "output_type": "stream",
       "stream": "stdout",
       "text": [
        " 159\n",
        "Initial error: 0.1090\n",
        "Final error: 0.0221\n",
        "Image:  159\n",
        "Initial error: 0.0582\n",
        "Final error: 0.0254\n",
        "Image: "
       ]
      },
      {
       "output_type": "stream",
       "stream": "stdout",
       "text": [
        " 160\n",
        "Initial error: 0.2247\n",
        "Final error: 0.1275\n",
        "Image:  160\n",
        "Initial error: 0.0737\n",
        "Final error: 0.0463\n",
        "Image: "
       ]
      },
      {
       "output_type": "stream",
       "stream": "stdout",
       "text": [
        " 160\n",
        "Initial error: 0.1352\n",
        "Final error: 0.0324\n",
        "Image:  160\n",
        "Initial error: 0.1076\n",
        "Final error: 0.0445\n",
        "Image: "
       ]
      },
      {
       "output_type": "stream",
       "stream": "stdout",
       "text": [
        " 160\n",
        "Initial error: 0.0830\n",
        "Final error: 0.0512\n",
        "Image:  161\n",
        "Initial error: 0.2229\n",
        "Final error: 0.0154\n",
        "Image: "
       ]
      },
      {
       "output_type": "stream",
       "stream": "stdout",
       "text": [
        " 161\n",
        "Initial error: 0.0732\n",
        "Final error: 0.0777\n",
        "Image:  161\n",
        "Initial error: 0.1364\n",
        "Final error: 0.0294\n",
        "Image: "
       ]
      },
      {
       "output_type": "stream",
       "stream": "stdout",
       "text": [
        " 161\n",
        "Initial error: 0.1044\n",
        "Final error: 0.0548\n",
        "Image:  161\n",
        "Initial error: 0.0842\n",
        "Final error: 0.0154\n",
        "Image: "
       ]
      },
      {
       "output_type": "stream",
       "stream": "stdout",
       "text": [
        " 162\n",
        "Initial error: 0.2301\n",
        "Final error: 0.0814\n",
        "Image:  162\n",
        "Initial error: 0.0992\n",
        "Final error: 0.0353\n",
        "Image: "
       ]
      },
      {
       "output_type": "stream",
       "stream": "stdout",
       "text": [
        " 162\n",
        "Initial error: 0.1506\n",
        "Final error: 0.0350\n",
        "Image:  162\n",
        "Initial error: 0.1217\n",
        "Final error: 0.0669\n",
        "Image: "
       ]
      },
      {
       "output_type": "stream",
       "stream": "stdout",
       "text": [
        " 162\n",
        "Initial error: 0.1031\n",
        "Final error: 0.0392\n",
        "Image:  163\n",
        "Initial error: 0.2209\n",
        "Final error: 0.1011\n",
        "Image: "
       ]
      },
      {
       "output_type": "stream",
       "stream": "stdout",
       "text": [
        " 163\n",
        "Initial error: 0.0614\n",
        "Final error: 0.0294\n",
        "Image:  163\n",
        "Initial error: 0.1263\n",
        "Final error: 0.0214\n",
        "Image: "
       ]
      },
      {
       "output_type": "stream",
       "stream": "stdout",
       "text": [
        " 163\n",
        "Initial error: 0.1066\n",
        "Final error: 0.0253\n",
        "Image:  163\n",
        "Initial error: 0.0641\n",
        "Final error: 0.0251\n",
        "Image: "
       ]
      },
      {
       "output_type": "stream",
       "stream": "stdout",
       "text": [
        " 164\n",
        "Initial error: 0.2240\n",
        "Final error: 0.0381\n",
        "Image:  164\n",
        "Initial error: 0.0597\n",
        "Final error: 0.0185\n",
        "Image: "
       ]
      },
      {
       "output_type": "stream",
       "stream": "stdout",
       "text": [
        " 164\n",
        "Initial error: 0.1270\n",
        "Final error: 0.0209\n",
        "Image:  164\n",
        "Initial error: 0.1059\n",
        "Final error: 0.0217\n",
        "Image: "
       ]
      },
      {
       "output_type": "stream",
       "stream": "stdout",
       "text": [
        " 164\n",
        "Initial error: 0.0632\n",
        "Final error: 0.0244\n",
        "Image:  165\n",
        "Initial error: 0.2353\n",
        "Final error: 0.1767\n",
        "Image: "
       ]
      },
      {
       "output_type": "stream",
       "stream": "stdout",
       "text": [
        " 165\n",
        "Initial error: 0.0787\n",
        "Final error: 0.0554\n",
        "Image:  165\n",
        "Initial error: 0.1397\n",
        "Final error: 0.0290\n",
        "Image: "
       ]
      },
      {
       "output_type": "stream",
       "stream": "stdout",
       "text": [
        " 165\n",
        "Initial error: 0.1137\n",
        "Final error: 0.0620\n",
        "Image:  165\n",
        "Initial error: 0.0895\n",
        "Final error: 0.0226\n",
        "Image: "
       ]
      },
      {
       "output_type": "stream",
       "stream": "stdout",
       "text": [
        " 166\n",
        "Initial error: 0.2259\n",
        "Final error: 0.1347\n",
        "Image:  166\n",
        "Initial error: 0.0547\n",
        "Final error: 0.0537\n",
        "Image: "
       ]
      },
      {
       "output_type": "stream",
       "stream": "stdout",
       "text": [
        " 166\n",
        "Initial error: 0.1246\n",
        "Final error: 0.0523\n",
        "Image:  166\n",
        "Initial error: 0.1052\n",
        "Final error: 0.0460\n",
        "Image: "
       ]
      },
      {
       "output_type": "stream",
       "stream": "stdout",
       "text": [
        " 166\n",
        "Initial error: 0.0586\n",
        "Final error: 0.0506\n",
        "Image:  167\n",
        "Initial error: 0.2178\n",
        "Final error: 0.0473\n",
        "Image: "
       ]
      },
      {
       "output_type": "stream",
       "stream": "stdout",
       "text": [
        " 167\n",
        "Initial error: 0.0540\n",
        "Final error: 0.0162\n",
        "Image:  167\n",
        "Initial error: 0.1250\n",
        "Final error: 0.0195\n",
        "Image: "
       ]
      },
      {
       "output_type": "stream",
       "stream": "stdout",
       "text": [
        " 167\n",
        "Initial error: 0.1066\n",
        "Final error: 0.0139\n",
        "Image:  167\n",
        "Initial error: 0.0610\n",
        "Final error: 0.0172\n",
        "Image: "
       ]
      },
      {
       "output_type": "stream",
       "stream": "stdout",
       "text": [
        " 168\n",
        "Initial error: 0.2129\n",
        "Final error: 0.1329\n",
        "Image:  168\n",
        "Initial error: 0.1577\n",
        "Final error: 0.0919\n",
        "Image: "
       ]
      },
      {
       "output_type": "stream",
       "stream": "stdout",
       "text": [
        " 168\n",
        "Initial error: 0.1557\n",
        "Final error: 0.0920\n",
        "Image:  168\n",
        "Initial error: 0.1893\n",
        "Final error: 0.2184\n",
        "Image: "
       ]
      },
      {
       "output_type": "stream",
       "stream": "stdout",
       "text": [
        " 168\n",
        "Initial error: 0.1255\n",
        "Final error: 0.0743\n",
        "Image:  169\n",
        "Initial error: 0.2249\n",
        "Final error: 0.1246\n",
        "Image: "
       ]
      },
      {
       "output_type": "stream",
       "stream": "stdout",
       "text": [
        " 169\n",
        "Initial error: 0.0719\n",
        "Final error: 0.0576\n",
        "Image:  169\n",
        "Initial error: 0.1336\n",
        "Final error: 0.0353\n",
        "Image: "
       ]
      },
      {
       "output_type": "stream",
       "stream": "stdout",
       "text": [
        " 169\n",
        "Initial error: 0.1093\n",
        "Final error: 0.0623\n",
        "Image:  169\n",
        "Initial error: 0.0797\n",
        "Final error: 0.0283\n",
        "Image:  170\n",
        "Initial error: 0.2193\n",
        "Final error: 0.2389"
       ]
      },
      {
       "output_type": "stream",
       "stream": "stdout",
       "text": [
        "\n",
        "Image:  170\n",
        "Initial error: 0.0599\n",
        "Final error: 0.0437\n",
        "Image:  170\n",
        "Initial error: 0.1227\n",
        "Final error: 0.0546\n",
        "Image: "
       ]
      },
      {
       "output_type": "stream",
       "stream": "stdout",
       "text": [
        " 170\n",
        "Initial error: 0.1083\n",
        "Final error: 0.0517\n",
        "Image:  170\n",
        "Initial error: 0.0584\n",
        "Final error: 0.0445\n",
        "Image:  171\n",
        "Initial error: 0.2207\n",
        "Final error: 0.1021"
       ]
      },
      {
       "output_type": "stream",
       "stream": "stdout",
       "text": [
        "\n",
        "Image:  171\n",
        "Initial error: 0.1594\n",
        "Final error: 0.1026\n",
        "Image: "
       ]
      },
      {
       "output_type": "stream",
       "stream": "stdout",
       "text": [
        " 171\n",
        "Initial error: 0.1557\n",
        "Final error: 0.1014\n",
        "Image:  171\n",
        "Initial error: 0.1949\n",
        "Final error: 0.1095\n",
        "Image: "
       ]
      },
      {
       "output_type": "stream",
       "stream": "stdout",
       "text": [
        " 171\n",
        "Initial error: 0.1213\n",
        "Final error: 0.1063\n",
        "Image:  172\n",
        "Initial error: 0.2175\n",
        "Final error: 0.2152\n",
        "Image: "
       ]
      },
      {
       "output_type": "stream",
       "stream": "stdout",
       "text": [
        " 172\n",
        "Initial error: 0.0737\n",
        "Final error: 0.0861\n",
        "Image:  172\n",
        "Initial error: 0.1312\n",
        "Final error: 0.1090\n",
        "Image: "
       ]
      },
      {
       "output_type": "stream",
       "stream": "stdout",
       "text": [
        " 172\n",
        "Initial error: 0.1155\n",
        "Final error: 0.0926\n",
        "Image:  172\n",
        "Initial error: 0.0752\n",
        "Final error: 0.0695\n",
        "Image: "
       ]
      },
      {
       "output_type": "stream",
       "stream": "stdout",
       "text": [
        " 173\n",
        "Initial error: 0.2280\n",
        "Final error: 0.0727\n",
        "Image:  173\n",
        "Initial error: 0.0683\n",
        "Final error: 0.0305\n",
        "Image: "
       ]
      },
      {
       "output_type": "stream",
       "stream": "stdout",
       "text": [
        " 173\n",
        "Initial error: 0.1259\n",
        "Final error: 0.0317\n",
        "Image:  173\n",
        "Initial error: 0.1158\n",
        "Final error: 0.0311\n",
        "Image: "
       ]
      },
      {
       "output_type": "stream",
       "stream": "stdout",
       "text": [
        " 173\n",
        "Initial error: 0.0585\n",
        "Final error: 0.0343\n",
        "Image:  174\n",
        "Initial error: 0.2335\n",
        "Final error: 0.0800\n",
        "Image:  174\n",
        "Initial error: 0.0793\n",
        "Final error: 0.0708"
       ]
      },
      {
       "output_type": "stream",
       "stream": "stdout",
       "text": [
        "\n",
        "Image:  174\n",
        "Initial error: 0.1325\n",
        "Final error: 0.0808\n",
        "Image:  174\n",
        "Initial error: 0.1233\n",
        "Final error: 0.0737"
       ]
      },
      {
       "output_type": "stream",
       "stream": "stdout",
       "text": [
        "\n",
        "Image:  174\n",
        "Initial error: 0.0734\n",
        "Final error: 0.0765\n",
        "Image: "
       ]
      },
      {
       "output_type": "stream",
       "stream": "stdout",
       "text": [
        " 175\n",
        "Initial error: 0.2296\n",
        "Final error: 0.0889\n",
        "Image:  175\n",
        "Initial error: 0.0976\n",
        "Final error: 0.0472\n",
        "Image: "
       ]
      },
      {
       "output_type": "stream",
       "stream": "stdout",
       "text": [
        " 175\n",
        "Initial error: 0.1438\n",
        "Final error: 0.0340\n",
        "Image:  175\n",
        "Initial error: 0.1232\n",
        "Final error: 0.0458\n",
        "Image: "
       ]
      },
      {
       "output_type": "stream",
       "stream": "stdout",
       "text": [
        " 175\n",
        "Initial error: 0.0933\n",
        "Final error: 0.0285\n",
        "Image:  176\n",
        "Initial error: 0.2376\n",
        "Final error: 0.1814\n",
        "Image: "
       ]
      },
      {
       "output_type": "stream",
       "stream": "stdout",
       "text": [
        " 176\n",
        "Initial error: 0.1170\n",
        "Final error: 0.0597\n",
        "Image:  176\n",
        "Initial error: 0.1568\n",
        "Final error: 0.0417\n",
        "Image: "
       ]
      },
      {
       "output_type": "stream",
       "stream": "stdout",
       "text": [
        " 176\n",
        "Initial error: 0.1265\n",
        "Final error: 0.0387\n",
        "Image:  176\n",
        "Initial error: 0.1227\n",
        "Final error: 0.0367\n",
        "Image: "
       ]
      },
      {
       "output_type": "stream",
       "stream": "stdout",
       "text": [
        " 177\n",
        "Initial error: 0.2341\n",
        "Final error: 0.0609\n",
        "Image:  177\n",
        "Initial error: 0.1354\n",
        "Final error: 0.0397\n",
        "Image: "
       ]
      },
      {
       "output_type": "stream",
       "stream": "stdout",
       "text": [
        " 177\n",
        "Initial error: 0.1660\n",
        "Final error: 0.0380\n",
        "Image:  177\n",
        "Initial error: 0.1409\n",
        "Final error: 0.0393\n",
        "Image: "
       ]
      },
      {
       "output_type": "stream",
       "stream": "stdout",
       "text": [
        " 177\n",
        "Initial error: 0.1360\n",
        "Final error: 0.0307\n",
        "Image:  178\n",
        "Initial error: 0.2265\n",
        "Final error: 0.1266\n",
        "Image: "
       ]
      },
      {
       "output_type": "stream",
       "stream": "stdout",
       "text": [
        " 178\n",
        "Initial error: 0.0569\n",
        "Final error: 0.0226\n",
        "Image:  178\n",
        "Initial error: 0.1251\n",
        "Final error: 0.0362\n",
        "Image: "
       ]
      },
      {
       "output_type": "stream",
       "stream": "stdout",
       "text": [
        " 178\n",
        "Initial error: 0.1043\n",
        "Final error: 0.0213\n",
        "Image:  178\n",
        "Initial error: 0.0583\n",
        "Final error: 0.0154\n",
        "Image: "
       ]
      },
      {
       "output_type": "stream",
       "stream": "stdout",
       "text": [
        " 179\n",
        "Initial error: 0.2201\n",
        "Final error: 0.0380\n",
        "Image:  179\n",
        "Initial error: 0.0551\n",
        "Final error: 0.0440\n",
        "Image: "
       ]
      },
      {
       "output_type": "stream",
       "stream": "stdout",
       "text": [
        " 179\n",
        "Initial error: 0.1255\n",
        "Final error: 0.0339\n",
        "Image:  179\n",
        "Initial error: 0.1068\n",
        "Final error: 0.0401\n",
        "Image: "
       ]
      },
      {
       "output_type": "stream",
       "stream": "stdout",
       "text": [
        " 179\n",
        "Initial error: 0.0619\n",
        "Final error: 0.0377\n",
        "Image:  180\n",
        "Initial error: 0.2407\n",
        "Final error: 0.1011\n",
        "Image:  180\n",
        "Initial error: 0.0866\n",
        "Final error: 0.0376"
       ]
      },
      {
       "output_type": "stream",
       "stream": "stdout",
       "text": [
        "\n",
        "Image:  180\n",
        "Initial error: 0.1450\n",
        "Final error: 0.0179\n",
        "Image:  180\n",
        "Initial error: 0.1228\n",
        "Final error: 0.0418"
       ]
      },
      {
       "output_type": "stream",
       "stream": "stdout",
       "text": [
        "\n",
        "Image:  180\n",
        "Initial error: 0.0946\n",
        "Final error: 0.0274\n",
        "Image: "
       ]
      },
      {
       "output_type": "stream",
       "stream": "stdout",
       "text": [
        " 181\n",
        "Initial error: 0.2262\n",
        "Final error: 0.0544\n",
        "Image:  181\n",
        "Initial error: 0.0815\n",
        "Final error: 0.0330\n",
        "Image: "
       ]
      },
      {
       "output_type": "stream",
       "stream": "stdout",
       "text": [
        " 181\n",
        "Initial error: 0.1407\n",
        "Final error: 0.0215\n",
        "Image:  181\n",
        "Initial error: 0.1076\n",
        "Final error: 0.0363\n",
        "Image: "
       ]
      },
      {
       "output_type": "stream",
       "stream": "stdout",
       "text": [
        " 181\n",
        "Initial error: 0.0905\n",
        "Final error: 0.0216\n",
        "Image:  182\n",
        "Initial error: 0.2272\n",
        "Final error: 0.0358\n",
        "Image:  182\n",
        "Initial error: 0.0782\n",
        "Final error: 0.0395"
       ]
      },
      {
       "output_type": "stream",
       "stream": "stdout",
       "text": [
        "\n",
        "Image:  182\n",
        "Initial error: 0.1254\n",
        "Final error: 0.0320\n",
        "Image:  182\n",
        "Initial error: 0.1237\n",
        "Final error: 0.0357\n",
        "Image: "
       ]
      },
      {
       "output_type": "stream",
       "stream": "stdout",
       "text": [
        " 182\n",
        "Initial error: 0.0639\n",
        "Final error: 0.0344\n",
        "Image:  183\n",
        "Initial error: 0.2253\n",
        "Final error: 0.0684\n",
        "Image:  183\n",
        "Initial error: 0.0474\n",
        "Final error: 0.0449"
       ]
      },
      {
       "output_type": "stream",
       "stream": "stdout",
       "text": [
        "\n",
        "Image:  183\n",
        "Initial error: 0.1270\n",
        "Final error: 0.0467\n",
        "Image:  183\n",
        "Initial error: 0.0998\n",
        "Final error: 0.0495"
       ]
      },
      {
       "output_type": "stream",
       "stream": "stdout",
       "text": [
        "\n",
        "Image:  183\n",
        "Initial error: 0.0639\n",
        "Final error: 0.0439\n",
        "Image:  184\n",
        "Initial error: 0.2268\n",
        "Final error: 0.0307\n",
        "Image: "
       ]
      },
      {
       "output_type": "stream",
       "stream": "stdout",
       "text": [
        " 184\n",
        "Initial error: 0.0664\n",
        "Final error: 0.0337\n",
        "Image:  184\n",
        "Initial error: 0.1246\n",
        "Final error: 0.0273\n",
        "Image: "
       ]
      },
      {
       "output_type": "stream",
       "stream": "stdout",
       "text": [
        " 184\n",
        "Initial error: 0.1112\n",
        "Final error: 0.0279\n",
        "Image:  184\n",
        "Initial error: 0.0592\n",
        "Final error: 0.0261\n",
        "Image:  185\n",
        "Initial error: 0.2225\n",
        "Final error: 0.0956"
       ]
      },
      {
       "output_type": "stream",
       "stream": "stdout",
       "text": [
        "\n",
        "Image:  185\n",
        "Initial error: 0.0700\n",
        "Final error: 0.0254\n",
        "Image:  185\n",
        "Initial error: 0.1329\n",
        "Final error: 0.0219"
       ]
      },
      {
       "output_type": "stream",
       "stream": "stdout",
       "text": [
        "\n",
        "Image:  185\n",
        "Initial error: 0.1096\n",
        "Final error: 0.0195\n",
        "Image:  185\n",
        "Initial error: 0.0757\n",
        "Final error: 0.0198"
       ]
      },
      {
       "output_type": "stream",
       "stream": "stdout",
       "text": [
        "\n",
        "Image:  186\n",
        "Initial error: 0.2195\n",
        "Final error: 0.1224\n",
        "Image:  186\n",
        "Initial error: 0.0594\n",
        "Final error: 0.0181"
       ]
      },
      {
       "output_type": "stream",
       "stream": "stdout",
       "text": [
        "\n",
        "Image:  186\n",
        "Initial error: 0.1270\n",
        "Final error: 0.0185\n",
        "Image: "
       ]
      },
      {
       "output_type": "stream",
       "stream": "stdout",
       "text": [
        " 186\n",
        "Initial error: 0.1076\n",
        "Final error: 0.0165\n",
        "Image:  186\n",
        "Initial error: 0.0640\n",
        "Final error: 0.0204\n",
        "Image: "
       ]
      },
      {
       "output_type": "stream",
       "stream": "stdout",
       "text": [
        " 187\n",
        "Initial error: 0.2288\n",
        "Final error: 0.2240\n",
        "Image:  187\n",
        "Initial error: 0.0836\n",
        "Final error: 0.0630\n",
        "Image: "
       ]
      },
      {
       "output_type": "stream",
       "stream": "stdout",
       "text": [
        " 187\n",
        "Initial error: 0.1408\n",
        "Final error: 0.0436\n",
        "Image:  187\n",
        "Initial error: 0.1131\n",
        "Final error: 0.0351\n",
        "Image: "
       ]
      },
      {
       "output_type": "stream",
       "stream": "stdout",
       "text": [
        " 187\n",
        "Initial error: 0.0898\n",
        "Final error: 0.0620\n",
        "Image:  188\n",
        "Initial error: 0.2272\n",
        "Final error: 0.2827\n",
        "Image: "
       ]
      },
      {
       "output_type": "stream",
       "stream": "stdout",
       "text": [
        " 188\n",
        "Initial error: 0.0667\n",
        "Final error: 0.0629\n",
        "Image:  188\n",
        "Initial error: 0.1316\n",
        "Final error: 0.0278\n",
        "Image: "
       ]
      },
      {
       "output_type": "stream",
       "stream": "stdout",
       "text": [
        " 188\n",
        "Initial error: 0.1060\n",
        "Final error: 0.0473\n",
        "Image:  188\n",
        "Initial error: 0.0779\n",
        "Final error: 0.0292\n",
        "Image: "
       ]
      },
      {
       "output_type": "stream",
       "stream": "stdout",
       "text": [
        " 189\n",
        "Initial error: 0.2264\n",
        "Final error: 0.0358\n",
        "Image:  189\n",
        "Initial error: 0.0771\n",
        "Final error: 0.0371\n",
        "Image: "
       ]
      },
      {
       "output_type": "stream",
       "stream": "stdout",
       "text": [
        " 189\n",
        "Initial error: 0.1270\n",
        "Final error: 0.0383\n",
        "Image:  189\n",
        "Initial error: 0.1196\n",
        "Final error: 0.0382\n",
        "Image: "
       ]
      },
      {
       "output_type": "stream",
       "stream": "stdout",
       "text": [
        " 189\n",
        "Initial error: 0.0714\n",
        "Final error: 0.0389\n",
        "Image:  190\n",
        "Initial error: 0.2214\n",
        "Final error: 0.0239\n",
        "Image: "
       ]
      },
      {
       "output_type": "stream",
       "stream": "stdout",
       "text": [
        " 190\n",
        "Initial error: 0.0550\n",
        "Final error: 0.0145\n",
        "Image:  190\n",
        "Initial error: 0.1240\n",
        "Final error: 0.0188\n",
        "Image: "
       ]
      },
      {
       "output_type": "stream",
       "stream": "stdout",
       "text": [
        " 190\n",
        "Initial error: 0.1084\n",
        "Final error: 0.0183\n",
        "Image:  190\n",
        "Initial error: 0.0590\n",
        "Final error: 0.0245\n",
        "Image: "
       ]
      },
      {
       "output_type": "stream",
       "stream": "stdout",
       "text": [
        " 191\n",
        "Initial error: 0.2207\n",
        "Final error: 0.2423\n",
        "Image:  191\n",
        "Initial error: 0.0807\n",
        "Final error: 0.0892\n",
        "Image: "
       ]
      },
      {
       "output_type": "stream",
       "stream": "stdout",
       "text": [
        " 191\n",
        "Initial error: 0.1334\n",
        "Final error: 0.0671\n",
        "Image:  191\n",
        "Initial error: 0.1094\n",
        "Final error: 0.0868\n",
        "Image: "
       ]
      },
      {
       "output_type": "stream",
       "stream": "stdout",
       "text": [
        " 191\n",
        "Initial error: 0.0828\n",
        "Final error: 0.0838\n",
        "Image:  192\n",
        "Initial error: 0.2266\n",
        "Final error: 0.1672\n",
        "Image: "
       ]
      },
      {
       "output_type": "stream",
       "stream": "stdout",
       "text": [
        " 192\n",
        "Initial error: 0.0764\n",
        "Final error: 0.0766\n",
        "Image:  192\n",
        "Initial error: 0.1340\n",
        "Final error: 0.0224\n",
        "Image: "
       ]
      },
      {
       "output_type": "stream",
       "stream": "stdout",
       "text": [
        " 192\n",
        "Initial error: 0.1001\n",
        "Final error: 0.0759\n",
        "Image:  192\n",
        "Initial error: 0.0848\n",
        "Final error: 0.0291\n",
        "Image: "
       ]
      },
      {
       "output_type": "stream",
       "stream": "stdout",
       "text": [
        " 193\n",
        "Initial error: 0.2219\n",
        "Final error: 0.1775\n",
        "Image:  193\n",
        "Initial error: 0.0757\n",
        "Final error: 0.0715\n",
        "Image: "
       ]
      },
      {
       "output_type": "stream",
       "stream": "stdout",
       "text": [
        " 193\n",
        "Initial error: 0.1353\n",
        "Final error: 0.0437\n",
        "Image:  193\n",
        "Initial error: 0.1121\n",
        "Final error: 0.0593\n",
        "Image: "
       ]
      },
      {
       "output_type": "stream",
       "stream": "stdout",
       "text": [
        " 193\n",
        "Initial error: 0.0827\n",
        "Final error: 0.0396\n",
        "Image:  194\n",
        "Initial error: 0.2244\n",
        "Final error: 0.0950\n",
        "Image: "
       ]
      },
      {
       "output_type": "stream",
       "stream": "stdout",
       "text": [
        " 194\n",
        "Initial error: 0.0639\n",
        "Final error: 0.0219\n",
        "Image:  194\n",
        "Initial error: 0.1255\n",
        "Final error: 0.0173\n",
        "Image: "
       ]
      },
      {
       "output_type": "stream",
       "stream": "stdout",
       "text": [
        " 194\n",
        "Initial error: 0.1108\n",
        "Final error: 0.0234\n",
        "Image:  194\n",
        "Initial error: 0.0608\n",
        "Final error: 0.0219\n",
        "Image: "
       ]
      },
      {
       "output_type": "stream",
       "stream": "stdout",
       "text": [
        " 195\n",
        "Initial error: 0.2255\n",
        "Final error: 0.2034\n",
        "Image:  195\n",
        "Initial error: 0.0660\n",
        "Final error: 0.0579\n",
        "Image:  195\n",
        "Initial error: 0.1297\n",
        "Final error: 0.0633"
       ]
      },
      {
       "output_type": "stream",
       "stream": "stdout",
       "text": [
        "\n",
        "Image:  195\n",
        "Initial error: 0.1031\n",
        "Final error: 0.0413\n",
        "Image:  195\n",
        "Initial error: 0.0727\n",
        "Final error: 0.0544\n",
        "Image: "
       ]
      },
      {
       "output_type": "stream",
       "stream": "stdout",
       "text": [
        " 196\n",
        "Initial error: 0.2231\n",
        "Final error: 0.1776\n",
        "Image:  196\n",
        "Initial error: 0.0582\n",
        "Final error: 0.1155\n",
        "Image: "
       ]
      },
      {
       "output_type": "stream",
       "stream": "stdout",
       "text": [
        " 196\n",
        "Initial error: 0.1282\n",
        "Final error: 0.1442\n",
        "Image:  196\n",
        "Initial error: 0.0962\n",
        "Final error: 0.1191\n",
        "Image:  196\n",
        "Initial error: 0.0677\n",
        "Final error: 0.1427"
       ]
      },
      {
       "output_type": "stream",
       "stream": "stdout",
       "text": [
        "\n",
        "Image:  197\n",
        "Initial error: 0.2258\n",
        "Final error: 0.1514\n",
        "Image: "
       ]
      },
      {
       "output_type": "stream",
       "stream": "stdout",
       "text": [
        " 197\n",
        "Initial error: 0.0550\n",
        "Final error: 0.0421\n",
        "Image:  197\n",
        "Initial error: 0.1270\n",
        "Final error: 0.0408\n",
        "Image: "
       ]
      },
      {
       "output_type": "stream",
       "stream": "stdout",
       "text": [
        " 197\n",
        "Initial error: 0.1031\n",
        "Final error: 0.0411\n",
        "Image:  197\n",
        "Initial error: 0.0652\n",
        "Final error: 0.0296\n",
        "Image:  198\n"
       ]
      },
      {
       "output_type": "stream",
       "stream": "stdout",
       "text": [
        "Initial error: 0.2286\n",
        "Final error: 0.1482\n",
        "Image:  198\n",
        "Initial error: 0.0845\n",
        "Final error: 0.0262\n",
        "Image:  198\n",
        "Initial error: 0.1435\n",
        "Final error: 0.0257\n",
        "Image: "
       ]
      },
      {
       "output_type": "stream",
       "stream": "stdout",
       "text": [
        " 198\n",
        "Initial error: 0.1093\n",
        "Final error: 0.0566\n",
        "Image:  198\n",
        "Initial error: 0.0924\n",
        "Final error: 0.0215\n",
        "Image:  199\n",
        "Initial error: 0.2250\n",
        "Final error: 0.1907"
       ]
      },
      {
       "output_type": "stream",
       "stream": "stdout",
       "text": [
        "\n",
        "Image:  199\n",
        "Initial error: 0.0675\n",
        "Final error: 0.0493\n",
        "Image:  199\n",
        "Initial error: 0.1265\n",
        "Final error: 0.0456"
       ]
      },
      {
       "output_type": "stream",
       "stream": "stdout",
       "text": [
        "\n",
        "Image:  199\n",
        "Initial error: 0.1094\n",
        "Final error: 0.0478\n",
        "Image:  199\n",
        "Initial error: 0.0636\n",
        "Final error: 0.0521"
       ]
      },
      {
       "output_type": "stream",
       "stream": "stdout",
       "text": [
        "\n",
        "Image:  200\n",
        "Initial error: 0.2261\n",
        "Final error: 0.3006\n",
        "Image: "
       ]
      },
      {
       "output_type": "stream",
       "stream": "stdout",
       "text": [
        " 200\n",
        "Initial error: 0.1174\n",
        "Final error: 0.0506\n",
        "Image:  200\n",
        "Initial error: 0.1505\n",
        "Final error: 0.1472\n",
        "Image: "
       ]
      },
      {
       "output_type": "stream",
       "stream": "stdout",
       "text": [
        " 200\n",
        "Initial error: 0.1347\n",
        "Final error: 0.0829\n",
        "Image:  200\n",
        "Initial error: 0.1142\n",
        "Final error: 0.0745\n",
        "Image: "
       ]
      },
      {
       "output_type": "stream",
       "stream": "stdout",
       "text": [
        " 201\n",
        "Initial error: 0.2318\n",
        "Final error: 0.1703\n",
        "Image:  201\n",
        "Initial error: 0.0818\n",
        "Final error: 0.0356\n",
        "Image:  201\n",
        "Initial error: 0.1349\n",
        "Final error: 0.0327\n",
        "Image: "
       ]
      },
      {
       "output_type": "stream",
       "stream": "stdout",
       "text": [
        " 201\n",
        "Initial error: 0.1255\n",
        "Final error: 0.0297\n",
        "Image:  201\n",
        "Initial error: 0.0811\n",
        "Final error: 0.0330\n",
        "Image:  202\n",
        "Initial error: 0.2290\n",
        "Final error: 0.0166"
       ]
      },
      {
       "output_type": "stream",
       "stream": "stdout",
       "text": [
        "\n",
        "Image:  202\n",
        "Initial error: 0.0579\n",
        "Final error: 0.0225\n",
        "Image: "
       ]
      },
      {
       "output_type": "stream",
       "stream": "stdout",
       "text": [
        " 202\n",
        "Initial error: 0.1263\n",
        "Final error: 0.0183\n",
        "Image:  202\n",
        "Initial error: 0.1086\n",
        "Final error: 0.0220\n",
        "Image: "
       ]
      },
      {
       "output_type": "stream",
       "stream": "stdout",
       "text": [
        " 202\n",
        "Initial error: 0.0606\n",
        "Final error: 0.0228\n",
        "Image:  203\n",
        "Initial error: 0.2219\n",
        "Final error: 0.0964\n",
        "Image: "
       ]
      },
      {
       "output_type": "stream",
       "stream": "stdout",
       "text": [
        " 203\n",
        "Initial error: 0.0654\n",
        "Final error: 0.0279\n",
        "Image:  203\n",
        "Initial error: 0.1256\n",
        "Final error: 0.0355\n",
        "Image: "
       ]
      },
      {
       "output_type": "stream",
       "stream": "stdout",
       "text": [
        " 203\n",
        "Initial error: 0.1097\n",
        "Final error: 0.0185\n",
        "Image:  203\n",
        "Initial error: 0.0629\n",
        "Final error: 0.0167\n",
        "Image: "
       ]
      },
      {
       "output_type": "stream",
       "stream": "stdout",
       "text": [
        " 204\n",
        "Initial error: 0.2166\n",
        "Final error: 0.0304\n",
        "Image:  204\n",
        "Initial error: 0.0752\n",
        "Final error: 0.0273\n",
        "Image: "
       ]
      },
      {
       "output_type": "stream",
       "stream": "stdout",
       "text": [
        " 204\n",
        "Initial error: 0.1303\n",
        "Final error: 0.0261\n",
        "Image:  204\n",
        "Initial error: 0.1151\n",
        "Final error: 0.0272\n",
        "Image: "
       ]
      },
      {
       "output_type": "stream",
       "stream": "stdout",
       "text": [
        " 204\n",
        "Initial error: 0.0761\n",
        "Final error: 0.0387\n",
        "Image:  205\n",
        "Initial error: 0.2258\n",
        "Final error: 0.2236\n",
        "Image: "
       ]
      },
      {
       "output_type": "stream",
       "stream": "stdout",
       "text": [
        " 205\n",
        "Initial error: 0.0723\n",
        "Final error: 0.0218\n",
        "Image:  205\n",
        "Initial error: 0.1359\n",
        "Final error: 0.0224\n",
        "Image: "
       ]
      },
      {
       "output_type": "stream",
       "stream": "stdout",
       "text": [
        " 205\n",
        "Initial error: 0.0991\n",
        "Final error: 0.0561\n",
        "Image:  205\n",
        "Initial error: 0.0842\n",
        "Final error: 0.0238\n",
        "Image: "
       ]
      },
      {
       "output_type": "stream",
       "stream": "stdout",
       "text": [
        " 206\n",
        "Initial error: 0.2177\n",
        "Final error: 0.0410\n",
        "Image:  206\n",
        "Initial error: 0.0848\n",
        "Final error: 0.0486\n",
        "Image: "
       ]
      },
      {
       "output_type": "stream",
       "stream": "stdout",
       "text": [
        " 206\n",
        "Initial error: 0.1332\n",
        "Final error: 0.0373\n",
        "Image:  206\n",
        "Initial error: 0.1180\n",
        "Final error: 0.0452\n",
        "Image: "
       ]
      },
      {
       "output_type": "stream",
       "stream": "stdout",
       "text": [
        " 206\n",
        "Initial error: 0.0859\n",
        "Final error: 0.0401\n",
        "Image:  207\n",
        "Initial error: 0.2348\n",
        "Final error: 0.2445\n",
        "Image: "
       ]
      },
      {
       "output_type": "stream",
       "stream": "stdout",
       "text": [
        " 207\n",
        "Initial error: 0.1161\n",
        "Final error: 0.0443\n",
        "Image:  207\n",
        "Initial error: 0.1536\n",
        "Final error: 0.0358\n",
        "Image: "
       ]
      },
      {
       "output_type": "stream",
       "stream": "stdout",
       "text": [
        " 207\n",
        "Initial error: 0.1257\n",
        "Final error: 0.0172\n",
        "Image:  207\n",
        "Initial error: 0.1211\n",
        "Final error: 0.0289\n",
        "Image:  208\n",
        "Initial error: 0.2236\n",
        "Final error: 0.2635"
       ]
      },
      {
       "output_type": "stream",
       "stream": "stdout",
       "text": [
        "\n",
        "Image:  208\n",
        "Initial error: 0.0704\n",
        "Final error: 0.0432\n",
        "Image:  208\n",
        "Initial error: 0.1278\n",
        "Final error: 0.0499\n",
        "Image: "
       ]
      },
      {
       "output_type": "stream",
       "stream": "stdout",
       "text": [
        " 208\n",
        "Initial error: 0.1150\n",
        "Final error: 0.0447\n",
        "Image:  208\n",
        "Initial error: 0.0676\n",
        "Final error: 0.0407\n",
        "Image:  209\n",
        "Initial error: 0.2135\n",
        "Final error: 0.0289"
       ]
      },
      {
       "output_type": "stream",
       "stream": "stdout",
       "text": [
        "\n",
        "Image:  209\n",
        "Initial error: 0.0726\n",
        "Final error: 0.0248\n",
        "Image:  209\n",
        "Initial error: 0.1314\n",
        "Final error: 0.0506"
       ]
      },
      {
       "output_type": "stream",
       "stream": "stdout",
       "text": [
        "\n",
        "Image:  209\n",
        "Initial error: 0.1132\n",
        "Final error: 0.0654\n",
        "Image: "
       ]
      },
      {
       "output_type": "stream",
       "stream": "stdout",
       "text": [
        " 209\n",
        "Initial error: 0.0797\n",
        "Final error: 0.0481\n",
        "Image:  210\n",
        "Initial error: 0.2194\n",
        "Final error: 0.0274\n",
        "Image:  210\n",
        "Initial error: 0.0758\n",
        "Final error: 0.0534"
       ]
      },
      {
       "output_type": "stream",
       "stream": "stdout",
       "text": [
        "\n",
        "Image:  210\n",
        "Initial error: 0.1343\n",
        "Final error: 0.0286\n",
        "Image:  210\n",
        "Initial error: 0.1113\n",
        "Final error: 0.0426\n",
        "Image: "
       ]
      },
      {
       "output_type": "stream",
       "stream": "stdout",
       "text": [
        " 210\n",
        "Initial error: 0.0820\n",
        "Final error: 0.0234\n",
        "Image:  211\n",
        "Initial error: 0.2239\n",
        "Final error: 0.0918\n",
        "Image:  211\n",
        "Initial error: 0.0592\n",
        "Final error: 0.0207"
       ]
      },
      {
       "output_type": "stream",
       "stream": "stdout",
       "text": [
        "\n",
        "Image:  211\n",
        "Initial error: 0.1245\n",
        "Final error: 0.0243\n",
        "Image: "
       ]
      },
      {
       "output_type": "stream",
       "stream": "stdout",
       "text": [
        " 211\n",
        "Initial error: 0.1054\n",
        "Final error: 0.0211\n",
        "Image:  211\n",
        "Initial error: 0.0605\n",
        "Final error: 0.0195\n",
        "Image: "
       ]
      },
      {
       "output_type": "stream",
       "stream": "stdout",
       "text": [
        " 212\n",
        "Initial error: 0.2245\n",
        "Final error: 0.0236\n",
        "Image:  212\n",
        "Initial error: 0.0813\n",
        "Final error: 0.0195\n",
        "Image: "
       ]
      },
      {
       "output_type": "stream",
       "stream": "stdout",
       "text": [
        " 212\n",
        "Initial error: 0.1376\n",
        "Final error: 0.0285\n",
        "Image:  212\n",
        "Initial error: 0.1095\n",
        "Final error: 0.0753\n",
        "Image: "
       ]
      },
      {
       "output_type": "stream",
       "stream": "stdout",
       "text": [
        " 212\n",
        "Initial error: 0.0861\n",
        "Final error: 0.0214\n",
        "Image:  213\n",
        "Initial error: 0.2250\n",
        "Final error: 0.2972\n",
        "Image: "
       ]
      },
      {
       "output_type": "stream",
       "stream": "stdout",
       "text": [
        " 213\n",
        "Initial error: 0.0487\n",
        "Final error: 0.0801\n",
        "Image:  213\n",
        "Initial error: 0.1250\n",
        "Final error: 0.0797\n",
        "Image: "
       ]
      },
      {
       "output_type": "stream",
       "stream": "stdout",
       "text": [
        " 213\n",
        "Initial error: 0.1035\n",
        "Final error: 0.0697\n",
        "Image:  213\n",
        "Initial error: 0.0586\n",
        "Final error: 0.0997\n",
        "Image: "
       ]
      },
      {
       "output_type": "stream",
       "stream": "stdout",
       "text": [
        " 214\n",
        "Initial error: 0.2206\n",
        "Final error: 0.2195\n",
        "Image:  214\n",
        "Initial error: 0.0593\n",
        "Final error: 0.0289\n",
        "Image: "
       ]
      },
      {
       "output_type": "stream",
       "stream": "stdout",
       "text": [
        " 214\n",
        "Initial error: 0.1251\n",
        "Final error: 0.0254\n",
        "Image:  214\n",
        "Initial error: 0.1081\n",
        "Final error: 0.0258\n",
        "Image: "
       ]
      },
      {
       "output_type": "stream",
       "stream": "stdout",
       "text": [
        " 214\n",
        "Initial error: 0.0637\n",
        "Final error: 0.0207\n",
        "Image:  215\n",
        "Initial error: 0.2276\n",
        "Final error: 0.1014\n",
        "Image:  215\n",
        "Initial error: 0.0747\n",
        "Final error: 0.0272"
       ]
      },
      {
       "output_type": "stream",
       "stream": "stdout",
       "text": [
        "\n",
        "Image:  215\n",
        "Initial error: 0.1396\n",
        "Final error: 0.0176\n",
        "Image:  215\n",
        "Initial error: 0.1048\n",
        "Final error: 0.0529"
       ]
      },
      {
       "output_type": "stream",
       "stream": "stdout",
       "text": [
        "\n",
        "Image:  215\n",
        "Initial error: 0.0880\n",
        "Final error: 0.0196\n",
        "Image: "
       ]
      },
      {
       "output_type": "stream",
       "stream": "stdout",
       "text": [
        " 216\n",
        "Initial error: 0.2239\n",
        "Final error: 0.0227\n",
        "Image:  216\n",
        "Initial error: 0.0601\n",
        "Final error: 0.0219\n",
        "Image: "
       ]
      },
      {
       "output_type": "stream",
       "stream": "stdout",
       "text": [
        " 216\n",
        "Initial error: 0.1247\n",
        "Final error: 0.0179\n",
        "Image:  216\n",
        "Initial error: 0.1079\n",
        "Final error: 0.0190\n",
        "Image: "
       ]
      },
      {
       "output_type": "stream",
       "stream": "stdout",
       "text": [
        " 216\n",
        "Initial error: 0.0582\n",
        "Final error: 0.0180\n",
        "Image:  217\n",
        "Initial error: 0.2237\n",
        "Final error: 0.0358\n",
        "Image: "
       ]
      },
      {
       "output_type": "stream",
       "stream": "stdout",
       "text": [
        " 217\n",
        "Initial error: 0.0613\n",
        "Final error: 0.0479\n",
        "Image:  217\n",
        "Initial error: 0.1248\n",
        "Final error: 0.0322\n",
        "Image: "
       ]
      },
      {
       "output_type": "stream",
       "stream": "stdout",
       "text": [
        " 217\n",
        "Initial error: 0.1075\n",
        "Final error: 0.0323\n",
        "Image:  217\n",
        "Initial error: 0.0605\n",
        "Final error: 0.0378\n",
        "Image: "
       ]
      },
      {
       "output_type": "stream",
       "stream": "stdout",
       "text": [
        " 218\n",
        "Initial error: 0.2307\n",
        "Final error: 0.1069\n",
        "Image:  218\n",
        "Initial error: 0.0840\n",
        "Final error: 0.0295\n",
        "Image: "
       ]
      },
      {
       "output_type": "stream",
       "stream": "stdout",
       "text": [
        " 218\n",
        "Initial error: 0.1323\n",
        "Final error: 0.0348\n",
        "Image:  218\n",
        "Initial error: 0.1258\n",
        "Final error: 0.0272\n",
        "Image: "
       ]
      },
      {
       "output_type": "stream",
       "stream": "stdout",
       "text": [
        " 218\n",
        "Initial error: 0.0805\n",
        "Final error: 0.0288\n",
        "Image:  219\n",
        "Initial error: 0.2285\n",
        "Final error: 0.2454\n",
        "Image:  219\n",
        "Initial error: 0.0636\n",
        "Final error: 0.0216"
       ]
      },
      {
       "output_type": "stream",
       "stream": "stdout",
       "text": [
        "\n",
        "Image:  219\n",
        "Initial error: 0.1265\n",
        "Final error: 0.1391\n",
        "Image:  219\n",
        "Initial error: 0.1118\n",
        "Final error: 0.0272"
       ]
      },
      {
       "output_type": "stream",
       "stream": "stdout",
       "text": [
        "\n",
        "Image:  219\n",
        "Initial error: 0.0626\n",
        "Final error: 0.0256\n",
        "Image:  220\n"
       ]
      },
      {
       "output_type": "stream",
       "stream": "stdout",
       "text": [
        "Initial error: 0.2203\n",
        "Final error: 0.0232\n",
        "Image:  220\n",
        "Initial error: 0.0678\n",
        "Final error: 0.0165\n",
        "Image: "
       ]
      },
      {
       "output_type": "stream",
       "stream": "stdout",
       "text": [
        " 220\n",
        "Initial error: 0.1257\n",
        "Final error: 0.0191\n",
        "Image:  220\n",
        "Initial error: 0.1097\n",
        "Final error: 0.0987\n",
        "Image: "
       ]
      },
      {
       "output_type": "stream",
       "stream": "stdout",
       "text": [
        " 220\n",
        "Initial error: 0.0655\n",
        "Final error: 0.0225\n",
        "Image:  221\n",
        "Initial error: 0.2256\n",
        "Final error: 0.0261\n",
        "Image: "
       ]
      },
      {
       "output_type": "stream",
       "stream": "stdout",
       "text": [
        " 221\n",
        "Initial error: 0.0558\n",
        "Final error: 0.0270\n",
        "Image:  221\n",
        "Initial error: 0.1267\n",
        "Final error: 0.0267\n",
        "Image: "
       ]
      },
      {
       "output_type": "stream",
       "stream": "stdout",
       "text": [
        " 221\n",
        "Initial error: 0.1067\n",
        "Final error: 0.0295\n",
        "Image:  221\n",
        "Initial error: 0.0644\n",
        "Final error: 0.0240\n",
        "Image: "
       ]
      },
      {
       "output_type": "stream",
       "stream": "stdout",
       "text": [
        " 222\n",
        "Initial error: 0.2188\n",
        "Final error: 0.0418\n",
        "Image:  222\n",
        "Initial error: 0.0657\n",
        "Final error: 0.0477\n",
        "Image: "
       ]
      },
      {
       "output_type": "stream",
       "stream": "stdout",
       "text": [
        " 222\n",
        "Initial error: 0.1264\n",
        "Final error: 0.0272\n",
        "Image:  222\n",
        "Initial error: 0.1084\n",
        "Final error: 0.0371\n",
        "Image: "
       ]
      },
      {
       "output_type": "stream",
       "stream": "stdout",
       "text": [
        " 222\n",
        "Initial error: 0.0666\n",
        "Final error: 0.0366\n",
        "Image:  223\n",
        "Initial error: 0.2168\n",
        "Final error: 0.1626\n",
        "Image: "
       ]
      },
      {
       "output_type": "stream",
       "stream": "stdout",
       "text": [
        " 223\n",
        "Initial error: 0.0741\n",
        "Final error: 0.0877\n",
        "Image:  223\n",
        "Initial error: 0.1304\n",
        "Final error: 0.0296\n",
        "Image: "
       ]
      },
      {
       "output_type": "stream",
       "stream": "stdout",
       "text": [
        " 223\n",
        "Initial error: 0.1091\n",
        "Final error: 0.0859\n",
        "Image:  223\n",
        "Initial error: 0.0790\n",
        "Final error: 0.0596\n",
        "Image: "
       ]
      },
      {
       "output_type": "stream",
       "stream": "stdout",
       "text": [
        " 224\n",
        "Initial error: 0.2279\n",
        "Final error: 0.0262\n",
        "Image:  224\n",
        "Initial error: 0.0601\n",
        "Final error: 0.0259\n",
        "Image: "
       ]
      },
      {
       "output_type": "stream",
       "stream": "stdout",
       "text": [
        " 224\n",
        "Initial error: 0.1242\n",
        "Final error: 0.0188\n",
        "Image:  224\n",
        "Initial error: 0.1082\n",
        "Final error: 0.0248\n",
        "Image: "
       ]
      },
      {
       "output_type": "stream",
       "stream": "stdout",
       "text": [
        " 224\n",
        "Initial error: 0.0571\n",
        "Final error: 0.0270\n",
        "Image:  225\n",
        "Initial error: 0.2263\n",
        "Final error: 0.0550\n",
        "Image: "
       ]
      },
      {
       "output_type": "stream",
       "stream": "stdout",
       "text": [
        " 225\n",
        "Initial error: 0.0645\n",
        "Final error: 0.0213\n",
        "Image:  225\n",
        "Initial error: 0.1253\n",
        "Final error: 0.0156\n",
        "Image: "
       ]
      },
      {
       "output_type": "stream",
       "stream": "stdout",
       "text": [
        " 225\n",
        "Initial error: 0.1117\n",
        "Final error: 0.0153\n",
        "Image:  225\n",
        "Initial error: 0.0596\n",
        "Final error: 0.0185\n",
        "Image: "
       ]
      },
      {
       "output_type": "stream",
       "stream": "stdout",
       "text": [
        " 226\n",
        "Initial error: 0.2320\n",
        "Final error: 0.1729\n",
        "Image:  226\n",
        "Initial error: 0.0728\n",
        "Final error: 0.0268\n",
        "Image:  226\n",
        "Initial error: 0.1347\n",
        "Final error: 0.0212"
       ]
      },
      {
       "output_type": "stream",
       "stream": "stdout",
       "text": [
        "\n",
        "Image:  226\n",
        "Initial error: 0.1140\n",
        "Final error: 0.0309\n",
        "Image: "
       ]
      },
      {
       "output_type": "stream",
       "stream": "stdout",
       "text": [
        " 226\n",
        "Initial error: 0.0814\n",
        "Final error: 0.0286\n",
        "Image:  227\n",
        "Initial error: 0.2175\n",
        "Final error: 0.1977\n",
        "Image: "
       ]
      },
      {
       "output_type": "stream",
       "stream": "stdout",
       "text": [
        " 227\n",
        "Initial error: 0.1610\n",
        "Final error: 0.1963\n",
        "Image:  227\n",
        "Initial error: 0.1622\n",
        "Final error: 0.2077\n",
        "Image: "
       ]
      },
      {
       "output_type": "stream",
       "stream": "stdout",
       "text": [
        " 227\n",
        "Initial error: 0.1940\n",
        "Final error: 0.1611\n",
        "Image:  227\n",
        "Initial error: 0.1338\n",
        "Final error: 0.2049\n",
        "Image: "
       ]
      },
      {
       "output_type": "stream",
       "stream": "stdout",
       "text": [
        " 228\n",
        "Initial error: 0.2385\n",
        "Final error: 0.2704\n",
        "Image:  228\n",
        "Initial error: 0.1176\n",
        "Final error: 0.0542\n",
        "Image: "
       ]
      },
      {
       "output_type": "stream",
       "stream": "stdout",
       "text": [
        " 228\n",
        "Initial error: 0.1561\n",
        "Final error: 0.1236\n",
        "Image:  228\n",
        "Initial error: 0.1268\n",
        "Final error: 0.0499\n",
        "Image: "
       ]
      },
      {
       "output_type": "stream",
       "stream": "stdout",
       "text": [
        " 228\n",
        "Initial error: 0.1229\n",
        "Final error: 0.0932\n",
        "Image:  229\n",
        "Initial error: 0.2331\n",
        "Final error: 0.2868\n",
        "Image: "
       ]
      },
      {
       "output_type": "stream",
       "stream": "stdout",
       "text": [
        " 229\n",
        "Initial error: 0.0769\n",
        "Final error: 0.0494\n",
        "Image:  229\n",
        "Initial error: 0.1391\n",
        "Final error: 0.0238\n",
        "Image: "
       ]
      },
      {
       "output_type": "stream",
       "stream": "stdout",
       "text": [
        " 229\n",
        "Initial error: 0.1117\n",
        "Final error: 0.0605\n",
        "Image:  229\n",
        "Initial error: 0.0873\n",
        "Final error: 0.0317\n",
        "Image:  230\n",
        "Initial error: 0.2277\n",
        "Final error: 0.1448"
       ]
      },
      {
       "output_type": "stream",
       "stream": "stdout",
       "text": [
        "\n",
        "Image:  230\n",
        "Initial error: 0.1066\n",
        "Final error: 0.1044\n",
        "Image:  230\n",
        "Initial error: 0.1489\n",
        "Final error: 0.0891\n",
        "Image: "
       ]
      },
      {
       "output_type": "stream",
       "stream": "stdout",
       "text": [
        " 230\n",
        "Initial error: 0.1259\n",
        "Final error: 0.1059\n",
        "Image:  230\n",
        "Initial error: 0.1058\n",
        "Final error: 0.0997\n",
        "Image: "
       ]
      },
      {
       "output_type": "stream",
       "stream": "stdout",
       "text": [
        " 231\n",
        "Initial error: 0.2225\n",
        "Final error: 0.1465\n",
        "Image:  231\n",
        "Initial error: 0.0750\n",
        "Final error: 0.0737\n",
        "Image: "
       ]
      },
      {
       "output_type": "stream",
       "stream": "stdout",
       "text": [
        " 231\n",
        "Initial error: 0.1350\n",
        "Final error: 0.0386\n",
        "Image:  231\n",
        "Initial error: 0.1023\n",
        "Final error: 0.0501\n",
        "Image: "
       ]
      },
      {
       "output_type": "stream",
       "stream": "stdout",
       "text": [
        " 231\n",
        "Initial error: 0.0822\n",
        "Final error: 0.0233\n",
        "Image:  232\n",
        "Initial error: 0.2224\n",
        "Final error: 0.0231\n",
        "Image: "
       ]
      },
      {
       "output_type": "stream",
       "stream": "stdout",
       "text": [
        " 232\n",
        "Initial error: 0.0804\n",
        "Final error: 0.0268\n",
        "Image:  232\n",
        "Initial error: 0.1294\n",
        "Final error: 0.0249\n",
        "Image: "
       ]
      },
      {
       "output_type": "stream",
       "stream": "stdout",
       "text": [
        " 232\n",
        "Initial error: 0.1223\n",
        "Final error: 0.0275\n",
        "Image:  232\n",
        "Initial error: 0.0770\n",
        "Final error: 0.0314\n",
        "Image: "
       ]
      },
      {
       "output_type": "stream",
       "stream": "stdout",
       "text": [
        " 233\n",
        "Initial error: 0.2212\n",
        "Final error: 0.1117\n",
        "Image:  233\n",
        "Initial error: 0.0653\n",
        "Final error: 0.0280\n",
        "Image: "
       ]
      },
      {
       "output_type": "stream",
       "stream": "stdout",
       "text": [
        " 233\n",
        "Initial error: 0.1261\n",
        "Final error: 0.0286\n",
        "Image:  233\n",
        "Initial error: 0.1035\n",
        "Final error: 0.0262\n",
        "Image: "
       ]
      },
      {
       "output_type": "stream",
       "stream": "stdout",
       "text": [
        " 233\n",
        "Initial error: 0.0709\n",
        "Final error: 0.0313\n",
        "Image:  234\n",
        "Initial error: 0.2172\n",
        "Final error: 0.0786\n",
        "Image: "
       ]
      },
      {
       "output_type": "stream",
       "stream": "stdout",
       "text": [
        " 234\n",
        "Initial error: 0.0713\n",
        "Final error: 0.0710\n",
        "Image:  234\n",
        "Initial error: 0.1293\n",
        "Final error: 0.0809\n",
        "Image: "
       ]
      },
      {
       "output_type": "stream",
       "stream": "stdout",
       "text": [
        " 234\n",
        "Initial error: 0.1104\n",
        "Final error: 0.0764\n",
        "Image:  234\n",
        "Initial error: 0.0760\n",
        "Final error: 0.0754\n",
        "Image: "
       ]
      },
      {
       "output_type": "stream",
       "stream": "stdout",
       "text": [
        " 235\n",
        "Initial error: 0.2208\n",
        "Final error: 0.0386\n",
        "Image:  235\n",
        "Initial error: 0.0656\n",
        "Final error: 0.0205\n",
        "Image: "
       ]
      },
      {
       "output_type": "stream",
       "stream": "stdout",
       "text": [
        " 235\n",
        "Initial error: 0.1251\n",
        "Final error: 0.0225\n",
        "Image:  235\n",
        "Initial error: 0.1093\n",
        "Final error: 0.0248\n",
        "Image: "
       ]
      },
      {
       "output_type": "stream",
       "stream": "stdout",
       "text": [
        " 235\n",
        "Initial error: 0.0622\n",
        "Final error: 0.0228\n",
        "Image:  236\n",
        "Initial error: 0.2134\n",
        "Final error: 0.0352\n",
        "Image: "
       ]
      },
      {
       "output_type": "stream",
       "stream": "stdout",
       "text": [
        " 236\n",
        "Initial error: 0.0866\n",
        "Final error: 0.0271\n",
        "Image:  236\n",
        "Initial error: 0.1358\n",
        "Final error: 0.0377\n",
        "Image: "
       ]
      },
      {
       "output_type": "stream",
       "stream": "stdout",
       "text": [
        " 236\n",
        "Initial error: 0.1215\n",
        "Final error: 0.0867\n",
        "Image:  236\n",
        "Initial error: 0.0844\n",
        "Final error: 0.0335\n",
        "Image: "
       ]
      },
      {
       "output_type": "stream",
       "stream": "stdout",
       "text": [
        " 237\n",
        "Initial error: 0.2278\n",
        "Final error: 0.0821\n",
        "Image:  237\n",
        "Initial error: 0.0642\n",
        "Final error: 0.0278\n",
        "Image: "
       ]
      },
      {
       "output_type": "stream",
       "stream": "stdout",
       "text": [
        " 237\n",
        "Initial error: 0.1259\n",
        "Final error: 0.0318\n",
        "Image:  237\n",
        "Initial error: 0.1125\n",
        "Final error: 0.0322\n",
        "Image: "
       ]
      },
      {
       "output_type": "stream",
       "stream": "stdout",
       "text": [
        " 237\n",
        "Initial error: 0.0597\n",
        "Final error: 0.0287\n",
        "Image:  238\n",
        "Initial error: 0.2162\n",
        "Final error: 0.1207\n",
        "Image: "
       ]
      },
      {
       "output_type": "stream",
       "stream": "stdout",
       "text": [
        " 238\n",
        "Initial error: 0.1772\n",
        "Final error: 0.1650\n",
        "Image:  238\n",
        "Initial error: 0.1657\n",
        "Final error: 0.1268\n",
        "Image: "
       ]
      },
      {
       "output_type": "stream",
       "stream": "stdout",
       "text": [
        " 238\n",
        "Initial error: 0.2106\n",
        "Final error: 0.1256\n",
        "Image:  238\n",
        "Initial error: 0.1375\n",
        "Final error: 0.1279\n",
        "Image: "
       ]
      },
      {
       "output_type": "stream",
       "stream": "stdout",
       "text": [
        " 239\n",
        "Initial error: 0.2281\n",
        "Final error: 0.1853\n",
        "Image:  239\n",
        "Initial error: 0.0603\n",
        "Final error: 0.0596\n",
        "Image: "
       ]
      },
      {
       "output_type": "stream",
       "stream": "stdout",
       "text": [
        " 239\n",
        "Initial error: 0.1250\n",
        "Final error: 0.0785\n",
        "Image:  239\n",
        "Initial error: 0.1096\n",
        "Final error: 0.0553\n",
        "Image: "
       ]
      },
      {
       "output_type": "stream",
       "stream": "stdout",
       "text": [
        " 239\n",
        "Initial error: 0.0592\n",
        "Final error: 0.0563\n",
        "Image:  240\n",
        "Initial error: 0.2268\n",
        "Final error: 0.0563\n",
        "Image: "
       ]
      },
      {
       "output_type": "stream",
       "stream": "stdout",
       "text": [
        " 240\n",
        "Initial error: 0.0593\n",
        "Final error: 0.0306\n",
        "Image:  240\n",
        "Initial error: 0.1254\n",
        "Final error: 0.0333\n",
        "Image: "
       ]
      },
      {
       "output_type": "stream",
       "stream": "stdout",
       "text": [
        " 240\n",
        "Initial error: 0.1087\n",
        "Final error: 0.0439\n",
        "Image:  240\n",
        "Initial error: 0.0597\n",
        "Final error: 0.0385\n",
        "Image: "
       ]
      },
      {
       "output_type": "stream",
       "stream": "stdout",
       "text": [
        " 241\n",
        "Initial error: 0.2375\n",
        "Final error: 0.3204\n",
        "Image:  241\n",
        "Initial error: 0.0707\n",
        "Final error: 0.0772\n",
        "Image: "
       ]
      },
      {
       "output_type": "stream",
       "stream": "stdout",
       "text": [
        " 241\n",
        "Initial error: 0.1315\n",
        "Final error: 0.0971\n",
        "Image:  241\n",
        "Initial error: 0.1179\n",
        "Final error: 0.0841\n",
        "Image: "
       ]
      },
      {
       "output_type": "stream",
       "stream": "stdout",
       "text": [
        " 241\n",
        "Initial error: 0.0693\n",
        "Final error: 0.0706\n",
        "Image:  242\n",
        "Initial error: 0.2264\n",
        "Final error: 0.1424\n",
        "Image: "
       ]
      },
      {
       "output_type": "stream",
       "stream": "stdout",
       "text": [
        " 242\n",
        "Initial error: 0.0628\n",
        "Final error: 0.0235\n",
        "Image:  242\n",
        "Initial error: 0.1261\n",
        "Final error: 0.0247\n",
        "Image: "
       ]
      },
      {
       "output_type": "stream",
       "stream": "stdout",
       "text": [
        " 242\n",
        "Initial error: 0.1087\n",
        "Final error: 0.0184\n",
        "Image:  242\n",
        "Initial error: 0.0616\n",
        "Final error: 0.0163\n",
        "Image: "
       ]
      },
      {
       "output_type": "stream",
       "stream": "stdout",
       "text": [
        " 243\n",
        "Initial error: 0.2402\n",
        "Final error: 0.1615\n",
        "Image:  243\n",
        "Initial error: 0.1250\n",
        "Final error: 0.0512\n",
        "Image: "
       ]
      },
      {
       "output_type": "stream",
       "stream": "stdout",
       "text": [
        " 243\n",
        "Initial error: 0.1582\n",
        "Final error: 0.0261\n",
        "Image:  243\n",
        "Initial error: 0.1338\n",
        "Final error: 0.0495\n",
        "Image: "
       ]
      },
      {
       "output_type": "stream",
       "stream": "stdout",
       "text": [
        " 243\n",
        "Initial error: 0.1246\n",
        "Final error: 0.0296\n",
        "Image:  244\n",
        "Initial error: 0.2224\n",
        "Final error: 0.0822\n",
        "Image: "
       ]
      },
      {
       "output_type": "stream",
       "stream": "stdout",
       "text": [
        " 244\n",
        "Initial error: 0.0774\n",
        "Final error: 0.0275\n",
        "Image:  244\n",
        "Initial error: 0.1303\n",
        "Final error: 0.0330\n",
        "Image: "
       ]
      },
      {
       "output_type": "stream",
       "stream": "stdout",
       "text": [
        " 244\n",
        "Initial error: 0.1138\n",
        "Final error: 0.0323\n",
        "Image:  244\n",
        "Initial error: 0.0745\n",
        "Final error: 0.0340\n",
        "Image: "
       ]
      },
      {
       "output_type": "stream",
       "stream": "stdout",
       "text": [
        " 245\n",
        "Initial error: 0.2358\n",
        "Final error: 0.3093\n",
        "Image:  245\n",
        "Initial error: 0.0772\n",
        "Final error: 0.0584\n",
        "Image: "
       ]
      },
      {
       "output_type": "stream",
       "stream": "stdout",
       "text": [
        " 245\n",
        "Initial error: 0.1378\n",
        "Final error: 0.0544\n",
        "Image:  245\n",
        "Initial error: 0.1152\n",
        "Final error: 0.0561\n",
        "Image: "
       ]
      },
      {
       "output_type": "stream",
       "stream": "stdout",
       "text": [
        " 245\n",
        "Initial error: 0.0860\n",
        "Final error: 0.0503\n",
        "Image:  246\n",
        "Initial error: 0.2237\n",
        "Final error: 0.1777\n",
        "Image: "
       ]
      },
      {
       "output_type": "stream",
       "stream": "stdout",
       "text": [
        " 246\n",
        "Initial error: 0.0886\n",
        "Final error: 0.0373\n",
        "Image:  246\n",
        "Initial error: 0.1402\n",
        "Final error: 0.0387\n",
        "Image: "
       ]
      },
      {
       "output_type": "stream",
       "stream": "stdout",
       "text": [
        " 246\n",
        "Initial error: 0.1142\n",
        "Final error: 0.0328\n",
        "Image:  246\n",
        "Initial error: 0.0905\n",
        "Final error: 0.0357\n",
        "Image: "
       ]
      },
      {
       "output_type": "stream",
       "stream": "stdout",
       "text": [
        " 247\n",
        "Initial error: 0.2229\n",
        "Final error: 0.1243\n",
        "Image:  247\n",
        "Initial error: 0.1792\n",
        "Final error: 0.0915\n",
        "Image: "
       ]
      },
      {
       "output_type": "stream",
       "stream": "stdout",
       "text": [
        " 247\n",
        "Initial error: 0.1647\n",
        "Final error: 0.0974\n",
        "Image:  247\n",
        "Initial error: 0.2149\n",
        "Final error: 0.1479\n",
        "Image: "
       ]
      },
      {
       "output_type": "stream",
       "stream": "stdout",
       "text": [
        " 247\n",
        "Initial error: 0.1377\n",
        "Final error: 0.1879\n",
        "Image:  248\n",
        "Initial error: 0.2253\n",
        "Final error: 0.0197\n",
        "Image: "
       ]
      },
      {
       "output_type": "stream",
       "stream": "stdout",
       "text": [
        " 248\n",
        "Initial error: 0.0661\n",
        "Final error: 0.0165\n",
        "Image:  248\n",
        "Initial error: 0.1270\n",
        "Final error: 0.0200\n",
        "Image: "
       ]
      },
      {
       "output_type": "stream",
       "stream": "stdout",
       "text": [
        " 248\n",
        "Initial error: 0.1093\n",
        "Final error: 0.0214\n",
        "Image:  248\n",
        "Initial error: 0.0620\n",
        "Final error: 0.0213\n",
        "Image: "
       ]
      },
      {
       "output_type": "stream",
       "stream": "stdout",
       "text": [
        " 249\n",
        "Initial error: 0.2263\n",
        "Final error: 0.1905\n",
        "Image:  249\n",
        "Initial error: 0.0603\n",
        "Final error: 0.0580\n",
        "Image:  249\n",
        "Initial error: 0.1267\n",
        "Final error: 0.0622"
       ]
      },
      {
       "output_type": "stream",
       "stream": "stdout",
       "text": [
        "\n",
        "Image:  249\n",
        "Initial error: 0.1092\n",
        "Final error: 0.0409\n",
        "Image: "
       ]
      },
      {
       "output_type": "stream",
       "stream": "stdout",
       "text": [
        " 249\n",
        "Initial error: 0.0625\n",
        "Final error: 0.0419\n",
        "Image:  250\n",
        "Initial error: 0.2188\n",
        "Final error: 0.1453\n",
        "Image: "
       ]
      },
      {
       "output_type": "stream",
       "stream": "stdout",
       "text": [
        " 250\n",
        "Initial error: 0.0579\n",
        "Final error: 0.0568\n",
        "Image:  250\n",
        "Initial error: 0.1247\n",
        "Final error: 0.0653\n",
        "Image: "
       ]
      },
      {
       "output_type": "stream",
       "stream": "stdout",
       "text": [
        " 250\n",
        "Initial error: 0.1034\n",
        "Final error: 0.0521\n",
        "Image:  250\n",
        "Initial error: 0.0616\n",
        "Final error: 0.0485\n",
        "Image: "
       ]
      },
      {
       "output_type": "stream",
       "stream": "stdout",
       "text": [
        " 251\n",
        "Initial error: 0.2115\n",
        "Final error: 0.0246\n",
        "Image:  251\n",
        "Initial error: 0.0868\n",
        "Final error: 0.0291\n",
        "Image: "
       ]
      },
      {
       "output_type": "stream",
       "stream": "stdout",
       "text": [
        " 251\n",
        "Initial error: 0.1333\n",
        "Final error: 0.0269\n",
        "Image:  251\n",
        "Initial error: 0.1215\n",
        "Final error: 0.1337\n",
        "Image: "
       ]
      },
      {
       "output_type": "stream",
       "stream": "stdout",
       "text": [
        " 251\n",
        "Initial error: 0.0814\n",
        "Final error: 0.0272\n",
        "Image:  252\n",
        "Initial error: 0.2227\n",
        "Final error: 0.1880\n",
        "Image: "
       ]
      },
      {
       "output_type": "stream",
       "stream": "stdout",
       "text": [
        " 252\n",
        "Initial error: 0.0779\n",
        "Final error: 0.0782\n",
        "Image:  252\n",
        "Initial error: 0.1354\n",
        "Final error: 0.0628\n",
        "Image: "
       ]
      },
      {
       "output_type": "stream",
       "stream": "stdout",
       "text": [
        " 252\n",
        "Initial error: 0.1136\n",
        "Final error: 0.0673\n",
        "Image:  252\n",
        "Initial error: 0.0810\n",
        "Final error: 0.0651\n",
        "Image: "
       ]
      },
      {
       "output_type": "stream",
       "stream": "stdout",
       "text": [
        " 253\n",
        "Initial error: 0.2234\n",
        "Final error: 0.0426\n",
        "Image:  253\n",
        "Initial error: 0.0579\n",
        "Final error: 0.0377\n",
        "Image: "
       ]
      },
      {
       "output_type": "stream",
       "stream": "stdout",
       "text": [
        " 253\n",
        "Initial error: 0.1285\n",
        "Final error: 0.0410\n",
        "Image:  253\n",
        "Initial error: 0.1077\n",
        "Final error: 0.0266\n",
        "Image: "
       ]
      },
      {
       "output_type": "stream",
       "stream": "stdout",
       "text": [
        " 253\n",
        "Initial error: 0.0644\n",
        "Final error: 0.0337\n",
        "Image:  254\n",
        "Initial error: 0.2302\n",
        "Final error: 0.1877\n",
        "Image: "
       ]
      },
      {
       "output_type": "stream",
       "stream": "stdout",
       "text": [
        " 254\n",
        "Initial error: 0.0880\n",
        "Final error: 0.0427\n",
        "Image:  254\n",
        "Initial error: 0.1440\n",
        "Final error: 0.0395\n",
        "Image: "
       ]
      },
      {
       "output_type": "stream",
       "stream": "stdout",
       "text": [
        " 254\n",
        "Initial error: 0.1119\n",
        "Final error: 0.0594\n",
        "Image:  254\n",
        "Initial error: 0.0961\n",
        "Final error: 0.0344\n",
        "Image: "
       ]
      },
      {
       "output_type": "stream",
       "stream": "stdout",
       "text": [
        " 255\n",
        "Initial error: 0.2207\n",
        "Final error: 0.1713\n",
        "Image:  255\n",
        "Initial error: 0.0734\n",
        "Final error: 0.0426\n",
        "Image: "
       ]
      },
      {
       "output_type": "stream",
       "stream": "stdout",
       "text": [
        " 255\n",
        "Initial error: 0.1312\n",
        "Final error: 0.1060\n",
        "Image:  255\n",
        "Initial error: 0.1115\n",
        "Final error: 0.0364\n",
        "Image: "
       ]
      },
      {
       "output_type": "stream",
       "stream": "stdout",
       "text": [
        " 255\n",
        "Initial error: 0.0715\n",
        "Final error: 0.0266\n",
        "Image:  256\n",
        "Initial error: 0.2261\n",
        "Final error: 0.0632\n",
        "Image: "
       ]
      },
      {
       "output_type": "stream",
       "stream": "stdout",
       "text": [
        " 256\n",
        "Initial error: 0.0570\n",
        "Final error: 0.0182\n",
        "Image:  256\n",
        "Initial error: 0.1247\n",
        "Final error: 0.0262\n",
        "Image: "
       ]
      },
      {
       "output_type": "stream",
       "stream": "stdout",
       "text": [
        " 256\n",
        "Initial error: 0.1079\n",
        "Final error: 0.0315\n",
        "Image:  256\n",
        "Initial error: 0.0598\n",
        "Final error: 0.0258\n",
        "Image: "
       ]
      },
      {
       "output_type": "stream",
       "stream": "stdout",
       "text": [
        " 257\n",
        "Initial error: 0.2232\n",
        "Final error: 0.0685\n",
        "Image:  257\n",
        "Initial error: 0.0907\n",
        "Final error: 0.0333\n",
        "Image: "
       ]
      },
      {
       "output_type": "stream",
       "stream": "stdout",
       "text": [
        " 257\n",
        "Initial error: 0.1345\n",
        "Final error: 0.0344\n",
        "Image:  257\n",
        "Initial error: 0.1246\n",
        "Final error: 0.0367\n",
        "Image: "
       ]
      },
      {
       "output_type": "stream",
       "stream": "stdout",
       "text": [
        " 257\n",
        "Initial error: 0.0870\n",
        "Final error: 0.0399\n",
        "Image:  258\n",
        "Initial error: 0.2248\n",
        "Final error: 0.0879\n",
        "Image: "
       ]
      },
      {
       "output_type": "stream",
       "stream": "stdout",
       "text": [
        " 258\n",
        "Initial error: 0.0555\n",
        "Final error: 0.0353\n",
        "Image:  258\n",
        "Initial error: 0.1250\n",
        "Final error: 0.0306\n",
        "Image: "
       ]
      },
      {
       "output_type": "stream",
       "stream": "stdout",
       "text": [
        " 258\n",
        "Initial error: 0.1067\n",
        "Final error: 0.0335\n",
        "Image:  258\n",
        "Initial error: 0.0590\n",
        "Final error: 0.0301\n",
        "Image: "
       ]
      },
      {
       "output_type": "stream",
       "stream": "stdout",
       "text": [
        " 259\n",
        "Initial error: 0.2348\n",
        "Final error: 0.1334\n",
        "Image:  259\n",
        "Initial error: 0.1494\n",
        "Final error: 0.0804\n",
        "Image: "
       ]
      },
      {
       "output_type": "stream",
       "stream": "stdout",
       "text": [
        " 259\n",
        "Initial error: 0.1704\n",
        "Final error: 0.0776\n",
        "Image:  259\n",
        "Initial error: 0.1599\n",
        "Final error: 0.0592\n",
        "Image: "
       ]
      },
      {
       "output_type": "stream",
       "stream": "stdout",
       "text": [
        " 259\n",
        "Initial error: 0.1428\n",
        "Final error: 0.0929\n",
        "Image:  260\n",
        "Initial error: 0.2299\n",
        "Final error: 0.1329\n",
        "Image: "
       ]
      },
      {
       "output_type": "stream",
       "stream": "stdout",
       "text": [
        " 260\n",
        "Initial error: 0.0689\n",
        "Final error: 0.0376\n",
        "Image:  260\n",
        "Initial error: 0.1280\n",
        "Final error: 0.0400\n",
        "Image: "
       ]
      },
      {
       "output_type": "stream",
       "stream": "stdout",
       "text": [
        " 260\n",
        "Initial error: 0.1161\n",
        "Final error: 0.0396\n",
        "Image:  260\n",
        "Initial error: 0.0667\n",
        "Final error: 0.0319\n",
        "Image: "
       ]
      },
      {
       "output_type": "stream",
       "stream": "stdout",
       "text": [
        " 261\n",
        "Initial error: 0.2158\n",
        "Final error: 0.1385\n",
        "Image:  261\n",
        "Initial error: 0.1361\n",
        "Final error: 0.0855\n",
        "Image: "
       ]
      },
      {
       "output_type": "stream",
       "stream": "stdout",
       "text": [
        " 261\n",
        "Initial error: 0.1503\n",
        "Final error: 0.0806\n",
        "Image:  261\n",
        "Initial error: 0.1660\n",
        "Final error: 0.1180\n",
        "Image: "
       ]
      },
      {
       "output_type": "stream",
       "stream": "stdout",
       "text": [
        " 261\n",
        "Initial error: 0.1135\n",
        "Final error: 0.0817\n",
        "Image:  262\n",
        "Initial error: 0.2199\n",
        "Final error: 0.0236\n",
        "Image: "
       ]
      },
      {
       "output_type": "stream",
       "stream": "stdout",
       "text": [
        " 262\n",
        "Initial error: 0.0524\n",
        "Final error: 0.0233\n",
        "Image:  262\n",
        "Initial error: 0.1254\n",
        "Final error: 0.0281\n",
        "Image: "
       ]
      },
      {
       "output_type": "stream",
       "stream": "stdout",
       "text": [
        " 262\n",
        "Initial error: 0.1040\n",
        "Final error: 0.0214\n",
        "Image:  262\n",
        "Initial error: 0.0632\n",
        "Final error: 0.0237\n",
        "Image: "
       ]
      },
      {
       "output_type": "stream",
       "stream": "stdout",
       "text": [
        " 263\n",
        "Initial error: 0.2269\n",
        "Final error: 0.1529\n",
        "Image:  263\n",
        "Initial error: 0.0657\n",
        "Final error: 0.0529\n",
        "Image: "
       ]
      },
      {
       "output_type": "stream",
       "stream": "stdout",
       "text": [
        " 263\n",
        "Initial error: 0.1253\n",
        "Final error: 0.0576\n",
        "Image:  263\n",
        "Initial error: 0.1128\n",
        "Final error: 0.0514\n",
        "Image: "
       ]
      },
      {
       "output_type": "stream",
       "stream": "stdout",
       "text": [
        " 263\n",
        "Initial error: 0.0583\n",
        "Final error: 0.0495\n",
        "Image:  264\n",
        "Initial error: 0.2128\n",
        "Final error: 0.0981\n",
        "Image: "
       ]
      },
      {
       "output_type": "stream",
       "stream": "stdout",
       "text": [
        " 264\n",
        "Initial error: 0.0646\n",
        "Final error: 0.0553\n",
        "Image:  264\n",
        "Initial error: 0.1261\n",
        "Final error: 0.0421\n",
        "Image: "
       ]
      },
      {
       "output_type": "stream",
       "stream": "stdout",
       "text": [
        " 264\n",
        "Initial error: 0.1088\n",
        "Final error: 0.0520\n",
        "Image:  264\n",
        "Initial error: 0.0645\n",
        "Final error: 0.0520"
       ]
      },
      {
       "output_type": "stream",
       "stream": "stdout",
       "text": [
        "\n",
        "Image:  265\n",
        "Initial error: 0.2205\n",
        "Final error: 0.1360\n",
        "Image: "
       ]
      },
      {
       "output_type": "stream",
       "stream": "stdout",
       "text": [
        " 265\n",
        "Initial error: 0.0595\n",
        "Final error: 0.1596\n",
        "Image: "
       ]
      },
      {
       "output_type": "stream",
       "stream": "stdout",
       "text": [
        " 265\n",
        "Initial error: 0.1264\n",
        "Final error: 0.1006\n",
        "Image:  265\n",
        "Initial error: 0.1084\n",
        "Final error: 0.2343"
       ]
      },
      {
       "output_type": "stream",
       "stream": "stdout",
       "text": [
        "\n",
        "Image:  265\n",
        "Initial error: 0.0641\n",
        "Final error: 0.1113"
       ]
      },
      {
       "output_type": "stream",
       "stream": "stdout",
       "text": [
        "\n",
        "Image:  266\n",
        "Initial error: 0.2223\n",
        "Final error: 0.1681\n",
        "Image: "
       ]
      },
      {
       "output_type": "stream",
       "stream": "stdout",
       "text": [
        " 266\n",
        "Initial error: 0.0756\n",
        "Final error: 0.0401\n",
        "Image:  266\n",
        "Initial error: 0.1318\n",
        "Final error: 0.0334"
       ]
      },
      {
       "output_type": "stream",
       "stream": "stdout",
       "text": [
        "\n",
        "Image:  266\n",
        "Initial error: 0.1029\n",
        "Final error: 0.0321\n",
        "Image: "
       ]
      },
      {
       "output_type": "stream",
       "stream": "stdout",
       "text": [
        " 266\n",
        "Initial error: 0.0819\n",
        "Final error: 0.0305\n",
        "Image:  267\n",
        "Initial error: 0.2298\n",
        "Final error: 0.1741"
       ]
      },
      {
       "output_type": "stream",
       "stream": "stdout",
       "text": [
        "\n",
        "Image:  267\n",
        "Initial error: 0.0909\n",
        "Final error: 0.0514\n",
        "Image: "
       ]
      },
      {
       "output_type": "stream",
       "stream": "stdout",
       "text": [
        " 267\n",
        "Initial error: 0.1474\n",
        "Final error: 0.0589\n",
        "Image:  267\n",
        "Initial error: 0.1159\n",
        "Final error: 0.0562"
       ]
      },
      {
       "output_type": "stream",
       "stream": "stdout",
       "text": [
        "\n",
        "Image:  267\n",
        "Initial error: 0.0966\n",
        "Final error: 0.0544\n",
        "Image: "
       ]
      },
      {
       "output_type": "stream",
       "stream": "stdout",
       "text": [
        " 268\n",
        "Initial error: 0.2094\n",
        "Final error: 0.0184\n",
        "Image: "
       ]
      },
      {
       "output_type": "stream",
       "stream": "stdout",
       "text": [
        " 268\n",
        "Initial error: 0.0958\n",
        "Final error: 0.0787\n",
        "Image: "
       ]
      },
      {
       "output_type": "stream",
       "stream": "stdout",
       "text": [
        " 268\n",
        "Initial error: 0.1467\n",
        "Final error: 0.0277\n",
        "Image: "
       ]
      },
      {
       "output_type": "stream",
       "stream": "stdout",
       "text": [
        " 268\n",
        "Initial error: 0.1280\n",
        "Final error: 0.2246\n",
        "Image: "
       ]
      },
      {
       "output_type": "stream",
       "stream": "stdout",
       "text": [
        " 268\n",
        "Initial error: 0.0960\n",
        "Final error: 0.0212\n",
        "Image: "
       ]
      },
      {
       "output_type": "stream",
       "stream": "stdout",
       "text": [
        " 269\n",
        "Initial error: 0.2195\n",
        "Final error: 0.1257\n",
        "Image: "
       ]
      },
      {
       "output_type": "stream",
       "stream": "stdout",
       "text": [
        " 269\n",
        "Initial error: 0.0818\n",
        "Final error: 0.0603\n",
        "Image: "
       ]
      },
      {
       "output_type": "stream",
       "stream": "stdout",
       "text": [
        " 269\n",
        "Initial error: 0.1341\n",
        "Final error: 0.0681\n",
        "Image: "
       ]
      },
      {
       "output_type": "stream",
       "stream": "stdout",
       "text": [
        " 269\n",
        "Initial error: 0.1083\n",
        "Final error: 0.0541\n",
        "Image: "
       ]
      },
      {
       "output_type": "stream",
       "stream": "stdout",
       "text": [
        " 269\n",
        "Initial error: 0.0894\n",
        "Final error: 0.0581\n",
        "Image:  270\n",
        "Initial error: 0.2283\n",
        "Final error: 0.0469\n",
        "Image: "
       ]
      },
      {
       "output_type": "stream",
       "stream": "stdout",
       "text": [
        " 270\n",
        "Initial error: 0.0465\n",
        "Final error: 0.0326\n",
        "Image:  270\n",
        "Initial error: 0.1247\n",
        "Final error: 0.0374\n",
        "Image: "
       ]
      },
      {
       "output_type": "stream",
       "stream": "stdout",
       "text": [
        " 270\n",
        "Initial error: 0.1007\n",
        "Final error: 0.0575\n",
        "Image:  270\n",
        "Initial error: 0.0607\n",
        "Final error: 0.0365\n",
        "Image: "
       ]
      },
      {
       "output_type": "stream",
       "stream": "stdout",
       "text": [
        " 271\n",
        "Initial error: 0.2299\n",
        "Final error: 0.1981\n",
        "Image:  271\n",
        "Initial error: 0.0727\n",
        "Final error: 0.0981\n",
        "Image: "
       ]
      },
      {
       "output_type": "stream",
       "stream": "stdout",
       "text": [
        " 271\n",
        "Initial error: 0.1333\n",
        "Final error: 0.1138\n",
        "Image:  271\n",
        "Initial error: 0.1138\n",
        "Final error: 0.1115\n",
        "Image: "
       ]
      },
      {
       "output_type": "stream",
       "stream": "stdout",
       "text": [
        " 271\n",
        "Initial error: 0.0774\n",
        "Final error: 0.1202\n",
        "Image:  272\n",
        "Initial error: 0.2335\n",
        "Final error: 0.0894\n",
        "Image: "
       ]
      },
      {
       "output_type": "stream",
       "stream": "stdout",
       "text": [
        " 272\n",
        "Initial error: 0.1309\n",
        "Final error: 0.0894\n",
        "Image:  272\n",
        "Initial error: 0.1613\n",
        "Final error: 0.0575\n",
        "Image: "
       ]
      },
      {
       "output_type": "stream",
       "stream": "stdout",
       "text": [
        " 272\n",
        "Initial error: 0.1434\n",
        "Final error: 0.0903\n",
        "Image:  272\n",
        "Initial error: 0.1272\n",
        "Final error: 0.0580\n",
        "Image: "
       ]
      },
      {
       "output_type": "stream",
       "stream": "stdout",
       "text": [
        " 273\n",
        "Initial error: 0.2234\n",
        "Final error: 0.2529\n",
        "Image:  273\n",
        "Initial error: 0.0722\n",
        "Final error: 0.0383\n",
        "Image: "
       ]
      },
      {
       "output_type": "stream",
       "stream": "stdout",
       "text": [
        " 273\n",
        "Initial error: 0.1251\n",
        "Final error: 0.0524\n",
        "Image:  273\n",
        "Initial error: 0.1165\n",
        "Final error: 0.1191\n",
        "Image: "
       ]
      },
      {
       "output_type": "stream",
       "stream": "stdout",
       "text": [
        " 273\n",
        "Initial error: 0.0617\n",
        "Final error: 0.0402\n",
        "Image:  274\n",
        "Initial error: 0.2221\n",
        "Final error: 0.1712\n",
        "Image: "
       ]
      },
      {
       "output_type": "stream",
       "stream": "stdout",
       "text": [
        " 274\n",
        "Initial error: 0.0588\n",
        "Final error: 0.0289\n",
        "Image:  274\n",
        "Initial error: 0.1262\n",
        "Final error: 0.0274\n",
        "Image: "
       ]
      },
      {
       "output_type": "stream",
       "stream": "stdout",
       "text": [
        " 274\n",
        "Initial error: 0.1081\n",
        "Final error: 0.0310\n",
        "Image:  274\n",
        "Initial error: 0.0614\n",
        "Final error: 0.0268\n",
        "Image: "
       ]
      },
      {
       "output_type": "stream",
       "stream": "stdout",
       "text": [
        " 275\n",
        "Initial error: 0.2289\n",
        "Final error: 0.3182\n",
        "Image:  275\n",
        "Initial error: 0.0753\n",
        "Final error: 0.0560\n",
        "Image: "
       ]
      },
      {
       "output_type": "stream",
       "stream": "stdout",
       "text": [
        " 275\n",
        "Initial error: 0.1369\n",
        "Final error: 0.0572\n",
        "Image:  275\n",
        "Initial error: 0.1071\n",
        "Final error: 0.0438\n",
        "Image: "
       ]
      },
      {
       "output_type": "stream",
       "stream": "stdout",
       "text": [
        " 275\n",
        "Initial error: 0.0841\n",
        "Final error: 0.0373\n",
        "Image:  276\n",
        "Initial error: 0.2240\n",
        "Final error: 0.2303\n",
        "Image: "
       ]
      },
      {
       "output_type": "stream",
       "stream": "stdout",
       "text": [
        " 276\n",
        "Initial error: 0.1041\n",
        "Final error: 0.0217\n",
        "Image:  276\n",
        "Initial error: 0.1541\n",
        "Final error: 0.0221\n",
        "Image: "
       ]
      },
      {
       "output_type": "stream",
       "stream": "stdout",
       "text": [
        " 276\n",
        "Initial error: 0.1218\n",
        "Final error: 0.0218\n",
        "Image:  276\n",
        "Initial error: 0.1142\n",
        "Final error: 0.0247\n",
        "Image: "
       ]
      },
      {
       "output_type": "stream",
       "stream": "stdout",
       "text": [
        " 277\n",
        "Initial error: 0.2281\n",
        "Final error: 0.2481\n",
        "Image:  277\n",
        "Initial error: 0.0661\n",
        "Final error: 0.0894\n",
        "Image: "
       ]
      },
      {
       "output_type": "stream",
       "stream": "stdout",
       "text": [
        " 277\n",
        "Initial error: 0.1266\n",
        "Final error: 0.0753\n",
        "Image:  277\n",
        "Initial error: 0.1149\n",
        "Final error: 0.0919\n",
        "Image: "
       ]
      },
      {
       "output_type": "stream",
       "stream": "stdout",
       "text": [
        " 277\n",
        "Initial error: 0.0613\n",
        "Final error: 0.0893\n",
        "Image:  278\n",
        "Initial error: 0.2271\n",
        "Final error: 0.0365\n",
        "Image: "
       ]
      },
      {
       "output_type": "stream",
       "stream": "stdout",
       "text": [
        " 278\n",
        "Initial error: 0.0873\n",
        "Final error: 0.0595\n",
        "Image:  278\n",
        "Initial error: 0.1397\n",
        "Final error: 0.0365\n",
        "Image: "
       ]
      },
      {
       "output_type": "stream",
       "stream": "stdout",
       "text": [
        " 278\n",
        "Initial error: 0.1125\n",
        "Final error: 0.0581\n",
        "Image:  278\n",
        "Initial error: 0.0913\n",
        "Final error: 0.0294\n",
        "Image: "
       ]
      },
      {
       "output_type": "stream",
       "stream": "stdout",
       "text": [
        " 279\n",
        "Initial error: 0.2164\n",
        "Final error: 0.1367\n",
        "Image:  279\n",
        "Initial error: 0.1813\n",
        "Final error: 0.1117\n",
        "Image: "
       ]
      },
      {
       "output_type": "stream",
       "stream": "stdout",
       "text": [
        " 279\n",
        "Initial error: 0.1706\n",
        "Final error: 0.1108\n",
        "Image:  279\n",
        "Initial error: 0.2150\n",
        "Final error: 0.1393\n",
        "Image: "
       ]
      },
      {
       "output_type": "stream",
       "stream": "stdout",
       "text": [
        " 279\n",
        "Initial error: 0.1419\n",
        "Final error: 0.1369\n",
        "Image:  280\n",
        "Initial error: 0.2288\n",
        "Final error: 0.0984\n",
        "Image: "
       ]
      },
      {
       "output_type": "stream",
       "stream": "stdout",
       "text": [
        " 280\n",
        "Initial error: 0.0753\n",
        "Final error: 0.0329\n",
        "Image:  280\n",
        "Initial error: 0.1296\n",
        "Final error: 0.0176\n",
        "Image: "
       ]
      },
      {
       "output_type": "stream",
       "stream": "stdout",
       "text": [
        " 280\n",
        "Initial error: 0.1172\n",
        "Final error: 0.0346\n",
        "Image:  280\n",
        "Initial error: 0.0721\n",
        "Final error: 0.0329\n",
        "Image: "
       ]
      },
      {
       "output_type": "stream",
       "stream": "stdout",
       "text": [
        " 281\n",
        "Initial error: 0.2292\n",
        "Final error: 0.0501\n",
        "Image:  281\n",
        "Initial error: 0.0602\n",
        "Final error: 0.0320\n",
        "Image: "
       ]
      },
      {
       "output_type": "stream",
       "stream": "stdout",
       "text": [
        " 281\n",
        "Initial error: 0.1263\n",
        "Final error: 0.0291\n",
        "Image:  281\n",
        "Initial error: 0.1081\n",
        "Final error: 0.0443\n",
        "Image: "
       ]
      },
      {
       "output_type": "stream",
       "stream": "stdout",
       "text": [
        " 281\n",
        "Initial error: 0.0626\n",
        "Final error: 0.0310\n",
        "Image:  282\n",
        "Initial error: 0.2253\n",
        "Final error: 0.1676\n",
        "Image: "
       ]
      },
      {
       "output_type": "stream",
       "stream": "stdout",
       "text": [
        " 282\n",
        "Initial error: 0.0759\n",
        "Final error: 0.0350\n",
        "Image:  282\n",
        "Initial error: 0.1370\n",
        "Final error: 0.0822\n",
        "Image: "
       ]
      },
      {
       "output_type": "stream",
       "stream": "stdout",
       "text": [
        " 282\n",
        "Initial error: 0.1115\n",
        "Final error: 0.0455\n",
        "Image:  282\n",
        "Initial error: 0.0864\n",
        "Final error: 0.0438\n",
        "Image: "
       ]
      },
      {
       "output_type": "stream",
       "stream": "stdout",
       "text": [
        " 283\n",
        "Initial error: 0.2257\n",
        "Final error: 0.0525\n",
        "Image:  283\n",
        "Initial error: 0.0605\n",
        "Final error: 0.0397\n",
        "Image: "
       ]
      },
      {
       "output_type": "stream",
       "stream": "stdout",
       "text": [
        " 283\n",
        "Initial error: 0.1284\n",
        "Final error: 0.0377\n",
        "Image:  283\n",
        "Initial error: 0.1076\n",
        "Final error: 0.0389\n",
        "Image: "
       ]
      },
      {
       "output_type": "stream",
       "stream": "stdout",
       "text": [
        " 283\n",
        "Initial error: 0.0661\n",
        "Final error: 0.0344\n",
        "Image:  284\n",
        "Initial error: 0.2268\n",
        "Final error: 0.0514\n",
        "Image: "
       ]
      },
      {
       "output_type": "stream",
       "stream": "stdout",
       "text": [
        " 284\n",
        "Initial error: 0.0726\n",
        "Final error: 0.0487\n",
        "Image:  284\n",
        "Initial error: 0.1267\n",
        "Final error: 0.0472\n",
        "Image: "
       ]
      },
      {
       "output_type": "stream",
       "stream": "stdout",
       "text": [
        " 284\n",
        "Initial error: 0.1176\n",
        "Final error: 0.0552\n",
        "Image:  284\n",
        "Initial error: 0.0636\n",
        "Final error: 0.0523\n",
        "Image: "
       ]
      },
      {
       "output_type": "stream",
       "stream": "stdout",
       "text": [
        " 285\n",
        "Initial error: 0.2237\n",
        "Final error: 0.0264\n",
        "Image:  285\n",
        "Initial error: 0.0650\n",
        "Final error: 0.0266\n",
        "Image: "
       ]
      },
      {
       "output_type": "stream",
       "stream": "stdout",
       "text": [
        " 285\n",
        "Initial error: 0.1260\n",
        "Final error: 0.0267\n",
        "Image:  285\n",
        "Initial error: 0.1100\n",
        "Final error: 0.0264\n",
        "Image: "
       ]
      },
      {
       "output_type": "stream",
       "stream": "stdout",
       "text": [
        " 285\n",
        "Initial error: 0.0660\n",
        "Final error: 0.0193\n",
        "Image:  286\n",
        "Initial error: 0.2250\n",
        "Final error: 0.0540\n",
        "Image: "
       ]
      },
      {
       "output_type": "stream",
       "stream": "stdout",
       "text": [
        " 286\n",
        "Initial error: 0.0620\n",
        "Final error: 0.1103\n",
        "Image:  286\n",
        "Initial error: 0.1287\n",
        "Final error: 0.0509\n",
        "Image: "
       ]
      },
      {
       "output_type": "stream",
       "stream": "stdout",
       "text": [
        " 286\n",
        "Initial error: 0.1091\n",
        "Final error: 0.1140\n",
        "Image:  286\n",
        "Initial error: 0.0734\n",
        "Final error: 0.0513\n",
        "Image: "
       ]
      },
      {
       "output_type": "stream",
       "stream": "stdout",
       "text": [
        " 287\n",
        "Initial error: 0.2249\n",
        "Final error: 0.0927\n",
        "Image:  287\n",
        "Initial error: 0.0641\n",
        "Final error: 0.0426\n",
        "Image: "
       ]
      },
      {
       "output_type": "stream",
       "stream": "stdout",
       "text": [
        " 287\n",
        "Initial error: 0.1268\n",
        "Final error: 0.0362\n",
        "Image:  287\n",
        "Initial error: 0.1132\n",
        "Final error: 0.0438\n",
        "Image: "
       ]
      },
      {
       "output_type": "stream",
       "stream": "stdout",
       "text": [
        " 287\n",
        "Initial error: 0.0683\n",
        "Final error: 0.0453\n",
        "Image:  288\n",
        "Initial error: 0.2195\n",
        "Final error: 0.0507\n",
        "Image: "
       ]
      },
      {
       "output_type": "stream",
       "stream": "stdout",
       "text": [
        " 288\n",
        "Initial error: 0.0642\n",
        "Final error: 0.0392\n",
        "Image:  288\n",
        "Initial error: 0.1257\n",
        "Final error: 0.0329\n",
        "Image: "
       ]
      },
      {
       "output_type": "stream",
       "stream": "stdout",
       "text": [
        " 288\n",
        "Initial error: 0.1063\n",
        "Final error: 0.0356\n",
        "Image:  288\n",
        "Initial error: 0.0636\n",
        "Final error: 0.0368\n",
        "Image: "
       ]
      },
      {
       "output_type": "stream",
       "stream": "stdout",
       "text": [
        " 289\n",
        "Initial error: 0.2315\n",
        "Final error: 0.1563\n",
        "Image:  289\n",
        "Initial error: 0.1286\n",
        "Final error: 0.1320\n",
        "Image: "
       ]
      },
      {
       "output_type": "stream",
       "stream": "stdout",
       "text": [
        " 289\n",
        "Initial error: 0.1611\n",
        "Final error: 0.0724\n",
        "Image:  289\n",
        "Initial error: 0.1444\n",
        "Final error: 0.1467\n",
        "Image: "
       ]
      },
      {
       "output_type": "stream",
       "stream": "stdout",
       "text": [
        " 289\n",
        "Initial error: 0.1283\n",
        "Final error: 0.1247\n",
        "Image:  290\n",
        "Initial error: 0.2130\n",
        "Final error: 0.0690\n",
        "Image: "
       ]
      },
      {
       "output_type": "stream",
       "stream": "stdout",
       "text": [
        " 290\n",
        "Initial error: 0.0923\n",
        "Final error: 0.0475\n",
        "Image:  290\n",
        "Initial error: 0.1327\n",
        "Final error: 0.0430\n",
        "Image: "
       ]
      },
      {
       "output_type": "stream",
       "stream": "stdout",
       "text": [
        " 290\n",
        "Initial error: 0.1226\n",
        "Final error: 0.0538\n",
        "Image:  290\n",
        "Initial error: 0.0861\n",
        "Final error: 0.0455\n",
        "Image: "
       ]
      },
      {
       "output_type": "stream",
       "stream": "stdout",
       "text": [
        " 291\n",
        "Initial error: 0.2153\n",
        "Final error: 0.1044\n",
        "Image:  291\n",
        "Initial error: 0.1183\n",
        "Final error: 0.0673\n",
        "Image: "
       ]
      },
      {
       "output_type": "stream",
       "stream": "stdout",
       "text": [
        " 291\n",
        "Initial error: 0.1491\n",
        "Final error: 0.0713\n",
        "Image:  291\n",
        "Initial error: 0.1511\n",
        "Final error: 0.1799\n",
        "Image: "
       ]
      },
      {
       "output_type": "stream",
       "stream": "stdout",
       "text": [
        " 291\n",
        "Initial error: 0.1040\n",
        "Final error: 0.0584\n",
        "Image:  292\n",
        "Initial error: 0.2208\n",
        "Final error: 0.0828\n",
        "Image: "
       ]
      },
      {
       "output_type": "stream",
       "stream": "stdout",
       "text": [
        " 292\n",
        "Initial error: 0.0683\n",
        "Final error: 0.0277\n",
        "Image:  292\n",
        "Initial error: 0.1256\n",
        "Final error: 0.0345\n",
        "Image: "
       ]
      },
      {
       "output_type": "stream",
       "stream": "stdout",
       "text": [
        " 292\n",
        "Initial error: 0.1082\n",
        "Final error: 0.0571\n",
        "Image:  292\n",
        "Initial error: 0.0633\n",
        "Final error: 0.0265\n",
        "Image: "
       ]
      },
      {
       "output_type": "stream",
       "stream": "stdout",
       "text": [
        " 293\n",
        "Initial error: 0.2357\n",
        "Final error: 0.1488\n",
        "Image:  293\n",
        "Initial error: 0.1053\n",
        "Final error: 0.0823\n",
        "Image: "
       ]
      },
      {
       "output_type": "stream",
       "stream": "stdout",
       "text": [
        " 293\n",
        "Initial error: 0.1512\n",
        "Final error: 0.0831\n",
        "Image:  293\n",
        "Initial error: 0.1240\n",
        "Final error: 0.1134\n",
        "Image: "
       ]
      },
      {
       "output_type": "stream",
       "stream": "stdout",
       "text": [
        " 293\n",
        "Initial error: 0.1089\n",
        "Final error: 0.0803\n",
        "Image:  294\n",
        "Initial error: 0.2179\n",
        "Final error: 0.1911\n",
        "Image: "
       ]
      },
      {
       "output_type": "stream",
       "stream": "stdout",
       "text": [
        " 294\n",
        "Initial error: 0.0659\n",
        "Final error: 0.0571\n",
        "Image:  294\n",
        "Initial error: 0.1269\n",
        "Final error: 0.0721\n",
        "Image: "
       ]
      },
      {
       "output_type": "stream",
       "stream": "stdout",
       "text": [
        " 294\n",
        "Initial error: 0.1058\n",
        "Final error: 0.0600\n",
        "Image:  294\n",
        "Initial error: 0.0648\n",
        "Final error: 0.0579\n",
        "Image: "
       ]
      },
      {
       "output_type": "stream",
       "stream": "stdout",
       "text": [
        " 295\n",
        "Initial error: 0.2237\n",
        "Final error: 0.1177\n",
        "Image:  295\n",
        "Initial error: 0.0620\n",
        "Final error: 0.0231\n",
        "Image: "
       ]
      },
      {
       "output_type": "stream",
       "stream": "stdout",
       "text": [
        " 295\n",
        "Initial error: 0.1257\n",
        "Final error: 0.0266\n",
        "Image:  295\n",
        "Initial error: 0.1088\n",
        "Final error: 0.0255\n",
        "Image: "
       ]
      },
      {
       "output_type": "stream",
       "stream": "stdout",
       "text": [
        " 295\n",
        "Initial error: 0.0629\n",
        "Final error: 0.0249\n",
        "Image:  296\n",
        "Initial error: 0.2284\n",
        "Final error: 0.2349\n",
        "Image: "
       ]
      },
      {
       "output_type": "stream",
       "stream": "stdout",
       "text": [
        " 296\n",
        "Initial error: 0.0911\n",
        "Final error: 0.0777\n",
        "Image:  296\n",
        "Initial error: 0.1317\n",
        "Final error: 0.0632\n",
        "Image: "
       ]
      },
      {
       "output_type": "stream",
       "stream": "stdout",
       "text": [
        " 296\n",
        "Initial error: 0.1268\n",
        "Final error: 0.1204\n",
        "Image:  296\n",
        "Initial error: 0.0855\n",
        "Final error: 0.0485\n",
        "Image: "
       ]
      },
      {
       "output_type": "stream",
       "stream": "stdout",
       "text": [
        " 297\n",
        "Initial error: 0.2305\n",
        "Final error: 0.1331\n",
        "Image:  297\n",
        "Initial error: 0.1019\n",
        "Final error: 0.0303\n",
        "Image: "
       ]
      },
      {
       "output_type": "stream",
       "stream": "stdout",
       "text": [
        " 297\n",
        "Initial error: 0.1482\n",
        "Final error: 0.0361\n",
        "Image:  297\n",
        "Initial error: 0.1245\n",
        "Final error: 0.0551\n",
        "Image: "
       ]
      },
      {
       "output_type": "stream",
       "stream": "stdout",
       "text": [
        " 297\n",
        "Initial error: 0.0999\n",
        "Final error: 0.0338\n",
        "Image:  298\n",
        "Initial error: 0.2176\n",
        "Final error: 0.1337\n",
        "Image: "
       ]
      },
      {
       "output_type": "stream",
       "stream": "stdout",
       "text": [
        " 298\n",
        "Initial error: 0.0661\n",
        "Final error: 0.0335\n",
        "Image:  298\n",
        "Initial error: 0.1257\n",
        "Final error: 0.0185\n",
        "Image: "
       ]
      },
      {
       "output_type": "stream",
       "stream": "stdout",
       "text": [
        " 298\n",
        "Initial error: 0.1083\n",
        "Final error: 0.0250\n",
        "Image:  298\n",
        "Initial error: 0.0622\n",
        "Final error: 0.0202\n",
        "Image: "
       ]
      },
      {
       "output_type": "stream",
       "stream": "stdout",
       "text": [
        " 299\n",
        "Initial error: 0.2234\n",
        "Final error: 0.1838\n",
        "Image:  299\n",
        "Initial error: 0.0555\n",
        "Final error: 0.0596\n",
        "Image: "
       ]
      },
      {
       "output_type": "stream",
       "stream": "stdout",
       "text": [
        " 299\n",
        "Initial error: 0.1259\n",
        "Final error: 0.0481\n",
        "Image:  299\n",
        "Initial error: 0.1020\n",
        "Final error: 0.0328\n",
        "Image: "
       ]
      },
      {
       "output_type": "stream",
       "stream": "stdout",
       "text": [
        " 299\n",
        "Initial error: 0.0614\n",
        "Final error: 0.0662\n"
       ]
      }
     ],
     "prompt_number": 15
    },
    {
     "cell_type": "heading",
     "level": 3,
     "metadata": {},
     "source": [
      "Visualize Results"
     ]
    },
    {
     "cell_type": "code",
     "collapsed": false,
     "input": [
      "from menpofit.visualize import visualize_fitting_results\n",
      "    \n",
      "visualize_fitting_results(fitter_results)"
     ],
     "language": "python",
     "metadata": {},
     "outputs": [
      {
       "metadata": {},
       "output_type": "display_data",
       "png": "[encoded data removed]",
       "text": [
        "<matplotlib.figure.Figure at 0x7f65c981b350>"
       ]
      }
     ],
     "prompt_number": 16
    },
    {
     "cell_type": "code",
     "collapsed": false,
     "input": [
      "from alabortcvpr2015.utils import pickle_dump\n",
      "from alabortcvpr2015.result import SerializableResult\n",
      "\n",
      "results = [SerializableResult('none', fr.final_shape, fr.n_iters, 'PIC', fr.gt_shape) \n",
      "           for fr in fitter_results]\n",
      "\n",
      "pickle_dump(results, '/data/PhD/Results/aam_pic_view2_fast_dsift')"
     ],
     "language": "python",
     "metadata": {},
     "outputs": [],
     "prompt_number": 18
    },
    {
     "cell_type": "heading",
     "level": 3,
     "metadata": {},
     "source": [
      "Timing"
     ]
    },
    {
     "cell_type": "heading",
     "level": 4,
     "metadata": {},
     "source": [
      "Total"
     ]
    },
    {
     "cell_type": "code",
     "collapsed": false,
     "input": [
      "%timeit fitter.fit(i, s, gt_shape=gt_s, max_iters=20)"
     ],
     "language": "python",
     "metadata": {},
     "outputs": [
      {
       "output_type": "stream",
       "stream": "stdout",
       "text": [
        "10 loops, best of 3: 25.8 ms per loop\n"
       ]
      }
     ],
     "prompt_number": 17
    },
    {
     "cell_type": "heading",
     "level": 4,
     "metadata": {},
     "source": [
      "Per line"
     ]
    },
    {
     "cell_type": "code",
     "collapsed": false,
     "input": [
      "#import line_profiler\n",
      "#import IPython\n",
      "\n",
      "#ip = IPython.get_ipython()\n",
      "#ip.define_magic('lprun', line_profiler.magic_lprun)"
     ],
     "language": "python",
     "metadata": {},
     "outputs": []
    },
    {
     "cell_type": "code",
     "collapsed": false,
     "input": [
      "#from alabortcvpr2015.aam import PIC\n",
      "\n",
      "#%lprun -f PIC.run fitter.fit(i, s, gt_shape=gt_s, max_iters=20)"
     ],
     "language": "python",
     "metadata": {},
     "outputs": []
    }
   ],
   "metadata": {}
  }
 ]
}