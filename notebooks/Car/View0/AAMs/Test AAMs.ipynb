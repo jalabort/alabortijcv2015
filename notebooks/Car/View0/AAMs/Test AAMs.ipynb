{
 "metadata": {
  "name": "",
  "signature": "sha256:2d441f6a8b7dd45060ff04b0f66b7f9d4d07261c96d538a4d99924f36ee89954"
 },
 "nbformat": 3,
 "nbformat_minor": 0,
 "worksheets": [
  {
   "cells": [
    {
     "cell_type": "code",
     "collapsed": false,
     "input": [
      "%matplotlib inline\n",
      "%pylab inline"
     ],
     "language": "python",
     "metadata": {},
     "outputs": [
      {
       "output_type": "stream",
       "stream": "stdout",
       "text": [
        "Populating the interactive namespace from numpy and matplotlib\n"
       ]
      }
     ],
     "prompt_number": 1
    },
    {
     "cell_type": "code",
     "collapsed": false,
     "input": [
      "repeat = 1"
     ],
     "language": "python",
     "metadata": {},
     "outputs": [],
     "prompt_number": 2
    },
    {
     "cell_type": "heading",
     "level": 1,
     "metadata": {},
     "source": [
      "Load test data"
     ]
    },
    {
     "cell_type": "code",
     "collapsed": false,
     "input": [
      "import menpo.io as mio\n",
      "from menpo.landmark import labeller, streetscene_car_view_0\n",
      "from menpofast.utils import convert_from_menpo\n",
      "\n",
      "group = 'streetscene_car_view_0'\n",
      "\n",
      "test_images = []\n",
      "for i in mio.import_images('/data/PhD/DataBases/cars/cmu_car_data1/view0/', verbose=True, \n",
      "                           max_images=None):\n",
      "    \n",
      "    # convert the image from menpo Image to menpofast Image (channels at front)\n",
      "    i = convert_from_menpo(i)\n",
      "    \n",
      "    labeller(i, 'PTS', eval(group))\n",
      "    i.crop_to_landmarks_proportion_inplace(1, group=group)\n",
      "    i = i.rescale_landmarks_to_diagonal_range(200, group=group)\n",
      "    \n",
      "    if i.n_channels == 3:\n",
      "        i = i.as_greyscale(mode='average')\n",
      "    test_images.append(i)"
     ],
     "language": "python",
     "metadata": {},
     "outputs": [
      {
       "output_type": "stream",
       "stream": "stdout",
       "text": [
        "\r",
        "- Loading 466 assets: [                    ] 0%"
       ]
      },
      {
       "output_type": "stream",
       "stream": "stdout",
       "text": [
        "\r",
        "- Loading 466 assets: [                    ] 0%"
       ]
      },
      {
       "output_type": "stream",
       "stream": "stdout",
       "text": [
        "\r",
        "- Loading 466 assets: [                    ] 0%"
       ]
      },
      {
       "output_type": "stream",
       "stream": "stdout",
       "text": [
        "\r",
        "- Loading 466 assets: [                    ] 0%"
       ]
      },
      {
       "output_type": "stream",
       "stream": "stdout",
       "text": [
        "\r",
        "- Loading 466 assets: [                    ] 1%"
       ]
      },
      {
       "output_type": "stream",
       "stream": "stdout",
       "text": [
        "\r",
        "- Loading 466 assets: [                    ] 1%"
       ]
      },
      {
       "output_type": "stream",
       "stream": "stdout",
       "text": [
        "\r",
        "- Loading 466 assets: [                    ] 1%"
       ]
      },
      {
       "output_type": "stream",
       "stream": "stdout",
       "text": [
        "\r",
        "- Loading 466 assets: [                    ] 1%"
       ]
      },
      {
       "output_type": "stream",
       "stream": "stdout",
       "text": [
        "\r",
        "- Loading 466 assets: [                    ] 1%"
       ]
      },
      {
       "output_type": "stream",
       "stream": "stdout",
       "text": [
        "\r",
        "- Loading 466 assets: [                    ] 2%"
       ]
      },
      {
       "output_type": "stream",
       "stream": "stdout",
       "text": [
        "\r",
        "- Loading 466 assets: [                    ] 2%"
       ]
      },
      {
       "output_type": "stream",
       "stream": "stdout",
       "text": [
        "\r",
        "- Loading 466 assets: [                    ] 2%"
       ]
      },
      {
       "output_type": "stream",
       "stream": "stdout",
       "text": [
        "\r",
        "- Loading 466 assets: [                    ] 2%"
       ]
      },
      {
       "output_type": "stream",
       "stream": "stdout",
       "text": [
        "\r",
        "- Loading 466 assets: [                    ] 3%"
       ]
      },
      {
       "output_type": "stream",
       "stream": "stdout",
       "text": [
        "\r",
        "- Loading 466 assets: [                    ] 3%"
       ]
      },
      {
       "output_type": "stream",
       "stream": "stdout",
       "text": [
        "\r",
        "- Loading 466 assets: [                    ] 3%"
       ]
      },
      {
       "output_type": "stream",
       "stream": "stdout",
       "text": [
        "\r",
        "- Loading 466 assets: [                    ] 3%"
       ]
      },
      {
       "output_type": "stream",
       "stream": "stdout",
       "text": [
        "\r",
        "- Loading 466 assets: [                    ] 3%"
       ]
      },
      {
       "output_type": "stream",
       "stream": "stdout",
       "text": [
        "\r",
        "- Loading 466 assets: [                    ] 4%"
       ]
      },
      {
       "output_type": "stream",
       "stream": "stdout",
       "text": [
        "\r",
        "- Loading 466 assets: [                    ] 4%"
       ]
      },
      {
       "output_type": "stream",
       "stream": "stdout",
       "text": [
        "\r",
        "- Loading 466 assets: [                    ] 4%"
       ]
      },
      {
       "output_type": "stream",
       "stream": "stdout",
       "text": [
        "\r",
        "- Loading 466 assets: [                    ] 4%"
       ]
      },
      {
       "output_type": "stream",
       "stream": "stdout",
       "text": [
        "\r",
        "- Loading 466 assets: [                    ] 4%"
       ]
      },
      {
       "output_type": "stream",
       "stream": "stdout",
       "text": [
        "\r",
        "- Loading 466 assets: [=                   ] 5%"
       ]
      },
      {
       "output_type": "stream",
       "stream": "stdout",
       "text": [
        "\r",
        "- Loading 466 assets: [=                   ] 5%"
       ]
      },
      {
       "output_type": "stream",
       "stream": "stdout",
       "text": [
        "\r",
        "- Loading 466 assets: [=                   ] 5%"
       ]
      },
      {
       "output_type": "stream",
       "stream": "stdout",
       "text": [
        "\r",
        "- Loading 466 assets: [=                   ] 5%"
       ]
      },
      {
       "output_type": "stream",
       "stream": "stdout",
       "text": [
        "\r",
        "- Loading 466 assets: [=                   ] 6%"
       ]
      },
      {
       "output_type": "stream",
       "stream": "stdout",
       "text": [
        "\r",
        "- Loading 466 assets: [=                   ] 6%"
       ]
      },
      {
       "output_type": "stream",
       "stream": "stdout",
       "text": [
        "\r",
        "- Loading 466 assets: [=                   ] 6%"
       ]
      },
      {
       "output_type": "stream",
       "stream": "stdout",
       "text": [
        "\r",
        "- Loading 466 assets: [=                   ] 6%"
       ]
      },
      {
       "output_type": "stream",
       "stream": "stdout",
       "text": [
        "\r",
        "- Loading 466 assets: [=                   ] 6%"
       ]
      },
      {
       "output_type": "stream",
       "stream": "stdout",
       "text": [
        "\r",
        "- Loading 466 assets: [=                   ] 7%"
       ]
      },
      {
       "output_type": "stream",
       "stream": "stdout",
       "text": [
        "\r",
        "- Loading 466 assets: [=                   ] 7%"
       ]
      },
      {
       "output_type": "stream",
       "stream": "stdout",
       "text": [
        "\r",
        "- Loading 466 assets: [=                   ] 7%"
       ]
      },
      {
       "output_type": "stream",
       "stream": "stdout",
       "text": [
        "\r",
        "- Loading 466 assets: [=                   ] 7%"
       ]
      },
      {
       "output_type": "stream",
       "stream": "stdout",
       "text": [
        "\r",
        "- Loading 466 assets: [=                   ] 7%"
       ]
      },
      {
       "output_type": "stream",
       "stream": "stdout",
       "text": [
        "\r",
        "- Loading 466 assets: [=                   ] 8%"
       ]
      },
      {
       "output_type": "stream",
       "stream": "stdout",
       "text": [
        "\r",
        "- Loading 466 assets: [=                   ] 8%"
       ]
      },
      {
       "output_type": "stream",
       "stream": "stdout",
       "text": [
        "\r",
        "- Loading 466 assets: [=                   ] 8%"
       ]
      },
      {
       "output_type": "stream",
       "stream": "stdout",
       "text": [
        "\r",
        "- Loading 466 assets: [=                   ] 8%"
       ]
      },
      {
       "output_type": "stream",
       "stream": "stdout",
       "text": [
        "\r",
        "- Loading 466 assets: [=                   ] 9%"
       ]
      },
      {
       "output_type": "stream",
       "stream": "stdout",
       "text": [
        "\r",
        "- Loading 466 assets: [=                   ] 9%"
       ]
      },
      {
       "output_type": "stream",
       "stream": "stdout",
       "text": [
        "\r",
        "- Loading 466 assets: [=                   ] 9%"
       ]
      },
      {
       "output_type": "stream",
       "stream": "stdout",
       "text": [
        "\r",
        "- Loading 466 assets: [=                   ] 9%"
       ]
      },
      {
       "output_type": "stream",
       "stream": "stdout",
       "text": [
        "\r",
        "- Loading 466 assets: [=                   ] 9%"
       ]
      },
      {
       "output_type": "stream",
       "stream": "stdout",
       "text": [
        "\r",
        "- Loading 466 assets: [==                  ] 10%"
       ]
      },
      {
       "output_type": "stream",
       "stream": "stdout",
       "text": [
        "\r",
        "- Loading 466 assets: [==                  ] 10%"
       ]
      },
      {
       "output_type": "stream",
       "stream": "stdout",
       "text": [
        "\r",
        "- Loading 466 assets: [==                  ] 10%"
       ]
      },
      {
       "output_type": "stream",
       "stream": "stdout",
       "text": [
        "\r",
        "- Loading 466 assets: [==                  ] 10%"
       ]
      },
      {
       "output_type": "stream",
       "stream": "stdout",
       "text": [
        "\r",
        "- Loading 466 assets: [==                  ] 10%"
       ]
      },
      {
       "output_type": "stream",
       "stream": "stdout",
       "text": [
        "\r",
        "- Loading 466 assets: [==                  ] 11%"
       ]
      },
      {
       "output_type": "stream",
       "stream": "stdout",
       "text": [
        "\r",
        "- Loading 466 assets: [==                  ] 11%"
       ]
      },
      {
       "output_type": "stream",
       "stream": "stdout",
       "text": [
        "\r",
        "- Loading 466 assets: [==                  ] 11%"
       ]
      },
      {
       "output_type": "stream",
       "stream": "stdout",
       "text": [
        "\r",
        "- Loading 466 assets: [==                  ] 11%"
       ]
      },
      {
       "output_type": "stream",
       "stream": "stdout",
       "text": [
        "\r",
        "- Loading 466 assets: [==                  ] 12%"
       ]
      },
      {
       "output_type": "stream",
       "stream": "stdout",
       "text": [
        "\r",
        "- Loading 466 assets: [==                  ] 12%"
       ]
      },
      {
       "output_type": "stream",
       "stream": "stdout",
       "text": [
        "\r",
        "- Loading 466 assets: [==                  ] 12%"
       ]
      },
      {
       "output_type": "stream",
       "stream": "stdout",
       "text": [
        "\r",
        "- Loading 466 assets: [==                  ] 12%"
       ]
      },
      {
       "output_type": "stream",
       "stream": "stdout",
       "text": [
        "\r",
        "- Loading 466 assets: [==                  ] 12%"
       ]
      },
      {
       "output_type": "stream",
       "stream": "stdout",
       "text": [
        "\r",
        "- Loading 466 assets: [==                  ] 13%"
       ]
      },
      {
       "output_type": "stream",
       "stream": "stdout",
       "text": [
        "\r",
        "- Loading 466 assets: [==                  ] 13%"
       ]
      },
      {
       "output_type": "stream",
       "stream": "stdout",
       "text": [
        "\r",
        "- Loading 466 assets: [==                  ] 13%"
       ]
      },
      {
       "output_type": "stream",
       "stream": "stdout",
       "text": [
        "\r",
        "- Loading 466 assets: [==                  ] 13%"
       ]
      },
      {
       "output_type": "stream",
       "stream": "stdout",
       "text": [
        "\r",
        "- Loading 466 assets: [==                  ] 13%"
       ]
      },
      {
       "output_type": "stream",
       "stream": "stdout",
       "text": [
        "\r",
        "- Loading 466 assets: [==                  ] 14%"
       ]
      },
      {
       "output_type": "stream",
       "stream": "stdout",
       "text": [
        "\r",
        "- Loading 466 assets: [==                  ] 14%"
       ]
      },
      {
       "output_type": "stream",
       "stream": "stdout",
       "text": [
        "\r",
        "- Loading 466 assets: [==                  ] 14%"
       ]
      },
      {
       "output_type": "stream",
       "stream": "stdout",
       "text": [
        "\r",
        "- Loading 466 assets: [==                  ] 14%"
       ]
      },
      {
       "output_type": "stream",
       "stream": "stdout",
       "text": [
        "\r",
        "- Loading 466 assets: [===                 ] 15%"
       ]
      },
      {
       "output_type": "stream",
       "stream": "stdout",
       "text": [
        "\r",
        "- Loading 466 assets: [===                 ] 15%"
       ]
      },
      {
       "output_type": "stream",
       "stream": "stdout",
       "text": [
        "\r",
        "- Loading 466 assets: [===                 ] 15%"
       ]
      },
      {
       "output_type": "stream",
       "stream": "stdout",
       "text": [
        "\r",
        "- Loading 466 assets: [===                 ] 15%"
       ]
      },
      {
       "output_type": "stream",
       "stream": "stdout",
       "text": [
        "\r",
        "- Loading 466 assets: [===                 ] 15%"
       ]
      },
      {
       "output_type": "stream",
       "stream": "stdout",
       "text": [
        "\r",
        "- Loading 466 assets: [===                 ] 16%"
       ]
      },
      {
       "output_type": "stream",
       "stream": "stdout",
       "text": [
        "\r",
        "- Loading 466 assets: [===                 ] 16%"
       ]
      },
      {
       "output_type": "stream",
       "stream": "stdout",
       "text": [
        "\r",
        "- Loading 466 assets: [===                 ] 16%"
       ]
      },
      {
       "output_type": "stream",
       "stream": "stdout",
       "text": [
        "\r",
        "- Loading 466 assets: [===                 ] 16%"
       ]
      },
      {
       "output_type": "stream",
       "stream": "stdout",
       "text": [
        "\r",
        "- Loading 466 assets: [===                 ] 16%"
       ]
      },
      {
       "output_type": "stream",
       "stream": "stdout",
       "text": [
        "\r",
        "- Loading 466 assets: [===                 ] 17%"
       ]
      },
      {
       "output_type": "stream",
       "stream": "stdout",
       "text": [
        "\r",
        "- Loading 466 assets: [===                 ] 17%"
       ]
      },
      {
       "output_type": "stream",
       "stream": "stdout",
       "text": [
        "\r",
        "- Loading 466 assets: [===                 ] 17%"
       ]
      },
      {
       "output_type": "stream",
       "stream": "stdout",
       "text": [
        "\r",
        "- Loading 466 assets: [===                 ] 17%"
       ]
      },
      {
       "output_type": "stream",
       "stream": "stdout",
       "text": [
        "\r",
        "- Loading 466 assets: [===                 ] 18%"
       ]
      },
      {
       "output_type": "stream",
       "stream": "stdout",
       "text": [
        "\r",
        "- Loading 466 assets: [===                 ] 18%"
       ]
      },
      {
       "output_type": "stream",
       "stream": "stdout",
       "text": [
        "\r",
        "- Loading 466 assets: [===                 ] 18%"
       ]
      },
      {
       "output_type": "stream",
       "stream": "stdout",
       "text": [
        "\r",
        "- Loading 466 assets: [===                 ] 18%"
       ]
      },
      {
       "output_type": "stream",
       "stream": "stdout",
       "text": [
        "\r",
        "- Loading 466 assets: [===                 ] 18%"
       ]
      },
      {
       "output_type": "stream",
       "stream": "stdout",
       "text": [
        "\r",
        "- Loading 466 assets: [===                 ] 19%"
       ]
      },
      {
       "output_type": "stream",
       "stream": "stdout",
       "text": [
        "\r",
        "- Loading 466 assets: [===                 ] 19%"
       ]
      },
      {
       "output_type": "stream",
       "stream": "stdout",
       "text": [
        "\r",
        "- Loading 466 assets: [===                 ] 19%"
       ]
      },
      {
       "output_type": "stream",
       "stream": "stdout",
       "text": [
        "\r",
        "- Loading 466 assets: [===                 ] 19%"
       ]
      },
      {
       "output_type": "stream",
       "stream": "stdout",
       "text": [
        "\r",
        "- Loading 466 assets: [===                 ] 19%"
       ]
      },
      {
       "output_type": "stream",
       "stream": "stdout",
       "text": [
        "\r",
        "- Loading 466 assets: [====                ] 20%"
       ]
      },
      {
       "output_type": "stream",
       "stream": "stdout",
       "text": [
        "\r",
        "- Loading 466 assets: [====                ] 20%"
       ]
      },
      {
       "output_type": "stream",
       "stream": "stdout",
       "text": [
        "\r",
        "- Loading 466 assets: [====                ] 20%"
       ]
      },
      {
       "output_type": "stream",
       "stream": "stdout",
       "text": [
        "\r",
        "- Loading 466 assets: [====                ] 20%"
       ]
      },
      {
       "output_type": "stream",
       "stream": "stdout",
       "text": [
        "\r",
        "- Loading 466 assets: [====                ] 21%"
       ]
      },
      {
       "output_type": "stream",
       "stream": "stdout",
       "text": [
        "\r",
        "- Loading 466 assets: [====                ] 21%"
       ]
      },
      {
       "output_type": "stream",
       "stream": "stdout",
       "text": [
        "\r",
        "- Loading 466 assets: [====                ] 21%"
       ]
      },
      {
       "output_type": "stream",
       "stream": "stdout",
       "text": [
        "\r",
        "- Loading 466 assets: [====                ] 21%"
       ]
      },
      {
       "output_type": "stream",
       "stream": "stdout",
       "text": [
        "\r",
        "- Loading 466 assets: [====                ] 21%"
       ]
      },
      {
       "output_type": "stream",
       "stream": "stdout",
       "text": [
        "\r",
        "- Loading 466 assets: [====                ] 22%"
       ]
      },
      {
       "output_type": "stream",
       "stream": "stdout",
       "text": [
        "\r",
        "- Loading 466 assets: [====                ] 22%"
       ]
      },
      {
       "output_type": "stream",
       "stream": "stdout",
       "text": [
        "\r",
        "- Loading 466 assets: [====                ] 22%"
       ]
      },
      {
       "output_type": "stream",
       "stream": "stdout",
       "text": [
        "\r",
        "- Loading 466 assets: [====                ] 22%"
       ]
      },
      {
       "output_type": "stream",
       "stream": "stdout",
       "text": [
        "\r",
        "- Loading 466 assets: [====                ] 22%"
       ]
      },
      {
       "output_type": "stream",
       "stream": "stdout",
       "text": [
        "\r",
        "- Loading 466 assets: [====                ] 23%"
       ]
      },
      {
       "output_type": "stream",
       "stream": "stdout",
       "text": [
        "\r",
        "- Loading 466 assets: [====                ] 23%"
       ]
      },
      {
       "output_type": "stream",
       "stream": "stdout",
       "text": [
        "\r",
        "- Loading 466 assets: [====                ] 23%"
       ]
      },
      {
       "output_type": "stream",
       "stream": "stdout",
       "text": [
        "\r",
        "- Loading 466 assets: [====                ] 23%"
       ]
      },
      {
       "output_type": "stream",
       "stream": "stdout",
       "text": [
        "\r",
        "- Loading 466 assets: [====                ] 24%"
       ]
      },
      {
       "output_type": "stream",
       "stream": "stdout",
       "text": [
        "\r",
        "- Loading 466 assets: [====                ] 24%"
       ]
      },
      {
       "output_type": "stream",
       "stream": "stdout",
       "text": [
        "\r",
        "- Loading 466 assets: [====                ] 24%"
       ]
      },
      {
       "output_type": "stream",
       "stream": "stdout",
       "text": [
        "\r",
        "- Loading 466 assets: [====                ] 24%"
       ]
      },
      {
       "output_type": "stream",
       "stream": "stdout",
       "text": [
        "\r",
        "- Loading 466 assets: [====                ] 24%"
       ]
      },
      {
       "output_type": "stream",
       "stream": "stdout",
       "text": [
        "\r",
        "- Loading 466 assets: [=====               ] 25%"
       ]
      },
      {
       "output_type": "stream",
       "stream": "stdout",
       "text": [
        "\r",
        "- Loading 466 assets: [=====               ] 25%"
       ]
      },
      {
       "output_type": "stream",
       "stream": "stdout",
       "text": [
        "\r",
        "- Loading 466 assets: [=====               ] 25%"
       ]
      },
      {
       "output_type": "stream",
       "stream": "stdout",
       "text": [
        "\r",
        "- Loading 466 assets: [=====               ] 25%"
       ]
      },
      {
       "output_type": "stream",
       "stream": "stdout",
       "text": [
        "\r",
        "- Loading 466 assets: [=====               ] 25%"
       ]
      },
      {
       "output_type": "stream",
       "stream": "stdout",
       "text": [
        "\r",
        "- Loading 466 assets: [=====               ] 26%"
       ]
      },
      {
       "output_type": "stream",
       "stream": "stdout",
       "text": [
        "\r",
        "- Loading 466 assets: [=====               ] 26%"
       ]
      },
      {
       "output_type": "stream",
       "stream": "stdout",
       "text": [
        "\r",
        "- Loading 466 assets: [=====               ] 26%"
       ]
      },
      {
       "output_type": "stream",
       "stream": "stdout",
       "text": [
        "\r",
        "- Loading 466 assets: [=====               ] 26%"
       ]
      },
      {
       "output_type": "stream",
       "stream": "stdout",
       "text": [
        "\r",
        "- Loading 466 assets: [=====               ] 27%"
       ]
      },
      {
       "output_type": "stream",
       "stream": "stdout",
       "text": [
        "\r",
        "- Loading 466 assets: [=====               ] 27%"
       ]
      },
      {
       "output_type": "stream",
       "stream": "stdout",
       "text": [
        "\r",
        "- Loading 466 assets: [=====               ] 27%"
       ]
      },
      {
       "output_type": "stream",
       "stream": "stdout",
       "text": [
        "\r",
        "- Loading 466 assets: [=====               ] 27%"
       ]
      },
      {
       "output_type": "stream",
       "stream": "stdout",
       "text": [
        "\r",
        "- Loading 466 assets: [=====               ] 27%"
       ]
      },
      {
       "output_type": "stream",
       "stream": "stdout",
       "text": [
        "\r",
        "- Loading 466 assets: [=====               ] 28%"
       ]
      },
      {
       "output_type": "stream",
       "stream": "stdout",
       "text": [
        "\r",
        "- Loading 466 assets: [=====               ] 28%"
       ]
      },
      {
       "output_type": "stream",
       "stream": "stdout",
       "text": [
        "\r",
        "- Loading 466 assets: [=====               ] 28%"
       ]
      },
      {
       "output_type": "stream",
       "stream": "stdout",
       "text": [
        "\r",
        "- Loading 466 assets: [=====               ] 28%"
       ]
      },
      {
       "output_type": "stream",
       "stream": "stdout",
       "text": [
        "\r",
        "- Loading 466 assets: [=====               ] 28%"
       ]
      },
      {
       "output_type": "stream",
       "stream": "stdout",
       "text": [
        "\r",
        "- Loading 466 assets: [=====               ] 29%"
       ]
      },
      {
       "output_type": "stream",
       "stream": "stdout",
       "text": [
        "\r",
        "- Loading 466 assets: [=====               ] 29%"
       ]
      },
      {
       "output_type": "stream",
       "stream": "stdout",
       "text": [
        "\r",
        "- Loading 466 assets: [=====               ] 29%"
       ]
      },
      {
       "output_type": "stream",
       "stream": "stdout",
       "text": [
        "\r",
        "- Loading 466 assets: [=====               ] 29%"
       ]
      },
      {
       "output_type": "stream",
       "stream": "stdout",
       "text": [
        "\r",
        "- Loading 466 assets: [======              ] 30%"
       ]
      },
      {
       "output_type": "stream",
       "stream": "stdout",
       "text": [
        "\r",
        "- Loading 466 assets: [======              ] 30%"
       ]
      },
      {
       "output_type": "stream",
       "stream": "stdout",
       "text": [
        "\r",
        "- Loading 466 assets: [======              ] 30%"
       ]
      },
      {
       "output_type": "stream",
       "stream": "stdout",
       "text": [
        "\r",
        "- Loading 466 assets: [======              ] 30%"
       ]
      },
      {
       "output_type": "stream",
       "stream": "stdout",
       "text": [
        "\r",
        "- Loading 466 assets: [======              ] 30%"
       ]
      },
      {
       "output_type": "stream",
       "stream": "stdout",
       "text": [
        "\r",
        "- Loading 466 assets: [======              ] 31%"
       ]
      },
      {
       "output_type": "stream",
       "stream": "stdout",
       "text": [
        "\r",
        "- Loading 466 assets: [======              ] 31%"
       ]
      },
      {
       "output_type": "stream",
       "stream": "stdout",
       "text": [
        "\r",
        "- Loading 466 assets: [======              ] 31%"
       ]
      },
      {
       "output_type": "stream",
       "stream": "stdout",
       "text": [
        "\r",
        "- Loading 466 assets: [======              ] 31%"
       ]
      },
      {
       "output_type": "stream",
       "stream": "stdout",
       "text": [
        "\r",
        "- Loading 466 assets: [======              ] 31%"
       ]
      },
      {
       "output_type": "stream",
       "stream": "stdout",
       "text": [
        "\r",
        "- Loading 466 assets: [======              ] 32%"
       ]
      },
      {
       "output_type": "stream",
       "stream": "stdout",
       "text": [
        "\r",
        "- Loading 466 assets: [======              ] 32%"
       ]
      },
      {
       "output_type": "stream",
       "stream": "stdout",
       "text": [
        "\r",
        "- Loading 466 assets: [======              ] 32%"
       ]
      },
      {
       "output_type": "stream",
       "stream": "stdout",
       "text": [
        "\r",
        "- Loading 466 assets: [======              ] 32%"
       ]
      },
      {
       "output_type": "stream",
       "stream": "stdout",
       "text": [
        "\r",
        "- Loading 466 assets: [======              ] 33%"
       ]
      },
      {
       "output_type": "stream",
       "stream": "stdout",
       "text": [
        "\r",
        "- Loading 466 assets: [======              ] 33%"
       ]
      },
      {
       "output_type": "stream",
       "stream": "stdout",
       "text": [
        "\r",
        "- Loading 466 assets: [======              ] 33%"
       ]
      },
      {
       "output_type": "stream",
       "stream": "stdout",
       "text": [
        "\r",
        "- Loading 466 assets: [======              ] 33%"
       ]
      },
      {
       "output_type": "stream",
       "stream": "stdout",
       "text": [
        "\r",
        "- Loading 466 assets: [======              ] 33%"
       ]
      },
      {
       "output_type": "stream",
       "stream": "stdout",
       "text": [
        "\r",
        "- Loading 466 assets: [======              ] 34%"
       ]
      },
      {
       "output_type": "stream",
       "stream": "stdout",
       "text": [
        "\r",
        "- Loading 466 assets: [======              ] 34%"
       ]
      },
      {
       "output_type": "stream",
       "stream": "stdout",
       "text": [
        "\r",
        "- Loading 466 assets: [======              ] 34%"
       ]
      },
      {
       "output_type": "stream",
       "stream": "stdout",
       "text": [
        "\r",
        "- Loading 466 assets: [======              ] 34%"
       ]
      },
      {
       "output_type": "stream",
       "stream": "stdout",
       "text": [
        "\r",
        "- Loading 466 assets: [======              ] 34%"
       ]
      },
      {
       "output_type": "stream",
       "stream": "stdout",
       "text": [
        "\r",
        "- Loading 466 assets: [=======             ] 35%"
       ]
      },
      {
       "output_type": "stream",
       "stream": "stdout",
       "text": [
        "\r",
        "- Loading 466 assets: [=======             ] 35%"
       ]
      },
      {
       "output_type": "stream",
       "stream": "stdout",
       "text": [
        "\r",
        "- Loading 466 assets: [=======             ] 35%"
       ]
      },
      {
       "output_type": "stream",
       "stream": "stdout",
       "text": [
        "\r",
        "- Loading 466 assets: [=======             ] 35%"
       ]
      },
      {
       "output_type": "stream",
       "stream": "stdout",
       "text": [
        "\r",
        "- Loading 466 assets: [=======             ] 36%"
       ]
      },
      {
       "output_type": "stream",
       "stream": "stdout",
       "text": [
        "\r",
        "- Loading 466 assets: [=======             ] 36%"
       ]
      },
      {
       "output_type": "stream",
       "stream": "stdout",
       "text": [
        "\r",
        "- Loading 466 assets: [=======             ] 36%"
       ]
      },
      {
       "output_type": "stream",
       "stream": "stdout",
       "text": [
        "\r",
        "- Loading 466 assets: [=======             ] 36%"
       ]
      },
      {
       "output_type": "stream",
       "stream": "stdout",
       "text": [
        "\r",
        "- Loading 466 assets: [=======             ] 36%"
       ]
      },
      {
       "output_type": "stream",
       "stream": "stdout",
       "text": [
        "\r",
        "- Loading 466 assets: [=======             ] 37%"
       ]
      },
      {
       "output_type": "stream",
       "stream": "stdout",
       "text": [
        "\r",
        "- Loading 466 assets: [=======             ] 37%"
       ]
      },
      {
       "output_type": "stream",
       "stream": "stdout",
       "text": [
        "\r",
        "- Loading 466 assets: [=======             ] 37%"
       ]
      },
      {
       "output_type": "stream",
       "stream": "stdout",
       "text": [
        "\r",
        "- Loading 466 assets: [=======             ] 37%"
       ]
      },
      {
       "output_type": "stream",
       "stream": "stdout",
       "text": [
        "\r",
        "- Loading 466 assets: [=======             ] 37%"
       ]
      },
      {
       "output_type": "stream",
       "stream": "stdout",
       "text": [
        "\r",
        "- Loading 466 assets: [=======             ] 38%"
       ]
      },
      {
       "output_type": "stream",
       "stream": "stdout",
       "text": [
        "\r",
        "- Loading 466 assets: [=======             ] 38%"
       ]
      },
      {
       "output_type": "stream",
       "stream": "stdout",
       "text": [
        "\r",
        "- Loading 466 assets: [=======             ] 38%"
       ]
      },
      {
       "output_type": "stream",
       "stream": "stdout",
       "text": [
        "\r",
        "- Loading 466 assets: [=======             ] 38%"
       ]
      },
      {
       "output_type": "stream",
       "stream": "stdout",
       "text": [
        "\r",
        "- Loading 466 assets: [=======             ] 39%"
       ]
      },
      {
       "output_type": "stream",
       "stream": "stdout",
       "text": [
        "\r",
        "- Loading 466 assets: [=======             ] 39%"
       ]
      },
      {
       "output_type": "stream",
       "stream": "stdout",
       "text": [
        "\r",
        "- Loading 466 assets: [=======             ] 39%"
       ]
      },
      {
       "output_type": "stream",
       "stream": "stdout",
       "text": [
        "\r",
        "- Loading 466 assets: [=======             ] 39%"
       ]
      },
      {
       "output_type": "stream",
       "stream": "stdout",
       "text": [
        "\r",
        "- Loading 466 assets: [=======             ] 39%"
       ]
      },
      {
       "output_type": "stream",
       "stream": "stdout",
       "text": [
        "\r",
        "- Loading 466 assets: [========            ] 40%"
       ]
      },
      {
       "output_type": "stream",
       "stream": "stdout",
       "text": [
        "\r",
        "- Loading 466 assets: [========            ] 40%"
       ]
      },
      {
       "output_type": "stream",
       "stream": "stdout",
       "text": [
        "\r",
        "- Loading 466 assets: [========            ] 40%"
       ]
      },
      {
       "output_type": "stream",
       "stream": "stdout",
       "text": [
        "\r",
        "- Loading 466 assets: [========            ] 40%"
       ]
      },
      {
       "output_type": "stream",
       "stream": "stdout",
       "text": [
        "\r",
        "- Loading 466 assets: [========            ] 40%"
       ]
      },
      {
       "output_type": "stream",
       "stream": "stdout",
       "text": [
        "\r",
        "- Loading 466 assets: [========            ] 41%"
       ]
      },
      {
       "output_type": "stream",
       "stream": "stdout",
       "text": [
        "\r",
        "- Loading 466 assets: [========            ] 41%"
       ]
      },
      {
       "output_type": "stream",
       "stream": "stdout",
       "text": [
        "\r",
        "- Loading 466 assets: [========            ] 41%"
       ]
      },
      {
       "output_type": "stream",
       "stream": "stdout",
       "text": [
        "\r",
        "- Loading 466 assets: [========            ] 41%"
       ]
      },
      {
       "output_type": "stream",
       "stream": "stdout",
       "text": [
        "\r",
        "- Loading 466 assets: [========            ] 42%"
       ]
      },
      {
       "output_type": "stream",
       "stream": "stdout",
       "text": [
        "\r",
        "- Loading 466 assets: [========            ] 42%"
       ]
      },
      {
       "output_type": "stream",
       "stream": "stdout",
       "text": [
        "\r",
        "- Loading 466 assets: [========            ] 42%"
       ]
      },
      {
       "output_type": "stream",
       "stream": "stdout",
       "text": [
        "\r",
        "- Loading 466 assets: [========            ] 42%"
       ]
      },
      {
       "output_type": "stream",
       "stream": "stdout",
       "text": [
        "\r",
        "- Loading 466 assets: [========            ] 42%"
       ]
      },
      {
       "output_type": "stream",
       "stream": "stdout",
       "text": [
        "\r",
        "- Loading 466 assets: [========            ] 43%"
       ]
      },
      {
       "output_type": "stream",
       "stream": "stdout",
       "text": [
        "\r",
        "- Loading 466 assets: [========            ] 43%"
       ]
      },
      {
       "output_type": "stream",
       "stream": "stdout",
       "text": [
        "\r",
        "- Loading 466 assets: [========            ] 43%"
       ]
      },
      {
       "output_type": "stream",
       "stream": "stdout",
       "text": [
        "\r",
        "- Loading 466 assets: [========            ] 43%"
       ]
      },
      {
       "output_type": "stream",
       "stream": "stdout",
       "text": [
        "\r",
        "- Loading 466 assets: [========            ] 43%"
       ]
      },
      {
       "output_type": "stream",
       "stream": "stdout",
       "text": [
        "\r",
        "- Loading 466 assets: [========            ] 44%"
       ]
      },
      {
       "output_type": "stream",
       "stream": "stdout",
       "text": [
        "\r",
        "- Loading 466 assets: [========            ] 44%"
       ]
      },
      {
       "output_type": "stream",
       "stream": "stdout",
       "text": [
        "\r",
        "- Loading 466 assets: [========            ] 44%"
       ]
      },
      {
       "output_type": "stream",
       "stream": "stdout",
       "text": [
        "\r",
        "- Loading 466 assets: [========            ] 44%"
       ]
      },
      {
       "output_type": "stream",
       "stream": "stdout",
       "text": [
        "\r",
        "- Loading 466 assets: [=========           ] 45%"
       ]
      },
      {
       "output_type": "stream",
       "stream": "stdout",
       "text": [
        "\r",
        "- Loading 466 assets: [=========           ] 45%"
       ]
      },
      {
       "output_type": "stream",
       "stream": "stdout",
       "text": [
        "\r",
        "- Loading 466 assets: [=========           ] 45%"
       ]
      },
      {
       "output_type": "stream",
       "stream": "stdout",
       "text": [
        "\r",
        "- Loading 466 assets: [=========           ] 45%"
       ]
      },
      {
       "output_type": "stream",
       "stream": "stdout",
       "text": [
        "\r",
        "- Loading 466 assets: [=========           ] 45%"
       ]
      },
      {
       "output_type": "stream",
       "stream": "stdout",
       "text": [
        "\r",
        "- Loading 466 assets: [=========           ] 46%"
       ]
      },
      {
       "output_type": "stream",
       "stream": "stdout",
       "text": [
        "\r",
        "- Loading 466 assets: [=========           ] 46%"
       ]
      },
      {
       "output_type": "stream",
       "stream": "stdout",
       "text": [
        "\r",
        "- Loading 466 assets: [=========           ] 46%"
       ]
      },
      {
       "output_type": "stream",
       "stream": "stdout",
       "text": [
        "\r",
        "- Loading 466 assets: [=========           ] 46%"
       ]
      },
      {
       "output_type": "stream",
       "stream": "stdout",
       "text": [
        "\r",
        "- Loading 466 assets: [=========           ] 46%"
       ]
      },
      {
       "output_type": "stream",
       "stream": "stdout",
       "text": [
        "\r",
        "- Loading 466 assets: [=========           ] 47%"
       ]
      },
      {
       "output_type": "stream",
       "stream": "stdout",
       "text": [
        "\r",
        "- Loading 466 assets: [=========           ] 47%"
       ]
      },
      {
       "output_type": "stream",
       "stream": "stdout",
       "text": [
        "\r",
        "- Loading 466 assets: [=========           ] 47%"
       ]
      },
      {
       "output_type": "stream",
       "stream": "stdout",
       "text": [
        "\r",
        "- Loading 466 assets: [=========           ] 47%"
       ]
      },
      {
       "output_type": "stream",
       "stream": "stdout",
       "text": [
        "\r",
        "- Loading 466 assets: [=========           ] 48%"
       ]
      },
      {
       "output_type": "stream",
       "stream": "stdout",
       "text": [
        "\r",
        "- Loading 466 assets: [=========           ] 48%"
       ]
      },
      {
       "output_type": "stream",
       "stream": "stdout",
       "text": [
        "\r",
        "- Loading 466 assets: [=========           ] 48%"
       ]
      },
      {
       "output_type": "stream",
       "stream": "stdout",
       "text": [
        "\r",
        "- Loading 466 assets: [=========           ] 48%"
       ]
      },
      {
       "output_type": "stream",
       "stream": "stdout",
       "text": [
        "\r",
        "- Loading 466 assets: [=========           ] 48%"
       ]
      },
      {
       "output_type": "stream",
       "stream": "stdout",
       "text": [
        "\r",
        "- Loading 466 assets: [=========           ] 49%"
       ]
      },
      {
       "output_type": "stream",
       "stream": "stdout",
       "text": [
        "\r",
        "- Loading 466 assets: [=========           ] 49%"
       ]
      },
      {
       "output_type": "stream",
       "stream": "stdout",
       "text": [
        "\r",
        "- Loading 466 assets: [=========           ] 49%"
       ]
      },
      {
       "output_type": "stream",
       "stream": "stdout",
       "text": [
        "\r",
        "- Loading 466 assets: [=========           ] 49%"
       ]
      },
      {
       "output_type": "stream",
       "stream": "stdout",
       "text": [
        "\r",
        "- Loading 466 assets: [==========          ] 50%"
       ]
      },
      {
       "output_type": "stream",
       "stream": "stdout",
       "text": [
        "\r",
        "- Loading 466 assets: [==========          ] 50%"
       ]
      },
      {
       "output_type": "stream",
       "stream": "stdout",
       "text": [
        "\r",
        "- Loading 466 assets: [==========          ] 50%"
       ]
      },
      {
       "output_type": "stream",
       "stream": "stdout",
       "text": [
        "\r",
        "- Loading 466 assets: [==========          ] 50%"
       ]
      },
      {
       "output_type": "stream",
       "stream": "stdout",
       "text": [
        "\r",
        "- Loading 466 assets: [==========          ] 50%"
       ]
      },
      {
       "output_type": "stream",
       "stream": "stdout",
       "text": [
        "\r",
        "- Loading 466 assets: [==========          ] 51%"
       ]
      },
      {
       "output_type": "stream",
       "stream": "stdout",
       "text": [
        "\r",
        "- Loading 466 assets: [==========          ] 51%"
       ]
      },
      {
       "output_type": "stream",
       "stream": "stdout",
       "text": [
        "\r",
        "- Loading 466 assets: [==========          ] 51%"
       ]
      },
      {
       "output_type": "stream",
       "stream": "stdout",
       "text": [
        "\r",
        "- Loading 466 assets: [==========          ] 51%"
       ]
      },
      {
       "output_type": "stream",
       "stream": "stdout",
       "text": [
        "\r",
        "- Loading 466 assets: [==========          ] 51%"
       ]
      },
      {
       "output_type": "stream",
       "stream": "stdout",
       "text": [
        "\r",
        "- Loading 466 assets: [==========          ] 52%"
       ]
      },
      {
       "output_type": "stream",
       "stream": "stdout",
       "text": [
        "\r",
        "- Loading 466 assets: [==========          ] 52%"
       ]
      },
      {
       "output_type": "stream",
       "stream": "stdout",
       "text": [
        "\r",
        "- Loading 466 assets: [==========          ] 52%"
       ]
      },
      {
       "output_type": "stream",
       "stream": "stdout",
       "text": [
        "\r",
        "- Loading 466 assets: [==========          ] 52%"
       ]
      },
      {
       "output_type": "stream",
       "stream": "stdout",
       "text": [
        "\r",
        "- Loading 466 assets: [==========          ] 53%"
       ]
      },
      {
       "output_type": "stream",
       "stream": "stdout",
       "text": [
        "\r",
        "- Loading 466 assets: [==========          ] 53%"
       ]
      },
      {
       "output_type": "stream",
       "stream": "stdout",
       "text": [
        "\r",
        "- Loading 466 assets: [==========          ] 53%"
       ]
      },
      {
       "output_type": "stream",
       "stream": "stdout",
       "text": [
        "\r",
        "- Loading 466 assets: [==========          ] 53%"
       ]
      },
      {
       "output_type": "stream",
       "stream": "stdout",
       "text": [
        "\r",
        "- Loading 466 assets: [==========          ] 53%"
       ]
      },
      {
       "output_type": "stream",
       "stream": "stdout",
       "text": [
        "\r",
        "- Loading 466 assets: [==========          ] 54%"
       ]
      },
      {
       "output_type": "stream",
       "stream": "stdout",
       "text": [
        "\r",
        "- Loading 466 assets: [==========          ] 54%"
       ]
      },
      {
       "output_type": "stream",
       "stream": "stdout",
       "text": [
        "\r",
        "- Loading 466 assets: [==========          ] 54%"
       ]
      },
      {
       "output_type": "stream",
       "stream": "stdout",
       "text": [
        "\r",
        "- Loading 466 assets: [==========          ] 54%"
       ]
      },
      {
       "output_type": "stream",
       "stream": "stdout",
       "text": [
        "\r",
        "- Loading 466 assets: [==========          ] 54%"
       ]
      },
      {
       "output_type": "stream",
       "stream": "stdout",
       "text": [
        "\r",
        "- Loading 466 assets: [===========         ] 55%"
       ]
      },
      {
       "output_type": "stream",
       "stream": "stdout",
       "text": [
        "\r",
        "- Loading 466 assets: [===========         ] 55%"
       ]
      },
      {
       "output_type": "stream",
       "stream": "stdout",
       "text": [
        "\r",
        "- Loading 466 assets: [===========         ] 55%"
       ]
      },
      {
       "output_type": "stream",
       "stream": "stdout",
       "text": [
        "\r",
        "- Loading 466 assets: [===========         ] 55%"
       ]
      },
      {
       "output_type": "stream",
       "stream": "stdout",
       "text": [
        "\r",
        "- Loading 466 assets: [===========         ] 56%"
       ]
      },
      {
       "output_type": "stream",
       "stream": "stdout",
       "text": [
        "\r",
        "- Loading 466 assets: [===========         ] 56%"
       ]
      },
      {
       "output_type": "stream",
       "stream": "stdout",
       "text": [
        "\r",
        "- Loading 466 assets: [===========         ] 56%"
       ]
      },
      {
       "output_type": "stream",
       "stream": "stdout",
       "text": [
        "\r",
        "- Loading 466 assets: [===========         ] 56%"
       ]
      },
      {
       "output_type": "stream",
       "stream": "stdout",
       "text": [
        "\r",
        "- Loading 466 assets: [===========         ] 56%"
       ]
      },
      {
       "output_type": "stream",
       "stream": "stdout",
       "text": [
        "\r",
        "- Loading 466 assets: [===========         ] 57%"
       ]
      },
      {
       "output_type": "stream",
       "stream": "stdout",
       "text": [
        "\r",
        "- Loading 466 assets: [===========         ] 57%"
       ]
      },
      {
       "output_type": "stream",
       "stream": "stdout",
       "text": [
        "\r",
        "- Loading 466 assets: [===========         ] 57%"
       ]
      },
      {
       "output_type": "stream",
       "stream": "stdout",
       "text": [
        "\r",
        "- Loading 466 assets: [===========         ] 57%"
       ]
      },
      {
       "output_type": "stream",
       "stream": "stdout",
       "text": [
        "\r",
        "- Loading 466 assets: [===========         ] 57%"
       ]
      },
      {
       "output_type": "stream",
       "stream": "stdout",
       "text": [
        "\r",
        "- Loading 466 assets: [===========         ] 58%"
       ]
      },
      {
       "output_type": "stream",
       "stream": "stdout",
       "text": [
        "\r",
        "- Loading 466 assets: [===========         ] 58%"
       ]
      },
      {
       "output_type": "stream",
       "stream": "stdout",
       "text": [
        "\r",
        "- Loading 466 assets: [===========         ] 58%"
       ]
      },
      {
       "output_type": "stream",
       "stream": "stdout",
       "text": [
        "\r",
        "- Loading 466 assets: [===========         ] 58%"
       ]
      },
      {
       "output_type": "stream",
       "stream": "stdout",
       "text": [
        "\r",
        "- Loading 466 assets: [===========         ] 59%"
       ]
      },
      {
       "output_type": "stream",
       "stream": "stdout",
       "text": [
        "\r",
        "- Loading 466 assets: [===========         ] 59%"
       ]
      },
      {
       "output_type": "stream",
       "stream": "stdout",
       "text": [
        "\r",
        "- Loading 466 assets: [===========         ] 59%"
       ]
      },
      {
       "output_type": "stream",
       "stream": "stdout",
       "text": [
        "\r",
        "- Loading 466 assets: [===========         ] 59%"
       ]
      },
      {
       "output_type": "stream",
       "stream": "stdout",
       "text": [
        "\r",
        "- Loading 466 assets: [===========         ] 59%"
       ]
      },
      {
       "output_type": "stream",
       "stream": "stdout",
       "text": [
        "\r",
        "- Loading 466 assets: [============        ] 60%"
       ]
      },
      {
       "output_type": "stream",
       "stream": "stdout",
       "text": [
        "\r",
        "- Loading 466 assets: [============        ] 60%"
       ]
      },
      {
       "output_type": "stream",
       "stream": "stdout",
       "text": [
        "\r",
        "- Loading 466 assets: [============        ] 60%"
       ]
      },
      {
       "output_type": "stream",
       "stream": "stdout",
       "text": [
        "\r",
        "- Loading 466 assets: [============        ] 60%"
       ]
      },
      {
       "output_type": "stream",
       "stream": "stdout",
       "text": [
        "\r",
        "- Loading 466 assets: [============        ] 60%"
       ]
      },
      {
       "output_type": "stream",
       "stream": "stdout",
       "text": [
        "\r",
        "- Loading 466 assets: [============        ] 61%"
       ]
      },
      {
       "output_type": "stream",
       "stream": "stdout",
       "text": [
        "\r",
        "- Loading 466 assets: [============        ] 61%"
       ]
      },
      {
       "output_type": "stream",
       "stream": "stdout",
       "text": [
        "\r",
        "- Loading 466 assets: [============        ] 61%"
       ]
      },
      {
       "output_type": "stream",
       "stream": "stdout",
       "text": [
        "\r",
        "- Loading 466 assets: [============        ] 61%"
       ]
      },
      {
       "output_type": "stream",
       "stream": "stdout",
       "text": [
        "\r",
        "- Loading 466 assets: [============        ] 62%"
       ]
      },
      {
       "output_type": "stream",
       "stream": "stdout",
       "text": [
        "\r",
        "- Loading 466 assets: [============        ] 62%"
       ]
      },
      {
       "output_type": "stream",
       "stream": "stdout",
       "text": [
        "\r",
        "- Loading 466 assets: [============        ] 62%"
       ]
      },
      {
       "output_type": "stream",
       "stream": "stdout",
       "text": [
        "\r",
        "- Loading 466 assets: [============        ] 62%"
       ]
      },
      {
       "output_type": "stream",
       "stream": "stdout",
       "text": [
        "\r",
        "- Loading 466 assets: [============        ] 62%"
       ]
      },
      {
       "output_type": "stream",
       "stream": "stdout",
       "text": [
        "\r",
        "- Loading 466 assets: [============        ] 63%"
       ]
      },
      {
       "output_type": "stream",
       "stream": "stdout",
       "text": [
        "\r",
        "- Loading 466 assets: [============        ] 63%"
       ]
      },
      {
       "output_type": "stream",
       "stream": "stdout",
       "text": [
        "\r",
        "- Loading 466 assets: [============        ] 63%"
       ]
      },
      {
       "output_type": "stream",
       "stream": "stdout",
       "text": [
        "\r",
        "- Loading 466 assets: [============        ] 63%"
       ]
      },
      {
       "output_type": "stream",
       "stream": "stdout",
       "text": [
        "\r",
        "- Loading 466 assets: [============        ] 63%"
       ]
      },
      {
       "output_type": "stream",
       "stream": "stdout",
       "text": [
        "\r",
        "- Loading 466 assets: [============        ] 64%"
       ]
      },
      {
       "output_type": "stream",
       "stream": "stdout",
       "text": [
        "\r",
        "- Loading 466 assets: [============        ] 64%"
       ]
      },
      {
       "output_type": "stream",
       "stream": "stdout",
       "text": [
        "\r",
        "- Loading 466 assets: [============        ] 64%"
       ]
      },
      {
       "output_type": "stream",
       "stream": "stdout",
       "text": [
        "\r",
        "- Loading 466 assets: [============        ] 64%"
       ]
      },
      {
       "output_type": "stream",
       "stream": "stdout",
       "text": [
        "\r",
        "- Loading 466 assets: [=============       ] 65%"
       ]
      },
      {
       "output_type": "stream",
       "stream": "stdout",
       "text": [
        "\r",
        "- Loading 466 assets: [=============       ] 65%"
       ]
      },
      {
       "output_type": "stream",
       "stream": "stdout",
       "text": [
        "\r",
        "- Loading 466 assets: [=============       ] 65%"
       ]
      },
      {
       "output_type": "stream",
       "stream": "stdout",
       "text": [
        "\r",
        "- Loading 466 assets: [=============       ] 65%"
       ]
      },
      {
       "output_type": "stream",
       "stream": "stdout",
       "text": [
        "\r",
        "- Loading 466 assets: [=============       ] 65%"
       ]
      },
      {
       "output_type": "stream",
       "stream": "stdout",
       "text": [
        "\r",
        "- Loading 466 assets: [=============       ] 66%"
       ]
      },
      {
       "output_type": "stream",
       "stream": "stdout",
       "text": [
        "\r",
        "- Loading 466 assets: [=============       ] 66%"
       ]
      },
      {
       "output_type": "stream",
       "stream": "stdout",
       "text": [
        "\r",
        "- Loading 466 assets: [=============       ] 66%"
       ]
      },
      {
       "output_type": "stream",
       "stream": "stdout",
       "text": [
        "\r",
        "- Loading 466 assets: [=============       ] 66%"
       ]
      },
      {
       "output_type": "stream",
       "stream": "stdout",
       "text": [
        "\r",
        "- Loading 466 assets: [=============       ] 66%"
       ]
      },
      {
       "output_type": "stream",
       "stream": "stdout",
       "text": [
        "\r",
        "- Loading 466 assets: [=============       ] 67%"
       ]
      },
      {
       "output_type": "stream",
       "stream": "stdout",
       "text": [
        "\r",
        "- Loading 466 assets: [=============       ] 67%"
       ]
      },
      {
       "output_type": "stream",
       "stream": "stdout",
       "text": [
        "\r",
        "- Loading 466 assets: [=============       ] 67%"
       ]
      },
      {
       "output_type": "stream",
       "stream": "stdout",
       "text": [
        "\r",
        "- Loading 466 assets: [=============       ] 67%"
       ]
      },
      {
       "output_type": "stream",
       "stream": "stdout",
       "text": [
        "\r",
        "- Loading 466 assets: [=============       ] 68%"
       ]
      },
      {
       "output_type": "stream",
       "stream": "stdout",
       "text": [
        "\r",
        "- Loading 466 assets: [=============       ] 68%"
       ]
      },
      {
       "output_type": "stream",
       "stream": "stdout",
       "text": [
        "\r",
        "- Loading 466 assets: [=============       ] 68%"
       ]
      },
      {
       "output_type": "stream",
       "stream": "stdout",
       "text": [
        "\r",
        "- Loading 466 assets: [=============       ] 68%"
       ]
      },
      {
       "output_type": "stream",
       "stream": "stdout",
       "text": [
        "\r",
        "- Loading 466 assets: [=============       ] 68%"
       ]
      },
      {
       "output_type": "stream",
       "stream": "stdout",
       "text": [
        "\r",
        "- Loading 466 assets: [=============       ] 69%"
       ]
      },
      {
       "output_type": "stream",
       "stream": "stdout",
       "text": [
        "\r",
        "- Loading 466 assets: [=============       ] 69%"
       ]
      },
      {
       "output_type": "stream",
       "stream": "stdout",
       "text": [
        "\r",
        "- Loading 466 assets: [=============       ] 69%"
       ]
      },
      {
       "output_type": "stream",
       "stream": "stdout",
       "text": [
        "\r",
        "- Loading 466 assets: [=============       ] 69%"
       ]
      },
      {
       "output_type": "stream",
       "stream": "stdout",
       "text": [
        "\r",
        "- Loading 466 assets: [=============       ] 69%"
       ]
      },
      {
       "output_type": "stream",
       "stream": "stdout",
       "text": [
        "\r",
        "- Loading 466 assets: [==============      ] 70%"
       ]
      },
      {
       "output_type": "stream",
       "stream": "stdout",
       "text": [
        "\r",
        "- Loading 466 assets: [==============      ] 70%"
       ]
      },
      {
       "output_type": "stream",
       "stream": "stdout",
       "text": [
        "\r",
        "- Loading 466 assets: [==============      ] 70%"
       ]
      },
      {
       "output_type": "stream",
       "stream": "stdout",
       "text": [
        "\r",
        "- Loading 466 assets: [==============      ] 70%"
       ]
      },
      {
       "output_type": "stream",
       "stream": "stdout",
       "text": [
        "\r",
        "- Loading 466 assets: [==============      ] 71%"
       ]
      },
      {
       "output_type": "stream",
       "stream": "stdout",
       "text": [
        "\r",
        "- Loading 466 assets: [==============      ] 71%"
       ]
      },
      {
       "output_type": "stream",
       "stream": "stdout",
       "text": [
        "\r",
        "- Loading 466 assets: [==============      ] 71%"
       ]
      },
      {
       "output_type": "stream",
       "stream": "stdout",
       "text": [
        "\r",
        "- Loading 466 assets: [==============      ] 71%"
       ]
      },
      {
       "output_type": "stream",
       "stream": "stdout",
       "text": [
        "\r",
        "- Loading 466 assets: [==============      ] 71%"
       ]
      },
      {
       "output_type": "stream",
       "stream": "stdout",
       "text": [
        "\r",
        "- Loading 466 assets: [==============      ] 72%"
       ]
      },
      {
       "output_type": "stream",
       "stream": "stdout",
       "text": [
        "\r",
        "- Loading 466 assets: [==============      ] 72%"
       ]
      },
      {
       "output_type": "stream",
       "stream": "stdout",
       "text": [
        "\r",
        "- Loading 466 assets: [==============      ] 72%"
       ]
      },
      {
       "output_type": "stream",
       "stream": "stdout",
       "text": [
        "\r",
        "- Loading 466 assets: [==============      ] 72%"
       ]
      },
      {
       "output_type": "stream",
       "stream": "stdout",
       "text": [
        "\r",
        "- Loading 466 assets: [==============      ] 72%"
       ]
      },
      {
       "output_type": "stream",
       "stream": "stdout",
       "text": [
        "\r",
        "- Loading 466 assets: [==============      ] 73%"
       ]
      },
      {
       "output_type": "stream",
       "stream": "stdout",
       "text": [
        "\r",
        "- Loading 466 assets: [==============      ] 73%"
       ]
      },
      {
       "output_type": "stream",
       "stream": "stdout",
       "text": [
        "\r",
        "- Loading 466 assets: [==============      ] 73%"
       ]
      },
      {
       "output_type": "stream",
       "stream": "stdout",
       "text": [
        "\r",
        "- Loading 466 assets: [==============      ] 73%"
       ]
      },
      {
       "output_type": "stream",
       "stream": "stdout",
       "text": [
        "\r",
        "- Loading 466 assets: [==============      ] 74%"
       ]
      },
      {
       "output_type": "stream",
       "stream": "stdout",
       "text": [
        "\r",
        "- Loading 466 assets: [==============      ] 74%"
       ]
      },
      {
       "output_type": "stream",
       "stream": "stdout",
       "text": [
        "\r",
        "- Loading 466 assets: [==============      ] 74%"
       ]
      },
      {
       "output_type": "stream",
       "stream": "stdout",
       "text": [
        "\r",
        "- Loading 466 assets: [==============      ] 74%"
       ]
      },
      {
       "output_type": "stream",
       "stream": "stdout",
       "text": [
        "\r",
        "- Loading 466 assets: [==============      ] 74%"
       ]
      },
      {
       "output_type": "stream",
       "stream": "stdout",
       "text": [
        "\r",
        "- Loading 466 assets: [===============     ] 75%"
       ]
      },
      {
       "output_type": "stream",
       "stream": "stdout",
       "text": [
        "\r",
        "- Loading 466 assets: [===============     ] 75%"
       ]
      },
      {
       "output_type": "stream",
       "stream": "stdout",
       "text": [
        "\r",
        "- Loading 466 assets: [===============     ] 75%"
       ]
      },
      {
       "output_type": "stream",
       "stream": "stdout",
       "text": [
        "\r",
        "- Loading 466 assets: [===============     ] 75%"
       ]
      },
      {
       "output_type": "stream",
       "stream": "stdout",
       "text": [
        "\r",
        "- Loading 466 assets: [===============     ] 75%"
       ]
      },
      {
       "output_type": "stream",
       "stream": "stdout",
       "text": [
        "\r",
        "- Loading 466 assets: [===============     ] 76%"
       ]
      },
      {
       "output_type": "stream",
       "stream": "stdout",
       "text": [
        "\r",
        "- Loading 466 assets: [===============     ] 76%"
       ]
      },
      {
       "output_type": "stream",
       "stream": "stdout",
       "text": [
        "\r",
        "- Loading 466 assets: [===============     ] 76%"
       ]
      },
      {
       "output_type": "stream",
       "stream": "stdout",
       "text": [
        "\r",
        "- Loading 466 assets: [===============     ] 76%"
       ]
      },
      {
       "output_type": "stream",
       "stream": "stdout",
       "text": [
        "\r",
        "- Loading 466 assets: [===============     ] 77%"
       ]
      },
      {
       "output_type": "stream",
       "stream": "stdout",
       "text": [
        "\r",
        "- Loading 466 assets: [===============     ] 77%"
       ]
      },
      {
       "output_type": "stream",
       "stream": "stdout",
       "text": [
        "\r",
        "- Loading 466 assets: [===============     ] 77%"
       ]
      },
      {
       "output_type": "stream",
       "stream": "stdout",
       "text": [
        "\r",
        "- Loading 466 assets: [===============     ] 77%"
       ]
      },
      {
       "output_type": "stream",
       "stream": "stdout",
       "text": [
        "\r",
        "- Loading 466 assets: [===============     ] 77%"
       ]
      },
      {
       "output_type": "stream",
       "stream": "stdout",
       "text": [
        "\r",
        "- Loading 466 assets: [===============     ] 78%"
       ]
      },
      {
       "output_type": "stream",
       "stream": "stdout",
       "text": [
        "\r",
        "- Loading 466 assets: [===============     ] 78%"
       ]
      },
      {
       "output_type": "stream",
       "stream": "stdout",
       "text": [
        "\r",
        "- Loading 466 assets: [===============     ] 78%"
       ]
      },
      {
       "output_type": "stream",
       "stream": "stdout",
       "text": [
        "\r",
        "- Loading 466 assets: [===============     ] 78%"
       ]
      },
      {
       "output_type": "stream",
       "stream": "stdout",
       "text": [
        "\r",
        "- Loading 466 assets: [===============     ] 78%"
       ]
      },
      {
       "output_type": "stream",
       "stream": "stdout",
       "text": [
        "\r",
        "- Loading 466 assets: [===============     ] 79%"
       ]
      },
      {
       "output_type": "stream",
       "stream": "stdout",
       "text": [
        "\r",
        "- Loading 466 assets: [===============     ] 79%"
       ]
      },
      {
       "output_type": "stream",
       "stream": "stdout",
       "text": [
        "\r",
        "- Loading 466 assets: [===============     ] 79%"
       ]
      },
      {
       "output_type": "stream",
       "stream": "stdout",
       "text": [
        "\r",
        "- Loading 466 assets: [===============     ] 79%"
       ]
      },
      {
       "output_type": "stream",
       "stream": "stdout",
       "text": [
        "\r",
        "- Loading 466 assets: [================    ] 80%"
       ]
      },
      {
       "output_type": "stream",
       "stream": "stdout",
       "text": [
        "\r",
        "- Loading 466 assets: [================    ] 80%"
       ]
      },
      {
       "output_type": "stream",
       "stream": "stdout",
       "text": [
        "\r",
        "- Loading 466 assets: [================    ] 80%"
       ]
      },
      {
       "output_type": "stream",
       "stream": "stdout",
       "text": [
        "\r",
        "- Loading 466 assets: [================    ] 80%"
       ]
      },
      {
       "output_type": "stream",
       "stream": "stdout",
       "text": [
        "\r",
        "- Loading 466 assets: [================    ] 80%"
       ]
      },
      {
       "output_type": "stream",
       "stream": "stdout",
       "text": [
        "\r",
        "- Loading 466 assets: [================    ] 81%"
       ]
      },
      {
       "output_type": "stream",
       "stream": "stdout",
       "text": [
        "\r",
        "- Loading 466 assets: [================    ] 81%"
       ]
      },
      {
       "output_type": "stream",
       "stream": "stdout",
       "text": [
        "\r",
        "- Loading 466 assets: [================    ] 81%"
       ]
      },
      {
       "output_type": "stream",
       "stream": "stdout",
       "text": [
        "\r",
        "- Loading 466 assets: [================    ] 81%"
       ]
      },
      {
       "output_type": "stream",
       "stream": "stdout",
       "text": [
        "\r",
        "- Loading 466 assets: [================    ] 81%"
       ]
      },
      {
       "output_type": "stream",
       "stream": "stdout",
       "text": [
        "\r",
        "- Loading 466 assets: [================    ] 82%"
       ]
      },
      {
       "output_type": "stream",
       "stream": "stdout",
       "text": [
        "\r",
        "- Loading 466 assets: [================    ] 82%"
       ]
      },
      {
       "output_type": "stream",
       "stream": "stdout",
       "text": [
        "\r",
        "- Loading 466 assets: [================    ] 82%"
       ]
      },
      {
       "output_type": "stream",
       "stream": "stdout",
       "text": [
        "\r",
        "- Loading 466 assets: [================    ] 82%"
       ]
      },
      {
       "output_type": "stream",
       "stream": "stdout",
       "text": [
        "\r",
        "- Loading 466 assets: [================    ] 83%"
       ]
      },
      {
       "output_type": "stream",
       "stream": "stdout",
       "text": [
        "\r",
        "- Loading 466 assets: [================    ] 83%"
       ]
      },
      {
       "output_type": "stream",
       "stream": "stdout",
       "text": [
        "\r",
        "- Loading 466 assets: [================    ] 83%"
       ]
      },
      {
       "output_type": "stream",
       "stream": "stdout",
       "text": [
        "\r",
        "- Loading 466 assets: [================    ] 83%"
       ]
      },
      {
       "output_type": "stream",
       "stream": "stdout",
       "text": [
        "\r",
        "- Loading 466 assets: [================    ] 83%"
       ]
      },
      {
       "output_type": "stream",
       "stream": "stdout",
       "text": [
        "\r",
        "- Loading 466 assets: [================    ] 84%"
       ]
      },
      {
       "output_type": "stream",
       "stream": "stdout",
       "text": [
        "\r",
        "- Loading 466 assets: [================    ] 84%"
       ]
      },
      {
       "output_type": "stream",
       "stream": "stdout",
       "text": [
        "\r",
        "- Loading 466 assets: [================    ] 84%"
       ]
      },
      {
       "output_type": "stream",
       "stream": "stdout",
       "text": [
        "\r",
        "- Loading 466 assets: [================    ] 84%"
       ]
      },
      {
       "output_type": "stream",
       "stream": "stdout",
       "text": [
        "\r",
        "- Loading 466 assets: [================    ] 84%"
       ]
      },
      {
       "output_type": "stream",
       "stream": "stdout",
       "text": [
        "\r",
        "- Loading 466 assets: [=================   ] 85%"
       ]
      },
      {
       "output_type": "stream",
       "stream": "stdout",
       "text": [
        "\r",
        "- Loading 466 assets: [=================   ] 85%"
       ]
      },
      {
       "output_type": "stream",
       "stream": "stdout",
       "text": [
        "\r",
        "- Loading 466 assets: [=================   ] 85%"
       ]
      },
      {
       "output_type": "stream",
       "stream": "stdout",
       "text": [
        "\r",
        "- Loading 466 assets: [=================   ] 85%"
       ]
      },
      {
       "output_type": "stream",
       "stream": "stdout",
       "text": [
        "\r",
        "- Loading 466 assets: [=================   ] 86%"
       ]
      },
      {
       "output_type": "stream",
       "stream": "stdout",
       "text": [
        "\r",
        "- Loading 466 assets: [=================   ] 86%"
       ]
      },
      {
       "output_type": "stream",
       "stream": "stdout",
       "text": [
        "\r",
        "- Loading 466 assets: [=================   ] 86%"
       ]
      },
      {
       "output_type": "stream",
       "stream": "stdout",
       "text": [
        "\r",
        "- Loading 466 assets: [=================   ] 86%"
       ]
      },
      {
       "output_type": "stream",
       "stream": "stdout",
       "text": [
        "\r",
        "- Loading 466 assets: [=================   ] 86%"
       ]
      },
      {
       "output_type": "stream",
       "stream": "stdout",
       "text": [
        "\r",
        "- Loading 466 assets: [=================   ] 87%"
       ]
      },
      {
       "output_type": "stream",
       "stream": "stdout",
       "text": [
        "\r",
        "- Loading 466 assets: [=================   ] 87%"
       ]
      },
      {
       "output_type": "stream",
       "stream": "stdout",
       "text": [
        "\r",
        "- Loading 466 assets: [=================   ] 87%"
       ]
      },
      {
       "output_type": "stream",
       "stream": "stdout",
       "text": [
        "\r",
        "- Loading 466 assets: [=================   ] 87%"
       ]
      },
      {
       "output_type": "stream",
       "stream": "stdout",
       "text": [
        "\r",
        "- Loading 466 assets: [=================   ] 87%"
       ]
      },
      {
       "output_type": "stream",
       "stream": "stdout",
       "text": [
        "\r",
        "- Loading 466 assets: [=================   ] 88%"
       ]
      },
      {
       "output_type": "stream",
       "stream": "stdout",
       "text": [
        "\r",
        "- Loading 466 assets: [=================   ] 88%"
       ]
      },
      {
       "output_type": "stream",
       "stream": "stdout",
       "text": [
        "\r",
        "- Loading 466 assets: [=================   ] 88%"
       ]
      },
      {
       "output_type": "stream",
       "stream": "stdout",
       "text": [
        "\r",
        "- Loading 466 assets: [=================   ] 88%"
       ]
      },
      {
       "output_type": "stream",
       "stream": "stdout",
       "text": [
        "\r",
        "- Loading 466 assets: [=================   ] 89%"
       ]
      },
      {
       "output_type": "stream",
       "stream": "stdout",
       "text": [
        "\r",
        "- Loading 466 assets: [=================   ] 89%"
       ]
      },
      {
       "output_type": "stream",
       "stream": "stdout",
       "text": [
        "\r",
        "- Loading 466 assets: [=================   ] 89%"
       ]
      },
      {
       "output_type": "stream",
       "stream": "stdout",
       "text": [
        "\r",
        "- Loading 466 assets: [=================   ] 89%"
       ]
      },
      {
       "output_type": "stream",
       "stream": "stdout",
       "text": [
        "\r",
        "- Loading 466 assets: [=================   ] 89%"
       ]
      },
      {
       "output_type": "stream",
       "stream": "stdout",
       "text": [
        "\r",
        "- Loading 466 assets: [==================  ] 90%"
       ]
      },
      {
       "output_type": "stream",
       "stream": "stdout",
       "text": [
        "\r",
        "- Loading 466 assets: [==================  ] 90%"
       ]
      },
      {
       "output_type": "stream",
       "stream": "stdout",
       "text": [
        "\r",
        "- Loading 466 assets: [==================  ] 90%"
       ]
      },
      {
       "output_type": "stream",
       "stream": "stdout",
       "text": [
        "\r",
        "- Loading 466 assets: [==================  ] 90%"
       ]
      },
      {
       "output_type": "stream",
       "stream": "stdout",
       "text": [
        "\r",
        "- Loading 466 assets: [==================  ] 90%"
       ]
      },
      {
       "output_type": "stream",
       "stream": "stdout",
       "text": [
        "\r",
        "- Loading 466 assets: [==================  ] 91%"
       ]
      },
      {
       "output_type": "stream",
       "stream": "stdout",
       "text": [
        "\r",
        "- Loading 466 assets: [==================  ] 91%"
       ]
      },
      {
       "output_type": "stream",
       "stream": "stdout",
       "text": [
        "\r",
        "- Loading 466 assets: [==================  ] 91%"
       ]
      },
      {
       "output_type": "stream",
       "stream": "stdout",
       "text": [
        "\r",
        "- Loading 466 assets: [==================  ] 91%"
       ]
      },
      {
       "output_type": "stream",
       "stream": "stdout",
       "text": [
        "\r",
        "- Loading 466 assets: [==================  ] 92%"
       ]
      },
      {
       "output_type": "stream",
       "stream": "stdout",
       "text": [
        "\r",
        "- Loading 466 assets: [==================  ] 92%"
       ]
      },
      {
       "output_type": "stream",
       "stream": "stdout",
       "text": [
        "\r",
        "- Loading 466 assets: [==================  ] 92%"
       ]
      },
      {
       "output_type": "stream",
       "stream": "stdout",
       "text": [
        "\r",
        "- Loading 466 assets: [==================  ] 92%"
       ]
      },
      {
       "output_type": "stream",
       "stream": "stdout",
       "text": [
        "\r",
        "- Loading 466 assets: [==================  ] 92%"
       ]
      },
      {
       "output_type": "stream",
       "stream": "stdout",
       "text": [
        "\r",
        "- Loading 466 assets: [==================  ] 93%"
       ]
      },
      {
       "output_type": "stream",
       "stream": "stdout",
       "text": [
        "\r",
        "- Loading 466 assets: [==================  ] 93%"
       ]
      },
      {
       "output_type": "stream",
       "stream": "stdout",
       "text": [
        "\r",
        "- Loading 466 assets: [==================  ] 93%"
       ]
      },
      {
       "output_type": "stream",
       "stream": "stdout",
       "text": [
        "\r",
        "- Loading 466 assets: [==================  ] 93%"
       ]
      },
      {
       "output_type": "stream",
       "stream": "stdout",
       "text": [
        "\r",
        "- Loading 466 assets: [==================  ] 93%"
       ]
      },
      {
       "output_type": "stream",
       "stream": "stdout",
       "text": [
        "\r",
        "- Loading 466 assets: [==================  ] 94%"
       ]
      },
      {
       "output_type": "stream",
       "stream": "stdout",
       "text": [
        "\r",
        "- Loading 466 assets: [==================  ] 94%"
       ]
      },
      {
       "output_type": "stream",
       "stream": "stdout",
       "text": [
        "\r",
        "- Loading 466 assets: [==================  ] 94%"
       ]
      },
      {
       "output_type": "stream",
       "stream": "stdout",
       "text": [
        "\r",
        "- Loading 466 assets: [==================  ] 94%"
       ]
      },
      {
       "output_type": "stream",
       "stream": "stdout",
       "text": [
        "\r",
        "- Loading 466 assets: [=================== ] 95%"
       ]
      },
      {
       "output_type": "stream",
       "stream": "stdout",
       "text": [
        "\r",
        "- Loading 466 assets: [=================== ] 95%"
       ]
      },
      {
       "output_type": "stream",
       "stream": "stdout",
       "text": [
        "\r",
        "- Loading 466 assets: [=================== ] 95%"
       ]
      },
      {
       "output_type": "stream",
       "stream": "stdout",
       "text": [
        "\r",
        "- Loading 466 assets: [=================== ] 95%"
       ]
      },
      {
       "output_type": "stream",
       "stream": "stdout",
       "text": [
        "\r",
        "- Loading 466 assets: [=================== ] 95%"
       ]
      },
      {
       "output_type": "stream",
       "stream": "stdout",
       "text": [
        "\r",
        "- Loading 466 assets: [=================== ] 96%"
       ]
      },
      {
       "output_type": "stream",
       "stream": "stdout",
       "text": [
        "\r",
        "- Loading 466 assets: [=================== ] 96%"
       ]
      },
      {
       "output_type": "stream",
       "stream": "stdout",
       "text": [
        "\r",
        "- Loading 466 assets: [=================== ] 96%"
       ]
      },
      {
       "output_type": "stream",
       "stream": "stdout",
       "text": [
        "\r",
        "- Loading 466 assets: [=================== ] 96%"
       ]
      },
      {
       "output_type": "stream",
       "stream": "stdout",
       "text": [
        "\r",
        "- Loading 466 assets: [=================== ] 96%"
       ]
      },
      {
       "output_type": "stream",
       "stream": "stdout",
       "text": [
        "\r",
        "- Loading 466 assets: [=================== ] 97%"
       ]
      },
      {
       "output_type": "stream",
       "stream": "stdout",
       "text": [
        "\r",
        "- Loading 466 assets: [=================== ] 97%"
       ]
      },
      {
       "output_type": "stream",
       "stream": "stdout",
       "text": [
        "\r",
        "- Loading 466 assets: [=================== ] 97%"
       ]
      },
      {
       "output_type": "stream",
       "stream": "stdout",
       "text": [
        "\r",
        "- Loading 466 assets: [=================== ] 97%"
       ]
      },
      {
       "output_type": "stream",
       "stream": "stdout",
       "text": [
        "\r",
        "- Loading 466 assets: [=================== ] 98%"
       ]
      },
      {
       "output_type": "stream",
       "stream": "stdout",
       "text": [
        "\r",
        "- Loading 466 assets: [=================== ] 98%"
       ]
      },
      {
       "output_type": "stream",
       "stream": "stdout",
       "text": [
        "\r",
        "- Loading 466 assets: [=================== ] 98%"
       ]
      },
      {
       "output_type": "stream",
       "stream": "stdout",
       "text": [
        "\r",
        "- Loading 466 assets: [=================== ] 98%"
       ]
      },
      {
       "output_type": "stream",
       "stream": "stdout",
       "text": [
        "\r",
        "- Loading 466 assets: [=================== ] 98%"
       ]
      },
      {
       "output_type": "stream",
       "stream": "stdout",
       "text": [
        "\r",
        "- Loading 466 assets: [=================== ] 99%"
       ]
      },
      {
       "output_type": "stream",
       "stream": "stdout",
       "text": [
        "\r",
        "- Loading 466 assets: [=================== ] 99%"
       ]
      },
      {
       "output_type": "stream",
       "stream": "stdout",
       "text": [
        "\r",
        "- Loading 466 assets: [=================== ] 99%"
       ]
      },
      {
       "output_type": "stream",
       "stream": "stdout",
       "text": [
        "\r",
        "- Loading 466 assets: [=================== ] 99%"
       ]
      },
      {
       "output_type": "stream",
       "stream": "stdout",
       "text": [
        "\r",
        "- Loading 466 assets: [====================] 100%"
       ]
      }
     ],
     "prompt_number": 4
    },
    {
     "cell_type": "code",
     "collapsed": false,
     "input": [
      "test_images = test_images[1::2]"
     ],
     "language": "python",
     "metadata": {},
     "outputs": [],
     "prompt_number": 5
    },
    {
     "cell_type": "code",
     "collapsed": false,
     "input": [
      "from menpo.visualize import visualize_images\n",
      "\n",
      "visualize_images(test_images)"
     ],
     "language": "python",
     "metadata": {},
     "outputs": [
      {
       "metadata": {},
       "output_type": "display_data",
       "png": "[encoded data removed]",
       "text": [
        "<matplotlib.figure.Figure at 0x7f2d999cdb50>"
       ]
      }
     ],
     "prompt_number": 6
    },
    {
     "cell_type": "heading",
     "level": 1,
     "metadata": {},
     "source": [
      "AAMs"
     ]
    },
    {
     "cell_type": "heading",
     "level": 3,
     "metadata": {},
     "source": [
      "Load"
     ]
    },
    {
     "cell_type": "code",
     "collapsed": false,
     "input": [
      "from alabortcvpr2015.utils import pickle_load\n",
      "\n",
      "aam = pickle_load('/data/PhD/Models/aam_view0_fast_dsift')"
     ],
     "language": "python",
     "metadata": {},
     "outputs": [],
     "prompt_number": 7
    },
    {
     "cell_type": "heading",
     "level": 2,
     "metadata": {},
     "source": [
      "AIC"
     ]
    },
    {
     "cell_type": "heading",
     "level": 3,
     "metadata": {},
     "source": [
      "Test"
     ]
    },
    {
     "cell_type": "code",
     "collapsed": false,
     "input": [
      "sampling_mask = np.require(np.zeros(aam.parts_shape), dtype=np.bool)\n",
      "sampling_mask[::2, ::2] = True\n",
      "\n",
      "imshow(sampling_mask)"
     ],
     "language": "python",
     "metadata": {},
     "outputs": [
      {
       "metadata": {},
       "output_type": "pyout",
       "prompt_number": 10,
       "text": [
        "<matplotlib.image.AxesImage at 0x7f2d85568e10>"
       ]
      },
      {
       "metadata": {},
       "output_type": "display_data",
       "png": "[encoded data removed]",
       "text": [
        "<matplotlib.figure.Figure at 0x7f2d86e5e310>"
       ]
      }
     ],
     "prompt_number": 10
    },
    {
     "cell_type": "code",
     "collapsed": false,
     "input": [
      "from alabortcvpr2015.aam import PartsAAMFitter, AIC\n",
      "                  \n",
      "fitter = PartsAAMFitter(aam, algorithm_cls=AIC, n_shape=[3, 12],\n",
      "                        n_appearance=[25, 50], sampling_mask=sampling_mask)"
     ],
     "language": "python",
     "metadata": {},
     "outputs": [],
     "prompt_number": 11
    },
    {
     "cell_type": "code",
     "collapsed": false,
     "input": [
      "fitter_results = []\n",
      "\n",
      "for seed in xrange(repeat):\n",
      "    \n",
      "    np.random.seed(seed=seed)\n",
      "\n",
      "    for j, i in enumerate(test_images):\n",
      "    \n",
      "\n",
      "        gt_s = i.landmarks[group].lms\n",
      "        s = fitter.perturb_shape(gt_s, noise_std=0.05)\n",
      "\n",
      "        fr = fitter.fit(i, s, gt_shape=gt_s, max_iters=20, prior=False)\n",
      "\n",
      "        fitter_results.append(fr)\n",
      "        fr.downscale = 0.5\n",
      "\n",
      "        print 'Image: ', j\n",
      "        print fr"
     ],
     "language": "python",
     "metadata": {},
     "outputs": [
      {
       "output_type": "stream",
       "stream": "stdout",
       "text": [
        "Image:  0\n",
        "Initial error: 0.1885\n",
        "Final error: 0.0511\n",
        "Image: "
       ]
      },
      {
       "output_type": "stream",
       "stream": "stdout",
       "text": [
        " 1\n",
        "Initial error: 0.0908\n",
        "Final error: 0.0396\n",
        "Image: "
       ]
      },
      {
       "output_type": "stream",
       "stream": "stdout",
       "text": [
        " 2\n",
        "Initial error: 0.0757\n",
        "Final error: 0.0332\n",
        "Image: "
       ]
      },
      {
       "output_type": "stream",
       "stream": "stdout",
       "text": [
        " 3\n",
        "Initial error: 0.0655\n",
        "Final error: 0.0308\n",
        "Image: "
       ]
      },
      {
       "output_type": "stream",
       "stream": "stdout",
       "text": [
        " 4\n",
        "Initial error: 0.0569\n",
        "Final error: 0.0343\n",
        "Image: "
       ]
      },
      {
       "output_type": "stream",
       "stream": "stdout",
       "text": [
        " 5\n",
        "Initial error: 0.1233\n",
        "Final error: 0.0444\n",
        "Image: "
       ]
      },
      {
       "output_type": "stream",
       "stream": "stdout",
       "text": [
        " 6\n",
        "Initial error: 0.0842\n",
        "Final error: 0.0250\n",
        "Image: "
       ]
      },
      {
       "output_type": "stream",
       "stream": "stdout",
       "text": [
        " 7\n",
        "Initial error: 0.0925\n",
        "Final error: 0.0594\n",
        "Image: "
       ]
      },
      {
       "output_type": "stream",
       "stream": "stdout",
       "text": [
        " 8\n",
        "Initial error: 0.1363\n",
        "Final error: 0.0507\n",
        "Image: "
       ]
      },
      {
       "output_type": "stream",
       "stream": "stdout",
       "text": [
        " 9\n",
        "Initial error: 0.0946\n",
        "Final error: 0.0516\n",
        "Image: "
       ]
      },
      {
       "output_type": "stream",
       "stream": "stdout",
       "text": [
        " 10\n",
        "Initial error: 0.1366\n",
        "Final error: 0.0522\n",
        "Image: "
       ]
      },
      {
       "output_type": "stream",
       "stream": "stdout",
       "text": [
        " 11\n",
        "Initial error: 0.1099\n",
        "Final error: 0.0660\n",
        "Image: "
       ]
      },
      {
       "output_type": "stream",
       "stream": "stdout",
       "text": [
        " 12\n",
        "Initial error: 0.1241\n",
        "Final error: 0.0546\n",
        "Image: "
       ]
      },
      {
       "output_type": "stream",
       "stream": "stdout",
       "text": [
        " 13\n",
        "Initial error: 0.0929\n",
        "Final error: 0.0272\n",
        "Image: "
       ]
      },
      {
       "output_type": "stream",
       "stream": "stdout",
       "text": [
        " 14\n",
        "Initial error: 0.0849\n",
        "Final error: 0.0485\n",
        "Image: "
       ]
      },
      {
       "output_type": "stream",
       "stream": "stdout",
       "text": [
        " 15\n",
        "Initial error: 0.1352\n",
        "Final error: 0.0556\n",
        "Image: "
       ]
      },
      {
       "output_type": "stream",
       "stream": "stdout",
       "text": [
        " 16\n",
        "Initial error: 0.0937\n",
        "Final error: 0.0308\n",
        "Image: "
       ]
      },
      {
       "output_type": "stream",
       "stream": "stdout",
       "text": [
        " 17\n",
        "Initial error: 0.0377\n",
        "Final error: 0.0466\n",
        "Image: "
       ]
      },
      {
       "output_type": "stream",
       "stream": "stdout",
       "text": [
        " 18\n",
        "Initial error: 0.0532\n",
        "Final error: 0.0393\n",
        "Image: "
       ]
      },
      {
       "output_type": "stream",
       "stream": "stdout",
       "text": [
        " 19\n",
        "Initial error: 0.0733\n",
        "Final error: 0.0375\n",
        "Image: "
       ]
      },
      {
       "output_type": "stream",
       "stream": "stdout",
       "text": [
        " 20\n",
        "Initial error: 0.1268\n",
        "Final error: 0.0268\n",
        "Image: "
       ]
      },
      {
       "output_type": "stream",
       "stream": "stdout",
       "text": [
        " 21\n",
        "Initial error: 0.0919\n",
        "Final error: 0.0464\n",
        "Image: "
       ]
      },
      {
       "output_type": "stream",
       "stream": "stdout",
       "text": [
        " 22\n",
        "Initial error: 0.0777\n",
        "Final error: 0.0684\n",
        "Image: "
       ]
      },
      {
       "output_type": "stream",
       "stream": "stdout",
       "text": [
        " 23\n",
        "Initial error: 0.0639\n",
        "Final error: 0.0470\n",
        "Image: "
       ]
      },
      {
       "output_type": "stream",
       "stream": "stdout",
       "text": [
        " 24\n",
        "Initial error: 0.0627\n",
        "Final error: 0.0358\n",
        "Image: "
       ]
      },
      {
       "output_type": "stream",
       "stream": "stdout",
       "text": [
        " 25\n",
        "Initial error: 0.1067\n",
        "Final error: 0.0302\n",
        "Image: "
       ]
      },
      {
       "output_type": "stream",
       "stream": "stdout",
       "text": [
        " 26\n",
        "Initial error: 0.1092\n",
        "Final error: 0.0593\n",
        "Image: "
       ]
      },
      {
       "output_type": "stream",
       "stream": "stdout",
       "text": [
        " 27\n",
        "Initial error: 0.1535\n",
        "Final error: 0.0485\n",
        "Image: "
       ]
      },
      {
       "output_type": "stream",
       "stream": "stdout",
       "text": [
        " 28\n",
        "Initial error: 0.0615\n",
        "Final error: 0.0232\n",
        "Image: "
       ]
      },
      {
       "output_type": "stream",
       "stream": "stdout",
       "text": [
        " 29\n",
        "Initial error: 0.1017\n",
        "Final error: 0.0272\n",
        "Image: "
       ]
      },
      {
       "output_type": "stream",
       "stream": "stdout",
       "text": [
        " 30\n",
        "Initial error: 0.0984\n",
        "Final error: 0.0463\n",
        "Image: "
       ]
      },
      {
       "output_type": "stream",
       "stream": "stdout",
       "text": [
        " 31\n",
        "Initial error: 0.0956\n",
        "Final error: 0.0422\n",
        "Image: "
       ]
      },
      {
       "output_type": "stream",
       "stream": "stdout",
       "text": [
        " 32\n",
        "Initial error: 0.1126\n",
        "Final error: 0.0881\n",
        "Image: "
       ]
      },
      {
       "output_type": "stream",
       "stream": "stdout",
       "text": [
        " 33\n",
        "Initial error: 0.0765\n",
        "Final error: 0.0497\n",
        "Image: "
       ]
      },
      {
       "output_type": "stream",
       "stream": "stdout",
       "text": [
        " 34\n",
        "Initial error: 0.1192\n",
        "Final error: 0.0408\n",
        "Image: "
       ]
      },
      {
       "output_type": "stream",
       "stream": "stdout",
       "text": [
        " 35\n",
        "Initial error: 0.0765\n",
        "Final error: 0.0432\n",
        "Image: "
       ]
      },
      {
       "output_type": "stream",
       "stream": "stdout",
       "text": [
        " 36\n",
        "Initial error: 0.1148\n",
        "Final error: 0.0648\n",
        "Image: "
       ]
      },
      {
       "output_type": "stream",
       "stream": "stdout",
       "text": [
        " 37\n",
        "Initial error: 0.0799\n",
        "Final error: 0.0325\n",
        "Image: "
       ]
      },
      {
       "output_type": "stream",
       "stream": "stdout",
       "text": [
        " 38\n",
        "Initial error: 0.0758\n",
        "Final error: 0.0561\n",
        "Image: "
       ]
      },
      {
       "output_type": "stream",
       "stream": "stdout",
       "text": [
        " 39\n",
        "Initial error: 0.0520\n",
        "Final error: 0.0549\n",
        "Image: "
       ]
      },
      {
       "output_type": "stream",
       "stream": "stdout",
       "text": [
        " 40\n",
        "Initial error: 0.0434\n",
        "Final error: 0.0310\n",
        "Image: "
       ]
      },
      {
       "output_type": "stream",
       "stream": "stdout",
       "text": [
        " 41\n",
        "Initial error: 0.1434\n",
        "Final error: 0.0445\n",
        "Image: "
       ]
      },
      {
       "output_type": "stream",
       "stream": "stdout",
       "text": [
        " 42\n",
        "Initial error: 0.0810\n",
        "Final error: 0.0362\n",
        "Image: "
       ]
      },
      {
       "output_type": "stream",
       "stream": "stdout",
       "text": [
        " 43\n",
        "Initial error: 0.0704\n",
        "Final error: 0.0313\n",
        "Image: "
       ]
      },
      {
       "output_type": "stream",
       "stream": "stdout",
       "text": [
        " 44\n",
        "Initial error: 0.0619\n",
        "Final error: 0.0528\n",
        "Image: "
       ]
      },
      {
       "output_type": "stream",
       "stream": "stdout",
       "text": [
        " 45\n",
        "Initial error: 0.1452\n",
        "Final error: 0.0327\n",
        "Image: "
       ]
      },
      {
       "output_type": "stream",
       "stream": "stdout",
       "text": [
        " 46\n",
        "Initial error: 0.0885\n",
        "Final error: 0.0538\n",
        "Image: "
       ]
      },
      {
       "output_type": "stream",
       "stream": "stdout",
       "text": [
        " 47\n",
        "Initial error: 0.0912\n",
        "Final error: 0.0394\n",
        "Image: "
       ]
      },
      {
       "output_type": "stream",
       "stream": "stdout",
       "text": [
        " 48\n",
        "Initial error: 0.0499\n",
        "Final error: 0.0318\n",
        "Image: "
       ]
      },
      {
       "output_type": "stream",
       "stream": "stdout",
       "text": [
        " 49\n",
        "Initial error: 0.1445\n",
        "Final error: 0.1478\n",
        "Image: "
       ]
      },
      {
       "output_type": "stream",
       "stream": "stdout",
       "text": [
        " 50\n",
        "Initial error: 0.0734\n",
        "Final error: 0.0369\n",
        "Image: "
       ]
      },
      {
       "output_type": "stream",
       "stream": "stdout",
       "text": [
        " 51\n",
        "Initial error: 0.0545\n",
        "Final error: 0.0326\n",
        "Image: "
       ]
      },
      {
       "output_type": "stream",
       "stream": "stdout",
       "text": [
        " 52\n",
        "Initial error: 0.0729\n",
        "Final error: 0.0262\n",
        "Image: "
       ]
      },
      {
       "output_type": "stream",
       "stream": "stdout",
       "text": [
        " 53\n",
        "Initial error: 0.0730\n",
        "Final error: 0.0604\n",
        "Image: "
       ]
      },
      {
       "output_type": "stream",
       "stream": "stdout",
       "text": [
        " 54\n",
        "Initial error: 0.1028\n",
        "Final error: 0.0276\n",
        "Image: "
       ]
      },
      {
       "output_type": "stream",
       "stream": "stdout",
       "text": [
        " 55\n",
        "Initial error: 0.1217\n",
        "Final error: 0.0387\n",
        "Image: "
       ]
      },
      {
       "output_type": "stream",
       "stream": "stdout",
       "text": [
        " 56\n",
        "Initial error: 0.1111\n",
        "Final error: 0.0296\n",
        "Image: "
       ]
      },
      {
       "output_type": "stream",
       "stream": "stdout",
       "text": [
        " 57\n",
        "Initial error: 0.1339\n",
        "Final error: 0.0548\n",
        "Image: "
       ]
      },
      {
       "output_type": "stream",
       "stream": "stdout",
       "text": [
        " 58\n",
        "Initial error: 0.0871\n",
        "Final error: 0.0248\n",
        "Image: "
       ]
      },
      {
       "output_type": "stream",
       "stream": "stdout",
       "text": [
        " 59\n",
        "Initial error: 0.1133\n",
        "Final error: 0.0476\n",
        "Image: "
       ]
      },
      {
       "output_type": "stream",
       "stream": "stdout",
       "text": [
        " 60\n",
        "Initial error: 0.1091\n",
        "Final error: 0.0336\n",
        "Image: "
       ]
      },
      {
       "output_type": "stream",
       "stream": "stdout",
       "text": [
        " 61\n",
        "Initial error: 0.0894\n",
        "Final error: 0.0340\n",
        "Image: "
       ]
      },
      {
       "output_type": "stream",
       "stream": "stdout",
       "text": [
        " 62\n",
        "Initial error: 0.0603\n",
        "Final error: 0.0246\n",
        "Image: "
       ]
      },
      {
       "output_type": "stream",
       "stream": "stdout",
       "text": [
        " 63\n",
        "Initial error: 0.1282\n",
        "Final error: 0.1261\n",
        "Image: "
       ]
      },
      {
       "output_type": "stream",
       "stream": "stdout",
       "text": [
        " 64\n",
        "Initial error: 0.0947\n",
        "Final error: 0.0451\n",
        "Image: "
       ]
      },
      {
       "output_type": "stream",
       "stream": "stdout",
       "text": [
        " 65\n",
        "Initial error: 0.0828\n",
        "Final error: 0.0348\n",
        "Image: "
       ]
      },
      {
       "output_type": "stream",
       "stream": "stdout",
       "text": [
        " 66\n",
        "Initial error: 0.0789\n",
        "Final error: 0.0176\n",
        "Image: "
       ]
      },
      {
       "output_type": "stream",
       "stream": "stdout",
       "text": [
        " 67\n",
        "Initial error: 0.1850\n",
        "Final error: 0.1305\n",
        "Image: "
       ]
      },
      {
       "output_type": "stream",
       "stream": "stdout",
       "text": [
        " 68\n",
        "Initial error: 0.0832\n",
        "Final error: 0.0712\n",
        "Image: "
       ]
      },
      {
       "output_type": "stream",
       "stream": "stdout",
       "text": [
        " 69\n",
        "Initial error: 0.1564\n",
        "Final error: 0.0448\n",
        "Image: "
       ]
      },
      {
       "output_type": "stream",
       "stream": "stdout",
       "text": [
        " 70\n",
        "Initial error: 0.0941\n",
        "Final error: 0.0325\n",
        "Image: "
       ]
      },
      {
       "output_type": "stream",
       "stream": "stdout",
       "text": [
        " 71\n",
        "Initial error: 0.0978\n",
        "Final error: 0.0318\n",
        "Image: "
       ]
      },
      {
       "output_type": "stream",
       "stream": "stdout",
       "text": [
        " 72\n",
        "Initial error: 0.0617\n",
        "Final error: 0.0248\n",
        "Image: "
       ]
      },
      {
       "output_type": "stream",
       "stream": "stdout",
       "text": [
        " 73\n",
        "Initial error: 0.1270\n",
        "Final error: 0.0368\n",
        "Image: "
       ]
      },
      {
       "output_type": "stream",
       "stream": "stdout",
       "text": [
        " 74\n",
        "Initial error: 0.0571\n",
        "Final error: 0.0305\n",
        "Image: "
       ]
      },
      {
       "output_type": "stream",
       "stream": "stdout",
       "text": [
        " 75\n",
        "Initial error: 0.0884\n",
        "Final error: 0.0161\n",
        "Image: "
       ]
      },
      {
       "output_type": "stream",
       "stream": "stdout",
       "text": [
        " 76\n",
        "Initial error: 0.1004\n",
        "Final error: 0.0424\n",
        "Image: "
       ]
      },
      {
       "output_type": "stream",
       "stream": "stdout",
       "text": [
        " 77\n",
        "Initial error: 0.0898\n",
        "Final error: 0.0454\n",
        "Image: "
       ]
      },
      {
       "output_type": "stream",
       "stream": "stdout",
       "text": [
        " 78\n",
        "Initial error: 0.0774\n",
        "Final error: 0.0418\n",
        "Image: "
       ]
      },
      {
       "output_type": "stream",
       "stream": "stdout",
       "text": [
        " 79\n",
        "Initial error: 0.0423\n",
        "Final error: 0.0545\n",
        "Image: "
       ]
      },
      {
       "output_type": "stream",
       "stream": "stdout",
       "text": [
        " 80\n",
        "Initial error: 0.0860\n",
        "Final error: 0.0386\n",
        "Image: "
       ]
      },
      {
       "output_type": "stream",
       "stream": "stdout",
       "text": [
        " 81\n",
        "Initial error: 0.1040\n",
        "Final error: 0.0397\n",
        "Image: "
       ]
      },
      {
       "output_type": "stream",
       "stream": "stdout",
       "text": [
        " 82\n",
        "Initial error: 0.0961\n",
        "Final error: 0.0530\n",
        "Image: "
       ]
      },
      {
       "output_type": "stream",
       "stream": "stdout",
       "text": [
        " 83\n",
        "Initial error: 0.1295\n",
        "Final error: 0.0315\n",
        "Image: "
       ]
      },
      {
       "output_type": "stream",
       "stream": "stdout",
       "text": [
        " 84\n",
        "Initial error: 0.0956\n",
        "Final error: 0.0455\n",
        "Image: "
       ]
      },
      {
       "output_type": "stream",
       "stream": "stdout",
       "text": [
        " 85\n",
        "Initial error: 0.0799\n",
        "Final error: 0.0518\n",
        "Image: "
       ]
      },
      {
       "output_type": "stream",
       "stream": "stdout",
       "text": [
        " 86\n",
        "Initial error: 0.0486\n",
        "Final error: 0.0351\n",
        "Image: "
       ]
      },
      {
       "output_type": "stream",
       "stream": "stdout",
       "text": [
        " 87\n",
        "Initial error: 0.0935\n",
        "Final error: 0.0374\n",
        "Image: "
       ]
      },
      {
       "output_type": "stream",
       "stream": "stdout",
       "text": [
        " 88\n",
        "Initial error: 0.0682\n",
        "Final error: 0.0773\n",
        "Image: "
       ]
      },
      {
       "output_type": "stream",
       "stream": "stdout",
       "text": [
        " 89\n",
        "Initial error: 0.1003\n",
        "Final error: 0.0643\n",
        "Image: "
       ]
      },
      {
       "output_type": "stream",
       "stream": "stdout",
       "text": [
        " 90\n",
        "Initial error: 0.0788\n",
        "Final error: 0.0415\n",
        "Image: "
       ]
      },
      {
       "output_type": "stream",
       "stream": "stdout",
       "text": [
        " 91\n",
        "Initial error: 0.0772\n",
        "Final error: 0.0405\n",
        "Image: "
       ]
      },
      {
       "output_type": "stream",
       "stream": "stdout",
       "text": [
        " 92\n",
        "Initial error: 0.0965\n",
        "Final error: 0.0437\n",
        "Image: "
       ]
      },
      {
       "output_type": "stream",
       "stream": "stdout",
       "text": [
        " 93\n",
        "Initial error: 0.0615\n",
        "Final error: 0.0235\n",
        "Image: "
       ]
      },
      {
       "output_type": "stream",
       "stream": "stdout",
       "text": [
        " 94\n",
        "Initial error: 0.0606\n",
        "Final error: 0.0320\n",
        "Image: "
       ]
      },
      {
       "output_type": "stream",
       "stream": "stdout",
       "text": [
        " 95\n",
        "Initial error: 0.1883\n",
        "Final error: 0.1316\n",
        "Image: "
       ]
      },
      {
       "output_type": "stream",
       "stream": "stdout",
       "text": [
        " 96\n",
        "Initial error: 0.1118\n",
        "Final error: 0.0232\n",
        "Image: "
       ]
      },
      {
       "output_type": "stream",
       "stream": "stdout",
       "text": [
        " 97\n",
        "Initial error: 0.1139\n",
        "Final error: 0.0387\n",
        "Image: "
       ]
      },
      {
       "output_type": "stream",
       "stream": "stdout",
       "text": [
        " 98\n",
        "Initial error: 0.0743\n",
        "Final error: 0.0364\n",
        "Image: "
       ]
      },
      {
       "output_type": "stream",
       "stream": "stdout",
       "text": [
        " 99\n",
        "Initial error: 0.1161\n",
        "Final error: 0.0442\n",
        "Image: "
       ]
      },
      {
       "output_type": "stream",
       "stream": "stdout",
       "text": [
        " 100\n",
        "Initial error: 0.0777\n",
        "Final error: 0.0408\n",
        "Image: "
       ]
      },
      {
       "output_type": "stream",
       "stream": "stdout",
       "text": [
        " 101\n",
        "Initial error: 0.0536\n",
        "Final error: 0.0424\n",
        "Image: "
       ]
      },
      {
       "output_type": "stream",
       "stream": "stdout",
       "text": [
        " 102\n",
        "Initial error: 0.0923\n",
        "Final error: 0.0370\n",
        "Image: "
       ]
      },
      {
       "output_type": "stream",
       "stream": "stdout",
       "text": [
        " 103\n",
        "Initial error: 0.0869\n",
        "Final error: 0.0908\n",
        "Image: "
       ]
      },
      {
       "output_type": "stream",
       "stream": "stdout",
       "text": [
        " 104\n",
        "Initial error: 0.1400\n",
        "Final error: 0.0193\n",
        "Image: "
       ]
      },
      {
       "output_type": "stream",
       "stream": "stdout",
       "text": [
        " 105\n",
        "Initial error: 0.0899\n",
        "Final error: 0.0364\n",
        "Image: "
       ]
      },
      {
       "output_type": "stream",
       "stream": "stdout",
       "text": [
        " 106\n",
        "Initial error: 0.1703\n",
        "Final error: 0.0176\n",
        "Image: "
       ]
      },
      {
       "output_type": "stream",
       "stream": "stdout",
       "text": [
        " 107\n",
        "Initial error: 0.1145\n",
        "Final error: 0.0323\n",
        "Image: "
       ]
      },
      {
       "output_type": "stream",
       "stream": "stdout",
       "text": [
        " 108\n",
        "Initial error: 0.0823\n",
        "Final error: 0.0353\n",
        "Image: "
       ]
      },
      {
       "output_type": "stream",
       "stream": "stdout",
       "text": [
        " 109\n",
        "Initial error: 0.0876\n",
        "Final error: 0.0253\n",
        "Image: "
       ]
      },
      {
       "output_type": "stream",
       "stream": "stdout",
       "text": [
        " 110\n",
        "Initial error: 0.0704\n",
        "Final error: 0.0338\n",
        "Image: "
       ]
      },
      {
       "output_type": "stream",
       "stream": "stdout",
       "text": [
        " 111\n",
        "Initial error: 0.0567\n",
        "Final error: 0.0302\n",
        "Image: "
       ]
      },
      {
       "output_type": "stream",
       "stream": "stdout",
       "text": [
        " 112\n",
        "Initial error: 0.0783\n",
        "Final error: 0.0426\n",
        "Image: "
       ]
      },
      {
       "output_type": "stream",
       "stream": "stdout",
       "text": [
        " 113\n",
        "Initial error: 0.1236\n",
        "Final error: 0.0393\n",
        "Image: "
       ]
      },
      {
       "output_type": "stream",
       "stream": "stdout",
       "text": [
        " 114\n",
        "Initial error: 0.0429\n",
        "Final error: 0.0474\n",
        "Image: "
       ]
      },
      {
       "output_type": "stream",
       "stream": "stdout",
       "text": [
        " 115\n",
        "Initial error: 0.1076\n",
        "Final error: 0.0636\n",
        "Image: "
       ]
      },
      {
       "output_type": "stream",
       "stream": "stdout",
       "text": [
        " 116\n",
        "Initial error: 0.1010\n",
        "Final error: 0.0590\n",
        "Image: "
       ]
      },
      {
       "output_type": "stream",
       "stream": "stdout",
       "text": [
        " 117\n",
        "Initial error: 0.1731\n",
        "Final error: 0.1351\n",
        "Image: "
       ]
      },
      {
       "output_type": "stream",
       "stream": "stdout",
       "text": [
        " 118\n",
        "Initial error: 0.0993\n",
        "Final error: 0.0400\n",
        "Image: "
       ]
      },
      {
       "output_type": "stream",
       "stream": "stdout",
       "text": [
        " 119\n",
        "Initial error: 0.1079\n",
        "Final error: 0.0282\n",
        "Image: "
       ]
      },
      {
       "output_type": "stream",
       "stream": "stdout",
       "text": [
        " 120\n",
        "Initial error: 0.0697\n",
        "Final error: 0.0335\n",
        "Image: "
       ]
      },
      {
       "output_type": "stream",
       "stream": "stdout",
       "text": [
        " 121\n",
        "Initial error: 0.0957\n",
        "Final error: 0.0377\n",
        "Image: "
       ]
      },
      {
       "output_type": "stream",
       "stream": "stdout",
       "text": [
        " 122\n",
        "Initial error: 0.0873\n",
        "Final error: 0.0203\n",
        "Image: "
       ]
      },
      {
       "output_type": "stream",
       "stream": "stdout",
       "text": [
        " 123\n",
        "Initial error: 0.1327\n",
        "Final error: 0.0515\n",
        "Image: "
       ]
      },
      {
       "output_type": "stream",
       "stream": "stdout",
       "text": [
        " 124\n",
        "Initial error: 0.0958\n",
        "Final error: 0.0343\n",
        "Image: "
       ]
      },
      {
       "output_type": "stream",
       "stream": "stdout",
       "text": [
        " 125\n",
        "Initial error: 0.0811\n",
        "Final error: 0.0777\n",
        "Image: "
       ]
      },
      {
       "output_type": "stream",
       "stream": "stdout",
       "text": [
        " 126\n",
        "Initial error: 0.1426\n",
        "Final error: 0.0414\n",
        "Image: "
       ]
      },
      {
       "output_type": "stream",
       "stream": "stdout",
       "text": [
        " 127\n",
        "Initial error: 0.1306\n",
        "Final error: 0.1170\n",
        "Image: "
       ]
      },
      {
       "output_type": "stream",
       "stream": "stdout",
       "text": [
        " 128\n",
        "Initial error: 0.0817\n",
        "Final error: 0.0425\n",
        "Image: "
       ]
      },
      {
       "output_type": "stream",
       "stream": "stdout",
       "text": [
        " 129\n",
        "Initial error: 0.1184\n",
        "Final error: 0.0266\n",
        "Image: "
       ]
      },
      {
       "output_type": "stream",
       "stream": "stdout",
       "text": [
        " 130\n",
        "Initial error: 0.1276\n",
        "Final error: 0.0406\n",
        "Image: "
       ]
      },
      {
       "output_type": "stream",
       "stream": "stdout",
       "text": [
        " 131\n",
        "Initial error: 0.0922\n",
        "Final error: 0.1026\n",
        "Image: "
       ]
      },
      {
       "output_type": "stream",
       "stream": "stdout",
       "text": [
        " 132\n",
        "Initial error: 0.1675\n",
        "Final error: 0.1221\n",
        "Image: "
       ]
      },
      {
       "output_type": "stream",
       "stream": "stdout",
       "text": [
        " 133\n",
        "Initial error: 0.0856\n",
        "Final error: 0.0818\n",
        "Image: "
       ]
      },
      {
       "output_type": "stream",
       "stream": "stdout",
       "text": [
        " 134\n",
        "Initial error: 0.0616\n",
        "Final error: 0.0408\n",
        "Image: "
       ]
      },
      {
       "output_type": "stream",
       "stream": "stdout",
       "text": [
        " 135\n",
        "Initial error: 0.0984\n",
        "Final error: 0.0399\n",
        "Image: "
       ]
      },
      {
       "output_type": "stream",
       "stream": "stdout",
       "text": [
        " 136\n",
        "Initial error: 0.1706\n",
        "Final error: 0.0340\n",
        "Image: "
       ]
      },
      {
       "output_type": "stream",
       "stream": "stdout",
       "text": [
        " 137\n",
        "Initial error: 0.0462\n",
        "Final error: 0.0255\n",
        "Image: "
       ]
      },
      {
       "output_type": "stream",
       "stream": "stdout",
       "text": [
        " 138\n",
        "Initial error: 0.1024\n",
        "Final error: 0.0308\n",
        "Image: "
       ]
      },
      {
       "output_type": "stream",
       "stream": "stdout",
       "text": [
        " 139\n",
        "Initial error: 0.1617\n",
        "Final error: 0.0932\n",
        "Image: "
       ]
      },
      {
       "output_type": "stream",
       "stream": "stdout",
       "text": [
        " 140\n",
        "Initial error: 0.0851\n",
        "Final error: 0.0341\n",
        "Image: "
       ]
      },
      {
       "output_type": "stream",
       "stream": "stdout",
       "text": [
        " 141\n",
        "Initial error: 0.0348\n",
        "Final error: 0.0386\n",
        "Image: "
       ]
      },
      {
       "output_type": "stream",
       "stream": "stdout",
       "text": [
        " 142\n",
        "Initial error: 0.1132\n",
        "Final error: 0.0324\n",
        "Image: "
       ]
      },
      {
       "output_type": "stream",
       "stream": "stdout",
       "text": [
        " 143\n",
        "Initial error: 0.0921\n",
        "Final error: 0.0271\n",
        "Image: "
       ]
      },
      {
       "output_type": "stream",
       "stream": "stdout",
       "text": [
        " 144\n",
        "Initial error: 0.0634\n",
        "Final error: 0.0483\n",
        "Image: "
       ]
      },
      {
       "output_type": "stream",
       "stream": "stdout",
       "text": [
        " 145\n",
        "Initial error: 0.1193\n",
        "Final error: 0.0368\n",
        "Image: "
       ]
      },
      {
       "output_type": "stream",
       "stream": "stdout",
       "text": [
        " 146\n",
        "Initial error: 0.1084\n",
        "Final error: 0.0419\n",
        "Image: "
       ]
      },
      {
       "output_type": "stream",
       "stream": "stdout",
       "text": [
        " 147\n",
        "Initial error: 0.0517\n",
        "Final error: 0.0389\n",
        "Image: "
       ]
      },
      {
       "output_type": "stream",
       "stream": "stdout",
       "text": [
        " 148\n",
        "Initial error: 0.0656\n",
        "Final error: 0.0252\n",
        "Image: "
       ]
      },
      {
       "output_type": "stream",
       "stream": "stdout",
       "text": [
        " 149\n",
        "Initial error: 0.0822\n",
        "Final error: 0.0406\n",
        "Image: "
       ]
      },
      {
       "output_type": "stream",
       "stream": "stdout",
       "text": [
        " 150\n",
        "Initial error: 0.0923\n",
        "Final error: 0.0335\n",
        "Image: "
       ]
      },
      {
       "output_type": "stream",
       "stream": "stdout",
       "text": [
        " 151\n",
        "Initial error: 0.1502\n",
        "Final error: 0.0663\n",
        "Image: "
       ]
      },
      {
       "output_type": "stream",
       "stream": "stdout",
       "text": [
        " 152\n",
        "Initial error: 0.1159\n",
        "Final error: 0.0276\n",
        "Image: "
       ]
      },
      {
       "output_type": "stream",
       "stream": "stdout",
       "text": [
        " 153\n",
        "Initial error: 0.0749\n",
        "Final error: 0.0303\n",
        "Image: "
       ]
      },
      {
       "output_type": "stream",
       "stream": "stdout",
       "text": [
        " 154\n",
        "Initial error: 0.1199\n",
        "Final error: 0.0651\n",
        "Image: "
       ]
      },
      {
       "output_type": "stream",
       "stream": "stdout",
       "text": [
        " 155\n",
        "Initial error: 0.0812\n",
        "Final error: 0.0850\n",
        "Image: "
       ]
      },
      {
       "output_type": "stream",
       "stream": "stdout",
       "text": [
        " 156\n",
        "Initial error: 0.0995\n",
        "Final error: 0.0279\n",
        "Image: "
       ]
      },
      {
       "output_type": "stream",
       "stream": "stdout",
       "text": [
        " 157\n",
        "Initial error: 0.0664\n",
        "Final error: 0.0342\n",
        "Image: "
       ]
      },
      {
       "output_type": "stream",
       "stream": "stdout",
       "text": [
        " 158\n",
        "Initial error: 0.0884\n",
        "Final error: 0.0195\n",
        "Image: "
       ]
      },
      {
       "output_type": "stream",
       "stream": "stdout",
       "text": [
        " 159\n",
        "Initial error: 0.0757\n",
        "Final error: 0.0279\n",
        "Image: "
       ]
      },
      {
       "output_type": "stream",
       "stream": "stdout",
       "text": [
        " 160\n",
        "Initial error: 0.1037\n",
        "Final error: 0.0322\n",
        "Image: "
       ]
      },
      {
       "output_type": "stream",
       "stream": "stdout",
       "text": [
        " 161\n",
        "Initial error: 0.0819\n",
        "Final error: 0.0227\n",
        "Image: "
       ]
      },
      {
       "output_type": "stream",
       "stream": "stdout",
       "text": [
        " 162\n",
        "Initial error: 0.1601\n",
        "Final error: 0.0462\n",
        "Image: "
       ]
      },
      {
       "output_type": "stream",
       "stream": "stdout",
       "text": [
        " 163\n",
        "Initial error: 0.1180\n",
        "Final error: 0.0393\n",
        "Image: "
       ]
      },
      {
       "output_type": "stream",
       "stream": "stdout",
       "text": [
        " 164\n",
        "Initial error: 0.0940\n",
        "Final error: 0.0404\n",
        "Image: "
       ]
      },
      {
       "output_type": "stream",
       "stream": "stdout",
       "text": [
        " 165\n",
        "Initial error: 0.0734\n",
        "Final error: 0.0378\n",
        "Image: "
       ]
      },
      {
       "output_type": "stream",
       "stream": "stdout",
       "text": [
        " 166\n",
        "Initial error: 0.0619\n",
        "Final error: 0.0302\n",
        "Image: "
       ]
      },
      {
       "output_type": "stream",
       "stream": "stdout",
       "text": [
        " 167\n",
        "Initial error: 0.1766\n",
        "Final error: 0.0621\n",
        "Image: "
       ]
      },
      {
       "output_type": "stream",
       "stream": "stdout",
       "text": [
        " 168\n",
        "Initial error: 0.0637\n",
        "Final error: 0.0277\n",
        "Image: "
       ]
      },
      {
       "output_type": "stream",
       "stream": "stdout",
       "text": [
        " 169\n",
        "Initial error: 0.0825\n",
        "Final error: 0.0610\n",
        "Image: "
       ]
      },
      {
       "output_type": "stream",
       "stream": "stdout",
       "text": [
        " 170\n",
        "Initial error: 0.0831\n",
        "Final error: 0.0449\n",
        "Image: "
       ]
      },
      {
       "output_type": "stream",
       "stream": "stdout",
       "text": [
        " 171\n",
        "Initial error: 0.1407\n",
        "Final error: 0.0429\n",
        "Image: "
       ]
      },
      {
       "output_type": "stream",
       "stream": "stdout",
       "text": [
        " 172\n",
        "Initial error: 0.1022\n",
        "Final error: 0.0306\n",
        "Image: "
       ]
      },
      {
       "output_type": "stream",
       "stream": "stdout",
       "text": [
        " 173\n",
        "Initial error: 0.0736\n",
        "Final error: 0.0311\n",
        "Image: "
       ]
      },
      {
       "output_type": "stream",
       "stream": "stdout",
       "text": [
        " 174\n",
        "Initial error: 0.0737\n",
        "Final error: 0.0376\n",
        "Image: "
       ]
      },
      {
       "output_type": "stream",
       "stream": "stdout",
       "text": [
        " 175\n",
        "Initial error: 0.1189\n",
        "Final error: 0.0311\n",
        "Image: "
       ]
      },
      {
       "output_type": "stream",
       "stream": "stdout",
       "text": [
        " 176\n",
        "Initial error: 0.0568\n",
        "Final error: 0.0467\n",
        "Image: "
       ]
      },
      {
       "output_type": "stream",
       "stream": "stdout",
       "text": [
        " 177\n",
        "Initial error: 0.0794\n",
        "Final error: 0.0257\n",
        "Image: "
       ]
      },
      {
       "output_type": "stream",
       "stream": "stdout",
       "text": [
        " 178\n",
        "Initial error: 0.0591\n",
        "Final error: 0.0301\n",
        "Image: "
       ]
      },
      {
       "output_type": "stream",
       "stream": "stdout",
       "text": [
        " 179\n",
        "Initial error: 0.0845\n",
        "Final error: 0.0387\n",
        "Image: "
       ]
      },
      {
       "output_type": "stream",
       "stream": "stdout",
       "text": [
        " 180\n",
        "Initial error: 0.1453\n",
        "Final error: 0.0443\n",
        "Image: "
       ]
      },
      {
       "output_type": "stream",
       "stream": "stdout",
       "text": [
        " 181\n",
        "Initial error: 0.0972\n",
        "Final error: 0.0275\n",
        "Image: "
       ]
      },
      {
       "output_type": "stream",
       "stream": "stdout",
       "text": [
        " 182\n",
        "Initial error: 0.0418\n",
        "Final error: 0.0406\n",
        "Image: "
       ]
      },
      {
       "output_type": "stream",
       "stream": "stdout",
       "text": [
        " 183\n",
        "Initial error: 0.1773\n",
        "Final error: 0.0223\n",
        "Image: "
       ]
      },
      {
       "output_type": "stream",
       "stream": "stdout",
       "text": [
        " 184\n",
        "Initial error: 0.0569\n",
        "Final error: 0.0384\n",
        "Image: "
       ]
      },
      {
       "output_type": "stream",
       "stream": "stdout",
       "text": [
        " 185\n",
        "Initial error: 0.0750\n",
        "Final error: 0.0303\n",
        "Image: "
       ]
      },
      {
       "output_type": "stream",
       "stream": "stdout",
       "text": [
        " 186\n",
        "Initial error: 0.0653\n",
        "Final error: 0.0254\n",
        "Image: "
       ]
      },
      {
       "output_type": "stream",
       "stream": "stdout",
       "text": [
        " 187\n",
        "Initial error: 0.1472\n",
        "Final error: 0.0279\n",
        "Image: "
       ]
      },
      {
       "output_type": "stream",
       "stream": "stdout",
       "text": [
        " 188\n",
        "Initial error: 0.1280\n",
        "Final error: 0.0253\n",
        "Image: "
       ]
      },
      {
       "output_type": "stream",
       "stream": "stdout",
       "text": [
        " 189\n",
        "Initial error: 0.0997\n",
        "Final error: 0.0528\n",
        "Image: "
       ]
      },
      {
       "output_type": "stream",
       "stream": "stdout",
       "text": [
        " 190\n",
        "Initial error: 0.0717\n",
        "Final error: 0.0443\n",
        "Image: "
       ]
      },
      {
       "output_type": "stream",
       "stream": "stdout",
       "text": [
        " 191\n",
        "Initial error: 0.0206\n",
        "Final error: 0.0481\n",
        "Image: "
       ]
      },
      {
       "output_type": "stream",
       "stream": "stdout",
       "text": [
        " 192\n",
        "Initial error: 0.0629\n",
        "Final error: 0.0646\n",
        "Image: "
       ]
      },
      {
       "output_type": "stream",
       "stream": "stdout",
       "text": [
        " 193\n",
        "Initial error: 0.1419\n",
        "Final error: 0.0525\n",
        "Image: "
       ]
      },
      {
       "output_type": "stream",
       "stream": "stdout",
       "text": [
        " 194\n",
        "Initial error: 0.0990\n",
        "Final error: 0.0398\n",
        "Image: "
       ]
      },
      {
       "output_type": "stream",
       "stream": "stdout",
       "text": [
        " 195\n",
        "Initial error: 0.0864\n",
        "Final error: 0.0351\n",
        "Image: "
       ]
      },
      {
       "output_type": "stream",
       "stream": "stdout",
       "text": [
        " 196\n",
        "Initial error: 0.0785\n",
        "Final error: 0.0664\n",
        "Image: "
       ]
      },
      {
       "output_type": "stream",
       "stream": "stdout",
       "text": [
        " 197\n",
        "Initial error: 0.1179\n",
        "Final error: 0.0464\n",
        "Image: "
       ]
      },
      {
       "output_type": "stream",
       "stream": "stdout",
       "text": [
        " 198\n",
        "Initial error: 0.1166\n",
        "Final error: 0.0527\n",
        "Image: "
       ]
      },
      {
       "output_type": "stream",
       "stream": "stdout",
       "text": [
        " 199\n",
        "Initial error: 0.0671\n",
        "Final error: 0.0417\n",
        "Image: "
       ]
      },
      {
       "output_type": "stream",
       "stream": "stdout",
       "text": [
        " 200\n",
        "Initial error: 0.0742\n",
        "Final error: 0.0450\n",
        "Image: "
       ]
      },
      {
       "output_type": "stream",
       "stream": "stdout",
       "text": [
        " 201\n",
        "Initial error: 0.0484\n",
        "Final error: 0.0337\n",
        "Image: "
       ]
      },
      {
       "output_type": "stream",
       "stream": "stdout",
       "text": [
        " 202\n",
        "Initial error: 0.0808\n",
        "Final error: 0.0426\n",
        "Image: "
       ]
      },
      {
       "output_type": "stream",
       "stream": "stdout",
       "text": [
        " 203\n",
        "Initial error: 0.1398\n",
        "Final error: 0.0386\n",
        "Image: "
       ]
      },
      {
       "output_type": "stream",
       "stream": "stdout",
       "text": [
        " 204\n",
        "Initial error: 0.0759\n",
        "Final error: 0.0253\n",
        "Image: "
       ]
      },
      {
       "output_type": "stream",
       "stream": "stdout",
       "text": [
        " 205\n",
        "Initial error: 0.0722\n",
        "Final error: 0.0313\n",
        "Image: "
       ]
      },
      {
       "output_type": "stream",
       "stream": "stdout",
       "text": [
        " 206\n",
        "Initial error: 0.1304\n",
        "Final error: 0.0375\n",
        "Image: "
       ]
      },
      {
       "output_type": "stream",
       "stream": "stdout",
       "text": [
        " 207\n",
        "Initial error: 0.1083\n",
        "Final error: 0.0251\n",
        "Image: "
       ]
      },
      {
       "output_type": "stream",
       "stream": "stdout",
       "text": [
        " 208\n",
        "Initial error: 0.0749\n",
        "Final error: 0.0459\n",
        "Image: "
       ]
      },
      {
       "output_type": "stream",
       "stream": "stdout",
       "text": [
        " 209\n",
        "Initial error: 0.0423\n",
        "Final error: 0.0236\n",
        "Image: "
       ]
      },
      {
       "output_type": "stream",
       "stream": "stdout",
       "text": [
        " 210\n",
        "Initial error: 0.1316\n",
        "Final error: 0.0284\n",
        "Image: "
       ]
      },
      {
       "output_type": "stream",
       "stream": "stdout",
       "text": [
        " 211\n",
        "Initial error: 0.0911\n",
        "Final error: 0.0183\n",
        "Image: "
       ]
      },
      {
       "output_type": "stream",
       "stream": "stdout",
       "text": [
        " 212\n",
        "Initial error: 0.1632\n",
        "Final error: 0.0225\n",
        "Image: "
       ]
      },
      {
       "output_type": "stream",
       "stream": "stdout",
       "text": [
        " 213\n",
        "Initial error: 0.0934\n",
        "Final error: 0.0323\n",
        "Image: "
       ]
      },
      {
       "output_type": "stream",
       "stream": "stdout",
       "text": [
        " 214\n",
        "Initial error: 0.0988\n",
        "Final error: 0.0252\n",
        "Image: "
       ]
      },
      {
       "output_type": "stream",
       "stream": "stdout",
       "text": [
        " 215\n",
        "Initial error: 0.0713\n",
        "Final error: 0.0289\n",
        "Image: "
       ]
      },
      {
       "output_type": "stream",
       "stream": "stdout",
       "text": [
        " 216\n",
        "Initial error: 0.0663\n",
        "Final error: 0.0350\n",
        "Image: "
       ]
      },
      {
       "output_type": "stream",
       "stream": "stdout",
       "text": [
        " 217\n",
        "Initial error: 0.0815\n",
        "Final error: 0.0286\n",
        "Image: "
       ]
      },
      {
       "output_type": "stream",
       "stream": "stdout",
       "text": [
        " 218\n",
        "Initial error: 0.0835\n",
        "Final error: 0.0283\n",
        "Image: "
       ]
      },
      {
       "output_type": "stream",
       "stream": "stdout",
       "text": [
        " 219\n",
        "Initial error: 0.1197\n",
        "Final error: 0.0527\n",
        "Image: "
       ]
      },
      {
       "output_type": "stream",
       "stream": "stdout",
       "text": [
        " 220\n",
        "Initial error: 0.0668\n",
        "Final error: 0.0301\n",
        "Image: "
       ]
      },
      {
       "output_type": "stream",
       "stream": "stdout",
       "text": [
        " 221\n",
        "Initial error: 0.0988\n",
        "Final error: 0.0407\n",
        "Image: "
       ]
      },
      {
       "output_type": "stream",
       "stream": "stdout",
       "text": [
        " 222\n",
        "Initial error: 0.0515\n",
        "Final error: 0.0392\n",
        "Image: "
       ]
      },
      {
       "output_type": "stream",
       "stream": "stdout",
       "text": [
        " 223\n",
        "Initial error: 0.1400\n",
        "Final error: 0.0331\n",
        "Image: "
       ]
      },
      {
       "output_type": "stream",
       "stream": "stdout",
       "text": [
        " 224\n",
        "Initial error: 0.1090\n",
        "Final error: 0.0531\n",
        "Image: "
       ]
      },
      {
       "output_type": "stream",
       "stream": "stdout",
       "text": [
        " 225\n",
        "Initial error: 0.0685\n",
        "Final error: 0.0283\n",
        "Image: "
       ]
      },
      {
       "output_type": "stream",
       "stream": "stdout",
       "text": [
        " 226\n",
        "Initial error: 0.1082\n",
        "Final error: 0.0594\n",
        "Image: "
       ]
      },
      {
       "output_type": "stream",
       "stream": "stdout",
       "text": [
        " 227\n",
        "Initial error: 0.0810\n",
        "Final error: 0.0476\n",
        "Image: "
       ]
      },
      {
       "output_type": "stream",
       "stream": "stdout",
       "text": [
        " 228\n",
        "Initial error: 0.0934\n",
        "Final error: 0.0281\n",
        "Image: "
       ]
      },
      {
       "output_type": "stream",
       "stream": "stdout",
       "text": [
        " 229\n",
        "Initial error: 0.0532\n",
        "Final error: 0.0258\n",
        "Image: "
       ]
      },
      {
       "output_type": "stream",
       "stream": "stdout",
       "text": [
        " 230\n",
        "Initial error: 0.0635\n",
        "Final error: 0.0196\n",
        "Image: "
       ]
      },
      {
       "output_type": "stream",
       "stream": "stdout",
       "text": [
        " 231\n",
        "Initial error: 0.0582\n",
        "Final error: 0.0289\n",
        "Image: "
       ]
      },
      {
       "output_type": "stream",
       "stream": "stdout",
       "text": [
        " 232\n",
        "Initial error: 0.0742\n",
        "Final error: 0.0386\n"
       ]
      }
     ],
     "prompt_number": 12
    },
    {
     "cell_type": "heading",
     "level": 3,
     "metadata": {},
     "source": [
      "Visualize Results"
     ]
    },
    {
     "cell_type": "code",
     "collapsed": false,
     "input": [
      "from menpofit.visualize import visualize_fitting_results\n",
      "    \n",
      "visualize_fitting_results(fitter_results)"
     ],
     "language": "python",
     "metadata": {},
     "outputs": [
      {
       "metadata": {},
       "output_type": "display_data",
       "png": "[encoded data removed]",
       "text": [
        "<matplotlib.figure.Figure at 0x7f2d82d55110>"
       ]
      }
     ],
     "prompt_number": 13
    },
    {
     "cell_type": "heading",
     "level": 3,
     "metadata": {},
     "source": [
      "Save Results"
     ]
    },
    {
     "cell_type": "code",
     "collapsed": false,
     "input": [
      "from alabortcvpr2015.utils import pickle_dump\n",
      "from alabortcvpr2015.result import SerializableResult\n",
      "\n",
      "results = [SerializableResult('none', fr.final_shape, fr.n_iters, 'AIC', fr.gt_shape) \n",
      "           for fr in fitter_results]\n",
      "\n",
      "pickle_dump(results, '/data/PhD/Results/aam_aic_view0_fast_dsift')"
     ],
     "language": "python",
     "metadata": {},
     "outputs": [],
     "prompt_number": 17
    },
    {
     "cell_type": "heading",
     "level": 3,
     "metadata": {},
     "source": [
      "Timing"
     ]
    },
    {
     "cell_type": "heading",
     "level": 4,
     "metadata": {},
     "source": [
      "Total"
     ]
    },
    {
     "cell_type": "code",
     "collapsed": false,
     "input": [
      "%timeit fitter.fit(i, s, gt_shape=gt_s, max_iters=20)"
     ],
     "language": "python",
     "metadata": {},
     "outputs": [
      {
       "output_type": "stream",
       "stream": "stdout",
       "text": [
        "10 loops, best of 3: 61.1 ms per loop\n"
       ]
      }
     ],
     "prompt_number": 21
    },
    {
     "cell_type": "heading",
     "level": 4,
     "metadata": {},
     "source": [
      "Per line"
     ]
    },
    {
     "cell_type": "code",
     "collapsed": false,
     "input": [
      "#import line_profiler\n",
      "#import IPython\n",
      "\n",
      "#ip = IPython.get_ipython()\n",
      "#ip.define_magic('lprun', line_profiler.magic_lprun)"
     ],
     "language": "python",
     "metadata": {},
     "outputs": [],
     "prompt_number": 22
    },
    {
     "cell_type": "code",
     "collapsed": false,
     "input": [
      "#from alabortcvpr2015.aam import AIC\n",
      "\n",
      "#%lprun -f AIC.run fitter.fit(i, s, gt_shape=gt_s, max_iters=20)"
     ],
     "language": "python",
     "metadata": {},
     "outputs": [],
     "prompt_number": 23
    },
    {
     "cell_type": "heading",
     "level": 2,
     "metadata": {},
     "source": [
      "PIC"
     ]
    },
    {
     "cell_type": "heading",
     "level": 3,
     "metadata": {},
     "source": [
      "Test"
     ]
    },
    {
     "cell_type": "code",
     "collapsed": false,
     "input": [
      "sampling_mask = np.require(np.zeros(aam.parts_shape), dtype=np.bool)\n",
      "sampling_mask[::2, ::2] = True\n",
      "\n",
      "\n",
      "imshow(sampling_mask)"
     ],
     "language": "python",
     "metadata": {},
     "outputs": [
      {
       "metadata": {},
       "output_type": "pyout",
       "prompt_number": 24,
       "text": [
        "<matplotlib.image.AxesImage at 0x7f2d84bcc190>"
       ]
      },
      {
       "metadata": {},
       "output_type": "display_data",
       "png": "[encoded data removed]",
       "text": [
        "<matplotlib.figure.Figure at 0x7f2d84d30050>"
       ]
      }
     ],
     "prompt_number": 24
    },
    {
     "cell_type": "code",
     "collapsed": false,
     "input": [
      "from alabortcvpr2015.aam import PartsAAMFitter, PIC\n",
      "                  \n",
      "fitter = PartsAAMFitter(aam, algorithm_cls=PIC, n_shape=[3, 12],\n",
      "                        n_appearance=[25, 50], sampling_mask=sampling_mask)"
     ],
     "language": "python",
     "metadata": {},
     "outputs": [],
     "prompt_number": 25
    },
    {
     "cell_type": "code",
     "collapsed": false,
     "input": [
      "fitter_results = []\n",
      "\n",
      "for j, i in enumerate(test_images):\n",
      "    \n",
      "    for seed in xrange(5):\n",
      "    \n",
      "        np.random.seed(seed=seed)\n",
      "\n",
      "        gt_s = i.landmarks[group].lms\n",
      "        s = fitter.perturb_shape(gt_s, noise_std=0.05)\n",
      "\n",
      "        fr = fitter.fit(i, s, gt_shape=gt_s, max_iters=20, prior=False)\n",
      "\n",
      "        fitter_results.append(fr)\n",
      "        fr.downscale = 0.5\n",
      "\n",
      "        print 'Image: ', j\n",
      "        print fr"
     ],
     "language": "python",
     "metadata": {},
     "outputs": [
      {
       "output_type": "stream",
       "stream": "stdout",
       "text": [
        "Image:  0\n",
        "Initial error: 0.1885\n",
        "Final error: 0.0632\n",
        "Image:  0\n",
        "Initial error: 0.0784\n",
        "Final error: 0.0645\n",
        "Image: "
       ]
      },
      {
       "output_type": "stream",
       "stream": "stdout",
       "text": [
        " 0\n",
        "Initial error: 0.1365\n",
        "Final error: 0.0707\n",
        "Image:  0\n",
        "Initial error: 0.1009\n",
        "Final error: 0.0655\n",
        "Image: "
       ]
      },
      {
       "output_type": "stream",
       "stream": "stdout",
       "text": [
        " 0\n",
        "Initial error: 0.0836\n",
        "Final error: 0.0669\n",
        "Image:  1\n",
        "Initial error: 0.1758\n",
        "Final error: 0.0510\n",
        "Image: "
       ]
      },
      {
       "output_type": "stream",
       "stream": "stdout",
       "text": [
        " 1\n",
        "Initial error: 0.0473\n",
        "Final error: 0.0553\n",
        "Image:  1\n",
        "Initial error: 0.1375\n",
        "Final error: 0.0552\n",
        "Image: "
       ]
      },
      {
       "output_type": "stream",
       "stream": "stdout",
       "text": [
        " 1\n",
        "Initial error: 0.0803\n",
        "Final error: 0.0546\n",
        "Image:  1\n",
        "Initial error: 0.0689\n",
        "Final error: 0.0602\n",
        "Image: "
       ]
      },
      {
       "output_type": "stream",
       "stream": "stdout",
       "text": [
        " 2\n",
        "Initial error: 0.1806\n",
        "Final error: 0.2653\n",
        "Image:  2\n",
        "Initial error: 0.0501\n",
        "Final error: 0.0392\n",
        "Image: "
       ]
      },
      {
       "output_type": "stream",
       "stream": "stdout",
       "text": [
        " 2\n",
        "Initial error: 0.1350\n",
        "Final error: 0.0410\n",
        "Image:  2\n",
        "Initial error: 0.0803\n",
        "Final error: 0.0390\n",
        "Image: "
       ]
      },
      {
       "output_type": "stream",
       "stream": "stdout",
       "text": [
        " 2\n",
        "Initial error: 0.0652\n",
        "Final error: 0.0526\n",
        "Image:  3\n",
        "Initial error: 0.1892\n",
        "Final error: 0.0261\n",
        "Image: "
       ]
      },
      {
       "output_type": "stream",
       "stream": "stdout",
       "text": [
        " 3\n",
        "Initial error: 0.0630\n",
        "Final error: 0.0212\n",
        "Image:  3\n",
        "Initial error: 0.1350\n",
        "Final error: 0.0335\n",
        "Image: "
       ]
      },
      {
       "output_type": "stream",
       "stream": "stdout",
       "text": [
        " 3\n",
        "Initial error: 0.0852\n",
        "Final error: 0.0209\n",
        "Image:  3\n",
        "Initial error: 0.0687\n",
        "Final error: 0.0265\n",
        "Image: "
       ]
      },
      {
       "output_type": "stream",
       "stream": "stdout",
       "text": [
        " 4\n",
        "Initial error: 0.1821\n",
        "Final error: 0.1119\n",
        "Image:  4\n",
        "Initial error: 0.0524\n",
        "Final error: 0.0758\n",
        "Image: "
       ]
      },
      {
       "output_type": "stream",
       "stream": "stdout",
       "text": [
        " 4\n",
        "Initial error: 0.1333\n",
        "Final error: 0.0681\n",
        "Image:  4\n",
        "Initial error: 0.0858\n",
        "Final error: 0.0563\n",
        "Image: "
       ]
      },
      {
       "output_type": "stream",
       "stream": "stdout",
       "text": [
        " 4\n",
        "Initial error: 0.0663\n",
        "Final error: 0.0575\n",
        "Image:  5\n",
        "Initial error: 0.1945\n",
        "Final error: 0.1480\n",
        "Image: "
       ]
      },
      {
       "output_type": "stream",
       "stream": "stdout",
       "text": [
        " 5\n",
        "Initial error: 0.0871\n",
        "Final error: 0.0551\n",
        "Image:  5\n",
        "Initial error: 0.1429\n",
        "Final error: 0.0419\n",
        "Image: "
       ]
      },
      {
       "output_type": "stream",
       "stream": "stdout",
       "text": [
        " 5\n",
        "Initial error: 0.1067\n",
        "Final error: 0.0516\n",
        "Image:  5\n",
        "Initial error: 0.0899\n",
        "Final error: 0.0497\n",
        "Image: "
       ]
      },
      {
       "output_type": "stream",
       "stream": "stdout",
       "text": [
        " 6\n",
        "Initial error: 0.1833\n",
        "Final error: 0.0278\n",
        "Image:  6\n",
        "Initial error: 0.0580\n",
        "Final error: 0.0297\n",
        "Image: "
       ]
      },
      {
       "output_type": "stream",
       "stream": "stdout",
       "text": [
        " 6\n",
        "Initial error: 0.1378\n",
        "Final error: 0.0311\n",
        "Image:  6\n",
        "Initial error: 0.0831\n",
        "Final error: 0.0329\n",
        "Image: "
       ]
      },
      {
       "output_type": "stream",
       "stream": "stdout",
       "text": [
        " 6\n",
        "Initial error: 0.0730\n",
        "Final error: 0.0356\n",
        "Image:  7\n",
        "Initial error: 0.1825\n",
        "Final error: 0.1220\n",
        "Image: "
       ]
      },
      {
       "output_type": "stream",
       "stream": "stdout",
       "text": [
        " 7\n",
        "Initial error: 0.0704\n",
        "Final error: 0.0646\n",
        "Image:  7\n",
        "Initial error: 0.1445\n",
        "Final error: 0.1393\n",
        "Image: "
       ]
      },
      {
       "output_type": "stream",
       "stream": "stdout",
       "text": [
        " 7\n",
        "Initial error: 0.0875\n",
        "Final error: 0.0731\n",
        "Image:  7\n",
        "Initial error: 0.0898\n",
        "Final error: 0.0719\n",
        "Image: "
       ]
      },
      {
       "output_type": "stream",
       "stream": "stdout",
       "text": [
        " 8\n",
        "Initial error: 0.1928\n",
        "Final error: 0.0555\n",
        "Image:  8\n",
        "Initial error: 0.1354\n",
        "Final error: 0.0611\n",
        "Image: "
       ]
      },
      {
       "output_type": "stream",
       "stream": "stdout",
       "text": [
        " 8\n",
        "Initial error: 0.1768\n",
        "Final error: 0.0549\n",
        "Image:  8\n",
        "Initial error: 0.1460\n",
        "Final error: 0.0597\n",
        "Image: "
       ]
      },
      {
       "output_type": "stream",
       "stream": "stdout",
       "text": [
        " 8\n",
        "Initial error: 0.1405\n",
        "Final error: 0.0526\n",
        "Image:  9\n",
        "Initial error: 0.1835\n",
        "Final error: 0.1585\n",
        "Image: "
       ]
      },
      {
       "output_type": "stream",
       "stream": "stdout",
       "text": [
        " 9\n",
        "Initial error: 0.0977\n",
        "Final error: 0.0617\n",
        "Image:  9\n",
        "Initial error: 0.1575\n",
        "Final error: 0.0592\n",
        "Image: "
       ]
      },
      {
       "output_type": "stream",
       "stream": "stdout",
       "text": [
        " 9\n",
        "Initial error: 0.1143\n",
        "Final error: 0.0660\n",
        "Image:  9\n",
        "Initial error: 0.1071\n",
        "Final error: 0.0683\n",
        "Image: "
       ]
      },
      {
       "output_type": "stream",
       "stream": "stdout",
       "text": [
        " 10\n",
        "Initial error: 0.1823\n",
        "Final error: 0.0335\n",
        "Image:  10\n",
        "Initial error: 0.0650\n",
        "Final error: 0.0371\n",
        "Image: "
       ]
      },
      {
       "output_type": "stream",
       "stream": "stdout",
       "text": [
        " 10\n",
        "Initial error: 0.1390\n",
        "Final error: 0.0468\n",
        "Image:  10\n",
        "Initial error: 0.0896\n",
        "Final error: 0.0379\n",
        "Image: "
       ]
      },
      {
       "output_type": "stream",
       "stream": "stdout",
       "text": [
        " 10\n",
        "Initial error: 0.0792\n",
        "Final error: 0.0396\n",
        "Image:  11\n",
        "Initial error: 0.1823\n",
        "Final error: 0.0516\n",
        "Image: "
       ]
      },
      {
       "output_type": "stream",
       "stream": "stdout",
       "text": [
        " 11\n",
        "Initial error: 0.0770\n",
        "Final error: 0.0448\n",
        "Image:  11\n",
        "Initial error: 0.1500\n",
        "Final error: 0.0467\n",
        "Image: "
       ]
      },
      {
       "output_type": "stream",
       "stream": "stdout",
       "text": [
        " 11\n",
        "Initial error: 0.0956\n",
        "Final error: 0.0539\n",
        "Image:  11\n",
        "Initial error: 0.0984\n",
        "Final error: 0.0500\n",
        "Image: "
       ]
      },
      {
       "output_type": "stream",
       "stream": "stdout",
       "text": [
        " 12\n",
        "Initial error: 0.1998\n",
        "Final error: 0.1852\n",
        "Image:  12\n",
        "Initial error: 0.1046\n",
        "Final error: 0.0693\n",
        "Image: "
       ]
      },
      {
       "output_type": "stream",
       "stream": "stdout",
       "text": [
        " 12\n",
        "Initial error: 0.1478\n",
        "Final error: 0.1259\n",
        "Image:  12\n",
        "Initial error: 0.1196\n",
        "Final error: 0.0732\n",
        "Image: "
       ]
      },
      {
       "output_type": "stream",
       "stream": "stdout",
       "text": [
        " 12\n",
        "Initial error: 0.1094\n",
        "Final error: 0.0964\n",
        "Image:  13\n",
        "Initial error: 0.1768\n",
        "Final error: 0.2073\n",
        "Image: "
       ]
      },
      {
       "output_type": "stream",
       "stream": "stdout",
       "text": [
        " 13\n",
        "Initial error: 0.0942\n",
        "Final error: 0.0569\n",
        "Image:  13\n",
        "Initial error: 0.1546\n",
        "Final error: 0.0555\n",
        "Image: "
       ]
      },
      {
       "output_type": "stream",
       "stream": "stdout",
       "text": [
        " 13\n",
        "Initial error: 0.1157\n",
        "Final error: 0.0506\n",
        "Image:  13\n",
        "Initial error: 0.1046\n",
        "Final error: 0.0475\n",
        "Image: "
       ]
      },
      {
       "output_type": "stream",
       "stream": "stdout",
       "text": [
        " 14\n",
        "Initial error: 0.1858\n",
        "Final error: 0.0873\n",
        "Image:  14\n",
        "Initial error: 0.0787\n",
        "Final error: 0.0503\n",
        "Image: "
       ]
      },
      {
       "output_type": "stream",
       "stream": "stdout",
       "text": [
        " 14\n",
        "Initial error: 0.1439\n",
        "Final error: 0.0514\n",
        "Image:  14\n",
        "Initial error: 0.0967\n",
        "Final error: 0.0545\n",
        "Image: "
       ]
      },
      {
       "output_type": "stream",
       "stream": "stdout",
       "text": [
        " 14\n",
        "Initial error: 0.0906\n",
        "Final error: 0.0496\n",
        "Image:  15\n",
        "Initial error: 0.1801\n",
        "Final error: 0.0561\n",
        "Image: "
       ]
      },
      {
       "output_type": "stream",
       "stream": "stdout",
       "text": [
        " 15\n",
        "Initial error: 0.0460\n",
        "Final error: 0.0628\n",
        "Image:  15\n",
        "Initial error: 0.1361\n",
        "Final error: 0.0510\n",
        "Image: "
       ]
      },
      {
       "output_type": "stream",
       "stream": "stdout",
       "text": [
        " 15\n",
        "Initial error: 0.0737\n",
        "Final error: 0.0572\n",
        "Image:  15\n",
        "Initial error: 0.0655\n",
        "Final error: 0.0714\n",
        "Image: "
       ]
      },
      {
       "output_type": "stream",
       "stream": "stdout",
       "text": [
        " 16\n",
        "Initial error: 0.1917\n",
        "Final error: 0.0380\n",
        "Image:  16\n",
        "Initial error: 0.0699\n",
        "Final error: 0.0423\n",
        "Image: "
       ]
      },
      {
       "output_type": "stream",
       "stream": "stdout",
       "text": [
        " 16\n",
        "Initial error: 0.1442\n",
        "Final error: 0.1184\n",
        "Image:  16\n",
        "Initial error: 0.1043\n",
        "Final error: 0.0444\n",
        "Image: "
       ]
      },
      {
       "output_type": "stream",
       "stream": "stdout",
       "text": [
        " 16\n",
        "Initial error: 0.0845\n",
        "Final error: 0.0416\n",
        "Image:  17\n",
        "Initial error: 0.1842\n",
        "Final error: 0.2467\n",
        "Image: "
       ]
      },
      {
       "output_type": "stream",
       "stream": "stdout",
       "text": [
        " 17\n",
        "Initial error: 0.0520\n",
        "Final error: 0.0634\n",
        "Image:  17\n",
        "Initial error: 0.1351\n",
        "Final error: 0.0732\n",
        "Image: "
       ]
      },
      {
       "output_type": "stream",
       "stream": "stdout",
       "text": [
        " 17\n",
        "Initial error: 0.0827\n",
        "Final error: 0.0637\n",
        "Image:  17\n",
        "Initial error: 0.0676\n",
        "Final error: 0.0732\n",
        "Image: "
       ]
      },
      {
       "output_type": "stream",
       "stream": "stdout",
       "text": [
        " 18\n",
        "Initial error: 0.1815\n",
        "Final error: 0.0506\n",
        "Image:  18\n",
        "Initial error: 0.0453\n",
        "Final error: 0.0550\n",
        "Image: "
       ]
      },
      {
       "output_type": "stream",
       "stream": "stdout",
       "text": [
        " 18\n",
        "Initial error: 0.1376\n",
        "Final error: 0.0500\n",
        "Image:  18\n",
        "Initial error: 0.0802\n",
        "Final error: 0.0448\n",
        "Image: "
       ]
      },
      {
       "output_type": "stream",
       "stream": "stdout",
       "text": [
        " 18\n",
        "Initial error: 0.0681\n",
        "Final error: 0.0524\n",
        "Image:  19\n",
        "Initial error: 0.1837\n",
        "Final error: 0.2092\n",
        "Image: "
       ]
      },
      {
       "output_type": "stream",
       "stream": "stdout",
       "text": [
        " 19\n",
        "Initial error: 0.0685\n",
        "Final error: 0.1098\n",
        "Image:  19\n",
        "Initial error: 0.1415\n",
        "Final error: 0.1129\n",
        "Image: "
       ]
      },
      {
       "output_type": "stream",
       "stream": "stdout",
       "text": [
        " 19\n",
        "Initial error: 0.0916\n",
        "Final error: 0.0940\n",
        "Image:  19\n",
        "Initial error: 0.0817\n",
        "Final error: 0.0771\n",
        "Image: "
       ]
      },
      {
       "output_type": "stream",
       "stream": "stdout",
       "text": [
        " 20\n",
        "Initial error: 0.1868\n",
        "Final error: 0.2511\n",
        "Image:  20\n",
        "Initial error: 0.0518\n",
        "Final error: 0.0802\n",
        "Image: "
       ]
      },
      {
       "output_type": "stream",
       "stream": "stdout",
       "text": [
        " 20\n",
        "Initial error: 0.1344\n",
        "Final error: 0.0764\n",
        "Image:  20\n",
        "Initial error: 0.0807\n",
        "Final error: 0.0907\n",
        "Image: "
       ]
      },
      {
       "output_type": "stream",
       "stream": "stdout",
       "text": [
        " 20\n",
        "Initial error: 0.0648\n",
        "Final error: 0.0693\n",
        "Image:  21\n",
        "Initial error: 0.1841\n",
        "Final error: 0.1144\n",
        "Image: "
       ]
      },
      {
       "output_type": "stream",
       "stream": "stdout",
       "text": [
        " 21\n",
        "Initial error: 0.0606\n",
        "Final error: 0.0675\n",
        "Image:  21\n",
        "Initial error: 0.1341\n",
        "Final error: 0.0566\n",
        "Image: "
       ]
      },
      {
       "output_type": "stream",
       "stream": "stdout",
       "text": [
        " 21\n",
        "Initial error: 0.0843\n",
        "Final error: 0.0652\n",
        "Image:  21\n",
        "Initial error: 0.0698\n",
        "Final error: 0.0736\n",
        "Image: "
       ]
      },
      {
       "output_type": "stream",
       "stream": "stdout",
       "text": [
        " 22\n",
        "Initial error: 0.1855\n",
        "Final error: 0.0581\n",
        "Image:  22\n",
        "Initial error: 0.0597\n",
        "Final error: 0.0677\n",
        "Image: "
       ]
      },
      {
       "output_type": "stream",
       "stream": "stdout",
       "text": [
        " 22\n",
        "Initial error: 0.1402\n",
        "Final error: 0.0548\n",
        "Image:  22\n",
        "Initial error: 0.0957\n",
        "Final error: 0.0595\n",
        "Image: "
       ]
      },
      {
       "output_type": "stream",
       "stream": "stdout",
       "text": [
        " 22\n",
        "Initial error: 0.0792\n",
        "Final error: 0.0572\n",
        "Image:  23\n",
        "Initial error: 0.1854\n",
        "Final error: 0.0651\n",
        "Image: "
       ]
      },
      {
       "output_type": "stream",
       "stream": "stdout",
       "text": [
        " 23\n",
        "Initial error: 0.0651\n",
        "Final error: 0.0258\n",
        "Image:  23\n",
        "Initial error: 0.1393\n",
        "Final error: 0.0352\n",
        "Image: "
       ]
      },
      {
       "output_type": "stream",
       "stream": "stdout",
       "text": [
        " 23\n",
        "Initial error: 0.0946\n",
        "Final error: 0.0307\n",
        "Image:  23\n",
        "Initial error: 0.0743\n",
        "Final error: 0.0277\n",
        "Image: "
       ]
      },
      {
       "output_type": "stream",
       "stream": "stdout",
       "text": [
        " 24\n",
        "Initial error: 0.1772\n",
        "Final error: 0.3307\n",
        "Image:  24\n",
        "Initial error: 0.0717\n",
        "Final error: 0.0429\n",
        "Image: "
       ]
      },
      {
       "output_type": "stream",
       "stream": "stdout",
       "text": [
        " 24\n",
        "Initial error: 0.1434\n",
        "Final error: 0.0292\n",
        "Image:  24\n",
        "Initial error: 0.1012\n",
        "Final error: 0.0340\n",
        "Image: "
       ]
      },
      {
       "output_type": "stream",
       "stream": "stdout",
       "text": [
        " 24\n",
        "Initial error: 0.0808\n",
        "Final error: 0.0279\n",
        "Image:  25\n",
        "Initial error: 0.1912\n",
        "Final error: 0.2641\n",
        "Image: "
       ]
      },
      {
       "output_type": "stream",
       "stream": "stdout",
       "text": [
        " 25\n",
        "Initial error: 0.0856\n",
        "Final error: 0.0565\n",
        "Image:  25\n",
        "Initial error: 0.1438\n",
        "Final error: 0.0447\n",
        "Image: "
       ]
      },
      {
       "output_type": "stream",
       "stream": "stdout",
       "text": [
        " 25\n",
        "Initial error: 0.1037\n",
        "Final error: 0.0506\n",
        "Image:  25\n",
        "Initial error: 0.0887\n",
        "Final error: 0.0616\n",
        "Image: "
       ]
      },
      {
       "output_type": "stream",
       "stream": "stdout",
       "text": [
        " 26\n",
        "Initial error: 0.1803\n",
        "Final error: 0.0710\n",
        "Image:  26\n",
        "Initial error: 0.0670\n",
        "Final error: 0.0678\n",
        "Image: "
       ]
      },
      {
       "output_type": "stream",
       "stream": "stdout",
       "text": [
        " 26\n",
        "Initial error: 0.1471\n",
        "Final error: 0.1529\n",
        "Image:  26\n",
        "Initial error: 0.0941\n",
        "Final error: 0.0683\n",
        "Image: "
       ]
      },
      {
       "output_type": "stream",
       "stream": "stdout",
       "text": [
        " 26\n",
        "Initial error: 0.0859\n",
        "Final error: 0.0685\n",
        "Image:  27\n",
        "Initial error: 0.1858\n",
        "Final error: 0.0915\n",
        "Image: "
       ]
      },
      {
       "output_type": "stream",
       "stream": "stdout",
       "text": [
        " 27\n",
        "Initial error: 0.0464\n",
        "Final error: 0.0951\n",
        "Image:  27\n",
        "Initial error: 0.1343\n",
        "Final error: 0.2698\n",
        "Image: "
       ]
      },
      {
       "output_type": "stream",
       "stream": "stdout",
       "text": [
        " 27\n",
        "Initial error: 0.0840\n",
        "Final error: 0.0857\n",
        "Image:  27\n",
        "Initial error: 0.0642\n",
        "Final error: 0.0911\n",
        "Image: "
       ]
      },
      {
       "output_type": "stream",
       "stream": "stdout",
       "text": [
        " 28\n",
        "Initial error: 0.1848\n",
        "Final error: 0.0358\n",
        "Image:  28\n",
        "Initial error: 0.0589\n",
        "Final error: 0.0459\n",
        "Image: "
       ]
      },
      {
       "output_type": "stream",
       "stream": "stdout",
       "text": [
        " 28\n",
        "Initial error: 0.1366\n",
        "Final error: 0.0299\n",
        "Image:  28\n",
        "Initial error: 0.0890\n",
        "Final error: 0.0376\n",
        "Image: "
       ]
      },
      {
       "output_type": "stream",
       "stream": "stdout",
       "text": [
        " 28\n",
        "Initial error: 0.0704\n",
        "Final error: 0.0514\n",
        "Image:  29\n",
        "Initial error: 0.2005\n",
        "Final error: 0.0644\n",
        "Image: "
       ]
      },
      {
       "output_type": "stream",
       "stream": "stdout",
       "text": [
        " 29\n",
        "Initial error: 0.0679\n",
        "Final error: 0.0341\n",
        "Image:  29\n",
        "Initial error: 0.1338\n",
        "Final error: 0.0483\n",
        "Image: "
       ]
      },
      {
       "output_type": "stream",
       "stream": "stdout",
       "text": [
        " 29\n",
        "Initial error: 0.0956\n",
        "Final error: 0.0367\n",
        "Image:  29\n",
        "Initial error: 0.0749\n",
        "Final error: 0.0264\n",
        "Image: "
       ]
      },
      {
       "output_type": "stream",
       "stream": "stdout",
       "text": [
        " 30\n",
        "Initial error: 0.1819\n",
        "Final error: 0.0913\n",
        "Image:  30\n",
        "Initial error: 0.0817\n",
        "Final error: 0.0955\n",
        "Image: "
       ]
      },
      {
       "output_type": "stream",
       "stream": "stdout",
       "text": [
        " 30\n",
        "Initial error: 0.1464\n",
        "Final error: 0.0946\n",
        "Image:  30\n",
        "Initial error: 0.0977\n",
        "Final error: 0.0965\n",
        "Image: "
       ]
      },
      {
       "output_type": "stream",
       "stream": "stdout",
       "text": [
        " 30\n",
        "Initial error: 0.0918\n",
        "Final error: 0.0953\n",
        "Image:  31\n",
        "Initial error: 0.1828\n",
        "Final error: 0.0324\n",
        "Image: "
       ]
      },
      {
       "output_type": "stream",
       "stream": "stdout",
       "text": [
        " 31\n",
        "Initial error: 0.0522\n",
        "Final error: 0.0330\n",
        "Image:  31\n",
        "Initial error: 0.1362\n",
        "Final error: 0.0381\n",
        "Image: "
       ]
      },
      {
       "output_type": "stream",
       "stream": "stdout",
       "text": [
        " 31\n",
        "Initial error: 0.0812\n",
        "Final error: 0.0327\n",
        "Image:  31\n",
        "Initial error: 0.0675\n",
        "Final error: 0.0291\n",
        "Image: "
       ]
      },
      {
       "output_type": "stream",
       "stream": "stdout",
       "text": [
        " 32\n",
        "Initial error: 0.1798\n",
        "Final error: 0.1278\n",
        "Image:  32\n",
        "Initial error: 0.1192\n",
        "Final error: 0.1343\n",
        "Image: "
       ]
      },
      {
       "output_type": "stream",
       "stream": "stdout",
       "text": [
        " 32\n",
        "Initial error: 0.1660\n",
        "Final error: 0.1364\n",
        "Image:  32\n",
        "Initial error: 0.1346\n",
        "Final error: 0.1175\n",
        "Image: "
       ]
      },
      {
       "output_type": "stream",
       "stream": "stdout",
       "text": [
        " 32\n",
        "Initial error: 0.1215\n",
        "Final error: 0.1135\n",
        "Image:  33\n",
        "Initial error: 0.1822\n",
        "Final error: 0.3359\n",
        "Image: "
       ]
      },
      {
       "output_type": "stream",
       "stream": "stdout",
       "text": [
        " 33\n",
        "Initial error: 0.0682\n",
        "Final error: 0.0821\n",
        "Image:  33\n",
        "Initial error: 0.1413\n",
        "Final error: 0.0553\n",
        "Image: "
       ]
      },
      {
       "output_type": "stream",
       "stream": "stdout",
       "text": [
        " 33\n",
        "Initial error: 0.0941\n",
        "Final error: 0.1469\n",
        "Image:  33\n",
        "Initial error: 0.0786\n",
        "Final error: 0.0488\n",
        "Image: "
       ]
      },
      {
       "output_type": "stream",
       "stream": "stdout",
       "text": [
        " 34\n",
        "Initial error: 0.1891\n",
        "Final error: 0.0288\n",
        "Image:  34\n",
        "Initial error: 0.1149\n",
        "Final error: 0.0367\n",
        "Image: "
       ]
      },
      {
       "output_type": "stream",
       "stream": "stdout",
       "text": [
        " 34\n",
        "Initial error: 0.1650\n",
        "Final error: 0.0291\n",
        "Image:  34\n",
        "Initial error: 0.1273\n",
        "Final error: 0.0282\n",
        "Image: "
       ]
      },
      {
       "output_type": "stream",
       "stream": "stdout",
       "text": [
        " 34\n",
        "Initial error: 0.1251\n",
        "Final error: 0.0307\n",
        "Image:  35\n",
        "Initial error: 0.1800\n",
        "Final error: 0.0896\n",
        "Image: "
       ]
      },
      {
       "output_type": "stream",
       "stream": "stdout",
       "text": [
        " 35\n",
        "Initial error: 0.0705\n",
        "Final error: 0.0472\n",
        "Image:  35\n",
        "Initial error: 0.1452\n",
        "Final error: 0.0381\n",
        "Image: "
       ]
      },
      {
       "output_type": "stream",
       "stream": "stdout",
       "text": [
        " 35\n",
        "Initial error: 0.0886\n",
        "Final error: 0.0486\n",
        "Image:  35\n",
        "Initial error: 0.0913\n",
        "Final error: 0.0502\n",
        "Image: "
       ]
      },
      {
       "output_type": "stream",
       "stream": "stdout",
       "text": [
        " 36\n",
        "Initial error: 0.1770\n",
        "Final error: 0.0582\n",
        "Image:  36\n",
        "Initial error: 0.0483\n",
        "Final error: 0.0384\n",
        "Image: "
       ]
      },
      {
       "output_type": "stream",
       "stream": "stdout",
       "text": [
        " 36\n",
        "Initial error: 0.1399\n",
        "Final error: 0.0623\n",
        "Image:  36\n",
        "Initial error: 0.0781\n",
        "Final error: 0.0610\n",
        "Image: "
       ]
      },
      {
       "output_type": "stream",
       "stream": "stdout",
       "text": [
        " 36\n",
        "Initial error: 0.0711\n",
        "Final error: 0.0669\n",
        "Image:  37\n",
        "Initial error: 0.1852\n",
        "Final error: 0.0364\n",
        "Image: "
       ]
      },
      {
       "output_type": "stream",
       "stream": "stdout",
       "text": [
        " 37\n",
        "Initial error: 0.0676\n",
        "Final error: 0.0338\n",
        "Image:  37\n",
        "Initial error: 0.1365\n",
        "Final error: 0.0355\n",
        "Image: "
       ]
      },
      {
       "output_type": "stream",
       "stream": "stdout",
       "text": [
        " 37\n",
        "Initial error: 0.0916\n",
        "Final error: 0.0341\n",
        "Image:  37\n",
        "Initial error: 0.0720\n",
        "Final error: 0.0354\n",
        "Image: "
       ]
      },
      {
       "output_type": "stream",
       "stream": "stdout",
       "text": [
        " 38\n",
        "Initial error: 0.1809\n",
        "Final error: 0.0786\n",
        "Image:  38\n",
        "Initial error: 0.0613\n",
        "Final error: 0.0658\n",
        "Image: "
       ]
      },
      {
       "output_type": "stream",
       "stream": "stdout",
       "text": [
        " 38\n",
        "Initial error: 0.1368\n",
        "Final error: 0.0642\n",
        "Image:  38\n",
        "Initial error: 0.0849\n",
        "Final error: 0.0781\n",
        "Image: "
       ]
      },
      {
       "output_type": "stream",
       "stream": "stdout",
       "text": [
        " 38\n",
        "Initial error: 0.0730\n",
        "Final error: 0.0731\n",
        "Image:  39\n",
        "Initial error: 0.1827\n",
        "Final error: 0.1213\n",
        "Image: "
       ]
      },
      {
       "output_type": "stream",
       "stream": "stdout",
       "text": [
        " 39\n",
        "Initial error: 0.0469\n",
        "Final error: 0.1222\n",
        "Image:  39\n",
        "Initial error: 0.1348\n",
        "Final error: 0.1325\n",
        "Image: "
       ]
      },
      {
       "output_type": "stream",
       "stream": "stdout",
       "text": [
        " 39\n",
        "Initial error: 0.0781\n",
        "Final error: 0.1393\n",
        "Image:  39\n",
        "Initial error: 0.0665\n",
        "Final error: 0.1410\n",
        "Image: "
       ]
      },
      {
       "output_type": "stream",
       "stream": "stdout",
       "text": [
        " 40\n",
        "Initial error: 0.1882\n",
        "Final error: 0.3327\n",
        "Image:  40\n",
        "Initial error: 0.0536\n",
        "Final error: 0.0659\n",
        "Image: "
       ]
      },
      {
       "output_type": "stream",
       "stream": "stdout",
       "text": [
        " 40\n",
        "Initial error: 0.1329\n",
        "Final error: 0.0666\n",
        "Image:  40\n",
        "Initial error: 0.0865\n",
        "Final error: 0.0711\n",
        "Image: "
       ]
      },
      {
       "output_type": "stream",
       "stream": "stdout",
       "text": [
        " 40\n",
        "Initial error: 0.0661\n",
        "Final error: 0.0658\n",
        "Image:  41\n",
        "Initial error: 0.1739\n",
        "Final error: 0.2932\n",
        "Image: "
       ]
      },
      {
       "output_type": "stream",
       "stream": "stdout",
       "text": [
        " 41\n",
        "Initial error: 0.0736\n",
        "Final error: 0.0525\n",
        "Image:  41\n",
        "Initial error: 0.1466\n",
        "Final error: 0.0528\n",
        "Image: "
       ]
      },
      {
       "output_type": "stream",
       "stream": "stdout",
       "text": [
        " 41\n",
        "Initial error: 0.1010\n",
        "Final error: 0.0508\n",
        "Image:  41\n",
        "Initial error: 0.0865\n",
        "Final error: 0.0651\n",
        "Image: "
       ]
      },
      {
       "output_type": "stream",
       "stream": "stdout",
       "text": [
        " 42\n",
        "Initial error: 0.1747\n",
        "Final error: 0.0507\n",
        "Image:  42\n",
        "Initial error: 0.0540\n",
        "Final error: 0.0579\n",
        "Image: "
       ]
      },
      {
       "output_type": "stream",
       "stream": "stdout",
       "text": [
        " 42\n",
        "Initial error: 0.1381\n",
        "Final error: 0.0582\n",
        "Image:  42\n",
        "Initial error: 0.0858\n",
        "Final error: 0.0508\n",
        "Image: "
       ]
      },
      {
       "output_type": "stream",
       "stream": "stdout",
       "text": [
        " 42\n",
        "Initial error: 0.0712\n",
        "Final error: 0.0481\n",
        "Image:  43\n",
        "Initial error: 0.1786\n",
        "Final error: 0.0319\n",
        "Image: "
       ]
      },
      {
       "output_type": "stream",
       "stream": "stdout",
       "text": [
        " 43\n",
        "Initial error: 0.0504\n",
        "Final error: 0.0367\n",
        "Image:  43\n",
        "Initial error: 0.1353\n",
        "Final error: 0.0532\n",
        "Image: "
       ]
      },
      {
       "output_type": "stream",
       "stream": "stdout",
       "text": [
        " 43\n",
        "Initial error: 0.0830\n",
        "Final error: 0.0346\n",
        "Image:  43\n",
        "Initial error: 0.0679\n",
        "Final error: 0.0367\n",
        "Image: "
       ]
      },
      {
       "output_type": "stream",
       "stream": "stdout",
       "text": [
        " 44\n",
        "Initial error: 0.1784\n",
        "Final error: 0.0500\n",
        "Image:  44\n",
        "Initial error: 0.0493\n",
        "Final error: 0.0486\n",
        "Image: "
       ]
      },
      {
       "output_type": "stream",
       "stream": "stdout",
       "text": [
        " 44\n",
        "Initial error: 0.1344\n",
        "Final error: 0.1510\n",
        "Image:  44\n",
        "Initial error: 0.0890\n",
        "Final error: 0.0499\n",
        "Image: "
       ]
      },
      {
       "output_type": "stream",
       "stream": "stdout",
       "text": [
        " 44\n",
        "Initial error: 0.0672\n",
        "Final error: 0.0528\n",
        "Image:  45\n",
        "Initial error: 0.1779\n",
        "Final error: 0.0686\n",
        "Image: "
       ]
      },
      {
       "output_type": "stream",
       "stream": "stdout",
       "text": [
        " 45\n",
        "Initial error: 0.0498\n",
        "Final error: 0.0732\n",
        "Image:  45\n",
        "Initial error: 0.1383\n",
        "Final error: 0.0672\n",
        "Image: "
       ]
      },
      {
       "output_type": "stream",
       "stream": "stdout",
       "text": [
        " 45\n",
        "Initial error: 0.0833\n",
        "Final error: 0.0771\n",
        "Image:  45\n",
        "Initial error: 0.0697\n",
        "Final error: 0.0643\n",
        "Image: "
       ]
      },
      {
       "output_type": "stream",
       "stream": "stdout",
       "text": [
        " 46\n",
        "Initial error: 0.1733\n",
        "Final error: 0.3259\n",
        "Image:  46\n",
        "Initial error: 0.0850\n",
        "Final error: 0.0378\n",
        "Image: "
       ]
      },
      {
       "output_type": "stream",
       "stream": "stdout",
       "text": [
        " 46\n",
        "Initial error: 0.1523\n",
        "Final error: 0.0640\n",
        "Image:  46\n",
        "Initial error: 0.1056\n",
        "Final error: 0.0882\n",
        "Image: "
       ]
      },
      {
       "output_type": "stream",
       "stream": "stdout",
       "text": [
        " 46\n",
        "Initial error: 0.0946\n",
        "Final error: 0.0497\n",
        "Image:  47\n",
        "Initial error: 0.1775\n",
        "Final error: 0.2410\n",
        "Image: "
       ]
      },
      {
       "output_type": "stream",
       "stream": "stdout",
       "text": [
        " 47\n",
        "Initial error: 0.0579\n",
        "Final error: 0.0666\n",
        "Image:  47\n",
        "Initial error: 0.1399\n",
        "Final error: 0.0678\n",
        "Image: "
       ]
      },
      {
       "output_type": "stream",
       "stream": "stdout",
       "text": [
        " 47\n",
        "Initial error: 0.0845\n",
        "Final error: 0.0659\n",
        "Image:  47\n",
        "Initial error: 0.0710\n",
        "Final error: 0.0549\n",
        "Image: "
       ]
      },
      {
       "output_type": "stream",
       "stream": "stdout",
       "text": [
        " 48\n",
        "Initial error: 0.1900\n",
        "Final error: 0.0489\n",
        "Image:  48\n",
        "Initial error: 0.0590\n",
        "Final error: 0.0437\n",
        "Image: "
       ]
      },
      {
       "output_type": "stream",
       "stream": "stdout",
       "text": [
        " 48\n",
        "Initial error: 0.1347\n",
        "Final error: 0.0451\n",
        "Image:  48\n",
        "Initial error: 0.0881\n",
        "Final error: 0.0456\n",
        "Image: "
       ]
      },
      {
       "output_type": "stream",
       "stream": "stdout",
       "text": [
        " 48\n",
        "Initial error: 0.0682\n",
        "Final error: 0.0478\n",
        "Image:  49\n",
        "Initial error: 0.1685\n",
        "Final error: 0.2721\n",
        "Image: "
       ]
      },
      {
       "output_type": "stream",
       "stream": "stdout",
       "text": [
        " 49\n",
        "Initial error: 0.0950\n",
        "Final error: 0.0522\n",
        "Image:  49\n",
        "Initial error: 0.1601\n",
        "Final error: 0.2265\n",
        "Image: "
       ]
      },
      {
       "output_type": "stream",
       "stream": "stdout",
       "text": [
        " 49\n",
        "Initial error: 0.1208\n",
        "Final error: 0.0604\n",
        "Image:  49\n",
        "Initial error: 0.1024\n",
        "Final error: 0.2139\n",
        "Image: "
       ]
      },
      {
       "output_type": "stream",
       "stream": "stdout",
       "text": [
        " 50\n",
        "Initial error: 0.1997\n",
        "Final error: 0.3582\n",
        "Image:  50\n",
        "Initial error: 0.0744\n",
        "Final error: 0.0795\n",
        "Image: "
       ]
      },
      {
       "output_type": "stream",
       "stream": "stdout",
       "text": [
        " 50\n",
        "Initial error: 0.1346\n",
        "Final error: 0.1061\n",
        "Image:  50\n",
        "Initial error: 0.0982\n",
        "Final error: 0.0934\n",
        "Image: "
       ]
      },
      {
       "output_type": "stream",
       "stream": "stdout",
       "text": [
        " 50\n",
        "Initial error: 0.0785\n",
        "Final error: 0.0925\n",
        "Image:  51\n",
        "Initial error: 0.1935\n",
        "Final error: 0.3856\n",
        "Image: "
       ]
      },
      {
       "output_type": "stream",
       "stream": "stdout",
       "text": [
        " 51\n",
        "Initial error: 0.0551\n",
        "Final error: 0.0562\n",
        "Image:  51\n",
        "Initial error: 0.1315\n",
        "Final error: 0.0515\n",
        "Image: "
       ]
      },
      {
       "output_type": "stream",
       "stream": "stdout",
       "text": [
        " 51\n",
        "Initial error: 0.0895\n",
        "Final error: 0.0545\n",
        "Image:  51\n",
        "Initial error: 0.0628\n",
        "Final error: 0.0509\n",
        "Image: "
       ]
      },
      {
       "output_type": "stream",
       "stream": "stdout",
       "text": [
        " 52\n",
        "Initial error: 0.1818\n",
        "Final error: 0.0318\n",
        "Image:  52\n",
        "Initial error: 0.0671\n",
        "Final error: 0.0348\n",
        "Image: "
       ]
      },
      {
       "output_type": "stream",
       "stream": "stdout",
       "text": [
        " 52\n",
        "Initial error: 0.1395\n",
        "Final error: 0.0358\n",
        "Image:  52\n",
        "Initial error: 0.0927\n",
        "Final error: 0.0331\n",
        "Image: "
       ]
      },
      {
       "output_type": "stream",
       "stream": "stdout",
       "text": [
        " 52\n",
        "Initial error: 0.0802\n",
        "Final error: 0.0364\n",
        "Image:  53\n",
        "Initial error: 0.1820\n",
        "Final error: 0.1020\n",
        "Image: "
       ]
      },
      {
       "output_type": "stream",
       "stream": "stdout",
       "text": [
        " 53\n",
        "Initial error: 0.0675\n",
        "Final error: 0.1262\n",
        "Image:  53\n",
        "Initial error: 0.1450\n",
        "Final error: 0.1205\n",
        "Image: "
       ]
      },
      {
       "output_type": "stream",
       "stream": "stdout",
       "text": [
        " 53\n",
        "Initial error: 0.0939\n",
        "Final error: 0.1095\n",
        "Image:  53\n",
        "Initial error: 0.0878\n",
        "Final error: 0.1147\n",
        "Image: "
       ]
      },
      {
       "output_type": "stream",
       "stream": "stdout",
       "text": [
        " 54\n",
        "Initial error: 0.1799\n",
        "Final error: 0.2927\n",
        "Image:  54\n",
        "Initial error: 0.0553\n",
        "Final error: 0.0451\n",
        "Image: "
       ]
      },
      {
       "output_type": "stream",
       "stream": "stdout",
       "text": [
        " 54\n",
        "Initial error: 0.1387\n",
        "Final error: 0.0364\n",
        "Image:  54\n",
        "Initial error: 0.0862\n",
        "Final error: 0.0409\n",
        "Image: "
       ]
      },
      {
       "output_type": "stream",
       "stream": "stdout",
       "text": [
        " 54\n",
        "Initial error: 0.0740\n",
        "Final error: 0.0480\n",
        "Image:  55\n",
        "Initial error: 0.1950\n",
        "Final error: 0.1009\n",
        "Image: "
       ]
      },
      {
       "output_type": "stream",
       "stream": "stdout",
       "text": [
        " 55\n",
        "Initial error: 0.1171\n",
        "Final error: 0.0506\n",
        "Image:  55\n",
        "Initial error: 0.1669\n",
        "Final error: 0.1057\n",
        "Image: "
       ]
      },
      {
       "output_type": "stream",
       "stream": "stdout",
       "text": [
        " 55\n",
        "Initial error: 0.1294\n",
        "Final error: 0.0636\n",
        "Image:  55\n",
        "Initial error: 0.1246\n",
        "Final error: 0.0592\n",
        "Image: "
       ]
      },
      {
       "output_type": "stream",
       "stream": "stdout",
       "text": [
        " 56\n",
        "Initial error: 0.1854\n",
        "Final error: 0.0802\n",
        "Image:  56\n",
        "Initial error: 0.1087\n",
        "Final error: 0.0535\n",
        "Image: "
       ]
      },
      {
       "output_type": "stream",
       "stream": "stdout",
       "text": [
        " 56\n",
        "Initial error: 0.1632\n",
        "Final error: 0.0722\n",
        "Image:  56\n",
        "Initial error: 0.1235\n",
        "Final error: 0.0697\n",
        "Image: "
       ]
      },
      {
       "output_type": "stream",
       "stream": "stdout",
       "text": [
        " 56\n",
        "Initial error: 0.1196\n",
        "Final error: 0.0648\n",
        "Image:  57\n",
        "Initial error: 0.1818\n",
        "Final error: 0.1000\n",
        "Image: "
       ]
      },
      {
       "output_type": "stream",
       "stream": "stdout",
       "text": [
        " 57\n",
        "Initial error: 0.0982\n",
        "Final error: 0.0846\n",
        "Image:  57\n",
        "Initial error: 0.1559\n",
        "Final error: 0.0810\n",
        "Image: "
       ]
      },
      {
       "output_type": "stream",
       "stream": "stdout",
       "text": [
        " 57\n",
        "Initial error: 0.1101\n",
        "Final error: 0.0901\n",
        "Image:  57\n",
        "Initial error: 0.1075\n",
        "Final error: 0.0854\n",
        "Image: "
       ]
      },
      {
       "output_type": "stream",
       "stream": "stdout",
       "text": [
        " 58\n",
        "Initial error: 0.1841\n",
        "Final error: 0.0723\n",
        "Image:  58\n",
        "Initial error: 0.0620\n",
        "Final error: 0.0658\n",
        "Image: "
       ]
      },
      {
       "output_type": "stream",
       "stream": "stdout",
       "text": [
        " 58\n",
        "Initial error: 0.1376\n",
        "Final error: 0.0678\n",
        "Image:  58\n",
        "Initial error: 0.0909\n",
        "Final error: 0.0657\n",
        "Image: "
       ]
      },
      {
       "output_type": "stream",
       "stream": "stdout",
       "text": [
        " 58\n",
        "Initial error: 0.0753\n",
        "Final error: 0.0724\n",
        "Image:  59\n",
        "Initial error: 0.1776\n",
        "Final error: 0.0721\n",
        "Image: "
       ]
      },
      {
       "output_type": "stream",
       "stream": "stdout",
       "text": [
        " 59\n",
        "Initial error: 0.0948\n",
        "Final error: 0.0602\n",
        "Image:  59\n",
        "Initial error: 0.1552\n",
        "Final error: 0.0467\n",
        "Image: "
       ]
      },
      {
       "output_type": "stream",
       "stream": "stdout",
       "text": [
        " 59\n",
        "Initial error: 0.1104\n",
        "Final error: 0.0447\n",
        "Image: "
       ]
      },
      {
       "output_type": "stream",
       "stream": "stdout",
       "text": [
        " 59\n",
        "Initial error: 0.1048\n",
        "Final error: 0.0460\n",
        "Image:  60\n",
        "Initial error: 0.1917\n",
        "Final error: 0.0565\n",
        "Image: "
       ]
      },
      {
       "output_type": "stream",
       "stream": "stdout",
       "text": [
        " 60\n",
        "Initial error: 0.1076\n",
        "Final error: 0.0569\n",
        "Image:  60\n",
        "Initial error: 0.1631\n",
        "Final error: 0.0771\n",
        "Image: "
       ]
      },
      {
       "output_type": "stream",
       "stream": "stdout",
       "text": [
        " 60\n",
        "Initial error: 0.1189\n",
        "Final error: 0.0551\n",
        "Image:  60\n",
        "Initial error: 0.1188\n",
        "Final error: 0.0553\n",
        "Image: "
       ]
      },
      {
       "output_type": "stream",
       "stream": "stdout",
       "text": [
        " 61\n",
        "Initial error: 0.1793\n",
        "Final error: 0.0865\n",
        "Image:  61\n",
        "Initial error: 0.0754\n",
        "Final error: 0.0436\n",
        "Image: "
       ]
      },
      {
       "output_type": "stream",
       "stream": "stdout",
       "text": [
        " 61\n",
        "Initial error: 0.1449\n",
        "Final error: 0.0576\n",
        "Image:  61\n",
        "Initial error: 0.0950\n",
        "Final error: 0.0413\n",
        "Image: "
       ]
      },
      {
       "output_type": "stream",
       "stream": "stdout",
       "text": [
        " 61\n",
        "Initial error: 0.0909\n",
        "Final error: 0.0399\n",
        "Image:  62\n",
        "Initial error: 0.1786\n",
        "Final error: 0.0359\n",
        "Image: "
       ]
      },
      {
       "output_type": "stream",
       "stream": "stdout",
       "text": [
        " 62\n",
        "Initial error: 0.0355\n",
        "Final error: 0.0333\n",
        "Image:  62\n",
        "Initial error: 0.1329\n",
        "Final error: 0.0421\n",
        "Image: "
       ]
      },
      {
       "output_type": "stream",
       "stream": "stdout",
       "text": [
        " 62\n",
        "Initial error: 0.0778\n",
        "Final error: 0.0336\n",
        "Image:  62\n",
        "Initial error: 0.0611\n",
        "Final error: 0.0365\n",
        "Image: "
       ]
      },
      {
       "output_type": "stream",
       "stream": "stdout",
       "text": [
        " 63\n",
        "Initial error: 0.2003\n",
        "Final error: 0.2534\n",
        "Image:  63\n",
        "Initial error: 0.1270\n",
        "Final error: 0.1301\n",
        "Image: "
       ]
      },
      {
       "output_type": "stream",
       "stream": "stdout",
       "text": [
        " 63\n",
        "Initial error: 0.1708\n",
        "Final error: 0.0762\n",
        "Image:  63\n",
        "Initial error: 0.1401\n",
        "Final error: 0.1572\n",
        "Image: "
       ]
      },
      {
       "output_type": "stream",
       "stream": "stdout",
       "text": [
        " 63\n",
        "Initial error: 0.1367\n",
        "Final error: 0.0569\n",
        "Image:  64\n",
        "Initial error: 0.1911\n",
        "Final error: 0.0297\n",
        "Image: "
       ]
      },
      {
       "output_type": "stream",
       "stream": "stdout",
       "text": [
        " 64\n",
        "Initial error: 0.0503\n",
        "Final error: 0.0295\n",
        "Image:  64\n",
        "Initial error: 0.1319\n",
        "Final error: 0.0422\n",
        "Image: "
       ]
      },
      {
       "output_type": "stream",
       "stream": "stdout",
       "text": [
        " 64\n",
        "Initial error: 0.0851\n",
        "Final error: 0.0294\n",
        "Image:  64\n",
        "Initial error: 0.0646\n",
        "Final error: 0.0342\n",
        "Image: "
       ]
      },
      {
       "output_type": "stream",
       "stream": "stdout",
       "text": [
        " 65\n",
        "Initial error: 0.1798\n",
        "Final error: 0.0657\n",
        "Image:  65\n",
        "Initial error: 0.0494\n",
        "Final error: 0.0490\n",
        "Image: "
       ]
      },
      {
       "output_type": "stream",
       "stream": "stdout",
       "text": [
        " 65\n",
        "Initial error: 0.1367\n",
        "Final error: 0.0520\n",
        "Image:  65\n",
        "Initial error: 0.0841\n",
        "Final error: 0.0555\n",
        "Image: "
       ]
      },
      {
       "output_type": "stream",
       "stream": "stdout",
       "text": [
        " 65\n",
        "Initial error: 0.0709\n",
        "Final error: 0.0551\n",
        "Image:  66\n",
        "Initial error: 0.1836\n",
        "Final error: 0.0239\n",
        "Image: "
       ]
      },
      {
       "output_type": "stream",
       "stream": "stdout",
       "text": [
        " 66\n",
        "Initial error: 0.0705\n",
        "Final error: 0.0243\n",
        "Image:  66\n",
        "Initial error: 0.1376\n",
        "Final error: 0.0249\n",
        "Image: "
       ]
      },
      {
       "output_type": "stream",
       "stream": "stdout",
       "text": [
        " 66\n",
        "Initial error: 0.0931\n",
        "Final error: 0.0275\n",
        "Image:  66\n",
        "Initial error: 0.0795\n",
        "Final error: 0.0312\n",
        "Image: "
       ]
      },
      {
       "output_type": "stream",
       "stream": "stdout",
       "text": [
        " 67\n",
        "Initial error: 0.1891\n",
        "Final error: 0.0404\n",
        "Image:  67\n",
        "Initial error: 0.1010\n",
        "Final error: 0.0379\n",
        "Image: "
       ]
      },
      {
       "output_type": "stream",
       "stream": "stdout",
       "text": [
        " 67\n",
        "Initial error: 0.1545\n",
        "Final error: 0.0337\n",
        "Image:  67\n",
        "Initial error: 0.1202\n",
        "Final error: 0.0322\n",
        "Image: "
       ]
      },
      {
       "output_type": "stream",
       "stream": "stdout",
       "text": [
        " 67\n",
        "Initial error: 0.1073\n",
        "Final error: 0.0331\n",
        "Image:  68\n",
        "Initial error: 0.1867\n",
        "Final error: 0.1274\n",
        "Image: "
       ]
      },
      {
       "output_type": "stream",
       "stream": "stdout",
       "text": [
        " 68\n",
        "Initial error: 0.0778\n",
        "Final error: 0.0771\n",
        "Image:  68\n",
        "Initial error: 0.1463\n",
        "Final error: 0.0745\n",
        "Image: "
       ]
      },
      {
       "output_type": "stream",
       "stream": "stdout",
       "text": [
        " 68\n",
        "Initial error: 0.1048\n",
        "Final error: 0.0765\n",
        "Image:  68\n",
        "Initial error: 0.0851\n",
        "Final error: 0.0771\n",
        "Image: "
       ]
      },
      {
       "output_type": "stream",
       "stream": "stdout",
       "text": [
        " 69\n",
        "Initial error: 0.1910\n",
        "Final error: 0.0349\n",
        "Image:  69\n",
        "Initial error: 0.0675\n",
        "Final error: 0.0269\n",
        "Image: "
       ]
      },
      {
       "output_type": "stream",
       "stream": "stdout",
       "text": [
        " 69\n",
        "Initial error: 0.1376\n",
        "Final error: 0.0775\n",
        "Image:  69\n",
        "Initial error: 0.0886\n",
        "Final error: 0.0394\n",
        "Image: "
       ]
      },
      {
       "output_type": "stream",
       "stream": "stdout",
       "text": [
        " 69\n",
        "Initial error: 0.0801\n",
        "Final error: 0.0444\n",
        "Image:  70\n",
        "Initial error: 0.1834\n",
        "Final error: 0.0363\n",
        "Image: "
       ]
      },
      {
       "output_type": "stream",
       "stream": "stdout",
       "text": [
        " 70\n",
        "Initial error: 0.0594\n",
        "Final error: 0.0312\n",
        "Image:  70\n",
        "Initial error: 0.1364\n",
        "Final error: 0.0344\n",
        "Image: "
       ]
      },
      {
       "output_type": "stream",
       "stream": "stdout",
       "text": [
        " 70\n",
        "Initial error: 0.0880\n",
        "Final error: 0.0368\n",
        "Image:  70\n",
        "Initial error: 0.0720\n",
        "Final error: 0.0360\n",
        "Image: "
       ]
      },
      {
       "output_type": "stream",
       "stream": "stdout",
       "text": [
        " 71\n",
        "Initial error: 0.1809\n",
        "Final error: 0.2175\n",
        "Image:  71\n",
        "Initial error: 0.0742\n",
        "Final error: 0.0227\n",
        "Image: "
       ]
      },
      {
       "output_type": "stream",
       "stream": "stdout",
       "text": [
        " 71\n",
        "Initial error: 0.1461\n",
        "Final error: 0.1762\n",
        "Image:  71\n",
        "Initial error: 0.0931\n",
        "Final error: 0.0255\n",
        "Image: "
       ]
      },
      {
       "output_type": "stream",
       "stream": "stdout",
       "text": [
        " 71\n",
        "Initial error: 0.0894\n",
        "Final error: 0.0661\n",
        "Image:  72\n",
        "Initial error: 0.1897\n",
        "Final error: 0.0358\n",
        "Image: "
       ]
      },
      {
       "output_type": "stream",
       "stream": "stdout",
       "text": [
        " 72\n",
        "Initial error: 0.0657\n",
        "Final error: 0.0379\n",
        "Image:  72\n",
        "Initial error: 0.1364\n",
        "Final error: 0.0535\n",
        "Image: "
       ]
      },
      {
       "output_type": "stream",
       "stream": "stdout",
       "text": [
        " 72\n",
        "Initial error: 0.0926\n",
        "Final error: 0.0405\n",
        "Image:  72\n",
        "Initial error: 0.0779\n",
        "Final error: 0.0379\n",
        "Image: "
       ]
      },
      {
       "output_type": "stream",
       "stream": "stdout",
       "text": [
        " 73\n",
        "Initial error: 0.1830\n",
        "Final error: 0.2655\n",
        "Image:  73\n",
        "Initial error: 0.0586\n",
        "Final error: 0.0801\n",
        "Image: "
       ]
      },
      {
       "output_type": "stream",
       "stream": "stdout",
       "text": [
        " 73\n",
        "Initial error: 0.1367\n",
        "Final error: 0.0883\n",
        "Image:  73\n",
        "Initial error: 0.0880\n",
        "Final error: 0.0814\n",
        "Image: "
       ]
      },
      {
       "output_type": "stream",
       "stream": "stdout",
       "text": [
        " 73\n",
        "Initial error: 0.0697\n",
        "Final error: 0.0899\n",
        "Image:  74\n",
        "Initial error: 0.1788\n",
        "Final error: 0.0465\n",
        "Image: "
       ]
      },
      {
       "output_type": "stream",
       "stream": "stdout",
       "text": [
        " 74\n",
        "Initial error: 0.0625\n",
        "Final error: 0.0436\n",
        "Image:  74\n",
        "Initial error: 0.1367\n",
        "Final error: 0.0474\n",
        "Image: "
       ]
      },
      {
       "output_type": "stream",
       "stream": "stdout",
       "text": [
        " 74\n",
        "Initial error: 0.0921\n",
        "Final error: 0.0588\n",
        "Image:  74\n",
        "Initial error: 0.0740\n",
        "Final error: 0.0500\n",
        "Image: "
       ]
      },
      {
       "output_type": "stream",
       "stream": "stdout",
       "text": [
        " 75\n",
        "Initial error: 0.1828\n",
        "Final error: 0.2143\n",
        "Image:  75\n",
        "Initial error: 0.0446\n",
        "Final error: 0.0211\n",
        "Image: "
       ]
      },
      {
       "output_type": "stream",
       "stream": "stdout",
       "text": [
        " 75\n",
        "Initial error: 0.1343\n",
        "Final error: 0.0236\n",
        "Image:  75\n",
        "Initial error: 0.0810\n",
        "Final error: 0.0343\n",
        "Image: "
       ]
      },
      {
       "output_type": "stream",
       "stream": "stdout",
       "text": [
        " 75\n",
        "Initial error: 0.0646\n",
        "Final error: 0.0228\n",
        "Image:  76\n",
        "Initial error: 0.1817\n",
        "Final error: 0.2730\n",
        "Image: "
       ]
      },
      {
       "output_type": "stream",
       "stream": "stdout",
       "text": [
        " 76\n",
        "Initial error: 0.0653\n",
        "Final error: 0.0460\n",
        "Image:  76\n",
        "Initial error: 0.1389\n",
        "Final error: 0.0511\n",
        "Image: "
       ]
      },
      {
       "output_type": "stream",
       "stream": "stdout",
       "text": [
        " 76\n",
        "Initial error: 0.0891\n",
        "Final error: 0.0482\n",
        "Image:  76\n",
        "Initial error: 0.0776\n",
        "Final error: 0.0486\n",
        "Image: "
       ]
      },
      {
       "output_type": "stream",
       "stream": "stdout",
       "text": [
        " 77\n",
        "Initial error: 0.1845\n",
        "Final error: 0.2011\n",
        "Image:  77\n",
        "Initial error: 0.0873\n",
        "Final error: 0.0500\n",
        "Image: "
       ]
      },
      {
       "output_type": "stream",
       "stream": "stdout",
       "text": [
        " 77\n",
        "Initial error: 0.1438\n",
        "Final error: 0.0660\n",
        "Image:  77\n",
        "Initial error: 0.1086\n",
        "Final error: 0.0594\n",
        "Image: "
       ]
      },
      {
       "output_type": "stream",
       "stream": "stdout",
       "text": [
        " 77\n",
        "Initial error: 0.0934\n",
        "Final error: 0.0669\n",
        "Image:  78\n",
        "Initial error: 0.1858\n",
        "Final error: 0.2047\n",
        "Image: "
       ]
      },
      {
       "output_type": "stream",
       "stream": "stdout",
       "text": [
        " 78\n",
        "Initial error: 0.0635\n",
        "Final error: 0.0543\n",
        "Image:  78\n",
        "Initial error: 0.1356\n",
        "Final error: 0.1228\n",
        "Image: "
       ]
      },
      {
       "output_type": "stream",
       "stream": "stdout",
       "text": [
        " 78\n",
        "Initial error: 0.0932\n",
        "Final error: 0.0444\n",
        "Image:  78\n",
        "Initial error: 0.0713\n",
        "Final error: 0.0608\n",
        "Image: "
       ]
      },
      {
       "output_type": "stream",
       "stream": "stdout",
       "text": [
        " 79\n",
        "Initial error: 0.1816\n",
        "Final error: 0.1096\n",
        "Image:  79\n",
        "Initial error: 0.0447\n",
        "Final error: 0.0965\n",
        "Image: "
       ]
      },
      {
       "output_type": "stream",
       "stream": "stdout",
       "text": [
        " 79\n",
        "Initial error: 0.1366\n",
        "Final error: 0.1033\n",
        "Image:  79\n",
        "Initial error: 0.0792\n",
        "Final error: 0.1066\n",
        "Image: "
       ]
      },
      {
       "output_type": "stream",
       "stream": "stdout",
       "text": [
        " 79\n",
        "Initial error: 0.0687\n",
        "Final error: 0.1154\n",
        "Image:  80\n",
        "Initial error: 0.1819\n",
        "Final error: 0.1034\n",
        "Image: "
       ]
      },
      {
       "output_type": "stream",
       "stream": "stdout",
       "text": [
        " 80\n",
        "Initial error: 0.0619\n",
        "Final error: 0.0589\n",
        "Image:  80\n",
        "Initial error: 0.1434\n",
        "Final error: 0.0510\n",
        "Image: "
       ]
      },
      {
       "output_type": "stream",
       "stream": "stdout",
       "text": [
        " 80\n",
        "Initial error: 0.0864\n",
        "Final error: 0.0566\n",
        "Image:  80\n",
        "Initial error: 0.0853\n",
        "Final error: 0.0545\n",
        "Image: "
       ]
      },
      {
       "output_type": "stream",
       "stream": "stdout",
       "text": [
        " 81\n",
        "Initial error: 0.1803\n",
        "Final error: 0.2070\n",
        "Image:  81\n",
        "Initial error: 0.0408\n",
        "Final error: 0.0547\n",
        "Image: "
       ]
      },
      {
       "output_type": "stream",
       "stream": "stdout",
       "text": [
        " 81\n",
        "Initial error: 0.1337\n",
        "Final error: 0.0559\n",
        "Image:  81\n",
        "Initial error: 0.0817\n",
        "Final error: 0.0583\n",
        "Image: "
       ]
      },
      {
       "output_type": "stream",
       "stream": "stdout",
       "text": [
        " 81\n",
        "Initial error: 0.0650\n",
        "Final error: 0.0615\n",
        "Image:  82\n",
        "Initial error: 0.1820\n",
        "Final error: 0.0463\n",
        "Image: "
       ]
      },
      {
       "output_type": "stream",
       "stream": "stdout",
       "text": [
        " 82\n",
        "Initial error: 0.0472\n",
        "Final error: 0.0661\n",
        "Image:  82\n",
        "Initial error: 0.1338\n",
        "Final error: 0.0723\n",
        "Image: "
       ]
      },
      {
       "output_type": "stream",
       "stream": "stdout",
       "text": [
        " 82\n",
        "Initial error: 0.0878\n",
        "Final error: 0.0715\n",
        "Image:  82\n",
        "Initial error: 0.0664\n",
        "Final error: 0.0518\n",
        "Image: "
       ]
      },
      {
       "output_type": "stream",
       "stream": "stdout",
       "text": [
        " 83\n",
        "Initial error: 0.1798\n",
        "Final error: 0.2306\n",
        "Image:  83\n",
        "Initial error: 0.0710\n",
        "Final error: 0.0711\n",
        "Image: "
       ]
      },
      {
       "output_type": "stream",
       "stream": "stdout",
       "text": [
        " 83\n",
        "Initial error: 0.1426\n",
        "Final error: 0.0577\n",
        "Image:  83\n",
        "Initial error: 0.0916\n",
        "Final error: 0.0643\n",
        "Image: "
       ]
      },
      {
       "output_type": "stream",
       "stream": "stdout",
       "text": [
        " 83\n",
        "Initial error: 0.0848\n",
        "Final error: 0.0559\n",
        "Image:  84\n",
        "Initial error: 0.1770\n",
        "Final error: 0.2751\n",
        "Image: "
       ]
      },
      {
       "output_type": "stream",
       "stream": "stdout",
       "text": [
        " 84\n",
        "Initial error: 0.0509\n",
        "Final error: 0.0448\n",
        "Image:  84\n",
        "Initial error: 0.1399\n",
        "Final error: 0.0388\n",
        "Image: "
       ]
      },
      {
       "output_type": "stream",
       "stream": "stdout",
       "text": [
        " 84\n",
        "Initial error: 0.0792\n",
        "Final error: 0.0412\n",
        "Image:  84\n",
        "Initial error: 0.0749\n",
        "Final error: 0.0460\n",
        "Image: "
       ]
      },
      {
       "output_type": "stream",
       "stream": "stdout",
       "text": [
        " 85\n",
        "Initial error: 0.1855\n",
        "Final error: 0.0879\n",
        "Image:  85\n",
        "Initial error: 0.0677\n",
        "Final error: 0.0628\n",
        "Image: "
       ]
      },
      {
       "output_type": "stream",
       "stream": "stdout",
       "text": [
        " 85\n",
        "Initial error: 0.1417\n",
        "Final error: 0.0571\n",
        "Image:  85\n",
        "Initial error: 0.0875\n",
        "Final error: 0.0560\n",
        "Image: "
       ]
      },
      {
       "output_type": "stream",
       "stream": "stdout",
       "text": [
        " 85\n",
        "Initial error: 0.0856\n",
        "Final error: 0.0510\n",
        "Image:  86\n",
        "Initial error: 0.1871\n",
        "Final error: 0.1276\n",
        "Image: "
       ]
      },
      {
       "output_type": "stream",
       "stream": "stdout",
       "text": [
        " 86\n",
        "Initial error: 0.0435\n",
        "Final error: 0.0456\n",
        "Image:  86\n",
        "Initial error: 0.1324\n",
        "Final error: 0.0564\n",
        "Image: "
       ]
      },
      {
       "output_type": "stream",
       "stream": "stdout",
       "text": [
        " 86\n",
        "Initial error: 0.0836\n",
        "Final error: 0.0461\n",
        "Image:  86\n",
        "Initial error: 0.0626\n",
        "Final error: 0.0440\n",
        "Image: "
       ]
      },
      {
       "output_type": "stream",
       "stream": "stdout",
       "text": [
        " 87\n",
        "Initial error: 0.1764\n",
        "Final error: 0.0307\n",
        "Image:  87\n",
        "Initial error: 0.0737\n",
        "Final error: 0.0528\n",
        "Image: "
       ]
      },
      {
       "output_type": "stream",
       "stream": "stdout",
       "text": [
        " 87\n",
        "Initial error: 0.1481\n",
        "Final error: 0.0530\n",
        "Image:  87\n",
        "Initial error: 0.1001\n",
        "Final error: 0.0572\n",
        "Image: "
       ]
      },
      {
       "output_type": "stream",
       "stream": "stdout",
       "text": [
        " 87\n",
        "Initial error: 0.0916\n",
        "Final error: 0.0618\n",
        "Image:  88\n",
        "Initial error: 0.1840\n",
        "Final error: 0.2094\n",
        "Image: "
       ]
      },
      {
       "output_type": "stream",
       "stream": "stdout",
       "text": [
        " 88\n",
        "Initial error: 0.0708\n",
        "Final error: 0.1981\n",
        "Image:  88\n",
        "Initial error: 0.1393\n",
        "Final error: 0.2520\n",
        "Image: "
       ]
      },
      {
       "output_type": "stream",
       "stream": "stdout",
       "text": [
        " 88\n",
        "Initial error: 0.0947\n",
        "Final error: 0.1849\n",
        "Image: "
       ]
      },
      {
       "output_type": "stream",
       "stream": "stdout",
       "text": [
        " 88\n",
        "Initial error: 0.0815\n",
        "Final error: 0.1995\n",
        "Image:  89\n",
        "Initial error: 0.1768\n",
        "Final error: 0.1117\n",
        "Image: "
       ]
      },
      {
       "output_type": "stream",
       "stream": "stdout",
       "text": [
        " 89\n",
        "Initial error: 0.0782\n",
        "Final error: 0.1124\n",
        "Image:  89\n",
        "Initial error: 0.1499\n",
        "Final error: 0.1954\n",
        "Image: "
       ]
      },
      {
       "output_type": "stream",
       "stream": "stdout",
       "text": [
        " 89\n",
        "Initial error: 0.1045\n",
        "Final error: 0.1059\n",
        "Image:  89\n",
        "Initial error: 0.0944\n",
        "Final error: 0.0998\n",
        "Image: "
       ]
      },
      {
       "output_type": "stream",
       "stream": "stdout",
       "text": [
        " 90\n",
        "Initial error: 0.1709\n",
        "Final error: 0.0475\n",
        "Image:  90\n",
        "Initial error: 0.0733\n",
        "Final error: 0.0550\n",
        "Image: "
       ]
      },
      {
       "output_type": "stream",
       "stream": "stdout",
       "text": [
        " 90\n",
        "Initial error: 0.1451\n",
        "Final error: 0.0420\n",
        "Image:  90\n",
        "Initial error: 0.1002\n",
        "Final error: 0.0478\n",
        "Image: "
       ]
      },
      {
       "output_type": "stream",
       "stream": "stdout",
       "text": [
        " 90\n",
        "Initial error: 0.0801\n",
        "Final error: 0.0393\n",
        "Image:  91\n",
        "Initial error: 0.1812\n",
        "Final error: 0.0484\n",
        "Image: "
       ]
      },
      {
       "output_type": "stream",
       "stream": "stdout",
       "text": [
        " 91\n",
        "Initial error: 0.0807\n",
        "Final error: 0.0489\n",
        "Image:  91\n",
        "Initial error: 0.1511\n",
        "Final error: 0.0515\n",
        "Image: "
       ]
      },
      {
       "output_type": "stream",
       "stream": "stdout",
       "text": [
        " 91\n",
        "Initial error: 0.1053\n",
        "Final error: 0.0503\n",
        "Image:  91\n",
        "Initial error: 0.0932\n",
        "Final error: 0.0483\n",
        "Image: "
       ]
      },
      {
       "output_type": "stream",
       "stream": "stdout",
       "text": [
        " 92\n",
        "Initial error: 0.1864\n",
        "Final error: 0.0598\n",
        "Image:  92\n",
        "Initial error: 0.0838\n",
        "Final error: 0.0555\n",
        "Image: "
       ]
      },
      {
       "output_type": "stream",
       "stream": "stdout",
       "text": [
        " 92\n",
        "Initial error: 0.1397\n",
        "Final error: 0.0489\n",
        "Image:  92\n",
        "Initial error: 0.1026\n",
        "Final error: 0.0652\n",
        "Image: "
       ]
      },
      {
       "output_type": "stream",
       "stream": "stdout",
       "text": [
        " 92\n",
        "Initial error: 0.0861\n",
        "Final error: 0.0515\n",
        "Image:  93\n",
        "Initial error: 0.1676\n",
        "Final error: 0.2174\n",
        "Image: "
       ]
      },
      {
       "output_type": "stream",
       "stream": "stdout",
       "text": [
        " 93\n",
        "Initial error: 0.0700\n",
        "Final error: 0.0535\n",
        "Image:  93\n",
        "Initial error: 0.1479\n",
        "Final error: 0.1077\n",
        "Image: "
       ]
      },
      {
       "output_type": "stream",
       "stream": "stdout",
       "text": [
        " 93\n",
        "Initial error: 0.0983\n",
        "Final error: 0.0552\n",
        "Image:  93\n",
        "Initial error: 0.0832\n",
        "Final error: 0.0513\n",
        "Image: "
       ]
      },
      {
       "output_type": "stream",
       "stream": "stdout",
       "text": [
        " 94\n",
        "Initial error: 0.1789\n",
        "Final error: 0.0344\n",
        "Image:  94\n",
        "Initial error: 0.0489\n",
        "Final error: 0.0357\n",
        "Image: "
       ]
      },
      {
       "output_type": "stream",
       "stream": "stdout",
       "text": [
        " 94\n",
        "Initial error: 0.1375\n",
        "Final error: 0.0418\n",
        "Image:  94\n",
        "Initial error: 0.0844\n",
        "Final error: 0.0312\n",
        "Image: "
       ]
      },
      {
       "output_type": "stream",
       "stream": "stdout",
       "text": [
        " 94\n",
        "Initial error: 0.0716\n",
        "Final error: 0.0414\n",
        "Image:  95\n",
        "Initial error: 0.1854\n",
        "Final error: 0.0553\n",
        "Image: "
       ]
      },
      {
       "output_type": "stream",
       "stream": "stdout",
       "text": [
        " 95\n",
        "Initial error: 0.0961\n",
        "Final error: 0.0687\n",
        "Image:  95\n",
        "Initial error: 0.1569\n",
        "Final error: 0.0648\n",
        "Image: "
       ]
      },
      {
       "output_type": "stream",
       "stream": "stdout",
       "text": [
        " 95\n",
        "Initial error: 0.1126\n",
        "Final error: 0.0761\n",
        "Image:  95\n",
        "Initial error: 0.1092\n",
        "Final error: 0.0671\n",
        "Image: "
       ]
      },
      {
       "output_type": "stream",
       "stream": "stdout",
       "text": [
        " 96\n",
        "Initial error: 0.1808\n",
        "Final error: 0.1769\n",
        "Image:  96\n",
        "Initial error: 0.0666\n",
        "Final error: 0.0605\n",
        "Image: "
       ]
      },
      {
       "output_type": "stream",
       "stream": "stdout",
       "text": [
        " 96\n",
        "Initial error: 0.1387\n",
        "Final error: 0.0683\n",
        "Image:  96\n",
        "Initial error: 0.0905\n",
        "Final error: 0.0193\n",
        "Image: "
       ]
      },
      {
       "output_type": "stream",
       "stream": "stdout",
       "text": [
        " 96\n",
        "Initial error: 0.0769\n",
        "Final error: 0.0858\n",
        "Image:  97\n",
        "Initial error: 0.1869\n",
        "Final error: 0.0560\n",
        "Image: "
       ]
      },
      {
       "output_type": "stream",
       "stream": "stdout",
       "text": [
        " 97\n",
        "Initial error: 0.1082\n",
        "Final error: 0.0596\n",
        "Image:  97\n",
        "Initial error: 0.1624\n",
        "Final error: 0.0797\n",
        "Image: "
       ]
      },
      {
       "output_type": "stream",
       "stream": "stdout",
       "text": [
        " 97\n",
        "Initial error: 0.1218\n",
        "Final error: 0.0616\n",
        "Image:  97\n",
        "Initial error: 0.1191\n",
        "Final error: 0.0755\n",
        "Image: "
       ]
      },
      {
       "output_type": "stream",
       "stream": "stdout",
       "text": [
        " 98\n",
        "Initial error: 0.1860\n",
        "Final error: 0.1701\n",
        "Image:  98\n",
        "Initial error: 0.0541\n",
        "Final error: 0.0627\n",
        "Image: "
       ]
      },
      {
       "output_type": "stream",
       "stream": "stdout",
       "text": [
        " 98\n",
        "Initial error: 0.1321\n",
        "Final error: 0.1085\n",
        "Image:  98\n",
        "Initial error: 0.0851\n",
        "Final error: 0.0699\n",
        "Image: "
       ]
      },
      {
       "output_type": "stream",
       "stream": "stdout",
       "text": [
        " 98\n",
        "Initial error: 0.0642\n",
        "Final error: 0.0587\n",
        "Image:  99\n",
        "Initial error: 0.1737\n",
        "Final error: 0.0314\n",
        "Image: "
       ]
      },
      {
       "output_type": "stream",
       "stream": "stdout",
       "text": [
        " 99\n",
        "Initial error: 0.0708\n",
        "Final error: 0.0411\n",
        "Image:  99\n",
        "Initial error: 0.1458\n",
        "Final error: 0.0425\n",
        "Image: "
       ]
      },
      {
       "output_type": "stream",
       "stream": "stdout",
       "text": [
        " 99\n",
        "Initial error: 0.0937\n",
        "Final error: 0.0374\n",
        "Image:  99\n",
        "Initial error: 0.0884\n",
        "Final error: 0.0468\n",
        "Image: "
       ]
      },
      {
       "output_type": "stream",
       "stream": "stdout",
       "text": [
        " 100\n",
        "Initial error: 0.1665\n",
        "Final error: 0.2091\n",
        "Image:  100\n",
        "Initial error: 0.0864\n",
        "Final error: 0.1503\n",
        "Image: "
       ]
      },
      {
       "output_type": "stream",
       "stream": "stdout",
       "text": [
        " 100\n",
        "Initial error: 0.1550\n",
        "Final error: 0.1373\n",
        "Image:  100\n",
        "Initial error: 0.1135\n",
        "Final error: 0.0923\n",
        "Image: "
       ]
      },
      {
       "output_type": "stream",
       "stream": "stdout",
       "text": [
        " 100\n",
        "Initial error: 0.0955\n",
        "Final error: 0.1492\n",
        "Image:  101\n",
        "Initial error: 0.1754\n",
        "Final error: 0.1005\n",
        "Image: "
       ]
      },
      {
       "output_type": "stream",
       "stream": "stdout",
       "text": [
        " 101\n",
        "Initial error: 0.0420\n",
        "Final error: 0.0525\n",
        "Image:  101\n",
        "Initial error: 0.1341\n",
        "Final error: 0.0460\n",
        "Image: "
       ]
      },
      {
       "output_type": "stream",
       "stream": "stdout",
       "text": [
        " 101\n",
        "Initial error: 0.0798\n",
        "Final error: 0.0484\n",
        "Image:  101\n",
        "Initial error: 0.0628\n",
        "Final error: 0.0537\n",
        "Image: "
       ]
      },
      {
       "output_type": "stream",
       "stream": "stdout",
       "text": [
        " 102\n",
        "Initial error: 0.1761\n",
        "Final error: 0.1133\n",
        "Image:  102\n",
        "Initial error: 0.0408\n",
        "Final error: 0.0490\n",
        "Image: "
       ]
      },
      {
       "output_type": "stream",
       "stream": "stdout",
       "text": [
        " 102\n",
        "Initial error: 0.1374\n",
        "Final error: 0.0506\n",
        "Image:  102\n",
        "Initial error: 0.0829\n",
        "Final error: 0.0450\n",
        "Image: "
       ]
      },
      {
       "output_type": "stream",
       "stream": "stdout",
       "text": [
        " 102\n",
        "Initial error: 0.0742\n",
        "Final error: 0.0520\n",
        "Image:  103\n",
        "Initial error: 0.1706\n",
        "Final error: 0.1046\n",
        "Image: "
       ]
      },
      {
       "output_type": "stream",
       "stream": "stdout",
       "text": [
        " 103\n",
        "Initial error: 0.0664\n",
        "Final error: 0.1122\n",
        "Image:  103\n",
        "Initial error: 0.1399\n",
        "Final error: 0.1551\n",
        "Image: "
       ]
      },
      {
       "output_type": "stream",
       "stream": "stdout",
       "text": [
        " 103\n",
        "Initial error: 0.0849\n",
        "Final error: 0.1267\n",
        "Image:  103\n",
        "Initial error: 0.0787\n",
        "Final error: 0.1120\n",
        "Image: "
       ]
      },
      {
       "output_type": "stream",
       "stream": "stdout",
       "text": [
        " 104\n",
        "Initial error: 0.1833\n",
        "Final error: 0.0320\n",
        "Image:  104\n",
        "Initial error: 0.1115\n",
        "Final error: 0.0268\n",
        "Image: "
       ]
      },
      {
       "output_type": "stream",
       "stream": "stdout",
       "text": [
        " 104\n",
        "Initial error: 0.1590\n",
        "Final error: 0.0225\n",
        "Image:  104\n",
        "Initial error: 0.1259\n",
        "Final error: 0.0313\n",
        "Image: "
       ]
      },
      {
       "output_type": "stream",
       "stream": "stdout",
       "text": [
        " 104\n",
        "Initial error: 0.1180\n",
        "Final error: 0.0302\n",
        "Image:  105\n",
        "Initial error: 0.1837\n",
        "Final error: 0.0988\n",
        "Image: "
       ]
      },
      {
       "output_type": "stream",
       "stream": "stdout",
       "text": [
        " 105\n",
        "Initial error: 0.0536\n",
        "Final error: 0.1455\n",
        "Image:  105\n",
        "Initial error: 0.1380\n",
        "Final error: 0.1191\n",
        "Image: "
       ]
      },
      {
       "output_type": "stream",
       "stream": "stdout",
       "text": [
        " 105\n",
        "Initial error: 0.0880\n",
        "Final error: 0.1079\n",
        "Image:  105\n",
        "Initial error: 0.0726\n",
        "Final error: 0.1329\n",
        "Image: "
       ]
      },
      {
       "output_type": "stream",
       "stream": "stdout",
       "text": [
        " 106\n",
        "Initial error: 0.1705\n",
        "Final error: 0.0319\n",
        "Image:  106\n",
        "Initial error: 0.0712\n",
        "Final error: 0.0368\n",
        "Image: "
       ]
      },
      {
       "output_type": "stream",
       "stream": "stdout",
       "text": [
        " 106\n",
        "Initial error: 0.1502\n",
        "Final error: 0.0344\n",
        "Image:  106\n",
        "Initial error: 0.1022\n",
        "Final error: 0.0352\n",
        "Image: "
       ]
      },
      {
       "output_type": "stream",
       "stream": "stdout",
       "text": [
        " 106\n",
        "Initial error: 0.0910\n",
        "Final error: 0.0295\n",
        "Image:  107\n",
        "Initial error: 0.1793\n",
        "Final error: 0.2778\n",
        "Image: "
       ]
      },
      {
       "output_type": "stream",
       "stream": "stdout",
       "text": [
        " 107\n",
        "Initial error: 0.0702\n",
        "Final error: 0.0490\n",
        "Image:  107\n",
        "Initial error: 0.1434\n",
        "Final error: 0.0380\n",
        "Image: "
       ]
      },
      {
       "output_type": "stream",
       "stream": "stdout",
       "text": [
        " 107\n",
        "Initial error: 0.0976\n",
        "Final error: 0.0498\n",
        "Image:  107\n",
        "Initial error: 0.0846\n",
        "Final error: 0.0485\n",
        "Image: "
       ]
      },
      {
       "output_type": "stream",
       "stream": "stdout",
       "text": [
        " 108\n",
        "Initial error: 0.1747\n",
        "Final error: 0.0576\n",
        "Image:  108\n",
        "Initial error: 0.0747\n",
        "Final error: 0.0584\n",
        "Image: "
       ]
      },
      {
       "output_type": "stream",
       "stream": "stdout",
       "text": [
        " 108\n",
        "Initial error: 0.1470\n",
        "Final error: 0.0545\n",
        "Image:  108\n",
        "Initial error: 0.1023\n",
        "Final error: 0.0676\n",
        "Image: "
       ]
      },
      {
       "output_type": "stream",
       "stream": "stdout",
       "text": [
        " 108\n",
        "Initial error: 0.0916\n",
        "Final error: 0.0555\n",
        "Image:  109\n",
        "Initial error: 0.1739\n",
        "Final error: 0.1226\n",
        "Image: "
       ]
      },
      {
       "output_type": "stream",
       "stream": "stdout",
       "text": [
        " 109\n",
        "Initial error: 0.0743\n",
        "Final error: 0.0330\n",
        "Image:  109\n",
        "Initial error: 0.1470\n",
        "Final error: 0.0261\n",
        "Image: "
       ]
      },
      {
       "output_type": "stream",
       "stream": "stdout",
       "text": [
        " 109\n",
        "Initial error: 0.0947\n",
        "Final error: 0.0262\n",
        "Image:  109\n",
        "Initial error: 0.0859\n",
        "Final error: 0.0270\n",
        "Image: "
       ]
      },
      {
       "output_type": "stream",
       "stream": "stdout",
       "text": [
        " 110\n",
        "Initial error: 0.1727\n",
        "Final error: 0.0724\n",
        "Image:  110\n",
        "Initial error: 0.0696\n",
        "Final error: 0.0578\n",
        "Image: "
       ]
      },
      {
       "output_type": "stream",
       "stream": "stdout",
       "text": [
        " 110\n",
        "Initial error: 0.1472\n",
        "Final error: 0.0508\n",
        "Image:  110\n",
        "Initial error: 0.0971\n",
        "Final error: 0.0518\n",
        "Image: "
       ]
      },
      {
       "output_type": "stream",
       "stream": "stdout",
       "text": [
        " 110\n",
        "Initial error: 0.0876\n",
        "Final error: 0.0658\n",
        "Image:  111\n",
        "Initial error: 0.1759\n",
        "Final error: 0.2174\n",
        "Image: "
       ]
      },
      {
       "output_type": "stream",
       "stream": "stdout",
       "text": [
        " 111\n",
        "Initial error: 0.0440\n",
        "Final error: 0.0545\n",
        "Image:  111\n",
        "Initial error: 0.1355\n",
        "Final error: 0.0528\n",
        "Image: "
       ]
      },
      {
       "output_type": "stream",
       "stream": "stdout",
       "text": [
        " 111\n",
        "Initial error: 0.0801\n",
        "Final error: 0.0567\n",
        "Image:  111\n",
        "Initial error: 0.0654\n",
        "Final error: 0.0569\n",
        "Image: "
       ]
      },
      {
       "output_type": "stream",
       "stream": "stdout",
       "text": [
        " 112\n",
        "Initial error: 0.1902\n",
        "Final error: 0.0525\n",
        "Image:  112\n",
        "Initial error: 0.0502\n",
        "Final error: 0.0538\n",
        "Image: "
       ]
      },
      {
       "output_type": "stream",
       "stream": "stdout",
       "text": [
        " 112\n",
        "Initial error: 0.1327\n",
        "Final error: 0.1197\n",
        "Image:  112\n",
        "Initial error: 0.0867\n",
        "Final error: 0.0524\n",
        "Image: "
       ]
      },
      {
       "output_type": "stream",
       "stream": "stdout",
       "text": [
        " 112\n",
        "Initial error: 0.0639\n",
        "Final error: 0.0570\n",
        "Image:  113\n",
        "Initial error: 0.1751\n",
        "Final error: 0.1476\n",
        "Image: "
       ]
      },
      {
       "output_type": "stream",
       "stream": "stdout",
       "text": [
        " 113\n",
        "Initial error: 0.0862\n",
        "Final error: 0.0234\n",
        "Image:  113\n",
        "Initial error: 0.1528\n",
        "Final error: 0.0285\n",
        "Image: "
       ]
      },
      {
       "output_type": "stream",
       "stream": "stdout",
       "text": [
        " 113\n",
        "Initial error: 0.1067\n",
        "Final error: 0.0295\n",
        "Image:  113\n",
        "Initial error: 0.1004\n",
        "Final error: 0.0263\n",
        "Image: "
       ]
      },
      {
       "output_type": "stream",
       "stream": "stdout",
       "text": [
        " 114\n",
        "Initial error: 0.1862\n",
        "Final error: 0.3358\n",
        "Image:  114\n",
        "Initial error: 0.0511\n",
        "Final error: 0.0495\n",
        "Image: "
       ]
      },
      {
       "output_type": "stream",
       "stream": "stdout",
       "text": [
        " 114\n",
        "Initial error: 0.1313\n",
        "Final error: 0.1177\n",
        "Image:  114\n",
        "Initial error: 0.0860\n",
        "Final error: 0.0694\n",
        "Image: "
       ]
      },
      {
       "output_type": "stream",
       "stream": "stdout",
       "text": [
        " 114\n",
        "Initial error: 0.0619\n",
        "Final error: 0.1367\n",
        "Image:  115\n",
        "Initial error: 0.1856\n",
        "Final error: 0.2018\n",
        "Image: "
       ]
      },
      {
       "output_type": "stream",
       "stream": "stdout",
       "text": [
        " 115\n",
        "Initial error: 0.1018\n",
        "Final error: 0.0670\n",
        "Image:  115\n",
        "Initial error: 0.1595\n",
        "Final error: 0.0398\n",
        "Image: "
       ]
      },
      {
       "output_type": "stream",
       "stream": "stdout",
       "text": [
        " 115\n",
        "Initial error: 0.1151\n",
        "Final error: 0.0542\n",
        "Image:  115\n",
        "Initial error: 0.1130\n",
        "Final error: 0.0557\n",
        "Image: "
       ]
      },
      {
       "output_type": "stream",
       "stream": "stdout",
       "text": [
        " 116\n",
        "Initial error: 0.1724\n",
        "Final error: 0.0545\n",
        "Image:  116\n",
        "Initial error: 0.0668\n",
        "Final error: 0.0531\n",
        "Image: "
       ]
      },
      {
       "output_type": "stream",
       "stream": "stdout",
       "text": [
        " 116\n",
        "Initial error: 0.1464\n",
        "Final error: 0.1011\n",
        "Image:  116\n",
        "Initial error: 0.0944\n",
        "Final error: 0.0478\n",
        "Image: "
       ]
      },
      {
       "output_type": "stream",
       "stream": "stdout",
       "text": [
        " 116\n",
        "Initial error: 0.0847\n",
        "Final error: 0.0428\n",
        "Image:  117\n",
        "Initial error: 0.1823\n",
        "Final error: 0.0440\n",
        "Image: "
       ]
      },
      {
       "output_type": "stream",
       "stream": "stdout",
       "text": [
        " 117\n",
        "Initial error: 0.0594\n",
        "Final error: 0.0477\n",
        "Image:  117\n",
        "Initial error: 0.1384\n",
        "Final error: 0.0505\n",
        "Image: "
       ]
      },
      {
       "output_type": "stream",
       "stream": "stdout",
       "text": [
        " 117\n",
        "Initial error: 0.0892\n",
        "Final error: 0.0421\n",
        "Image:  117\n",
        "Initial error: 0.0715\n",
        "Final error: 0.0488\n",
        "Image: "
       ]
      },
      {
       "output_type": "stream",
       "stream": "stdout",
       "text": [
        " 118\n",
        "Initial error: 0.1766\n",
        "Final error: 0.0432\n",
        "Image:  118\n",
        "Initial error: 0.0596\n",
        "Final error: 0.0474\n",
        "Image: "
       ]
      },
      {
       "output_type": "stream",
       "stream": "stdout",
       "text": [
        " 118\n",
        "Initial error: 0.1433\n",
        "Final error: 0.0547\n",
        "Image:  118\n",
        "Initial error: 0.0877\n",
        "Final error: 0.0537\n",
        "Image: "
       ]
      },
      {
       "output_type": "stream",
       "stream": "stdout",
       "text": [
        " 118\n",
        "Initial error: 0.0825\n",
        "Final error: 0.0513\n",
        "Image:  119\n",
        "Initial error: 0.1748\n",
        "Final error: 0.1066\n",
        "Image: "
       ]
      },
      {
       "output_type": "stream",
       "stream": "stdout",
       "text": [
        " 119\n",
        "Initial error: 0.0802\n",
        "Final error: 0.0688\n",
        "Image:  119\n",
        "Initial error: 0.1510\n",
        "Final error: 0.0336\n",
        "Image: "
       ]
      },
      {
       "output_type": "stream",
       "stream": "stdout",
       "text": [
        " 119\n",
        "Initial error: 0.1085\n",
        "Final error: 0.0694\n",
        "Image:  119\n",
        "Initial error: 0.0962\n",
        "Final error: 0.0586\n",
        "Image: "
       ]
      },
      {
       "output_type": "stream",
       "stream": "stdout",
       "text": [
        " 120\n",
        "Initial error: 0.1794\n",
        "Final error: 0.0438\n",
        "Image:  120\n",
        "Initial error: 0.0617\n",
        "Final error: 0.0456\n",
        "Image: "
       ]
      },
      {
       "output_type": "stream",
       "stream": "stdout",
       "text": [
        " 120\n",
        "Initial error: 0.1415\n",
        "Final error: 0.1019\n",
        "Image:  120\n",
        "Initial error: 0.0900\n",
        "Final error: 0.0435\n",
        "Image: "
       ]
      },
      {
       "output_type": "stream",
       "stream": "stdout",
       "text": [
        " 120\n",
        "Initial error: 0.0817\n",
        "Final error: 0.0616\n",
        "Image:  121\n",
        "Initial error: 0.1849\n",
        "Final error: 0.0663\n",
        "Image: "
       ]
      },
      {
       "output_type": "stream",
       "stream": "stdout",
       "text": [
        " 121\n",
        "Initial error: 0.0492\n",
        "Final error: 0.0613\n",
        "Image:  121\n",
        "Initial error: 0.1363\n",
        "Final error: 0.0617\n",
        "Image: "
       ]
      },
      {
       "output_type": "stream",
       "stream": "stdout",
       "text": [
        " 121\n",
        "Initial error: 0.0817\n",
        "Final error: 0.0728\n",
        "Image:  121\n",
        "Initial error: 0.0688\n",
        "Final error: 0.0641\n",
        "Image: "
       ]
      },
      {
       "output_type": "stream",
       "stream": "stdout",
       "text": [
        " 122\n",
        "Initial error: 0.1816\n",
        "Final error: 0.0471\n",
        "Image:  122\n",
        "Initial error: 0.0702\n",
        "Final error: 0.0379\n",
        "Image: "
       ]
      },
      {
       "output_type": "stream",
       "stream": "stdout",
       "text": [
        " 122\n",
        "Initial error: 0.1413\n",
        "Final error: 0.0312\n",
        "Image:  122\n",
        "Initial error: 0.0947\n",
        "Final error: 0.0346\n",
        "Image: "
       ]
      },
      {
       "output_type": "stream",
       "stream": "stdout",
       "text": [
        " 122\n",
        "Initial error: 0.0835\n",
        "Final error: 0.0424\n",
        "Image:  123\n",
        "Initial error: 0.1929\n",
        "Final error: 0.0497\n",
        "Image: "
       ]
      },
      {
       "output_type": "stream",
       "stream": "stdout",
       "text": [
        " 123\n",
        "Initial error: 0.0593\n",
        "Final error: 0.0741\n",
        "Image:  123\n",
        "Initial error: 0.1377\n",
        "Final error: 0.1015\n",
        "Image: "
       ]
      },
      {
       "output_type": "stream",
       "stream": "stdout",
       "text": [
        " 123\n",
        "Initial error: 0.0910\n",
        "Final error: 0.0780\n",
        "Image:  123\n",
        "Initial error: 0.0773\n",
        "Final error: 0.0533\n",
        "Image: "
       ]
      },
      {
       "output_type": "stream",
       "stream": "stdout",
       "text": [
        " 124\n",
        "Initial error: 0.1790\n",
        "Final error: 0.3832\n",
        "Image:  124\n",
        "Initial error: 0.0744\n",
        "Final error: 0.0558\n",
        "Image: "
       ]
      },
      {
       "output_type": "stream",
       "stream": "stdout",
       "text": [
        " 124\n",
        "Initial error: 0.1441\n",
        "Final error: 0.0636\n",
        "Image:  124\n",
        "Initial error: 0.1002\n",
        "Final error: 0.0631\n",
        "Image: "
       ]
      },
      {
       "output_type": "stream",
       "stream": "stdout",
       "text": [
        " 124\n",
        "Initial error: 0.0873\n",
        "Final error: 0.0649\n",
        "Image:  125\n",
        "Initial error: 0.1895\n",
        "Final error: 0.2434\n",
        "Image: "
       ]
      },
      {
       "output_type": "stream",
       "stream": "stdout",
       "text": [
        " 125\n",
        "Initial error: 0.0741\n",
        "Final error: 0.1153\n",
        "Image:  125\n",
        "Initial error: 0.1359\n",
        "Final error: 0.0706\n",
        "Image: "
       ]
      },
      {
       "output_type": "stream",
       "stream": "stdout",
       "text": [
        " 125\n",
        "Initial error: 0.0899\n",
        "Final error: 0.1103\n",
        "Image:  125\n",
        "Initial error: 0.0790\n",
        "Final error: 0.1140\n",
        "Image: "
       ]
      },
      {
       "output_type": "stream",
       "stream": "stdout",
       "text": [
        " 126\n",
        "Initial error: 0.1987\n",
        "Final error: 0.0349\n",
        "Image:  126\n",
        "Initial error: 0.0658\n",
        "Final error: 0.0259\n",
        "Image: "
       ]
      },
      {
       "output_type": "stream",
       "stream": "stdout",
       "text": [
        " 126\n",
        "Initial error: 0.1333\n",
        "Final error: 0.2024\n",
        "Image:  126\n",
        "Initial error: 0.1006\n",
        "Final error: 0.0282\n",
        "Image: "
       ]
      },
      {
       "output_type": "stream",
       "stream": "stdout",
       "text": [
        " 126\n",
        "Initial error: 0.0678\n",
        "Final error: 0.0261\n",
        "Image:  127\n",
        "Initial error: 0.2036\n",
        "Final error: 0.0852\n",
        "Image: "
       ]
      },
      {
       "output_type": "stream",
       "stream": "stdout",
       "text": [
        " 127\n",
        "Initial error: 0.1264\n",
        "Final error: 0.1577\n",
        "Image:  127\n",
        "Initial error: 0.1746\n",
        "Final error: 0.1163\n",
        "Image: "
       ]
      },
      {
       "output_type": "stream",
       "stream": "stdout",
       "text": [
        " 127\n",
        "Initial error: 0.1342\n",
        "Final error: 0.1407\n",
        "Image:  127\n",
        "Initial error: 0.1369\n",
        "Final error: 0.0764\n",
        "Image: "
       ]
      },
      {
       "output_type": "stream",
       "stream": "stdout",
       "text": [
        " 128\n",
        "Initial error: 0.1831\n",
        "Final error: 0.0239\n",
        "Image:  128\n",
        "Initial error: 0.0577\n",
        "Final error: 0.0320\n",
        "Image: "
       ]
      },
      {
       "output_type": "stream",
       "stream": "stdout",
       "text": [
        " 128\n",
        "Initial error: 0.1377\n",
        "Final error: 0.0368\n",
        "Image:  128\n",
        "Initial error: 0.0924\n",
        "Final error: 0.0432\n",
        "Image: "
       ]
      },
      {
       "output_type": "stream",
       "stream": "stdout",
       "text": [
        " 128\n",
        "Initial error: 0.0740\n",
        "Final error: 0.0321\n",
        "Image:  129\n",
        "Initial error: 0.1842\n",
        "Final error: 0.0585\n",
        "Image: "
       ]
      },
      {
       "output_type": "stream",
       "stream": "stdout",
       "text": [
        " 129\n",
        "Initial error: 0.0817\n",
        "Final error: 0.0567\n",
        "Image:  129\n",
        "Initial error: 0.1444\n",
        "Final error: 0.0491\n",
        "Image: "
       ]
      },
      {
       "output_type": "stream",
       "stream": "stdout",
       "text": [
        " 129\n",
        "Initial error: 0.1065\n",
        "Final error: 0.0585\n",
        "Image:  129\n",
        "Initial error: 0.0913\n",
        "Final error: 0.0513\n",
        "Image: "
       ]
      },
      {
       "output_type": "stream",
       "stream": "stdout",
       "text": [
        " 130\n",
        "Initial error: 0.1965\n",
        "Final error: 0.0339\n",
        "Image:  130\n",
        "Initial error: 0.0825\n",
        "Final error: 0.0390\n",
        "Image: "
       ]
      },
      {
       "output_type": "stream",
       "stream": "stdout",
       "text": [
        " 130\n",
        "Initial error: 0.1354\n",
        "Final error: 0.0475\n",
        "Image:  130\n",
        "Initial error: 0.1041\n",
        "Final error: 0.0398\n",
        "Image: "
       ]
      },
      {
       "output_type": "stream",
       "stream": "stdout",
       "text": [
        " 130\n",
        "Initial error: 0.0848\n",
        "Final error: 0.0391\n",
        "Image:  131\n",
        "Initial error: 0.1799\n",
        "Final error: 0.0586\n",
        "Image: "
       ]
      },
      {
       "output_type": "stream",
       "stream": "stdout",
       "text": [
        " 131\n",
        "Initial error: 0.0484\n",
        "Final error: 0.0580\n",
        "Image:  131\n",
        "Initial error: 0.1382\n",
        "Final error: 0.1500\n",
        "Image: "
       ]
      },
      {
       "output_type": "stream",
       "stream": "stdout",
       "text": [
        " 131\n",
        "Initial error: 0.0782\n",
        "Final error: 0.0551\n",
        "Image:  131\n",
        "Initial error: 0.0703\n",
        "Final error: 0.1190\n",
        "Image: "
       ]
      },
      {
       "output_type": "stream",
       "stream": "stdout",
       "text": [
        " 132\n",
        "Initial error: 0.1919\n",
        "Final error: 0.0392\n",
        "Image:  132\n",
        "Initial error: 0.0719\n",
        "Final error: 0.0441\n",
        "Image: "
       ]
      },
      {
       "output_type": "stream",
       "stream": "stdout",
       "text": [
        " 132\n",
        "Initial error: 0.1377\n",
        "Final error: 0.1512\n",
        "Image:  132\n",
        "Initial error: 0.0978\n",
        "Final error: 0.0405\n",
        "Image: "
       ]
      },
      {
       "output_type": "stream",
       "stream": "stdout",
       "text": [
        " 132\n",
        "Initial error: 0.0794\n",
        "Final error: 0.0416\n",
        "Image:  133\n",
        "Initial error: 0.1930\n",
        "Final error: 0.1484\n",
        "Image: "
       ]
      },
      {
       "output_type": "stream",
       "stream": "stdout",
       "text": [
        " 133\n",
        "Initial error: 0.0880\n",
        "Final error: 0.1179\n",
        "Image:  133\n",
        "Initial error: 0.1550\n",
        "Final error: 0.1608\n",
        "Image: "
       ]
      },
      {
       "output_type": "stream",
       "stream": "stdout",
       "text": [
        " 133\n",
        "Initial error: 0.1146\n",
        "Final error: 0.1731\n",
        "Image:  133\n",
        "Initial error: 0.1021\n",
        "Final error: 0.1182\n",
        "Image: "
       ]
      },
      {
       "output_type": "stream",
       "stream": "stdout",
       "text": [
        " 134\n",
        "Initial error: 0.1877\n",
        "Final error: 0.2963\n",
        "Image:  134\n",
        "Initial error: 0.0663\n",
        "Final error: 0.0372\n",
        "Image: "
       ]
      },
      {
       "output_type": "stream",
       "stream": "stdout",
       "text": [
        " 134\n",
        "Initial error: 0.1418\n",
        "Final error: 0.0363\n",
        "Image:  134\n",
        "Initial error: 0.0976\n",
        "Final error: 0.0939\n",
        "Image: "
       ]
      },
      {
       "output_type": "stream",
       "stream": "stdout",
       "text": [
        " 134\n",
        "Initial error: 0.0818\n",
        "Final error: 0.0701\n",
        "Image:  135\n",
        "Initial error: 0.1809\n",
        "Final error: 0.0704\n",
        "Image: "
       ]
      },
      {
       "output_type": "stream",
       "stream": "stdout",
       "text": [
        " 135\n",
        "Initial error: 0.0722\n",
        "Final error: 0.0655\n",
        "Image:  135\n",
        "Initial error: 0.1466\n",
        "Final error: 0.0770\n",
        "Image: "
       ]
      },
      {
       "output_type": "stream",
       "stream": "stdout",
       "text": [
        " 135\n",
        "Initial error: 0.0998\n",
        "Final error: 0.0765\n",
        "Image:  135\n",
        "Initial error: 0.0904\n",
        "Final error: 0.0545\n",
        "Image: "
       ]
      },
      {
       "output_type": "stream",
       "stream": "stdout",
       "text": [
        " 136\n",
        "Initial error: 0.1914\n",
        "Final error: 0.2260\n",
        "Image:  136\n",
        "Initial error: 0.0605\n",
        "Final error: 0.0451\n",
        "Image: "
       ]
      },
      {
       "output_type": "stream",
       "stream": "stdout",
       "text": [
        " 136\n",
        "Initial error: 0.1322\n",
        "Final error: 0.0477\n",
        "Image:  136\n",
        "Initial error: 0.0888\n",
        "Final error: 0.0431\n",
        "Image: "
       ]
      },
      {
       "output_type": "stream",
       "stream": "stdout",
       "text": [
        " 136\n",
        "Initial error: 0.0669\n",
        "Final error: 0.0457\n",
        "Image:  137\n",
        "Initial error: 0.1809\n",
        "Final error: 0.2691\n",
        "Image: "
       ]
      },
      {
       "output_type": "stream",
       "stream": "stdout",
       "text": [
        " 137\n",
        "Initial error: 0.0522\n",
        "Final error: 0.0626\n",
        "Image:  137\n",
        "Initial error: 0.1347\n",
        "Final error: 0.0593\n",
        "Image: "
       ]
      },
      {
       "output_type": "stream",
       "stream": "stdout",
       "text": [
        " 137\n",
        "Initial error: 0.0880\n",
        "Final error: 0.0990\n",
        "Image:  137\n",
        "Initial error: 0.0656\n",
        "Final error: 0.0641\n",
        "Image: "
       ]
      },
      {
       "output_type": "stream",
       "stream": "stdout",
       "text": [
        " 138\n",
        "Initial error: 0.1890\n",
        "Final error: 0.0373\n",
        "Image:  138\n",
        "Initial error: 0.0577\n",
        "Final error: 0.0325\n",
        "Image: "
       ]
      },
      {
       "output_type": "stream",
       "stream": "stdout",
       "text": [
        " 138\n",
        "Initial error: 0.1315\n",
        "Final error: 0.0373\n",
        "Image:  138\n",
        "Initial error: 0.0902\n",
        "Final error: 0.0329\n",
        "Image: "
       ]
      },
      {
       "output_type": "stream",
       "stream": "stdout",
       "text": [
        " 138\n",
        "Initial error: 0.0651\n",
        "Final error: 0.0440\n",
        "Image:  139\n",
        "Initial error: 0.1857\n",
        "Final error: 0.0930\n",
        "Image: "
       ]
      },
      {
       "output_type": "stream",
       "stream": "stdout",
       "text": [
        " 139\n",
        "Initial error: 0.0690\n",
        "Final error: 0.0981\n",
        "Image:  139\n",
        "Initial error: 0.1438\n",
        "Final error: 0.2671\n",
        "Image: "
       ]
      },
      {
       "output_type": "stream",
       "stream": "stdout",
       "text": [
        " 139\n",
        "Initial error: 0.0942\n",
        "Final error: 0.0993\n",
        "Image:  139\n",
        "Initial error: 0.0859\n",
        "Final error: 0.0970\n",
        "Image: "
       ]
      },
      {
       "output_type": "stream",
       "stream": "stdout",
       "text": [
        " 140\n",
        "Initial error: 0.1917\n",
        "Final error: 0.0330\n",
        "Image:  140\n",
        "Initial error: 0.0591\n",
        "Final error: 0.0306\n",
        "Image: "
       ]
      },
      {
       "output_type": "stream",
       "stream": "stdout",
       "text": [
        " 140\n",
        "Initial error: 0.1335\n",
        "Final error: 0.0988\n",
        "Image:  140\n",
        "Initial error: 0.0887\n",
        "Final error: 0.0319\n",
        "Image: "
       ]
      },
      {
       "output_type": "stream",
       "stream": "stdout",
       "text": [
        " 140\n",
        "Initial error: 0.0683\n",
        "Final error: 0.0392\n",
        "Image:  141\n",
        "Initial error: 0.1797\n",
        "Final error: 0.0443\n",
        "Image: "
       ]
      },
      {
       "output_type": "stream",
       "stream": "stdout",
       "text": [
        " 141\n",
        "Initial error: 0.0452\n",
        "Final error: 0.0419\n",
        "Image:  141\n",
        "Initial error: 0.1330\n",
        "Final error: 0.0487\n",
        "Image: "
       ]
      },
      {
       "output_type": "stream",
       "stream": "stdout",
       "text": [
        " 141\n",
        "Initial error: 0.0821\n",
        "Final error: 0.0545\n",
        "Image:  141\n",
        "Initial error: 0.0623\n",
        "Final error: 0.0453\n",
        "Image: "
       ]
      },
      {
       "output_type": "stream",
       "stream": "stdout",
       "text": [
        " 142\n",
        "Initial error: 0.1790\n",
        "Final error: 0.0905\n",
        "Image:  142\n",
        "Initial error: 0.0657\n",
        "Final error: 0.0492\n",
        "Image: "
       ]
      },
      {
       "output_type": "stream",
       "stream": "stdout",
       "text": [
        " 142\n",
        "Initial error: 0.1414\n",
        "Final error: 0.0445\n",
        "Image:  142\n",
        "Initial error: 0.0909\n",
        "Final error: 0.0480\n",
        "Image: "
       ]
      },
      {
       "output_type": "stream",
       "stream": "stdout",
       "text": [
        " 142\n",
        "Initial error: 0.0819\n",
        "Final error: 0.0444\n",
        "Image:  143\n",
        "Initial error: 0.1839\n",
        "Final error: 0.0611\n",
        "Image: "
       ]
      },
      {
       "output_type": "stream",
       "stream": "stdout",
       "text": [
        " 143\n",
        "Initial error: 0.0980\n",
        "Final error: 0.0351\n",
        "Image:  143\n",
        "Initial error: 0.1591\n",
        "Final error: 0.0345\n",
        "Image: "
       ]
      },
      {
       "output_type": "stream",
       "stream": "stdout",
       "text": [
        " 143\n",
        "Initial error: 0.1135\n",
        "Final error: 0.0365\n",
        "Image:  143\n",
        "Initial error: 0.1100\n",
        "Final error: 0.0397\n",
        "Image: "
       ]
      },
      {
       "output_type": "stream",
       "stream": "stdout",
       "text": [
        " 144\n",
        "Initial error: 0.1811\n",
        "Final error: 0.0598\n",
        "Image:  144\n",
        "Initial error: 0.0565\n",
        "Final error: 0.0388\n",
        "Image: "
       ]
      },
      {
       "output_type": "stream",
       "stream": "stdout",
       "text": [
        " 144\n",
        "Initial error: 0.1386\n",
        "Final error: 0.0351\n",
        "Image:  144\n",
        "Initial error: 0.0872\n",
        "Final error: 0.0466\n",
        "Image: "
       ]
      },
      {
       "output_type": "stream",
       "stream": "stdout",
       "text": [
        " 144\n",
        "Initial error: 0.0732\n",
        "Final error: 0.0450\n",
        "Image:  145\n",
        "Initial error: 0.1812\n",
        "Final error: 0.0914\n",
        "Image: "
       ]
      },
      {
       "output_type": "stream",
       "stream": "stdout",
       "text": [
        " 145\n",
        "Initial error: 0.0645\n",
        "Final error: 0.0660\n",
        "Image:  145\n",
        "Initial error: 0.1396\n",
        "Final error: 0.0681\n",
        "Image: "
       ]
      },
      {
       "output_type": "stream",
       "stream": "stdout",
       "text": [
        " 145\n",
        "Initial error: 0.0900\n",
        "Final error: 0.0887\n",
        "Image:  145\n",
        "Initial error: 0.0825\n",
        "Final error: 0.0709\n",
        "Image: "
       ]
      },
      {
       "output_type": "stream",
       "stream": "stdout",
       "text": [
        " 146\n",
        "Initial error: 0.1895\n",
        "Final error: 0.1131\n",
        "Image:  146\n",
        "Initial error: 0.1089\n",
        "Final error: 0.0703\n",
        "Image: "
       ]
      },
      {
       "output_type": "stream",
       "stream": "stdout",
       "text": [
        " 146\n",
        "Initial error: 0.1581\n",
        "Final error: 0.1205\n",
        "Image:  146\n",
        "Initial error: 0.1262\n",
        "Final error: 0.0679\n",
        "Image: "
       ]
      },
      {
       "output_type": "stream",
       "stream": "stdout",
       "text": [
        " 146\n",
        "Initial error: 0.1156\n",
        "Final error: 0.0899\n",
        "Image:  147\n",
        "Initial error: 0.1796\n",
        "Final error: 0.1084\n",
        "Image: "
       ]
      },
      {
       "output_type": "stream",
       "stream": "stdout",
       "text": [
        " 147\n",
        "Initial error: 0.0628\n",
        "Final error: 0.0565\n",
        "Image:  147\n",
        "Initial error: 0.1391\n",
        "Final error: 0.0377\n",
        "Image: "
       ]
      },
      {
       "output_type": "stream",
       "stream": "stdout",
       "text": [
        " 147\n",
        "Initial error: 0.0897\n",
        "Final error: 0.0973\n",
        "Image:  147\n",
        "Initial error: 0.0731\n",
        "Final error: 0.0430\n",
        "Image: "
       ]
      },
      {
       "output_type": "stream",
       "stream": "stdout",
       "text": [
        " 148\n",
        "Initial error: 0.1932\n",
        "Final error: 0.0441\n",
        "Image:  148\n",
        "Initial error: 0.0708\n",
        "Final error: 0.0385\n",
        "Image: "
       ]
      },
      {
       "output_type": "stream",
       "stream": "stdout",
       "text": [
        " 148\n",
        "Initial error: 0.1353\n",
        "Final error: 0.0425\n",
        "Image:  148\n",
        "Initial error: 0.0936\n",
        "Final error: 0.0426\n",
        "Image: "
       ]
      },
      {
       "output_type": "stream",
       "stream": "stdout",
       "text": [
        " 148\n",
        "Initial error: 0.0754\n",
        "Final error: 0.0468\n",
        "Image:  149\n",
        "Initial error: 0.1861\n",
        "Final error: 0.0401\n",
        "Image: "
       ]
      },
      {
       "output_type": "stream",
       "stream": "stdout",
       "text": [
        " 149\n",
        "Initial error: 0.0586\n",
        "Final error: 0.0430\n",
        "Image:  149\n",
        "Initial error: 0.1346\n",
        "Final error: 0.0429\n",
        "Image: "
       ]
      },
      {
       "output_type": "stream",
       "stream": "stdout",
       "text": [
        " 149\n",
        "Initial error: 0.0845\n",
        "Final error: 0.0384\n",
        "Image:  149\n",
        "Initial error: 0.0694\n",
        "Final error: 0.0406\n",
        "Image: "
       ]
      },
      {
       "output_type": "stream",
       "stream": "stdout",
       "text": [
        " 150\n",
        "Initial error: 0.1816\n",
        "Final error: 0.0406\n",
        "Image:  150\n",
        "Initial error: 0.0576\n",
        "Final error: 0.0433\n",
        "Image: "
       ]
      },
      {
       "output_type": "stream",
       "stream": "stdout",
       "text": [
        " 150\n",
        "Initial error: 0.1376\n",
        "Final error: 0.0395\n",
        "Image:  150\n",
        "Initial error: 0.0863\n",
        "Final error: 0.0463\n",
        "Image: "
       ]
      },
      {
       "output_type": "stream",
       "stream": "stdout",
       "text": [
        " 150\n",
        "Initial error: 0.0701\n",
        "Final error: 0.0366\n",
        "Image:  151\n",
        "Initial error: 0.1910\n",
        "Final error: 0.1820\n",
        "Image: "
       ]
      },
      {
       "output_type": "stream",
       "stream": "stdout",
       "text": [
        " 151\n",
        "Initial error: 0.0641\n",
        "Final error: 0.0354\n",
        "Image:  151\n",
        "Initial error: 0.1338\n",
        "Final error: 0.0447\n",
        "Image: "
       ]
      },
      {
       "output_type": "stream",
       "stream": "stdout",
       "text": [
        " 151\n",
        "Initial error: 0.0858\n",
        "Final error: 0.0323\n",
        "Image:  151\n",
        "Initial error: 0.0703\n",
        "Final error: 0.0396\n",
        "Image: "
       ]
      },
      {
       "output_type": "stream",
       "stream": "stdout",
       "text": [
        " 152\n",
        "Initial error: 0.1782\n",
        "Final error: 0.0362\n",
        "Image:  152\n",
        "Initial error: 0.0456\n",
        "Final error: 0.0372\n",
        "Image: "
       ]
      },
      {
       "output_type": "stream",
       "stream": "stdout",
       "text": [
        " 152\n",
        "Initial error: 0.1372\n",
        "Final error: 0.0386\n",
        "Image:  152\n",
        "Initial error: 0.0760\n",
        "Final error: 0.0329\n",
        "Image: "
       ]
      },
      {
       "output_type": "stream",
       "stream": "stdout",
       "text": [
        " 152\n",
        "Initial error: 0.0688\n",
        "Final error: 0.0361\n",
        "Image:  153\n",
        "Initial error: 0.1838\n",
        "Final error: 0.0641\n",
        "Image: "
       ]
      },
      {
       "output_type": "stream",
       "stream": "stdout",
       "text": [
        " 153\n",
        "Initial error: 0.0794\n",
        "Final error: 0.0650\n",
        "Image:  153\n",
        "Initial error: 0.1423\n",
        "Final error: 0.1407\n",
        "Image: "
       ]
      },
      {
       "output_type": "stream",
       "stream": "stdout",
       "text": [
        " 153\n",
        "Initial error: 0.0972\n",
        "Final error: 0.0571\n",
        "Image:  153\n",
        "Initial error: 0.0868\n",
        "Final error: 0.0644\n",
        "Image: "
       ]
      },
      {
       "output_type": "stream",
       "stream": "stdout",
       "text": [
        " 154\n",
        "Initial error: 0.1841\n",
        "Final error: 0.0786\n",
        "Image:  154\n",
        "Initial error: 0.0840\n",
        "Final error: 0.0766\n",
        "Image: "
       ]
      },
      {
       "output_type": "stream",
       "stream": "stdout",
       "text": [
        " 154\n",
        "Initial error: 0.1520\n",
        "Final error: 0.0682\n",
        "Image:  154\n",
        "Initial error: 0.1050\n",
        "Final error: 0.0775\n",
        "Image: "
       ]
      },
      {
       "output_type": "stream",
       "stream": "stdout",
       "text": [
        " 154\n",
        "Initial error: 0.0996\n",
        "Final error: 0.0773\n",
        "Image:  155\n",
        "Initial error: 0.1897\n",
        "Final error: 0.0665\n",
        "Image: "
       ]
      },
      {
       "output_type": "stream",
       "stream": "stdout",
       "text": [
        " 155\n",
        "Initial error: 0.0873\n",
        "Final error: 0.0695\n",
        "Image:  155\n",
        "Initial error: 0.1545\n",
        "Final error: 0.1228\n",
        "Image: "
       ]
      },
      {
       "output_type": "stream",
       "stream": "stdout",
       "text": [
        " 155\n",
        "Initial error: 0.1103\n",
        "Final error: 0.0772\n",
        "Image:  155\n",
        "Initial error: 0.1013\n",
        "Final error: 0.0682\n",
        "Image: "
       ]
      },
      {
       "output_type": "stream",
       "stream": "stdout",
       "text": [
        " 156\n",
        "Initial error: 0.1783\n",
        "Final error: 0.0242\n",
        "Image:  156\n",
        "Initial error: 0.0790\n",
        "Final error: 0.0351\n",
        "Image: "
       ]
      },
      {
       "output_type": "stream",
       "stream": "stdout",
       "text": [
        " 156\n",
        "Initial error: 0.1448\n",
        "Final error: 0.0216\n",
        "Image:  156\n",
        "Initial error: 0.1011\n",
        "Final error: 0.0365\n",
        "Image: "
       ]
      },
      {
       "output_type": "stream",
       "stream": "stdout",
       "text": [
        " 156\n",
        "Initial error: 0.0891\n",
        "Final error: 0.0263\n",
        "Image:  157\n",
        "Initial error: 0.1821\n",
        "Final error: 0.0504\n",
        "Image: "
       ]
      },
      {
       "output_type": "stream",
       "stream": "stdout",
       "text": [
        " 157\n",
        "Initial error: 0.0651\n",
        "Final error: 0.0518\n",
        "Image:  157\n",
        "Initial error: 0.1423\n",
        "Final error: 0.0512\n",
        "Image: "
       ]
      },
      {
       "output_type": "stream",
       "stream": "stdout",
       "text": [
        " 157\n",
        "Initial error: 0.0901\n",
        "Final error: 0.0551\n",
        "Image:  157\n",
        "Initial error: 0.0807\n",
        "Final error: 0.0410\n",
        "Image: "
       ]
      },
      {
       "output_type": "stream",
       "stream": "stdout",
       "text": [
        " 158\n",
        "Initial error: 0.1771\n",
        "Final error: 0.0572\n",
        "Image:  158\n",
        "Initial error: 0.0905\n",
        "Final error: 0.0236\n",
        "Image: "
       ]
      },
      {
       "output_type": "stream",
       "stream": "stdout",
       "text": [
        " 158\n",
        "Initial error: 0.1510\n",
        "Final error: 0.0251\n",
        "Image:  158\n",
        "Initial error: 0.1118\n",
        "Final error: 0.0455\n",
        "Image: "
       ]
      },
      {
       "output_type": "stream",
       "stream": "stdout",
       "text": [
        " 158\n",
        "Initial error: 0.0999\n",
        "Final error: 0.0301\n",
        "Image:  159\n",
        "Initial error: 0.1785\n",
        "Final error: 0.1941\n",
        "Image: "
       ]
      },
      {
       "output_type": "stream",
       "stream": "stdout",
       "text": [
        " 159\n",
        "Initial error: 0.0718\n",
        "Final error: 0.0350\n",
        "Image:  159\n",
        "Initial error: 0.1425\n",
        "Final error: 0.0425\n",
        "Image: "
       ]
      },
      {
       "output_type": "stream",
       "stream": "stdout",
       "text": [
        " 159\n",
        "Initial error: 0.0938\n",
        "Final error: 0.0371\n",
        "Image:  159\n",
        "Initial error: 0.0818\n",
        "Final error: 0.0419\n",
        "Image: "
       ]
      },
      {
       "output_type": "stream",
       "stream": "stdout",
       "text": [
        " 160\n",
        "Initial error: 0.1793\n",
        "Final error: 0.0317\n",
        "Image:  160\n",
        "Initial error: 0.0877\n",
        "Final error: 0.0377\n",
        "Image: "
       ]
      },
      {
       "output_type": "stream",
       "stream": "stdout",
       "text": [
        " 160\n",
        "Initial error: 0.1455\n",
        "Final error: 0.0293\n",
        "Image:  160\n",
        "Initial error: 0.1064\n",
        "Final error: 0.0344\n",
        "Image: "
       ]
      },
      {
       "output_type": "stream",
       "stream": "stdout",
       "text": [
        " 160\n",
        "Initial error: 0.0890\n",
        "Final error: 0.0283\n",
        "Image:  161\n",
        "Initial error: 0.1833\n",
        "Final error: 0.2386\n",
        "Image: "
       ]
      },
      {
       "output_type": "stream",
       "stream": "stdout",
       "text": [
        " 161\n",
        "Initial error: 0.0835\n",
        "Final error: 0.0155\n",
        "Image:  161\n",
        "Initial error: 0.1464\n",
        "Final error: 0.0226\n",
        "Image: "
       ]
      },
      {
       "output_type": "stream",
       "stream": "stdout",
       "text": [
        " 161\n",
        "Initial error: 0.1013\n",
        "Final error: 0.0239\n",
        "Image:  161\n",
        "Initial error: 0.0942\n",
        "Final error: 0.0345\n",
        "Image: "
       ]
      },
      {
       "output_type": "stream",
       "stream": "stdout",
       "text": [
        " 162\n",
        "Initial error: 0.1836\n",
        "Final error: 0.0532\n",
        "Image:  162\n",
        "Initial error: 0.0770\n",
        "Final error: 0.0570\n",
        "Image: "
       ]
      },
      {
       "output_type": "stream",
       "stream": "stdout",
       "text": [
        " 162\n",
        "Initial error: 0.1510\n",
        "Final error: 0.0516\n",
        "Image:  162\n",
        "Initial error: 0.1050\n",
        "Final error: 0.0562\n",
        "Image: "
       ]
      },
      {
       "output_type": "stream",
       "stream": "stdout",
       "text": [
        " 162\n",
        "Initial error: 0.0965\n",
        "Final error: 0.0537\n",
        "Image:  163\n",
        "Initial error: 0.1900\n",
        "Final error: 0.0666\n",
        "Image: "
       ]
      },
      {
       "output_type": "stream",
       "stream": "stdout",
       "text": [
        " 163\n",
        "Initial error: 0.1170\n",
        "Final error: 0.0749\n",
        "Image:  163\n",
        "Initial error: 0.1616\n",
        "Final error: 0.0676\n",
        "Image: "
       ]
      },
      {
       "output_type": "stream",
       "stream": "stdout",
       "text": [
        " 163\n",
        "Initial error: 0.1333\n",
        "Final error: 0.0702\n",
        "Image:  163\n",
        "Initial error: 0.1228\n",
        "Final error: 0.0720\n",
        "Image: "
       ]
      },
      {
       "output_type": "stream",
       "stream": "stdout",
       "text": [
        " 164\n",
        "Initial error: 0.1789\n",
        "Final error: 0.0419\n",
        "Image:  164\n",
        "Initial error: 0.0874\n",
        "Final error: 0.0402\n",
        "Image: "
       ]
      },
      {
       "output_type": "stream",
       "stream": "stdout",
       "text": [
        " 164\n",
        "Initial error: 0.1460\n",
        "Final error: 0.0426\n",
        "Image:  164\n",
        "Initial error: 0.1029\n",
        "Final error: 0.0416\n",
        "Image: "
       ]
      },
      {
       "output_type": "stream",
       "stream": "stdout",
       "text": [
        " 164\n",
        "Initial error: 0.0952\n",
        "Final error: 0.0415\n",
        "Image:  165\n",
        "Initial error: 0.1960\n",
        "Final error: 0.2625\n",
        "Image: "
       ]
      },
      {
       "output_type": "stream",
       "stream": "stdout",
       "text": [
        " 165\n",
        "Initial error: 0.0779\n",
        "Final error: 0.0766\n",
        "Image:  165\n",
        "Initial error: 0.1327\n",
        "Final error: 0.0730\n",
        "Image: "
       ]
      },
      {
       "output_type": "stream",
       "stream": "stdout",
       "text": [
        " 165\n",
        "Initial error: 0.0999\n",
        "Final error: 0.0688\n",
        "Image:  165\n",
        "Initial error: 0.0820\n",
        "Final error: 0.0701\n",
        "Image: "
       ]
      },
      {
       "output_type": "stream",
       "stream": "stdout",
       "text": [
        " 166\n",
        "Initial error: 0.1784\n",
        "Final error: 0.0336\n",
        "Image:  166\n",
        "Initial error: 0.0537\n",
        "Final error: 0.0341\n",
        "Image: "
       ]
      },
      {
       "output_type": "stream",
       "stream": "stdout",
       "text": [
        " 166\n",
        "Initial error: 0.1379\n",
        "Final error: 0.0313\n",
        "Image:  166\n",
        "Initial error: 0.0856\n",
        "Final error: 0.0344\n",
        "Image: "
       ]
      },
      {
       "output_type": "stream",
       "stream": "stdout",
       "text": [
        " 166\n",
        "Initial error: 0.0731\n",
        "Final error: 0.0309\n",
        "Image:  167\n",
        "Initial error: 0.1795\n",
        "Final error: 0.1781\n",
        "Image: "
       ]
      },
      {
       "output_type": "stream",
       "stream": "stdout",
       "text": [
        " 167\n",
        "Initial error: 0.0821\n",
        "Final error: 0.1012\n",
        "Image:  167\n",
        "Initial error: 0.1438\n",
        "Final error: 0.1074\n",
        "Image: "
       ]
      },
      {
       "output_type": "stream",
       "stream": "stdout",
       "text": [
        " 167\n",
        "Initial error: 0.1023\n",
        "Final error: 0.0888\n",
        "Image:  167\n",
        "Initial error: 0.0897\n",
        "Final error: 0.1113\n",
        "Image: "
       ]
      },
      {
       "output_type": "stream",
       "stream": "stdout",
       "text": [
        " 168\n",
        "Initial error: 0.1799\n",
        "Final error: 0.1387\n",
        "Image:  168\n",
        "Initial error: 0.0522\n",
        "Final error: 0.0588\n",
        "Image: "
       ]
      },
      {
       "output_type": "stream",
       "stream": "stdout",
       "text": [
        " 168\n",
        "Initial error: 0.1354\n",
        "Final error: 0.0992\n",
        "Image:  168\n",
        "Initial error: 0.0858\n",
        "Final error: 0.0340\n",
        "Image: "
       ]
      },
      {
       "output_type": "stream",
       "stream": "stdout",
       "text": [
        " 168\n",
        "Initial error: 0.0672\n",
        "Final error: 0.0758\n",
        "Image:  169\n",
        "Initial error: 0.1794\n",
        "Final error: 0.1234\n",
        "Image: "
       ]
      },
      {
       "output_type": "stream",
       "stream": "stdout",
       "text": [
        " 169\n",
        "Initial error: 0.0825\n",
        "Final error: 0.0952\n",
        "Image:  169\n",
        "Initial error: 0.1431\n",
        "Final error: 0.1275\n",
        "Image: "
       ]
      },
      {
       "output_type": "stream",
       "stream": "stdout",
       "text": [
        " 169\n",
        "Initial error: 0.1021\n",
        "Final error: 0.1034\n",
        "Image:  169\n",
        "Initial error: 0.0881\n",
        "Final error: 0.0957\n",
        "Image: "
       ]
      },
      {
       "output_type": "stream",
       "stream": "stdout",
       "text": [
        " 170\n",
        "Initial error: 0.1911\n",
        "Final error: 0.1755\n",
        "Image:  170\n",
        "Initial error: 0.0902\n",
        "Final error: 0.1004\n",
        "Image: "
       ]
      },
      {
       "output_type": "stream",
       "stream": "stdout",
       "text": [
        " 170\n",
        "Initial error: 0.1520\n",
        "Final error: 0.0640\n",
        "Image:  170\n",
        "Initial error: 0.1132\n",
        "Final error: 0.0959\n",
        "Image: "
       ]
      },
      {
       "output_type": "stream",
       "stream": "stdout",
       "text": [
        " 170\n",
        "Initial error: 0.0968\n",
        "Final error: 0.0974\n",
        "Image:  171\n",
        "Initial error: 0.1969\n",
        "Final error: 0.0953\n",
        "Image: "
       ]
      },
      {
       "output_type": "stream",
       "stream": "stdout",
       "text": [
        " 171\n",
        "Initial error: 0.0731\n",
        "Final error: 0.0873\n",
        "Image:  171\n",
        "Initial error: 0.1372\n",
        "Final error: 0.0792\n",
        "Image: "
       ]
      },
      {
       "output_type": "stream",
       "stream": "stdout",
       "text": [
        " 171\n",
        "Initial error: 0.0981\n",
        "Final error: 0.0556\n",
        "Image:  171\n",
        "Initial error: 0.0779\n",
        "Final error: 0.0723\n",
        "Image: "
       ]
      },
      {
       "output_type": "stream",
       "stream": "stdout",
       "text": [
        " 172\n",
        "Initial error: 0.1773\n",
        "Final error: 0.2041\n",
        "Image:  172\n",
        "Initial error: 0.1020\n",
        "Final error: 0.0331\n",
        "Image: "
       ]
      },
      {
       "output_type": "stream",
       "stream": "stdout",
       "text": [
        " 172\n",
        "Initial error: 0.1560\n",
        "Final error: 0.0316\n",
        "Image:  172\n",
        "Initial error: 0.1197\n",
        "Final error: 0.0305\n",
        "Image: "
       ]
      },
      {
       "output_type": "stream",
       "stream": "stdout",
       "text": [
        " 172\n",
        "Initial error: 0.1082\n",
        "Final error: 0.0354\n",
        "Image:  173\n",
        "Initial error: 0.1832\n",
        "Final error: 0.0385\n",
        "Image: "
       ]
      },
      {
       "output_type": "stream",
       "stream": "stdout",
       "text": [
        " 173\n",
        "Initial error: 0.0517\n",
        "Final error: 0.0368\n",
        "Image:  173\n",
        "Initial error: 0.1335\n",
        "Final error: 0.0369\n",
        "Image: "
       ]
      },
      {
       "output_type": "stream",
       "stream": "stdout",
       "text": [
        " 173\n",
        "Initial error: 0.0857\n",
        "Final error: 0.0377\n",
        "Image:  173\n",
        "Initial error: 0.0628\n",
        "Final error: 0.0370\n",
        "Image: "
       ]
      },
      {
       "output_type": "stream",
       "stream": "stdout",
       "text": [
        " 174\n",
        "Initial error: 0.1909\n",
        "Final error: 0.0684\n",
        "Image:  174\n",
        "Initial error: 0.0725\n",
        "Final error: 0.0641\n",
        "Image: "
       ]
      },
      {
       "output_type": "stream",
       "stream": "stdout",
       "text": [
        " 174\n",
        "Initial error: 0.1372\n",
        "Final error: 0.2355\n",
        "Image:  174\n",
        "Initial error: 0.0911\n",
        "Final error: 0.0623\n",
        "Image: "
       ]
      },
      {
       "output_type": "stream",
       "stream": "stdout",
       "text": [
        " 174\n",
        "Initial error: 0.0830\n",
        "Final error: 0.0602\n",
        "Image:  175\n",
        "Initial error: 0.1796\n",
        "Final error: 0.1315\n",
        "Image: "
       ]
      },
      {
       "output_type": "stream",
       "stream": "stdout",
       "text": [
        " 175\n",
        "Initial error: 0.0932\n",
        "Final error: 0.0420\n",
        "Image:  175\n",
        "Initial error: 0.1566\n",
        "Final error: 0.0468\n",
        "Image: "
       ]
      },
      {
       "output_type": "stream",
       "stream": "stdout",
       "text": [
        " 175\n",
        "Initial error: 0.1127\n",
        "Final error: 0.0506\n",
        "Image: "
       ]
      },
      {
       "output_type": "stream",
       "stream": "stdout",
       "text": [
        " 175\n",
        "Initial error: 0.1089\n",
        "Final error: 0.0421\n",
        "Image:  176\n",
        "Initial error: 0.1809\n",
        "Final error: 0.0701\n",
        "Image: "
       ]
      },
      {
       "output_type": "stream",
       "stream": "stdout",
       "text": [
        " 176\n",
        "Initial error: 0.0500\n",
        "Final error: 0.0782\n",
        "Image:  176\n",
        "Initial error: 0.1377\n",
        "Final error: 0.0619\n",
        "Image: "
       ]
      },
      {
       "output_type": "stream",
       "stream": "stdout",
       "text": [
        " 176\n",
        "Initial error: 0.0840\n",
        "Final error: 0.0652\n",
        "Image:  176\n",
        "Initial error: 0.0740\n",
        "Final error: 0.0671\n",
        "Image: "
       ]
      },
      {
       "output_type": "stream",
       "stream": "stdout",
       "text": [
        " 177\n",
        "Initial error: 0.1730\n",
        "Final error: 0.2344\n",
        "Image:  177\n",
        "Initial error: 0.0622\n",
        "Final error: 0.0603\n",
        "Image: "
       ]
      },
      {
       "output_type": "stream",
       "stream": "stdout",
       "text": [
        " 177\n",
        "Initial error: 0.1377\n",
        "Final error: 0.0515\n",
        "Image:  177\n",
        "Initial error: 0.0907\n",
        "Final error: 0.1099\n",
        "Image: "
       ]
      },
      {
       "output_type": "stream",
       "stream": "stdout",
       "text": [
        " 177\n",
        "Initial error: 0.0738\n",
        "Final error: 0.0540\n",
        "Image:  178\n",
        "Initial error: 0.1828\n",
        "Final error: 0.0377\n",
        "Image: "
       ]
      },
      {
       "output_type": "stream",
       "stream": "stdout",
       "text": [
        " 178\n",
        "Initial error: 0.0501\n",
        "Final error: 0.0401\n",
        "Image:  178\n",
        "Initial error: 0.1364\n",
        "Final error: 0.0343\n",
        "Image: "
       ]
      },
      {
       "output_type": "stream",
       "stream": "stdout",
       "text": [
        " 178\n",
        "Initial error: 0.0849\n",
        "Final error: 0.0300\n",
        "Image:  178\n",
        "Initial error: 0.0696\n",
        "Final error: 0.0426\n",
        "Image: "
       ]
      },
      {
       "output_type": "stream",
       "stream": "stdout",
       "text": [
        " 179\n",
        "Initial error: 0.1807\n",
        "Final error: 0.0541\n",
        "Image:  179\n",
        "Initial error: 0.0730\n",
        "Final error: 0.0585\n",
        "Image: "
       ]
      },
      {
       "output_type": "stream",
       "stream": "stdout",
       "text": [
        " 179\n",
        "Initial error: 0.1395\n",
        "Final error: 0.0586\n",
        "Image:  179\n",
        "Initial error: 0.0925\n",
        "Final error: 0.0555\n",
        "Image: "
       ]
      },
      {
       "output_type": "stream",
       "stream": "stdout",
       "text": [
        " 179\n",
        "Initial error: 0.0807\n",
        "Final error: 0.0597\n",
        "Image:  180\n",
        "Initial error: 0.1952\n",
        "Final error: 0.0668\n",
        "Image: "
       ]
      },
      {
       "output_type": "stream",
       "stream": "stdout",
       "text": [
        " 180\n",
        "Initial error: 0.1493\n",
        "Final error: 0.0523\n",
        "Image:  180\n",
        "Initial error: 0.1790\n",
        "Final error: 0.0666\n",
        "Image: "
       ]
      },
      {
       "output_type": "stream",
       "stream": "stdout",
       "text": [
        " 180\n",
        "Initial error: 0.1618\n",
        "Final error: 0.1396\n",
        "Image:  180\n",
        "Initial error: 0.1458\n",
        "Final error: 0.0562\n",
        "Image: "
       ]
      },
      {
       "output_type": "stream",
       "stream": "stdout",
       "text": [
        " 181\n",
        "Initial error: 0.1765\n",
        "Final error: 0.0284\n",
        "Image:  181\n",
        "Initial error: 0.0553\n",
        "Final error: 0.0280\n",
        "Image: "
       ]
      },
      {
       "output_type": "stream",
       "stream": "stdout",
       "text": [
        " 181\n",
        "Initial error: 0.1381\n",
        "Final error: 0.0822\n",
        "Image:  181\n",
        "Initial error: 0.0874\n",
        "Final error: 0.0251\n",
        "Image: "
       ]
      },
      {
       "output_type": "stream",
       "stream": "stdout",
       "text": [
        " 181\n",
        "Initial error: 0.0729\n",
        "Final error: 0.0246\n",
        "Image:  182\n",
        "Initial error: 0.1832\n",
        "Final error: 0.0357\n",
        "Image: "
       ]
      },
      {
       "output_type": "stream",
       "stream": "stdout",
       "text": [
        " 182\n",
        "Initial error: 0.0430\n",
        "Final error: 0.0430\n",
        "Image:  182\n",
        "Initial error: 0.1341\n",
        "Final error: 0.0405\n",
        "Image: "
       ]
      },
      {
       "output_type": "stream",
       "stream": "stdout",
       "text": [
        " 182\n",
        "Initial error: 0.0850\n",
        "Final error: 0.0325\n",
        "Image:  182\n",
        "Initial error: 0.0658\n",
        "Final error: 0.0432\n",
        "Image: "
       ]
      },
      {
       "output_type": "stream",
       "stream": "stdout",
       "text": [
        " 183\n",
        "Initial error: 0.1748\n",
        "Final error: 0.0868\n",
        "Image:  183\n",
        "Initial error: 0.0644\n",
        "Final error: 0.0313\n",
        "Image: "
       ]
      },
      {
       "output_type": "stream",
       "stream": "stdout",
       "text": [
        " 183\n",
        "Initial error: 0.1427\n",
        "Final error: 0.0432\n",
        "Image:  183\n",
        "Initial error: 0.0958\n",
        "Final error: 0.0284\n",
        "Image: "
       ]
      },
      {
       "output_type": "stream",
       "stream": "stdout",
       "text": [
        " 183\n",
        "Initial error: 0.0805\n",
        "Final error: 0.0313\n",
        "Image:  184\n",
        "Initial error: 0.1790\n",
        "Final error: 0.0397\n",
        "Image: "
       ]
      },
      {
       "output_type": "stream",
       "stream": "stdout",
       "text": [
        " 184\n",
        "Initial error: 0.0483\n",
        "Final error: 0.0425\n",
        "Image:  184\n",
        "Initial error: 0.1362\n",
        "Final error: 0.0416\n",
        "Image: "
       ]
      },
      {
       "output_type": "stream",
       "stream": "stdout",
       "text": [
        " 184\n",
        "Initial error: 0.0777\n",
        "Final error: 0.0422\n",
        "Image:  184\n",
        "Initial error: 0.0648\n",
        "Final error: 0.0401\n",
        "Image: "
       ]
      },
      {
       "output_type": "stream",
       "stream": "stdout",
       "text": [
        " 185\n",
        "Initial error: 0.1775\n",
        "Final error: 0.2488\n",
        "Image:  185\n",
        "Initial error: 0.0487\n",
        "Final error: 0.0459\n",
        "Image: "
       ]
      },
      {
       "output_type": "stream",
       "stream": "stdout",
       "text": [
        " 185\n",
        "Initial error: 0.1357\n",
        "Final error: 0.0476\n",
        "Image:  185\n",
        "Initial error: 0.0793\n",
        "Final error: 0.0404\n",
        "Image: "
       ]
      },
      {
       "output_type": "stream",
       "stream": "stdout",
       "text": [
        " 185\n",
        "Initial error: 0.0666\n",
        "Final error: 0.0410\n",
        "Image:  186\n",
        "Initial error: 0.1838\n",
        "Final error: 0.0477\n",
        "Image: "
       ]
      },
      {
       "output_type": "stream",
       "stream": "stdout",
       "text": [
        " 186\n",
        "Initial error: 0.0635\n",
        "Final error: 0.0423\n",
        "Image:  186\n",
        "Initial error: 0.1395\n",
        "Final error: 0.0485\n",
        "Image: "
       ]
      },
      {
       "output_type": "stream",
       "stream": "stdout",
       "text": [
        " 186\n",
        "Initial error: 0.0958\n",
        "Final error: 0.0429\n",
        "Image:  186\n",
        "Initial error: 0.0805\n",
        "Final error: 0.0494\n",
        "Image: "
       ]
      },
      {
       "output_type": "stream",
       "stream": "stdout",
       "text": [
        " 187\n",
        "Initial error: 0.1818\n",
        "Final error: 0.0446\n",
        "Image:  187\n",
        "Initial error: 0.0479\n",
        "Final error: 0.0321\n",
        "Image: "
       ]
      },
      {
       "output_type": "stream",
       "stream": "stdout",
       "text": [
        " 187\n",
        "Initial error: 0.1326\n",
        "Final error: 0.0379\n",
        "Image:  187\n",
        "Initial error: 0.0833\n",
        "Final error: 0.0333\n",
        "Image: "
       ]
      },
      {
       "output_type": "stream",
       "stream": "stdout",
       "text": [
        " 187\n",
        "Initial error: 0.0632\n",
        "Final error: 0.0335\n",
        "Image:  188\n",
        "Initial error: 0.1917\n",
        "Final error: 0.0791\n",
        "Image: "
       ]
      },
      {
       "output_type": "stream",
       "stream": "stdout",
       "text": [
        " 188\n",
        "Initial error: 0.1271\n",
        "Final error: 0.0281\n",
        "Image:  188\n",
        "Initial error: 0.1699\n",
        "Final error: 0.0299\n",
        "Image: "
       ]
      },
      {
       "output_type": "stream",
       "stream": "stdout",
       "text": [
        " 188\n",
        "Initial error: 0.1392\n",
        "Final error: 0.0317\n",
        "Image:  188\n",
        "Initial error: 0.1312\n",
        "Final error: 0.0491\n",
        "Image: "
       ]
      },
      {
       "output_type": "stream",
       "stream": "stdout",
       "text": [
        " 189\n",
        "Initial error: 0.1985\n",
        "Final error: 0.0582\n",
        "Image:  189\n",
        "Initial error: 0.0755\n",
        "Final error: 0.0792\n",
        "Image: "
       ]
      },
      {
       "output_type": "stream",
       "stream": "stdout",
       "text": [
        " 189\n",
        "Initial error: 0.1356\n",
        "Final error: 0.0841\n",
        "Image:  189\n",
        "Initial error: 0.0958\n",
        "Final error: 0.0581\n",
        "Image: "
       ]
      },
      {
       "output_type": "stream",
       "stream": "stdout",
       "text": [
        " 189\n",
        "Initial error: 0.0862\n",
        "Final error: 0.0805\n",
        "Image:  190\n",
        "Initial error: 0.1840\n",
        "Final error: 0.0929\n",
        "Image: "
       ]
      },
      {
       "output_type": "stream",
       "stream": "stdout",
       "text": [
        " 190\n",
        "Initial error: 0.0741\n",
        "Final error: 0.0955\n",
        "Image:  190\n",
        "Initial error: 0.1460\n",
        "Final error: 0.1287\n",
        "Image: "
       ]
      },
      {
       "output_type": "stream",
       "stream": "stdout",
       "text": [
        " 190\n",
        "Initial error: 0.1024\n",
        "Final error: 0.1588\n",
        "Image:  190\n",
        "Initial error: 0.0896\n",
        "Final error: 0.0902\n",
        "Image: "
       ]
      },
      {
       "output_type": "stream",
       "stream": "stdout",
       "text": [
        " 191\n",
        "Initial error: 0.1812\n",
        "Final error: 0.0785\n",
        "Image:  191\n",
        "Initial error: 0.0367\n",
        "Final error: 0.0819\n",
        "Image: "
       ]
      },
      {
       "output_type": "stream",
       "stream": "stdout",
       "text": [
        " 191\n",
        "Initial error: 0.1323\n",
        "Final error: 0.1591\n",
        "Image:  191\n",
        "Initial error: 0.0784\n",
        "Final error: 0.0750\n",
        "Image: "
       ]
      },
      {
       "output_type": "stream",
       "stream": "stdout",
       "text": [
        " 191\n",
        "Initial error: 0.0606\n",
        "Final error: 0.0773\n",
        "Image:  192\n",
        "Initial error: 0.1704\n",
        "Final error: 0.0981\n",
        "Image: "
       ]
      },
      {
       "output_type": "stream",
       "stream": "stdout",
       "text": [
        " 192\n",
        "Initial error: 0.0545\n",
        "Final error: 0.0908\n",
        "Image:  192\n",
        "Initial error: 0.1415\n",
        "Final error: 0.1083\n",
        "Image: "
       ]
      },
      {
       "output_type": "stream",
       "stream": "stdout",
       "text": [
        " 192\n",
        "Initial error: 0.0827\n",
        "Final error: 0.0896\n",
        "Image:  192\n",
        "Initial error: 0.0757\n",
        "Final error: 0.1004\n",
        "Image: "
       ]
      },
      {
       "output_type": "stream",
       "stream": "stdout",
       "text": [
        " 193\n",
        "Initial error: 0.1858\n",
        "Final error: 0.0645\n",
        "Image:  193\n",
        "Initial error: 0.0602\n",
        "Final error: 0.0694\n",
        "Image: "
       ]
      },
      {
       "output_type": "stream",
       "stream": "stdout",
       "text": [
        " 193\n",
        "Initial error: 0.1365\n",
        "Final error: 0.0758\n",
        "Image:  193\n",
        "Initial error: 0.0919\n",
        "Final error: 0.0670\n",
        "Image: "
       ]
      },
      {
       "output_type": "stream",
       "stream": "stdout",
       "text": [
        " 193\n",
        "Initial error: 0.0709\n",
        "Final error: 0.0594\n",
        "Image:  194\n",
        "Initial error: 0.1925\n",
        "Final error: 0.0539\n",
        "Image: "
       ]
      },
      {
       "output_type": "stream",
       "stream": "stdout",
       "text": [
        " 194\n",
        "Initial error: 0.0718\n",
        "Final error: 0.0457\n",
        "Image:  194\n",
        "Initial error: 0.1338\n",
        "Final error: 0.0413\n",
        "Image: "
       ]
      },
      {
       "output_type": "stream",
       "stream": "stdout",
       "text": [
        " 194\n",
        "Initial error: 0.0905\n",
        "Final error: 0.0528\n",
        "Image:  194\n",
        "Initial error: 0.0794\n",
        "Final error: 0.0801\n",
        "Image: "
       ]
      },
      {
       "output_type": "stream",
       "stream": "stdout",
       "text": [
        " 195\n",
        "Initial error: 0.1818\n",
        "Final error: 0.0322\n",
        "Image:  195\n",
        "Initial error: 0.0623\n",
        "Final error: 0.0320\n",
        "Image: "
       ]
      },
      {
       "output_type": "stream",
       "stream": "stdout",
       "text": [
        " 195\n",
        "Initial error: 0.1398\n",
        "Final error: 0.0354\n",
        "Image:  195\n",
        "Initial error: 0.0904\n",
        "Final error: 0.0433\n",
        "Image: "
       ]
      },
      {
       "output_type": "stream",
       "stream": "stdout",
       "text": [
        " 195\n",
        "Initial error: 0.0760\n",
        "Final error: 0.0341\n",
        "Image:  196\n",
        "Initial error: 0.1790\n",
        "Final error: 0.2861\n",
        "Image: "
       ]
      },
      {
       "output_type": "stream",
       "stream": "stdout",
       "text": [
        " 196\n",
        "Initial error: 0.0730\n",
        "Final error: 0.1531\n",
        "Image:  196\n",
        "Initial error: 0.1489\n",
        "Final error: 0.1471\n",
        "Image: "
       ]
      },
      {
       "output_type": "stream",
       "stream": "stdout",
       "text": [
        " 196\n",
        "Initial error: 0.1011\n",
        "Final error: 0.1404\n",
        "Image:  196\n",
        "Initial error: 0.0902\n",
        "Final error: 0.1516\n",
        "Image: "
       ]
      },
      {
       "output_type": "stream",
       "stream": "stdout",
       "text": [
        " 197\n",
        "Initial error: 0.1888\n",
        "Final error: 0.0402\n",
        "Image:  197\n",
        "Initial error: 0.0891\n",
        "Final error: 0.0486\n",
        "Image: "
       ]
      },
      {
       "output_type": "stream",
       "stream": "stdout",
       "text": [
        " 197\n",
        "Initial error: 0.1502\n",
        "Final error: 0.0420\n",
        "Image:  197\n",
        "Initial error: 0.1039\n",
        "Final error: 0.0476\n",
        "Image: "
       ]
      },
      {
       "output_type": "stream",
       "stream": "stdout",
       "text": [
        " 197\n",
        "Initial error: 0.0992\n",
        "Final error: 0.0481\n",
        "Image:  198\n",
        "Initial error: 0.1818\n",
        "Final error: 0.2479\n",
        "Image: "
       ]
      },
      {
       "output_type": "stream",
       "stream": "stdout",
       "text": [
        " 198\n",
        "Initial error: 0.0766\n",
        "Final error: 0.0896\n",
        "Image:  198\n",
        "Initial error: 0.1408\n",
        "Final error: 0.0489\n",
        "Image: "
       ]
      },
      {
       "output_type": "stream",
       "stream": "stdout",
       "text": [
        " 198\n",
        "Initial error: 0.0955\n",
        "Final error: 0.0763\n",
        "Image:  198\n",
        "Initial error: 0.0837\n",
        "Final error: 0.0545\n",
        "Image: "
       ]
      },
      {
       "output_type": "stream",
       "stream": "stdout",
       "text": [
        " 199\n",
        "Initial error: 0.1772\n",
        "Final error: 0.0606\n",
        "Image:  199\n",
        "Initial error: 0.0524\n",
        "Final error: 0.0674\n",
        "Image: "
       ]
      },
      {
       "output_type": "stream",
       "stream": "stdout",
       "text": [
        " 199\n",
        "Initial error: 0.1368\n",
        "Final error: 0.0599\n",
        "Image:  199\n",
        "Initial error: 0.0786\n",
        "Final error: 0.0622\n",
        "Image: "
       ]
      },
      {
       "output_type": "stream",
       "stream": "stdout",
       "text": [
        " 199\n",
        "Initial error: 0.0666\n",
        "Final error: 0.0641\n",
        "Image:  200\n",
        "Initial error: 0.1819\n",
        "Final error: 0.0783\n",
        "Image: "
       ]
      },
      {
       "output_type": "stream",
       "stream": "stdout",
       "text": [
        " 200\n",
        "Initial error: 0.0779\n",
        "Final error: 0.0597\n",
        "Image:  200\n",
        "Initial error: 0.1485\n",
        "Final error: 0.0735\n",
        "Image: "
       ]
      },
      {
       "output_type": "stream",
       "stream": "stdout",
       "text": [
        " 200\n",
        "Initial error: 0.1051\n",
        "Final error: 0.0632\n",
        "Image:  200\n",
        "Initial error: 0.0943\n",
        "Final error: 0.0680\n",
        "Image: "
       ]
      },
      {
       "output_type": "stream",
       "stream": "stdout",
       "text": [
        " 201\n",
        "Initial error: 0.1784\n",
        "Final error: 0.2250\n",
        "Image:  201\n",
        "Initial error: 0.0526\n",
        "Final error: 0.0437\n",
        "Image: "
       ]
      },
      {
       "output_type": "stream",
       "stream": "stdout",
       "text": [
        " 201\n",
        "Initial error: 0.1338\n",
        "Final error: 0.0361\n",
        "Image:  201\n",
        "Initial error: 0.0858\n",
        "Final error: 0.0373\n",
        "Image: "
       ]
      },
      {
       "output_type": "stream",
       "stream": "stdout",
       "text": [
        " 201\n",
        "Initial error: 0.0671\n",
        "Final error: 0.0372\n",
        "Image:  202\n",
        "Initial error: 0.1789\n",
        "Final error: 0.0507\n",
        "Image: "
       ]
      },
      {
       "output_type": "stream",
       "stream": "stdout",
       "text": [
        " 202\n",
        "Initial error: 0.0466\n",
        "Final error: 0.0352\n",
        "Image:  202\n",
        "Initial error: 0.1344\n",
        "Final error: 0.0579\n",
        "Image: "
       ]
      },
      {
       "output_type": "stream",
       "stream": "stdout",
       "text": [
        " 202\n",
        "Initial error: 0.0819\n",
        "Final error: 0.0343\n",
        "Image:  202\n",
        "Initial error: 0.0671\n",
        "Final error: 0.0505\n",
        "Image: "
       ]
      },
      {
       "output_type": "stream",
       "stream": "stdout",
       "text": [
        " 203\n",
        "Initial error: 0.1956\n",
        "Final error: 0.1544\n",
        "Image:  203\n",
        "Initial error: 0.0683\n",
        "Final error: 0.0746\n",
        "Image: "
       ]
      },
      {
       "output_type": "stream",
       "stream": "stdout",
       "text": [
        " 203\n",
        "Initial error: 0.1330\n",
        "Final error: 0.0642\n",
        "Image:  203\n",
        "Initial error: 0.0948\n",
        "Final error: 0.0594\n",
        "Image: "
       ]
      },
      {
       "output_type": "stream",
       "stream": "stdout",
       "text": [
        " 203\n",
        "Initial error: 0.0786\n",
        "Final error: 0.0683\n",
        "Image:  204\n",
        "Initial error: 0.1782\n",
        "Final error: 0.1457\n",
        "Image: "
       ]
      },
      {
       "output_type": "stream",
       "stream": "stdout",
       "text": [
        " 204\n",
        "Initial error: 0.0626\n",
        "Final error: 0.0372\n",
        "Image:  204\n",
        "Initial error: 0.1389\n",
        "Final error: 0.0326\n",
        "Image: "
       ]
      },
      {
       "output_type": "stream",
       "stream": "stdout",
       "text": [
        " 204\n",
        "Initial error: 0.0868\n",
        "Final error: 0.0510\n",
        "Image:  204\n",
        "Initial error: 0.0686\n",
        "Final error: 0.0365\n",
        "Image: "
       ]
      },
      {
       "output_type": "stream",
       "stream": "stdout",
       "text": [
        " 205\n",
        "Initial error: 0.1758\n",
        "Final error: 0.0685\n",
        "Image:  205\n",
        "Initial error: 0.0593\n",
        "Final error: 0.0434\n",
        "Image: "
       ]
      },
      {
       "output_type": "stream",
       "stream": "stdout",
       "text": [
        " 205\n",
        "Initial error: 0.1369\n",
        "Final error: 0.0485\n",
        "Image:  205\n",
        "Initial error: 0.0890\n",
        "Final error: 0.0472\n",
        "Image: "
       ]
      },
      {
       "output_type": "stream",
       "stream": "stdout",
       "text": [
        " 205\n",
        "Initial error: 0.0718\n",
        "Final error: 0.0485\n",
        "Image:  206\n",
        "Initial error: 0.1874\n",
        "Final error: 0.0548\n",
        "Image: "
       ]
      },
      {
       "output_type": "stream",
       "stream": "stdout",
       "text": [
        " 206\n",
        "Initial error: 0.0988\n",
        "Final error: 0.0477\n",
        "Image:  206\n",
        "Initial error: 0.1590\n",
        "Final error: 0.0543\n",
        "Image: "
       ]
      },
      {
       "output_type": "stream",
       "stream": "stdout",
       "text": [
        " 206\n",
        "Initial error: 0.1177\n",
        "Final error: 0.0493\n",
        "Image:  206\n",
        "Initial error: 0.1090\n",
        "Final error: 0.0589\n",
        "Image: "
       ]
      },
      {
       "output_type": "stream",
       "stream": "stdout",
       "text": [
        " 207\n",
        "Initial error: 0.1891\n",
        "Final error: 0.0345\n",
        "Image:  207\n",
        "Initial error: 0.0791\n",
        "Final error: 0.0373\n",
        "Image: "
       ]
      },
      {
       "output_type": "stream",
       "stream": "stdout",
       "text": [
        " 207\n",
        "Initial error: 0.1485\n",
        "Final error: 0.0358\n",
        "Image:  207\n",
        "Initial error: 0.1080\n",
        "Final error: 0.0354\n",
        "Image: "
       ]
      },
      {
       "output_type": "stream",
       "stream": "stdout",
       "text": [
        " 207\n",
        "Initial error: 0.0941\n",
        "Final error: 0.0411\n",
        "Image:  208\n",
        "Initial error: 0.1867\n",
        "Final error: 0.0663\n",
        "Image: "
       ]
      },
      {
       "output_type": "stream",
       "stream": "stdout",
       "text": [
        " 208\n",
        "Initial error: 0.0719\n",
        "Final error: 0.0631\n",
        "Image:  208\n",
        "Initial error: 0.1435\n",
        "Final error: 0.0613\n",
        "Image: "
       ]
      },
      {
       "output_type": "stream",
       "stream": "stdout",
       "text": [
        " 208\n",
        "Initial error: 0.1005\n",
        "Final error: 0.0580\n",
        "Image:  208\n",
        "Initial error: 0.0876\n",
        "Final error: 0.0689\n",
        "Image: "
       ]
      },
      {
       "output_type": "stream",
       "stream": "stdout",
       "text": [
        " 209\n",
        "Initial error: 0.1900\n",
        "Final error: 0.0475\n",
        "Image:  209\n",
        "Initial error: 0.0534\n",
        "Final error: 0.0496\n",
        "Image: "
       ]
      },
      {
       "output_type": "stream",
       "stream": "stdout",
       "text": [
        " 209\n",
        "Initial error: 0.1328\n",
        "Final error: 0.0473\n",
        "Image:  209\n",
        "Initial error: 0.0894\n",
        "Final error: 0.0496\n",
        "Image: "
       ]
      },
      {
       "output_type": "stream",
       "stream": "stdout",
       "text": [
        " 209\n",
        "Initial error: 0.0648\n",
        "Final error: 0.0537\n",
        "Image:  210\n",
        "Initial error: 0.1814\n",
        "Final error: 0.3303\n",
        "Image: "
       ]
      },
      {
       "output_type": "stream",
       "stream": "stdout",
       "text": [
        " 210\n",
        "Initial error: 0.0725\n",
        "Final error: 0.0332\n",
        "Image:  210\n",
        "Initial error: 0.1428\n",
        "Final error: 0.0403\n",
        "Image: "
       ]
      },
      {
       "output_type": "stream",
       "stream": "stdout",
       "text": [
        " 210\n",
        "Initial error: 0.0937\n",
        "Final error: 0.0387\n",
        "Image:  210\n",
        "Initial error: 0.0852\n",
        "Final error: 0.0362\n",
        "Image: "
       ]
      },
      {
       "output_type": "stream",
       "stream": "stdout",
       "text": [
        " 211\n",
        "Initial error: 0.1814\n",
        "Final error: 0.0851\n",
        "Image:  211\n",
        "Initial error: 0.0870\n",
        "Final error: 0.0439\n",
        "Image: "
       ]
      },
      {
       "output_type": "stream",
       "stream": "stdout",
       "text": [
        " 211\n",
        "Initial error: 0.1530\n",
        "Final error: 0.0385\n",
        "Image:  211\n",
        "Initial error: 0.1090\n",
        "Final error: 0.0388\n",
        "Image: "
       ]
      },
      {
       "output_type": "stream",
       "stream": "stdout",
       "text": [
        " 211\n",
        "Initial error: 0.1030\n",
        "Final error: 0.0572\n",
        "Image:  212\n",
        "Initial error: 0.1884\n",
        "Final error: 0.0311\n",
        "Image: "
       ]
      },
      {
       "output_type": "stream",
       "stream": "stdout",
       "text": [
        " 212\n",
        "Initial error: 0.0460\n",
        "Final error: 0.0309\n",
        "Image:  212\n",
        "Initial error: 0.1332\n",
        "Final error: 0.0283\n",
        "Image: "
       ]
      },
      {
       "output_type": "stream",
       "stream": "stdout",
       "text": [
        " 212\n",
        "Initial error: 0.0845\n",
        "Final error: 0.0315\n",
        "Image:  212\n",
        "Initial error: 0.0649\n",
        "Final error: 0.0315\n",
        "Image: "
       ]
      },
      {
       "output_type": "stream",
       "stream": "stdout",
       "text": [
        " 213\n",
        "Initial error: 0.1799\n",
        "Final error: 0.0476\n",
        "Image:  213\n",
        "Initial error: 0.0692\n",
        "Final error: 0.0515\n",
        "Image: "
       ]
      },
      {
       "output_type": "stream",
       "stream": "stdout",
       "text": [
        " 213\n",
        "Initial error: 0.1416\n",
        "Final error: 0.0488\n",
        "Image:  213\n",
        "Initial error: 0.0921\n",
        "Final error: 0.0577\n",
        "Image: "
       ]
      },
      {
       "output_type": "stream",
       "stream": "stdout",
       "text": [
        " 213\n",
        "Initial error: 0.0830\n",
        "Final error: 0.0550\n",
        "Image:  214\n",
        "Initial error: 0.1771\n",
        "Final error: 0.0731\n",
        "Image: "
       ]
      },
      {
       "output_type": "stream",
       "stream": "stdout",
       "text": [
        " 214\n",
        "Initial error: 0.0623\n",
        "Final error: 0.0649\n",
        "Image:  214\n",
        "Initial error: 0.1416\n",
        "Final error: 0.0596\n",
        "Image: "
       ]
      },
      {
       "output_type": "stream",
       "stream": "stdout",
       "text": [
        " 214\n",
        "Initial error: 0.0891\n",
        "Final error: 0.0532\n",
        "Image:  214\n",
        "Initial error: 0.0804\n",
        "Final error: 0.0684\n",
        "Image: "
       ]
      },
      {
       "output_type": "stream",
       "stream": "stdout",
       "text": [
        " 215\n",
        "Initial error: 0.1792\n",
        "Final error: 0.0927\n",
        "Image:  215\n",
        "Initial error: 0.0768\n",
        "Final error: 0.0904\n",
        "Image: "
       ]
      },
      {
       "output_type": "stream",
       "stream": "stdout",
       "text": [
        " 215\n",
        "Initial error: 0.1490\n",
        "Final error: 0.0999\n",
        "Image:  215\n",
        "Initial error: 0.1026\n",
        "Final error: 0.0906\n",
        "Image: "
       ]
      },
      {
       "output_type": "stream",
       "stream": "stdout",
       "text": [
        " 215\n",
        "Initial error: 0.0920\n",
        "Final error: 0.0917\n",
        "Image:  216\n",
        "Initial error: 0.1737\n",
        "Final error: 0.0853\n",
        "Image: "
       ]
      },
      {
       "output_type": "stream",
       "stream": "stdout",
       "text": [
        " 216\n",
        "Initial error: 0.0669\n",
        "Final error: 0.0399\n",
        "Image:  216\n",
        "Initial error: 0.1483\n",
        "Final error: 0.0443\n",
        "Image: "
       ]
      },
      {
       "output_type": "stream",
       "stream": "stdout",
       "text": [
        " 216\n",
        "Initial error: 0.0946\n",
        "Final error: 0.0487\n",
        "Image:  216\n",
        "Initial error: 0.0892\n",
        "Final error: 0.0511\n",
        "Image: "
       ]
      },
      {
       "output_type": "stream",
       "stream": "stdout",
       "text": [
        " 217\n",
        "Initial error: 0.1771\n",
        "Final error: 0.0553\n",
        "Image:  217\n",
        "Initial error: 0.0458\n",
        "Final error: 0.0600\n",
        "Image: "
       ]
      },
      {
       "output_type": "stream",
       "stream": "stdout",
       "text": [
        " 217\n",
        "Initial error: 0.1330\n",
        "Final error: 0.0523\n",
        "Image:  217\n",
        "Initial error: 0.0834\n",
        "Final error: 0.0463\n",
        "Image: "
       ]
      },
      {
       "output_type": "stream",
       "stream": "stdout",
       "text": [
        " 217\n",
        "Initial error: 0.0622\n",
        "Final error: 0.0502\n",
        "Image:  218\n",
        "Initial error: 0.1763\n",
        "Final error: 0.0406\n",
        "Image: "
       ]
      },
      {
       "output_type": "stream",
       "stream": "stdout",
       "text": [
        " 218\n",
        "Initial error: 0.0536\n",
        "Final error: 0.0403\n",
        "Image:  218\n",
        "Initial error: 0.1383\n",
        "Final error: 0.0494\n",
        "Image: "
       ]
      },
      {
       "output_type": "stream",
       "stream": "stdout",
       "text": [
        " 218\n",
        "Initial error: 0.0870\n",
        "Final error: 0.0464\n",
        "Image:  218\n",
        "Initial error: 0.0707\n",
        "Final error: 0.0416\n",
        "Image: "
       ]
      },
      {
       "output_type": "stream",
       "stream": "stdout",
       "text": [
        " 219\n",
        "Initial error: 0.1786\n",
        "Final error: 0.1688\n",
        "Image:  219\n",
        "Initial error: 0.0542\n",
        "Final error: 0.0568\n",
        "Image: "
       ]
      },
      {
       "output_type": "stream",
       "stream": "stdout",
       "text": [
        " 219\n",
        "Initial error: 0.1348\n",
        "Final error: 0.0536\n",
        "Image:  219\n",
        "Initial error: 0.0806\n",
        "Final error: 0.0554\n",
        "Image: "
       ]
      },
      {
       "output_type": "stream",
       "stream": "stdout",
       "text": [
        " 219\n",
        "Initial error: 0.0689\n",
        "Final error: 0.0536\n",
        "Image:  220\n",
        "Initial error: 0.1840\n",
        "Final error: 0.0349\n",
        "Image: "
       ]
      },
      {
       "output_type": "stream",
       "stream": "stdout",
       "text": [
        " 220\n",
        "Initial error: 0.0642\n",
        "Final error: 0.0314\n",
        "Image:  220\n",
        "Initial error: 0.1414\n",
        "Final error: 0.0333\n",
        "Image: "
       ]
      },
      {
       "output_type": "stream",
       "stream": "stdout",
       "text": [
        " 220\n",
        "Initial error: 0.0906\n",
        "Final error: 0.0369\n",
        "Image:  220\n",
        "Initial error: 0.0819\n",
        "Final error: 0.0284\n",
        "Image: "
       ]
      },
      {
       "output_type": "stream",
       "stream": "stdout",
       "text": [
        " 221\n",
        "Initial error: 0.1798\n",
        "Final error: 0.0696\n",
        "Image:  221\n",
        "Initial error: 0.0878\n",
        "Final error: 0.0760\n",
        "Image: "
       ]
      },
      {
       "output_type": "stream",
       "stream": "stdout",
       "text": [
        " 221\n",
        "Initial error: 0.1544\n",
        "Final error: 0.0724\n",
        "Image:  221\n",
        "Initial error: 0.1063\n",
        "Final error: 0.0692\n",
        "Image: "
       ]
      },
      {
       "output_type": "stream",
       "stream": "stdout",
       "text": [
        " 221\n",
        "Initial error: 0.1017\n",
        "Final error: 0.0681\n",
        "Image:  222\n",
        "Initial error: 0.1831\n",
        "Final error: 0.2635\n",
        "Image: "
       ]
      },
      {
       "output_type": "stream",
       "stream": "stdout",
       "text": [
        " 222\n",
        "Initial error: 0.0525\n",
        "Final error: 0.0554\n",
        "Image:  222\n",
        "Initial error: 0.1337\n",
        "Final error: 0.0548\n",
        "Image: "
       ]
      },
      {
       "output_type": "stream",
       "stream": "stdout",
       "text": [
        " 222\n",
        "Initial error: 0.0821\n",
        "Final error: 0.0605\n",
        "Image:  222\n",
        "Initial error: 0.0665\n",
        "Final error: 0.0529\n",
        "Image: "
       ]
      },
      {
       "output_type": "stream",
       "stream": "stdout",
       "text": [
        " 223\n",
        "Initial error: 0.1753\n",
        "Final error: 0.1987\n",
        "Image:  223\n",
        "Initial error: 0.0568\n",
        "Final error: 0.0323\n",
        "Image: "
       ]
      },
      {
       "output_type": "stream",
       "stream": "stdout",
       "text": [
        " 223\n",
        "Initial error: 0.1417\n",
        "Final error: 0.0284\n",
        "Image:  223\n",
        "Initial error: 0.0871\n",
        "Final error: 0.0289\n",
        "Image: "
       ]
      },
      {
       "output_type": "stream",
       "stream": "stdout",
       "text": [
        " 223\n",
        "Initial error: 0.0767\n",
        "Final error: 0.0262\n",
        "Image:  224\n",
        "Initial error: 0.1834\n",
        "Final error: 0.3036\n",
        "Image: "
       ]
      },
      {
       "output_type": "stream",
       "stream": "stdout",
       "text": [
        " 224\n",
        "Initial error: 0.0614\n",
        "Final error: 0.0572\n",
        "Image:  224\n",
        "Initial error: 0.1372\n",
        "Final error: 0.0622\n",
        "Image: "
       ]
      },
      {
       "output_type": "stream",
       "stream": "stdout",
       "text": [
        " 224\n",
        "Initial error: 0.0868\n",
        "Final error: 0.0640\n",
        "Image:  224\n",
        "Initial error: 0.0706\n",
        "Final error: 0.0539\n",
        "Image: "
       ]
      },
      {
       "output_type": "stream",
       "stream": "stdout",
       "text": [
        " 225\n",
        "Initial error: 0.1809\n",
        "Final error: 0.2250\n",
        "Image:  225\n",
        "Initial error: 0.0725\n",
        "Final error: 0.0339\n",
        "Image: "
       ]
      },
      {
       "output_type": "stream",
       "stream": "stdout",
       "text": [
        " 225\n",
        "Initial error: 0.1414\n",
        "Final error: 0.0636\n",
        "Image:  225\n",
        "Initial error: 0.0910\n",
        "Final error: 0.0539\n",
        "Image: "
       ]
      },
      {
       "output_type": "stream",
       "stream": "stdout",
       "text": [
        " 225\n",
        "Initial error: 0.0766\n",
        "Final error: 0.0547\n",
        "Image:  226\n",
        "Initial error: 0.1766\n",
        "Final error: 0.0471\n",
        "Image: "
       ]
      },
      {
       "output_type": "stream",
       "stream": "stdout",
       "text": [
        " 226\n",
        "Initial error: 0.0400\n",
        "Final error: 0.0505\n",
        "Image:  226\n",
        "Initial error: 0.1344\n",
        "Final error: 0.0459\n",
        "Image: "
       ]
      },
      {
       "output_type": "stream",
       "stream": "stdout",
       "text": [
        " 226\n",
        "Initial error: 0.0752\n",
        "Final error: 0.0514\n",
        "Image:  226\n",
        "Initial error: 0.0618\n",
        "Final error: 0.0448\n",
        "Image: "
       ]
      },
      {
       "output_type": "stream",
       "stream": "stdout",
       "text": [
        " 227\n",
        "Initial error: 0.1806\n",
        "Final error: 0.2415\n",
        "Image:  227\n",
        "Initial error: 0.0634\n",
        "Final error: 0.0543\n",
        "Image: "
       ]
      },
      {
       "output_type": "stream",
       "stream": "stdout",
       "text": [
        " 227\n",
        "Initial error: 0.1444\n",
        "Final error: 0.0652\n",
        "Image:  227\n",
        "Initial error: 0.0850\n",
        "Final error: 0.0561\n",
        "Image: "
       ]
      },
      {
       "output_type": "stream",
       "stream": "stdout",
       "text": [
        " 227\n",
        "Initial error: 0.0837\n",
        "Final error: 0.0693\n",
        "Image:  228\n",
        "Initial error: 0.1902\n",
        "Final error: 0.0370\n",
        "Image: "
       ]
      },
      {
       "output_type": "stream",
       "stream": "stdout",
       "text": [
        " 228\n",
        "Initial error: 0.0567\n",
        "Final error: 0.0319\n",
        "Image:  228\n",
        "Initial error: 0.1326\n",
        "Final error: 0.0340\n",
        "Image: "
       ]
      },
      {
       "output_type": "stream",
       "stream": "stdout",
       "text": [
        " 228\n",
        "Initial error: 0.0906\n",
        "Final error: 0.0442\n",
        "Image:  228\n",
        "Initial error: 0.0688\n",
        "Final error: 0.0410\n",
        "Image: "
       ]
      },
      {
       "output_type": "stream",
       "stream": "stdout",
       "text": [
        " 229\n",
        "Initial error: 0.1780\n",
        "Final error: 0.0635\n",
        "Image:  229\n",
        "Initial error: 0.0597\n",
        "Final error: 0.0619\n",
        "Image: "
       ]
      },
      {
       "output_type": "stream",
       "stream": "stdout",
       "text": [
        " 229\n",
        "Initial error: 0.1373\n",
        "Final error: 0.0337\n",
        "Image:  229\n",
        "Initial error: 0.0907\n",
        "Final error: 0.0730\n",
        "Image: "
       ]
      },
      {
       "output_type": "stream",
       "stream": "stdout",
       "text": [
        " 229\n",
        "Initial error: 0.0719\n",
        "Final error: 0.0510\n",
        "Image:  230\n",
        "Initial error: 0.1826\n",
        "Final error: 0.0340\n",
        "Image: "
       ]
      },
      {
       "output_type": "stream",
       "stream": "stdout",
       "text": [
        " 230\n",
        "Initial error: 0.0576\n",
        "Final error: 0.0305\n",
        "Image:  230\n",
        "Initial error: 0.1365\n",
        "Final error: 0.0235\n",
        "Image: "
       ]
      },
      {
       "output_type": "stream",
       "stream": "stdout",
       "text": [
        " 230\n",
        "Initial error: 0.0852\n",
        "Final error: 0.0234\n",
        "Image:  230\n",
        "Initial error: 0.0721\n",
        "Final error: 0.0251\n",
        "Image: "
       ]
      },
      {
       "output_type": "stream",
       "stream": "stdout",
       "text": [
        " 231\n",
        "Initial error: 0.1853\n",
        "Final error: 0.2638\n",
        "Image:  231\n",
        "Initial error: 0.0620\n",
        "Final error: 0.0384\n",
        "Image: "
       ]
      },
      {
       "output_type": "stream",
       "stream": "stdout",
       "text": [
        " 231\n",
        "Initial error: 0.1319\n",
        "Final error: 0.0465\n",
        "Image:  231\n",
        "Initial error: 0.0880\n",
        "Final error: 0.0358\n",
        "Image: "
       ]
      },
      {
       "output_type": "stream",
       "stream": "stdout",
       "text": [
        " 231\n",
        "Initial error: 0.0647\n",
        "Final error: 0.0385\n",
        "Image:  232\n",
        "Initial error: 0.1837\n",
        "Final error: 0.0479\n",
        "Image: "
       ]
      },
      {
       "output_type": "stream",
       "stream": "stdout",
       "text": [
        " 232\n",
        "Initial error: 0.0441\n",
        "Final error: 0.0302\n",
        "Image:  232\n",
        "Initial error: 0.1335\n",
        "Final error: 0.0303\n",
        "Image: "
       ]
      },
      {
       "output_type": "stream",
       "stream": "stdout",
       "text": [
        " 232\n",
        "Initial error: 0.0788\n",
        "Final error: 0.0283\n",
        "Image:  232\n",
        "Initial error: 0.0619\n",
        "Final error: 0.0300\n"
       ]
      }
     ],
     "prompt_number": 26
    },
    {
     "cell_type": "heading",
     "level": 3,
     "metadata": {},
     "source": [
      "Visualize Results"
     ]
    },
    {
     "cell_type": "code",
     "collapsed": false,
     "input": [
      "from menpofit.visualize import visualize_fitting_results\n",
      "    \n",
      "visualize_fitting_results(fitter_results)"
     ],
     "language": "python",
     "metadata": {},
     "outputs": [
      {
       "metadata": {},
       "output_type": "display_data",
       "png": "[encoded data removed]",
       "text": [
        "<matplotlib.figure.Figure at 0x7f2d82ec8350>"
       ]
      }
     ],
     "prompt_number": 27
    },
    {
     "cell_type": "code",
     "collapsed": false,
     "input": [
      "from alabortcvpr2015.utils import pickle_dump\n",
      "from alabortcvpr2015.result import SerializableResult\n",
      "\n",
      "results = [SerializableResult('none', fr.final_shape, fr.n_iters, 'PIC', fr.gt_shape) \n",
      "           for fr in fitter_results]\n",
      "\n",
      "pickle_dump(results, '/data/PhD/Results/aam_pic_view0_fast_dsift')"
     ],
     "language": "python",
     "metadata": {},
     "outputs": [],
     "prompt_number": 29
    },
    {
     "cell_type": "heading",
     "level": 3,
     "metadata": {},
     "source": [
      "Timing"
     ]
    },
    {
     "cell_type": "heading",
     "level": 4,
     "metadata": {},
     "source": [
      "Total"
     ]
    },
    {
     "cell_type": "code",
     "collapsed": false,
     "input": [
      "%timeit fitter.fit(i, s, gt_shape=gt_s, max_iters=20)"
     ],
     "language": "python",
     "metadata": {},
     "outputs": [
      {
       "output_type": "stream",
       "stream": "stdout",
       "text": [
        "10 loops, best of 3: 33.2 ms per loop\n"
       ]
      }
     ],
     "prompt_number": 30
    },
    {
     "cell_type": "heading",
     "level": 4,
     "metadata": {},
     "source": [
      "Per line"
     ]
    },
    {
     "cell_type": "code",
     "collapsed": false,
     "input": [
      "#import line_profiler\n",
      "#import IPython\n",
      "\n",
      "#ip = IPython.get_ipython()\n",
      "#ip.define_magic('lprun', line_profiler.magic_lprun)"
     ],
     "language": "python",
     "metadata": {},
     "outputs": [],
     "prompt_number": 31
    },
    {
     "cell_type": "code",
     "collapsed": false,
     "input": [
      "#from alabortcvpr2015.aam import PIC\n",
      "\n",
      "#%lprun -f PIC.run fitter.fit(i, s, gt_shape=gt_s, max_iters=20)"
     ],
     "language": "python",
     "metadata": {},
     "outputs": [],
     "prompt_number": 32
    }
   ],
   "metadata": {}
  }
 ]
}