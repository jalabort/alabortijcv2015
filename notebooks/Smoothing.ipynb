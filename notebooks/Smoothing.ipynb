{
 "metadata": {
  "name": "",
  "signature": "sha256:83da562655a9c85a818bc8b042d07208975c42f70b48aec68e358dab2898c762"
 },
 "nbformat": 3,
 "nbformat_minor": 0,
 "worksheets": [
  {
   "cells": [
    {
     "cell_type": "code",
     "collapsed": false,
     "input": [
      "%matplotlib inline\n",
      "%pylab inline"
     ],
     "language": "python",
     "metadata": {},
     "outputs": []
    },
    {
     "cell_type": "code",
     "collapsed": false,
     "input": [
      "from alabortijcv2015.utils import fsmooth\n",
      "from menpofast.image import Image\n",
      "from menpofast.feature import fast_dsift\n",
      "\n",
      "Image(fsmooth(fast_dsift(i).pixels, 2)).view_widget()"
     ],
     "language": "python",
     "metadata": {},
     "outputs": []
    },
    {
     "cell_type": "code",
     "collapsed": false,
     "input": [
      "fast_dsift(i).view_widget()"
     ],
     "language": "python",
     "metadata": {},
     "outputs": []
    }
   ],
   "metadata": {}
  }
 ]
}