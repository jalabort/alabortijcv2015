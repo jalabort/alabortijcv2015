{
 "metadata": {
  "name": "",
  "signature": "sha256:bcbb13e0f2b2cdb21890ae1ba67b81bba3a22bb53740954fcfb8ec5bced908f5"
 },
 "nbformat": 3,
 "nbformat_minor": 0,
 "worksheets": [
  {
   "cells": [
    {
     "cell_type": "code",
     "collapsed": false,
     "input": [
      "%matplotlib inline\n",
      "import numpy as np"
     ],
     "language": "python",
     "metadata": {},
     "outputs": [],
     "prompt_number": 1
    },
    {
     "cell_type": "heading",
     "level": 1,
     "metadata": {},
     "source": [
      "Load training data"
     ]
    },
    {
     "cell_type": "code",
     "collapsed": false,
     "input": [
      "import menpo.io as mio\n",
      "from menpo.landmark import labeller, ibug_face_66\n",
      "\n",
      "training_images = []\n",
      "for i in mio.import_images('/data/PhD/DataBases/faces/lfpw/trainset/', verbose=True, \n",
      "                           max_images=100):\n",
      "    \n",
      "    i.crop_to_landmarks_proportion_inplace(0.5)\n",
      "    i.rescale_landmarks_to_diagonal_range(200)\n",
      "    labeller(i, 'PTS', ibug_face_66)\n",
      "    if i.n_channels == 3:\n",
      "        i = i.as_greyscale(mode='average')\n",
      "    training_images.append(i)"
     ],
     "language": "python",
     "metadata": {},
     "outputs": [
      {
       "output_type": "stream",
       "stream": "stdout",
       "text": [
        "\r",
        "- Loading 100 assets: [                    ] 1%"
       ]
      },
      {
       "output_type": "stream",
       "stream": "stdout",
       "text": [
        "\r",
        "- Loading 100 assets: [                    ] 2%"
       ]
      },
      {
       "output_type": "stream",
       "stream": "stdout",
       "text": [
        "\r",
        "- Loading 100 assets: [                    ] 3%"
       ]
      },
      {
       "output_type": "stream",
       "stream": "stdout",
       "text": [
        "\r",
        "- Loading 100 assets: [                    ] 4%"
       ]
      },
      {
       "output_type": "stream",
       "stream": "stdout",
       "text": [
        "\r",
        "- Loading 100 assets: [=                   ] 5%"
       ]
      },
      {
       "output_type": "stream",
       "stream": "stdout",
       "text": [
        "\r",
        "- Loading 100 assets: [=                   ] 6%"
       ]
      },
      {
       "output_type": "stream",
       "stream": "stdout",
       "text": [
        "\r",
        "- Loading 100 assets: [=                   ] 7%"
       ]
      },
      {
       "output_type": "stream",
       "stream": "stdout",
       "text": [
        "\r",
        "- Loading 100 assets: [=                   ] 8%"
       ]
      },
      {
       "output_type": "stream",
       "stream": "stdout",
       "text": [
        "\r",
        "- Loading 100 assets: [=                   ] 9%"
       ]
      },
      {
       "output_type": "stream",
       "stream": "stdout",
       "text": [
        "\r",
        "- Loading 100 assets: [==                  ] 10%"
       ]
      },
      {
       "output_type": "stream",
       "stream": "stdout",
       "text": [
        "\r",
        "- Loading 100 assets: [==                  ] 11%"
       ]
      },
      {
       "output_type": "stream",
       "stream": "stdout",
       "text": [
        "\r",
        "- Loading 100 assets: [==                  ] 12%"
       ]
      },
      {
       "output_type": "stream",
       "stream": "stdout",
       "text": [
        "\r",
        "- Loading 100 assets: [==                  ] 13%"
       ]
      },
      {
       "output_type": "stream",
       "stream": "stdout",
       "text": [
        "\r",
        "- Loading 100 assets: [==                  ] 14%"
       ]
      },
      {
       "output_type": "stream",
       "stream": "stdout",
       "text": [
        "\r",
        "- Loading 100 assets: [===                 ] 15%"
       ]
      },
      {
       "output_type": "stream",
       "stream": "stdout",
       "text": [
        "\r",
        "- Loading 100 assets: [===                 ] 16%"
       ]
      },
      {
       "output_type": "stream",
       "stream": "stdout",
       "text": [
        "\r",
        "- Loading 100 assets: [===                 ] 17%"
       ]
      },
      {
       "output_type": "stream",
       "stream": "stdout",
       "text": [
        "\r",
        "- Loading 100 assets: [===                 ] 18%"
       ]
      },
      {
       "output_type": "stream",
       "stream": "stdout",
       "text": [
        "\r",
        "- Loading 100 assets: [===                 ] 19%"
       ]
      },
      {
       "output_type": "stream",
       "stream": "stdout",
       "text": [
        "\r",
        "- Loading 100 assets: [====                ] 20%"
       ]
      },
      {
       "output_type": "stream",
       "stream": "stdout",
       "text": [
        "\r",
        "- Loading 100 assets: [====                ] 21%"
       ]
      },
      {
       "output_type": "stream",
       "stream": "stdout",
       "text": [
        "\r",
        "- Loading 100 assets: [====                ] 22%"
       ]
      },
      {
       "output_type": "stream",
       "stream": "stdout",
       "text": [
        "\r",
        "- Loading 100 assets: [====                ] 23%"
       ]
      },
      {
       "output_type": "stream",
       "stream": "stdout",
       "text": [
        "\r",
        "- Loading 100 assets: [====                ] 24%"
       ]
      },
      {
       "output_type": "stream",
       "stream": "stdout",
       "text": [
        "\r",
        "- Loading 100 assets: [=====               ] 25%"
       ]
      },
      {
       "output_type": "stream",
       "stream": "stdout",
       "text": [
        "\r",
        "- Loading 100 assets: [=====               ] 26%"
       ]
      },
      {
       "output_type": "stream",
       "stream": "stdout",
       "text": [
        "\r",
        "- Loading 100 assets: [=====               ] 27%"
       ]
      },
      {
       "output_type": "stream",
       "stream": "stdout",
       "text": [
        "\r",
        "- Loading 100 assets: [=====               ] 28%"
       ]
      },
      {
       "output_type": "stream",
       "stream": "stdout",
       "text": [
        "\r",
        "- Loading 100 assets: [=====               ] 28%"
       ]
      },
      {
       "output_type": "stream",
       "stream": "stdout",
       "text": [
        "\r",
        "- Loading 100 assets: [======              ] 30%"
       ]
      },
      {
       "output_type": "stream",
       "stream": "stdout",
       "text": [
        "\r",
        "- Loading 100 assets: [======              ] 31%"
       ]
      },
      {
       "output_type": "stream",
       "stream": "stdout",
       "text": [
        "\r",
        "- Loading 100 assets: [======              ] 32%"
       ]
      },
      {
       "output_type": "stream",
       "stream": "stdout",
       "text": [
        "\r",
        "- Loading 100 assets: [======              ] 33%"
       ]
      },
      {
       "output_type": "stream",
       "stream": "stdout",
       "text": [
        "\r",
        "- Loading 100 assets: [======              ] 34%"
       ]
      },
      {
       "output_type": "stream",
       "stream": "stdout",
       "text": [
        "\r",
        "- Loading 100 assets: [=======             ] 35%"
       ]
      },
      {
       "output_type": "stream",
       "stream": "stdout",
       "text": [
        "\r",
        "- Loading 100 assets: [=======             ] 36%"
       ]
      },
      {
       "output_type": "stream",
       "stream": "stdout",
       "text": [
        "\r",
        "- Loading 100 assets: [=======             ] 37%"
       ]
      },
      {
       "output_type": "stream",
       "stream": "stdout",
       "text": [
        "\r",
        "- Loading 100 assets: [=======             ] 38%"
       ]
      },
      {
       "output_type": "stream",
       "stream": "stdout",
       "text": [
        "\r",
        "- Loading 100 assets: [=======             ] 39%"
       ]
      },
      {
       "output_type": "stream",
       "stream": "stdout",
       "text": [
        "\r",
        "- Loading 100 assets: [========            ] 40%"
       ]
      },
      {
       "output_type": "stream",
       "stream": "stdout",
       "text": [
        "\r",
        "- Loading 100 assets: [========            ] 41%"
       ]
      },
      {
       "output_type": "stream",
       "stream": "stdout",
       "text": [
        "\r",
        "- Loading 100 assets: [========            ] 42%"
       ]
      },
      {
       "output_type": "stream",
       "stream": "stdout",
       "text": [
        "\r",
        "- Loading 100 assets: [========            ] 43%"
       ]
      },
      {
       "output_type": "stream",
       "stream": "stdout",
       "text": [
        "\r",
        "- Loading 100 assets: [========            ] 44%"
       ]
      },
      {
       "output_type": "stream",
       "stream": "stdout",
       "text": [
        "\r",
        "- Loading 100 assets: [=========           ] 45%"
       ]
      },
      {
       "output_type": "stream",
       "stream": "stdout",
       "text": [
        "\r",
        "- Loading 100 assets: [=========           ] 46%"
       ]
      },
      {
       "output_type": "stream",
       "stream": "stdout",
       "text": [
        "\r",
        "- Loading 100 assets: [=========           ] 47%"
       ]
      },
      {
       "output_type": "stream",
       "stream": "stdout",
       "text": [
        "\r",
        "- Loading 100 assets: [=========           ] 48%"
       ]
      },
      {
       "output_type": "stream",
       "stream": "stdout",
       "text": [
        "\r",
        "- Loading 100 assets: [=========           ] 49%"
       ]
      },
      {
       "output_type": "stream",
       "stream": "stdout",
       "text": [
        "\r",
        "- Loading 100 assets: [==========          ] 50%"
       ]
      },
      {
       "output_type": "stream",
       "stream": "stdout",
       "text": [
        "\r",
        "- Loading 100 assets: [==========          ] 51%"
       ]
      },
      {
       "output_type": "stream",
       "stream": "stdout",
       "text": [
        "\r",
        "- Loading 100 assets: [==========          ] 52%"
       ]
      },
      {
       "output_type": "stream",
       "stream": "stdout",
       "text": [
        "\r",
        "- Loading 100 assets: [==========          ] 53%"
       ]
      },
      {
       "output_type": "stream",
       "stream": "stdout",
       "text": [
        "\r",
        "- Loading 100 assets: [==========          ] 54%"
       ]
      },
      {
       "output_type": "stream",
       "stream": "stdout",
       "text": [
        "\r",
        "- Loading 100 assets: [===========         ] 55%"
       ]
      },
      {
       "output_type": "stream",
       "stream": "stdout",
       "text": [
        "\r",
        "- Loading 100 assets: [===========         ] 56%"
       ]
      },
      {
       "output_type": "stream",
       "stream": "stdout",
       "text": [
        "\r",
        "- Loading 100 assets: [===========         ] 56%"
       ]
      },
      {
       "output_type": "stream",
       "stream": "stdout",
       "text": [
        "\r",
        "- Loading 100 assets: [===========         ] 57%"
       ]
      },
      {
       "output_type": "stream",
       "stream": "stdout",
       "text": [
        "\r",
        "- Loading 100 assets: [===========         ] 59%"
       ]
      },
      {
       "output_type": "stream",
       "stream": "stdout",
       "text": [
        "\r",
        "- Loading 100 assets: [============        ] 60%"
       ]
      },
      {
       "output_type": "stream",
       "stream": "stdout",
       "text": [
        "\r",
        "- Loading 100 assets: [============        ] 61%"
       ]
      },
      {
       "output_type": "stream",
       "stream": "stdout",
       "text": [
        "\r",
        "- Loading 100 assets: [============        ] 62%"
       ]
      },
      {
       "output_type": "stream",
       "stream": "stdout",
       "text": [
        "\r",
        "- Loading 100 assets: [============        ] 63%"
       ]
      },
      {
       "output_type": "stream",
       "stream": "stdout",
       "text": [
        "\r",
        "- Loading 100 assets: [============        ] 64%"
       ]
      },
      {
       "output_type": "stream",
       "stream": "stdout",
       "text": [
        "\r",
        "- Loading 100 assets: [=============       ] 65%"
       ]
      },
      {
       "output_type": "stream",
       "stream": "stdout",
       "text": [
        "\r",
        "- Loading 100 assets: [=============       ] 66%"
       ]
      },
      {
       "output_type": "stream",
       "stream": "stdout",
       "text": [
        "\r",
        "- Loading 100 assets: [=============       ] 67%"
       ]
      },
      {
       "output_type": "stream",
       "stream": "stdout",
       "text": [
        "\r",
        "- Loading 100 assets: [=============       ] 68%"
       ]
      },
      {
       "output_type": "stream",
       "stream": "stdout",
       "text": [
        "\r",
        "- Loading 100 assets: [=============       ] 69%"
       ]
      },
      {
       "output_type": "stream",
       "stream": "stdout",
       "text": [
        "\r",
        "- Loading 100 assets: [==============      ] 70%"
       ]
      },
      {
       "output_type": "stream",
       "stream": "stdout",
       "text": [
        "\r",
        "- Loading 100 assets: [==============      ] 71%"
       ]
      },
      {
       "output_type": "stream",
       "stream": "stdout",
       "text": [
        "\r",
        "- Loading 100 assets: [==============      ] 72%"
       ]
      },
      {
       "output_type": "stream",
       "stream": "stdout",
       "text": [
        "\r",
        "- Loading 100 assets: [==============      ] 73%"
       ]
      },
      {
       "output_type": "stream",
       "stream": "stdout",
       "text": [
        "\r",
        "- Loading 100 assets: [==============      ] 74%"
       ]
      },
      {
       "output_type": "stream",
       "stream": "stdout",
       "text": [
        "\r",
        "- Loading 100 assets: [===============     ] 75%"
       ]
      },
      {
       "output_type": "stream",
       "stream": "stdout",
       "text": [
        "\r",
        "- Loading 100 assets: [===============     ] 76%"
       ]
      },
      {
       "output_type": "stream",
       "stream": "stdout",
       "text": [
        "\r",
        "- Loading 100 assets: [===============     ] 77%"
       ]
      },
      {
       "output_type": "stream",
       "stream": "stdout",
       "text": [
        "\r",
        "- Loading 100 assets: [===============     ] 78%"
       ]
      },
      {
       "output_type": "stream",
       "stream": "stdout",
       "text": [
        "\r",
        "- Loading 100 assets: [===============     ] 79%"
       ]
      },
      {
       "output_type": "stream",
       "stream": "stdout",
       "text": [
        "\r",
        "- Loading 100 assets: [================    ] 80%"
       ]
      },
      {
       "output_type": "stream",
       "stream": "stdout",
       "text": [
        "\r",
        "- Loading 100 assets: [================    ] 81%"
       ]
      },
      {
       "output_type": "stream",
       "stream": "stdout",
       "text": [
        "\r",
        "- Loading 100 assets: [================    ] 82%"
       ]
      },
      {
       "output_type": "stream",
       "stream": "stdout",
       "text": [
        "\r",
        "- Loading 100 assets: [================    ] 83%"
       ]
      },
      {
       "output_type": "stream",
       "stream": "stdout",
       "text": [
        "\r",
        "- Loading 100 assets: [================    ] 84%"
       ]
      },
      {
       "output_type": "stream",
       "stream": "stdout",
       "text": [
        "\r",
        "- Loading 100 assets: [=================   ] 85%"
       ]
      },
      {
       "output_type": "stream",
       "stream": "stdout",
       "text": [
        "\r",
        "- Loading 100 assets: [=================   ] 86%"
       ]
      },
      {
       "output_type": "stream",
       "stream": "stdout",
       "text": [
        "\r",
        "- Loading 100 assets: [=================   ] 87%"
       ]
      },
      {
       "output_type": "stream",
       "stream": "stdout",
       "text": [
        "\r",
        "- Loading 100 assets: [=================   ] 88%"
       ]
      },
      {
       "output_type": "stream",
       "stream": "stdout",
       "text": [
        "\r",
        "- Loading 100 assets: [=================   ] 89%"
       ]
      },
      {
       "output_type": "stream",
       "stream": "stdout",
       "text": [
        "\r",
        "- Loading 100 assets: [==================  ] 90%"
       ]
      },
      {
       "output_type": "stream",
       "stream": "stdout",
       "text": [
        "\r",
        "- Loading 100 assets: [==================  ] 91%"
       ]
      },
      {
       "output_type": "stream",
       "stream": "stdout",
       "text": [
        "\r",
        "- Loading 100 assets: [==================  ] 92%"
       ]
      },
      {
       "output_type": "stream",
       "stream": "stdout",
       "text": [
        "\r",
        "- Loading 100 assets: [==================  ] 93%"
       ]
      },
      {
       "output_type": "stream",
       "stream": "stdout",
       "text": [
        "\r",
        "- Loading 100 assets: [==================  ] 94%"
       ]
      },
      {
       "output_type": "stream",
       "stream": "stdout",
       "text": [
        "\r",
        "- Loading 100 assets: [=================== ] 95%"
       ]
      },
      {
       "output_type": "stream",
       "stream": "stdout",
       "text": [
        "\r",
        "- Loading 100 assets: [=================== ] 96%"
       ]
      },
      {
       "output_type": "stream",
       "stream": "stdout",
       "text": [
        "\r",
        "- Loading 100 assets: [=================== ] 97%"
       ]
      },
      {
       "output_type": "stream",
       "stream": "stdout",
       "text": [
        "\r",
        "- Loading 100 assets: [=================== ] 98%"
       ]
      },
      {
       "output_type": "stream",
       "stream": "stdout",
       "text": [
        "\r",
        "- Loading 100 assets: [=================== ] 99%"
       ]
      },
      {
       "output_type": "stream",
       "stream": "stdout",
       "text": [
        "\r",
        "- Loading 100 assets: [====================] 100%"
       ]
      }
     ],
     "prompt_number": 2
    },
    {
     "cell_type": "code",
     "collapsed": false,
     "input": [
      "from menpo.visualize import visualize_images\n",
      "\n",
      "visualize_images(training_images)"
     ],
     "language": "python",
     "metadata": {},
     "outputs": [
      {
       "metadata": {},
       "output_type": "display_data",
       "png": "[encoded data removed]",
       "text": [
        "<matplotlib.figure.Figure at 0x7ff6e1cb4c50>"
       ]
      }
     ],
     "prompt_number": 3
    },
    {
     "cell_type": "heading",
     "level": 1,
     "metadata": {},
     "source": [
      "Load test data"
     ]
    },
    {
     "cell_type": "code",
     "collapsed": false,
     "input": [
      "import menpo.io as mio\n",
      "from menpo.landmark import labeller, ibug_face_66, ibug_face_66_trimesh\n",
      "\n",
      "test_images = []\n",
      "for i in mio.import_images('/data/PhD/DataBases/faces/afw/', verbose=True, \n",
      "                           max_images=10):\n",
      "    \n",
      "    i.crop_to_landmarks_proportion_inplace(0.5)\n",
      "    i.rescale_landmarks_to_diagonal_range(200)\n",
      "    labeller(i, 'PTS', ibug_face_66)\n",
      "    labeller(i, 'PTS', ibug_face_66_trimesh)\n",
      "    if i.n_channels == 3:\n",
      "        i = i.as_greyscale(mode='average')\n",
      "    test_images.append(i)"
     ],
     "language": "python",
     "metadata": {},
     "outputs": [
      {
       "output_type": "stream",
       "stream": "stdout",
       "text": [
        "\r",
        "- Loading 10 assets: [==                  ] 10%"
       ]
      },
      {
       "output_type": "stream",
       "stream": "stdout",
       "text": [
        "\r",
        "- Loading 10 assets: [====                ] 20%"
       ]
      },
      {
       "output_type": "stream",
       "stream": "stdout",
       "text": [
        "\r",
        "- Loading 10 assets: [======              ] 30%"
       ]
      },
      {
       "output_type": "stream",
       "stream": "stdout",
       "text": [
        "\r",
        "- Loading 10 assets: [========            ] 40%"
       ]
      },
      {
       "output_type": "stream",
       "stream": "stdout",
       "text": [
        "\r",
        "- Loading 10 assets: [==========          ] 50%"
       ]
      },
      {
       "output_type": "stream",
       "stream": "stdout",
       "text": [
        "\r",
        "- Loading 10 assets: [============        ] 60%"
       ]
      },
      {
       "output_type": "stream",
       "stream": "stdout",
       "text": [
        "\r",
        "- Loading 10 assets: [==============      ] 70%"
       ]
      },
      {
       "output_type": "stream",
       "stream": "stdout",
       "text": [
        "\r",
        "- Loading 10 assets: [================    ] 80%"
       ]
      },
      {
       "output_type": "stream",
       "stream": "stdout",
       "text": [
        "\r",
        "- Loading 10 assets: [==================  ] 90%"
       ]
      },
      {
       "output_type": "stream",
       "stream": "stdout",
       "text": [
        "\r",
        "- Loading 10 assets: [====================] 100%"
       ]
      }
     ],
     "prompt_number": 4
    },
    {
     "cell_type": "code",
     "collapsed": false,
     "input": [
      "from menpo.visualize import visualize_images\n",
      "\n",
      "visualize_images(test_images)"
     ],
     "language": "python",
     "metadata": {},
     "outputs": [
      {
       "metadata": {},
       "output_type": "display_data",
       "png": "[encoded data removed]",
       "text": [
        "<matplotlib.figure.Figure at 0x7ff6db716d50>"
       ]
      }
     ],
     "prompt_number": 5
    },
    {
     "cell_type": "heading",
     "level": 1,
     "metadata": {},
     "source": [
      "Active Appearance Models"
     ]
    },
    {
     "cell_type": "heading",
     "level": 2,
     "metadata": {},
     "source": [
      "Global Warp"
     ]
    },
    {
     "cell_type": "heading",
     "level": 3,
     "metadata": {},
     "source": [
      "Build"
     ]
    },
    {
     "cell_type": "code",
     "collapsed": false,
     "input": [
      "from menpo.feature import no_op, fast_dsift\n",
      "from alabortijcv2015.aam import GlobalAAMBuilder\n",
      "\n",
      "builder = GlobalAAMBuilder(features=fast_dsift, diagonal=100, \n",
      "                           #trilist=i.landmarks['ibug_face_66_trimesh'].lms.trilist, \n",
      "                           scale_shapes=False, scales=(1, .5))\n",
      "aam = builder.build(training_images, group='ibug_face_66', verbose=True)"
     ],
     "language": "python",
     "metadata": {},
     "outputs": [
      {
       "output_type": "stream",
       "stream": "stdout",
       "text": [
        "\r",
        "- Computing reference shape"
       ]
      },
      {
       "output_type": "stream",
       "stream": "stdout",
       "text": [
        "\r",
        "- Normalizing images size: 1%"
       ]
      },
      {
       "output_type": "stream",
       "stream": "stdout",
       "text": [
        "\r",
        "- Normalizing images size: 2%"
       ]
      },
      {
       "output_type": "stream",
       "stream": "stdout",
       "text": [
        "\r",
        "- Normalizing images size: 3%"
       ]
      },
      {
       "output_type": "stream",
       "stream": "stdout",
       "text": [
        "\r",
        "- Normalizing images size: 4%"
       ]
      },
      {
       "output_type": "stream",
       "stream": "stdout",
       "text": [
        "\r",
        "- Normalizing images size: 5%"
       ]
      },
      {
       "output_type": "stream",
       "stream": "stdout",
       "text": [
        "\r",
        "- Normalizing images size: 6%"
       ]
      },
      {
       "output_type": "stream",
       "stream": "stdout",
       "text": [
        "\r",
        "- Normalizing images size: 7%"
       ]
      },
      {
       "output_type": "stream",
       "stream": "stdout",
       "text": [
        "\r",
        "- Normalizing images size: 8%"
       ]
      },
      {
       "output_type": "stream",
       "stream": "stdout",
       "text": [
        "\r",
        "- Normalizing images size: 9%"
       ]
      },
      {
       "output_type": "stream",
       "stream": "stdout",
       "text": [
        "\r",
        "- Normalizing images size: 10%"
       ]
      },
      {
       "output_type": "stream",
       "stream": "stdout",
       "text": [
        "\r",
        "- Normalizing images size: 11%"
       ]
      },
      {
       "output_type": "stream",
       "stream": "stdout",
       "text": [
        "\r",
        "- Normalizing images size: 12%"
       ]
      },
      {
       "output_type": "stream",
       "stream": "stdout",
       "text": [
        "\r",
        "- Normalizing images size: 13%"
       ]
      },
      {
       "output_type": "stream",
       "stream": "stdout",
       "text": [
        "\r",
        "- Normalizing images size: 14%"
       ]
      },
      {
       "output_type": "stream",
       "stream": "stdout",
       "text": [
        "\r",
        "- Normalizing images size: 15%"
       ]
      },
      {
       "output_type": "stream",
       "stream": "stdout",
       "text": [
        "\r",
        "- Normalizing images size: 16%"
       ]
      },
      {
       "output_type": "stream",
       "stream": "stdout",
       "text": [
        "\r",
        "- Normalizing images size: 17%"
       ]
      },
      {
       "output_type": "stream",
       "stream": "stdout",
       "text": [
        "\r",
        "- Normalizing images size: 18%"
       ]
      },
      {
       "output_type": "stream",
       "stream": "stdout",
       "text": [
        "\r",
        "- Normalizing images size: 19%"
       ]
      },
      {
       "output_type": "stream",
       "stream": "stdout",
       "text": [
        "\r",
        "- Normalizing images size: 20%"
       ]
      },
      {
       "output_type": "stream",
       "stream": "stdout",
       "text": [
        "\r",
        "- Normalizing images size: 21%"
       ]
      },
      {
       "output_type": "stream",
       "stream": "stdout",
       "text": [
        "\r",
        "- Normalizing images size: 22%"
       ]
      },
      {
       "output_type": "stream",
       "stream": "stdout",
       "text": [
        "\r",
        "- Normalizing images size: 23%"
       ]
      },
      {
       "output_type": "stream",
       "stream": "stdout",
       "text": [
        "\r",
        "- Normalizing images size: 24%"
       ]
      },
      {
       "output_type": "stream",
       "stream": "stdout",
       "text": [
        "\r",
        "- Normalizing images size: 25%"
       ]
      },
      {
       "output_type": "stream",
       "stream": "stdout",
       "text": [
        "\r",
        "- Normalizing images size: 26%"
       ]
      },
      {
       "output_type": "stream",
       "stream": "stdout",
       "text": [
        "\r",
        "- Normalizing images size: 27%"
       ]
      },
      {
       "output_type": "stream",
       "stream": "stdout",
       "text": [
        "\r",
        "- Normalizing images size: 28%"
       ]
      },
      {
       "output_type": "stream",
       "stream": "stdout",
       "text": [
        "\r",
        "- Normalizing images size: 28%"
       ]
      },
      {
       "output_type": "stream",
       "stream": "stdout",
       "text": [
        "\r",
        "- Normalizing images size: 30%"
       ]
      },
      {
       "output_type": "stream",
       "stream": "stdout",
       "text": [
        "\r",
        "- Normalizing images size: 31%"
       ]
      },
      {
       "output_type": "stream",
       "stream": "stdout",
       "text": [
        "\r",
        "- Normalizing images size: 32%"
       ]
      },
      {
       "output_type": "stream",
       "stream": "stdout",
       "text": [
        "\r",
        "- Normalizing images size: 33%"
       ]
      },
      {
       "output_type": "stream",
       "stream": "stdout",
       "text": [
        "\r",
        "- Normalizing images size: 34%"
       ]
      },
      {
       "output_type": "stream",
       "stream": "stdout",
       "text": [
        "\r",
        "- Normalizing images size: 35%"
       ]
      },
      {
       "output_type": "stream",
       "stream": "stdout",
       "text": [
        "\r",
        "- Normalizing images size: 36%"
       ]
      },
      {
       "output_type": "stream",
       "stream": "stdout",
       "text": [
        "\r",
        "- Normalizing images size: 37%"
       ]
      },
      {
       "output_type": "stream",
       "stream": "stdout",
       "text": [
        "\r",
        "- Normalizing images size: 38%"
       ]
      },
      {
       "output_type": "stream",
       "stream": "stdout",
       "text": [
        "\r",
        "- Normalizing images size: 39%"
       ]
      },
      {
       "output_type": "stream",
       "stream": "stdout",
       "text": [
        "\r",
        "- Normalizing images size: 40%"
       ]
      },
      {
       "output_type": "stream",
       "stream": "stdout",
       "text": [
        "\r",
        "- Normalizing images size: 41%"
       ]
      },
      {
       "output_type": "stream",
       "stream": "stdout",
       "text": [
        "\r",
        "- Normalizing images size: 42%"
       ]
      },
      {
       "output_type": "stream",
       "stream": "stdout",
       "text": [
        "\r",
        "- Normalizing images size: 43%"
       ]
      },
      {
       "output_type": "stream",
       "stream": "stdout",
       "text": [
        "\r",
        "- Normalizing images size: 44%"
       ]
      },
      {
       "output_type": "stream",
       "stream": "stdout",
       "text": [
        "\r",
        "- Normalizing images size: 45%"
       ]
      },
      {
       "output_type": "stream",
       "stream": "stdout",
       "text": [
        "\r",
        "- Normalizing images size: 46%"
       ]
      },
      {
       "output_type": "stream",
       "stream": "stdout",
       "text": [
        "\r",
        "- Normalizing images size: 47%"
       ]
      },
      {
       "output_type": "stream",
       "stream": "stdout",
       "text": [
        "\r",
        "- Normalizing images size: 48%"
       ]
      },
      {
       "output_type": "stream",
       "stream": "stdout",
       "text": [
        "\r",
        "- Normalizing images size: 49%"
       ]
      },
      {
       "output_type": "stream",
       "stream": "stdout",
       "text": [
        "\r",
        "- Normalizing images size: 50%"
       ]
      },
      {
       "output_type": "stream",
       "stream": "stdout",
       "text": [
        "\r",
        "- Normalizing images size: 51%"
       ]
      },
      {
       "output_type": "stream",
       "stream": "stdout",
       "text": [
        "\r",
        "- Normalizing images size: 52%"
       ]
      },
      {
       "output_type": "stream",
       "stream": "stdout",
       "text": [
        "\r",
        "- Normalizing images size: 53%"
       ]
      },
      {
       "output_type": "stream",
       "stream": "stdout",
       "text": [
        "\r",
        "- Normalizing images size: 54%"
       ]
      },
      {
       "output_type": "stream",
       "stream": "stdout",
       "text": [
        "\r",
        "- Normalizing images size: 55%"
       ]
      },
      {
       "output_type": "stream",
       "stream": "stdout",
       "text": [
        "\r",
        "- Normalizing images size: 56%"
       ]
      },
      {
       "output_type": "stream",
       "stream": "stdout",
       "text": [
        "\r",
        "- Normalizing images size: 56%"
       ]
      },
      {
       "output_type": "stream",
       "stream": "stdout",
       "text": [
        "\r",
        "- Normalizing images size: 57%"
       ]
      },
      {
       "output_type": "stream",
       "stream": "stdout",
       "text": [
        "\r",
        "- Normalizing images size: 59%"
       ]
      },
      {
       "output_type": "stream",
       "stream": "stdout",
       "text": [
        "\r",
        "- Normalizing images size: 60%"
       ]
      },
      {
       "output_type": "stream",
       "stream": "stdout",
       "text": [
        "\r",
        "- Normalizing images size: 61%"
       ]
      },
      {
       "output_type": "stream",
       "stream": "stdout",
       "text": [
        "\r",
        "- Normalizing images size: 62%"
       ]
      },
      {
       "output_type": "stream",
       "stream": "stdout",
       "text": [
        "\r",
        "- Normalizing images size: 63%"
       ]
      },
      {
       "output_type": "stream",
       "stream": "stdout",
       "text": [
        "\r",
        "- Normalizing images size: 64%"
       ]
      },
      {
       "output_type": "stream",
       "stream": "stdout",
       "text": [
        "\r",
        "- Normalizing images size: 65%"
       ]
      },
      {
       "output_type": "stream",
       "stream": "stdout",
       "text": [
        "\r",
        "- Normalizing images size: 66%"
       ]
      },
      {
       "output_type": "stream",
       "stream": "stdout",
       "text": [
        "\r",
        "- Normalizing images size: 67%"
       ]
      },
      {
       "output_type": "stream",
       "stream": "stdout",
       "text": [
        "\r",
        "- Normalizing images size: 68%"
       ]
      },
      {
       "output_type": "stream",
       "stream": "stdout",
       "text": [
        "\r",
        "- Normalizing images size: 69%"
       ]
      },
      {
       "output_type": "stream",
       "stream": "stdout",
       "text": [
        "\r",
        "- Normalizing images size: 70%"
       ]
      },
      {
       "output_type": "stream",
       "stream": "stdout",
       "text": [
        "\r",
        "- Normalizing images size: 71%"
       ]
      },
      {
       "output_type": "stream",
       "stream": "stdout",
       "text": [
        "\r",
        "- Normalizing images size: 72%"
       ]
      },
      {
       "output_type": "stream",
       "stream": "stdout",
       "text": [
        "\r",
        "- Normalizing images size: 73%"
       ]
      },
      {
       "output_type": "stream",
       "stream": "stdout",
       "text": [
        "\r",
        "- Normalizing images size: 74%"
       ]
      },
      {
       "output_type": "stream",
       "stream": "stdout",
       "text": [
        "\r",
        "- Normalizing images size: 75%"
       ]
      },
      {
       "output_type": "stream",
       "stream": "stdout",
       "text": [
        "\r",
        "- Normalizing images size: 76%"
       ]
      },
      {
       "output_type": "stream",
       "stream": "stdout",
       "text": [
        "\r",
        "- Normalizing images size: 77%"
       ]
      },
      {
       "output_type": "stream",
       "stream": "stdout",
       "text": [
        "\r",
        "- Normalizing images size: 78%"
       ]
      },
      {
       "output_type": "stream",
       "stream": "stdout",
       "text": [
        "\r",
        "- Normalizing images size: 79%"
       ]
      },
      {
       "output_type": "stream",
       "stream": "stdout",
       "text": [
        "\r",
        "- Normalizing images size: 80%"
       ]
      },
      {
       "output_type": "stream",
       "stream": "stdout",
       "text": [
        "\r",
        "- Normalizing images size: 81%"
       ]
      },
      {
       "output_type": "stream",
       "stream": "stdout",
       "text": [
        "\r",
        "- Normalizing images size: 82%"
       ]
      },
      {
       "output_type": "stream",
       "stream": "stdout",
       "text": [
        "\r",
        "- Normalizing images size: 83%"
       ]
      },
      {
       "output_type": "stream",
       "stream": "stdout",
       "text": [
        "\r",
        "- Normalizing images size: 84%"
       ]
      },
      {
       "output_type": "stream",
       "stream": "stdout",
       "text": [
        "\r",
        "- Normalizing images size: 85%"
       ]
      },
      {
       "output_type": "stream",
       "stream": "stdout",
       "text": [
        "\r",
        "- Normalizing images size: 86%"
       ]
      },
      {
       "output_type": "stream",
       "stream": "stdout",
       "text": [
        "\r",
        "- Normalizing images size: 87%"
       ]
      },
      {
       "output_type": "stream",
       "stream": "stdout",
       "text": [
        "\r",
        "- Normalizing images size: 88%"
       ]
      },
      {
       "output_type": "stream",
       "stream": "stdout",
       "text": [
        "\r",
        "- Normalizing images size: 89%"
       ]
      },
      {
       "output_type": "stream",
       "stream": "stdout",
       "text": [
        "\r",
        "- Normalizing images size: 90%"
       ]
      },
      {
       "output_type": "stream",
       "stream": "stdout",
       "text": [
        "\r",
        "- Normalizing images size: 91%"
       ]
      },
      {
       "output_type": "stream",
       "stream": "stdout",
       "text": [
        "\r",
        "- Normalizing images size: 92%"
       ]
      },
      {
       "output_type": "stream",
       "stream": "stdout",
       "text": [
        "\r",
        "- Normalizing images size: 93%"
       ]
      },
      {
       "output_type": "stream",
       "stream": "stdout",
       "text": [
        "\r",
        "- Normalizing images size: 94%"
       ]
      },
      {
       "output_type": "stream",
       "stream": "stdout",
       "text": [
        "\r",
        "- Normalizing images size: 95%"
       ]
      },
      {
       "output_type": "stream",
       "stream": "stdout",
       "text": [
        "\r",
        "- Normalizing images size: 96%"
       ]
      },
      {
       "output_type": "stream",
       "stream": "stdout",
       "text": [
        "\r",
        "- Normalizing images size: 97%"
       ]
      },
      {
       "output_type": "stream",
       "stream": "stdout",
       "text": [
        "\r",
        "- Normalizing images size: 98%"
       ]
      },
      {
       "output_type": "stream",
       "stream": "stdout",
       "text": [
        "\r",
        "- Normalizing images size: 99%"
       ]
      },
      {
       "output_type": "stream",
       "stream": "stdout",
       "text": [
        "\r",
        "- Normalizing images size: 100%"
       ]
      },
      {
       "output_type": "stream",
       "stream": "stdout",
       "text": [
        "\r",
        "- Building models\n"
       ]
      },
      {
       "output_type": "stream",
       "stream": "stdout",
       "text": [
        "\r",
        "  - Level 0: Computing feature space: 1%"
       ]
      },
      {
       "output_type": "stream",
       "stream": "stdout",
       "text": [
        "\r",
        "  - Level 0: Computing feature space: 2%"
       ]
      },
      {
       "output_type": "stream",
       "stream": "stdout",
       "text": [
        "\r",
        "  - Level 0: Computing feature space: 3%"
       ]
      },
      {
       "output_type": "stream",
       "stream": "stdout",
       "text": [
        "\r",
        "  - Level 0: Computing feature space: 4%"
       ]
      },
      {
       "output_type": "stream",
       "stream": "stdout",
       "text": [
        "\r",
        "  - Level 0: Computing feature space: 5%"
       ]
      },
      {
       "output_type": "stream",
       "stream": "stdout",
       "text": [
        "\r",
        "  - Level 0: Computing feature space: 6%"
       ]
      },
      {
       "output_type": "stream",
       "stream": "stdout",
       "text": [
        "\r",
        "  - Level 0: Computing feature space: 7%"
       ]
      },
      {
       "output_type": "stream",
       "stream": "stdout",
       "text": [
        "\r",
        "  - Level 0: Computing feature space: 8%"
       ]
      },
      {
       "output_type": "stream",
       "stream": "stdout",
       "text": [
        "\r",
        "  - Level 0: Computing feature space: 9%"
       ]
      },
      {
       "output_type": "stream",
       "stream": "stdout",
       "text": [
        "\r",
        "  - Level 0: Computing feature space: 10%"
       ]
      },
      {
       "output_type": "stream",
       "stream": "stdout",
       "text": [
        "\r",
        "  - Level 0: Computing feature space: 11%"
       ]
      },
      {
       "output_type": "stream",
       "stream": "stdout",
       "text": [
        "\r",
        "  - Level 0: Computing feature space: 12%"
       ]
      },
      {
       "output_type": "stream",
       "stream": "stdout",
       "text": [
        "\r",
        "  - Level 0: Computing feature space: 13%"
       ]
      },
      {
       "output_type": "stream",
       "stream": "stdout",
       "text": [
        "\r",
        "  - Level 0: Computing feature space: 14%"
       ]
      },
      {
       "output_type": "stream",
       "stream": "stdout",
       "text": [
        "\r",
        "  - Level 0: Computing feature space: 15%"
       ]
      },
      {
       "output_type": "stream",
       "stream": "stdout",
       "text": [
        "\r",
        "  - Level 0: Computing feature space: 16%"
       ]
      },
      {
       "output_type": "stream",
       "stream": "stdout",
       "text": [
        "\r",
        "  - Level 0: Computing feature space: 17%"
       ]
      },
      {
       "output_type": "stream",
       "stream": "stdout",
       "text": [
        "\r",
        "  - Level 0: Computing feature space: 18%"
       ]
      },
      {
       "output_type": "stream",
       "stream": "stdout",
       "text": [
        "\r",
        "  - Level 0: Computing feature space: 19%"
       ]
      },
      {
       "output_type": "stream",
       "stream": "stdout",
       "text": [
        "\r",
        "  - Level 0: Computing feature space: 20%"
       ]
      },
      {
       "output_type": "stream",
       "stream": "stdout",
       "text": [
        "\r",
        "  - Level 0: Computing feature space: 21%"
       ]
      },
      {
       "output_type": "stream",
       "stream": "stdout",
       "text": [
        "\r",
        "  - Level 0: Computing feature space: 22%"
       ]
      },
      {
       "output_type": "stream",
       "stream": "stdout",
       "text": [
        "\r",
        "  - Level 0: Computing feature space: 23%"
       ]
      },
      {
       "output_type": "stream",
       "stream": "stdout",
       "text": [
        "\r",
        "  - Level 0: Computing feature space: 24%"
       ]
      },
      {
       "output_type": "stream",
       "stream": "stdout",
       "text": [
        "\r",
        "  - Level 0: Computing feature space: 25%"
       ]
      },
      {
       "output_type": "stream",
       "stream": "stdout",
       "text": [
        "\r",
        "  - Level 0: Computing feature space: 26%"
       ]
      },
      {
       "output_type": "stream",
       "stream": "stdout",
       "text": [
        "\r",
        "  - Level 0: Computing feature space: 27%"
       ]
      },
      {
       "output_type": "stream",
       "stream": "stdout",
       "text": [
        "\r",
        "  - Level 0: Computing feature space: 28%"
       ]
      },
      {
       "output_type": "stream",
       "stream": "stdout",
       "text": [
        "\r",
        "  - Level 0: Computing feature space: 28%"
       ]
      },
      {
       "output_type": "stream",
       "stream": "stdout",
       "text": [
        "\r",
        "  - Level 0: Computing feature space: 30%"
       ]
      },
      {
       "output_type": "stream",
       "stream": "stdout",
       "text": [
        "\r",
        "  - Level 0: Computing feature space: 31%"
       ]
      },
      {
       "output_type": "stream",
       "stream": "stdout",
       "text": [
        "\r",
        "  - Level 0: Computing feature space: 32%"
       ]
      },
      {
       "output_type": "stream",
       "stream": "stdout",
       "text": [
        "\r",
        "  - Level 0: Computing feature space: 33%"
       ]
      },
      {
       "output_type": "stream",
       "stream": "stdout",
       "text": [
        "\r",
        "  - Level 0: Computing feature space: 34%"
       ]
      },
      {
       "output_type": "stream",
       "stream": "stdout",
       "text": [
        "\r",
        "  - Level 0: Computing feature space: 35%"
       ]
      },
      {
       "output_type": "stream",
       "stream": "stdout",
       "text": [
        "\r",
        "  - Level 0: Computing feature space: 36%"
       ]
      },
      {
       "output_type": "stream",
       "stream": "stdout",
       "text": [
        "\r",
        "  - Level 0: Computing feature space: 37%"
       ]
      },
      {
       "output_type": "stream",
       "stream": "stdout",
       "text": [
        "\r",
        "  - Level 0: Computing feature space: 38%"
       ]
      },
      {
       "output_type": "stream",
       "stream": "stdout",
       "text": [
        "\r",
        "  - Level 0: Computing feature space: 39%"
       ]
      },
      {
       "output_type": "stream",
       "stream": "stdout",
       "text": [
        "\r",
        "  - Level 0: Computing feature space: 40%"
       ]
      },
      {
       "output_type": "stream",
       "stream": "stdout",
       "text": [
        "\r",
        "  - Level 0: Computing feature space: 41%"
       ]
      },
      {
       "output_type": "stream",
       "stream": "stdout",
       "text": [
        "\r",
        "  - Level 0: Computing feature space: 42%"
       ]
      },
      {
       "output_type": "stream",
       "stream": "stdout",
       "text": [
        "\r",
        "  - Level 0: Computing feature space: 43%"
       ]
      },
      {
       "output_type": "stream",
       "stream": "stdout",
       "text": [
        "\r",
        "  - Level 0: Computing feature space: 44%"
       ]
      },
      {
       "output_type": "stream",
       "stream": "stdout",
       "text": [
        "\r",
        "  - Level 0: Computing feature space: 45%"
       ]
      },
      {
       "output_type": "stream",
       "stream": "stdout",
       "text": [
        "\r",
        "  - Level 0: Computing feature space: 46%"
       ]
      },
      {
       "output_type": "stream",
       "stream": "stdout",
       "text": [
        "\r",
        "  - Level 0: Computing feature space: 47%"
       ]
      },
      {
       "output_type": "stream",
       "stream": "stdout",
       "text": [
        "\r",
        "  - Level 0: Computing feature space: 48%"
       ]
      },
      {
       "output_type": "stream",
       "stream": "stdout",
       "text": [
        "\r",
        "  - Level 0: Computing feature space: 49%"
       ]
      },
      {
       "output_type": "stream",
       "stream": "stdout",
       "text": [
        "\r",
        "  - Level 0: Computing feature space: 50%"
       ]
      },
      {
       "output_type": "stream",
       "stream": "stdout",
       "text": [
        "\r",
        "  - Level 0: Computing feature space: 51%"
       ]
      },
      {
       "output_type": "stream",
       "stream": "stdout",
       "text": [
        "\r",
        "  - Level 0: Computing feature space: 52%"
       ]
      },
      {
       "output_type": "stream",
       "stream": "stdout",
       "text": [
        "\r",
        "  - Level 0: Computing feature space: 53%"
       ]
      },
      {
       "output_type": "stream",
       "stream": "stdout",
       "text": [
        "\r",
        "  - Level 0: Computing feature space: 54%"
       ]
      },
      {
       "output_type": "stream",
       "stream": "stdout",
       "text": [
        "\r",
        "  - Level 0: Computing feature space: 55%"
       ]
      },
      {
       "output_type": "stream",
       "stream": "stdout",
       "text": [
        "\r",
        "  - Level 0: Computing feature space: 56%"
       ]
      },
      {
       "output_type": "stream",
       "stream": "stdout",
       "text": [
        "\r",
        "  - Level 0: Computing feature space: 56%"
       ]
      },
      {
       "output_type": "stream",
       "stream": "stdout",
       "text": [
        "\r",
        "  - Level 0: Computing feature space: 57%"
       ]
      },
      {
       "output_type": "stream",
       "stream": "stdout",
       "text": [
        "\r",
        "  - Level 0: Computing feature space: 59%"
       ]
      },
      {
       "output_type": "stream",
       "stream": "stdout",
       "text": [
        "\r",
        "  - Level 0: Computing feature space: 60%"
       ]
      },
      {
       "output_type": "stream",
       "stream": "stdout",
       "text": [
        "\r",
        "  - Level 0: Computing feature space: 61%"
       ]
      },
      {
       "output_type": "stream",
       "stream": "stdout",
       "text": [
        "\r",
        "  - Level 0: Computing feature space: 62%"
       ]
      },
      {
       "output_type": "stream",
       "stream": "stdout",
       "text": [
        "\r",
        "  - Level 0: Computing feature space: 63%"
       ]
      },
      {
       "output_type": "stream",
       "stream": "stdout",
       "text": [
        "\r",
        "  - Level 0: Computing feature space: 64%"
       ]
      },
      {
       "output_type": "stream",
       "stream": "stdout",
       "text": [
        "\r",
        "  - Level 0: Computing feature space: 65%"
       ]
      },
      {
       "output_type": "stream",
       "stream": "stdout",
       "text": [
        "\r",
        "  - Level 0: Computing feature space: 66%"
       ]
      },
      {
       "output_type": "stream",
       "stream": "stdout",
       "text": [
        "\r",
        "  - Level 0: Computing feature space: 67%"
       ]
      },
      {
       "output_type": "stream",
       "stream": "stdout",
       "text": [
        "\r",
        "  - Level 0: Computing feature space: 68%"
       ]
      },
      {
       "output_type": "stream",
       "stream": "stdout",
       "text": [
        "\r",
        "  - Level 0: Computing feature space: 69%"
       ]
      },
      {
       "output_type": "stream",
       "stream": "stdout",
       "text": [
        "\r",
        "  - Level 0: Computing feature space: 70%"
       ]
      },
      {
       "output_type": "stream",
       "stream": "stdout",
       "text": [
        "\r",
        "  - Level 0: Computing feature space: 71%"
       ]
      },
      {
       "output_type": "stream",
       "stream": "stdout",
       "text": [
        "\r",
        "  - Level 0: Computing feature space: 72%"
       ]
      },
      {
       "output_type": "stream",
       "stream": "stdout",
       "text": [
        "\r",
        "  - Level 0: Computing feature space: 73%"
       ]
      },
      {
       "output_type": "stream",
       "stream": "stdout",
       "text": [
        "\r",
        "  - Level 0: Computing feature space: 74%"
       ]
      },
      {
       "output_type": "stream",
       "stream": "stdout",
       "text": [
        "\r",
        "  - Level 0: Computing feature space: 75%"
       ]
      },
      {
       "output_type": "stream",
       "stream": "stdout",
       "text": [
        "\r",
        "  - Level 0: Computing feature space: 76%"
       ]
      },
      {
       "output_type": "stream",
       "stream": "stdout",
       "text": [
        "\r",
        "  - Level 0: Computing feature space: 77%"
       ]
      },
      {
       "output_type": "stream",
       "stream": "stdout",
       "text": [
        "\r",
        "  - Level 0: Computing feature space: 78%"
       ]
      },
      {
       "output_type": "stream",
       "stream": "stdout",
       "text": [
        "\r",
        "  - Level 0: Computing feature space: 79%"
       ]
      },
      {
       "output_type": "stream",
       "stream": "stdout",
       "text": [
        "\r",
        "  - Level 0: Computing feature space: 80%"
       ]
      },
      {
       "output_type": "stream",
       "stream": "stdout",
       "text": [
        "\r",
        "  - Level 0: Computing feature space: 81%"
       ]
      },
      {
       "output_type": "stream",
       "stream": "stdout",
       "text": [
        "\r",
        "  - Level 0: Computing feature space: 82%"
       ]
      },
      {
       "output_type": "stream",
       "stream": "stdout",
       "text": [
        "\r",
        "  - Level 0: Computing feature space: 83%"
       ]
      },
      {
       "output_type": "stream",
       "stream": "stdout",
       "text": [
        "\r",
        "  - Level 0: Computing feature space: 84%"
       ]
      },
      {
       "output_type": "stream",
       "stream": "stdout",
       "text": [
        "\r",
        "  - Level 0: Computing feature space: 85%"
       ]
      },
      {
       "output_type": "stream",
       "stream": "stdout",
       "text": [
        "\r",
        "  - Level 0: Computing feature space: 86%"
       ]
      },
      {
       "output_type": "stream",
       "stream": "stdout",
       "text": [
        "\r",
        "  - Level 0: Computing feature space: 87%"
       ]
      },
      {
       "output_type": "stream",
       "stream": "stdout",
       "text": [
        "\r",
        "  - Level 0: Computing feature space: 88%"
       ]
      },
      {
       "output_type": "stream",
       "stream": "stdout",
       "text": [
        "\r",
        "  - Level 0: Computing feature space: 89%"
       ]
      },
      {
       "output_type": "stream",
       "stream": "stdout",
       "text": [
        "\r",
        "  - Level 0: Computing feature space: 90%"
       ]
      },
      {
       "output_type": "stream",
       "stream": "stdout",
       "text": [
        "\r",
        "  - Level 0: Computing feature space: 91%"
       ]
      },
      {
       "output_type": "stream",
       "stream": "stdout",
       "text": [
        "\r",
        "  - Level 0: Computing feature space: 92%"
       ]
      },
      {
       "output_type": "stream",
       "stream": "stdout",
       "text": [
        "\r",
        "  - Level 0: Computing feature space: 93%"
       ]
      },
      {
       "output_type": "stream",
       "stream": "stdout",
       "text": [
        "\r",
        "  - Level 0: Computing feature space: 94%"
       ]
      },
      {
       "output_type": "stream",
       "stream": "stdout",
       "text": [
        "\r",
        "  - Level 0: Computing feature space: 95%"
       ]
      },
      {
       "output_type": "stream",
       "stream": "stdout",
       "text": [
        "\r",
        "  - Level 0: Computing feature space: 96%"
       ]
      },
      {
       "output_type": "stream",
       "stream": "stdout",
       "text": [
        "\r",
        "  - Level 0: Computing feature space: 97%"
       ]
      },
      {
       "output_type": "stream",
       "stream": "stdout",
       "text": [
        "\r",
        "  - Level 0: Computing feature space: 98%"
       ]
      },
      {
       "output_type": "stream",
       "stream": "stdout",
       "text": [
        "\r",
        "  - Level 0: Computing feature space: 99%"
       ]
      },
      {
       "output_type": "stream",
       "stream": "stdout",
       "text": [
        "\r",
        "  - Level 0: Computing feature space: 100%"
       ]
      },
      {
       "output_type": "stream",
       "stream": "stdout",
       "text": [
        "\r",
        "  - Level 0: Building shape model"
       ]
      },
      {
       "output_type": "stream",
       "stream": "stdout",
       "text": [
        "\r",
        "  - Level 0: Warping images - 1%"
       ]
      },
      {
       "output_type": "stream",
       "stream": "stdout",
       "text": [
        "\r",
        "  - Level 0: Warping images - 2%"
       ]
      },
      {
       "output_type": "stream",
       "stream": "stdout",
       "text": [
        "\r",
        "  - Level 0: Warping images - 3%"
       ]
      },
      {
       "output_type": "stream",
       "stream": "stdout",
       "text": [
        "\r",
        "  - Level 0: Warping images - 4%"
       ]
      },
      {
       "output_type": "stream",
       "stream": "stdout",
       "text": [
        "\r",
        "  - Level 0: Warping images - 5%"
       ]
      },
      {
       "output_type": "stream",
       "stream": "stdout",
       "text": [
        "\r",
        "  - Level 0: Warping images - 6%"
       ]
      },
      {
       "output_type": "stream",
       "stream": "stdout",
       "text": [
        "\r",
        "  - Level 0: Warping images - 7%"
       ]
      },
      {
       "output_type": "stream",
       "stream": "stdout",
       "text": [
        "\r",
        "  - Level 0: Warping images - 8%"
       ]
      },
      {
       "output_type": "stream",
       "stream": "stdout",
       "text": [
        "\r",
        "  - Level 0: Warping images - 9%"
       ]
      },
      {
       "output_type": "stream",
       "stream": "stdout",
       "text": [
        "\r",
        "  - Level 0: Warping images - 10%"
       ]
      },
      {
       "output_type": "stream",
       "stream": "stdout",
       "text": [
        "\r",
        "  - Level 0: Warping images - 11%"
       ]
      },
      {
       "output_type": "stream",
       "stream": "stdout",
       "text": [
        "\r",
        "  - Level 0: Warping images - 12%"
       ]
      },
      {
       "output_type": "stream",
       "stream": "stdout",
       "text": [
        "\r",
        "  - Level 0: Warping images - 13%"
       ]
      },
      {
       "output_type": "stream",
       "stream": "stdout",
       "text": [
        "\r",
        "  - Level 0: Warping images - 14%"
       ]
      },
      {
       "output_type": "stream",
       "stream": "stdout",
       "text": [
        "\r",
        "  - Level 0: Warping images - 15%"
       ]
      },
      {
       "output_type": "stream",
       "stream": "stdout",
       "text": [
        "\r",
        "  - Level 0: Warping images - 16%"
       ]
      },
      {
       "output_type": "stream",
       "stream": "stdout",
       "text": [
        "\r",
        "  - Level 0: Warping images - 17%"
       ]
      },
      {
       "output_type": "stream",
       "stream": "stdout",
       "text": [
        "\r",
        "  - Level 0: Warping images - 18%"
       ]
      },
      {
       "output_type": "stream",
       "stream": "stdout",
       "text": [
        "\r",
        "  - Level 0: Warping images - 19%"
       ]
      },
      {
       "output_type": "stream",
       "stream": "stdout",
       "text": [
        "\r",
        "  - Level 0: Warping images - 20%"
       ]
      },
      {
       "output_type": "stream",
       "stream": "stdout",
       "text": [
        "\r",
        "  - Level 0: Warping images - 21%"
       ]
      },
      {
       "output_type": "stream",
       "stream": "stdout",
       "text": [
        "\r",
        "  - Level 0: Warping images - 22%"
       ]
      },
      {
       "output_type": "stream",
       "stream": "stdout",
       "text": [
        "\r",
        "  - Level 0: Warping images - 23%"
       ]
      },
      {
       "output_type": "stream",
       "stream": "stdout",
       "text": [
        "\r",
        "  - Level 0: Warping images - 24%"
       ]
      },
      {
       "output_type": "stream",
       "stream": "stdout",
       "text": [
        "\r",
        "  - Level 0: Warping images - 25%"
       ]
      },
      {
       "output_type": "stream",
       "stream": "stdout",
       "text": [
        "\r",
        "  - Level 0: Warping images - 26%"
       ]
      },
      {
       "output_type": "stream",
       "stream": "stdout",
       "text": [
        "\r",
        "  - Level 0: Warping images - 27%"
       ]
      },
      {
       "output_type": "stream",
       "stream": "stdout",
       "text": [
        "\r",
        "  - Level 0: Warping images - 28%"
       ]
      },
      {
       "output_type": "stream",
       "stream": "stdout",
       "text": [
        "\r",
        "  - Level 0: Warping images - 28%"
       ]
      },
      {
       "output_type": "stream",
       "stream": "stdout",
       "text": [
        "\r",
        "  - Level 0: Warping images - 30%"
       ]
      },
      {
       "output_type": "stream",
       "stream": "stdout",
       "text": [
        "\r",
        "  - Level 0: Warping images - 31%"
       ]
      },
      {
       "output_type": "stream",
       "stream": "stdout",
       "text": [
        "\r",
        "  - Level 0: Warping images - 32%"
       ]
      },
      {
       "output_type": "stream",
       "stream": "stdout",
       "text": [
        "\r",
        "  - Level 0: Warping images - 33%"
       ]
      },
      {
       "output_type": "stream",
       "stream": "stdout",
       "text": [
        "\r",
        "  - Level 0: Warping images - 34%"
       ]
      },
      {
       "output_type": "stream",
       "stream": "stdout",
       "text": [
        "\r",
        "  - Level 0: Warping images - 35%"
       ]
      },
      {
       "output_type": "stream",
       "stream": "stdout",
       "text": [
        "\r",
        "  - Level 0: Warping images - 36%"
       ]
      },
      {
       "output_type": "stream",
       "stream": "stdout",
       "text": [
        "\r",
        "  - Level 0: Warping images - 37%"
       ]
      },
      {
       "output_type": "stream",
       "stream": "stdout",
       "text": [
        "\r",
        "  - Level 0: Warping images - 38%"
       ]
      },
      {
       "output_type": "stream",
       "stream": "stdout",
       "text": [
        "\r",
        "  - Level 0: Warping images - 39%"
       ]
      },
      {
       "output_type": "stream",
       "stream": "stdout",
       "text": [
        "\r",
        "  - Level 0: Warping images - 40%"
       ]
      },
      {
       "output_type": "stream",
       "stream": "stdout",
       "text": [
        "\r",
        "  - Level 0: Warping images - 41%"
       ]
      },
      {
       "output_type": "stream",
       "stream": "stdout",
       "text": [
        "\r",
        "  - Level 0: Warping images - 42%"
       ]
      },
      {
       "output_type": "stream",
       "stream": "stdout",
       "text": [
        "\r",
        "  - Level 0: Warping images - 43%"
       ]
      },
      {
       "output_type": "stream",
       "stream": "stdout",
       "text": [
        "\r",
        "  - Level 0: Warping images - 44%"
       ]
      },
      {
       "output_type": "stream",
       "stream": "stdout",
       "text": [
        "\r",
        "  - Level 0: Warping images - 45%"
       ]
      },
      {
       "output_type": "stream",
       "stream": "stdout",
       "text": [
        "\r",
        "  - Level 0: Warping images - 46%"
       ]
      },
      {
       "output_type": "stream",
       "stream": "stdout",
       "text": [
        "\r",
        "  - Level 0: Warping images - 47%"
       ]
      },
      {
       "output_type": "stream",
       "stream": "stdout",
       "text": [
        "\r",
        "  - Level 0: Warping images - 48%"
       ]
      },
      {
       "output_type": "stream",
       "stream": "stdout",
       "text": [
        "\r",
        "  - Level 0: Warping images - 49%"
       ]
      },
      {
       "output_type": "stream",
       "stream": "stdout",
       "text": [
        "\r",
        "  - Level 0: Warping images - 50%"
       ]
      },
      {
       "output_type": "stream",
       "stream": "stdout",
       "text": [
        "\r",
        "  - Level 0: Warping images - 51%"
       ]
      },
      {
       "output_type": "stream",
       "stream": "stdout",
       "text": [
        "\r",
        "  - Level 0: Warping images - 52%"
       ]
      },
      {
       "output_type": "stream",
       "stream": "stdout",
       "text": [
        "\r",
        "  - Level 0: Warping images - 53%"
       ]
      },
      {
       "output_type": "stream",
       "stream": "stdout",
       "text": [
        "\r",
        "  - Level 0: Warping images - 54%"
       ]
      },
      {
       "output_type": "stream",
       "stream": "stdout",
       "text": [
        "\r",
        "  - Level 0: Warping images - 55%"
       ]
      },
      {
       "output_type": "stream",
       "stream": "stdout",
       "text": [
        "\r",
        "  - Level 0: Warping images - 56%"
       ]
      },
      {
       "output_type": "stream",
       "stream": "stdout",
       "text": [
        "\r",
        "  - Level 0: Warping images - 56%"
       ]
      },
      {
       "output_type": "stream",
       "stream": "stdout",
       "text": [
        "\r",
        "  - Level 0: Warping images - 57%"
       ]
      },
      {
       "output_type": "stream",
       "stream": "stdout",
       "text": [
        "\r",
        "  - Level 0: Warping images - 59%"
       ]
      },
      {
       "output_type": "stream",
       "stream": "stdout",
       "text": [
        "\r",
        "  - Level 0: Warping images - 60%"
       ]
      },
      {
       "output_type": "stream",
       "stream": "stdout",
       "text": [
        "\r",
        "  - Level 0: Warping images - 61%"
       ]
      },
      {
       "output_type": "stream",
       "stream": "stdout",
       "text": [
        "\r",
        "  - Level 0: Warping images - 62%"
       ]
      },
      {
       "output_type": "stream",
       "stream": "stdout",
       "text": [
        "\r",
        "  - Level 0: Warping images - 63%"
       ]
      },
      {
       "output_type": "stream",
       "stream": "stdout",
       "text": [
        "\r",
        "  - Level 0: Warping images - 64%"
       ]
      },
      {
       "output_type": "stream",
       "stream": "stdout",
       "text": [
        "\r",
        "  - Level 0: Warping images - 65%"
       ]
      },
      {
       "output_type": "stream",
       "stream": "stdout",
       "text": [
        "\r",
        "  - Level 0: Warping images - 66%"
       ]
      },
      {
       "output_type": "stream",
       "stream": "stdout",
       "text": [
        "\r",
        "  - Level 0: Warping images - 67%"
       ]
      },
      {
       "output_type": "stream",
       "stream": "stdout",
       "text": [
        "\r",
        "  - Level 0: Warping images - 68%"
       ]
      },
      {
       "output_type": "stream",
       "stream": "stdout",
       "text": [
        "\r",
        "  - Level 0: Warping images - 69%"
       ]
      },
      {
       "output_type": "stream",
       "stream": "stdout",
       "text": [
        "\r",
        "  - Level 0: Warping images - 70%"
       ]
      },
      {
       "output_type": "stream",
       "stream": "stdout",
       "text": [
        "\r",
        "  - Level 0: Warping images - 71%"
       ]
      },
      {
       "output_type": "stream",
       "stream": "stdout",
       "text": [
        "\r",
        "  - Level 0: Warping images - 72%"
       ]
      },
      {
       "output_type": "stream",
       "stream": "stdout",
       "text": [
        "\r",
        "  - Level 0: Warping images - 73%"
       ]
      },
      {
       "output_type": "stream",
       "stream": "stdout",
       "text": [
        "\r",
        "  - Level 0: Warping images - 74%"
       ]
      },
      {
       "output_type": "stream",
       "stream": "stdout",
       "text": [
        "\r",
        "  - Level 0: Warping images - 75%"
       ]
      },
      {
       "output_type": "stream",
       "stream": "stdout",
       "text": [
        "\r",
        "  - Level 0: Warping images - 76%"
       ]
      },
      {
       "output_type": "stream",
       "stream": "stdout",
       "text": [
        "\r",
        "  - Level 0: Warping images - 77%"
       ]
      },
      {
       "output_type": "stream",
       "stream": "stdout",
       "text": [
        "\r",
        "  - Level 0: Warping images - 78%"
       ]
      },
      {
       "output_type": "stream",
       "stream": "stdout",
       "text": [
        "\r",
        "  - Level 0: Warping images - 79%"
       ]
      },
      {
       "output_type": "stream",
       "stream": "stdout",
       "text": [
        "\r",
        "  - Level 0: Warping images - 80%"
       ]
      },
      {
       "output_type": "stream",
       "stream": "stdout",
       "text": [
        "\r",
        "  - Level 0: Warping images - 81%"
       ]
      },
      {
       "output_type": "stream",
       "stream": "stdout",
       "text": [
        "\r",
        "  - Level 0: Warping images - 82%"
       ]
      },
      {
       "output_type": "stream",
       "stream": "stdout",
       "text": [
        "\r",
        "  - Level 0: Warping images - 83%"
       ]
      },
      {
       "output_type": "stream",
       "stream": "stdout",
       "text": [
        "\r",
        "  - Level 0: Warping images - 84%"
       ]
      },
      {
       "output_type": "stream",
       "stream": "stdout",
       "text": [
        "\r",
        "  - Level 0: Warping images - 85%"
       ]
      },
      {
       "output_type": "stream",
       "stream": "stdout",
       "text": [
        "\r",
        "  - Level 0: Warping images - 86%"
       ]
      },
      {
       "output_type": "stream",
       "stream": "stdout",
       "text": [
        "\r",
        "  - Level 0: Warping images - 87%"
       ]
      },
      {
       "output_type": "stream",
       "stream": "stdout",
       "text": [
        "\r",
        "  - Level 0: Warping images - 88%"
       ]
      },
      {
       "output_type": "stream",
       "stream": "stdout",
       "text": [
        "\r",
        "  - Level 0: Warping images - 89%"
       ]
      },
      {
       "output_type": "stream",
       "stream": "stdout",
       "text": [
        "\r",
        "  - Level 0: Warping images - 90%"
       ]
      },
      {
       "output_type": "stream",
       "stream": "stdout",
       "text": [
        "\r",
        "  - Level 0: Warping images - 91%"
       ]
      },
      {
       "output_type": "stream",
       "stream": "stdout",
       "text": [
        "\r",
        "  - Level 0: Warping images - 92%"
       ]
      },
      {
       "output_type": "stream",
       "stream": "stdout",
       "text": [
        "\r",
        "  - Level 0: Warping images - 93%"
       ]
      },
      {
       "output_type": "stream",
       "stream": "stdout",
       "text": [
        "\r",
        "  - Level 0: Warping images - 94%"
       ]
      },
      {
       "output_type": "stream",
       "stream": "stdout",
       "text": [
        "\r",
        "  - Level 0: Warping images - 95%"
       ]
      },
      {
       "output_type": "stream",
       "stream": "stdout",
       "text": [
        "\r",
        "  - Level 0: Warping images - 96%"
       ]
      },
      {
       "output_type": "stream",
       "stream": "stdout",
       "text": [
        "\r",
        "  - Level 0: Warping images - 97%"
       ]
      },
      {
       "output_type": "stream",
       "stream": "stdout",
       "text": [
        "\r",
        "  - Level 0: Warping images - 98%"
       ]
      },
      {
       "output_type": "stream",
       "stream": "stdout",
       "text": [
        "\r",
        "  - Level 0: Warping images - 99%"
       ]
      },
      {
       "output_type": "stream",
       "stream": "stdout",
       "text": [
        "\r",
        "  - Level 0: Warping images - 100%"
       ]
      },
      {
       "output_type": "stream",
       "stream": "stdout",
       "text": [
        "\r",
        "  - Level 0: Building appearance model"
       ]
      },
      {
       "output_type": "stream",
       "stream": "stdout",
       "text": [
        "\r",
        "  - Level 0: Done\n"
       ]
      },
      {
       "output_type": "stream",
       "stream": "stdout",
       "text": [
        "\r",
        "  - Level 1: Scaling features: 1%"
       ]
      },
      {
       "output_type": "stream",
       "stream": "stdout",
       "text": [
        "\r",
        "  - Level 1: Scaling features: 2%"
       ]
      },
      {
       "output_type": "stream",
       "stream": "stdout",
       "text": [
        "\r",
        "  - Level 1: Scaling features: 3%"
       ]
      },
      {
       "output_type": "stream",
       "stream": "stdout",
       "text": [
        "\r",
        "  - Level 1: Scaling features: 4%"
       ]
      },
      {
       "output_type": "stream",
       "stream": "stdout",
       "text": [
        "\r",
        "  - Level 1: Scaling features: 5%"
       ]
      },
      {
       "output_type": "stream",
       "stream": "stdout",
       "text": [
        "\r",
        "  - Level 1: Scaling features: 6%"
       ]
      },
      {
       "output_type": "stream",
       "stream": "stdout",
       "text": [
        "\r",
        "  - Level 1: Scaling features: 7%"
       ]
      },
      {
       "output_type": "stream",
       "stream": "stdout",
       "text": [
        "\r",
        "  - Level 1: Scaling features: 8%"
       ]
      },
      {
       "output_type": "stream",
       "stream": "stdout",
       "text": [
        "\r",
        "  - Level 1: Scaling features: 9%"
       ]
      },
      {
       "output_type": "stream",
       "stream": "stdout",
       "text": [
        "\r",
        "  - Level 1: Scaling features: 10%"
       ]
      },
      {
       "output_type": "stream",
       "stream": "stdout",
       "text": [
        "\r",
        "  - Level 1: Scaling features: 11%"
       ]
      },
      {
       "output_type": "stream",
       "stream": "stdout",
       "text": [
        "\r",
        "  - Level 1: Scaling features: 12%"
       ]
      },
      {
       "output_type": "stream",
       "stream": "stdout",
       "text": [
        "\r",
        "  - Level 1: Scaling features: 13%"
       ]
      },
      {
       "output_type": "stream",
       "stream": "stdout",
       "text": [
        "\r",
        "  - Level 1: Scaling features: 14%"
       ]
      },
      {
       "output_type": "stream",
       "stream": "stdout",
       "text": [
        "\r",
        "  - Level 1: Scaling features: 15%"
       ]
      },
      {
       "output_type": "stream",
       "stream": "stdout",
       "text": [
        "\r",
        "  - Level 1: Scaling features: 16%"
       ]
      },
      {
       "output_type": "stream",
       "stream": "stdout",
       "text": [
        "\r",
        "  - Level 1: Scaling features: 17%"
       ]
      },
      {
       "output_type": "stream",
       "stream": "stdout",
       "text": [
        "\r",
        "  - Level 1: Scaling features: 18%"
       ]
      },
      {
       "output_type": "stream",
       "stream": "stdout",
       "text": [
        "\r",
        "  - Level 1: Scaling features: 19%"
       ]
      },
      {
       "output_type": "stream",
       "stream": "stdout",
       "text": [
        "\r",
        "  - Level 1: Scaling features: 20%"
       ]
      },
      {
       "output_type": "stream",
       "stream": "stdout",
       "text": [
        "\r",
        "  - Level 1: Scaling features: 21%"
       ]
      },
      {
       "output_type": "stream",
       "stream": "stdout",
       "text": [
        "\r",
        "  - Level 1: Scaling features: 22%"
       ]
      },
      {
       "output_type": "stream",
       "stream": "stdout",
       "text": [
        "\r",
        "  - Level 1: Scaling features: 23%"
       ]
      },
      {
       "output_type": "stream",
       "stream": "stdout",
       "text": [
        "\r",
        "  - Level 1: Scaling features: 24%"
       ]
      },
      {
       "output_type": "stream",
       "stream": "stdout",
       "text": [
        "\r",
        "  - Level 1: Scaling features: 25%"
       ]
      },
      {
       "output_type": "stream",
       "stream": "stdout",
       "text": [
        "\r",
        "  - Level 1: Scaling features: 26%"
       ]
      },
      {
       "output_type": "stream",
       "stream": "stdout",
       "text": [
        "\r",
        "  - Level 1: Scaling features: 27%"
       ]
      },
      {
       "output_type": "stream",
       "stream": "stdout",
       "text": [
        "\r",
        "  - Level 1: Scaling features: 28%"
       ]
      },
      {
       "output_type": "stream",
       "stream": "stdout",
       "text": [
        "\r",
        "  - Level 1: Scaling features: 28%"
       ]
      },
      {
       "output_type": "stream",
       "stream": "stdout",
       "text": [
        "\r",
        "  - Level 1: Scaling features: 30%"
       ]
      },
      {
       "output_type": "stream",
       "stream": "stdout",
       "text": [
        "\r",
        "  - Level 1: Scaling features: 31%"
       ]
      },
      {
       "output_type": "stream",
       "stream": "stdout",
       "text": [
        "\r",
        "  - Level 1: Scaling features: 32%"
       ]
      },
      {
       "output_type": "stream",
       "stream": "stdout",
       "text": [
        "\r",
        "  - Level 1: Scaling features: 33%"
       ]
      },
      {
       "output_type": "stream",
       "stream": "stdout",
       "text": [
        "\r",
        "  - Level 1: Scaling features: 34%"
       ]
      },
      {
       "output_type": "stream",
       "stream": "stdout",
       "text": [
        "\r",
        "  - Level 1: Scaling features: 35%"
       ]
      },
      {
       "output_type": "stream",
       "stream": "stdout",
       "text": [
        "\r",
        "  - Level 1: Scaling features: 36%"
       ]
      },
      {
       "output_type": "stream",
       "stream": "stdout",
       "text": [
        "\r",
        "  - Level 1: Scaling features: 37%"
       ]
      },
      {
       "output_type": "stream",
       "stream": "stdout",
       "text": [
        "\r",
        "  - Level 1: Scaling features: 38%"
       ]
      },
      {
       "output_type": "stream",
       "stream": "stdout",
       "text": [
        "\r",
        "  - Level 1: Scaling features: 39%"
       ]
      },
      {
       "output_type": "stream",
       "stream": "stdout",
       "text": [
        "\r",
        "  - Level 1: Scaling features: 40%"
       ]
      },
      {
       "output_type": "stream",
       "stream": "stdout",
       "text": [
        "\r",
        "  - Level 1: Scaling features: 41%"
       ]
      },
      {
       "output_type": "stream",
       "stream": "stdout",
       "text": [
        "\r",
        "  - Level 1: Scaling features: 42%"
       ]
      },
      {
       "output_type": "stream",
       "stream": "stdout",
       "text": [
        "\r",
        "  - Level 1: Scaling features: 43%"
       ]
      },
      {
       "output_type": "stream",
       "stream": "stdout",
       "text": [
        "\r",
        "  - Level 1: Scaling features: 44%"
       ]
      },
      {
       "output_type": "stream",
       "stream": "stdout",
       "text": [
        "\r",
        "  - Level 1: Scaling features: 45%"
       ]
      },
      {
       "output_type": "stream",
       "stream": "stdout",
       "text": [
        "\r",
        "  - Level 1: Scaling features: 46%"
       ]
      },
      {
       "output_type": "stream",
       "stream": "stdout",
       "text": [
        "\r",
        "  - Level 1: Scaling features: 47%"
       ]
      },
      {
       "output_type": "stream",
       "stream": "stdout",
       "text": [
        "\r",
        "  - Level 1: Scaling features: 48%"
       ]
      },
      {
       "output_type": "stream",
       "stream": "stdout",
       "text": [
        "\r",
        "  - Level 1: Scaling features: 49%"
       ]
      },
      {
       "output_type": "stream",
       "stream": "stdout",
       "text": [
        "\r",
        "  - Level 1: Scaling features: 50%"
       ]
      },
      {
       "output_type": "stream",
       "stream": "stdout",
       "text": [
        "\r",
        "  - Level 1: Scaling features: 51%"
       ]
      },
      {
       "output_type": "stream",
       "stream": "stdout",
       "text": [
        "\r",
        "  - Level 1: Scaling features: 52%"
       ]
      },
      {
       "output_type": "stream",
       "stream": "stdout",
       "text": [
        "\r",
        "  - Level 1: Scaling features: 53%"
       ]
      },
      {
       "output_type": "stream",
       "stream": "stdout",
       "text": [
        "\r",
        "  - Level 1: Scaling features: 54%"
       ]
      },
      {
       "output_type": "stream",
       "stream": "stdout",
       "text": [
        "\r",
        "  - Level 1: Scaling features: 55%"
       ]
      },
      {
       "output_type": "stream",
       "stream": "stdout",
       "text": [
        "\r",
        "  - Level 1: Scaling features: 56%"
       ]
      },
      {
       "output_type": "stream",
       "stream": "stdout",
       "text": [
        "\r",
        "  - Level 1: Scaling features: 56%"
       ]
      },
      {
       "output_type": "stream",
       "stream": "stdout",
       "text": [
        "\r",
        "  - Level 1: Scaling features: 57%"
       ]
      },
      {
       "output_type": "stream",
       "stream": "stdout",
       "text": [
        "\r",
        "  - Level 1: Scaling features: 59%"
       ]
      },
      {
       "output_type": "stream",
       "stream": "stdout",
       "text": [
        "\r",
        "  - Level 1: Scaling features: 60%"
       ]
      },
      {
       "output_type": "stream",
       "stream": "stdout",
       "text": [
        "\r",
        "  - Level 1: Scaling features: 61%"
       ]
      },
      {
       "output_type": "stream",
       "stream": "stdout",
       "text": [
        "\r",
        "  - Level 1: Scaling features: 62%"
       ]
      },
      {
       "output_type": "stream",
       "stream": "stdout",
       "text": [
        "\r",
        "  - Level 1: Scaling features: 63%"
       ]
      },
      {
       "output_type": "stream",
       "stream": "stdout",
       "text": [
        "\r",
        "  - Level 1: Scaling features: 64%"
       ]
      },
      {
       "output_type": "stream",
       "stream": "stdout",
       "text": [
        "\r",
        "  - Level 1: Scaling features: 65%"
       ]
      },
      {
       "output_type": "stream",
       "stream": "stdout",
       "text": [
        "\r",
        "  - Level 1: Scaling features: 66%"
       ]
      },
      {
       "output_type": "stream",
       "stream": "stdout",
       "text": [
        "\r",
        "  - Level 1: Scaling features: 67%"
       ]
      },
      {
       "output_type": "stream",
       "stream": "stdout",
       "text": [
        "\r",
        "  - Level 1: Scaling features: 68%"
       ]
      },
      {
       "output_type": "stream",
       "stream": "stdout",
       "text": [
        "\r",
        "  - Level 1: Scaling features: 69%"
       ]
      },
      {
       "output_type": "stream",
       "stream": "stdout",
       "text": [
        "\r",
        "  - Level 1: Scaling features: 70%"
       ]
      },
      {
       "output_type": "stream",
       "stream": "stdout",
       "text": [
        "\r",
        "  - Level 1: Scaling features: 71%"
       ]
      },
      {
       "output_type": "stream",
       "stream": "stdout",
       "text": [
        "\r",
        "  - Level 1: Scaling features: 72%"
       ]
      },
      {
       "output_type": "stream",
       "stream": "stdout",
       "text": [
        "\r",
        "  - Level 1: Scaling features: 73%"
       ]
      },
      {
       "output_type": "stream",
       "stream": "stdout",
       "text": [
        "\r",
        "  - Level 1: Scaling features: 74%"
       ]
      },
      {
       "output_type": "stream",
       "stream": "stdout",
       "text": [
        "\r",
        "  - Level 1: Scaling features: 75%"
       ]
      },
      {
       "output_type": "stream",
       "stream": "stdout",
       "text": [
        "\r",
        "  - Level 1: Scaling features: 76%"
       ]
      },
      {
       "output_type": "stream",
       "stream": "stdout",
       "text": [
        "\r",
        "  - Level 1: Scaling features: 77%"
       ]
      },
      {
       "output_type": "stream",
       "stream": "stdout",
       "text": [
        "\r",
        "  - Level 1: Scaling features: 78%"
       ]
      },
      {
       "output_type": "stream",
       "stream": "stdout",
       "text": [
        "\r",
        "  - Level 1: Scaling features: 79%"
       ]
      },
      {
       "output_type": "stream",
       "stream": "stdout",
       "text": [
        "\r",
        "  - Level 1: Scaling features: 80%"
       ]
      },
      {
       "output_type": "stream",
       "stream": "stdout",
       "text": [
        "\r",
        "  - Level 1: Scaling features: 81%"
       ]
      },
      {
       "output_type": "stream",
       "stream": "stdout",
       "text": [
        "\r",
        "  - Level 1: Scaling features: 82%"
       ]
      },
      {
       "output_type": "stream",
       "stream": "stdout",
       "text": [
        "\r",
        "  - Level 1: Scaling features: 83%"
       ]
      },
      {
       "output_type": "stream",
       "stream": "stdout",
       "text": [
        "\r",
        "  - Level 1: Scaling features: 84%"
       ]
      },
      {
       "output_type": "stream",
       "stream": "stdout",
       "text": [
        "\r",
        "  - Level 1: Scaling features: 85%"
       ]
      },
      {
       "output_type": "stream",
       "stream": "stdout",
       "text": [
        "\r",
        "  - Level 1: Scaling features: 86%"
       ]
      },
      {
       "output_type": "stream",
       "stream": "stdout",
       "text": [
        "\r",
        "  - Level 1: Scaling features: 87%"
       ]
      },
      {
       "output_type": "stream",
       "stream": "stdout",
       "text": [
        "\r",
        "  - Level 1: Scaling features: 88%"
       ]
      },
      {
       "output_type": "stream",
       "stream": "stdout",
       "text": [
        "\r",
        "  - Level 1: Scaling features: 89%"
       ]
      },
      {
       "output_type": "stream",
       "stream": "stdout",
       "text": [
        "\r",
        "  - Level 1: Scaling features: 90%"
       ]
      },
      {
       "output_type": "stream",
       "stream": "stdout",
       "text": [
        "\r",
        "  - Level 1: Scaling features: 91%"
       ]
      },
      {
       "output_type": "stream",
       "stream": "stdout",
       "text": [
        "\r",
        "  - Level 1: Scaling features: 92%"
       ]
      },
      {
       "output_type": "stream",
       "stream": "stdout",
       "text": [
        "\r",
        "  - Level 1: Scaling features: 93%"
       ]
      },
      {
       "output_type": "stream",
       "stream": "stdout",
       "text": [
        "\r",
        "  - Level 1: Scaling features: 94%"
       ]
      },
      {
       "output_type": "stream",
       "stream": "stdout",
       "text": [
        "\r",
        "  - Level 1: Scaling features: 95%"
       ]
      },
      {
       "output_type": "stream",
       "stream": "stdout",
       "text": [
        "\r",
        "  - Level 1: Scaling features: 96%"
       ]
      },
      {
       "output_type": "stream",
       "stream": "stdout",
       "text": [
        "\r",
        "  - Level 1: Scaling features: 97%"
       ]
      },
      {
       "output_type": "stream",
       "stream": "stdout",
       "text": [
        "\r",
        "  - Level 1: Scaling features: 98%"
       ]
      },
      {
       "output_type": "stream",
       "stream": "stdout",
       "text": [
        "\r",
        "  - Level 1: Scaling features: 99%"
       ]
      },
      {
       "output_type": "stream",
       "stream": "stdout",
       "text": [
        "\r",
        "  - Level 1: Scaling features: 100%"
       ]
      },
      {
       "output_type": "stream",
       "stream": "stdout",
       "text": [
        "\r",
        "  - Level 1: Warping images - 1%"
       ]
      },
      {
       "output_type": "stream",
       "stream": "stdout",
       "text": [
        "\r",
        "  - Level 1: Warping images - 2%"
       ]
      },
      {
       "output_type": "stream",
       "stream": "stdout",
       "text": [
        "\r",
        "  - Level 1: Warping images - 3%"
       ]
      },
      {
       "output_type": "stream",
       "stream": "stdout",
       "text": [
        "\r",
        "  - Level 1: Warping images - 4%"
       ]
      },
      {
       "output_type": "stream",
       "stream": "stdout",
       "text": [
        "\r",
        "  - Level 1: Warping images - 5%"
       ]
      },
      {
       "output_type": "stream",
       "stream": "stdout",
       "text": [
        "\r",
        "  - Level 1: Warping images - 6%"
       ]
      },
      {
       "output_type": "stream",
       "stream": "stdout",
       "text": [
        "\r",
        "  - Level 1: Warping images - 7%"
       ]
      },
      {
       "output_type": "stream",
       "stream": "stdout",
       "text": [
        "\r",
        "  - Level 1: Warping images - 8%"
       ]
      },
      {
       "output_type": "stream",
       "stream": "stdout",
       "text": [
        "\r",
        "  - Level 1: Warping images - 9%"
       ]
      },
      {
       "output_type": "stream",
       "stream": "stdout",
       "text": [
        "\r",
        "  - Level 1: Warping images - 10%"
       ]
      },
      {
       "output_type": "stream",
       "stream": "stdout",
       "text": [
        "\r",
        "  - Level 1: Warping images - 11%"
       ]
      },
      {
       "output_type": "stream",
       "stream": "stdout",
       "text": [
        "\r",
        "  - Level 1: Warping images - 12%"
       ]
      },
      {
       "output_type": "stream",
       "stream": "stdout",
       "text": [
        "\r",
        "  - Level 1: Warping images - 13%"
       ]
      },
      {
       "output_type": "stream",
       "stream": "stdout",
       "text": [
        "\r",
        "  - Level 1: Warping images - 14%"
       ]
      },
      {
       "output_type": "stream",
       "stream": "stdout",
       "text": [
        "\r",
        "  - Level 1: Warping images - 15%"
       ]
      },
      {
       "output_type": "stream",
       "stream": "stdout",
       "text": [
        "\r",
        "  - Level 1: Warping images - 16%"
       ]
      },
      {
       "output_type": "stream",
       "stream": "stdout",
       "text": [
        "\r",
        "  - Level 1: Warping images - 17%"
       ]
      },
      {
       "output_type": "stream",
       "stream": "stdout",
       "text": [
        "\r",
        "  - Level 1: Warping images - 18%"
       ]
      },
      {
       "output_type": "stream",
       "stream": "stdout",
       "text": [
        "\r",
        "  - Level 1: Warping images - 19%"
       ]
      },
      {
       "output_type": "stream",
       "stream": "stdout",
       "text": [
        "\r",
        "  - Level 1: Warping images - 20%"
       ]
      },
      {
       "output_type": "stream",
       "stream": "stdout",
       "text": [
        "\r",
        "  - Level 1: Warping images - 21%"
       ]
      },
      {
       "output_type": "stream",
       "stream": "stdout",
       "text": [
        "\r",
        "  - Level 1: Warping images - 22%"
       ]
      },
      {
       "output_type": "stream",
       "stream": "stdout",
       "text": [
        "\r",
        "  - Level 1: Warping images - 23%"
       ]
      },
      {
       "output_type": "stream",
       "stream": "stdout",
       "text": [
        "\r",
        "  - Level 1: Warping images - 24%"
       ]
      },
      {
       "output_type": "stream",
       "stream": "stdout",
       "text": [
        "\r",
        "  - Level 1: Warping images - 25%"
       ]
      },
      {
       "output_type": "stream",
       "stream": "stdout",
       "text": [
        "\r",
        "  - Level 1: Warping images - 26%"
       ]
      },
      {
       "output_type": "stream",
       "stream": "stdout",
       "text": [
        "\r",
        "  - Level 1: Warping images - 27%"
       ]
      },
      {
       "output_type": "stream",
       "stream": "stdout",
       "text": [
        "\r",
        "  - Level 1: Warping images - 28%"
       ]
      },
      {
       "output_type": "stream",
       "stream": "stdout",
       "text": [
        "\r",
        "  - Level 1: Warping images - 28%"
       ]
      },
      {
       "output_type": "stream",
       "stream": "stdout",
       "text": [
        "\r",
        "  - Level 1: Warping images - 30%"
       ]
      },
      {
       "output_type": "stream",
       "stream": "stdout",
       "text": [
        "\r",
        "  - Level 1: Warping images - 31%"
       ]
      },
      {
       "output_type": "stream",
       "stream": "stdout",
       "text": [
        "\r",
        "  - Level 1: Warping images - 32%"
       ]
      },
      {
       "output_type": "stream",
       "stream": "stdout",
       "text": [
        "\r",
        "  - Level 1: Warping images - 33%"
       ]
      },
      {
       "output_type": "stream",
       "stream": "stdout",
       "text": [
        "\r",
        "  - Level 1: Warping images - 34%"
       ]
      },
      {
       "output_type": "stream",
       "stream": "stdout",
       "text": [
        "\r",
        "  - Level 1: Warping images - 35%"
       ]
      },
      {
       "output_type": "stream",
       "stream": "stdout",
       "text": [
        "\r",
        "  - Level 1: Warping images - 36%"
       ]
      },
      {
       "output_type": "stream",
       "stream": "stdout",
       "text": [
        "\r",
        "  - Level 1: Warping images - 37%"
       ]
      },
      {
       "output_type": "stream",
       "stream": "stdout",
       "text": [
        "\r",
        "  - Level 1: Warping images - 38%"
       ]
      },
      {
       "output_type": "stream",
       "stream": "stdout",
       "text": [
        "\r",
        "  - Level 1: Warping images - 39%"
       ]
      },
      {
       "output_type": "stream",
       "stream": "stdout",
       "text": [
        "\r",
        "  - Level 1: Warping images - 40%"
       ]
      },
      {
       "output_type": "stream",
       "stream": "stdout",
       "text": [
        "\r",
        "  - Level 1: Warping images - 41%"
       ]
      },
      {
       "output_type": "stream",
       "stream": "stdout",
       "text": [
        "\r",
        "  - Level 1: Warping images - 42%"
       ]
      },
      {
       "output_type": "stream",
       "stream": "stdout",
       "text": [
        "\r",
        "  - Level 1: Warping images - 43%"
       ]
      },
      {
       "output_type": "stream",
       "stream": "stdout",
       "text": [
        "\r",
        "  - Level 1: Warping images - 44%"
       ]
      },
      {
       "output_type": "stream",
       "stream": "stdout",
       "text": [
        "\r",
        "  - Level 1: Warping images - 45%"
       ]
      },
      {
       "output_type": "stream",
       "stream": "stdout",
       "text": [
        "\r",
        "  - Level 1: Warping images - 46%"
       ]
      },
      {
       "output_type": "stream",
       "stream": "stdout",
       "text": [
        "\r",
        "  - Level 1: Warping images - 47%"
       ]
      },
      {
       "output_type": "stream",
       "stream": "stdout",
       "text": [
        "\r",
        "  - Level 1: Warping images - 48%"
       ]
      },
      {
       "output_type": "stream",
       "stream": "stdout",
       "text": [
        "\r",
        "  - Level 1: Warping images - 49%"
       ]
      },
      {
       "output_type": "stream",
       "stream": "stdout",
       "text": [
        "\r",
        "  - Level 1: Warping images - 50%"
       ]
      },
      {
       "output_type": "stream",
       "stream": "stdout",
       "text": [
        "\r",
        "  - Level 1: Warping images - 51%"
       ]
      },
      {
       "output_type": "stream",
       "stream": "stdout",
       "text": [
        "\r",
        "  - Level 1: Warping images - 52%"
       ]
      },
      {
       "output_type": "stream",
       "stream": "stdout",
       "text": [
        "\r",
        "  - Level 1: Warping images - 53%"
       ]
      },
      {
       "output_type": "stream",
       "stream": "stdout",
       "text": [
        "\r",
        "  - Level 1: Warping images - 54%"
       ]
      },
      {
       "output_type": "stream",
       "stream": "stdout",
       "text": [
        "\r",
        "  - Level 1: Warping images - 55%"
       ]
      },
      {
       "output_type": "stream",
       "stream": "stdout",
       "text": [
        "\r",
        "  - Level 1: Warping images - 56%"
       ]
      },
      {
       "output_type": "stream",
       "stream": "stdout",
       "text": [
        "\r",
        "  - Level 1: Warping images - 56%"
       ]
      },
      {
       "output_type": "stream",
       "stream": "stdout",
       "text": [
        "\r",
        "  - Level 1: Warping images - 57%"
       ]
      },
      {
       "output_type": "stream",
       "stream": "stdout",
       "text": [
        "\r",
        "  - Level 1: Warping images - 59%"
       ]
      },
      {
       "output_type": "stream",
       "stream": "stdout",
       "text": [
        "\r",
        "  - Level 1: Warping images - 60%"
       ]
      },
      {
       "output_type": "stream",
       "stream": "stdout",
       "text": [
        "\r",
        "  - Level 1: Warping images - 61%"
       ]
      },
      {
       "output_type": "stream",
       "stream": "stdout",
       "text": [
        "\r",
        "  - Level 1: Warping images - 62%"
       ]
      },
      {
       "output_type": "stream",
       "stream": "stdout",
       "text": [
        "\r",
        "  - Level 1: Warping images - 63%"
       ]
      },
      {
       "output_type": "stream",
       "stream": "stdout",
       "text": [
        "\r",
        "  - Level 1: Warping images - 64%"
       ]
      },
      {
       "output_type": "stream",
       "stream": "stdout",
       "text": [
        "\r",
        "  - Level 1: Warping images - 65%"
       ]
      },
      {
       "output_type": "stream",
       "stream": "stdout",
       "text": [
        "\r",
        "  - Level 1: Warping images - 66%"
       ]
      },
      {
       "output_type": "stream",
       "stream": "stdout",
       "text": [
        "\r",
        "  - Level 1: Warping images - 67%"
       ]
      },
      {
       "output_type": "stream",
       "stream": "stdout",
       "text": [
        "\r",
        "  - Level 1: Warping images - 68%"
       ]
      },
      {
       "output_type": "stream",
       "stream": "stdout",
       "text": [
        "\r",
        "  - Level 1: Warping images - 69%"
       ]
      },
      {
       "output_type": "stream",
       "stream": "stdout",
       "text": [
        "\r",
        "  - Level 1: Warping images - 70%"
       ]
      },
      {
       "output_type": "stream",
       "stream": "stdout",
       "text": [
        "\r",
        "  - Level 1: Warping images - 71%"
       ]
      },
      {
       "output_type": "stream",
       "stream": "stdout",
       "text": [
        "\r",
        "  - Level 1: Warping images - 72%"
       ]
      },
      {
       "output_type": "stream",
       "stream": "stdout",
       "text": [
        "\r",
        "  - Level 1: Warping images - 73%"
       ]
      },
      {
       "output_type": "stream",
       "stream": "stdout",
       "text": [
        "\r",
        "  - Level 1: Warping images - 74%"
       ]
      },
      {
       "output_type": "stream",
       "stream": "stdout",
       "text": [
        "\r",
        "  - Level 1: Warping images - 75%"
       ]
      },
      {
       "output_type": "stream",
       "stream": "stdout",
       "text": [
        "\r",
        "  - Level 1: Warping images - 76%"
       ]
      },
      {
       "output_type": "stream",
       "stream": "stdout",
       "text": [
        "\r",
        "  - Level 1: Warping images - 77%"
       ]
      },
      {
       "output_type": "stream",
       "stream": "stdout",
       "text": [
        "\r",
        "  - Level 1: Warping images - 78%"
       ]
      },
      {
       "output_type": "stream",
       "stream": "stdout",
       "text": [
        "\r",
        "  - Level 1: Warping images - 79%"
       ]
      },
      {
       "output_type": "stream",
       "stream": "stdout",
       "text": [
        "\r",
        "  - Level 1: Warping images - 80%"
       ]
      },
      {
       "output_type": "stream",
       "stream": "stdout",
       "text": [
        "\r",
        "  - Level 1: Warping images - 81%"
       ]
      },
      {
       "output_type": "stream",
       "stream": "stdout",
       "text": [
        "\r",
        "  - Level 1: Warping images - 82%"
       ]
      },
      {
       "output_type": "stream",
       "stream": "stdout",
       "text": [
        "\r",
        "  - Level 1: Warping images - 83%"
       ]
      },
      {
       "output_type": "stream",
       "stream": "stdout",
       "text": [
        "\r",
        "  - Level 1: Warping images - 84%"
       ]
      },
      {
       "output_type": "stream",
       "stream": "stdout",
       "text": [
        "\r",
        "  - Level 1: Warping images - 85%"
       ]
      },
      {
       "output_type": "stream",
       "stream": "stdout",
       "text": [
        "\r",
        "  - Level 1: Warping images - 86%"
       ]
      },
      {
       "output_type": "stream",
       "stream": "stdout",
       "text": [
        "\r",
        "  - Level 1: Warping images - 87%"
       ]
      },
      {
       "output_type": "stream",
       "stream": "stdout",
       "text": [
        "\r",
        "  - Level 1: Warping images - 88%"
       ]
      },
      {
       "output_type": "stream",
       "stream": "stdout",
       "text": [
        "\r",
        "  - Level 1: Warping images - 89%"
       ]
      },
      {
       "output_type": "stream",
       "stream": "stdout",
       "text": [
        "\r",
        "  - Level 1: Warping images - 90%"
       ]
      },
      {
       "output_type": "stream",
       "stream": "stdout",
       "text": [
        "\r",
        "  - Level 1: Warping images - 91%"
       ]
      },
      {
       "output_type": "stream",
       "stream": "stdout",
       "text": [
        "\r",
        "  - Level 1: Warping images - 92%"
       ]
      },
      {
       "output_type": "stream",
       "stream": "stdout",
       "text": [
        "\r",
        "  - Level 1: Warping images - 93%"
       ]
      },
      {
       "output_type": "stream",
       "stream": "stdout",
       "text": [
        "\r",
        "  - Level 1: Warping images - 94%"
       ]
      },
      {
       "output_type": "stream",
       "stream": "stdout",
       "text": [
        "\r",
        "  - Level 1: Warping images - 95%"
       ]
      },
      {
       "output_type": "stream",
       "stream": "stdout",
       "text": [
        "\r",
        "  - Level 1: Warping images - 96%"
       ]
      },
      {
       "output_type": "stream",
       "stream": "stdout",
       "text": [
        "\r",
        "  - Level 1: Warping images - 97%"
       ]
      },
      {
       "output_type": "stream",
       "stream": "stdout",
       "text": [
        "\r",
        "  - Level 1: Warping images - 98%"
       ]
      },
      {
       "output_type": "stream",
       "stream": "stdout",
       "text": [
        "\r",
        "  - Level 1: Warping images - 99%"
       ]
      },
      {
       "output_type": "stream",
       "stream": "stdout",
       "text": [
        "\r",
        "  - Level 1: Warping images - 100%"
       ]
      },
      {
       "output_type": "stream",
       "stream": "stdout",
       "text": [
        "\r",
        "  - Level 1: Building appearance model"
       ]
      },
      {
       "output_type": "stream",
       "stream": "stdout",
       "text": [
        "\r",
        "  - Level 1: Done\n"
       ]
      }
     ],
     "prompt_number": 6
    },
    {
     "cell_type": "code",
     "collapsed": false,
     "input": [
      "from alabortijcv2015.aam import StandardAAMFitter\n",
      "from alabortijcv2015.aam.algorithm import SIC, SFC, SAC, SBC\n",
      "                  \n",
      "fitter = StandardAAMFitter(aam, algorithm_cls=SIC, n_shape=[3, 12], \n",
      "                           n_appearance=[25, 50], sampling_step=4)"
     ],
     "language": "python",
     "metadata": {},
     "outputs": [],
     "prompt_number": 7
    },
    {
     "cell_type": "code",
     "collapsed": false,
     "input": [
      "# from menpo.feature import no_op, fast_dsift\n",
      "# from alabortijcv2015.aam import PartsAAMBuilder\n",
      "\n",
      "# builder = PartsAAMBuilder(features=fast_dsift, diagonal=100, \n",
      "#                           scale_shapes=False, scales=(1, .5))\n",
      "# aam = builder.build(training_images, group='ibug_face_66', verbose=True)"
     ],
     "language": "python",
     "metadata": {},
     "outputs": [],
     "prompt_number": 8
    },
    {
     "cell_type": "code",
     "collapsed": false,
     "input": [
      "# from alabortijcv2015.aam import PartsAAMFitter\n",
      "# from alabortijcv2015.aam.algorithm import SIC, SFC, SAC, SBC, MAIC, AIC\n",
      "\n",
      "# sampling_step = 4\n",
      "# sampling_mask = np.require(np.zeros((17, 17)), dtype=np.bool)\n",
      "# sampling_mask[::sampling_step, ::sampling_step] = True\n",
      "                  \n",
      "# fitter = PartsAAMFitter(aam, algorithm_cls=SBC, n_shape=[3, 12], \n",
      "#                         n_appearance=[25, 50], sampling_mask=sampling_mask)"
     ],
     "language": "python",
     "metadata": {},
     "outputs": [],
     "prompt_number": 9
    },
    {
     "cell_type": "heading",
     "level": 3,
     "metadata": {},
     "source": [
      "Test"
     ]
    },
    {
     "cell_type": "code",
     "collapsed": false,
     "input": [
      "np.random.seed(seed=1)\n",
      "\n",
      "fitter_results = []\n",
      "\n",
      "for j, i in enumerate(test_images):\n",
      "    \n",
      "    gt_s = i.landmarks['ibug_face_66'].lms\n",
      "    s = fitter.perturb_shape(gt_s, noise_std=0.08)\n",
      "    \n",
      "    fr = fitter.fit(i, s, gt_shape=gt_s, max_iters=20, map_inference=False)\n",
      "    fr.downscale = 0.5\n",
      "    \n",
      "    fitter_results.append(fr)\n",
      "    \n",
      "    print 'Image: ', j\n",
      "    print fr"
     ],
     "language": "python",
     "metadata": {},
     "outputs": [
      {
       "output_type": "stream",
       "stream": "stdout",
       "text": [
        "Image:  0\n",
        "Initial error: 0.0568\n",
        "Final error: 0.0268\n",
        "Image: "
       ]
      },
      {
       "output_type": "stream",
       "stream": "stdout",
       "text": [
        " 1\n",
        "Initial error: 0.1779\n",
        "Final error: 0.1639\n",
        "Image: "
       ]
      },
      {
       "output_type": "stream",
       "stream": "stdout",
       "text": [
        " 2\n",
        "Initial error: 0.2235\n",
        "Final error: 0.1860\n",
        "Image: "
       ]
      },
      {
       "output_type": "stream",
       "stream": "stdout",
       "text": [
        " 3\n",
        "Initial error: 0.1534\n",
        "Final error: 0.1411\n",
        "Image: "
       ]
      },
      {
       "output_type": "stream",
       "stream": "stdout",
       "text": [
        " 4\n",
        "Initial error: 0.0752\n",
        "Final error: 0.0510\n",
        "Image: "
       ]
      },
      {
       "output_type": "stream",
       "stream": "stdout",
       "text": [
        " 5\n",
        "Initial error: 0.0734\n",
        "Final error: 0.0204\n",
        "Image: "
       ]
      },
      {
       "output_type": "stream",
       "stream": "stdout",
       "text": [
        " 6\n",
        "Initial error: 0.0727\n",
        "Final error: 0.0448\n",
        "Image: "
       ]
      },
      {
       "output_type": "stream",
       "stream": "stdout",
       "text": [
        " 7\n",
        "Initial error: 0.0955\n",
        "Final error: 0.0630\n",
        "Image: "
       ]
      },
      {
       "output_type": "stream",
       "stream": "stdout",
       "text": [
        " 8\n",
        "Initial error: 0.1220\n",
        "Final error: 0.0674\n",
        "Image: "
       ]
      },
      {
       "output_type": "stream",
       "stream": "stdout",
       "text": [
        " 9\n",
        "Initial error: 0.0898\n",
        "Final error: 0.0402\n"
       ]
      }
     ],
     "prompt_number": 10
    },
    {
     "cell_type": "heading",
     "level": 3,
     "metadata": {},
     "source": [
      "Visualize Results"
     ]
    },
    {
     "cell_type": "code",
     "collapsed": false,
     "input": [
      "from menpofit.visualize import visualize_fitting_results\n",
      "    \n",
      "visualize_fitting_results(fitter_results)"
     ],
     "language": "python",
     "metadata": {},
     "outputs": [
      {
       "metadata": {},
       "output_type": "display_data",
       "png": "[encoded data removed]",
       "text": [
        "<matplotlib.figure.Figure at 0x7f4ec0027bd0>"
       ]
      }
     ],
     "prompt_number": 11
    },
    {
     "cell_type": "heading",
     "level": 3,
     "metadata": {},
     "source": [
      "Timing"
     ]
    },
    {
     "cell_type": "heading",
     "level": 4,
     "metadata": {},
     "source": [
      "Total"
     ]
    },
    {
     "cell_type": "code",
     "collapsed": false,
     "input": [
      "%timeit fitter.fit(i, s, gt_shape=gt_s, max_iters=20)"
     ],
     "language": "python",
     "metadata": {},
     "outputs": []
    },
    {
     "cell_type": "heading",
     "level": 4,
     "metadata": {},
     "source": [
      "Per line"
     ]
    },
    {
     "cell_type": "code",
     "collapsed": false,
     "input": [
      "import line_profiler\n",
      "import IPython\n",
      "\n",
      "ip = IPython.get_ipython()\n",
      "ip.define_magic('lprun', line_profiler.magic_lprun)"
     ],
     "language": "python",
     "metadata": {},
     "outputs": []
    },
    {
     "cell_type": "code",
     "collapsed": false,
     "input": [
      "from alabortijcv2015.aam.algorithm import ProjectOut\n",
      "\n",
      "%lprun -f ProjectOut.run fitter.fit(i, s, gt_shape=gt_s, max_iters=20)"
     ],
     "language": "python",
     "metadata": {},
     "outputs": []
    },
    {
     "cell_type": "heading",
     "level": 2,
     "metadata": {},
     "source": [
      "Local Warp"
     ]
    },
    {
     "cell_type": "heading",
     "level": 3,
     "metadata": {},
     "source": [
      "Build"
     ]
    },
    {
     "cell_type": "code",
     "collapsed": false,
     "input": [
      "from menpofast.feature import no_op, fast_dsift\n",
      "from alabortcvpr2015.aam import PartsAAMBuilder\n",
      "\n",
      "builder = PartsAAMBuilder(parts_shape=(15, 15), features=fast_dsift, diagonal=100, \n",
      "                          scale_shapes=False, scales=(1, .5))\n",
      "aam = builder.build(training_images, group='ibug_face_66', verbose=True)"
     ],
     "language": "python",
     "metadata": {},
     "outputs": []
    },
    {
     "cell_type": "heading",
     "level": 3,
     "metadata": {},
     "source": [
      "Test"
     ]
    },
    {
     "cell_type": "code",
     "collapsed": false,
     "input": [
      "sampling_mask = np.require(np.zeros(aam.parts_shape), dtype=np.bool)\n",
      "sampling_mask[:] = True\n",
      "\n",
      "imshow(sampling_mask)"
     ],
     "language": "python",
     "metadata": {},
     "outputs": []
    },
    {
     "cell_type": "code",
     "collapsed": false,
     "input": [
      "from alabortcvpr2015.aam import PartsAAMFitter, AIC, PIC\n",
      "                  \n",
      "fitter = PartsAAMFitter(aam, algorithm_cls=PIC, n_shape=[3, 12], \n",
      "                        n_appearance=None, sampling_mask=sampling_mask)"
     ],
     "language": "python",
     "metadata": {},
     "outputs": []
    },
    {
     "cell_type": "code",
     "collapsed": false,
     "input": [
      "np.random.seed(seed=1)\n",
      "\n",
      "fitter_results = []\n",
      "\n",
      "for j, i in enumerate(test_images[:]):\n",
      "    \n",
      "    gt_s = i.landmarks['ibug_face_66'].lms\n",
      "    s = fitter.perturb_shape(gt_s, noise_std=0.04)\n",
      "    \n",
      "    fr = fitter.fit(i, s, gt_shape=gt_s, max_iters=50, prior=True)\n",
      "    fr.downscale = 0.5\n",
      "    \n",
      "    fitter_results.append(fr)\n",
      "    \n",
      "    print 'Image: ', j\n",
      "    print fr"
     ],
     "language": "python",
     "metadata": {},
     "outputs": []
    },
    {
     "cell_type": "heading",
     "level": 3,
     "metadata": {},
     "source": [
      "Visualize Results"
     ]
    },
    {
     "cell_type": "code",
     "collapsed": false,
     "input": [
      "from menpofit.visualize import visualize_fitting_results\n",
      "    \n",
      "visualize_fitting_results(fitter_results)"
     ],
     "language": "python",
     "metadata": {},
     "outputs": []
    },
    {
     "cell_type": "heading",
     "level": 3,
     "metadata": {},
     "source": [
      "Save Results"
     ]
    },
    {
     "cell_type": "code",
     "collapsed": false,
     "input": [
      "from alabortcvpr2015.utils import pickle_dump\n",
      "\n",
      "results = [fr.errors() for fr in fitter_results]\n",
      "\n",
      "pickle_dump(results, '/data/PhD/Results/NONTAS_PIC_PARTSAAMs_AFW')"
     ],
     "language": "python",
     "metadata": {},
     "outputs": []
    },
    {
     "cell_type": "heading",
     "level": 3,
     "metadata": {},
     "source": [
      "Timing"
     ]
    },
    {
     "cell_type": "heading",
     "level": 4,
     "metadata": {},
     "source": [
      "Total"
     ]
    },
    {
     "cell_type": "code",
     "collapsed": false,
     "input": [
      "%timeit fitter.fit(i, s, gt_shape=gt_s, max_iters=20)"
     ],
     "language": "python",
     "metadata": {},
     "outputs": []
    },
    {
     "cell_type": "heading",
     "level": 4,
     "metadata": {},
     "source": [
      "Per line"
     ]
    },
    {
     "cell_type": "code",
     "collapsed": false,
     "input": [
      "import line_profiler\n",
      "import IPython\n",
      "\n",
      "ip = IPython.get_ipython()\n",
      "ip.define_magic('lprun', line_profiler.magic_lprun)"
     ],
     "language": "python",
     "metadata": {},
     "outputs": []
    },
    {
     "cell_type": "code",
     "collapsed": false,
     "input": [
      "from alabortcvpr2015.aam import AIC\n",
      "\n",
      "%lprun -f AIC.run fitter.fit(i, s, gt_shape=gt_s, max_iters=20)"
     ],
     "language": "python",
     "metadata": {},
     "outputs": []
    },
    {
     "cell_type": "heading",
     "level": 1,
     "metadata": {},
     "source": [
      "Constrained Local Models"
     ]
    },
    {
     "cell_type": "heading",
     "level": 2,
     "metadata": {},
     "source": [
      "SVM Experts"
     ]
    },
    {
     "cell_type": "heading",
     "level": 3,
     "metadata": {},
     "source": [
      "Build"
     ]
    },
    {
     "cell_type": "code",
     "collapsed": false,
     "input": [
      "from menpofast.feature import no_op, aam_dsift\n",
      "from alabortcvpr2015.clm import CLMBuilder\n",
      "from alabortcvpr2015.clm.classifier import LinearSVMLR \n",
      "\n",
      "offsets = np.meshgrid(range(-0, 1, 1), range(-0, 1, 1))\n",
      "offsets = np.asarray([offsets[0].flatten(), offsets[1].flatten()]).T \n",
      "\n",
      "builder = CLMBuilder(parts_shape=(15, 15), features=aam_dsift2, diagonal=100, \n",
      "                     classifier=LinearSVMLR, offsets=offsets, normalize_parts=True, \n",
      "                     covariance=1, scale_shapes=False, scales=(1, .5))\n",
      "\n",
      "clm = builder.build(training_images, group='ibug_face_66', verbose=True, \n",
      "                    threshold=0.015, dual=False, loss='l2', penalty='l1')"
     ],
     "language": "python",
     "metadata": {},
     "outputs": []
    },
    {
     "cell_type": "heading",
     "level": 3,
     "metadata": {},
     "source": [
      "Test"
     ]
    },
    {
     "cell_type": "code",
     "collapsed": false,
     "input": [
      "from alabortcvpr2015.clm import CLMFitter, RLMS\n",
      "                  \n",
      "fitter = CLMFitter(clm, n_shape=[3, 12], scale=100000, factor=100)"
     ],
     "language": "python",
     "metadata": {},
     "outputs": []
    },
    {
     "cell_type": "code",
     "collapsed": false,
     "input": [
      "np.random.seed(seed=1)\n",
      "\n",
      "fitter_results = []\n",
      "\n",
      "for j, i in enumerate(test_images):\n",
      "    \n",
      "    gt_s = i.landmarks['ibug_face_66'].lms\n",
      "    s = fitter.perturb_shape(gt_s, noise_std=0.04)\n",
      "    \n",
      "    fr = fitter.fit(i, s, gt_shape=gt_s, max_iters=20, prior=True)\n",
      "    \n",
      "    fitter_results.append(fr)\n",
      "    fr.downscale = 0.5\n",
      "    \n",
      "    print 'Image: ', j\n",
      "    print fr"
     ],
     "language": "python",
     "metadata": {},
     "outputs": []
    },
    {
     "cell_type": "heading",
     "level": 3,
     "metadata": {},
     "source": [
      "Visualize Results"
     ]
    },
    {
     "cell_type": "code",
     "collapsed": false,
     "input": [
      "from menpofit.visualize import visualize_fitting_results\n",
      "    \n",
      "visualize_fitting_results(fitter_results)"
     ],
     "language": "python",
     "metadata": {},
     "outputs": []
    },
    {
     "cell_type": "heading",
     "level": 3,
     "metadata": {},
     "source": [
      "Timing"
     ]
    },
    {
     "cell_type": "heading",
     "level": 4,
     "metadata": {},
     "source": [
      "Total"
     ]
    },
    {
     "cell_type": "code",
     "collapsed": false,
     "input": [
      "%timeit fitter.fit(i, s, gt_shape=gt_s, max_iters=20)"
     ],
     "language": "python",
     "metadata": {},
     "outputs": []
    },
    {
     "cell_type": "heading",
     "level": 4,
     "metadata": {},
     "source": [
      "Per line"
     ]
    },
    {
     "cell_type": "code",
     "collapsed": false,
     "input": [
      "import line_profiler\n",
      "import IPython\n",
      "\n",
      "ip = IPython.get_ipython()\n",
      "ip.define_magic('lprun', line_profiler.magic_lprun)"
     ],
     "language": "python",
     "metadata": {},
     "outputs": []
    },
    {
     "cell_type": "code",
     "collapsed": false,
     "input": [
      "from alabortcvpr2015.clm import RLMS\n",
      "\n",
      "%lprun -f RLMS.run fitter.fit(i, s, gt_shape=gt_s, max_iters=20)"
     ],
     "language": "python",
     "metadata": {},
     "outputs": []
    },
    {
     "cell_type": "heading",
     "level": 2,
     "metadata": {},
     "source": [
      "MCF Experts"
     ]
    },
    {
     "cell_type": "heading",
     "level": 3,
     "metadata": {},
     "source": [
      "Build"
     ]
    },
    {
     "cell_type": "code",
     "collapsed": false,
     "input": [
      "from menpofast.feature import no_op, aam_dsift, aam_daisy\n",
      "from alabortcvpr2015.clm import CLMBuilder\n",
      "from alabortcvpr2015.clm.classifier import MCF\n",
      "\n",
      "offsets = np.meshgrid(range(-0, 1, 1), range(-0, 1, 1))\n",
      "offsets = np.asarray([offsets[0].flatten(), offsets[1].flatten()]).T \n",
      "\n",
      "builder = CLMBuilder(parts_shape=(15, 15), features=aam_dsift, diagonal=100, \n",
      "                     classifier=MCF, offsets=offsets, normalize_parts=False, \n",
      "                     covariance=2, scale_shapes=False, scales=(1, .5))\n",
      "\n",
      "clm = builder.build(training_images, group='ibug_face_66', verbose=True)"
     ],
     "language": "python",
     "metadata": {},
     "outputs": []
    },
    {
     "cell_type": "heading",
     "level": 3,
     "metadata": {},
     "source": [
      "Test"
     ]
    },
    {
     "cell_type": "code",
     "collapsed": false,
     "input": [
      "from alabortcvpr2015.clm import CLMFitter, RLMS\n",
      "                  \n",
      "fitter = CLMFitter(clm, n_shape=[3, 12], scale=100, factor=10)"
     ],
     "language": "python",
     "metadata": {},
     "outputs": []
    },
    {
     "cell_type": "code",
     "collapsed": false,
     "input": [
      "np.random.seed(seed=1)\n",
      "\n",
      "fitter_results = []\n",
      "\n",
      "for j, i in enumerate(test_images):\n",
      "    \n",
      "    gt_s = i.landmarks['ibug_face_66'].lms\n",
      "    s = fitter.perturb_shape(gt_s, noise_std=0.05)\n",
      "    \n",
      "    fr = fitter.fit(i, s, gt_shape=gt_s, max_iters=20, prior=True)\n",
      "    \n",
      "    fitter_results.append(fr)\n",
      "    fr.downscale = 0.5\n",
      "    \n",
      "    print 'Image: ', j\n",
      "    print fr"
     ],
     "language": "python",
     "metadata": {},
     "outputs": []
    },
    {
     "cell_type": "heading",
     "level": 3,
     "metadata": {},
     "source": [
      "Visualize Results"
     ]
    },
    {
     "cell_type": "code",
     "collapsed": false,
     "input": [
      "from menpofit.visualize import visualize_fitting_results\n",
      "    \n",
      "visualize_fitting_results(fitter_results)"
     ],
     "language": "python",
     "metadata": {},
     "outputs": []
    },
    {
     "cell_type": "heading",
     "level": 3,
     "metadata": {},
     "source": [
      "Timing"
     ]
    },
    {
     "cell_type": "heading",
     "level": 4,
     "metadata": {},
     "source": [
      "Total"
     ]
    },
    {
     "cell_type": "code",
     "collapsed": false,
     "input": [
      "%timeit fitter.fit(i, s, gt_shape=gt_s, max_iters=20)"
     ],
     "language": "python",
     "metadata": {},
     "outputs": []
    },
    {
     "cell_type": "heading",
     "level": 4,
     "metadata": {},
     "source": [
      "Per line"
     ]
    },
    {
     "cell_type": "code",
     "collapsed": false,
     "input": [
      "import line_profiler\n",
      "import IPython\n",
      "\n",
      "ip = IPython.get_ipython()\n",
      "ip.define_magic('lprun', line_profiler.magic_lprun)"
     ],
     "language": "python",
     "metadata": {},
     "outputs": []
    },
    {
     "cell_type": "code",
     "collapsed": false,
     "input": [
      "from alabortcvpr2015.clm import RLMS\n",
      "\n",
      "%lprun -f RLMS.run fitter.fit(i, s, gt_shape=gt_s, max_iters=20)"
     ],
     "language": "python",
     "metadata": {},
     "outputs": []
    },
    {
     "cell_type": "heading",
     "level": 1,
     "metadata": {},
     "source": [
      "Unified"
     ]
    },
    {
     "cell_type": "heading",
     "level": 2,
     "metadata": {},
     "source": [
      "Global"
     ]
    },
    {
     "cell_type": "heading",
     "level": 3,
     "metadata": {},
     "source": [
      "Build"
     ]
    },
    {
     "cell_type": "code",
     "collapsed": false,
     "input": [
      "from menpofast.feature import no_op, aam_dsift, aam_daisy\n",
      "from alabortcvpr2015.unified import GlobalUnifiedBuilder\n",
      "from alabortcvpr2015.clm.classifier import MCF\n",
      "\n",
      "offsets = np.meshgrid(range(-0, 1, 1), range(-0, 1, 1))\n",
      "offsets = np.asarray([offsets[0].flatten(), offsets[1].flatten()]).T \n",
      "\n",
      "builder = GlobalUnifiedBuilder(parts_shape=(15, 15), features=aam_dsift, diagonal=100, \n",
      "                               classifier=MCF, offsets=offsets, normalize_parts=False, \n",
      "                               covariance=2, scale_shapes=False, scales=(1, .5))\n",
      "\n",
      "unified = builder.build(training_images, group='ibug_face_66', verbose=True)"
     ],
     "language": "python",
     "metadata": {},
     "outputs": []
    },
    {
     "cell_type": "heading",
     "level": 3,
     "metadata": {},
     "source": [
      "Test"
     ]
    },
    {
     "cell_type": "code",
     "collapsed": false,
     "input": [
      "from alabortcvpr2015.unified import GlobalUnifiedFitter \n",
      "                  \n",
      "fitter = GlobalUnifiedFitter(unified, n_shape=[3, 12], n_appearance=[25, 50], \n",
      "                             scale=1000, factor=10, sampling_step=8)"
     ],
     "language": "python",
     "metadata": {},
     "outputs": []
    },
    {
     "cell_type": "code",
     "collapsed": false,
     "input": [
      "np.random.seed(seed=1)\n",
      "\n",
      "fitter_results = []\n",
      "\n",
      "for j, i in enumerate(test_images):\n",
      "    \n",
      "    gt_s = i.landmarks['ibug_face_66'].lms\n",
      "    s = fitter.perturb_shape(gt_s, noise_std=0.05)\n",
      "    \n",
      "    fr = fitter.fit(i, s, gt_shape=gt_s, max_iters=20, prior=True)\n",
      "    \n",
      "    fitter_results.append(fr)\n",
      "    fr.downscale = 0.5\n",
      "    \n",
      "    print 'Image: ', j\n",
      "    print fr"
     ],
     "language": "python",
     "metadata": {},
     "outputs": []
    },
    {
     "cell_type": "heading",
     "level": 3,
     "metadata": {},
     "source": [
      "Visualize Results"
     ]
    },
    {
     "cell_type": "code",
     "collapsed": false,
     "input": [
      "from menpofit.visualize import visualize_fitting_results\n",
      "    \n",
      "visualize_fitting_results(fitter_results)"
     ],
     "language": "python",
     "metadata": {},
     "outputs": []
    },
    {
     "cell_type": "heading",
     "level": 3,
     "metadata": {},
     "source": [
      "Timing"
     ]
    },
    {
     "cell_type": "heading",
     "level": 4,
     "metadata": {},
     "source": [
      "Total"
     ]
    },
    {
     "cell_type": "code",
     "collapsed": false,
     "input": [
      "%timeit fitter.fit(i, s, gt_shape=gt_s, max_iters=20)"
     ],
     "language": "python",
     "metadata": {},
     "outputs": []
    },
    {
     "cell_type": "heading",
     "level": 4,
     "metadata": {},
     "source": [
      "Per line"
     ]
    },
    {
     "cell_type": "code",
     "collapsed": false,
     "input": [
      "import line_profiler\n",
      "import IPython\n",
      "\n",
      "ip = IPython.get_ipython()\n",
      "ip.define_magic('lprun', line_profiler.magic_lprun)"
     ],
     "language": "python",
     "metadata": {},
     "outputs": []
    },
    {
     "cell_type": "code",
     "collapsed": false,
     "input": [
      "from alabortcvpr2015.unified import ProbAIC\n",
      "\n",
      "%lprun -f ProbAIC.run fitter.fit(i, s, gt_shape=gt_s, max_iters=20)"
     ],
     "language": "python",
     "metadata": {},
     "outputs": []
    },
    {
     "cell_type": "heading",
     "level": 2,
     "metadata": {},
     "source": [
      "Parts"
     ]
    },
    {
     "cell_type": "heading",
     "level": 3,
     "metadata": {},
     "source": [
      "Build"
     ]
    },
    {
     "cell_type": "code",
     "collapsed": false,
     "input": [
      "from menpofast.feature import no_op, aam_dsift, aam_daisy\n",
      "from alabortcvpr2015.unified import PartsUnifiedBuilder\n",
      "from alabortcvpr2015.clm.classifier import MCF\n",
      "\n",
      "offsets = np.meshgrid(range(-0, 1, 1), range(-0, 1, 1))\n",
      "offsets = np.asarray([offsets[0].flatten(), offsets[1].flatten()]).T \n",
      "\n",
      "builder = PartsUnifiedBuilder(parts_shape=(15, 15), features=aam_dsift, diagonal=100, \n",
      "                              classifier=MCF, offsets=offsets, normalize_parts=False, \n",
      "                              covariance=2, scale_shapes=False, scales=(1, .5))\n",
      "\n",
      "unified = builder.build(training_images, group='ibug_face_66', verbose=True)"
     ],
     "language": "python",
     "metadata": {},
     "outputs": []
    },
    {
     "cell_type": "heading",
     "level": 3,
     "metadata": {},
     "source": [
      "Test"
     ]
    },
    {
     "cell_type": "code",
     "collapsed": false,
     "input": [
      "sampling_mask = np.require(np.zeros((15, 15)), dtype=np.bool)\n",
      "sampling_mask[1::4, 1::4] = True\n",
      "#sampling_mask[:] = True\n",
      "\n",
      "imshow(sampling_mask)"
     ],
     "language": "python",
     "metadata": {},
     "outputs": []
    },
    {
     "cell_type": "code",
     "collapsed": false,
     "input": [
      "from alabortcvpr2015.unified import PartsUnifiedFitter \n",
      "                  \n",
      "fitter = PartsUnifiedFitter(unified, n_shape=[3, 12], n_appearance=[25, 50], \n",
      "                            scale=100000, factor=100, sampling_mask=sampling_mask)"
     ],
     "language": "python",
     "metadata": {},
     "outputs": []
    },
    {
     "cell_type": "code",
     "collapsed": false,
     "input": [
      "fitter._algorithms[0]._sigma2=10000\n",
      "fitter._algorithms[1]._sigma2=10000\n",
      "fitter._algorithms[0]._rho2=0\n",
      "fitter._algorithms[1]._rho2=0"
     ],
     "language": "python",
     "metadata": {},
     "outputs": []
    },
    {
     "cell_type": "code",
     "collapsed": false,
     "input": [
      "np.random.seed(seed=1)\n",
      "\n",
      "fitter_results = []\n",
      "\n",
      "for j, i in enumerate(test_images):\n",
      "    \n",
      "    gt_s = i.landmarks['ibug_face_66'].lms\n",
      "    s = fitter.perturb_shape(gt_s, noise_std=0.05)\n",
      "    \n",
      "    fr = fitter.fit(i, s, gt_shape=gt_s, max_iters=20, prior=False)\n",
      "    \n",
      "    fitter_results.append(fr)\n",
      "    fr.downscale = 0.5\n",
      "    \n",
      "    print 'Image: ', j\n",
      "    print fr"
     ],
     "language": "python",
     "metadata": {},
     "outputs": []
    },
    {
     "cell_type": "heading",
     "level": 3,
     "metadata": {},
     "source": [
      "Visualize Results"
     ]
    },
    {
     "cell_type": "code",
     "collapsed": false,
     "input": [
      "from menpofit.visualize import visualize_fitting_results\n",
      "    \n",
      "visualize_fitting_results(fitter_results)"
     ],
     "language": "python",
     "metadata": {},
     "outputs": []
    },
    {
     "cell_type": "heading",
     "level": 3,
     "metadata": {},
     "source": [
      "Timing"
     ]
    },
    {
     "cell_type": "heading",
     "level": 4,
     "metadata": {},
     "source": [
      "Total"
     ]
    },
    {
     "cell_type": "code",
     "collapsed": false,
     "input": [
      "%timeit fitter.fit(i, s, gt_shape=gt_s, max_iters=20)"
     ],
     "language": "python",
     "metadata": {},
     "outputs": []
    },
    {
     "cell_type": "heading",
     "level": 4,
     "metadata": {},
     "source": [
      "Per line"
     ]
    },
    {
     "cell_type": "code",
     "collapsed": false,
     "input": [
      "import line_profiler\n",
      "import IPython\n",
      "\n",
      "ip = IPython.get_ipython()\n",
      "ip.define_magic('lprun', line_profiler.magic_lprun)"
     ],
     "language": "python",
     "metadata": {},
     "outputs": []
    },
    {
     "cell_type": "code",
     "collapsed": false,
     "input": [
      "from alabortcvpr2015.unified import ProbAIC\n",
      "\n",
      "%lprun -f ProbAIC.run fitter.fit(i, s, gt_shape=gt_s, max_iters=20)"
     ],
     "language": "python",
     "metadata": {},
     "outputs": []
    }
   ],
   "metadata": {}
  }
 ]
}