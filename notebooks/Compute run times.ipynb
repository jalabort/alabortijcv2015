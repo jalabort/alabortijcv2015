{
 "metadata": {
  "name": "",
  "signature": "sha256:c59d259a9620070b706b54d62f63fcba4c8c47b04524625c4aecba25ddf6f326"
 },
 "nbformat": 3,
 "nbformat_minor": 0,
 "worksheets": [
  {
   "cells": [
    {
     "cell_type": "code",
     "collapsed": false,
     "input": [
      "%matplotlib inline\n",
      "%pylab inline"
     ],
     "language": "python",
     "metadata": {},
     "outputs": [
      {
       "output_type": "stream",
       "stream": "stdout",
       "text": [
        "Populating the interactive namespace from numpy and matplotlib\n"
       ]
      }
     ],
     "prompt_number": 1
    },
    {
     "cell_type": "heading",
     "level": 1,
     "metadata": {},
     "source": [
      "Load data"
     ]
    },
    {
     "cell_type": "code",
     "collapsed": false,
     "input": [
      "import menpo.io as mio\n",
      "from menpo.landmark import labeller, ibug_face_49\n",
      "from menpofast.utils import convert_from_menpo\n",
      "\n",
      "path = '/data/'\n",
      "group = 'ibug_face_49'\n",
      "db = 'afw'\n",
      "\n",
      "test_images = []\n",
      "for i in mio.import_images(path + 'PhD/DataBases/faces/' + db, \n",
      "                           verbose=True, max_images=1):\n",
      "    \n",
      "    # convert the image from menpo Image to menpofast Image (channels at front)\n",
      "    i = convert_from_menpo(i)\n",
      "    \n",
      "    labeller(i, 'PTS', eval(group))\n",
      "    i.crop_to_landmarks_proportion_inplace(0.5, group='PTS')\n",
      "    i = i.rescale_landmarks_to_diagonal_range(150, group=group)\n",
      "    \n",
      "    if i.n_channels == 3:\n",
      "        i = i.as_greyscale(mode='average')\n",
      "    test_images.append(i)"
     ],
     "language": "python",
     "metadata": {},
     "outputs": [
      {
       "output_type": "stream",
       "stream": "stdout",
       "text": [
        "\r",
        "- Loading 1 assets: [====================] 100%"
       ]
      }
     ],
     "prompt_number": 2
    },
    {
     "cell_type": "heading",
     "level": 1,
     "metadata": {},
     "source": [
      "Parts AAMs"
     ]
    },
    {
     "cell_type": "code",
     "collapsed": false,
     "input": [
      "from menpofast.feature import no_op, fast_dsift\n",
      "from alabortijcv2015.utils import pickle_load\n",
      "\n",
      "aam_type = 'PartsAAM'\n",
      "features = fast_dsift\n",
      "\n",
      "aam = pickle_load(path + 'PhD/Models/ijcv2015/exp1_' + aam_type + '_' + features.__name__ )"
     ],
     "language": "python",
     "metadata": {},
     "outputs": [],
     "prompt_number": 3
    },
    {
     "cell_type": "heading",
     "level": 2,
     "metadata": {},
     "source": [
      "Fitting parameters"
     ]
    },
    {
     "cell_type": "code",
     "collapsed": false,
     "input": [
      "from alabortijcv2015.aam.algorithm import SIC\n",
      "\n",
      "algorithm_cls = SIC\n",
      "\n",
      "sampling_step = 7\n",
      "\n",
      "sampling_mask = np.require(np.zeros((17, 17)), dtype=np.bool)\n",
      "sampling_mask[1::sampling_step, 1::sampling_step] = True\n",
      "\n",
      "n_shape = [3, 12]\n",
      "n_appearance = [25, 50]\n",
      "\n",
      "noise_std = 0.04\n",
      "max_iters = 20\n",
      "prior = False\n",
      "\n",
      "imshow(sampling_mask)"
     ],
     "language": "python",
     "metadata": {},
     "outputs": [
      {
       "metadata": {},
       "output_type": "pyout",
       "prompt_number": 4,
       "text": [
        "<matplotlib.image.AxesImage at 0x7f00adc7ead0>"
       ]
      },
      {
       "metadata": {},
       "output_type": "display_data",
       "png": "[encoded data removed]",
       "text": [
        "<matplotlib.figure.Figure at 0x7f00adcd28d0>"
       ]
      }
     ],
     "prompt_number": 4
    },
    {
     "cell_type": "heading",
     "level": 2,
     "metadata": {},
     "source": [
      "Run times"
     ]
    },
    {
     "cell_type": "heading",
     "level": 3,
     "metadata": {},
     "source": [
      "Simultaneous Algorithms"
     ]
    },
    {
     "cell_type": "heading",
     "level": 4,
     "metadata": {},
     "source": [
      "SIC"
     ]
    },
    {
     "cell_type": "code",
     "collapsed": false,
     "input": [
      "from alabortijcv2015.aam import StandardAAMFitter, LinearAAMFitter, PartsAAMFitter\n",
      "from alabortijcv2015.aam.algorithm import SIC\n",
      "\n",
      "algorithm_cls = SIC\n",
      "\n",
      "if aam_type is ('GlobalAAM' or 'PatchAAM'):\n",
      "    fitter = StandardAAMFitter(aam, algorithm_cls=algorithm_cls, n_shape=n_shape,\n",
      "                               n_appearance=n_appearance, sampling_step=sampling_step)\n",
      "    \n",
      "elif aam_type is ('LinearGlobalAAM' or 'LinearPatchAAM'):\n",
      "    fitter = LinearAAMFitter(aam, algorithm_cls=algorithm_cls, n_shape=n_shape,\n",
      "                             n_appearance=n_appearance, sampling_step=sampling_step)\n",
      "else:\n",
      "    fitter = PartsAAMFitter(aam, algorithm_cls=algorithm_cls, n_shape=n_shape,\n",
      "                        n_appearance=n_appearance, sampling_mask=sampling_mask)\n",
      "\n",
      "gt_s = i.landmarks[group].lms\n",
      "s = fitter.perturb_shape(gt_s, noise_std=noise_std)\n",
      "\n",
      "% timeit fr = fitter.fit(i, s, gt_shape=gt_s, max_iters=max_iters, prior=prior)"
     ],
     "language": "python",
     "metadata": {},
     "outputs": [
      {
       "output_type": "stream",
       "stream": "stdout",
       "text": [
        "1 loops, best of 3: 151 ms per loop\n"
       ]
      }
     ],
     "prompt_number": 5
    },
    {
     "cell_type": "heading",
     "level": 4,
     "metadata": {},
     "source": [
      "SICN"
     ]
    },
    {
     "cell_type": "code",
     "collapsed": false,
     "input": [
      "from alabortijcv2015.aam import PartsAAMFitter\n",
      "from alabortijcv2015.aam.algorithm import SICN\n",
      "\n",
      "algorithm_cls = SICN\n",
      "\n",
      "if aam_type is ('GlobalAAM' or 'PatchAAM'):\n",
      "    fitter = StandardAAMFitter(aam, algorithm_cls=algorithm_cls, n_shape=n_shape,\n",
      "                               n_appearance=n_appearance, sampling_step=sampling_step)\n",
      "    \n",
      "elif aam_type is ('LinearGlobalAAM' or 'LinearPatchAAM'):\n",
      "    fitter = LinearAAMFitter(aam, algorithm_cls=algorithm_cls, n_shape=n_shape,\n",
      "                             n_appearance=n_appearance, sampling_step=sampling_step)\n",
      "else:\n",
      "    fitter = PartsAAMFitter(aam, algorithm_cls=algorithm_cls, n_shape=n_shape,\n",
      "                        n_appearance=n_appearance, sampling_mask=sampling_mask)\n",
      "\n",
      "gt_s = i.landmarks[group].lms\n",
      "s = fitter.perturb_shape(gt_s, noise_std=noise_std)\n",
      "\n",
      "% timeit fr = fitter.fit(i, s, gt_shape=gt_s, max_iters=max_iters, prior=prior)"
     ],
     "language": "python",
     "metadata": {},
     "outputs": [
      {
       "output_type": "stream",
       "stream": "stdout",
       "text": [
        "1 loops, best of 3: 454 ms per loop\n"
       ]
      }
     ],
     "prompt_number": 6
    },
    {
     "cell_type": "heading",
     "level": 4,
     "metadata": {},
     "source": [
      "SFC"
     ]
    },
    {
     "cell_type": "code",
     "collapsed": false,
     "input": [
      "from alabortijcv2015.aam import PartsAAMFitter\n",
      "from alabortijcv2015.aam.algorithm import SFC\n",
      "\n",
      "algorithm_cls = SFC\n",
      "\n",
      "if aam_type is ('GlobalAAM' or 'PatchAAM'):\n",
      "    fitter = StandardAAMFitter(aam, algorithm_cls=algorithm_cls, n_shape=n_shape,\n",
      "                               n_appearance=n_appearance, sampling_step=sampling_step)\n",
      "    \n",
      "elif aam_type is ('LinearGlobalAAM' or 'LinearPatchAAM'):\n",
      "    fitter = LinearAAMFitter(aam, algorithm_cls=algorithm_cls, n_shape=n_shape,\n",
      "                             n_appearance=n_appearance, sampling_step=sampling_step)\n",
      "else:\n",
      "    fitter = PartsAAMFitter(aam, algorithm_cls=algorithm_cls, n_shape=n_shape,\n",
      "                        n_appearance=n_appearance, sampling_mask=sampling_mask)\n",
      "\n",
      "gt_s = i.landmarks[group].lms\n",
      "s = fitter.perturb_shape(gt_s, noise_std=noise_std)\n",
      "\n",
      "% timeit fr = fitter.fit(i, s, gt_shape=gt_s, max_iters=max_iters, prior=prior)"
     ],
     "language": "python",
     "metadata": {},
     "outputs": [
      {
       "output_type": "stream",
       "stream": "stdout",
       "text": [
        "1 loops, best of 3: 152 ms per loop\n"
       ]
      }
     ],
     "prompt_number": 7
    },
    {
     "cell_type": "heading",
     "level": 4,
     "metadata": {},
     "source": [
      "SFCN"
     ]
    },
    {
     "cell_type": "code",
     "collapsed": false,
     "input": [
      "from alabortijcv2015.aam import PartsAAMFitter\n",
      "from alabortijcv2015.aam.algorithm import SFCN\n",
      "\n",
      "algorithm_cls = SFCN\n",
      "\n",
      "if aam_type is ('GlobalAAM' or 'PatchAAM'):\n",
      "    fitter = StandardAAMFitter(aam, algorithm_cls=algorithm_cls, n_shape=n_shape,\n",
      "                               n_appearance=n_appearance, sampling_step=sampling_step)\n",
      "    \n",
      "elif aam_type is ('LinearGlobalAAM' or 'LinearPatchAAM'):\n",
      "    fitter = LinearAAMFitter(aam, algorithm_cls=algorithm_cls, n_shape=n_shape,\n",
      "                             n_appearance=n_appearance, sampling_step=sampling_step)\n",
      "else:\n",
      "    fitter = PartsAAMFitter(aam, algorithm_cls=algorithm_cls, n_shape=n_shape,\n",
      "                        n_appearance=n_appearance, sampling_mask=sampling_mask)\n",
      "\n",
      "gt_s = i.landmarks[group].lms\n",
      "s = fitter.perturb_shape(gt_s, noise_std=noise_std)\n",
      "\n",
      "% timeit fr = fitter.fit(i, s, gt_shape=gt_s, max_iters=max_iters, prior=prior)"
     ],
     "language": "python",
     "metadata": {},
     "outputs": [
      {
       "output_type": "stream",
       "stream": "stdout",
       "text": [
        "1 loops, best of 3: 452 ms per loop\n"
       ]
      }
     ],
     "prompt_number": 8
    },
    {
     "cell_type": "heading",
     "level": 4,
     "metadata": {},
     "source": [
      "SSC"
     ]
    },
    {
     "cell_type": "code",
     "collapsed": false,
     "input": [
      "from alabortijcv2015.aam import PartsAAMFitter\n",
      "from alabortijcv2015.aam.algorithm import SSC\n",
      "\n",
      "algorithm_cls = SSC\n",
      "\n",
      "if aam_type is ('GlobalAAM' or 'PatchAAM'):\n",
      "    fitter = StandardAAMFitter(aam, algorithm_cls=algorithm_cls, n_shape=n_shape,\n",
      "                               n_appearance=n_appearance, sampling_step=sampling_step)\n",
      "    \n",
      "elif aam_type is ('LinearGlobalAAM' or 'LinearPatchAAM'):\n",
      "    fitter = LinearAAMFitter(aam, algorithm_cls=algorithm_cls, n_shape=n_shape,\n",
      "                             n_appearance=n_appearance, sampling_step=sampling_step)\n",
      "else:\n",
      "    fitter = PartsAAMFitter(aam, algorithm_cls=algorithm_cls, n_shape=n_shape,\n",
      "                        n_appearance=n_appearance, sampling_mask=sampling_mask)\n",
      "\n",
      "gt_s = i.landmarks[group].lms\n",
      "s = fitter.perturb_shape(gt_s, noise_std=noise_std)\n",
      "\n",
      "% timeit fr = fitter.fit(i, s, gt_shape=gt_s, max_iters=max_iters, prior=prior)"
     ],
     "language": "python",
     "metadata": {},
     "outputs": [
      {
       "output_type": "stream",
       "stream": "stdout",
       "text": [
        "1 loops, best of 3: 227 ms per loop\n"
       ]
      }
     ],
     "prompt_number": 9
    },
    {
     "cell_type": "heading",
     "level": 4,
     "metadata": {},
     "source": [
      "SBC"
     ]
    },
    {
     "cell_type": "code",
     "collapsed": false,
     "input": [
      "from alabortijcv2015.aam import PartsAAMFitter\n",
      "from alabortijcv2015.aam.algorithm import SBC\n",
      "\n",
      "algorithm_cls = SBC\n",
      "\n",
      "if aam_type is ('GlobalAAM' or 'PatchAAM'):\n",
      "    fitter = StandardAAMFitter(aam, algorithm_cls=algorithm_cls, n_shape=n_shape,\n",
      "                               n_appearance=n_appearance, sampling_step=sampling_step)\n",
      "    \n",
      "elif aam_type is ('LinearGlobalAAM' or 'LinearPatchAAM'):\n",
      "    fitter = LinearAAMFitter(aam, algorithm_cls=algorithm_cls, n_shape=n_shape,\n",
      "                             n_appearance=n_appearance, sampling_step=sampling_step)\n",
      "else:\n",
      "    fitter = PartsAAMFitter(aam, algorithm_cls=algorithm_cls, n_shape=n_shape,\n",
      "                        n_appearance=n_appearance, sampling_mask=sampling_mask)\n",
      "\n",
      "gt_s = i.landmarks[group].lms\n",
      "s = fitter.perturb_shape(gt_s, noise_std=noise_std)\n",
      "\n",
      "% timeit fr = fitter.fit(i, s, gt_shape=gt_s, max_iters=max_iters, prior=prior)"
     ],
     "language": "python",
     "metadata": {},
     "outputs": [
      {
       "output_type": "stream",
       "stream": "stdout",
       "text": [
        "1 loops, best of 3: 289 ms per loop\n"
       ]
      }
     ],
     "prompt_number": 92
    },
    {
     "cell_type": "heading",
     "level": 3,
     "metadata": {},
     "source": [
      "Alternating Algorithms"
     ]
    },
    {
     "cell_type": "heading",
     "level": 4,
     "metadata": {},
     "source": [
      "AIC"
     ]
    },
    {
     "cell_type": "code",
     "collapsed": false,
     "input": [
      "from alabortijcv2015.aam import PartsAAMFitter\n",
      "from alabortijcv2015.aam.algorithm import AIC\n",
      "\n",
      "algorithm_cls = AIC\n",
      "\n",
      "if aam_type is ('GlobalAAM' or 'PatchAAM'):\n",
      "    fitter = StandardAAMFitter(aam, algorithm_cls=algorithm_cls, n_shape=n_shape,\n",
      "                               n_appearance=n_appearance, sampling_step=sampling_step)\n",
      "    \n",
      "elif aam_type is ('LinearGlobalAAM' or 'LinearPatchAAM'):\n",
      "    fitter = LinearAAMFitter(aam, algorithm_cls=algorithm_cls, n_shape=n_shape,\n",
      "                             n_appearance=n_appearance, sampling_step=sampling_step)\n",
      "else:\n",
      "    fitter = PartsAAMFitter(aam, algorithm_cls=algorithm_cls, n_shape=n_shape,\n",
      "                        n_appearance=n_appearance, sampling_mask=sampling_mask)\n",
      "\n",
      "gt_s = i.landmarks[group].lms\n",
      "s = fitter.perturb_shape(gt_s, noise_std=noise_std)\n",
      "\n",
      "% timeit fr = fitter.fit(i, s, gt_shape=gt_s, max_iters=max_iters, prior=prior)"
     ],
     "language": "python",
     "metadata": {},
     "outputs": [
      {
       "output_type": "stream",
       "stream": "stdout",
       "text": [
        "10 loops, best of 3: 128 ms per loop\n"
       ]
      }
     ],
     "prompt_number": 94
    },
    {
     "cell_type": "heading",
     "level": 4,
     "metadata": {},
     "source": [
      "AICN"
     ]
    },
    {
     "cell_type": "code",
     "collapsed": false,
     "input": [
      "from alabortijcv2015.aam import PartsAAMFitter\n",
      "from alabortijcv2015.aam.algorithm import AICN\n",
      "\n",
      "algorithm_cls = AICN\n",
      "\n",
      "if aam_type is ('GlobalAAM' or 'PatchAAM'):\n",
      "    fitter = StandardAAMFitter(aam, algorithm_cls=algorithm_cls, n_shape=n_shape,\n",
      "                               n_appearance=n_appearance, sampling_step=sampling_step)\n",
      "    \n",
      "elif aam_type is ('LinearGlobalAAM' or 'LinearPatchAAM'):\n",
      "    fitter = LinearAAMFitter(aam, algorithm_cls=algorithm_cls, n_shape=n_shape,\n",
      "                             n_appearance=n_appearance, sampling_step=sampling_step)\n",
      "else:\n",
      "    fitter = PartsAAMFitter(aam, algorithm_cls=algorithm_cls, n_shape=n_shape,\n",
      "                        n_appearance=n_appearance, sampling_mask=sampling_mask)\n",
      "\n",
      "gt_s = i.landmarks[group].lms\n",
      "s = fitter.perturb_shape(gt_s, noise_std=noise_std)\n",
      "\n",
      "% timeit fr = fitter.fit(i, s, gt_shape=gt_s, max_iters=max_iters, prior=prior)"
     ],
     "language": "python",
     "metadata": {},
     "outputs": [
      {
       "output_type": "stream",
       "stream": "stdout",
       "text": [
        "1 loops, best of 3: 582 ms per loop\n"
       ]
      }
     ],
     "prompt_number": 93
    },
    {
     "cell_type": "heading",
     "level": 4,
     "metadata": {},
     "source": [
      "AFC"
     ]
    },
    {
     "cell_type": "code",
     "collapsed": false,
     "input": [
      "from alabortijcv2015.aam import PartsAAMFitter\n",
      "from alabortijcv2015.aam.algorithm import AFC\n",
      "\n",
      "algorithm_cls = AFC\n",
      "\n",
      "if aam_type is ('GlobalAAM' or 'PatchAAM'):\n",
      "    fitter = StandardAAMFitter(aam, algorithm_cls=algorithm_cls, n_shape=n_shape,\n",
      "                               n_appearance=n_appearance, sampling_step=sampling_step)\n",
      "    \n",
      "elif aam_type is ('LinearGlobalAAM' or 'LinearPatchAAM'):\n",
      "    fitter = LinearAAMFitter(aam, algorithm_cls=algorithm_cls, n_shape=n_shape,\n",
      "                             n_appearance=n_appearance, sampling_step=sampling_step)\n",
      "else:\n",
      "    fitter = PartsAAMFitter(aam, algorithm_cls=algorithm_cls, n_shape=n_shape,\n",
      "                        n_appearance=n_appearance, sampling_mask=sampling_mask)\n",
      "\n",
      "gt_s = i.landmarks[group].lms\n",
      "s = fitter.perturb_shape(gt_s, noise_std=noise_std)\n",
      "\n",
      "% timeit fr = fitter.fit(i, s, gt_shape=gt_s, max_iters=max_iters, prior=prior)"
     ],
     "language": "python",
     "metadata": {},
     "outputs": [
      {
       "output_type": "stream",
       "stream": "stdout",
       "text": [
        "10 loops, best of 3: 158 ms per loop\n"
       ]
      }
     ],
     "prompt_number": 77
    },
    {
     "cell_type": "heading",
     "level": 4,
     "metadata": {},
     "source": [
      "AFCN"
     ]
    },
    {
     "cell_type": "code",
     "collapsed": false,
     "input": [
      "from alabortijcv2015.aam import PartsAAMFitter\n",
      "from alabortijcv2015.aam.algorithm import AFCN\n",
      "\n",
      "algorithm_cls = AFCN\n",
      "\n",
      "if aam_type is ('GlobalAAM' or 'PatchAAM'):\n",
      "    fitter = StandardAAMFitter(aam, algorithm_cls=algorithm_cls, n_shape=n_shape,\n",
      "                               n_appearance=n_appearance, sampling_step=sampling_step)\n",
      "    \n",
      "elif aam_type is ('LinearGlobalAAM' or 'LinearPatchAAM'):\n",
      "    fitter = LinearAAMFitter(aam, algorithm_cls=algorithm_cls, n_shape=n_shape,\n",
      "                             n_appearance=n_appearance, sampling_step=sampling_step)\n",
      "else:\n",
      "    fitter = PartsAAMFitter(aam, algorithm_cls=algorithm_cls, n_shape=n_shape,\n",
      "                        n_appearance=n_appearance, sampling_mask=sampling_mask)\n",
      "\n",
      "gt_s = i.landmarks[group].lms\n",
      "s = fitter.perturb_shape(gt_s, noise_std=noise_std)\n",
      "\n",
      "% timeit fr = fitter.fit(i, s, gt_shape=gt_s, max_iters=max_iters, prior=prior)"
     ],
     "language": "python",
     "metadata": {},
     "outputs": [
      {
       "output_type": "stream",
       "stream": "stdout",
       "text": [
        "1 loops, best of 3: 563 ms per loop\n"
       ]
      }
     ],
     "prompt_number": 78
    },
    {
     "cell_type": "heading",
     "level": 4,
     "metadata": {},
     "source": [
      "ASC"
     ]
    },
    {
     "cell_type": "code",
     "collapsed": false,
     "input": [
      "from alabortijcv2015.aam import PartsAAMFitter\n",
      "from alabortijcv2015.aam.algorithm import ASC\n",
      "\n",
      "algorithm_cls = ASC\n",
      "\n",
      "if aam_type is ('GlobalAAM' or 'PatchAAM'):\n",
      "    fitter = StandardAAMFitter(aam, algorithm_cls=algorithm_cls, n_shape=n_shape,\n",
      "                               n_appearance=n_appearance, sampling_step=sampling_step)\n",
      "    \n",
      "elif aam_type is ('LinearGlobalAAM' or 'LinearPatchAAM'):\n",
      "    fitter = LinearAAMFitter(aam, algorithm_cls=algorithm_cls, n_shape=n_shape,\n",
      "                             n_appearance=n_appearance, sampling_step=sampling_step)\n",
      "else:\n",
      "    fitter = PartsAAMFitter(aam, algorithm_cls=algorithm_cls, n_shape=n_shape,\n",
      "                        n_appearance=n_appearance, sampling_mask=sampling_mask)\n",
      "\n",
      "gt_s = i.landmarks[group].lms\n",
      "s = fitter.perturb_shape(gt_s, noise_std=noise_std)\n",
      "\n",
      "% timeit fr = fitter.fit(i, s, gt_shape=gt_s, max_iters=max_iters, prior=prior)"
     ],
     "language": "python",
     "metadata": {},
     "outputs": [
      {
       "output_type": "stream",
       "stream": "stdout",
       "text": [
        "1 loops, best of 3: 184 ms per loop\n"
       ]
      }
     ],
     "prompt_number": 95
    },
    {
     "cell_type": "heading",
     "level": 4,
     "metadata": {},
     "source": [
      "ABC"
     ]
    },
    {
     "cell_type": "code",
     "collapsed": false,
     "input": [
      "from alabortijcv2015.aam import PartsAAMFitter\n",
      "from alabortijcv2015.aam.algorithm import ABC\n",
      "\n",
      "algorithm_cls = ABC\n",
      "\n",
      "if aam_type is ('GlobalAAM' or 'PatchAAM'):\n",
      "    fitter = StandardAAMFitter(aam, algorithm_cls=algorithm_cls, n_shape=n_shape,\n",
      "                               n_appearance=n_appearance, sampling_step=sampling_step)\n",
      "    \n",
      "elif aam_type is ('LinearGlobalAAM' or 'LinearPatchAAM'):\n",
      "    fitter = LinearAAMFitter(aam, algorithm_cls=algorithm_cls, n_shape=n_shape,\n",
      "                             n_appearance=n_appearance, sampling_step=sampling_step)\n",
      "else:\n",
      "    fitter = PartsAAMFitter(aam, algorithm_cls=algorithm_cls, n_shape=n_shape,\n",
      "                        n_appearance=n_appearance, sampling_mask=sampling_mask)\n",
      "\n",
      "gt_s = i.landmarks[group].lms\n",
      "s = fitter.perturb_shape(gt_s, noise_std=noise_std)\n",
      "\n",
      "% timeit fr = fitter.fit(i, s, gt_shape=gt_s, max_iters=max_iters, prior=prior)"
     ],
     "language": "python",
     "metadata": {},
     "outputs": [
      {
       "output_type": "stream",
       "stream": "stdout",
       "text": [
        "1 loops, best of 3: 261 ms per loop\n"
       ]
      }
     ],
     "prompt_number": 98
    },
    {
     "cell_type": "heading",
     "level": 3,
     "metadata": {},
     "source": [
      "Bayesian Algorithms"
     ]
    },
    {
     "cell_type": "heading",
     "level": 4,
     "metadata": {},
     "source": [
      "BIC"
     ]
    },
    {
     "cell_type": "code",
     "collapsed": false,
     "input": [
      "from alabortijcv2015.aam import PartsAAMFitter\n",
      "from alabortijcv2015.aam.algorithm import BIC\n",
      "\n",
      "algorithm_cls = BIC\n",
      "\n",
      "if aam_type is ('GlobalAAM' or 'PatchAAM'):\n",
      "    fitter = StandardAAMFitter(aam, algorithm_cls=algorithm_cls, n_shape=n_shape,\n",
      "                               n_appearance=n_appearance, sampling_step=sampling_step)\n",
      "    \n",
      "elif aam_type is ('LinearGlobalAAM' or 'LinearPatchAAM'):\n",
      "    fitter = LinearAAMFitter(aam, algorithm_cls=algorithm_cls, n_shape=n_shape,\n",
      "                             n_appearance=n_appearance, sampling_step=sampling_step)\n",
      "else:\n",
      "    fitter = PartsAAMFitter(aam, algorithm_cls=algorithm_cls, n_shape=n_shape,\n",
      "                        n_appearance=n_appearance, sampling_mask=sampling_mask)\n",
      "\n",
      "gt_s = i.landmarks[group].lms\n",
      "s = fitter.perturb_shape(gt_s, noise_std=noise_std)\n",
      "\n",
      "% timeit fr = fitter.fit(i, s, gt_shape=gt_s, max_iters=max_iters, prior=prior)"
     ],
     "language": "python",
     "metadata": {},
     "outputs": [
      {
       "output_type": "stream",
       "stream": "stdout",
       "text": [
        "10 loops, best of 3: 79.2 ms per loop\n"
       ]
      }
     ],
     "prompt_number": 59
    },
    {
     "cell_type": "heading",
     "level": 4,
     "metadata": {},
     "source": [
      "BICN"
     ]
    },
    {
     "cell_type": "code",
     "collapsed": false,
     "input": [
      "from alabortijcv2015.aam import PartsAAMFitter\n",
      "from alabortijcv2015.aam.algorithm import BICN\n",
      "\n",
      "algorithm_cls = BICN\n",
      "\n",
      "if aam_type is ('GlobalAAM' or 'PatchAAM'):\n",
      "    fitter = StandardAAMFitter(aam, algorithm_cls=algorithm_cls, n_shape=n_shape,\n",
      "                               n_appearance=n_appearance, sampling_step=sampling_step)\n",
      "    \n",
      "elif aam_type is ('LinearGlobalAAM' or 'LinearPatchAAM'):\n",
      "    fitter = LinearAAMFitter(aam, algorithm_cls=algorithm_cls, n_shape=n_shape,\n",
      "                             n_appearance=n_appearance, sampling_step=sampling_step)\n",
      "else:\n",
      "    fitter = PartsAAMFitter(aam, algorithm_cls=algorithm_cls, n_shape=n_shape,\n",
      "                        n_appearance=n_appearance, sampling_mask=sampling_mask)\n",
      "\n",
      "gt_s = i.landmarks[group].lms\n",
      "s = fitter.perturb_shape(gt_s, noise_std=noise_std)\n",
      "\n",
      "% timeit fr = fitter.fit(i, s, gt_shape=gt_s, max_iters=max_iters, prior=prior)"
     ],
     "language": "python",
     "metadata": {},
     "outputs": [
      {
       "output_type": "stream",
       "stream": "stdout",
       "text": [
        "10 loops, best of 3: 90.4 ms per loop\n"
       ]
      }
     ],
     "prompt_number": 60
    },
    {
     "cell_type": "heading",
     "level": 4,
     "metadata": {},
     "source": [
      "BFC"
     ]
    },
    {
     "cell_type": "code",
     "collapsed": false,
     "input": [
      "from alabortijcv2015.aam import PartsAAMFitter\n",
      "from alabortijcv2015.aam.algorithm import BFC\n",
      "\n",
      "algorithm_cls = BFC\n",
      "\n",
      "if aam_type is ('GlobalAAM' or 'PatchAAM'):\n",
      "    fitter = StandardAAMFitter(aam, algorithm_cls=algorithm_cls, n_shape=n_shape,\n",
      "                               n_appearance=n_appearance, sampling_step=sampling_step)\n",
      "    \n",
      "elif aam_type is ('LinearGlobalAAM' or 'LinearPatchAAM'):\n",
      "    fitter = LinearAAMFitter(aam, algorithm_cls=algorithm_cls, n_shape=n_shape,\n",
      "                             n_appearance=n_appearance, sampling_step=sampling_step)\n",
      "else:\n",
      "    fitter = PartsAAMFitter(aam, algorithm_cls=algorithm_cls, n_shape=n_shape,\n",
      "                        n_appearance=n_appearance, sampling_mask=sampling_mask)\n",
      "\n",
      "gt_s = i.landmarks[group].lms\n",
      "s = fitter.perturb_shape(gt_s, noise_std=noise_std)\n",
      "\n",
      "% timeit fr = fitter.fit(i, s, gt_shape=gt_s, max_iters=max_iters, prior=prior)"
     ],
     "language": "python",
     "metadata": {},
     "outputs": [
      {
       "output_type": "stream",
       "stream": "stdout",
       "text": [
        "10 loops, best of 3: 139 ms per loop\n"
       ]
      }
     ],
     "prompt_number": 61
    },
    {
     "cell_type": "heading",
     "level": 4,
     "metadata": {},
     "source": [
      "BFCN"
     ]
    },
    {
     "cell_type": "code",
     "collapsed": false,
     "input": [
      "from alabortijcv2015.aam import PartsAAMFitter\n",
      "from alabortijcv2015.aam.algorithm import BFCN\n",
      "\n",
      "algorithm_cls = BFCN\n",
      "\n",
      "if aam_type is ('GlobalAAM' or 'PatchAAM'):\n",
      "    fitter = StandardAAMFitter(aam, algorithm_cls=algorithm_cls, n_shape=n_shape,\n",
      "                               n_appearance=n_appearance, sampling_step=sampling_step)\n",
      "    \n",
      "elif aam_type is ('LinearGlobalAAM' or 'LinearPatchAAM'):\n",
      "    fitter = LinearAAMFitter(aam, algorithm_cls=algorithm_cls, n_shape=n_shape,\n",
      "                             n_appearance=n_appearance, sampling_step=sampling_step)\n",
      "else:\n",
      "    fitter = PartsAAMFitter(aam, algorithm_cls=algorithm_cls, n_shape=n_shape,\n",
      "                        n_appearance=n_appearance, sampling_mask=sampling_mask)\n",
      "\n",
      "gt_s = i.landmarks[group].lms\n",
      "s = fitter.perturb_shape(gt_s, noise_std=noise_std)\n",
      "\n",
      "% timeit fr = fitter.fit(i, s, gt_shape=gt_s, max_iters=max_iters, prior=prior)"
     ],
     "language": "python",
     "metadata": {},
     "outputs": [
      {
       "ename": "LinAlgError",
       "evalue": "Singular matrix",
       "output_type": "pyerr",
       "traceback": [
        "\u001b[1;31m---------------------------------------------------------------------------\u001b[0m\n\u001b[1;31mLinAlgError\u001b[0m                               Traceback (most recent call last)",
        "\u001b[1;32m<ipython-input-64-2c3e686a67c4>\u001b[0m in \u001b[0;36m<module>\u001b[1;34m()\u001b[0m\n\u001b[0;32m      8\u001b[0m \u001b[0ms\u001b[0m \u001b[1;33m=\u001b[0m \u001b[0mfitter\u001b[0m\u001b[1;33m.\u001b[0m\u001b[0mperturb_shape\u001b[0m\u001b[1;33m(\u001b[0m\u001b[0mgt_s\u001b[0m\u001b[1;33m,\u001b[0m \u001b[0mnoise_std\u001b[0m\u001b[1;33m=\u001b[0m\u001b[0mnoise_std\u001b[0m\u001b[1;33m)\u001b[0m\u001b[1;33m\u001b[0m\u001b[0m\n\u001b[0;32m      9\u001b[0m \u001b[1;33m\u001b[0m\u001b[0m\n\u001b[1;32m---> 10\u001b[1;33m \u001b[0mget_ipython\u001b[0m\u001b[1;33m(\u001b[0m\u001b[1;33m)\u001b[0m\u001b[1;33m.\u001b[0m\u001b[0mmagic\u001b[0m\u001b[1;33m(\u001b[0m\u001b[1;34mu'timeit fr = fitter.fit(i, s, gt_shape=gt_s, max_iters=max_iters, prior=prior)'\u001b[0m\u001b[1;33m)\u001b[0m\u001b[1;33m\u001b[0m\u001b[0m\n\u001b[0m",
        "\u001b[1;32m/data/installed/anaconda/envs/menpo/lib/python2.7/site-packages/IPython/core/interactiveshell.pyc\u001b[0m in \u001b[0;36mmagic\u001b[1;34m(self, arg_s)\u001b[0m\n\u001b[0;32m   2203\u001b[0m         \u001b[0mmagic_name\u001b[0m\u001b[1;33m,\u001b[0m \u001b[0m_\u001b[0m\u001b[1;33m,\u001b[0m \u001b[0mmagic_arg_s\u001b[0m \u001b[1;33m=\u001b[0m \u001b[0marg_s\u001b[0m\u001b[1;33m.\u001b[0m\u001b[0mpartition\u001b[0m\u001b[1;33m(\u001b[0m\u001b[1;34m' '\u001b[0m\u001b[1;33m)\u001b[0m\u001b[1;33m\u001b[0m\u001b[0m\n\u001b[0;32m   2204\u001b[0m         \u001b[0mmagic_name\u001b[0m \u001b[1;33m=\u001b[0m \u001b[0mmagic_name\u001b[0m\u001b[1;33m.\u001b[0m\u001b[0mlstrip\u001b[0m\u001b[1;33m(\u001b[0m\u001b[0mprefilter\u001b[0m\u001b[1;33m.\u001b[0m\u001b[0mESC_MAGIC\u001b[0m\u001b[1;33m)\u001b[0m\u001b[1;33m\u001b[0m\u001b[0m\n\u001b[1;32m-> 2205\u001b[1;33m         \u001b[1;32mreturn\u001b[0m \u001b[0mself\u001b[0m\u001b[1;33m.\u001b[0m\u001b[0mrun_line_magic\u001b[0m\u001b[1;33m(\u001b[0m\u001b[0mmagic_name\u001b[0m\u001b[1;33m,\u001b[0m \u001b[0mmagic_arg_s\u001b[0m\u001b[1;33m)\u001b[0m\u001b[1;33m\u001b[0m\u001b[0m\n\u001b[0m\u001b[0;32m   2206\u001b[0m \u001b[1;33m\u001b[0m\u001b[0m\n\u001b[0;32m   2207\u001b[0m     \u001b[1;31m#-------------------------------------------------------------------------\u001b[0m\u001b[1;33m\u001b[0m\u001b[1;33m\u001b[0m\u001b[0m\n",
        "\u001b[1;32m/data/installed/anaconda/envs/menpo/lib/python2.7/site-packages/IPython/core/interactiveshell.pyc\u001b[0m in \u001b[0;36mrun_line_magic\u001b[1;34m(self, magic_name, line)\u001b[0m\n\u001b[0;32m   2124\u001b[0m                 \u001b[0mkwargs\u001b[0m\u001b[1;33m[\u001b[0m\u001b[1;34m'local_ns'\u001b[0m\u001b[1;33m]\u001b[0m \u001b[1;33m=\u001b[0m \u001b[0msys\u001b[0m\u001b[1;33m.\u001b[0m\u001b[0m_getframe\u001b[0m\u001b[1;33m(\u001b[0m\u001b[0mstack_depth\u001b[0m\u001b[1;33m)\u001b[0m\u001b[1;33m.\u001b[0m\u001b[0mf_locals\u001b[0m\u001b[1;33m\u001b[0m\u001b[0m\n\u001b[0;32m   2125\u001b[0m             \u001b[1;32mwith\u001b[0m \u001b[0mself\u001b[0m\u001b[1;33m.\u001b[0m\u001b[0mbuiltin_trap\u001b[0m\u001b[1;33m:\u001b[0m\u001b[1;33m\u001b[0m\u001b[0m\n\u001b[1;32m-> 2126\u001b[1;33m                 \u001b[0mresult\u001b[0m \u001b[1;33m=\u001b[0m \u001b[0mfn\u001b[0m\u001b[1;33m(\u001b[0m\u001b[1;33m*\u001b[0m\u001b[0margs\u001b[0m\u001b[1;33m,\u001b[0m\u001b[1;33m**\u001b[0m\u001b[0mkwargs\u001b[0m\u001b[1;33m)\u001b[0m\u001b[1;33m\u001b[0m\u001b[0m\n\u001b[0m\u001b[0;32m   2127\u001b[0m             \u001b[1;32mreturn\u001b[0m \u001b[0mresult\u001b[0m\u001b[1;33m\u001b[0m\u001b[0m\n\u001b[0;32m   2128\u001b[0m \u001b[1;33m\u001b[0m\u001b[0m\n",
        "\u001b[1;32m/data/installed/anaconda/envs/menpo/lib/python2.7/site-packages/IPython/core/magics/execution.pyc\u001b[0m in \u001b[0;36mtimeit\u001b[1;34m(self, line, cell)\u001b[0m\n",
        "\u001b[1;32m/data/installed/anaconda/envs/menpo/lib/python2.7/site-packages/IPython/core/magic.pyc\u001b[0m in \u001b[0;36m<lambda>\u001b[1;34m(f, *a, **k)\u001b[0m\n\u001b[0;32m    191\u001b[0m     \u001b[1;31m# but it's overkill for just that one bit of state.\u001b[0m\u001b[1;33m\u001b[0m\u001b[1;33m\u001b[0m\u001b[0m\n\u001b[0;32m    192\u001b[0m     \u001b[1;32mdef\u001b[0m \u001b[0mmagic_deco\u001b[0m\u001b[1;33m(\u001b[0m\u001b[0marg\u001b[0m\u001b[1;33m)\u001b[0m\u001b[1;33m:\u001b[0m\u001b[1;33m\u001b[0m\u001b[0m\n\u001b[1;32m--> 193\u001b[1;33m         \u001b[0mcall\u001b[0m \u001b[1;33m=\u001b[0m \u001b[1;32mlambda\u001b[0m \u001b[0mf\u001b[0m\u001b[1;33m,\u001b[0m \u001b[1;33m*\u001b[0m\u001b[0ma\u001b[0m\u001b[1;33m,\u001b[0m \u001b[1;33m**\u001b[0m\u001b[0mk\u001b[0m\u001b[1;33m:\u001b[0m \u001b[0mf\u001b[0m\u001b[1;33m(\u001b[0m\u001b[1;33m*\u001b[0m\u001b[0ma\u001b[0m\u001b[1;33m,\u001b[0m \u001b[1;33m**\u001b[0m\u001b[0mk\u001b[0m\u001b[1;33m)\u001b[0m\u001b[1;33m\u001b[0m\u001b[0m\n\u001b[0m\u001b[0;32m    194\u001b[0m \u001b[1;33m\u001b[0m\u001b[0m\n\u001b[0;32m    195\u001b[0m         \u001b[1;32mif\u001b[0m \u001b[0mcallable\u001b[0m\u001b[1;33m(\u001b[0m\u001b[0marg\u001b[0m\u001b[1;33m)\u001b[0m\u001b[1;33m:\u001b[0m\u001b[1;33m\u001b[0m\u001b[0m\n",
        "\u001b[1;32m/data/installed/anaconda/envs/menpo/lib/python2.7/site-packages/IPython/core/magics/execution.pyc\u001b[0m in \u001b[0;36mtimeit\u001b[1;34m(self, line, cell)\u001b[0m\n\u001b[0;32m   1011\u001b[0m             \u001b[0mnumber\u001b[0m \u001b[1;33m=\u001b[0m \u001b[1;36m1\u001b[0m\u001b[1;33m\u001b[0m\u001b[0m\n\u001b[0;32m   1012\u001b[0m             \u001b[1;32mfor\u001b[0m \u001b[0m_\u001b[0m \u001b[1;32min\u001b[0m \u001b[0mrange\u001b[0m\u001b[1;33m(\u001b[0m\u001b[1;36m1\u001b[0m\u001b[1;33m,\u001b[0m \u001b[1;36m10\u001b[0m\u001b[1;33m)\u001b[0m\u001b[1;33m:\u001b[0m\u001b[1;33m\u001b[0m\u001b[0m\n\u001b[1;32m-> 1013\u001b[1;33m                 \u001b[1;32mif\u001b[0m \u001b[0mtimer\u001b[0m\u001b[1;33m.\u001b[0m\u001b[0mtimeit\u001b[0m\u001b[1;33m(\u001b[0m\u001b[0mnumber\u001b[0m\u001b[1;33m)\u001b[0m \u001b[1;33m>=\u001b[0m \u001b[1;36m0.2\u001b[0m\u001b[1;33m:\u001b[0m\u001b[1;33m\u001b[0m\u001b[0m\n\u001b[0m\u001b[0;32m   1014\u001b[0m                     \u001b[1;32mbreak\u001b[0m\u001b[1;33m\u001b[0m\u001b[0m\n\u001b[0;32m   1015\u001b[0m                 \u001b[0mnumber\u001b[0m \u001b[1;33m*=\u001b[0m \u001b[1;36m10\u001b[0m\u001b[1;33m\u001b[0m\u001b[0m\n",
        "\u001b[1;32m/data/installed/anaconda/envs/menpo/lib/python2.7/timeit.pyc\u001b[0m in \u001b[0;36mtimeit\u001b[1;34m(self, number)\u001b[0m\n\u001b[0;32m    193\u001b[0m         \u001b[0mgc\u001b[0m\u001b[1;33m.\u001b[0m\u001b[0mdisable\u001b[0m\u001b[1;33m(\u001b[0m\u001b[1;33m)\u001b[0m\u001b[1;33m\u001b[0m\u001b[0m\n\u001b[0;32m    194\u001b[0m         \u001b[1;32mtry\u001b[0m\u001b[1;33m:\u001b[0m\u001b[1;33m\u001b[0m\u001b[0m\n\u001b[1;32m--> 195\u001b[1;33m             \u001b[0mtiming\u001b[0m \u001b[1;33m=\u001b[0m \u001b[0mself\u001b[0m\u001b[1;33m.\u001b[0m\u001b[0minner\u001b[0m\u001b[1;33m(\u001b[0m\u001b[0mit\u001b[0m\u001b[1;33m,\u001b[0m \u001b[0mself\u001b[0m\u001b[1;33m.\u001b[0m\u001b[0mtimer\u001b[0m\u001b[1;33m)\u001b[0m\u001b[1;33m\u001b[0m\u001b[0m\n\u001b[0m\u001b[0;32m    196\u001b[0m         \u001b[1;32mfinally\u001b[0m\u001b[1;33m:\u001b[0m\u001b[1;33m\u001b[0m\u001b[0m\n\u001b[0;32m    197\u001b[0m             \u001b[1;32mif\u001b[0m \u001b[0mgcold\u001b[0m\u001b[1;33m:\u001b[0m\u001b[1;33m\u001b[0m\u001b[0m\n",
        "\u001b[1;32m<magic-timeit>\u001b[0m in \u001b[0;36minner\u001b[1;34m(_it, _timer)\u001b[0m\n",
        "\u001b[1;32m/data/pythondev/src/alabortijcv2015/alabortijcv2015/fitter.pyc\u001b[0m in \u001b[0;36mfit\u001b[1;34m(self, image, initial_shape, max_iters, gt_shape, **kwargs)\u001b[0m\n\u001b[0;32m    134\u001b[0m         algorithm_results = self._fit(images, initial_shapes[0],\n\u001b[0;32m    135\u001b[0m                                       \u001b[0mmax_iters\u001b[0m\u001b[1;33m=\u001b[0m\u001b[0mmax_iters\u001b[0m\u001b[1;33m,\u001b[0m\u001b[1;33m\u001b[0m\u001b[0m\n\u001b[1;32m--> 136\u001b[1;33m                                       gt_shapes=gt_shapes, **kwargs)\n\u001b[0m\u001b[0;32m    137\u001b[0m \u001b[1;33m\u001b[0m\u001b[0m\n\u001b[0;32m    138\u001b[0m         \u001b[1;31m# build multilevel fitting result\u001b[0m\u001b[1;33m\u001b[0m\u001b[1;33m\u001b[0m\u001b[0m\n",
        "\u001b[1;32m/data/pythondev/src/alabortijcv2015/alabortijcv2015/fitter.pyc\u001b[0m in \u001b[0;36m_fit\u001b[1;34m(self, images, initial_shape, gt_shapes, max_iters, **kwargs)\u001b[0m\n\u001b[0;32m    311\u001b[0m \u001b[1;33m\u001b[0m\u001b[0m\n\u001b[0;32m    312\u001b[0m             algorithm_result = alg.run(i, shape, gt_shape=gt_shape,\n\u001b[1;32m--> 313\u001b[1;33m                                        max_iters=it, **kwargs)\n\u001b[0m\u001b[0;32m    314\u001b[0m             \u001b[0malgorithm_results\u001b[0m\u001b[1;33m.\u001b[0m\u001b[0mappend\u001b[0m\u001b[1;33m(\u001b[0m\u001b[0malgorithm_result\u001b[0m\u001b[1;33m)\u001b[0m\u001b[1;33m\u001b[0m\u001b[0m\n\u001b[0;32m    315\u001b[0m \u001b[1;33m\u001b[0m\u001b[0m\n",
        "\u001b[1;32m/data/pythondev/src/alabortijcv2015/alabortijcv2015/aam/algorithm.pyc\u001b[0m in \u001b[0;36mrun\u001b[1;34m(self, image, initial_shape, gt_shape, max_iters, prior, l)\u001b[0m\n\u001b[0;32m   2107\u001b[0m \u001b[1;33m\u001b[0m\u001b[0m\n\u001b[0;32m   2108\u001b[0m             \u001b[1;31m# compute gauss-newton parameter updates\u001b[0m\u001b[1;33m\u001b[0m\u001b[1;33m\u001b[0m\u001b[0m\n\u001b[1;32m-> 2109\u001b[1;33m             \u001b[0mdp\u001b[0m \u001b[1;33m=\u001b[0m \u001b[0mself\u001b[0m\u001b[1;33m.\u001b[0m\u001b[0minterface\u001b[0m\u001b[1;33m.\u001b[0m\u001b[0msolve\u001b[0m\u001b[1;33m(\u001b[0m\u001b[0mh\u001b[0m\u001b[1;33m,\u001b[0m \u001b[0mj\u001b[0m\u001b[1;33m,\u001b[0m \u001b[0me\u001b[0m\u001b[1;33m,\u001b[0m \u001b[0mprior\u001b[0m\u001b[1;33m)\u001b[0m\u001b[1;33m\u001b[0m\u001b[0m\n\u001b[0m\u001b[0;32m   2110\u001b[0m \u001b[1;33m\u001b[0m\u001b[0m\n\u001b[0;32m   2111\u001b[0m             \u001b[1;31m# update transform\u001b[0m\u001b[1;33m\u001b[0m\u001b[1;33m\u001b[0m\u001b[0m\n",
        "\u001b[1;32m/data/pythondev/src/alabortijcv2015/alabortijcv2015/aam/algorithm.pyc\u001b[0m in \u001b[0;36msolve\u001b[1;34m(self, h, j, e, prior)\u001b[0m\n\u001b[0;32m    259\u001b[0m                                   t.j_prior * t.as_vector() - j.T.dot(e))\n\u001b[0;32m    260\u001b[0m         \u001b[1;32melse\u001b[0m\u001b[1;33m:\u001b[0m\u001b[1;33m\u001b[0m\u001b[0m\n\u001b[1;32m--> 261\u001b[1;33m             \u001b[0mdp\u001b[0m \u001b[1;33m=\u001b[0m \u001b[0mnp\u001b[0m\u001b[1;33m.\u001b[0m\u001b[0mlinalg\u001b[0m\u001b[1;33m.\u001b[0m\u001b[0msolve\u001b[0m\u001b[1;33m(\u001b[0m\u001b[0mh\u001b[0m\u001b[1;33m,\u001b[0m \u001b[0mj\u001b[0m\u001b[1;33m.\u001b[0m\u001b[0mT\u001b[0m\u001b[1;33m.\u001b[0m\u001b[0mdot\u001b[0m\u001b[1;33m(\u001b[0m\u001b[0me\u001b[0m\u001b[1;33m)\u001b[0m\u001b[1;33m)\u001b[0m\u001b[1;33m\u001b[0m\u001b[0m\n\u001b[0m\u001b[0;32m    262\u001b[0m \u001b[1;33m\u001b[0m\u001b[0m\n\u001b[0;32m    263\u001b[0m         \u001b[1;32mreturn\u001b[0m \u001b[0mdp\u001b[0m\u001b[1;33m\u001b[0m\u001b[0m\n",
        "\u001b[1;32m/data/installed/anaconda/envs/menpo/lib/python2.7/site-packages/numpy/linalg/linalg.pyc\u001b[0m in \u001b[0;36msolve\u001b[1;34m(a, b)\u001b[0m\n\u001b[0;32m    379\u001b[0m     \u001b[0msignature\u001b[0m \u001b[1;33m=\u001b[0m \u001b[1;34m'DD->D'\u001b[0m \u001b[1;32mif\u001b[0m \u001b[0misComplexType\u001b[0m\u001b[1;33m(\u001b[0m\u001b[0mt\u001b[0m\u001b[1;33m)\u001b[0m \u001b[1;32melse\u001b[0m \u001b[1;34m'dd->d'\u001b[0m\u001b[1;33m\u001b[0m\u001b[0m\n\u001b[0;32m    380\u001b[0m     \u001b[0mextobj\u001b[0m \u001b[1;33m=\u001b[0m \u001b[0mget_linalg_error_extobj\u001b[0m\u001b[1;33m(\u001b[0m\u001b[0m_raise_linalgerror_singular\u001b[0m\u001b[1;33m)\u001b[0m\u001b[1;33m\u001b[0m\u001b[0m\n\u001b[1;32m--> 381\u001b[1;33m     \u001b[0mr\u001b[0m \u001b[1;33m=\u001b[0m \u001b[0mgufunc\u001b[0m\u001b[1;33m(\u001b[0m\u001b[0ma\u001b[0m\u001b[1;33m,\u001b[0m \u001b[0mb\u001b[0m\u001b[1;33m,\u001b[0m \u001b[0msignature\u001b[0m\u001b[1;33m=\u001b[0m\u001b[0msignature\u001b[0m\u001b[1;33m,\u001b[0m \u001b[0mextobj\u001b[0m\u001b[1;33m=\u001b[0m\u001b[0mextobj\u001b[0m\u001b[1;33m)\u001b[0m\u001b[1;33m\u001b[0m\u001b[0m\n\u001b[0m\u001b[0;32m    382\u001b[0m \u001b[1;33m\u001b[0m\u001b[0m\n\u001b[0;32m    383\u001b[0m     \u001b[1;32mreturn\u001b[0m \u001b[0mwrap\u001b[0m\u001b[1;33m(\u001b[0m\u001b[0mr\u001b[0m\u001b[1;33m.\u001b[0m\u001b[0mastype\u001b[0m\u001b[1;33m(\u001b[0m\u001b[0mresult_t\u001b[0m\u001b[1;33m)\u001b[0m\u001b[1;33m)\u001b[0m\u001b[1;33m\u001b[0m\u001b[0m\n",
        "\u001b[1;32m/data/installed/anaconda/envs/menpo/lib/python2.7/site-packages/numpy/linalg/linalg.pyc\u001b[0m in \u001b[0;36m_raise_linalgerror_singular\u001b[1;34m(err, flag)\u001b[0m\n\u001b[0;32m     88\u001b[0m \u001b[1;33m\u001b[0m\u001b[0m\n\u001b[0;32m     89\u001b[0m \u001b[1;32mdef\u001b[0m \u001b[0m_raise_linalgerror_singular\u001b[0m\u001b[1;33m(\u001b[0m\u001b[0merr\u001b[0m\u001b[1;33m,\u001b[0m \u001b[0mflag\u001b[0m\u001b[1;33m)\u001b[0m\u001b[1;33m:\u001b[0m\u001b[1;33m\u001b[0m\u001b[0m\n\u001b[1;32m---> 90\u001b[1;33m     \u001b[1;32mraise\u001b[0m \u001b[0mLinAlgError\u001b[0m\u001b[1;33m(\u001b[0m\u001b[1;34m\"Singular matrix\"\u001b[0m\u001b[1;33m)\u001b[0m\u001b[1;33m\u001b[0m\u001b[0m\n\u001b[0m\u001b[0;32m     91\u001b[0m \u001b[1;33m\u001b[0m\u001b[0m\n\u001b[0;32m     92\u001b[0m \u001b[1;32mdef\u001b[0m \u001b[0m_raise_linalgerror_nonposdef\u001b[0m\u001b[1;33m(\u001b[0m\u001b[0merr\u001b[0m\u001b[1;33m,\u001b[0m \u001b[0mflag\u001b[0m\u001b[1;33m)\u001b[0m\u001b[1;33m:\u001b[0m\u001b[1;33m\u001b[0m\u001b[0m\n",
        "\u001b[1;31mLinAlgError\u001b[0m: Singular matrix"
       ]
      }
     ],
     "prompt_number": 64
    },
    {
     "cell_type": "heading",
     "level": 4,
     "metadata": {},
     "source": [
      "BSC"
     ]
    },
    {
     "cell_type": "code",
     "collapsed": false,
     "input": [
      "from alabortijcv2015.aam import PartsAAMFitter\n",
      "from alabortijcv2015.aam.algorithm import BSC\n",
      "\n",
      "algorithm_cls = BSC\n",
      "\n",
      "if aam_type is ('GlobalAAM' or 'PatchAAM'):\n",
      "    fitter = StandardAAMFitter(aam, algorithm_cls=algorithm_cls, n_shape=n_shape,\n",
      "                               n_appearance=n_appearance, sampling_step=sampling_step)\n",
      "    \n",
      "elif aam_type is ('LinearGlobalAAM' or 'LinearPatchAAM'):\n",
      "    fitter = LinearAAMFitter(aam, algorithm_cls=algorithm_cls, n_shape=n_shape,\n",
      "                             n_appearance=n_appearance, sampling_step=sampling_step)\n",
      "else:\n",
      "    fitter = PartsAAMFitter(aam, algorithm_cls=algorithm_cls, n_shape=n_shape,\n",
      "                        n_appearance=n_appearance, sampling_mask=sampling_mask)\n",
      "\n",
      "gt_s = i.landmarks[group].lms\n",
      "s = fitter.perturb_shape(gt_s, noise_std=noise_std)\n",
      "\n",
      "% timeit fr = fitter.fit(i, s, gt_shape=gt_s, max_iters=max_iters, prior=prior)"
     ],
     "language": "python",
     "metadata": {},
     "outputs": [
      {
       "output_type": "stream",
       "stream": "stdout",
       "text": [
        "10 loops, best of 3: 161 ms per loop\n"
       ]
      }
     ],
     "prompt_number": 99
    },
    {
     "cell_type": "heading",
     "level": 4,
     "metadata": {},
     "source": [
      "BBC"
     ]
    },
    {
     "cell_type": "code",
     "collapsed": false,
     "input": [
      "from alabortijcv2015.aam import PartsAAMFitter\n",
      "from alabortijcv2015.aam.algorithm import BBC\n",
      "\n",
      "algorithm_cls = BBC\n",
      "\n",
      "if aam_type is ('GlobalAAM' or 'PatchAAM'):\n",
      "    fitter = StandardAAMFitter(aam, algorithm_cls=algorithm_cls, n_shape=n_shape,\n",
      "                               n_appearance=n_appearance, sampling_step=sampling_step)\n",
      "    \n",
      "elif aam_type is ('LinearGlobalAAM' or 'LinearPatchAAM'):\n",
      "    fitter = LinearAAMFitter(aam, algorithm_cls=algorithm_cls, n_shape=n_shape,\n",
      "                             n_appearance=n_appearance, sampling_step=sampling_step)\n",
      "else:\n",
      "    fitter = PartsAAMFitter(aam, algorithm_cls=algorithm_cls, n_shape=n_shape,\n",
      "                        n_appearance=n_appearance, sampling_mask=sampling_mask)\n",
      "\n",
      "gt_s = i.landmarks[group].lms\n",
      "s = fitter.perturb_shape(gt_s, noise_std=noise_std)\n",
      "\n",
      "% timeit fr = fitter.fit(i, s, gt_shape=gt_s, max_iters=max_iters, prior=prior)"
     ],
     "language": "python",
     "metadata": {},
     "outputs": [
      {
       "output_type": "stream",
       "stream": "stdout",
       "text": [
        "10 loops, best of 3: 200 ms per loop\n"
       ]
      }
     ],
     "prompt_number": 100
    }
   ],
   "metadata": {}
  }
 ]
}